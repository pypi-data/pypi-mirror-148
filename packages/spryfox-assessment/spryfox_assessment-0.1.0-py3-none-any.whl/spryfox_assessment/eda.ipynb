{
 "cells": [
  {
   "cell_type": "code",
   "execution_count": 1,
   "outputs": [],
   "source": [
    "import pandas as pd\n",
    "\n",
    "import seaborn as sns\n",
    "import matplotlib.pyplot as plt"
   ],
   "metadata": {
    "collapsed": false,
    "pycharm": {
     "name": "#%%\n"
    }
   }
  },
  {
   "cell_type": "code",
   "execution_count": 31,
   "outputs": [
    {
     "data": {
      "text/plain": "                event_time             order_id           product_id  \\\n0  2020-04-24 11:50:39 UTC  2294359932054536986  1515966223509089906   \n1  2020-04-24 11:50:39 UTC  2294359932054536986  1515966223509089906   \n2  2020-04-24 14:37:43 UTC  2294444024058086220  2273948319057183658   \n3  2020-04-24 14:37:43 UTC  2294444024058086220  2273948319057183658   \n4  2020-04-24 19:16:21 UTC  2294584263154074236  2273948316817424439   \n\n    category_id                category_code    brand   price       user_id  \n0  2.268105e+18           electronics.tablet  samsung  162.01  1.515916e+18  \n1  2.268105e+18           electronics.tablet  samsung  162.01  1.515916e+18  \n2  2.268105e+18  electronics.audio.headphone   huawei   77.52  1.515916e+18  \n3  2.268105e+18  electronics.audio.headphone   huawei   77.52  1.515916e+18  \n4  2.268105e+18                          NaN  karcher  217.57  1.515916e+18  ",
      "text/html": "<div>\n<style scoped>\n    .dataframe tbody tr th:only-of-type {\n        vertical-align: middle;\n    }\n\n    .dataframe tbody tr th {\n        vertical-align: top;\n    }\n\n    .dataframe thead th {\n        text-align: right;\n    }\n</style>\n<table border=\"1\" class=\"dataframe\">\n  <thead>\n    <tr style=\"text-align: right;\">\n      <th></th>\n      <th>event_time</th>\n      <th>order_id</th>\n      <th>product_id</th>\n      <th>category_id</th>\n      <th>category_code</th>\n      <th>brand</th>\n      <th>price</th>\n      <th>user_id</th>\n    </tr>\n  </thead>\n  <tbody>\n    <tr>\n      <th>0</th>\n      <td>2020-04-24 11:50:39 UTC</td>\n      <td>2294359932054536986</td>\n      <td>1515966223509089906</td>\n      <td>2.268105e+18</td>\n      <td>electronics.tablet</td>\n      <td>samsung</td>\n      <td>162.01</td>\n      <td>1.515916e+18</td>\n    </tr>\n    <tr>\n      <th>1</th>\n      <td>2020-04-24 11:50:39 UTC</td>\n      <td>2294359932054536986</td>\n      <td>1515966223509089906</td>\n      <td>2.268105e+18</td>\n      <td>electronics.tablet</td>\n      <td>samsung</td>\n      <td>162.01</td>\n      <td>1.515916e+18</td>\n    </tr>\n    <tr>\n      <th>2</th>\n      <td>2020-04-24 14:37:43 UTC</td>\n      <td>2294444024058086220</td>\n      <td>2273948319057183658</td>\n      <td>2.268105e+18</td>\n      <td>electronics.audio.headphone</td>\n      <td>huawei</td>\n      <td>77.52</td>\n      <td>1.515916e+18</td>\n    </tr>\n    <tr>\n      <th>3</th>\n      <td>2020-04-24 14:37:43 UTC</td>\n      <td>2294444024058086220</td>\n      <td>2273948319057183658</td>\n      <td>2.268105e+18</td>\n      <td>electronics.audio.headphone</td>\n      <td>huawei</td>\n      <td>77.52</td>\n      <td>1.515916e+18</td>\n    </tr>\n    <tr>\n      <th>4</th>\n      <td>2020-04-24 19:16:21 UTC</td>\n      <td>2294584263154074236</td>\n      <td>2273948316817424439</td>\n      <td>2.268105e+18</td>\n      <td>NaN</td>\n      <td>karcher</td>\n      <td>217.57</td>\n      <td>1.515916e+18</td>\n    </tr>\n  </tbody>\n</table>\n</div>"
     },
     "execution_count": 31,
     "metadata": {},
     "output_type": "execute_result"
    }
   ],
   "source": [
    "df = pd.read_csv(\"dataset.csv\")\n",
    "df.head()"
   ],
   "metadata": {
    "collapsed": false,
    "pycharm": {
     "name": "#%%\n"
    }
   }
  },
  {
   "cell_type": "code",
   "execution_count": 3,
   "outputs": [
    {
     "name": "stdout",
     "output_type": "stream",
     "text": [
      "<class 'pandas.core.frame.DataFrame'>\n",
      "RangeIndex: 2633521 entries, 0 to 2633520\n",
      "Data columns (total 8 columns):\n",
      " #   Column         Non-Null Count    Dtype  \n",
      "---  ------         --------------    -----  \n",
      " 0   event_time     2633521 non-null  object \n",
      " 1   order_id       2633521 non-null  int64  \n",
      " 2   product_id     2633521 non-null  int64  \n",
      " 3   category_id    2201567 non-null  float64\n",
      " 4   category_code  2021319 non-null  object \n",
      " 5   brand          2127516 non-null  object \n",
      " 6   price          2201567 non-null  float64\n",
      " 7   user_id        564169 non-null   float64\n",
      "dtypes: float64(3), int64(2), object(3)\n",
      "memory usage: 160.7+ MB\n"
     ]
    }
   ],
   "source": [
    "df.info(show_counts=True)"
   ],
   "metadata": {
    "collapsed": false,
    "pycharm": {
     "name": "#%%\n"
    }
   }
  },
  {
   "cell_type": "code",
   "execution_count": 63,
   "outputs": [
    {
     "data": {
      "text/plain": "electronics.smartphone              357682\nappliances.kitchen.refrigerators     77386\n16.18                                72969\nelectronics.video.tv                 71711\ncomputers.notebook                   71436\n                                     ...  \n31.25                                    1\n106.43                                   1\n92.34                                    1\n31.94                                    1\n347.20                                   1\nName: category_code, Length: 510, dtype: int64"
     },
     "execution_count": 63,
     "metadata": {},
     "output_type": "execute_result"
    }
   ],
   "source": [
    "df[\"category_code\"].value_counts()"
   ],
   "metadata": {
    "collapsed": false,
    "pycharm": {
     "name": "#%%\n"
    }
   }
  },
  {
   "cell_type": "code",
   "execution_count": 4,
   "outputs": [
    {
     "data": {
      "text/plain": "<Figure size 432x288 with 1 Axes>",
      "image/png": "[encoded data removed]"
     },
     "metadata": {},
     "output_type": "display_data"
    }
   ],
   "source": [
    "plt.hist(df[\"price\"])\n",
    "plt.show()"
   ],
   "metadata": {
    "collapsed": false,
    "pycharm": {
     "name": "#%%\n"
    }
   }
  },
  {
   "cell_type": "code",
   "execution_count": 5,
   "outputs": [
    {
     "data": {
      "text/plain": "<Figure size 432x288 with 1 Axes>",
      "image/png": "[encoded data removed]"
     },
     "metadata": {},
     "output_type": "display_data"
    }
   ],
   "source": [
    "sns.boxplot(data=df,\n",
    "            y=\"price\")\n",
    "plt.show()"
   ],
   "metadata": {
    "collapsed": false,
    "pycharm": {
     "name": "#%%\n"
    }
   }
  },
  {
   "cell_type": "code",
   "execution_count": 6,
   "outputs": [
    {
     "data": {
      "text/plain": "                      event_time             order_id           product_id  \\\n28182    2020-06-25 10:08:37 UTC  2339244674033647628  1515966223509131884   \n28623    2020-06-26 09:10:44 UTC  2339940319191106553  1515966223509566954   \n1144303  2020-05-26 08:12:38 UTC  2353234364520727464  1515966223509105016   \n1153319  2020-05-27 06:37:30 UTC  2353235498996073224  2273948305316643078   \n1627981  2020-07-03 11:59:01 UTC  2353288509000777918  2273948305316643078   \n2270999  2020-09-16 06:46:10 UTC  2388440981134484484  1515966223520801280   \n\n          category_id         category_code    brand     price       user_id  \n28182    2.374499e+18  electronics.video.tv      NaN  18328.68  1.515916e+18  \n28623    2.374499e+18  electronics.video.tv      NaN  13310.16  1.515916e+18  \n1144303  2.374499e+18  electronics.video.tv  samsung  50925.90           NaN  \n1153319  2.268105e+18  electronics.video.tv       lg  11574.05           NaN  \n1627981  2.268105e+18  electronics.video.tv       lg  11574.05  1.515916e+18  \n2270999  2.374499e+18  electronics.video.tv  samsung  10416.64  1.515916e+18  ",
      "text/html": "<div>\n<style scoped>\n    .dataframe tbody tr th:only-of-type {\n        vertical-align: middle;\n    }\n\n    .dataframe tbody tr th {\n        vertical-align: top;\n    }\n\n    .dataframe thead th {\n        text-align: right;\n    }\n</style>\n<table border=\"1\" class=\"dataframe\">\n  <thead>\n    <tr style=\"text-align: right;\">\n      <th></th>\n      <th>event_time</th>\n      <th>order_id</th>\n      <th>product_id</th>\n      <th>category_id</th>\n      <th>category_code</th>\n      <th>brand</th>\n      <th>price</th>\n      <th>user_id</th>\n    </tr>\n  </thead>\n  <tbody>\n    <tr>\n      <th>28182</th>\n      <td>2020-06-25 10:08:37 UTC</td>\n      <td>2339244674033647628</td>\n      <td>1515966223509131884</td>\n      <td>2.374499e+18</td>\n      <td>electronics.video.tv</td>\n      <td>NaN</td>\n      <td>18328.68</td>\n      <td>1.515916e+18</td>\n    </tr>\n    <tr>\n      <th>28623</th>\n      <td>2020-06-26 09:10:44 UTC</td>\n      <td>2339940319191106553</td>\n      <td>1515966223509566954</td>\n      <td>2.374499e+18</td>\n      <td>electronics.video.tv</td>\n      <td>NaN</td>\n      <td>13310.16</td>\n      <td>1.515916e+18</td>\n    </tr>\n    <tr>\n      <th>1144303</th>\n      <td>2020-05-26 08:12:38 UTC</td>\n      <td>2353234364520727464</td>\n      <td>1515966223509105016</td>\n      <td>2.374499e+18</td>\n      <td>electronics.video.tv</td>\n      <td>samsung</td>\n      <td>50925.90</td>\n      <td>NaN</td>\n    </tr>\n    <tr>\n      <th>1153319</th>\n      <td>2020-05-27 06:37:30 UTC</td>\n      <td>2353235498996073224</td>\n      <td>2273948305316643078</td>\n      <td>2.268105e+18</td>\n      <td>electronics.video.tv</td>\n      <td>lg</td>\n      <td>11574.05</td>\n      <td>NaN</td>\n    </tr>\n    <tr>\n      <th>1627981</th>\n      <td>2020-07-03 11:59:01 UTC</td>\n      <td>2353288509000777918</td>\n      <td>2273948305316643078</td>\n      <td>2.268105e+18</td>\n      <td>electronics.video.tv</td>\n      <td>lg</td>\n      <td>11574.05</td>\n      <td>1.515916e+18</td>\n    </tr>\n    <tr>\n      <th>2270999</th>\n      <td>2020-09-16 06:46:10 UTC</td>\n      <td>2388440981134484484</td>\n      <td>1515966223520801280</td>\n      <td>2.374499e+18</td>\n      <td>electronics.video.tv</td>\n      <td>samsung</td>\n      <td>10416.64</td>\n      <td>1.515916e+18</td>\n    </tr>\n  </tbody>\n</table>\n</div>"
     },
     "execution_count": 6,
     "metadata": {},
     "output_type": "execute_result"
    }
   ],
   "source": [
    "df[df[\"price\"] > 10000]"
   ],
   "metadata": {
    "collapsed": false,
    "pycharm": {
     "name": "#%%\n"
    }
   }
  },
  {
   "cell_type": "code",
   "execution_count": 7,
   "outputs": [
    {
     "data": {
      "text/plain": "count    2.201567e+06\nmean     1.540932e+02\nstd      2.419421e+02\nmin      0.000000e+00\n25%      1.456000e+01\n50%      5.553000e+01\n75%      1.967400e+02\nmax      5.092590e+04\nName: price, dtype: float64"
     },
     "execution_count": 7,
     "metadata": {},
     "output_type": "execute_result"
    }
   ],
   "source": [
    "df[\"price\"].describe()"
   ],
   "metadata": {
    "collapsed": false,
    "pycharm": {
     "name": "#%%\n"
    }
   }
  },
  {
   "cell_type": "code",
   "execution_count": 8,
   "outputs": [
    {
     "data": {
      "text/plain": "<Figure size 432x288 with 1 Axes>",
      "image/png": "[encoded data removed]"
     },
     "metadata": {},
     "output_type": "display_data"
    }
   ],
   "source": [
    "new_df = df[df[\"price\"] < 1000]\n",
    "plt.hist(new_df[\"price\"])\n",
    "plt.show()"
   ],
   "metadata": {
    "collapsed": false,
    "pycharm": {
     "name": "#%%\n"
    }
   }
  },
  {
   "cell_type": "code",
   "execution_count": 82,
   "outputs": [
    {
     "name": "stdout",
     "output_type": "stream",
     "text": [
      "<class 'pandas.core.series.Series'>\n",
      "RangeIndex: 2633521 entries, 0 to 2633520\n",
      "Series name: event_time\n",
      "Non-Null Count    Dtype              \n",
      "--------------    -----              \n",
      "2633521 non-null  datetime64[ns, UTC]\n",
      "dtypes: datetime64[ns, UTC](1)\n",
      "memory usage: 20.1 MB\n"
     ]
    }
   ],
   "source": [
    "# convert event_time to datetime\n",
    "df[\"event_time\"] = pd.to_datetime(df[\"event_time\"], format=\"%Y-%m-%d %H:%M:%S %Z\")\n",
    "df[\"event_time\"].info()"
   ],
   "metadata": {
    "collapsed": false,
    "pycharm": {
     "name": "#%%\n"
    }
   }
  },
  {
   "cell_type": "code",
   "execution_count": 99,
   "outputs": [
    {
     "data": {
      "text/plain": "                 event_time             order_id           product_id  \\\n0 2020-04-24 11:50:39+00:00  2294359932054536986  1515966223509089906   \n1 2020-04-24 11:50:39+00:00  2294359932054536986  1515966223509089906   \n2 2020-04-24 14:37:43+00:00  2294444024058086220  2273948319057183658   \n3 2020-04-24 14:37:43+00:00  2294444024058086220  2273948319057183658   \n4 2020-04-24 19:16:21+00:00  2294584263154074236  2273948316817424439   \n\n    category_id                category_code    brand   price       user_id  \\\n0  2.268105e+18           electronics.tablet  samsung  162.01  1.515916e+18   \n1  2.268105e+18           electronics.tablet  samsung  162.01  1.515916e+18   \n2  2.268105e+18  electronics.audio.headphone   huawei   77.52  1.515916e+18   \n3  2.268105e+18  electronics.audio.headphone   huawei   77.52  1.515916e+18   \n4  2.268105e+18                          NaN  karcher  217.57  1.515916e+18   \n\n   time_hours  weekday  \n0          11        4  \n1          11        4  \n2          14        4  \n3          14        4  \n4          19        4  ",
      "text/html": "<div>\n<style scoped>\n    .dataframe tbody tr th:only-of-type {\n        vertical-align: middle;\n    }\n\n    .dataframe tbody tr th {\n        vertical-align: top;\n    }\n\n    .dataframe thead th {\n        text-align: right;\n    }\n</style>\n<table border=\"1\" class=\"dataframe\">\n  <thead>\n    <tr style=\"text-align: right;\">\n      <th></th>\n      <th>event_time</th>\n      <th>order_id</th>\n      <th>product_id</th>\n      <th>category_id</th>\n      <th>category_code</th>\n      <th>brand</th>\n      <th>price</th>\n      <th>user_id</th>\n      <th>time_hours</th>\n      <th>weekday</th>\n    </tr>\n  </thead>\n  <tbody>\n    <tr>\n      <th>0</th>\n      <td>2020-04-24 11:50:39+00:00</td>\n      <td>2294359932054536986</td>\n      <td>1515966223509089906</td>\n      <td>2.268105e+18</td>\n      <td>electronics.tablet</td>\n      <td>samsung</td>\n      <td>162.01</td>\n      <td>1.515916e+18</td>\n      <td>11</td>\n      <td>4</td>\n    </tr>\n    <tr>\n      <th>1</th>\n      <td>2020-04-24 11:50:39+00:00</td>\n      <td>2294359932054536986</td>\n      <td>1515966223509089906</td>\n      <td>2.268105e+18</td>\n      <td>electronics.tablet</td>\n      <td>samsung</td>\n      <td>162.01</td>\n      <td>1.515916e+18</td>\n      <td>11</td>\n      <td>4</td>\n    </tr>\n    <tr>\n      <th>2</th>\n      <td>2020-04-24 14:37:43+00:00</td>\n      <td>2294444024058086220</td>\n      <td>2273948319057183658</td>\n      <td>2.268105e+18</td>\n      <td>electronics.audio.headphone</td>\n      <td>huawei</td>\n      <td>77.52</td>\n      <td>1.515916e+18</td>\n      <td>14</td>\n      <td>4</td>\n    </tr>\n    <tr>\n      <th>3</th>\n      <td>2020-04-24 14:37:43+00:00</td>\n      <td>2294444024058086220</td>\n      <td>2273948319057183658</td>\n      <td>2.268105e+18</td>\n      <td>electronics.audio.headphone</td>\n      <td>huawei</td>\n      <td>77.52</td>\n      <td>1.515916e+18</td>\n      <td>14</td>\n      <td>4</td>\n    </tr>\n    <tr>\n      <th>4</th>\n      <td>2020-04-24 19:16:21+00:00</td>\n      <td>2294584263154074236</td>\n      <td>2273948316817424439</td>\n      <td>2.268105e+18</td>\n      <td>NaN</td>\n      <td>karcher</td>\n      <td>217.57</td>\n      <td>1.515916e+18</td>\n      <td>19</td>\n      <td>4</td>\n    </tr>\n  </tbody>\n</table>\n</div>"
     },
     "execution_count": 99,
     "metadata": {},
     "output_type": "execute_result"
    }
   ],
   "source": [
    "df[\"time_hours\"] = df[\"event_time\"].apply(lambda dt: dt.hour)\n",
    "df[\"weekday\"] = df[\"event_time\"].apply(lambda dt: dt.weekday())\n",
    "\n",
    "df.head()"
   ],
   "metadata": {
    "collapsed": false,
    "pycharm": {
     "name": "#%%\n"
    }
   }
  },
  {
   "cell_type": "code",
   "execution_count": 65,
   "outputs": [
    {
     "data": {
      "text/plain": "brand\nsamsung    90052821.66\napple      47914786.00\nlg         26156031.14\nbosch      11077479.77\nhuawei     10773965.41\nName: price, dtype: float64"
     },
     "execution_count": 65,
     "metadata": {},
     "output_type": "execute_result"
    }
   ],
   "source": [
    "top5 = df.groupby([\"brand\"], dropna=True)[\"price\"].agg(\"sum\").sort_values(ascending=False)[:5]\n",
    "top5"
   ],
   "metadata": {
    "collapsed": false,
    "pycharm": {
     "name": "#%%\n"
    }
   }
  },
  {
   "cell_type": "code",
   "execution_count": 62,
   "outputs": [
    {
     "data": {
      "text/plain": "<Figure size 1008x432 with 1 Axes>",
      "image/png": "[encoded data removed]"
     },
     "metadata": {},
     "output_type": "display_data"
    }
   ],
   "source": [
    "plt.figure(figsize=(14, 6))\n",
    "\n",
    "sns.barplot(x=top5.index,\n",
    "            y=top5.values)\n",
    "\n",
    "plt.xlabel(\"Brand\")\n",
    "plt.ylabel(\"Sales Volume\")\n",
    "plt.show()"
   ],
   "metadata": {
    "collapsed": false,
    "pycharm": {
     "name": "#%%\n"
    }
   }
  },
  {
   "cell_type": "code",
   "execution_count": 68,
   "outputs": [
    {
     "data": {
      "text/plain": "category_code\nelectronics.camera.video         620.713450\nelectronics.camera.photo         504.926867\nconstruction.tools.heater        503.302107\nappliances.kitchen.dishwasher    489.100339\ncomputers.notebook               438.919187\nName: price, dtype: float64"
     },
     "execution_count": 68,
     "metadata": {},
     "output_type": "execute_result"
    }
   ],
   "source": [
    "df.groupby(\"category_code\")[\"price\"].agg(\"mean\").sort_values(ascending=False)[:5]"
   ],
   "metadata": {
    "collapsed": false,
    "pycharm": {
     "name": "#%%\n"
    }
   }
  },
  {
   "cell_type": "code",
   "execution_count": 78,
   "outputs": [
    {
     "data": {
      "text/plain": "brand     category_code              \ncamelion  stationery.battery             14154\nava       appliances.personal.scales     10485\ngenius    computers.peripherals.mouse     9401\nava       appliances.kitchen.kettle       9171\nawax      electronics.smartphone          8577\nName: price, dtype: int64"
     },
     "execution_count": 78,
     "metadata": {},
     "output_type": "execute_result"
    }
   ],
   "source": [
    "trun_df = df[df[\"price\"] < 20]\n",
    "trun_df.groupby([\"brand\", \"category_code\"])[\"price\"].agg(\"count\").sort_values(ascending=False)[:5]"
   ],
   "metadata": {
    "collapsed": false,
    "pycharm": {
     "name": "#%%\n"
    }
   }
  },
  {
   "cell_type": "code",
   "execution_count": 112,
   "outputs": [],
   "source": [
    "def plot_volume(df):\n",
    "    volume = df.groupby(\"weekday\")[\"price\"].agg(\"sum\")\n",
    "\n",
    "    plt.figure(figsize=(14, 6))\n",
    "    sns.barplot(x=volume.index,\n",
    "                y=volume.values)\n",
    "\n",
    "    plt.xlabel(\"Weekday\")\n",
    "    plt.ylabel(\"Sale Volume\")\n",
    "    plt.title(\"Distribution of Sales Volume Over Weekdays\", fontweight=\"bold\")\n",
    "\n",
    "    plt.show()"
   ],
   "metadata": {
    "collapsed": false,
    "pycharm": {
     "name": "#%%\n"
    }
   }
  },
  {
   "cell_type": "code",
   "execution_count": 113,
   "outputs": [
    {
     "data": {
      "text/plain": "<Figure size 1008x432 with 1 Axes>",
      "image/png": "[encoded data removed]"
     },
     "metadata": {},
     "output_type": "display_data"
    }
   ],
   "source": [
    "plot_volume(df)"
   ],
   "metadata": {
    "collapsed": false,
    "pycharm": {
     "name": "#%%\n"
    }
   }
  },
  {
   "cell_type": "code",
   "execution_count": 125,
   "outputs": [],
   "source": [
    "def calculate_total_cost(x, y):\n",
    "    years = df[\"event_time\"].apply(lambda dt: dt.year)\n",
    "    result = df[(years == y) & (df[\"category_code\"] == x)][\"price\"].sum()\n",
    "\n",
    "    return round(result, 2)"
   ],
   "metadata": {
    "collapsed": false,
    "pycharm": {
     "name": "#%%\n"
    }
   }
  },
  {
   "cell_type": "code",
   "execution_count": 126,
   "outputs": [
    {
     "data": {
      "text/plain": "5386653.26"
     },
     "execution_count": 126,
     "metadata": {},
     "output_type": "execute_result"
    }
   ],
   "source": [
    "calculate_total_cost(\"electronics.tablet\", 2020)"
   ],
   "metadata": {
    "collapsed": false,
    "pycharm": {
     "name": "#%%\n"
    }
   }
  },
  {
   "cell_type": "code",
   "execution_count": 139,
   "outputs": [],
   "source": [
    "def calculate_probability(x, y):\n",
    "    trun_df = df[df[\"brand\"] == x]\n",
    "    result = (trun_df[\"price\"] > y).sum() / trun_df.shape[0]\n",
    "\n",
    "    return round(result, 2)"
   ],
   "metadata": {
    "collapsed": false,
    "pycharm": {
     "name": "#%%\n"
    }
   }
  },
  {
   "cell_type": "code",
   "execution_count": 141,
   "outputs": [
    {
     "data": {
      "text/plain": "0.88"
     },
     "execution_count": 141,
     "metadata": {},
     "output_type": "execute_result"
    }
   ],
   "source": [
    "calculate_probability(\"samsung\", 50)"
   ],
   "metadata": {
    "collapsed": false,
    "pycharm": {
     "name": "#%%\n"
    }
   }
  }
 ],
 "metadata": {
  "kernelspec": {
   "display_name": "Python 3",
   "language": "python",
   "name": "python3"
  },
  "language_info": {
   "codemirror_mode": {
    "name": "ipython",
    "version": 2
   },
   "file_extension": ".py",
   "mimetype": "text/x-python",
   "name": "python",
   "nbconvert_exporter": "python",
   "pygments_lexer": "ipython2",
   "version": "2.7.6"
  }
 },
 "nbformat": 4,
 "nbformat_minor": 0
}