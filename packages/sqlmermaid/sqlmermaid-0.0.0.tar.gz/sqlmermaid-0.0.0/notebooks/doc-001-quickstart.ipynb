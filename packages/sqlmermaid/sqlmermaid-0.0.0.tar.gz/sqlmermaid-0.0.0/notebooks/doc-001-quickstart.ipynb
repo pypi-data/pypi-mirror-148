{
 "cells": [
  {
   "cell_type": "code",
   "execution_count": 8,
   "id": "optimum-trinidad",
   "metadata": {},
   "outputs": [],
   "source": [
    "import sqlalchemy as sa\n",
    "\n",
    "from sqlmermaid import get_mermaid\n",
    "\n",
    "\n",
    "metadata_obj = sa.MetaData()"
   ]
  },
  {
   "cell_type": "code",
   "execution_count": 9,
   "id": "raised-castle",
   "metadata": {},
   "outputs": [],
   "source": [
    "user = sa.Table(\n",
    "    \"user\",\n",
    "    metadata_obj,\n",
    "    sa.Column(\"user_id\", sa.Integer, primary_key=True),\n",
    "    sa.Column(\"user_name\", sa.String(16), nullable=False),\n",
    "    sa.Column(\"email_address\", sa.String(60)),\n",
    "    sa.Column(\"nickname\", sa.String(50), nullable=False),\n",
    ")"
   ]
  },
  {
   "cell_type": "code",
   "execution_count": 10,
   "id": "joint-lying",
   "metadata": {},
   "outputs": [],
   "source": [
    "departments = sa.Table(\n",
    "    \"departments\",\n",
    "    metadata_obj,\n",
    "    sa.Column(\"department_id\", sa.Integer, primary_key=True),\n",
    "    sa.Column(\"department_name\", sa.String(60), nullable=False),\n",
    ")"
   ]
  },
  {
   "cell_type": "code",
   "execution_count": 11,
   "id": "southern-princeton",
   "metadata": {},
   "outputs": [],
   "source": [
    "employees = sa.Table(\n",
    "    \"employees\",\n",
    "    metadata_obj,\n",
    "    sa.Column(\"employee_id\", sa.Integer, primary_key=True),\n",
    "    sa.Column(\"employee_name\", sa.String(60), nullable=False),\n",
    "    sa.Column(\"employee_dept\", sa.Integer, sa.ForeignKey(\"departments.department_id\")),\n",
    ")"
   ]
  },
  {
   "cell_type": "code",
   "execution_count": 12,
   "id": "pursuant-thousand",
   "metadata": {},
   "outputs": [],
   "source": [
    "user_complaints = sa.Table(\n",
    "    \"complaints\",\n",
    "    metadata_obj,\n",
    "    sa.Column(\"about_dept\", sa.Integer, sa.ForeignKey(\"departments.department_id\")),\n",
    "    sa.Column(\"by_user\", sa.Integer, sa.ForeignKey(\"user.user_id\")),\n",
    "    sa.Column(\"at_time\", sa.DateTime),\n",
    "    sa.Column(\"text\", sa.String(500)),\n",
    "    sa.Index(\"comp_ind\", \"text\"),\n",
    ")"
   ]
  },
  {
   "cell_type": "code",
   "execution_count": 13,
   "id": "tired-smell",
   "metadata": {},
   "outputs": [],
   "source": [
    "constr = \"sqlite:///db3.sqlite\"  # \"sqlite:///:memory:\"\n",
    "engine = sa.create_engine(constr)\n",
    "metadata_obj.create_all(engine)\n",
    "\n",
    "print(get_mermaid(constr))"
   ]
  }
 ],
 "metadata": {
  "kernelspec": {
   "display_name": "Python 3 (ipykernel)",
   "language": "python",
   "name": "python3"
  },
  "language_info": {
   "codemirror_mode": {
    "name": "ipython",
    "version": 3
   },
   "file_extension": ".py",
   "mimetype": "text/x-python",
   "name": "python",
   "nbconvert_exporter": "python",
   "pygments_lexer": "ipython3",
   "version": "3.8.10"
  }
 },
 "nbformat": 4,
 "nbformat_minor": 5
}
