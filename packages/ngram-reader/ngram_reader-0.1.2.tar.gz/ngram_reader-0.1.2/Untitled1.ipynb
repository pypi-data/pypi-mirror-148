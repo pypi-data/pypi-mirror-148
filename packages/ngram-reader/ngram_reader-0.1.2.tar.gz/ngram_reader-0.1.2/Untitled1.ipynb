{
 "cells": [
  {
   "cell_type": "code",
   "execution_count": null,
   "id": "8189717b-f43d-40ff-bb77-7f4be9162b03",
   "metadata": {},
   "outputs": [],
   "source": [
    "def fact(n):\n",
    "    if n <=1:\n",
    "        return 1\n",
    "    return n * fact(n-1)"
   ]
  },
  {
   "cell_type": "code",
   "execution_count": 1,
   "id": "9e16b2f1-56dc-4c60-9b57-a1a0a5fd624c",
   "metadata": {},
   "outputs": [
    {
     "ename": "SyntaxError",
     "evalue": "'continue' not properly in loop (3465885782.py, line 3)",
     "output_type": "error",
     "traceback": [
      "\u001b[0;36m  Input \u001b[0;32mIn [1]\u001b[0;36m\u001b[0m\n\u001b[0;31m    continue\u001b[0m\n\u001b[0m    ^\u001b[0m\n\u001b[0;31mSyntaxError\u001b[0m\u001b[0;31m:\u001b[0m 'continue' not properly in loop\n"
     ]
    }
   ],
   "source": [
    "class abd:\n",
    "    def a(self):\n",
    "        continue"
   ]
  },
  {
   "cell_type": "code",
   "execution_count": null,
   "id": "581a1353-c50c-4841-ba79-82ae9f7db835",
   "metadata": {},
   "outputs": [],
   "source": [
    "def abcd_prime(n):\n",
    "    count = 0\n",
    "    if n%2 == 0:\n",
    "        return  False\n",
    "    for i in range(1, n/2, 2):\n",
    "        if n%i ==0:\n",
    "            count += 1\n",
    "    if count == 2:\n",
    "        return True\n",
    "    return False"
   ]
  },
  {
   "cell_type": "code",
   "execution_count": null,
   "id": "33073fd2-f11f-4c93-ae04-4ab3cb42bbc0",
   "metadata": {},
   "outputs": [],
   "source": [
    "10 -> 10 * fac(9) -> 9 * fac(8) ......"
   ]
  }
 ],
 "metadata": {
  "kernelspec": {
   "display_name": "Python 3 (ipykernel)",
   "language": "python",
   "name": "python3"
  },
  "language_info": {
   "codemirror_mode": {
    "name": "ipython",
    "version": 3
   },
   "file_extension": ".py",
   "mimetype": "text/x-python",
   "name": "python",
   "nbconvert_exporter": "python",
   "pygments_lexer": "ipython3",
   "version": "3.9.12"
  }
 },
 "nbformat": 4,
 "nbformat_minor": 5
}
