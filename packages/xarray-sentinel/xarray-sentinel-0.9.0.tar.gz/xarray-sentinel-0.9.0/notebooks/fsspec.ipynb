{
 "cells": [
  {
   "cell_type": "code",
   "execution_count": null,
   "id": "f648a743",
   "metadata": {},
   "outputs": [],
   "source": [
    "%load_ext autoreload\n",
    "%autoreload 2\n",
    "\n",
    "%matplotlib inline\n",
    "%config InlineBackend.figure_format = 'retina'\n",
    "\n",
    "import matplotlib.pyplot as plt\n",
    "\n",
    "plt.rcParams[\"figure.figsize\"] = (12, 8)\n",
    "plt.rcParams[\"font.size\"] = 12"
   ]
  },
  {
   "cell_type": "code",
   "execution_count": null,
   "id": "76a45b2f",
   "metadata": {},
   "outputs": [],
   "source": [
    "import xarray as xr\n",
    "\n",
    "import xarray_sentinel"
   ]
  },
  {
   "cell_type": "code",
   "execution_count": null,
   "id": "ec537b7f",
   "metadata": {},
   "outputs": [],
   "source": [
    "product_path = \"zip://*/manifest.safe::data/S1B_S6_GRDH_1SDV_20211216T115438_20211216T115501_030050_03968A_0F8A.zip\"\n",
    "ds = xarray_sentinel.open_sentinel1_dataset(product_path)\n",
    "ds"
   ]
  },
  {
   "cell_type": "code",
   "execution_count": null,
   "id": "2858e010",
   "metadata": {},
   "outputs": [],
   "source": [
    "ds = xarray_sentinel.open_sentinel1_dataset(product_path, group=\"S6/VH/orbit\")\n",
    "ds"
   ]
  },
  {
   "cell_type": "code",
   "execution_count": null,
   "id": "c1d5ec7a",
   "metadata": {
    "scrolled": false
   },
   "outputs": [],
   "source": [
    "ds = xarray_sentinel.open_sentinel1_dataset(product_path, group=\"S6/VH\")\n",
    "ds"
   ]
  },
  {
   "cell_type": "code",
   "execution_count": null,
   "id": "c3bc593b",
   "metadata": {
    "scrolled": false
   },
   "outputs": [],
   "source": [
    "_ = ds.measurement[2000:4000, 2000:4000].plot(vmax=100)"
   ]
  },
  {
   "cell_type": "code",
   "execution_count": null,
   "id": "b72b077d",
   "metadata": {},
   "outputs": [],
   "source": []
  },
  {
   "cell_type": "code",
   "execution_count": null,
   "id": "d260c490",
   "metadata": {},
   "outputs": [],
   "source": [
    "product_path = \"github://bopen:xarray-sentinel@/tests/data/S1B_IW_SLC__1SDV_20210401T052622_20210401T052650_026269_032297_EFA4.SAFE\"\n",
    "ds = xarray_sentinel.open_sentinel1_dataset(product_path)\n",
    "ds"
   ]
  },
  {
   "cell_type": "code",
   "execution_count": null,
   "id": "5a316651",
   "metadata": {},
   "outputs": [],
   "source": [
    "ds = xarray_sentinel.open_sentinel1_dataset(product_path, group=\"IW1/VH/orbit\")\n",
    "ds"
   ]
  },
  {
   "cell_type": "code",
   "execution_count": null,
   "id": "07302996",
   "metadata": {},
   "outputs": [],
   "source": [
    "ds = xarray_sentinel.open_sentinel1_dataset(product_path, group=\"IW1/VH/2\")\n",
    "ds"
   ]
  },
  {
   "cell_type": "code",
   "execution_count": null,
   "id": "6bea7088",
   "metadata": {},
   "outputs": [],
   "source": [
    "abs(ds.measurement).mean().compute()"
   ]
  },
  {
   "cell_type": "code",
   "execution_count": null,
   "id": "cbc3efbc",
   "metadata": {},
   "outputs": [],
   "source": []
  },
  {
   "cell_type": "code",
   "execution_count": null,
   "id": "cf2ea217",
   "metadata": {},
   "outputs": [],
   "source": [
    "product_path = \"zip://*/manifest.safe::github://bopen:xarray-sentinel@/tests/data/S1B_IW_SLC__1SDV_20210401T052622_20210401T052650_026269_032297_EFA4.zip\"\n",
    "ds = xarray_sentinel.open_sentinel1_dataset(product_path)\n",
    "ds"
   ]
  },
  {
   "cell_type": "code",
   "execution_count": null,
   "id": "634089c1",
   "metadata": {},
   "outputs": [],
   "source": [
    "ds = xarray_sentinel.open_sentinel1_dataset(product_path, group=\"IW1/VH/orbit\")\n",
    "ds"
   ]
  },
  {
   "cell_type": "code",
   "execution_count": null,
   "id": "3e656f38",
   "metadata": {},
   "outputs": [],
   "source": [
    "ds = xarray_sentinel.open_sentinel1_dataset(product_path, group=\"IW1/VH/2\")\n",
    "ds"
   ]
  },
  {
   "cell_type": "code",
   "execution_count": null,
   "id": "58bc770e",
   "metadata": {},
   "outputs": [],
   "source": [
    "abs(ds.measurement).mean().compute()"
   ]
  },
  {
   "cell_type": "code",
   "execution_count": null,
   "id": "d8ab1d18",
   "metadata": {},
   "outputs": [],
   "source": []
  }
 ],
 "metadata": {
  "kernelspec": {
   "display_name": "Python 3 (ipykernel)",
   "language": "python",
   "name": "python3"
  },
  "language_info": {
   "codemirror_mode": {
    "name": "ipython",
    "version": 3
   },
   "file_extension": ".py",
   "mimetype": "text/x-python",
   "name": "python",
   "nbconvert_exporter": "python",
   "pygments_lexer": "ipython3",
   "version": "3.9.9"
  }
 },
 "nbformat": 4,
 "nbformat_minor": 5
}
