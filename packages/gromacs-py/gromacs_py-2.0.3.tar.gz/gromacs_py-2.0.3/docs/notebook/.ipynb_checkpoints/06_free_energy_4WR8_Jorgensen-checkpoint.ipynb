{
 "cells": [
  {
   "cell_type": "code",
   "execution_count": 1,
   "metadata": {},
   "outputs": [],
   "source": [
    "import os\n",
    "import urllib.request\n",
    "import copy"
   ]
  },
  {
   "cell_type": "code",
   "execution_count": 2,
   "metadata": {
    "scrolled": true
   },
   "outputs": [],
   "source": [
    "from gromacs_py import gmx\n",
    "gmx.show_log()\n",
    "\n",
    "\n",
    "from pdb_manip_py import pdb_manip"
   ]
  },
  {
   "cell_type": "markdown",
   "metadata": {},
   "source": [
    "https://pubs.acs.org/doi/10.1021/acs.jpcb.9b07588\n",
    "\n",
    "|\t  | 1.20*CM5    |\t1.14*CM1A |\t CGenFF     |\tGAFF      |  This work | Exp |\n",
    "|-----|-------------|-------------|-------------|-------------|------------|-----|\n",
    "ΔGQ\t  |–13.58 ± 0.08|-14.34 ± 0.04|-12.33 ± 0.38|-15.76 ± 0.08|-13.87       | \n",
    "ΔGLJ  |\t0.30 ± 0.16 |  0.34 ± 0.10| -0.78 ± 0.27| -0.05 ± 0.01| -1.07       |\n",
    "ΔGhyd |-13.28 ± 0.18|-14.00 ± 0.11|-13.11 ± 0.46|-15.81 ± 0.08|-15.01 ± 0.56|\n",
    "ΔGbind| -8.46 ± 0.85| -6.20 ± 0.41|\t-2.37 ± 1.27| -7.47 ± 0.99|             |-8.98 ± 0.28\n",
    "\n",
    "https://pubs.acs.org/doi/abs/10.1021/acs.jctc.6b01183\n",
    "\n",
    "to try"
   ]
  },
  {
   "cell_type": "code",
   "execution_count": 3,
   "metadata": {},
   "outputs": [
    {
     "name": "stdout",
     "output_type": "stream",
     "text": [
      "/home/murail/Documents/Code/gromacs_py/docs/notebook\n"
     ]
    }
   ],
   "source": [
    "cd /home/murail/Documents/Code/gromacs_py/docs/notebook/"
   ]
  },
  {
   "cell_type": "code",
   "execution_count": 4,
   "metadata": {},
   "outputs": [],
   "source": [
    "#rm -r data_lig_Jorg_4WR8"
   ]
  },
  {
   "cell_type": "code",
   "execution_count": 5,
   "metadata": {},
   "outputs": [],
   "source": [
    "PDB_ID = '4WR8'\n",
    "MOL_ID = '3TX'\n",
    "SMILE = 'Oc1ccc(cc1)n2cc(nn2)c3ccc4ccccc4n3'\n",
    "DATA_OUT = 'data_lig_Jorg_{}'.format(PDB_ID)\n",
    "os.makedirs(DATA_OUT, exist_ok = True)\n",
    "\n",
    "#raw_pdb = urllib.request.urlretrieve('http://files.rcsb.org/download/{}.pdb'.format(PDB_ID),\n",
    "#                           '{}/{}.pdb'.format(DATA_OUT, PDB_ID))"
   ]
  },
  {
   "cell_type": "code",
   "execution_count": 6,
   "metadata": {},
   "outputs": [
    {
     "name": "stdout",
     "output_type": "stream",
     "text": [
      "Molecule charge 0\n"
     ]
    },
    {
     "data": {
      "application/3dmoljs_load.v0": "<div id=\"3dmolviewer_16026795112539582\"  style=\"position: relative; width: 400px; height: 400px\">\n        <p id=\"3dmolwarning_16026795112539582\" style=\"background-color:#ffcccc;color:black\">You appear to be running in JupyterLab (or JavaScript failed to load for some other reason).  You need to install the 3dmol extension: <br>\n        <tt>jupyter labextension install jupyterlab_3dmol</tt></p>\n        </div>\n<script>\n\nvar loadScriptAsync = function(uri){\n  return new Promise((resolve, reject) => {\n    var tag = document.createElement('script');\n    tag.src = uri;\n    tag.async = true;\n    tag.onload = () => {\n      resolve();\n    };\n  var firstScriptTag = document.getElementsByTagName('script')[0];\n  firstScriptTag.parentNode.insertBefore(tag, firstScriptTag);\n});\n};\n\nif(typeof $3Dmolpromise === 'undefined') {\n$3Dmolpromise = null;\n  $3Dmolpromise = loadScriptAsync('https://3dmol.csb.pitt.edu/build/3Dmol.js');\n}\n\nvar viewer_16026795112539582 = null;\nvar warn = document.getElementById(\"3dmolwarning_16026795112539582\");\nif(warn) {\n    warn.parentNode.removeChild(warn);\n}\n$3Dmolpromise.then(function() {\nviewer_16026795112539582 = $3Dmol.createViewer($(\"#3dmolviewer_16026795112539582\"),{backgroundColor:\"white\"});\n\tviewer_16026795112539582.removeAllModels();\n\tviewer_16026795112539582.addModel(\"\\n     RDKit          3D\\n\\n 34 37  0  0  0  0  0  0  0  0999 V2000\\n   -7.5339   -0.3494   -0.2192 O   0  0  0  0  0  0  0  0  0  0  0  0\\n   -6.1745   -0.4047   -0.1404 C   0  0  0  0  0  0  0  0  0  0  0  0\\n   -5.6002   -1.5899    0.3003 C   0  0  0  0  0  0  0  0  0  0  0  0\\n   -4.2109   -1.6937    0.3974 C   0  0  0  0  0  0  0  0  0  0  0  0\\n   -3.3954   -0.6043    0.0510 C   0  0  0  0  0  0  0  0  0  0  0  0\\n   -3.9893    0.5873   -0.3928 C   0  0  0  0  0  0  0  0  0  0  0  0\\n   -5.3823    0.6846   -0.4878 C   0  0  0  0  0  0  0  0  0  0  0  0\\n   -1.9845   -0.7276    0.1559 N   0  0  0  0  0  0  0  0  0  0  0  0\\n   -1.0122    0.2062   -0.1290 C   0  0  0  0  0  0  0  0  0  0  0  0\\n    0.1822   -0.4265    0.1450 C   0  0  0  0  0  0  0  0  0  0  0  0\\n   -0.0847   -1.6975    0.5790 N   0  0  0  0  0  0  0  0  0  0  0  0\\n   -1.3992   -1.8708    0.5824 N   0  0  0  0  0  0  0  0  0  0  0  0\\n    1.5261    0.1198    0.0122 C   0  0  0  0  0  0  0  0  0  0  0  0\\n    1.7588    1.4163   -0.4327 C   0  0  0  0  0  0  0  0  0  0  0  0\\n    3.0738    1.8646   -0.5324 C   0  0  0  0  0  0  0  0  0  0  0  0\\n    4.1274    1.0122   -0.1871 C   0  0  0  0  0  0  0  0  0  0  0  0\\n    5.4706    1.4200   -0.2713 C   0  0  0  0  0  0  0  0  0  0  0  0\\n    6.4948    0.5434    0.0812 C   0  0  0  0  0  0  0  0  0  0  0  0\\n    6.1814   -0.7389    0.5175 C   0  0  0  0  0  0  0  0  0  0  0  0\\n    4.8442   -1.1389    0.5993 C   0  0  0  0  0  0  0  0  0  0  0  0\\n    3.8044   -0.2862    0.2545 C   0  0  0  0  0  0  0  0  0  0  0  0\\n    2.5361   -0.7183    0.3506 N   0  0  0  0  0  0  0  0  0  0  0  0\\n   -7.7956    0.5293   -0.5388 H   0  0  0  0  0  0  0  0  0  0  0  0\\n   -6.2303   -2.4337    0.5686 H   0  0  0  0  0  0  0  0  0  0  0  0\\n   -3.7839   -2.6331    0.7455 H   0  0  0  0  0  0  0  0  0  0  0  0\\n   -3.4027    1.4568   -0.6720 H   0  0  0  0  0  0  0  0  0  0  0  0\\n   -5.8278    1.6129   -0.8327 H   0  0  0  0  0  0  0  0  0  0  0  0\\n   -1.2440    1.1951   -0.4859 H   0  0  0  0  0  0  0  0  0  0  0  0\\n    0.9495    2.0840   -0.7025 H   0  0  0  0  0  0  0  0  0  0  0  0\\n    3.2694    2.8762   -0.8788 H   0  0  0  0  0  0  0  0  0  0  0  0\\n    5.7245    2.4211   -0.6116 H   0  0  0  0  0  0  0  0  0  0  0  0\\n    7.5327    0.8596    0.0157 H   0  0  0  0  0  0  0  0  0  0  0  0\\n    6.9710   -1.4322    0.7954 H   0  0  0  0  0  0  0  0  0  0  0  0\\n    4.6047   -2.1435    0.9414 H   0  0  0  0  0  0  0  0  0  0  0  0\\n  1  2  1  0\\n  2  3  2  0\\n  3  4  1  0\\n  4  5  2  0\\n  5  6  1  0\\n  6  7  2  0\\n  5  8  1  0\\n  8  9  1  0\\n  9 10  2  0\\n 10 11  1  0\\n 11 12  2  0\\n 10 13  1  0\\n 13 14  2  0\\n 14 15  1  0\\n 15 16  2  0\\n 16 17  1  0\\n 17 18  2  0\\n 18 19  1  0\\n 19 20  2  0\\n 20 21  1  0\\n 21 22  2  0\\n  7  2  1  0\\n 12  8  1  0\\n 22 13  1  0\\n 21 16  1  0\\n  1 23  1  0\\n  3 24  1  0\\n  4 25  1  0\\n  6 26  1  0\\n  7 27  1  0\\n  9 28  1  0\\n 14 29  1  0\\n 15 30  1  0\\n 17 31  1  0\\n 18 32  1  0\\n 19 33  1  0\\n 20 34  1  0\\nM  END\\n\",\"sdf\");\n\tviewer_16026795112539582.setStyle({\"stick\": {}});\n\tviewer_16026795112539582.setBackgroundColor(\"0xeeeeee\");\n\tviewer_16026795112539582.zoomTo();\nviewer_16026795112539582.render();\n});\n</script>",
      "text/html": [
       "<div id=\"3dmolviewer_16026795112539582\"  style=\"position: relative; width: 400px; height: 400px\">\n",
       "        <p id=\"3dmolwarning_16026795112539582\" style=\"background-color:#ffcccc;color:black\">You appear to be running in JupyterLab (or JavaScript failed to load for some other reason).  You need to install the 3dmol extension: <br>\n",
       "        <tt>jupyter labextension install jupyterlab_3dmol</tt></p>\n",
       "        </div>\n",
       "<script>\n",
       "\n",
       "var loadScriptAsync = function(uri){\n",
       "  return new Promise((resolve, reject) => {\n",
       "    var tag = document.createElement('script');\n",
       "    tag.src = uri;\n",
       "    tag.async = true;\n",
       "    tag.onload = () => {\n",
       "      resolve();\n",
       "    };\n",
       "  var firstScriptTag = document.getElementsByTagName('script')[0];\n",
       "  firstScriptTag.parentNode.insertBefore(tag, firstScriptTag);\n",
       "});\n",
       "};\n",
       "\n",
       "if(typeof $3Dmolpromise === 'undefined') {\n",
       "$3Dmolpromise = null;\n",
       "  $3Dmolpromise = loadScriptAsync('https://3dmol.csb.pitt.edu/build/3Dmol.js');\n",
       "}\n",
       "\n",
       "var viewer_16026795112539582 = null;\n",
       "var warn = document.getElementById(\"3dmolwarning_16026795112539582\");\n",
       "if(warn) {\n",
       "    warn.parentNode.removeChild(warn);\n",
       "}\n",
       "$3Dmolpromise.then(function() {\n",
       "viewer_16026795112539582 = $3Dmol.createViewer($(\"#3dmolviewer_16026795112539582\"),{backgroundColor:\"white\"});\n",
       "\tviewer_16026795112539582.removeAllModels();\n",
       "\tviewer_16026795112539582.addModel(\"\\n     RDKit          3D\\n\\n 34 37  0  0  0  0  0  0  0  0999 V2000\\n   -7.5339   -0.3494   -0.2192 O   0  0  0  0  0  0  0  0  0  0  0  0\\n   -6.1745   -0.4047   -0.1404 C   0  0  0  0  0  0  0  0  0  0  0  0\\n   -5.6002   -1.5899    0.3003 C   0  0  0  0  0  0  0  0  0  0  0  0\\n   -4.2109   -1.6937    0.3974 C   0  0  0  0  0  0  0  0  0  0  0  0\\n   -3.3954   -0.6043    0.0510 C   0  0  0  0  0  0  0  0  0  0  0  0\\n   -3.9893    0.5873   -0.3928 C   0  0  0  0  0  0  0  0  0  0  0  0\\n   -5.3823    0.6846   -0.4878 C   0  0  0  0  0  0  0  0  0  0  0  0\\n   -1.9845   -0.7276    0.1559 N   0  0  0  0  0  0  0  0  0  0  0  0\\n   -1.0122    0.2062   -0.1290 C   0  0  0  0  0  0  0  0  0  0  0  0\\n    0.1822   -0.4265    0.1450 C   0  0  0  0  0  0  0  0  0  0  0  0\\n   -0.0847   -1.6975    0.5790 N   0  0  0  0  0  0  0  0  0  0  0  0\\n   -1.3992   -1.8708    0.5824 N   0  0  0  0  0  0  0  0  0  0  0  0\\n    1.5261    0.1198    0.0122 C   0  0  0  0  0  0  0  0  0  0  0  0\\n    1.7588    1.4163   -0.4327 C   0  0  0  0  0  0  0  0  0  0  0  0\\n    3.0738    1.8646   -0.5324 C   0  0  0  0  0  0  0  0  0  0  0  0\\n    4.1274    1.0122   -0.1871 C   0  0  0  0  0  0  0  0  0  0  0  0\\n    5.4706    1.4200   -0.2713 C   0  0  0  0  0  0  0  0  0  0  0  0\\n    6.4948    0.5434    0.0812 C   0  0  0  0  0  0  0  0  0  0  0  0\\n    6.1814   -0.7389    0.5175 C   0  0  0  0  0  0  0  0  0  0  0  0\\n    4.8442   -1.1389    0.5993 C   0  0  0  0  0  0  0  0  0  0  0  0\\n    3.8044   -0.2862    0.2545 C   0  0  0  0  0  0  0  0  0  0  0  0\\n    2.5361   -0.7183    0.3506 N   0  0  0  0  0  0  0  0  0  0  0  0\\n   -7.7956    0.5293   -0.5388 H   0  0  0  0  0  0  0  0  0  0  0  0\\n   -6.2303   -2.4337    0.5686 H   0  0  0  0  0  0  0  0  0  0  0  0\\n   -3.7839   -2.6331    0.7455 H   0  0  0  0  0  0  0  0  0  0  0  0\\n   -3.4027    1.4568   -0.6720 H   0  0  0  0  0  0  0  0  0  0  0  0\\n   -5.8278    1.6129   -0.8327 H   0  0  0  0  0  0  0  0  0  0  0  0\\n   -1.2440    1.1951   -0.4859 H   0  0  0  0  0  0  0  0  0  0  0  0\\n    0.9495    2.0840   -0.7025 H   0  0  0  0  0  0  0  0  0  0  0  0\\n    3.2694    2.8762   -0.8788 H   0  0  0  0  0  0  0  0  0  0  0  0\\n    5.7245    2.4211   -0.6116 H   0  0  0  0  0  0  0  0  0  0  0  0\\n    7.5327    0.8596    0.0157 H   0  0  0  0  0  0  0  0  0  0  0  0\\n    6.9710   -1.4322    0.7954 H   0  0  0  0  0  0  0  0  0  0  0  0\\n    4.6047   -2.1435    0.9414 H   0  0  0  0  0  0  0  0  0  0  0  0\\n  1  2  1  0\\n  2  3  2  0\\n  3  4  1  0\\n  4  5  2  0\\n  5  6  1  0\\n  6  7  2  0\\n  5  8  1  0\\n  8  9  1  0\\n  9 10  2  0\\n 10 11  1  0\\n 11 12  2  0\\n 10 13  1  0\\n 13 14  2  0\\n 14 15  1  0\\n 15 16  2  0\\n 16 17  1  0\\n 17 18  2  0\\n 18 19  1  0\\n 19 20  2  0\\n 20 21  1  0\\n 21 22  2  0\\n  7  2  1  0\\n 12  8  1  0\\n 22 13  1  0\\n 21 16  1  0\\n  1 23  1  0\\n  3 24  1  0\\n  4 25  1  0\\n  6 26  1  0\\n  7 27  1  0\\n  9 28  1  0\\n 14 29  1  0\\n 15 30  1  0\\n 17 31  1  0\\n 18 32  1  0\\n 19 33  1  0\\n 20 34  1  0\\nM  END\\n\",\"sdf\");\n",
       "\tviewer_16026795112539582.setStyle({\"stick\": {}});\n",
       "\tviewer_16026795112539582.setBackgroundColor(\"0xeeeeee\");\n",
       "\tviewer_16026795112539582.zoomTo();\n",
       "viewer_16026795112539582.render();\n",
       "});\n",
       "</script>"
      ]
     },
     "metadata": {},
     "output_type": "display_data"
    },
    {
     "data": {
      "image/png": "[encoded data removed]",
      "text/html": [],
      "text/plain": [
       "<rdkit.Chem.rdchem.Mol at 0x7f977d62b3a0>"
      ]
     },
     "execution_count": 6,
     "metadata": {},
     "output_type": "execute_result"
    }
   ],
   "source": [
    "from rdkit.Chem import AllChem as Chem\n",
    "from rdkit.Chem.Draw import IPythonConsole\n",
    "\n",
    "IPythonConsole.ipython_3d = True\n",
    "\n",
    "conf = Chem.MolFromSmiles(SMILE)\n",
    "conf = Chem.AddHs(conf)\n",
    "Chem.EmbedMolecule(conf)\n",
    "Chem.MMFFOptimizeMolecule(\n",
    "    conf, mmffVariant='MMFF94',maxIters=5000)\n",
    "charge = Chem.GetFormalCharge(conf)\n",
    "print('Molecule charge {}'.format(charge))\n",
    "conf"
   ]
  },
  {
   "cell_type": "code",
   "execution_count": 7,
   "metadata": {},
   "outputs": [
    {
     "name": "stdout",
     "output_type": "stream",
     "text": [
      "PDB file 4WR8.pdb already exist, file not saved\n",
      "Succeed to read file 4WR8.pdb ,  15883 atoms found\n",
      "PDB file data_lig_Jorg_4WR8/4WR8.pdb already exist, file not saved\n"
     ]
    }
   ],
   "source": [
    "# Extract chain A\n",
    "coor_prot = pdb_manip.Coor()\n",
    "coor_prot.get_PDB(PDB_ID)\n",
    "\n",
    "# Select res_name MK1\n",
    "chain_A = coor_prot.select_part_dict(selec_dict={'chain': ['A', 'B', 'C']})\n",
    "\n",
    "chain_A.write_pdb('{}/{}.pdb'.format(DATA_OUT, PDB_ID))"
   ]
  },
  {
   "cell_type": "code",
   "execution_count": 8,
   "metadata": {},
   "outputs": [],
   "source": [
    "# Extract first conf:\n",
    "\n",
    "#pdb_multi = pdb_manip.Multi_Coor(raw_pdb[0])\n",
    "#pdb_model_1 = '{}/{}_model_1.pdb'.format(DATA_OUT, PDB_ID)\n",
    "#pdb_multi.coor_list[0].write_pdb(pdb_model_1)\n",
    "\n",
    "pdb_model_1 = '{}/{}.pdb'.format(DATA_OUT, PDB_ID)"
   ]
  },
  {
   "cell_type": "code",
   "execution_count": 9,
   "metadata": {
    "scrolled": false
   },
   "outputs": [
    {
     "name": "stdout",
     "output_type": "stream",
     "text": [
      "Succeed to read file ../4WR8.pdb ,  2612 atoms found\n",
      "Succeed to read file 00_4WR8.pqr ,  5175 atoms found\n",
      "Succeed to read file ../4WR8.pdb ,  2612 atoms found\n",
      "PDB file 3TX.pdb already exist, file not saved\n",
      "Succeed to read file 3TX_h.pdb ,  34 atoms found\n",
      "Succeed to save file 3TX_h.pdb\n",
      "Succeed to read file 3TX_h.pdb ,  34 atoms found\n",
      "PDB file 3TX_h_unique.pdb already exist, file not saved\n",
      "acpype -i 3TX_h_unique.pdb -b 3TX -c bcc -a gaff -o gmx -n 0\n",
      "3TX\n",
      "residue(s) SO4 not included, add this residue in ...\n",
      "Chain: A  Residue: 0 to 113\n",
      "Chain: B  Residue: 114 to 227\n",
      "Chain: C  Residue: 228 to 341\n",
      "PDB file 01_4WR8_good_his.pdb already exist, file not saved\n",
      "- Create topologie\n",
      "create_top not launched 4WR8_pdb2gmx.pdb already exist\n",
      "Add Molecule: 3TX\n",
      "Add 1 mol /home/murail/Documents/Code/gromacs_py/docs/notebook/data_lig_Jorg_4WR8/prot_top/3TX.acpype/3TX_GMX.itp\n",
      "Concat files: ['4WR8_pdb2gmx.pdb', '/home/murail/Documents/Code/gromacs_py/docs/notebook/data_lig_Jorg_4WR8/prot_top/3TX_h.pdb']\n",
      "File  4WR8_pdb2gmx_mol.pdb  already exist\n"
     ]
    }
   ],
   "source": [
    "#2020-07-25T09:06:13CEST (c) 2020 AWSdS\n",
    "\n",
    "md_sys = gmx.GmxSys(name=PDB_ID, coor_file=pdb_model_1)\n",
    "md_sys.prepare_top(out_folder=os.path.join(DATA_OUT, 'prot_top'),\n",
    "                   ff='amber99sb-ildn', include_mol={MOL_ID: SMILE})"
   ]
  },
  {
   "cell_type": "code",
   "execution_count": 10,
   "metadata": {},
   "outputs": [
    {
     "name": "stdout",
     "output_type": "stream",
     "text": [
      "Succeed to read file data_lig_Jorg_4WR8/prot_top/4WR8_pdb2gmx_mol.pdb ,  5209 atoms found\n",
      "PDB file data_lig_Jorg_4WR8/mol_top/3TX_only.pdb already exist, file not saved\n",
      "Forcefield include :\n",
      " amber99sb-ildn\n",
      "- ITP file: 3TX_GMX_atomtypes\n",
      "- molecules defined in the itp file:\n",
      "- ITP file: tip3p\n",
      "- molecules defined in the itp file:\n",
      "* SOL\n",
      "- ITP file: 3TX_GMX\n",
      "- molecules defined in the itp file:\n",
      "* 3TX\n",
      "Mol List:\n",
      "   * 1 3TX\n",
      "Mol Name:\n",
      " Protein\n"
     ]
    }
   ],
   "source": [
    "test = md_sys.extract_mol_sys(out_folder=os.path.join(DATA_OUT, 'mol_top'), res_name=MOL_ID)"
   ]
  },
  {
   "cell_type": "code",
   "execution_count": 11,
   "metadata": {},
   "outputs": [
    {
     "name": "stdout",
     "output_type": "stream",
     "text": [
      "- Create pbc box\n",
      "create_box not launched data_lig_Jorg_4WR8/mol_top/3TX_only_box.pdb already exist\n",
      "Mdp files not created, Init_em_3TX.mdp already exist\n",
      "- Create the tpr file Init_em_3TX.tpr\n",
      "create_tpr not launched Init_em_3TX.tpr already exist\n",
      "- Launch the simulation Init_em_3TX.tpr\n",
      "Simulation not launched Init_em_3TX.gro already exist\n",
      "Mdp files not created, 3TX.mdp already exist\n",
      "- Create the tpr file 3TX.tpr\n",
      "create_tpr not launched 3TX.tpr already exist\n",
      "- Launch the simulation 3TX.tpr\n",
      "Simulation not launched 3TX.gro already exist\n"
     ]
    }
   ],
   "source": [
    "test.create_box(name=None, dist=1.0)\n",
    "\n",
    "test.em_2_steps(out_folder=os.path.join(DATA_OUT, 'mol_em'),\n",
    "                  no_constr_nsteps=10000,\n",
    "                  constr_nsteps=10000,\n",
    "                  posres=\"\",\n",
    "                  emtol=0.1, nstxout=100, maxwarn=3,\n",
    "                  create_box_flag=False)"
   ]
  },
  {
   "cell_type": "code",
   "execution_count": 12,
   "metadata": {},
   "outputs": [
    {
     "name": "stdout",
     "output_type": "stream",
     "text": [
      "- Solvate the pbc box\n",
      "solvate_box not launched 3TX_water.pdb already exist\n"
     ]
    }
   ],
   "source": [
    "test.solvate_box(out_folder=os.path.join(DATA_OUT, 'mol_water_top'))"
   ]
  },
  {
   "cell_type": "code",
   "execution_count": 13,
   "metadata": {},
   "outputs": [
    {
     "name": "stdout",
     "output_type": "stream",
     "text": [
      "Mdp files not created, Init_em_3TX.mdp already exist\n",
      "- Create the tpr file Init_em_3TX.tpr\n",
      "create_tpr not launched Init_em_3TX.tpr already exist\n",
      "- Launch the simulation Init_em_3TX.tpr\n",
      "Simulation not launched Init_em_3TX.gro already exist\n",
      "Mdp files not created, 3TX.mdp already exist\n",
      "- Create the tpr file 3TX.tpr\n",
      "create_tpr not launched 3TX.tpr already exist\n",
      "- Launch the simulation 3TX.tpr\n",
      "Simulation not launched 3TX.gro already exist\n"
     ]
    }
   ],
   "source": [
    "test.em_2_steps(out_folder=os.path.join(DATA_OUT, 'mol_water_em'),\n",
    "                  no_constr_nsteps=10000,\n",
    "                  constr_nsteps=10000,\n",
    "                  posres=\"\",\n",
    "                  emtol=0.1, nstxout=100, maxwarn=3,\n",
    "                  create_box_flag=False)"
   ]
  },
  {
   "cell_type": "code",
   "execution_count": 14,
   "metadata": {},
   "outputs": [
    {
     "name": "stdout",
     "output_type": "stream",
     "text": [
      "Mdp files not created, prod_short_equi.mdp already exist\n",
      "- Create the tpr file prod_short_equi.tpr\n",
      "create_tpr not launched prod_short_equi.tpr already exist\n",
      "- Launch the simulation prod_short_equi.tpr\n",
      "Simulation not launched prod_short_equi.gro already exist\n"
     ]
    }
   ],
   "source": [
    "mdp_options = {'tc-grps': 'System',\n",
    "               'tau_t': '0.1',\n",
    "               'ref_t' : '310',\n",
    "               }\n",
    "\n",
    "test.production(out_folder=os.path.join(DATA_OUT, 'mol_water_prod'),\n",
    "                name='short_equi',\n",
    "                nsteps=10000, dt=0.0005,\n",
    "                maxwarn=1, **mdp_options)"
   ]
  },
  {
   "cell_type": "code",
   "execution_count": 15,
   "metadata": {
    "scrolled": false
   },
   "outputs": [
    {
     "name": "stdout",
     "output_type": "stream",
     "text": [
      "Mdp files not created, prod_3TX.mdp already exist\n",
      "- Create the tpr file prod_3TX.tpr\n",
      "create_tpr not launched prod_3TX.tpr already exist\n",
      "- Launch the simulation prod_3TX.tpr\n",
      "Simulation not launched prod_3TX.gro already exist\n"
     ]
    }
   ],
   "source": [
    "test.production(out_folder=os.path.join(DATA_OUT, 'mol_water_prod'),\n",
    "                  nsteps=1000000,\n",
    "                  dt=0.002,maxwarn=1, **mdp_options)"
   ]
  },
  {
   "cell_type": "code",
   "execution_count": 16,
   "metadata": {},
   "outputs": [
    {
     "data": {
      "application/vnd.jupyter.widget-view+json": {
       "model_id": "f4ee460b7ff54317a84c763354426f00",
       "version_major": 2,
       "version_minor": 0
      },
      "text/plain": []
     },
     "metadata": {},
     "output_type": "display_data"
    },
    {
     "data": {
      "application/vnd.jupyter.widget-view+json": {
       "model_id": "22debcea9cd2478bbbcf76546cfba7a5",
       "version_major": 2,
       "version_minor": 0
      },
      "text/plain": [
       "NGLWidget(max_frame=200)"
      ]
     },
     "metadata": {},
     "output_type": "display_data"
    }
   ],
   "source": [
    "view = test.view_traj()\n",
    "view"
   ]
  },
  {
   "cell_type": "markdown",
   "metadata": {},
   "source": [
    "## Free energy calculation of solvation"
   ]
  },
  {
   "cell_type": "code",
   "execution_count": 17,
   "metadata": {},
   "outputs": [
    {
     "name": "stdout",
     "output_type": "stream",
     "text": [
      "Coulomb lambda :0.00 0.20 0.40 0.60 0.80 1.00 1.00 1.00 1.00 1.00 1.00 1.00 1.00 1.00 1.00 1.00 \n",
      "Vdw lambda     :0.00 0.00 0.00 0.00 0.00 0.00 0.10 0.20 0.30 0.40 0.50 0.60 0.70 0.80 0.90 1.00 \n",
      "bond_lambdas   :1.00 1.00 1.00 1.00 1.00 1.00 1.00 1.00 1.00 1.00 1.00 1.00 1.00 1.00 1.00 1.00 \n"
     ]
    },
    {
     "data": {
      "application/vnd.jupyter.widget-view+json": {
       "model_id": "3dcc51216c9544f9b96593b73e615897",
       "version_major": 2,
       "version_minor": 0
      },
      "text/plain": [
       "HBox(children=(HTML(value=''), FloatProgress(value=0.0, max=640000.0), HTML(value='')))"
      ]
     },
     "metadata": {},
     "output_type": "display_data"
    },
    {
     "name": "stdout",
     "output_type": "stream",
     "text": [
      "Mdp files not created, em_3TX_vdwq_00.mdp already exist\n",
      "- Create the tpr file em_3TX_vdwq_00.tpr\n",
      "create_tpr not launched em_3TX_vdwq_00.tpr already exist\n",
      "- Launch the simulation em_3TX_vdwq_00.tpr\n",
      "Simulation not launched em_3TX_vdwq_00.gro already exist\n",
      "Mdp files not created, nvt_3TX_vdwq_00.mdp already exist\n",
      "- Create the tpr file nvt_3TX_vdwq_00.tpr\n",
      "create_tpr not launched nvt_3TX_vdwq_00.tpr already exist\n",
      "- Launch the simulation nvt_3TX_vdwq_00.tpr\n",
      "Simulation not launched nvt_3TX_vdwq_00.gro already exist\n",
      "Mdp files not created, npt_3TX_vdwq_00.mdp already exist\n",
      "- Create the tpr file npt_3TX_vdwq_00.tpr\n",
      "create_tpr not launched npt_3TX_vdwq_00.tpr already exist\n",
      "- Launch the simulation npt_3TX_vdwq_00.tpr\n",
      "Simulation not launched npt_3TX_vdwq_00.gro already exist\n",
      "Mdp files not created, prod_3TX_vdwq_00.mdp already exist\n",
      "- Create the tpr file prod_3TX_vdwq_00.tpr\n",
      "create_tpr not launched prod_3TX_vdwq_00.tpr already exist\n",
      "- Launch the simulation prod_3TX_vdwq_00.tpr\n",
      "Simulation not launched prod_3TX_vdwq_00.gro already exist\n",
      "Mdp files not created, em_3TX_vdwq_01.mdp already exist\n",
      "- Create the tpr file em_3TX_vdwq_01.tpr\n",
      "create_tpr not launched em_3TX_vdwq_01.tpr already exist\n",
      "- Launch the simulation em_3TX_vdwq_01.tpr\n",
      "Simulation not launched em_3TX_vdwq_01.gro already exist\n",
      "Mdp files not created, nvt_3TX_vdwq_01.mdp already exist\n",
      "- Create the tpr file nvt_3TX_vdwq_01.tpr\n",
      "create_tpr not launched nvt_3TX_vdwq_01.tpr already exist\n",
      "- Launch the simulation nvt_3TX_vdwq_01.tpr\n",
      "Simulation not launched nvt_3TX_vdwq_01.gro already exist\n",
      "Mdp files not created, npt_3TX_vdwq_01.mdp already exist\n",
      "- Create the tpr file npt_3TX_vdwq_01.tpr\n",
      "create_tpr not launched npt_3TX_vdwq_01.tpr already exist\n",
      "- Launch the simulation npt_3TX_vdwq_01.tpr\n",
      "Simulation not launched npt_3TX_vdwq_01.gro already exist\n",
      "Mdp files not created, prod_3TX_vdwq_01.mdp already exist\n",
      "- Create the tpr file prod_3TX_vdwq_01.tpr\n",
      "create_tpr not launched prod_3TX_vdwq_01.tpr already exist\n",
      "- Launch the simulation prod_3TX_vdwq_01.tpr\n",
      "Simulation not launched prod_3TX_vdwq_01.gro already exist\n",
      "Mdp files not created, em_3TX_vdwq_02.mdp already exist\n",
      "- Create the tpr file em_3TX_vdwq_02.tpr\n",
      "create_tpr not launched em_3TX_vdwq_02.tpr already exist\n",
      "- Launch the simulation em_3TX_vdwq_02.tpr\n",
      "Simulation not launched em_3TX_vdwq_02.gro already exist\n",
      "Mdp files not created, nvt_3TX_vdwq_02.mdp already exist\n",
      "- Create the tpr file nvt_3TX_vdwq_02.tpr\n",
      "create_tpr not launched nvt_3TX_vdwq_02.tpr already exist\n",
      "- Launch the simulation nvt_3TX_vdwq_02.tpr\n",
      "Simulation not launched nvt_3TX_vdwq_02.gro already exist\n",
      "Mdp files not created, npt_3TX_vdwq_02.mdp already exist\n",
      "- Create the tpr file npt_3TX_vdwq_02.tpr\n",
      "create_tpr not launched npt_3TX_vdwq_02.tpr already exist\n",
      "- Launch the simulation npt_3TX_vdwq_02.tpr\n",
      "Simulation not launched npt_3TX_vdwq_02.gro already exist\n",
      "Mdp files not created, prod_3TX_vdwq_02.mdp already exist\n",
      "- Create the tpr file prod_3TX_vdwq_02.tpr\n",
      "create_tpr not launched prod_3TX_vdwq_02.tpr already exist\n",
      "- Launch the simulation prod_3TX_vdwq_02.tpr\n",
      "Simulation not launched prod_3TX_vdwq_02.gro already exist\n",
      "Mdp files not created, em_3TX_vdwq_03.mdp already exist\n",
      "- Create the tpr file em_3TX_vdwq_03.tpr\n",
      "create_tpr not launched em_3TX_vdwq_03.tpr already exist\n",
      "- Launch the simulation em_3TX_vdwq_03.tpr\n",
      "Simulation not launched em_3TX_vdwq_03.gro already exist\n",
      "Mdp files not created, nvt_3TX_vdwq_03.mdp already exist\n",
      "- Create the tpr file nvt_3TX_vdwq_03.tpr\n",
      "create_tpr not launched nvt_3TX_vdwq_03.tpr already exist\n",
      "- Launch the simulation nvt_3TX_vdwq_03.tpr\n",
      "Simulation not launched nvt_3TX_vdwq_03.gro already exist\n",
      "Mdp files not created, npt_3TX_vdwq_03.mdp already exist\n",
      "- Create the tpr file npt_3TX_vdwq_03.tpr\n",
      "create_tpr not launched npt_3TX_vdwq_03.tpr already exist\n",
      "- Launch the simulation npt_3TX_vdwq_03.tpr\n",
      "Simulation not launched npt_3TX_vdwq_03.gro already exist\n",
      "Mdp files not created, prod_3TX_vdwq_03.mdp already exist\n",
      "- Create the tpr file prod_3TX_vdwq_03.tpr\n",
      "create_tpr not launched prod_3TX_vdwq_03.tpr already exist\n",
      "- Launch the simulation prod_3TX_vdwq_03.tpr\n",
      "Simulation not launched prod_3TX_vdwq_03.gro already exist\n",
      "Mdp files not created, em_3TX_vdwq_04.mdp already exist\n",
      "- Create the tpr file em_3TX_vdwq_04.tpr\n",
      "create_tpr not launched em_3TX_vdwq_04.tpr already exist\n",
      "- Launch the simulation em_3TX_vdwq_04.tpr\n",
      "Simulation not launched em_3TX_vdwq_04.gro already exist\n",
      "Mdp files not created, nvt_3TX_vdwq_04.mdp already exist\n",
      "- Create the tpr file nvt_3TX_vdwq_04.tpr\n",
      "create_tpr not launched nvt_3TX_vdwq_04.tpr already exist\n",
      "- Launch the simulation nvt_3TX_vdwq_04.tpr\n",
      "Simulation not launched nvt_3TX_vdwq_04.gro already exist\n",
      "Mdp files not created, npt_3TX_vdwq_04.mdp already exist\n",
      "- Create the tpr file npt_3TX_vdwq_04.tpr\n",
      "create_tpr not launched npt_3TX_vdwq_04.tpr already exist\n",
      "- Launch the simulation npt_3TX_vdwq_04.tpr\n",
      "Simulation not launched npt_3TX_vdwq_04.gro already exist\n",
      "Mdp files not created, prod_3TX_vdwq_04.mdp already exist\n",
      "- Create the tpr file prod_3TX_vdwq_04.tpr\n",
      "create_tpr not launched prod_3TX_vdwq_04.tpr already exist\n",
      "- Launch the simulation prod_3TX_vdwq_04.tpr\n",
      "Simulation not launched prod_3TX_vdwq_04.gro already exist\n",
      "Mdp files not created, em_3TX_vdwq_05.mdp already exist\n",
      "- Create the tpr file em_3TX_vdwq_05.tpr\n",
      "create_tpr not launched em_3TX_vdwq_05.tpr already exist\n",
      "- Launch the simulation em_3TX_vdwq_05.tpr\n",
      "Simulation not launched em_3TX_vdwq_05.gro already exist\n",
      "Mdp files not created, nvt_3TX_vdwq_05.mdp already exist\n",
      "- Create the tpr file nvt_3TX_vdwq_05.tpr\n",
      "create_tpr not launched nvt_3TX_vdwq_05.tpr already exist\n",
      "- Launch the simulation nvt_3TX_vdwq_05.tpr\n",
      "Simulation not launched nvt_3TX_vdwq_05.gro already exist\n",
      "Mdp files not created, npt_3TX_vdwq_05.mdp already exist\n",
      "- Create the tpr file npt_3TX_vdwq_05.tpr\n",
      "create_tpr not launched npt_3TX_vdwq_05.tpr already exist\n",
      "- Launch the simulation npt_3TX_vdwq_05.tpr\n",
      "Simulation not launched npt_3TX_vdwq_05.gro already exist\n",
      "Mdp files not created, prod_3TX_vdwq_05.mdp already exist\n",
      "- Create the tpr file prod_3TX_vdwq_05.tpr\n",
      "create_tpr not launched prod_3TX_vdwq_05.tpr already exist\n",
      "- Launch the simulation prod_3TX_vdwq_05.tpr\n",
      "Simulation not launched prod_3TX_vdwq_05.gro already exist\n",
      "Mdp files not created, em_3TX_vdwq_06.mdp already exist\n",
      "- Create the tpr file em_3TX_vdwq_06.tpr\n",
      "create_tpr not launched em_3TX_vdwq_06.tpr already exist\n",
      "- Launch the simulation em_3TX_vdwq_06.tpr\n",
      "Simulation not launched em_3TX_vdwq_06.gro already exist\n",
      "Mdp files not created, nvt_3TX_vdwq_06.mdp already exist\n",
      "- Create the tpr file nvt_3TX_vdwq_06.tpr\n",
      "create_tpr not launched nvt_3TX_vdwq_06.tpr already exist\n",
      "- Launch the simulation nvt_3TX_vdwq_06.tpr\n",
      "Simulation not launched nvt_3TX_vdwq_06.gro already exist\n",
      "Mdp files not created, npt_3TX_vdwq_06.mdp already exist\n",
      "- Create the tpr file npt_3TX_vdwq_06.tpr\n",
      "create_tpr not launched npt_3TX_vdwq_06.tpr already exist\n",
      "- Launch the simulation npt_3TX_vdwq_06.tpr\n",
      "Simulation not launched npt_3TX_vdwq_06.gro already exist\n",
      "Mdp files not created, prod_3TX_vdwq_06.mdp already exist\n",
      "- Create the tpr file prod_3TX_vdwq_06.tpr\n",
      "create_tpr not launched prod_3TX_vdwq_06.tpr already exist\n",
      "- Launch the simulation prod_3TX_vdwq_06.tpr\n",
      "Simulation not launched prod_3TX_vdwq_06.gro already exist\n",
      "Mdp files not created, em_3TX_vdwq_07.mdp already exist\n",
      "- Create the tpr file em_3TX_vdwq_07.tpr\n",
      "create_tpr not launched em_3TX_vdwq_07.tpr already exist\n",
      "- Launch the simulation em_3TX_vdwq_07.tpr\n",
      "Simulation not launched em_3TX_vdwq_07.gro already exist\n",
      "Mdp files not created, nvt_3TX_vdwq_07.mdp already exist\n",
      "- Create the tpr file nvt_3TX_vdwq_07.tpr\n",
      "create_tpr not launched nvt_3TX_vdwq_07.tpr already exist\n",
      "- Launch the simulation nvt_3TX_vdwq_07.tpr\n",
      "Simulation not launched nvt_3TX_vdwq_07.gro already exist\n",
      "Mdp files not created, npt_3TX_vdwq_07.mdp already exist\n",
      "- Create the tpr file npt_3TX_vdwq_07.tpr\n",
      "create_tpr not launched npt_3TX_vdwq_07.tpr already exist\n",
      "- Launch the simulation npt_3TX_vdwq_07.tpr\n",
      "Simulation not launched npt_3TX_vdwq_07.gro already exist\n",
      "Mdp files not created, prod_3TX_vdwq_07.mdp already exist\n",
      "- Create the tpr file prod_3TX_vdwq_07.tpr\n",
      "create_tpr not launched prod_3TX_vdwq_07.tpr already exist\n",
      "- Launch the simulation prod_3TX_vdwq_07.tpr\n"
     ]
    },
    {
     "name": "stdout",
     "output_type": "stream",
     "text": [
      "Simulation not launched prod_3TX_vdwq_07.gro already exist\n",
      "Mdp files not created, em_3TX_vdwq_08.mdp already exist\n",
      "- Create the tpr file em_3TX_vdwq_08.tpr\n",
      "create_tpr not launched em_3TX_vdwq_08.tpr already exist\n",
      "- Launch the simulation em_3TX_vdwq_08.tpr\n",
      "Simulation not launched em_3TX_vdwq_08.gro already exist\n",
      "Mdp files not created, nvt_3TX_vdwq_08.mdp already exist\n",
      "- Create the tpr file nvt_3TX_vdwq_08.tpr\n",
      "create_tpr not launched nvt_3TX_vdwq_08.tpr already exist\n",
      "- Launch the simulation nvt_3TX_vdwq_08.tpr\n",
      "Simulation not launched nvt_3TX_vdwq_08.gro already exist\n",
      "Mdp files not created, npt_3TX_vdwq_08.mdp already exist\n",
      "- Create the tpr file npt_3TX_vdwq_08.tpr\n",
      "create_tpr not launched npt_3TX_vdwq_08.tpr already exist\n",
      "- Launch the simulation npt_3TX_vdwq_08.tpr\n",
      "Simulation not launched npt_3TX_vdwq_08.gro already exist\n",
      "Mdp files not created, prod_3TX_vdwq_08.mdp already exist\n",
      "- Create the tpr file prod_3TX_vdwq_08.tpr\n",
      "create_tpr not launched prod_3TX_vdwq_08.tpr already exist\n",
      "- Launch the simulation prod_3TX_vdwq_08.tpr\n",
      "Simulation not launched prod_3TX_vdwq_08.gro already exist\n",
      "Mdp files not created, em_3TX_vdwq_09.mdp already exist\n",
      "- Create the tpr file em_3TX_vdwq_09.tpr\n",
      "create_tpr not launched em_3TX_vdwq_09.tpr already exist\n",
      "- Launch the simulation em_3TX_vdwq_09.tpr\n",
      "Simulation not launched em_3TX_vdwq_09.gro already exist\n",
      "Mdp files not created, nvt_3TX_vdwq_09.mdp already exist\n",
      "- Create the tpr file nvt_3TX_vdwq_09.tpr\n",
      "create_tpr not launched nvt_3TX_vdwq_09.tpr already exist\n",
      "- Launch the simulation nvt_3TX_vdwq_09.tpr\n",
      "Simulation not launched nvt_3TX_vdwq_09.gro already exist\n",
      "Mdp files not created, npt_3TX_vdwq_09.mdp already exist\n",
      "- Create the tpr file npt_3TX_vdwq_09.tpr\n",
      "create_tpr not launched npt_3TX_vdwq_09.tpr already exist\n",
      "- Launch the simulation npt_3TX_vdwq_09.tpr\n",
      "Simulation not launched npt_3TX_vdwq_09.gro already exist\n",
      "Mdp files not created, prod_3TX_vdwq_09.mdp already exist\n",
      "- Create the tpr file prod_3TX_vdwq_09.tpr\n",
      "create_tpr not launched prod_3TX_vdwq_09.tpr already exist\n",
      "- Launch the simulation prod_3TX_vdwq_09.tpr\n",
      "Simulation not launched prod_3TX_vdwq_09.gro already exist\n",
      "Mdp files not created, em_3TX_vdwq_10.mdp already exist\n",
      "- Create the tpr file em_3TX_vdwq_10.tpr\n",
      "create_tpr not launched em_3TX_vdwq_10.tpr already exist\n",
      "- Launch the simulation em_3TX_vdwq_10.tpr\n",
      "Simulation not launched em_3TX_vdwq_10.gro already exist\n",
      "Mdp files not created, nvt_3TX_vdwq_10.mdp already exist\n",
      "- Create the tpr file nvt_3TX_vdwq_10.tpr\n",
      "create_tpr not launched nvt_3TX_vdwq_10.tpr already exist\n",
      "- Launch the simulation nvt_3TX_vdwq_10.tpr\n",
      "Simulation not launched nvt_3TX_vdwq_10.gro already exist\n",
      "Mdp files not created, npt_3TX_vdwq_10.mdp already exist\n",
      "- Create the tpr file npt_3TX_vdwq_10.tpr\n",
      "create_tpr not launched npt_3TX_vdwq_10.tpr already exist\n",
      "- Launch the simulation npt_3TX_vdwq_10.tpr\n",
      "Simulation not launched npt_3TX_vdwq_10.gro already exist\n",
      "Mdp files not created, prod_3TX_vdwq_10.mdp already exist\n",
      "- Create the tpr file prod_3TX_vdwq_10.tpr\n",
      "create_tpr not launched prod_3TX_vdwq_10.tpr already exist\n",
      "- Launch the simulation prod_3TX_vdwq_10.tpr\n",
      "Simulation not launched prod_3TX_vdwq_10.gro already exist\n",
      "Mdp files not created, em_3TX_vdwq_11.mdp already exist\n",
      "- Create the tpr file em_3TX_vdwq_11.tpr\n",
      "create_tpr not launched em_3TX_vdwq_11.tpr already exist\n",
      "- Launch the simulation em_3TX_vdwq_11.tpr\n",
      "Simulation not launched em_3TX_vdwq_11.gro already exist\n",
      "Mdp files not created, nvt_3TX_vdwq_11.mdp already exist\n",
      "- Create the tpr file nvt_3TX_vdwq_11.tpr\n",
      "create_tpr not launched nvt_3TX_vdwq_11.tpr already exist\n",
      "- Launch the simulation nvt_3TX_vdwq_11.tpr\n",
      "Simulation not launched nvt_3TX_vdwq_11.gro already exist\n",
      "Mdp files not created, npt_3TX_vdwq_11.mdp already exist\n",
      "- Create the tpr file npt_3TX_vdwq_11.tpr\n",
      "create_tpr not launched npt_3TX_vdwq_11.tpr already exist\n",
      "- Launch the simulation npt_3TX_vdwq_11.tpr\n",
      "Simulation not launched npt_3TX_vdwq_11.gro already exist\n",
      "Mdp files not created, prod_3TX_vdwq_11.mdp already exist\n",
      "- Create the tpr file prod_3TX_vdwq_11.tpr\n",
      "create_tpr not launched prod_3TX_vdwq_11.tpr already exist\n",
      "- Launch the simulation prod_3TX_vdwq_11.tpr\n",
      "Simulation not launched prod_3TX_vdwq_11.gro already exist\n",
      "Mdp files not created, em_3TX_vdwq_12.mdp already exist\n",
      "- Create the tpr file em_3TX_vdwq_12.tpr\n",
      "create_tpr not launched em_3TX_vdwq_12.tpr already exist\n",
      "- Launch the simulation em_3TX_vdwq_12.tpr\n",
      "Simulation not launched em_3TX_vdwq_12.gro already exist\n",
      "Mdp files not created, nvt_3TX_vdwq_12.mdp already exist\n",
      "- Create the tpr file nvt_3TX_vdwq_12.tpr\n",
      "create_tpr not launched nvt_3TX_vdwq_12.tpr already exist\n",
      "- Launch the simulation nvt_3TX_vdwq_12.tpr\n",
      "Simulation not launched nvt_3TX_vdwq_12.gro already exist\n",
      "Mdp files not created, npt_3TX_vdwq_12.mdp already exist\n",
      "- Create the tpr file npt_3TX_vdwq_12.tpr\n",
      "create_tpr not launched npt_3TX_vdwq_12.tpr already exist\n",
      "- Launch the simulation npt_3TX_vdwq_12.tpr\n",
      "Simulation not launched npt_3TX_vdwq_12.gro already exist\n",
      "Mdp files not created, prod_3TX_vdwq_12.mdp already exist\n",
      "- Create the tpr file prod_3TX_vdwq_12.tpr\n",
      "create_tpr not launched prod_3TX_vdwq_12.tpr already exist\n",
      "- Launch the simulation prod_3TX_vdwq_12.tpr\n",
      "Simulation not launched prod_3TX_vdwq_12.gro already exist\n",
      "Mdp files not created, em_3TX_vdwq_13.mdp already exist\n",
      "- Create the tpr file em_3TX_vdwq_13.tpr\n",
      "create_tpr not launched em_3TX_vdwq_13.tpr already exist\n",
      "- Launch the simulation em_3TX_vdwq_13.tpr\n",
      "Simulation not launched em_3TX_vdwq_13.gro already exist\n",
      "Mdp files not created, nvt_3TX_vdwq_13.mdp already exist\n",
      "- Create the tpr file nvt_3TX_vdwq_13.tpr\n",
      "create_tpr not launched nvt_3TX_vdwq_13.tpr already exist\n",
      "- Launch the simulation nvt_3TX_vdwq_13.tpr\n",
      "Simulation not launched nvt_3TX_vdwq_13.gro already exist\n",
      "Mdp files not created, npt_3TX_vdwq_13.mdp already exist\n",
      "- Create the tpr file npt_3TX_vdwq_13.tpr\n",
      "create_tpr not launched npt_3TX_vdwq_13.tpr already exist\n",
      "- Launch the simulation npt_3TX_vdwq_13.tpr\n",
      "Simulation not launched npt_3TX_vdwq_13.gro already exist\n",
      "Mdp files not created, prod_3TX_vdwq_13.mdp already exist\n",
      "- Create the tpr file prod_3TX_vdwq_13.tpr\n",
      "create_tpr not launched prod_3TX_vdwq_13.tpr already exist\n",
      "- Launch the simulation prod_3TX_vdwq_13.tpr\n",
      "Simulation not launched prod_3TX_vdwq_13.gro already exist\n",
      "Mdp files not created, em_3TX_vdwq_14.mdp already exist\n",
      "- Create the tpr file em_3TX_vdwq_14.tpr\n",
      "create_tpr not launched em_3TX_vdwq_14.tpr already exist\n",
      "- Launch the simulation em_3TX_vdwq_14.tpr\n",
      "Simulation not launched em_3TX_vdwq_14.gro already exist\n",
      "Mdp files not created, nvt_3TX_vdwq_14.mdp already exist\n",
      "- Create the tpr file nvt_3TX_vdwq_14.tpr\n",
      "create_tpr not launched nvt_3TX_vdwq_14.tpr already exist\n",
      "- Launch the simulation nvt_3TX_vdwq_14.tpr\n",
      "Simulation not launched nvt_3TX_vdwq_14.gro already exist\n",
      "Mdp files not created, npt_3TX_vdwq_14.mdp already exist\n",
      "- Create the tpr file npt_3TX_vdwq_14.tpr\n",
      "create_tpr not launched npt_3TX_vdwq_14.tpr already exist\n",
      "- Launch the simulation npt_3TX_vdwq_14.tpr\n",
      "Simulation not launched npt_3TX_vdwq_14.gro already exist\n",
      "Mdp files not created, prod_3TX_vdwq_14.mdp already exist\n",
      "- Create the tpr file prod_3TX_vdwq_14.tpr\n",
      "create_tpr not launched prod_3TX_vdwq_14.tpr already exist\n",
      "- Launch the simulation prod_3TX_vdwq_14.tpr\n",
      "Simulation not launched prod_3TX_vdwq_14.gro already exist\n",
      "Mdp files not created, em_3TX_vdwq_15.mdp already exist\n",
      "- Create the tpr file em_3TX_vdwq_15.tpr\n",
      "create_tpr not launched em_3TX_vdwq_15.tpr already exist\n",
      "- Launch the simulation em_3TX_vdwq_15.tpr\n",
      "Simulation not launched em_3TX_vdwq_15.gro already exist\n",
      "Mdp files not created, nvt_3TX_vdwq_15.mdp already exist\n",
      "- Create the tpr file nvt_3TX_vdwq_15.tpr\n",
      "create_tpr not launched nvt_3TX_vdwq_15.tpr already exist\n",
      "- Launch the simulation nvt_3TX_vdwq_15.tpr\n",
      "Simulation not launched nvt_3TX_vdwq_15.gro already exist\n",
      "Mdp files not created, npt_3TX_vdwq_15.mdp already exist\n",
      "- Create the tpr file npt_3TX_vdwq_15.tpr\n",
      "create_tpr not launched npt_3TX_vdwq_15.tpr already exist\n",
      "- Launch the simulation npt_3TX_vdwq_15.tpr\n",
      "Simulation not launched npt_3TX_vdwq_15.gro already exist\n",
      "Mdp files not created, prod_3TX_vdwq_15.mdp already exist\n",
      "- Create the tpr file prod_3TX_vdwq_15.tpr\n",
      "create_tpr not launched prod_3TX_vdwq_15.tpr already exist\n"
     ]
    },
    {
     "name": "stdout",
     "output_type": "stream",
     "text": [
      "- Launch the simulation prod_3TX_vdwq_15.tpr\n",
      "Simulation not launched prod_3TX_vdwq_15.gro already exist\n",
      "- Extract bar energy\n",
      "gmx bar -f data_lig_Jorg_4WR8/mol_free_ener_1ns/03_prod/prod_3TX_vdwq_00.xvg data_lig_Jorg_4WR8/mol_free_ener_1ns/03_prod/prod_3TX_vdwq_01.xvg data_lig_Jorg_4WR8/mol_free_ener_1ns/03_prod/prod_3TX_vdwq_02.xvg data_lig_Jorg_4WR8/mol_free_ener_1ns/03_prod/prod_3TX_vdwq_03.xvg data_lig_Jorg_4WR8/mol_free_ener_1ns/03_prod/prod_3TX_vdwq_04.xvg data_lig_Jorg_4WR8/mol_free_ener_1ns/03_prod/prod_3TX_vdwq_05.xvg data_lig_Jorg_4WR8/mol_free_ener_1ns/03_prod/prod_3TX_vdwq_06.xvg data_lig_Jorg_4WR8/mol_free_ener_1ns/03_prod/prod_3TX_vdwq_07.xvg data_lig_Jorg_4WR8/mol_free_ener_1ns/03_prod/prod_3TX_vdwq_08.xvg data_lig_Jorg_4WR8/mol_free_ener_1ns/03_prod/prod_3TX_vdwq_09.xvg data_lig_Jorg_4WR8/mol_free_ener_1ns/03_prod/prod_3TX_vdwq_10.xvg data_lig_Jorg_4WR8/mol_free_ener_1ns/03_prod/prod_3TX_vdwq_11.xvg data_lig_Jorg_4WR8/mol_free_ener_1ns/03_prod/prod_3TX_vdwq_12.xvg data_lig_Jorg_4WR8/mol_free_ener_1ns/03_prod/prod_3TX_vdwq_13.xvg data_lig_Jorg_4WR8/mol_free_ener_1ns/03_prod/prod_3TX_vdwq_14.xvg data_lig_Jorg_4WR8/mol_free_ener_1ns/03_prod/prod_3TX_vdwq_15.xvg -o bar.xvg -oi barint.xvg -oh histogram.xvg -b 0 -e -1\n",
      "DDG = -62.82 +/- 2.34 KJ/mol-1\n",
      "DDG = -15.01 +/- 0.56 Kcal/mol-1\n",
      "Log P = 86.25 +/- -3.21\n"
     ]
    }
   ],
   "source": [
    "ener_solv = test.free_ener(out_folder=os.path.join(DATA_OUT, 'mol_free_ener_1ns'),\n",
    "                      mol_name=MOL_ID, lambda_elec_num=5, lambda_vdw_num=10,\n",
    "                      em_steps=5000, nvt_time=10, npt_time=10, prod_time=50)"
   ]
  },
  {
   "cell_type": "code",
   "execution_count": 18,
   "metadata": {},
   "outputs": [
    {
     "data": {
      "text/plain": [
       "14.943599999999993"
      ]
     },
     "execution_count": 18,
     "metadata": {},
     "output_type": "execute_result"
    }
   ],
   "source": [
    "ener_solv['table']['DG (kT)'].sum()*0.593"
   ]
  },
  {
   "cell_type": "code",
   "execution_count": 19,
   "metadata": {},
   "outputs": [
    {
     "name": "stdout",
     "output_type": "stream",
     "text": [
      "13.87027\n",
      "1.0733299999999997\n",
      "14.943599999999998\n"
     ]
    }
   ],
   "source": [
    "lambda_elec_num=5\n",
    "lambda_vdw_num=10\n",
    "vdw_contrib = ener_solv['table']['DG (kT)'][lambda_elec_num:lambda_elec_num+lambda_vdw_num].sum()\n",
    "coulomb_contrib = ener_solv['table']['DG (kT)'][:lambda_elec_num].sum()\n",
    "print(0.593*coulomb_contrib)\n",
    "print(0.593*vdw_contrib)\n",
    "print(0.593*(coulomb_contrib+vdw_contrib))"
   ]
  },
  {
   "cell_type": "markdown",
   "metadata": {},
   "source": [
    "## Protein-Ligand system preparation"
   ]
  },
  {
   "cell_type": "code",
   "execution_count": 20,
   "metadata": {},
   "outputs": [
    {
     "name": "stdout",
     "output_type": "stream",
     "text": [
      "- Create pbc box\n",
      "create_box not launched data_lig_Jorg_4WR8/prot_top/4WR8_pdb2gmx_mol_box.pdb already exist\n",
      "Mdp files not created, Init_em_4WR8.mdp already exist\n",
      "- Create the tpr file Init_em_4WR8.tpr\n",
      "create_tpr not launched Init_em_4WR8.tpr already exist\n",
      "- Launch the simulation Init_em_4WR8.tpr\n",
      "Simulation not launched Init_em_4WR8.gro already exist\n",
      "Mdp files not created, 4WR8.mdp already exist\n",
      "- Create the tpr file 4WR8.tpr\n",
      "create_tpr not launched 4WR8.tpr already exist\n",
      "- Launch the simulation 4WR8.tpr\n",
      "Simulation not launched 4WR8.gro already exist\n"
     ]
    }
   ],
   "source": [
    "md_sys.em_2_steps(out_folder=os.path.join(DATA_OUT, 'prot_em'),\n",
    "                  no_constr_nsteps=10000,\n",
    "                  constr_nsteps=10000,\n",
    "                  posres=\"\",\n",
    "                  emtol=0.1, nstxout=100, maxwarn=3,\n",
    "                  create_box_flag=True)"
   ]
  },
  {
   "cell_type": "code",
   "execution_count": 21,
   "metadata": {},
   "outputs": [
    {
     "name": "stdout",
     "output_type": "stream",
     "text": [
      "- Convert trj/coor\n",
      "convert trj not launched data_lig_Jorg_4WR8/prot_em/4WR8_compact.pdb already exist\n",
      "Succeed to read file data_lig_Jorg_4WR8/prot_em/4WR8_compact.pdb ,  5209 atoms found\n"
     ]
    },
    {
     "data": {
      "application/vnd.jupyter.widget-view+json": {
       "model_id": "5cbaa28345ad48cc93df1537b829f58f",
       "version_major": 2,
       "version_minor": 0
      },
      "text/plain": [
       "NGLWidget()"
      ]
     },
     "metadata": {},
     "output_type": "display_data"
    }
   ],
   "source": [
    "view = md_sys.view_coor()\n",
    "view"
   ]
  },
  {
   "cell_type": "code",
   "execution_count": 22,
   "metadata": {},
   "outputs": [
    {
     "name": "stdout",
     "output_type": "stream",
     "text": [
      "- Solvate the pbc box\n",
      "solvate_box not launched 4WR8_water.pdb already exist\n",
      "add ions not launched 4WR8_water_ion.gro already exist\n",
      "name         : 4WR8\n",
      "sim_name     : 4WR8\n",
      "coor_file    : data_lig_Jorg_4WR8/sys_top/4WR8_water_ion.gro\n",
      "top_file     : data_lig_Jorg_4WR8/sys_top/4WR8_water_ion.top\n",
      "tpr          : data_lig_Jorg_4WR8/prot_em/4WR8.tpr\n",
      "mdp          : data_lig_Jorg_4WR8/prot_em/4WR8.mdp\n",
      "xtc          : data_lig_Jorg_4WR8/prot_em/4WR8.trr\n",
      "edr          : data_lig_Jorg_4WR8/prot_em/4WR8.edr\n",
      "log          : data_lig_Jorg_4WR8/prot_em/4WR8.log\n",
      "nt           : 0\n",
      "ntmpi        : 0\n",
      "sys_history  : 2\n"
     ]
    }
   ],
   "source": [
    "md_sys.solvate_add_ions(out_folder=os.path.join(DATA_OUT, 'sys_top'),\n",
    "                        ion_C=0.15, maxwarn=3, create_box_flag=False)\n",
    "md_sys.display()\n"
   ]
  },
  {
   "cell_type": "code",
   "execution_count": 23,
   "metadata": {},
   "outputs": [
    {
     "name": "stdout",
     "output_type": "stream",
     "text": [
      "Mdp files not created, Init_em_4WR8.mdp already exist\n",
      "- Create the tpr file Init_em_4WR8.tpr\n",
      "create_tpr not launched Init_em_4WR8.tpr already exist\n",
      "- Launch the simulation Init_em_4WR8.tpr\n",
      "Simulation not launched Init_em_4WR8.gro already exist\n",
      "Mdp files not created, 4WR8.mdp already exist\n",
      "- Create the tpr file 4WR8.tpr\n",
      "create_tpr not launched 4WR8.tpr already exist\n",
      "- Launch the simulation 4WR8.tpr\n",
      "Simulation not launched 4WR8.gro already exist\n"
     ]
    }
   ],
   "source": [
    "md_sys.em_2_steps(out_folder=os.path.join(DATA_OUT, 'sys_em'),\n",
    "                  no_constr_nsteps=10000,\n",
    "                  constr_nsteps=10000,\n",
    "                  posres=\"\",maxwarn=3)"
   ]
  },
  {
   "cell_type": "code",
   "execution_count": 24,
   "metadata": {},
   "outputs": [
    {
     "name": "stdout",
     "output_type": "stream",
     "text": [
      "Mdp files not created, equi_HA_short_4WR8.mdp already exist\n",
      "- Create the tpr file equi_HA_short_4WR8.tpr\n",
      "create_tpr not launched equi_HA_short_4WR8.tpr already exist\n",
      "- Launch the simulation equi_HA_short_4WR8.tpr\n",
      "Simulation not launched equi_HA_short_4WR8.gro already exist\n"
     ]
    }
   ],
   "source": [
    "mdp_options = {'nsteps': 20000,\n",
    "               'define': '-DPOSRES', 'dt': 0.0005,\n",
    "               'tc-grps': 'Protein {} Water_and_ions'.format(MOL_ID),\n",
    "               'tau_t': '0.1 0.1 0.1',\n",
    "               'ref_t' : '310 310 310'}\n",
    "\n",
    "equi_template_mdp = os.path.join(gmx.GROMACS_MOD_DIRNAME,\n",
    "                                 \"template/equi.mdp\")\n",
    "md_sys.run_md_sim(out_folder=os.path.join(DATA_OUT, \"sys_short_equi\"),\n",
    "                  name=\"equi_HA_short_\" + PDB_ID,\n",
    "                  mdp_template=equi_template_mdp,\n",
    "                  mdp_options=mdp_options, maxwarn=3)"
   ]
  },
  {
   "cell_type": "code",
   "execution_count": 25,
   "metadata": {
    "scrolled": false
   },
   "outputs": [
    {
     "name": "stdout",
     "output_type": "stream",
     "text": [
      "Mdp files not created, equi_HA_4WR8.mdp already exist\n",
      "- Create the tpr file equi_HA_4WR8.tpr\n",
      "create_tpr not launched equi_HA_4WR8.tpr already exist\n",
      "- Launch the simulation equi_HA_4WR8.tpr\n",
      "Simulation not launched equi_HA_4WR8.gro already exist\n",
      "Mdp files not created, equi_CA_4WR8.mdp already exist\n",
      "- Create the tpr file equi_CA_4WR8.tpr\n",
      "create_tpr not launched equi_CA_4WR8.tpr already exist\n",
      "- Launch the simulation equi_CA_4WR8.tpr\n",
      "Simulation not launched equi_CA_4WR8.gro already exist\n",
      "Mdp files not created, equi_CA_LOW_4WR8.mdp already exist\n",
      "- Create the tpr file equi_CA_LOW_4WR8.tpr\n",
      "create_tpr not launched equi_CA_LOW_4WR8.tpr already exist\n",
      "- Launch the simulation equi_CA_LOW_4WR8.tpr\n",
      "Simulation not launched equi_CA_LOW_4WR8.gro already exist\n"
     ]
    }
   ],
   "source": [
    "HA_time = 0.25\n",
    "CA_time = 0.5\n",
    "CA_LOW_time = 1.0\n",
    "dt = 0.002\n",
    "dt_HA = 0.001\n",
    "\n",
    "md_sys.equi_three_step(out_folder=os.path.join(DATA_OUT, 'sys_equi'),\n",
    "                                     nsteps_HA=1000 * HA_time / dt_HA,\n",
    "                                     nsteps_CA=1000 * CA_time / dt,\n",
    "                                     nsteps_CA_LOW=1000 * CA_LOW_time / dt,\n",
    "                                     dt=dt, dt_HA=dt_HA, maxwarn=3)\n"
   ]
  },
  {
   "cell_type": "code",
   "execution_count": 26,
   "metadata": {},
   "outputs": [
    {
     "data": {
      "application/vnd.jupyter.widget-view+json": {
       "model_id": "2d2c26a705ed40dba1d5c0b13be0c48d",
       "version_major": 2,
       "version_minor": 0
      },
      "text/plain": [
       "NGLWidget(max_frame=100)"
      ]
     },
     "metadata": {},
     "output_type": "display_data"
    }
   ],
   "source": [
    "view = md_sys.view_traj()\n",
    "view"
   ]
  },
  {
   "cell_type": "code",
   "execution_count": 211,
   "metadata": {},
   "outputs": [],
   "source": [
    "start_sys = copy.deepcopy(md_sys)"
   ]
  },
  {
   "cell_type": "code",
   "execution_count": 212,
   "metadata": {},
   "outputs": [
    {
     "name": "stdout",
     "output_type": "stream",
     "text": [
      "/home/murail/Documents/Code/gromacs_py/docs/notebook\n"
     ]
    }
   ],
   "source": [
    "cd /home/murail/Documents/Code/gromacs_py/docs/notebook/"
   ]
  },
  {
   "cell_type": "code",
   "execution_count": 213,
   "metadata": {},
   "outputs": [],
   "source": [
    "#rm -r data_lig_trypsin/free_test_2"
   ]
  },
  {
   "cell_type": "markdown",
   "metadata": {},
   "source": [
    "## Free energy calculation of binding\n",
    "\n",
    "```\n",
    "point      0 -      1,   DG 43.22 +/-  0.32\n",
    "point      1 -      2,   DG 39.30 +/-  0.20\n",
    "point      2 -      3,   DG 34.61 +/-  0.22\n",
    "point      3 -      4,   DG 30.03 +/-  0.26\n",
    "point      4 -      5,   DG 26.29 +/-  0.12\n",
    "point      5 -      6,   DG 22.48 +/-  0.19\n",
    "point      6 -      7,   DG 18.60 +/-  0.31\n",
    "point      7 -      8,   DG 16.04 +/-  0.43\n",
    "point      8 -      9,   DG 12.41 +/-  0.55\n",
    "point      9 -     10,   DG  7.56 +/-  0.65\n",
    "point     10 -     11,   DG 11.13 +/-  0.16\n",
    "point     11 -     12,   DG 10.94 +/-  0.12\n",
    "point     12 -     13,   DG 10.27 +/-  0.33\n",
    "point     13 -     14,   DG  9.46 +/-  0.18\n",
    "point     14 -     15,   DG  8.84 +/-  0.40\n",
    "point     15 -     16,   DG  6.52 +/-  0.23\n",
    "point     16 -     17,   DG  1.31 +/-  1.79\n",
    "point     17 -     18,   DG -4.80 +/-  2.10\n",
    "point     18 -     19,   DG -7.12 +/-  0.53\n",
    "point     19 -     20,   DG -5.49 +/-  0.94\n",
    "\n",
    "total      0 -     20,   DG 291.59 +/-  6.12\n",
    "```\n",
    "\n",
    "Coulomb = 250.5 KJ/mol\n",
    "LJ =       41.06 KJ/mol\n",
    "\n",
    "```\n",
    "\n",
    "point      0 -      1,   DG  1.10 +/-  0.11\n",
    "point      1 -      2,   DG  0.65 +/-  0.05\n",
    "point      2 -      3,   DG  0.49 +/-  0.03\n",
    "point      3 -      4,   DG  0.40 +/-  0.02\n",
    "point      4 -      5,   DG  0.40 +/-  0.03\n",
    "point      5 -      6,   DG 82.68 +/-  0.24\n",
    "point      6 -      7,   DG 68.01 +/-  0.41\n",
    "point      7 -      8,   DG 51.16 +/-  0.91\n",
    "point      8 -      9,   DG 35.90 +/-  0.76\n",
    "point      9 -     10,   DG 23.08 +/-  0.35\n",
    "\n",
    "total      0 -     10,   DG 263.86 +/-  1.46\n",
    "```\n",
    "\n",
    "Rest = 3.04 KJ/mol\n",
    "Coulomb = 260.83 KJ/mol"
   ]
  },
  {
   "cell_type": "code",
   "execution_count": 214,
   "metadata": {},
   "outputs": [
    {
     "name": "stdout",
     "output_type": "stream",
     "text": [
      "- Convert trj/coor\n",
      "convert trj not launched data_lig_Jorg_4WR8/sys_equi/02_equi_CA_LOW/equi_CA_LOW_4WR8_compact.pdb already exist\n",
      "Succeed to read file data_lig_Jorg_4WR8/sys_equi/02_equi_CA_LOW/equi_CA_LOW_4WR8_compact.pdb ,  30314 atoms found\n"
     ]
    }
   ],
   "source": [
    "#start_sys.add_intermol_restr_index([4368, 4370, 4377],[5185, 5183, 5184])"
   ]
  },
  {
   "cell_type": "code",
   "execution_count": 31,
   "metadata": {},
   "outputs": [
    {
     "name": "stdout",
     "output_type": "stream",
     "text": [
      "- Create the ndx file data_lig_Jorg_4WR8/sys_equi/02_equi_CA_LOW/equi_CA_LOW_4WR8.ndx\n",
      "add_ndx not launched data_lig_Jorg_4WR8/sys_equi/02_equi_CA_LOW/equi_CA_LOW_4WR8.ndx already exist\n"
     ]
    }
   ],
   "source": [
    "#start_sys.add_ndx('q\\n')"
   ]
  },
  {
   "cell_type": "code",
   "execution_count": 215,
   "metadata": {},
   "outputs": [],
   "source": [
    "def compute_add_intermol_from_traj(self, lig_name, rec_group='Protein', k=41.84):\n",
    "    \"\"\" Compute intermolecular restraint from the last GmxSys trajectory.\n",
    "    \"\"\"\n",
    "    \n",
    "    # Get a coor object:\n",
    "    # Get distance and angles\n",
    "    if not self.coor_file.endswith('.pdb'):\n",
    "        self.convert_trj(traj=False)\n",
    "    coor = pdb_manip.Coor(self.coor_file)\n",
    "\n",
    "    # Center and align traj:\n",
    "    self.convert_trj(select=rec_group + '\\n System', center='yes')\n",
    "    self.convert_trj(select=rec_group + '\\n System', fit='rot+trans', pbc='none')\n",
    "\n",
    "    # Get RMSF for ligand:\n",
    "    lig_rmsf = self.get_rmsf([lig_name])\n",
    "    # Sort df by RMSF\n",
    "    lig_rmsf = lig_rmsf.sort_values(by=['(nm)'])\n",
    "    # Get the stablest atom which is not Hydrogen\n",
    "    for i, row in lig_rmsf.iterrows():\n",
    "        atom = coor.atom_dict[int(row['Atom'])]\n",
    "        if not atom['name'].startswith('H'):\n",
    "            lig_atom_list = [int(row['Atom'])]\n",
    "            break\n",
    "    # Get connected atoms:\n",
    "    lig_coor = coor.select_part_dict({'res_name': [lig_name]})\n",
    "    atom_coor = pdb_manip.Coor()\n",
    "    \n",
    "    # Add 2 close atom consecutively\n",
    "    for _ in range(2):\n",
    "        atom_coor.atom_dict = {0: coor.atom_dict[lig_atom_list[-1]]}\n",
    "        close_lig_atoms = lig_coor.get_index_dist_between(atom_coor, cutoff_min = 1.0, cutoff_max = 2.0)\n",
    "        for i in close_lig_atoms:\n",
    "            atom = coor.atom_dict[i]\n",
    "            if not atom['name'].startswith('H') and i not in lig_atom_list:\n",
    "                lig_atom_list.append(i)\n",
    "                break\n",
    "    \n",
    "    # Atom index need to be +1 to be in gromacs numbering\n",
    "    lig_atom_list = [index + 1 for index in lig_atom_list]\n",
    "    print(lig_atom_list)\n",
    "    \n",
    "    # Get protein RMSF\n",
    "    prot_rmsf = self.get_rmsf([rec_group])\n",
    "    \n",
    "    # Get backbone protein atom around the ligand:\n",
    "    backbone = coor.select_part_dict({'name': ['N', 'C', 'O', 'CA']})\n",
    "    # Create coor for the 3 ligand atoms\n",
    "    atom_coor.atom_dict = {i: coor.atom_dict[lig_atom_list[i]] for i in range(3)}\n",
    "    around_atom = backbone.get_index_dist_between(atom_coor, cutoff_min = 1.0, cutoff_max = 6.0)\n",
    "    # Extract RMSF of contact atoms\n",
    "    around_lig_df = prot_rmsf[prot_rmsf.Atom.isin(around_atom)]\n",
    "    around_lig_df = around_lig_df.sort_values(by=['(nm)'])\n",
    "    # Get residue of stablest atom:\n",
    "    uniq_res = coor.atom_dict[around_lig_df.reset_index().loc[0, 'Atom']]['uniq_resid']\n",
    "    rec_atom_list = coor.get_index_selection({'uniq_resid' : [uniq_res], 'name': ['C']})\n",
    "    rec_atom_list += coor.get_index_selection({'uniq_resid' : [uniq_res], 'name': ['CA']})\n",
    "    rec_atom_list += coor.get_index_selection({'uniq_resid' : [uniq_res], 'name': ['N']})\n",
    "\n",
    "    # Atom index need to be +1 to be in gromacs numbering\n",
    "    rec_atom_list = [index + 1 for index in rec_atom_list]\n",
    "    print(rec_atom_list)\n",
    "    # Add C, CA, N\n",
    "    \n",
    "    self.add_intermol_restr_index(rec_atom_list, lig_atom_list, k=k)\n",
    "        \n",
    "gmx.GmxSys.compute_add_intermol_from_traj = compute_add_intermol_from_traj"
   ]
  },
  {
   "cell_type": "code",
   "execution_count": 210,
   "metadata": {},
   "outputs": [
    {
     "name": "stdout",
     "output_type": "stream",
     "text": [
      "Succeed to read file data_lig_Jorg_4WR8/sys_equi/02_equi_CA_LOW/equi_CA_LOW_4WR8_compact.pdb ,  30314 atoms found\n",
      "- Convert trj/coor\n",
      "gmx trjconv -f data_lig_Jorg_4WR8/sys_equi/02_equi_CA_LOW/equi_CA_LOW_4WR8_compact_compact_compact_compact_compact_compact_compact_compact_compact_compact_compact.xtc -o data_lig_Jorg_4WR8/sys_equi/02_equi_CA_LOW/equi_CA_LOW_4WR8_compact_compact_compact_compact_compact_compact_compact_compact_compact_compact_compact_compact.xtc -s data_lig_Jorg_4WR8/sys_equi/02_equi_CA_LOW/equi_CA_LOW_4WR8.tpr -ur compact -pbc mol -center yes -n data_lig_Jorg_4WR8/sys_equi/02_equi_CA_LOW/equi_CA_LOW_4WR8.ndx\n",
      "- Convert trj/coor\n",
      "gmx trjconv -f data_lig_Jorg_4WR8/sys_equi/02_equi_CA_LOW/equi_CA_LOW_4WR8_compact_compact_compact_compact_compact_compact_compact_compact_compact_compact_compact_compact.xtc -o data_lig_Jorg_4WR8/sys_equi/02_equi_CA_LOW/equi_CA_LOW_4WR8_compact_compact_compact_compact_compact_compact_compact_compact_compact_compact_compact_compact_compact.xtc -s data_lig_Jorg_4WR8/sys_equi/02_equi_CA_LOW/equi_CA_LOW_4WR8.tpr -ur compact -pbc none -fit rot+trans -n data_lig_Jorg_4WR8/sys_equi/02_equi_CA_LOW/equi_CA_LOW_4WR8.ndx\n",
      "- Extract RMSF\n",
      "gmx rmsf -s data_lig_Jorg_4WR8/sys_equi/02_equi_CA_LOW/equi_CA_LOW_4WR8.tpr -f data_lig_Jorg_4WR8/sys_equi/02_equi_CA_LOW/equi_CA_LOW_4WR8_compact_compact_compact_compact_compact_compact_compact_compact_compact_compact_compact_compact_compact.xtc -n data_lig_Jorg_4WR8/sys_equi/02_equi_CA_LOW/equi_CA_LOW_4WR8.ndx -o tmp_rmsf.xvg -fit no -res no\n",
      "[5183, 5182, 5179]\n",
      "- Extract RMSF\n",
      "gmx rmsf -s data_lig_Jorg_4WR8/sys_equi/02_equi_CA_LOW/equi_CA_LOW_4WR8.tpr -f data_lig_Jorg_4WR8/sys_equi/02_equi_CA_LOW/equi_CA_LOW_4WR8_compact_compact_compact_compact_compact_compact_compact_compact_compact_compact_compact_compact_compact.xtc -n data_lig_Jorg_4WR8/sys_equi/02_equi_CA_LOW/equi_CA_LOW_4WR8.ndx -o tmp_rmsf.xvg -fit no -res no\n",
      "[4377, 4370, 4368]\n",
      "Succeed to read file data_lig_Jorg_4WR8/sys_equi/02_equi_CA_LOW/equi_CA_LOW_4WR8_compact.pdb ,  30314 atoms found\n"
     ]
    }
   ],
   "source": [
    "test = start_sys.compute_add_intermol_from_traj(lig_name='3TX')\n"
   ]
  },
  {
   "cell_type": "code",
   "execution_count": 196,
   "metadata": {},
   "outputs": [
    {
     "data": {
      "text/html": [
       "<div>\n",
       "<style scoped>\n",
       "    .dataframe tbody tr th:only-of-type {\n",
       "        vertical-align: middle;\n",
       "    }\n",
       "\n",
       "    .dataframe tbody tr th {\n",
       "        vertical-align: top;\n",
       "    }\n",
       "\n",
       "    .dataframe thead th {\n",
       "        text-align: right;\n",
       "    }\n",
       "</style>\n",
       "<table border=\"1\" class=\"dataframe\">\n",
       "  <thead>\n",
       "    <tr style=\"text-align: right;\">\n",
       "      <th></th>\n",
       "      <th>Atom</th>\n",
       "      <th>(nm)</th>\n",
       "    </tr>\n",
       "  </thead>\n",
       "  <tbody>\n",
       "    <tr>\n",
       "      <th>4376</th>\n",
       "      <td>4377</td>\n",
       "      <td>0.0316</td>\n",
       "    </tr>\n",
       "    <tr>\n",
       "      <th>3999</th>\n",
       "      <td>4000</td>\n",
       "      <td>0.0332</td>\n",
       "    </tr>\n",
       "    <tr>\n",
       "      <th>4365</th>\n",
       "      <td>4366</td>\n",
       "      <td>0.0335</td>\n",
       "    </tr>\n",
       "    <tr>\n",
       "      <th>3147</th>\n",
       "      <td>3148</td>\n",
       "      <td>0.0342</td>\n",
       "    </tr>\n",
       "    <tr>\n",
       "      <th>3464</th>\n",
       "      <td>3465</td>\n",
       "      <td>0.0344</td>\n",
       "    </tr>\n",
       "    <tr>\n",
       "      <th>4368</th>\n",
       "      <td>4369</td>\n",
       "      <td>0.0372</td>\n",
       "    </tr>\n",
       "    <tr>\n",
       "      <th>4395</th>\n",
       "      <td>4396</td>\n",
       "      <td>0.0384</td>\n",
       "    </tr>\n",
       "    <tr>\n",
       "      <th>3981</th>\n",
       "      <td>3982</td>\n",
       "      <td>0.0408</td>\n",
       "    </tr>\n",
       "    <tr>\n",
       "      <th>3465</th>\n",
       "      <td>3466</td>\n",
       "      <td>0.0410</td>\n",
       "    </tr>\n",
       "    <tr>\n",
       "      <th>3467</th>\n",
       "      <td>3468</td>\n",
       "      <td>0.0431</td>\n",
       "    </tr>\n",
       "    <tr>\n",
       "      <th>4379</th>\n",
       "      <td>4380</td>\n",
       "      <td>0.0433</td>\n",
       "    </tr>\n",
       "    <tr>\n",
       "      <th>4366</th>\n",
       "      <td>4367</td>\n",
       "      <td>0.0436</td>\n",
       "    </tr>\n",
       "    <tr>\n",
       "      <th>3463</th>\n",
       "      <td>3464</td>\n",
       "      <td>0.0470</td>\n",
       "    </tr>\n",
       "    <tr>\n",
       "      <th>4377</th>\n",
       "      <td>4378</td>\n",
       "      <td>0.0509</td>\n",
       "    </tr>\n",
       "    <tr>\n",
       "      <th>4364</th>\n",
       "      <td>4365</td>\n",
       "      <td>0.0623</td>\n",
       "    </tr>\n",
       "    <tr>\n",
       "      <th>3461</th>\n",
       "      <td>3462</td>\n",
       "      <td>0.0706</td>\n",
       "    </tr>\n",
       "    <tr>\n",
       "      <th>3998</th>\n",
       "      <td>3999</td>\n",
       "      <td>0.0947</td>\n",
       "    </tr>\n",
       "    <tr>\n",
       "      <th>4394</th>\n",
       "      <td>4395</td>\n",
       "      <td>0.1132</td>\n",
       "    </tr>\n",
       "    <tr>\n",
       "      <th>3480</th>\n",
       "      <td>3481</td>\n",
       "      <td>0.1325</td>\n",
       "    </tr>\n",
       "    <tr>\n",
       "      <th>3449</th>\n",
       "      <td>3450</td>\n",
       "      <td>0.1393</td>\n",
       "    </tr>\n",
       "    <tr>\n",
       "      <th>4375</th>\n",
       "      <td>4376</td>\n",
       "      <td>0.1406</td>\n",
       "    </tr>\n",
       "  </tbody>\n",
       "</table>\n",
       "</div>"
      ],
      "text/plain": [
       "      Atom    (nm)\n",
       "4376  4377  0.0316\n",
       "3999  4000  0.0332\n",
       "4365  4366  0.0335\n",
       "3147  3148  0.0342\n",
       "3464  3465  0.0344\n",
       "4368  4369  0.0372\n",
       "4395  4396  0.0384\n",
       "3981  3982  0.0408\n",
       "3465  3466  0.0410\n",
       "3467  3468  0.0431\n",
       "4379  4380  0.0433\n",
       "4366  4367  0.0436\n",
       "3463  3464  0.0470\n",
       "4377  4378  0.0509\n",
       "4364  4365  0.0623\n",
       "3461  3462  0.0706\n",
       "3998  3999  0.0947\n",
       "4394  4395  0.1132\n",
       "3480  3481  0.1325\n",
       "3449  3450  0.1393\n",
       "4375  4376  0.1406"
      ]
     },
     "execution_count": 196,
     "metadata": {},
     "output_type": "execute_result"
    }
   ],
   "source": [
    "test"
   ]
  },
  {
   "cell_type": "code",
   "execution_count": 143,
   "metadata": {},
   "outputs": [
    {
     "name": "stdout",
     "output_type": "stream",
     "text": [
      "- Extract RMSF\n",
      "gmx rmsf -s data_lig_Jorg_4WR8/sys_equi/02_equi_CA_LOW/equi_CA_LOW_4WR8.tpr -f data_lig_Jorg_4WR8/sys_equi/02_equi_CA_LOW/equi_CA_LOW_4WR8_compact_compact_compact_compact_compact.xtc -n data_lig_Jorg_4WR8/sys_equi/02_equi_CA_LOW/equi_CA_LOW_4WR8.ndx -o tmp_rmsf.xvg -fit no -res no\n"
     ]
    }
   ],
   "source": [
    "test = start_sys.get_rmsf(['3TX'])"
   ]
  },
  {
   "cell_type": "code",
   "execution_count": 52,
   "metadata": {},
   "outputs": [
    {
     "data": {
      "text/html": [
       "<div>\n",
       "<style scoped>\n",
       "    .dataframe tbody tr th:only-of-type {\n",
       "        vertical-align: middle;\n",
       "    }\n",
       "\n",
       "    .dataframe tbody tr th {\n",
       "        vertical-align: top;\n",
       "    }\n",
       "\n",
       "    .dataframe thead th {\n",
       "        text-align: right;\n",
       "    }\n",
       "</style>\n",
       "<table border=\"1\" class=\"dataframe\">\n",
       "  <thead>\n",
       "    <tr style=\"text-align: right;\">\n",
       "      <th></th>\n",
       "      <th>Atom</th>\n",
       "      <th>(nm)</th>\n",
       "    </tr>\n",
       "  </thead>\n",
       "  <tbody>\n",
       "    <tr>\n",
       "      <th>6</th>\n",
       "      <td>5182</td>\n",
       "      <td>0.0362</td>\n",
       "    </tr>\n",
       "    <tr>\n",
       "      <th>9</th>\n",
       "      <td>5185</td>\n",
       "      <td>0.0370</td>\n",
       "    </tr>\n",
       "    <tr>\n",
       "      <th>3</th>\n",
       "      <td>5179</td>\n",
       "      <td>0.0373</td>\n",
       "    </tr>\n",
       "    <tr>\n",
       "      <th>11</th>\n",
       "      <td>5187</td>\n",
       "      <td>0.0374</td>\n",
       "    </tr>\n",
       "    <tr>\n",
       "      <th>7</th>\n",
       "      <td>5183</td>\n",
       "      <td>0.0377</td>\n",
       "    </tr>\n",
       "    <tr>\n",
       "      <th>2</th>\n",
       "      <td>5178</td>\n",
       "      <td>0.0384</td>\n",
       "    </tr>\n",
       "    <tr>\n",
       "      <th>10</th>\n",
       "      <td>5186</td>\n",
       "      <td>0.0390</td>\n",
       "    </tr>\n",
       "    <tr>\n",
       "      <th>5</th>\n",
       "      <td>5181</td>\n",
       "      <td>0.0395</td>\n",
       "    </tr>\n",
       "    <tr>\n",
       "      <th>1</th>\n",
       "      <td>5177</td>\n",
       "      <td>0.0399</td>\n",
       "    </tr>\n",
       "    <tr>\n",
       "      <th>8</th>\n",
       "      <td>5184</td>\n",
       "      <td>0.0400</td>\n",
       "    </tr>\n",
       "  </tbody>\n",
       "</table>\n",
       "</div>"
      ],
      "text/plain": [
       "    Atom    (nm)\n",
       "6   5182  0.0362\n",
       "9   5185  0.0370\n",
       "3   5179  0.0373\n",
       "11  5187  0.0374\n",
       "7   5183  0.0377\n",
       "2   5178  0.0384\n",
       "10  5186  0.0390\n",
       "5   5181  0.0395\n",
       "1   5177  0.0399\n",
       "8   5184  0.0400"
      ]
     },
     "execution_count": 52,
     "metadata": {},
     "output_type": "execute_result"
    }
   ],
   "source": [
    "test = test.sort_values(by=['(nm)'])\n",
    "test.iloc[0:10]"
   ]
  },
  {
   "cell_type": "code",
   "execution_count": 80,
   "metadata": {},
   "outputs": [
    {
     "name": "stdout",
     "output_type": "stream",
     "text": [
      "6\n",
      "5182.0\n",
      "9\n",
      "5185.0\n",
      "3\n",
      "5179.0\n",
      "11\n",
      "5187.0\n",
      "7\n",
      "5183.0\n",
      "2\n",
      "5178.0\n",
      "10\n",
      "5186.0\n",
      "5\n",
      "5181.0\n",
      "1\n",
      "5177.0\n",
      "8\n",
      "5184.0\n"
     ]
    }
   ],
   "source": [
    "for i, row in test.iloc[0:10].iterrows():\n",
    "    print(i)\n",
    "    print(row['Atom'])"
   ]
  },
  {
   "cell_type": "code",
   "execution_count": 55,
   "metadata": {},
   "outputs": [
    {
     "data": {
      "text/plain": [
       "[]"
      ]
     },
     "execution_count": 55,
     "metadata": {},
     "output_type": "execute_result"
    }
   ],
   "source": [
    "top = gmx.TopSys(start_sys.top_file)\n",
    "\n",
    "top.inter_angl_list"
   ]
  },
  {
   "cell_type": "code",
   "execution_count": 32,
   "metadata": {},
   "outputs": [
    {
     "name": "stdout",
     "output_type": "stream",
     "text": [
      "- Convert trj/coor\n",
      "convert trj not launched data_lig_Jorg_4WR8/sys_equi/02_equi_CA_LOW/equi_CA_LOW_4WR8_compact.xtc already exist\n"
     ]
    }
   ],
   "source": [
    "start_sys.convert_trj()"
   ]
  },
  {
   "cell_type": "code",
   "execution_count": 33,
   "metadata": {
    "scrolled": false
   },
   "outputs": [
    {
     "name": "stdout",
     "output_type": "stream",
     "text": [
      "- Extract RMSD\n",
      "gmx rms -s data_lig_Jorg_4WR8/sys_equi/02_equi_CA_LOW/equi_CA_LOW_4WR8.tpr -f data_lig_Jorg_4WR8/sys_equi/02_equi_CA_LOW/equi_CA_LOW_4WR8_compact.xtc -o tmp_rmsd.xvg -fit rot+trans -ng 1 -pbc no\n"
     ]
    },
    {
     "data": {
      "text/plain": [
       "<AxesSubplot:xlabel='Time (ps)'>"
      ]
     },
     "execution_count": 33,
     "metadata": {},
     "output_type": "execute_result"
    },
    {
     "data": {
      "image/png": "[encoded data removed]",
      "text/plain": [
       "<Figure size 432x288 with 1 Axes>"
      ]
     },
     "metadata": {
      "needs_background": "light"
     },
     "output_type": "display_data"
    }
   ],
   "source": [
    "start_sys.get_rmsd(['C-alpha', 'Protein']).plot('Time (ps)')"
   ]
  },
  {
   "cell_type": "code",
   "execution_count": 37,
   "metadata": {},
   "outputs": [
    {
     "name": "stdout",
     "output_type": "stream",
     "text": [
      "- Create the ndx file 4WR8.ndx\n",
      "gmx make_ndx -f data_lig_Jorg_4WR8/sys_equi/02_equi_CA_LOW/equi_CA_LOW_4WR8_compact.pdb -o 4WR8.ndx\n"
     ]
    }
   ],
   "source": [
    "start_sys.add_ndx('q/n')"
   ]
  },
  {
   "cell_type": "code",
   "execution_count": 239,
   "metadata": {},
   "outputs": [
    {
     "name": "stdout",
     "output_type": "stream",
     "text": [
      "Succeed to read file data_lig_Jorg_4WR8/sys_equi/02_equi_CA_LOW/equi_CA_LOW_4WR8_compact_compact.pdb ,  30314 atoms found\n",
      "Dist = 0.66 nm\n",
      "Angle 1 = 109.17\n",
      "Angle 2 = 14.89\n",
      "Dihed Angle 1 = 9.23\n",
      "Dihed Angle 2 = -29.95\n",
      "Dihed Angle 3 = -29.95\n",
      "-20831.87105195595\n"
     ]
    }
   ],
   "source": [
    "#start_sys.convert_trj(traj=False)\n",
    "coor = pdb_manip.Coor(start_sys.coor_file)\n",
    "\n",
    "rec_index_list, lig_index_list = [4368, 4370, 4377],[5185, 5183, 5184]\n",
    "\n",
    "dist = pdb_manip.Coor.atom_dist(coor.atom_dict[rec_index_list[0]],\n",
    "                          coor.atom_dict[lig_index_list[0]]) / 10.0\n",
    "\n",
    "print('Dist = {:.2f} nm'.format(dist))\n",
    "\n",
    "bond_type = 1\n",
    "angle_type = 1\n",
    "dihed_type = 1\n",
    "k=41.84\n",
    "\n",
    "bond_list = [[rec_index_list[0],\n",
    "              lig_index_list[0],\n",
    "              bond_type,\n",
    "              round(dist, 3),\n",
    "              k*100,\n",
    "              round(dist, 3),\n",
    "              k*100]]\n",
    "# R0-L0-L1\n",
    "angle_1 = pdb_manip.Coor.atom_angle(coor.atom_dict[rec_index_list[0]],\n",
    "                                    coor.atom_dict[lig_index_list[0]],\n",
    "                                    coor.atom_dict[lig_index_list[1]])\n",
    "# R1-R0-L0\n",
    "angle_2 = pdb_manip.Coor.atom_angle(coor.atom_dict[rec_index_list[1]],\n",
    "                                    coor.atom_dict[rec_index_list[0]],\n",
    "                                    coor.atom_dict[lig_index_list[0]])\n",
    "print('Angle 1 = {:.2f}'.format(angle_1))\n",
    "print('Angle 2 = {:.2f}'.format(angle_2))\n",
    "\n",
    "angle_list = [[rec_index_list[0],\n",
    "               lig_index_list[0],\n",
    "               lig_index_list[1],\n",
    "               angle_type,\n",
    "               round(angle_1, 3),\n",
    "               k,\n",
    "               round(angle_1, 3),\n",
    "               k]]\n",
    "angle_list += [[rec_index_list[1],\n",
    "                rec_index_list[0],\n",
    "                lig_index_list[0],\n",
    "                angle_type,\n",
    "                round(angle_2, 3),\n",
    "                k,\n",
    "                round(angle_2, 3),\n",
    "                k]]\n",
    "\n",
    "# R0-L0-L1-L2\n",
    "dihed_1 = pdb_manip.Coor.atom_dihed_angle(coor.atom_dict[rec_index_list[0]],\n",
    "                                          coor.atom_dict[lig_index_list[0]],\n",
    "                                          coor.atom_dict[lig_index_list[1]],\n",
    "                                          coor.atom_dict[lig_index_list[2]])\n",
    "# R2-R1-R0-L0\n",
    "dihed_2 = pdb_manip.Coor.atom_dihed_angle(coor.atom_dict[rec_index_list[2]],\n",
    "                                          coor.atom_dict[rec_index_list[1]],\n",
    "                                          coor.atom_dict[rec_index_list[0]],\n",
    "                                          coor.atom_dict[lig_index_list[0]])\n",
    "# R1-R0-L0-L1\n",
    "dihed_3 = pdb_manip.Coor.atom_dihed_angle(coor.atom_dict[rec_index_list[2]],\n",
    "                                          coor.atom_dict[rec_index_list[1]],\n",
    "                                          coor.atom_dict[rec_index_list[0]],\n",
    "                                          coor.atom_dict[lig_index_list[0]])\n",
    "\n",
    "print('Dihed Angle 1 = {:.2f}'.format(dihed_1))\n",
    "print('Dihed Angle 2 = {:.2f}'.format(dihed_2))\n",
    "print('Dihed Angle 3 = {:.2f}'.format(dihed_3))\n",
    "\n",
    "dihed_list = [[rec_index_list[0],\n",
    "               lig_index_list[0],\n",
    "               lig_index_list[1],\n",
    "               lig_index_list[2],\n",
    "               dihed_type,\n",
    "               round(dihed_1, 3),\n",
    "               k,\n",
    "               round(dihed_1, 3),\n",
    "               k]]\n",
    "dihed_list += [[rec_index_list[2],\n",
    "                rec_index_list[1],\n",
    "                rec_index_list[0],\n",
    "                lig_index_list[0],\n",
    "                dihed_type,\n",
    "                round(dihed_2, 3),\n",
    "                k,\n",
    "                round(dihed_2, 3),\n",
    "                k]]\n",
    "dihed_list += [[rec_index_list[1],\n",
    "                rec_index_list[0],\n",
    "                lig_index_list[0],\n",
    "                lig_index_list[1],\n",
    "                dihed_type,\n",
    "                round(dihed_3, 3), k,\n",
    "                round(dihed_3, 3), k]]\n",
    "import numpy as np\n",
    "\n",
    "KB = 8.31446261815324 \n",
    "temp=300.0\n",
    "# Compute DG restr in water:\n",
    "V0 = 1660e-3 # A³\n",
    "dg_rest_water = KB * temp * np.log(\n",
    "    (8 * np.pi**2 * V0 * (k*1e2*k**5)**0.5) /\n",
    "    (dist**2 * np.sin(np.radians(angle_1)) * np.sin(np.radians(angle_2)) *\n",
    "        (2 * np.pi * KB * temp)**3))\n",
    "print(dg_rest_water)"
   ]
  },
  {
   "cell_type": "code",
   "execution_count": 246,
   "metadata": {},
   "outputs": [
    {
     "data": {
      "text/plain": [
       "2000.0"
      ]
     },
     "execution_count": 246,
     "metadata": {},
     "output_type": "execute_result"
    }
   ],
   "source": [
    "k"
   ]
  },
  {
   "cell_type": "code",
   "execution_count": 250,
   "metadata": {},
   "outputs": [
    {
     "name": "stdout",
     "output_type": "stream",
     "text": [
      "-26223.5031077491\n"
     ]
    }
   ],
   "source": [
    "dist = 3.48/10 # nm\n",
    "angle_1 = np.radians(89.73) # rad\n",
    "angle_2 = np.radians(124.14)\n",
    "temp = 300\n",
    "k =  20e2 # kcal/(mol  Å2\n",
    "k_angle = 20 # kcal/mol/rad\n",
    "\n",
    "dg_rest_water = KB * temp * np.log(\n",
    "    (8 * np.pi**2 * V0 * (k*k_angle**5)**0.5) /\n",
    "    (dist**2 * np.sin(angle_1) * np.sin(angle_2) *\n",
    "        (2 * np.pi * KB * temp)**3))\n",
    "print(dg_rest_water)\n",
    "\n",
    "# 9.88 kcal/mol"
   ]
  },
  {
   "cell_type": "code",
   "execution_count": 261,
   "metadata": {},
   "outputs": [
    {
     "data": {
      "text/plain": [
       "-44122.82311487845"
      ]
     },
     "execution_count": 261,
     "metadata": {},
     "output_type": "execute_result"
    }
   ],
   "source": [
    "KB * temp * np.log((k*k_angle**5)**0.5 / (2 * np.pi * KB * temp)**3)"
   ]
  },
  {
   "cell_type": "code",
   "execution_count": 263,
   "metadata": {},
   "outputs": [
    {
     "data": {
      "text/plain": [
       "0.457"
      ]
     },
     "execution_count": 263,
     "metadata": {},
     "output_type": "execute_result"
    }
   ],
   "source": [
    "round(0.45699, 3)"
   ]
  },
  {
   "cell_type": "code",
   "execution_count": 33,
   "metadata": {},
   "outputs": [],
   "source": [
    "top = gmx.TopSys(start_sys.top_file)\n",
    "top.add_intermolecular_restr(bond_list=bond_list,\n",
    "                                     angle_list=angle_list,\n",
    "                                     dihed_list=dihed_list)\n",
    "#top.write_file(start_sys.top_file)"
   ]
  },
  {
   "cell_type": "code",
   "execution_count": 34,
   "metadata": {},
   "outputs": [
    {
     "name": "stdout",
     "output_type": "stream",
     "text": [
      "Forcefield include :\n",
      " amber99sb-ildn\n",
      "- ITP file: 3TX_GMX_atomtypes\n",
      "- molecules defined in the itp file:\n",
      "- ITP file: 4WR8_pdb2gmx_Protein_chain_A\n",
      "- molecules defined in the itp file:\n",
      "* Protein_chain_A\n",
      "- ITP file: 4WR8_pdb2gmx_Protein_chain_B\n",
      "- molecules defined in the itp file:\n",
      "* Protein_chain_B\n",
      "- ITP file: 4WR8_pdb2gmx_Protein_chain_C\n",
      "- molecules defined in the itp file:\n",
      "* Protein_chain_C\n",
      "- ITP file: tip3p\n",
      "- molecules defined in the itp file:\n",
      "* SOL\n",
      "- ITP file: ions\n",
      "- molecules defined in the itp file:\n",
      "* IB+\n",
      "* CA\n",
      "* CL\n",
      "* NA\n",
      "* MG\n",
      "* K\n",
      "* RB\n",
      "* CS\n",
      "* LI\n",
      "* ZN\n",
      "- ITP file: 3TX_GMX\n",
      "- molecules defined in the itp file:\n",
      "* 3TX\n",
      "Mol List:\n",
      "   * 1 Protein_chain_A\n",
      "   * 1 Protein_chain_B\n",
      "   * 1 Protein_chain_C\n",
      "   * 1 3TX\n",
      "   * 8352 SOL\n",
      "   * 23 NA\n",
      "   * 26 CL\n",
      "Mol Name:\n",
      " Protein in water\n"
     ]
    }
   ],
   "source": [
    "top.display()"
   ]
  },
  {
   "cell_type": "code",
   "execution_count": 32,
   "metadata": {},
   "outputs": [
    {
     "data": {
      "text/plain": [
       "0.15071967356652535"
      ]
     },
     "execution_count": 32,
     "metadata": {},
     "output_type": "execute_result"
    }
   ],
   "source": [
    "dist = pdb_manip.Coor.atom_dist(coor_prot.atom_dict[1], coor_prot.atom_dict[2]) / 10.0\n",
    "dist"
   ]
  },
  {
   "cell_type": "code",
   "execution_count": 38,
   "metadata": {},
   "outputs": [
    {
     "data": {
      "text/plain": [
       "{'field': 'ATOM',\n",
       " 'num': 2,\n",
       " 'name': 'CA',\n",
       " 'alter_loc': ' ',\n",
       " 'res_name': 'PRO',\n",
       " 'chain': 'A',\n",
       " 'res_num': 1,\n",
       " 'uniq_resid': 0,\n",
       " 'insert_res': ' ',\n",
       " 'xyz': array([ 59.418, -21.799,  50.85 ]),\n",
       " 'occ': 1.0,\n",
       " 'beta': 20.16}"
      ]
     },
     "execution_count": 38,
     "metadata": {},
     "output_type": "execute_result"
    }
   ],
   "source": [
    "coor_prot.atom_dict[1]"
   ]
  },
  {
   "cell_type": "code",
   "execution_count": 64,
   "metadata": {
    "scrolled": true
   },
   "outputs": [
    {
     "name": "stdout",
     "output_type": "stream",
     "text": [
      "Coulomb lambda :0.00 0.00 0.00 0.00 0.00 0.00 0.00 0.00 0.00 0.00 0.00 0.20 0.40 0.60 0.80 1.00 1.00 1.00 1.00 1.00 1.00 1.00 1.00 1.00 1.00 1.00 \n",
      "Vdw lambda     :0.00 0.00 0.00 0.00 0.00 0.00 0.00 0.00 0.00 0.00 0.00 0.00 0.00 0.00 0.00 0.00 0.10 0.20 0.30 0.40 0.50 0.60 0.70 0.80 0.90 1.00 \n",
      "bond_lambdas   :0.00 0.10 0.20 0.30 0.40 0.50 0.60 0.70 0.80 0.90 1.00 1.00 1.00 1.00 1.00 1.00 1.00 1.00 1.00 1.00 1.00 1.00 1.00 1.00 1.00 1.00 \n"
     ]
    },
    {
     "data": {
      "application/vnd.jupyter.widget-view+json": {
       "model_id": "6325b5fdff634f19b5bada0eb679d7b1",
       "version_major": 2,
       "version_minor": 0
      },
      "text/plain": [
       "HBox(children=(HTML(value=''), FloatProgress(value=0.0, max=13390000.0), HTML(value='')))"
      ]
     },
     "metadata": {},
     "output_type": "display_data"
    },
    {
     "name": "stdout",
     "output_type": "stream",
     "text": [
      "Mdp files not created, em_4WR8_vdwq_00.mdp already exist\n",
      "-Create the tpr file em_4WR8_vdwq_00.tpr\n",
      "create_tpr not launched em_4WR8_vdwq_00.tpr already exist\n",
      "-Launch the simulation em_4WR8_vdwq_00.tpr\n",
      "Simulation not launched em_4WR8_vdwq_00.gro already exist\n",
      "Mdp files not created, nvt_4WR8_vdwq_00.mdp already exist\n",
      "-Create the tpr file nvt_4WR8_vdwq_00.tpr\n",
      "create_tpr not launched nvt_4WR8_vdwq_00.tpr already exist\n",
      "-Launch the simulation nvt_4WR8_vdwq_00.tpr\n",
      "Simulation not launched nvt_4WR8_vdwq_00.gro already exist\n",
      "Mdp files not created, npt_4WR8_vdwq_00.mdp already exist\n",
      "-Create the tpr file npt_4WR8_vdwq_00.tpr\n",
      "create_tpr not launched npt_4WR8_vdwq_00.tpr already exist\n",
      "-Launch the simulation npt_4WR8_vdwq_00.tpr\n",
      "Simulation not launched npt_4WR8_vdwq_00.gro already exist\n",
      "Mdp files not created, prod_4WR8_vdwq_00.mdp already exist\n",
      "-Create the tpr file prod_4WR8_vdwq_00.tpr\n",
      "create_tpr not launched prod_4WR8_vdwq_00.tpr already exist\n",
      "-Launch the simulation prod_4WR8_vdwq_00.tpr\n",
      "Simulation not launched prod_4WR8_vdwq_00.gro already exist\n",
      "Mdp files not created, em_4WR8_vdwq_01.mdp already exist\n",
      "-Create the tpr file em_4WR8_vdwq_01.tpr\n",
      "create_tpr not launched em_4WR8_vdwq_01.tpr already exist\n",
      "-Launch the simulation em_4WR8_vdwq_01.tpr\n",
      "Simulation not launched em_4WR8_vdwq_01.gro already exist\n",
      "Mdp files not created, nvt_4WR8_vdwq_01.mdp already exist\n",
      "-Create the tpr file nvt_4WR8_vdwq_01.tpr\n",
      "create_tpr not launched nvt_4WR8_vdwq_01.tpr already exist\n",
      "-Launch the simulation nvt_4WR8_vdwq_01.tpr\n",
      "Simulation not launched nvt_4WR8_vdwq_01.gro already exist\n",
      "Mdp files not created, npt_4WR8_vdwq_01.mdp already exist\n",
      "-Create the tpr file npt_4WR8_vdwq_01.tpr\n",
      "create_tpr not launched npt_4WR8_vdwq_01.tpr already exist\n",
      "-Launch the simulation npt_4WR8_vdwq_01.tpr\n",
      "Simulation not launched npt_4WR8_vdwq_01.gro already exist\n",
      "Mdp files not created, prod_4WR8_vdwq_01.mdp already exist\n",
      "-Create the tpr file prod_4WR8_vdwq_01.tpr\n",
      "create_tpr not launched prod_4WR8_vdwq_01.tpr already exist\n",
      "-Launch the simulation prod_4WR8_vdwq_01.tpr\n",
      "Simulation not launched prod_4WR8_vdwq_01.gro already exist\n",
      "Mdp files not created, em_4WR8_vdwq_02.mdp already exist\n",
      "-Create the tpr file em_4WR8_vdwq_02.tpr\n",
      "create_tpr not launched em_4WR8_vdwq_02.tpr already exist\n",
      "-Launch the simulation em_4WR8_vdwq_02.tpr\n",
      "Simulation not launched em_4WR8_vdwq_02.gro already exist\n",
      "Mdp files not created, nvt_4WR8_vdwq_02.mdp already exist\n",
      "-Create the tpr file nvt_4WR8_vdwq_02.tpr\n",
      "create_tpr not launched nvt_4WR8_vdwq_02.tpr already exist\n",
      "-Launch the simulation nvt_4WR8_vdwq_02.tpr\n",
      "Simulation not launched nvt_4WR8_vdwq_02.gro already exist\n",
      "Mdp files not created, npt_4WR8_vdwq_02.mdp already exist\n",
      "-Create the tpr file npt_4WR8_vdwq_02.tpr\n",
      "create_tpr not launched npt_4WR8_vdwq_02.tpr already exist\n",
      "-Launch the simulation npt_4WR8_vdwq_02.tpr\n",
      "Simulation not launched npt_4WR8_vdwq_02.gro already exist\n",
      "Mdp files not created, prod_4WR8_vdwq_02.mdp already exist\n",
      "-Create the tpr file prod_4WR8_vdwq_02.tpr\n",
      "create_tpr not launched prod_4WR8_vdwq_02.tpr already exist\n",
      "-Launch the simulation prod_4WR8_vdwq_02.tpr\n",
      "Simulation not launched prod_4WR8_vdwq_02.gro already exist\n",
      "Mdp files not created, em_4WR8_vdwq_03.mdp already exist\n",
      "-Create the tpr file em_4WR8_vdwq_03.tpr\n",
      "create_tpr not launched em_4WR8_vdwq_03.tpr already exist\n",
      "-Launch the simulation em_4WR8_vdwq_03.tpr\n",
      "Simulation not launched em_4WR8_vdwq_03.gro already exist\n",
      "Mdp files not created, nvt_4WR8_vdwq_03.mdp already exist\n",
      "-Create the tpr file nvt_4WR8_vdwq_03.tpr\n",
      "create_tpr not launched nvt_4WR8_vdwq_03.tpr already exist\n",
      "-Launch the simulation nvt_4WR8_vdwq_03.tpr\n",
      "Simulation not launched nvt_4WR8_vdwq_03.gro already exist\n",
      "Mdp files not created, npt_4WR8_vdwq_03.mdp already exist\n",
      "-Create the tpr file npt_4WR8_vdwq_03.tpr\n",
      "create_tpr not launched npt_4WR8_vdwq_03.tpr already exist\n",
      "-Launch the simulation npt_4WR8_vdwq_03.tpr\n",
      "Simulation not launched npt_4WR8_vdwq_03.gro already exist\n",
      "Mdp files not created, prod_4WR8_vdwq_03.mdp already exist\n",
      "-Create the tpr file prod_4WR8_vdwq_03.tpr\n",
      "create_tpr not launched prod_4WR8_vdwq_03.tpr already exist\n",
      "-Launch the simulation prod_4WR8_vdwq_03.tpr\n",
      "Simulation not launched prod_4WR8_vdwq_03.gro already exist\n",
      "Mdp files not created, em_4WR8_vdwq_04.mdp already exist\n",
      "-Create the tpr file em_4WR8_vdwq_04.tpr\n",
      "create_tpr not launched em_4WR8_vdwq_04.tpr already exist\n",
      "-Launch the simulation em_4WR8_vdwq_04.tpr\n",
      "Simulation not launched em_4WR8_vdwq_04.gro already exist\n",
      "Mdp files not created, nvt_4WR8_vdwq_04.mdp already exist\n",
      "-Create the tpr file nvt_4WR8_vdwq_04.tpr\n",
      "create_tpr not launched nvt_4WR8_vdwq_04.tpr already exist\n",
      "-Launch the simulation nvt_4WR8_vdwq_04.tpr\n",
      "Simulation not launched nvt_4WR8_vdwq_04.gro already exist\n",
      "Mdp files not created, npt_4WR8_vdwq_04.mdp already exist\n",
      "-Create the tpr file npt_4WR8_vdwq_04.tpr\n",
      "create_tpr not launched npt_4WR8_vdwq_04.tpr already exist\n",
      "-Launch the simulation npt_4WR8_vdwq_04.tpr\n",
      "Simulation not launched npt_4WR8_vdwq_04.gro already exist\n",
      "Mdp files not created, prod_4WR8_vdwq_04.mdp already exist\n",
      "-Create the tpr file prod_4WR8_vdwq_04.tpr\n",
      "create_tpr not launched prod_4WR8_vdwq_04.tpr already exist\n",
      "-Launch the simulation prod_4WR8_vdwq_04.tpr\n",
      "Simulation not launched prod_4WR8_vdwq_04.gro already exist\n",
      "Mdp files not created, em_4WR8_vdwq_05.mdp already exist\n",
      "-Create the tpr file em_4WR8_vdwq_05.tpr\n",
      "create_tpr not launched em_4WR8_vdwq_05.tpr already exist\n",
      "-Launch the simulation em_4WR8_vdwq_05.tpr\n",
      "Simulation not launched em_4WR8_vdwq_05.gro already exist\n",
      "Mdp files not created, nvt_4WR8_vdwq_05.mdp already exist\n",
      "-Create the tpr file nvt_4WR8_vdwq_05.tpr\n",
      "create_tpr not launched nvt_4WR8_vdwq_05.tpr already exist\n",
      "-Launch the simulation nvt_4WR8_vdwq_05.tpr\n",
      "Simulation not launched nvt_4WR8_vdwq_05.gro already exist\n",
      "Mdp files not created, npt_4WR8_vdwq_05.mdp already exist\n",
      "-Create the tpr file npt_4WR8_vdwq_05.tpr\n",
      "create_tpr not launched npt_4WR8_vdwq_05.tpr already exist\n",
      "-Launch the simulation npt_4WR8_vdwq_05.tpr\n",
      "Simulation not launched npt_4WR8_vdwq_05.gro already exist\n",
      "Mdp files not created, prod_4WR8_vdwq_05.mdp already exist\n",
      "-Create the tpr file prod_4WR8_vdwq_05.tpr\n",
      "create_tpr not launched prod_4WR8_vdwq_05.tpr already exist\n",
      "-Launch the simulation prod_4WR8_vdwq_05.tpr\n",
      "Simulation not launched prod_4WR8_vdwq_05.gro already exist\n",
      "Mdp files not created, em_4WR8_vdwq_06.mdp already exist\n",
      "-Create the tpr file em_4WR8_vdwq_06.tpr\n",
      "create_tpr not launched em_4WR8_vdwq_06.tpr already exist\n",
      "-Launch the simulation em_4WR8_vdwq_06.tpr\n",
      "Simulation not launched em_4WR8_vdwq_06.gro already exist\n",
      "Mdp files not created, nvt_4WR8_vdwq_06.mdp already exist\n",
      "-Create the tpr file nvt_4WR8_vdwq_06.tpr\n",
      "create_tpr not launched nvt_4WR8_vdwq_06.tpr already exist\n",
      "-Launch the simulation nvt_4WR8_vdwq_06.tpr\n",
      "Simulation not launched nvt_4WR8_vdwq_06.gro already exist\n",
      "Mdp files not created, npt_4WR8_vdwq_06.mdp already exist\n",
      "-Create the tpr file npt_4WR8_vdwq_06.tpr\n",
      "create_tpr not launched npt_4WR8_vdwq_06.tpr already exist\n",
      "-Launch the simulation npt_4WR8_vdwq_06.tpr\n",
      "Simulation not launched npt_4WR8_vdwq_06.gro already exist\n",
      "Mdp files not created, prod_4WR8_vdwq_06.mdp already exist\n",
      "-Create the tpr file prod_4WR8_vdwq_06.tpr\n",
      "create_tpr not launched prod_4WR8_vdwq_06.tpr already exist\n",
      "-Launch the simulation prod_4WR8_vdwq_06.tpr\n",
      "Simulation not launched prod_4WR8_vdwq_06.gro already exist\n",
      "Mdp files not created, em_4WR8_vdwq_07.mdp already exist\n",
      "-Create the tpr file em_4WR8_vdwq_07.tpr\n",
      "create_tpr not launched em_4WR8_vdwq_07.tpr already exist\n",
      "-Launch the simulation em_4WR8_vdwq_07.tpr\n",
      "Simulation not launched em_4WR8_vdwq_07.gro already exist\n",
      "Mdp files not created, nvt_4WR8_vdwq_07.mdp already exist\n",
      "-Create the tpr file nvt_4WR8_vdwq_07.tpr\n",
      "create_tpr not launched nvt_4WR8_vdwq_07.tpr already exist\n",
      "-Launch the simulation nvt_4WR8_vdwq_07.tpr\n",
      "Simulation not launched nvt_4WR8_vdwq_07.gro already exist\n",
      "Mdp files not created, npt_4WR8_vdwq_07.mdp already exist\n",
      "-Create the tpr file npt_4WR8_vdwq_07.tpr\n",
      "create_tpr not launched npt_4WR8_vdwq_07.tpr already exist\n",
      "-Launch the simulation npt_4WR8_vdwq_07.tpr\n",
      "Simulation not launched npt_4WR8_vdwq_07.gro already exist\n",
      "Mdp files not created, prod_4WR8_vdwq_07.mdp already exist\n",
      "-Create the tpr file prod_4WR8_vdwq_07.tpr\n"
     ]
    },
    {
     "name": "stdout",
     "output_type": "stream",
     "text": [
      "create_tpr not launched prod_4WR8_vdwq_07.tpr already exist\n",
      "-Launch the simulation prod_4WR8_vdwq_07.tpr\n",
      "Simulation not launched prod_4WR8_vdwq_07.gro already exist\n",
      "Mdp files not created, em_4WR8_vdwq_08.mdp already exist\n",
      "-Create the tpr file em_4WR8_vdwq_08.tpr\n",
      "create_tpr not launched em_4WR8_vdwq_08.tpr already exist\n",
      "-Launch the simulation em_4WR8_vdwq_08.tpr\n",
      "Simulation not launched em_4WR8_vdwq_08.gro already exist\n",
      "Mdp files not created, nvt_4WR8_vdwq_08.mdp already exist\n",
      "-Create the tpr file nvt_4WR8_vdwq_08.tpr\n",
      "create_tpr not launched nvt_4WR8_vdwq_08.tpr already exist\n",
      "-Launch the simulation nvt_4WR8_vdwq_08.tpr\n",
      "Simulation not launched nvt_4WR8_vdwq_08.gro already exist\n",
      "Mdp files not created, npt_4WR8_vdwq_08.mdp already exist\n",
      "-Create the tpr file npt_4WR8_vdwq_08.tpr\n",
      "create_tpr not launched npt_4WR8_vdwq_08.tpr already exist\n",
      "-Launch the simulation npt_4WR8_vdwq_08.tpr\n",
      "Simulation not launched npt_4WR8_vdwq_08.gro already exist\n",
      "Mdp files not created, prod_4WR8_vdwq_08.mdp already exist\n",
      "-Create the tpr file prod_4WR8_vdwq_08.tpr\n",
      "create_tpr not launched prod_4WR8_vdwq_08.tpr already exist\n",
      "-Launch the simulation prod_4WR8_vdwq_08.tpr\n",
      "Simulation not launched prod_4WR8_vdwq_08.gro already exist\n",
      "Mdp files not created, em_4WR8_vdwq_09.mdp already exist\n",
      "-Create the tpr file em_4WR8_vdwq_09.tpr\n",
      "create_tpr not launched em_4WR8_vdwq_09.tpr already exist\n",
      "-Launch the simulation em_4WR8_vdwq_09.tpr\n",
      "Simulation not launched em_4WR8_vdwq_09.gro already exist\n",
      "Mdp files not created, nvt_4WR8_vdwq_09.mdp already exist\n",
      "-Create the tpr file nvt_4WR8_vdwq_09.tpr\n",
      "create_tpr not launched nvt_4WR8_vdwq_09.tpr already exist\n",
      "-Launch the simulation nvt_4WR8_vdwq_09.tpr\n",
      "Simulation not launched nvt_4WR8_vdwq_09.gro already exist\n",
      "Mdp files not created, npt_4WR8_vdwq_09.mdp already exist\n",
      "-Create the tpr file npt_4WR8_vdwq_09.tpr\n",
      "create_tpr not launched npt_4WR8_vdwq_09.tpr already exist\n",
      "-Launch the simulation npt_4WR8_vdwq_09.tpr\n",
      "Simulation not launched npt_4WR8_vdwq_09.gro already exist\n",
      "Mdp files not created, prod_4WR8_vdwq_09.mdp already exist\n",
      "-Create the tpr file prod_4WR8_vdwq_09.tpr\n",
      "create_tpr not launched prod_4WR8_vdwq_09.tpr already exist\n",
      "-Launch the simulation prod_4WR8_vdwq_09.tpr\n",
      "Simulation not launched prod_4WR8_vdwq_09.gro already exist\n",
      "Mdp files not created, em_4WR8_vdwq_10.mdp already exist\n",
      "-Create the tpr file em_4WR8_vdwq_10.tpr\n",
      "create_tpr not launched em_4WR8_vdwq_10.tpr already exist\n",
      "-Launch the simulation em_4WR8_vdwq_10.tpr\n",
      "Simulation not launched em_4WR8_vdwq_10.gro already exist\n",
      "Mdp files not created, nvt_4WR8_vdwq_10.mdp already exist\n",
      "-Create the tpr file nvt_4WR8_vdwq_10.tpr\n",
      "create_tpr not launched nvt_4WR8_vdwq_10.tpr already exist\n",
      "-Launch the simulation nvt_4WR8_vdwq_10.tpr\n",
      "Simulation not launched nvt_4WR8_vdwq_10.gro already exist\n",
      "Mdp files not created, npt_4WR8_vdwq_10.mdp already exist\n",
      "-Create the tpr file npt_4WR8_vdwq_10.tpr\n",
      "create_tpr not launched npt_4WR8_vdwq_10.tpr already exist\n",
      "-Launch the simulation npt_4WR8_vdwq_10.tpr\n",
      "Simulation not launched npt_4WR8_vdwq_10.gro already exist\n",
      "Mdp files not created, prod_4WR8_vdwq_10.mdp already exist\n",
      "-Create the tpr file prod_4WR8_vdwq_10.tpr\n",
      "create_tpr not launched prod_4WR8_vdwq_10.tpr already exist\n",
      "-Launch the simulation prod_4WR8_vdwq_10.tpr\n",
      "Simulation not launched prod_4WR8_vdwq_10.gro already exist\n",
      "Mdp files not created, em_4WR8_vdwq_11.mdp already exist\n",
      "-Create the tpr file em_4WR8_vdwq_11.tpr\n",
      "create_tpr not launched em_4WR8_vdwq_11.tpr already exist\n",
      "-Launch the simulation em_4WR8_vdwq_11.tpr\n",
      "Simulation not launched em_4WR8_vdwq_11.gro already exist\n",
      "Mdp files not created, nvt_4WR8_vdwq_11.mdp already exist\n",
      "-Create the tpr file nvt_4WR8_vdwq_11.tpr\n",
      "create_tpr not launched nvt_4WR8_vdwq_11.tpr already exist\n",
      "-Launch the simulation nvt_4WR8_vdwq_11.tpr\n",
      "Simulation not launched nvt_4WR8_vdwq_11.gro already exist\n",
      "Mdp files not created, npt_4WR8_vdwq_11.mdp already exist\n",
      "-Create the tpr file npt_4WR8_vdwq_11.tpr\n",
      "create_tpr not launched npt_4WR8_vdwq_11.tpr already exist\n",
      "-Launch the simulation npt_4WR8_vdwq_11.tpr\n",
      "Simulation not launched npt_4WR8_vdwq_11.gro already exist\n",
      "Mdp files not created, prod_4WR8_vdwq_11.mdp already exist\n",
      "-Create the tpr file prod_4WR8_vdwq_11.tpr\n",
      "create_tpr not launched prod_4WR8_vdwq_11.tpr already exist\n",
      "-Launch the simulation prod_4WR8_vdwq_11.tpr\n",
      "Simulation not launched prod_4WR8_vdwq_11.gro already exist\n",
      "Mdp files not created, em_4WR8_vdwq_12.mdp already exist\n",
      "-Create the tpr file em_4WR8_vdwq_12.tpr\n",
      "create_tpr not launched em_4WR8_vdwq_12.tpr already exist\n",
      "-Launch the simulation em_4WR8_vdwq_12.tpr\n",
      "Simulation not launched em_4WR8_vdwq_12.gro already exist\n",
      "Mdp files not created, nvt_4WR8_vdwq_12.mdp already exist\n",
      "-Create the tpr file nvt_4WR8_vdwq_12.tpr\n",
      "create_tpr not launched nvt_4WR8_vdwq_12.tpr already exist\n",
      "-Launch the simulation nvt_4WR8_vdwq_12.tpr\n",
      "Simulation not launched nvt_4WR8_vdwq_12.gro already exist\n",
      "Mdp files not created, npt_4WR8_vdwq_12.mdp already exist\n",
      "-Create the tpr file npt_4WR8_vdwq_12.tpr\n",
      "create_tpr not launched npt_4WR8_vdwq_12.tpr already exist\n",
      "-Launch the simulation npt_4WR8_vdwq_12.tpr\n",
      "Simulation not launched npt_4WR8_vdwq_12.gro already exist\n",
      "Mdp files not created, prod_4WR8_vdwq_12.mdp already exist\n",
      "-Create the tpr file prod_4WR8_vdwq_12.tpr\n",
      "create_tpr not launched prod_4WR8_vdwq_12.tpr already exist\n",
      "-Launch the simulation prod_4WR8_vdwq_12.tpr\n",
      "Simulation not launched prod_4WR8_vdwq_12.gro already exist\n",
      "Mdp files not created, em_4WR8_vdwq_13.mdp already exist\n",
      "-Create the tpr file em_4WR8_vdwq_13.tpr\n",
      "create_tpr not launched em_4WR8_vdwq_13.tpr already exist\n",
      "-Launch the simulation em_4WR8_vdwq_13.tpr\n",
      "Simulation not launched em_4WR8_vdwq_13.gro already exist\n",
      "Mdp files not created, nvt_4WR8_vdwq_13.mdp already exist\n",
      "-Create the tpr file nvt_4WR8_vdwq_13.tpr\n",
      "create_tpr not launched nvt_4WR8_vdwq_13.tpr already exist\n",
      "-Launch the simulation nvt_4WR8_vdwq_13.tpr\n",
      "Simulation not launched nvt_4WR8_vdwq_13.gro already exist\n",
      "Mdp files not created, npt_4WR8_vdwq_13.mdp already exist\n",
      "-Create the tpr file npt_4WR8_vdwq_13.tpr\n",
      "create_tpr not launched npt_4WR8_vdwq_13.tpr already exist\n",
      "-Launch the simulation npt_4WR8_vdwq_13.tpr\n",
      "Simulation not launched npt_4WR8_vdwq_13.gro already exist\n",
      "Mdp files not created, prod_4WR8_vdwq_13.mdp already exist\n",
      "-Create the tpr file prod_4WR8_vdwq_13.tpr\n",
      "create_tpr not launched prod_4WR8_vdwq_13.tpr already exist\n",
      "-Launch the simulation prod_4WR8_vdwq_13.tpr\n",
      "Simulation not launched prod_4WR8_vdwq_13.gro already exist\n",
      "Mdp files not created, em_4WR8_vdwq_14.mdp already exist\n",
      "-Create the tpr file em_4WR8_vdwq_14.tpr\n",
      "create_tpr not launched em_4WR8_vdwq_14.tpr already exist\n",
      "-Launch the simulation em_4WR8_vdwq_14.tpr\n",
      "Simulation not launched em_4WR8_vdwq_14.gro already exist\n",
      "Mdp files not created, nvt_4WR8_vdwq_14.mdp already exist\n",
      "-Create the tpr file nvt_4WR8_vdwq_14.tpr\n",
      "create_tpr not launched nvt_4WR8_vdwq_14.tpr already exist\n",
      "-Launch the simulation nvt_4WR8_vdwq_14.tpr\n",
      "Simulation not launched nvt_4WR8_vdwq_14.gro already exist\n",
      "Mdp files not created, npt_4WR8_vdwq_14.mdp already exist\n",
      "-Create the tpr file npt_4WR8_vdwq_14.tpr\n",
      "create_tpr not launched npt_4WR8_vdwq_14.tpr already exist\n",
      "-Launch the simulation npt_4WR8_vdwq_14.tpr\n",
      "Simulation not launched npt_4WR8_vdwq_14.gro already exist\n",
      "Mdp files not created, prod_4WR8_vdwq_14.mdp already exist\n",
      "-Create the tpr file prod_4WR8_vdwq_14.tpr\n",
      "create_tpr not launched prod_4WR8_vdwq_14.tpr already exist\n",
      "-Launch the simulation prod_4WR8_vdwq_14.tpr\n",
      "Simulation not launched prod_4WR8_vdwq_14.gro already exist\n",
      "Mdp files not created, em_4WR8_vdwq_15.mdp already exist\n",
      "-Create the tpr file em_4WR8_vdwq_15.tpr\n",
      "create_tpr not launched em_4WR8_vdwq_15.tpr already exist\n",
      "-Launch the simulation em_4WR8_vdwq_15.tpr\n",
      "Simulation not launched em_4WR8_vdwq_15.gro already exist\n",
      "Mdp files not created, nvt_4WR8_vdwq_15.mdp already exist\n",
      "-Create the tpr file nvt_4WR8_vdwq_15.tpr\n",
      "create_tpr not launched nvt_4WR8_vdwq_15.tpr already exist\n",
      "-Launch the simulation nvt_4WR8_vdwq_15.tpr\n",
      "Simulation not launched nvt_4WR8_vdwq_15.gro already exist\n",
      "Mdp files not created, npt_4WR8_vdwq_15.mdp already exist\n",
      "-Create the tpr file npt_4WR8_vdwq_15.tpr\n",
      "create_tpr not launched npt_4WR8_vdwq_15.tpr already exist\n",
      "-Launch the simulation npt_4WR8_vdwq_15.tpr\n"
     ]
    },
    {
     "name": "stdout",
     "output_type": "stream",
     "text": [
      "Simulation not launched npt_4WR8_vdwq_15.gro already exist\n",
      "Mdp files not created, prod_4WR8_vdwq_15.mdp already exist\n",
      "-Create the tpr file prod_4WR8_vdwq_15.tpr\n",
      "create_tpr not launched prod_4WR8_vdwq_15.tpr already exist\n",
      "-Launch the simulation prod_4WR8_vdwq_15.tpr\n",
      "Simulation not launched prod_4WR8_vdwq_15.gro already exist\n",
      "Mdp files not created, em_4WR8_vdwq_16.mdp already exist\n",
      "-Create the tpr file em_4WR8_vdwq_16.tpr\n",
      "create_tpr not launched em_4WR8_vdwq_16.tpr already exist\n",
      "-Launch the simulation em_4WR8_vdwq_16.tpr\n",
      "Simulation not launched em_4WR8_vdwq_16.gro already exist\n",
      "Mdp files not created, nvt_4WR8_vdwq_16.mdp already exist\n",
      "-Create the tpr file nvt_4WR8_vdwq_16.tpr\n",
      "create_tpr not launched nvt_4WR8_vdwq_16.tpr already exist\n",
      "-Launch the simulation nvt_4WR8_vdwq_16.tpr\n",
      "Simulation not launched nvt_4WR8_vdwq_16.gro already exist\n",
      "Mdp files not created, npt_4WR8_vdwq_16.mdp already exist\n",
      "-Create the tpr file npt_4WR8_vdwq_16.tpr\n",
      "create_tpr not launched npt_4WR8_vdwq_16.tpr already exist\n",
      "-Launch the simulation npt_4WR8_vdwq_16.tpr\n",
      "Simulation not launched npt_4WR8_vdwq_16.gro already exist\n",
      "Mdp files not created, prod_4WR8_vdwq_16.mdp already exist\n",
      "-Create the tpr file prod_4WR8_vdwq_16.tpr\n",
      "create_tpr not launched prod_4WR8_vdwq_16.tpr already exist\n",
      "-Launch the simulation prod_4WR8_vdwq_16.tpr\n",
      "Simulation not launched prod_4WR8_vdwq_16.gro already exist\n",
      "Mdp files not created, em_4WR8_vdwq_17.mdp already exist\n",
      "-Create the tpr file em_4WR8_vdwq_17.tpr\n",
      "create_tpr not launched em_4WR8_vdwq_17.tpr already exist\n",
      "-Launch the simulation em_4WR8_vdwq_17.tpr\n",
      "Simulation not launched em_4WR8_vdwq_17.gro already exist\n",
      "Mdp files not created, nvt_4WR8_vdwq_17.mdp already exist\n",
      "-Create the tpr file nvt_4WR8_vdwq_17.tpr\n",
      "create_tpr not launched nvt_4WR8_vdwq_17.tpr already exist\n",
      "-Launch the simulation nvt_4WR8_vdwq_17.tpr\n",
      "Simulation not launched nvt_4WR8_vdwq_17.gro already exist\n",
      "Mdp files not created, npt_4WR8_vdwq_17.mdp already exist\n",
      "-Create the tpr file npt_4WR8_vdwq_17.tpr\n",
      "create_tpr not launched npt_4WR8_vdwq_17.tpr already exist\n",
      "-Launch the simulation npt_4WR8_vdwq_17.tpr\n",
      "Simulation not launched npt_4WR8_vdwq_17.gro already exist\n",
      "Mdp files not created, prod_4WR8_vdwq_17.mdp already exist\n",
      "-Create the tpr file prod_4WR8_vdwq_17.tpr\n",
      "create_tpr not launched prod_4WR8_vdwq_17.tpr already exist\n",
      "-Launch the simulation prod_4WR8_vdwq_17.tpr\n",
      "Simulation not launched prod_4WR8_vdwq_17.gro already exist\n",
      "Mdp files not created, em_4WR8_vdwq_18.mdp already exist\n",
      "-Create the tpr file em_4WR8_vdwq_18.tpr\n",
      "create_tpr not launched em_4WR8_vdwq_18.tpr already exist\n",
      "-Launch the simulation em_4WR8_vdwq_18.tpr\n",
      "Simulation not launched em_4WR8_vdwq_18.gro already exist\n",
      "Mdp files not created, nvt_4WR8_vdwq_18.mdp already exist\n",
      "-Create the tpr file nvt_4WR8_vdwq_18.tpr\n",
      "create_tpr not launched nvt_4WR8_vdwq_18.tpr already exist\n",
      "-Launch the simulation nvt_4WR8_vdwq_18.tpr\n",
      "Simulation not launched nvt_4WR8_vdwq_18.gro already exist\n",
      "Mdp files not created, npt_4WR8_vdwq_18.mdp already exist\n",
      "-Create the tpr file npt_4WR8_vdwq_18.tpr\n",
      "create_tpr not launched npt_4WR8_vdwq_18.tpr already exist\n",
      "-Launch the simulation npt_4WR8_vdwq_18.tpr\n",
      "Simulation not launched npt_4WR8_vdwq_18.gro already exist\n",
      "Mdp files not created, prod_4WR8_vdwq_18.mdp already exist\n",
      "-Create the tpr file prod_4WR8_vdwq_18.tpr\n",
      "create_tpr not launched prod_4WR8_vdwq_18.tpr already exist\n",
      "-Launch the simulation prod_4WR8_vdwq_18.tpr\n",
      "Simulation not launched prod_4WR8_vdwq_18.gro already exist\n",
      "Mdp files not created, em_4WR8_vdwq_19.mdp already exist\n",
      "-Create the tpr file em_4WR8_vdwq_19.tpr\n",
      "create_tpr not launched em_4WR8_vdwq_19.tpr already exist\n",
      "-Launch the simulation em_4WR8_vdwq_19.tpr\n",
      "Simulation not launched em_4WR8_vdwq_19.gro already exist\n",
      "Mdp files not created, nvt_4WR8_vdwq_19.mdp already exist\n",
      "-Create the tpr file nvt_4WR8_vdwq_19.tpr\n",
      "create_tpr not launched nvt_4WR8_vdwq_19.tpr already exist\n",
      "-Launch the simulation nvt_4WR8_vdwq_19.tpr\n",
      "Simulation not launched nvt_4WR8_vdwq_19.gro already exist\n",
      "Mdp files not created, npt_4WR8_vdwq_19.mdp already exist\n",
      "-Create the tpr file npt_4WR8_vdwq_19.tpr\n",
      "create_tpr not launched npt_4WR8_vdwq_19.tpr already exist\n",
      "-Launch the simulation npt_4WR8_vdwq_19.tpr\n",
      "Simulation not launched npt_4WR8_vdwq_19.gro already exist\n",
      "Mdp files not created, prod_4WR8_vdwq_19.mdp already exist\n",
      "-Create the tpr file prod_4WR8_vdwq_19.tpr\n",
      "create_tpr not launched prod_4WR8_vdwq_19.tpr already exist\n",
      "-Launch the simulation prod_4WR8_vdwq_19.tpr\n",
      "Simulation not launched prod_4WR8_vdwq_19.gro already exist\n",
      "Mdp files not created, em_4WR8_vdwq_20.mdp already exist\n",
      "-Create the tpr file em_4WR8_vdwq_20.tpr\n",
      "create_tpr not launched em_4WR8_vdwq_20.tpr already exist\n",
      "-Launch the simulation em_4WR8_vdwq_20.tpr\n",
      "Simulation not launched em_4WR8_vdwq_20.gro already exist\n",
      "Mdp files not created, nvt_4WR8_vdwq_20.mdp already exist\n",
      "-Create the tpr file nvt_4WR8_vdwq_20.tpr\n",
      "create_tpr not launched nvt_4WR8_vdwq_20.tpr already exist\n",
      "-Launch the simulation nvt_4WR8_vdwq_20.tpr\n",
      "Simulation not launched nvt_4WR8_vdwq_20.gro already exist\n",
      "Mdp files not created, npt_4WR8_vdwq_20.mdp already exist\n",
      "-Create the tpr file npt_4WR8_vdwq_20.tpr\n",
      "create_tpr not launched npt_4WR8_vdwq_20.tpr already exist\n",
      "-Launch the simulation npt_4WR8_vdwq_20.tpr\n",
      "Simulation not launched npt_4WR8_vdwq_20.gro already exist\n",
      "Mdp files not created, prod_4WR8_vdwq_20.mdp already exist\n",
      "-Create the tpr file prod_4WR8_vdwq_20.tpr\n",
      "create_tpr not launched prod_4WR8_vdwq_20.tpr already exist\n",
      "-Launch the simulation prod_4WR8_vdwq_20.tpr\n",
      "Simulation not launched prod_4WR8_vdwq_20.gro already exist\n",
      "Mdp files not created, em_4WR8_vdwq_21.mdp already exist\n",
      "-Create the tpr file em_4WR8_vdwq_21.tpr\n",
      "create_tpr not launched em_4WR8_vdwq_21.tpr already exist\n",
      "-Launch the simulation em_4WR8_vdwq_21.tpr\n",
      "Simulation not launched em_4WR8_vdwq_21.gro already exist\n",
      "Mdp files not created, nvt_4WR8_vdwq_21.mdp already exist\n",
      "-Create the tpr file nvt_4WR8_vdwq_21.tpr\n",
      "create_tpr not launched nvt_4WR8_vdwq_21.tpr already exist\n",
      "-Launch the simulation nvt_4WR8_vdwq_21.tpr\n",
      "Simulation not launched nvt_4WR8_vdwq_21.gro already exist\n",
      "Mdp files not created, npt_4WR8_vdwq_21.mdp already exist\n",
      "-Create the tpr file npt_4WR8_vdwq_21.tpr\n",
      "create_tpr not launched npt_4WR8_vdwq_21.tpr already exist\n",
      "-Launch the simulation npt_4WR8_vdwq_21.tpr\n",
      "Simulation not launched npt_4WR8_vdwq_21.gro already exist\n",
      "Mdp files not created, prod_4WR8_vdwq_21.mdp already exist\n",
      "-Create the tpr file prod_4WR8_vdwq_21.tpr\n",
      "create_tpr not launched prod_4WR8_vdwq_21.tpr already exist\n",
      "-Launch the simulation prod_4WR8_vdwq_21.tpr\n",
      "Simulation not launched prod_4WR8_vdwq_21.gro already exist\n",
      "Mdp files not created, em_4WR8_vdwq_22.mdp already exist\n",
      "-Create the tpr file em_4WR8_vdwq_22.tpr\n",
      "create_tpr not launched em_4WR8_vdwq_22.tpr already exist\n",
      "-Launch the simulation em_4WR8_vdwq_22.tpr\n",
      "Simulation not launched em_4WR8_vdwq_22.gro already exist\n",
      "Mdp files not created, nvt_4WR8_vdwq_22.mdp already exist\n",
      "-Create the tpr file nvt_4WR8_vdwq_22.tpr\n",
      "create_tpr not launched nvt_4WR8_vdwq_22.tpr already exist\n",
      "-Launch the simulation nvt_4WR8_vdwq_22.tpr\n",
      "Simulation not launched nvt_4WR8_vdwq_22.gro already exist\n",
      "Mdp files not created, npt_4WR8_vdwq_22.mdp already exist\n",
      "-Create the tpr file npt_4WR8_vdwq_22.tpr\n",
      "create_tpr not launched npt_4WR8_vdwq_22.tpr already exist\n",
      "-Launch the simulation npt_4WR8_vdwq_22.tpr\n",
      "Simulation not launched npt_4WR8_vdwq_22.gro already exist\n",
      "Mdp files not created, prod_4WR8_vdwq_22.mdp already exist\n",
      "-Create the tpr file prod_4WR8_vdwq_22.tpr\n",
      "create_tpr not launched prod_4WR8_vdwq_22.tpr already exist\n",
      "-Launch the simulation prod_4WR8_vdwq_22.tpr\n",
      "gmx mdrun -s prod_4WR8_vdwq_22.tpr -deffnm prod_4WR8_vdwq_22 -nt 0 -ntmpi 0 -nsteps -2 -nocopyright -append -cpi prod_4WR8_vdwq_22.cpt\n"
     ]
    },
    {
     "data": {
      "application/vnd.jupyter.widget-view+json": {
       "model_id": "09e4753955fd4ff78163224db48d96eb",
       "version_major": 2,
       "version_minor": 0
      },
      "text/plain": [
       "HBox(children=(HTML(value=''), FloatProgress(value=0.0, max=500000.0), HTML(value='')))"
      ]
     },
     "metadata": {},
     "output_type": "display_data"
    },
    {
     "name": "stdout",
     "output_type": "stream",
     "text": [
      "\n",
      "-Create the tpr file em_4WR8_vdwq_23.tpr\n",
      "gmx grompp -f em_4WR8_vdwq_23.mdp -c ../../sys_equi/02_equi_CA_LOW/equi_CA_LOW_4WR8.gro -r ../../sys_equi/02_equi_CA_LOW/equi_CA_LOW_4WR8.gro -p ../../sys_top/4WR8_water_ion.top -po out_em_4WR8_vdwq_23.mdp -o em_4WR8_vdwq_23.tpr -maxwarn 1\n",
      "-Launch the simulation em_4WR8_vdwq_23.tpr\n",
      "gmx mdrun -s em_4WR8_vdwq_23.tpr -deffnm em_4WR8_vdwq_23 -nt 0 -ntmpi 0 -nsteps -2 -nocopyright\n"
     ]
    },
    {
     "data": {
      "application/vnd.jupyter.widget-view+json": {
       "model_id": "ab35d41a36c947939b3c2a3af668320a",
       "version_major": 2,
       "version_minor": 0
      },
      "text/plain": [
       "HBox(children=(HTML(value=''), FloatProgress(value=0.0, max=5000.0), HTML(value='')))"
      ]
     },
     "metadata": {},
     "output_type": "display_data"
    },
    {
     "name": "stdout",
     "output_type": "stream",
     "text": [
      "\n",
      "-Create the tpr file nvt_4WR8_vdwq_23.tpr\n",
      "gmx grompp -f nvt_4WR8_vdwq_23.mdp -c ../00_em/em_4WR8_vdwq_23.gro -r ../00_em/em_4WR8_vdwq_23.gro -p ../../sys_top/4WR8_water_ion.top -po out_nvt_4WR8_vdwq_23.mdp -o nvt_4WR8_vdwq_23.tpr -maxwarn 1\n",
      "-Launch the simulation nvt_4WR8_vdwq_23.tpr\n",
      "gmx mdrun -s nvt_4WR8_vdwq_23.tpr -deffnm nvt_4WR8_vdwq_23 -nt 0 -ntmpi 0 -nsteps -2 -nocopyright\n"
     ]
    },
    {
     "data": {
      "application/vnd.jupyter.widget-view+json": {
       "model_id": "802485bf58cb40a5884d9e5ca6d0895b",
       "version_major": 2,
       "version_minor": 0
      },
      "text/plain": [
       "HBox(children=(HTML(value=''), FloatProgress(value=0.0, max=5000.0), HTML(value='')))"
      ]
     },
     "metadata": {},
     "output_type": "display_data"
    },
    {
     "name": "stdout",
     "output_type": "stream",
     "text": [
      "\n",
      "-Create the tpr file npt_4WR8_vdwq_23.tpr\n",
      "gmx grompp -f npt_4WR8_vdwq_23.mdp -c ../01_equi_nvt/nvt_4WR8_vdwq_23.gro -r ../01_equi_nvt/nvt_4WR8_vdwq_23.gro -p ../../sys_top/4WR8_water_ion.top -po out_npt_4WR8_vdwq_23.mdp -o npt_4WR8_vdwq_23.tpr -maxwarn 1\n",
      "-Launch the simulation npt_4WR8_vdwq_23.tpr\n",
      "gmx mdrun -s npt_4WR8_vdwq_23.tpr -deffnm npt_4WR8_vdwq_23 -nt 0 -ntmpi 0 -nsteps -2 -nocopyright\n"
     ]
    },
    {
     "data": {
      "application/vnd.jupyter.widget-view+json": {
       "model_id": "45504cae9c1d40789c098cf38ee36638",
       "version_major": 2,
       "version_minor": 0
      },
      "text/plain": [
       "HBox(children=(HTML(value=''), FloatProgress(value=0.0, max=5000.0), HTML(value='')))"
      ]
     },
     "metadata": {},
     "output_type": "display_data"
    },
    {
     "name": "stdout",
     "output_type": "stream",
     "text": [
      "\n",
      "-Create the tpr file prod_4WR8_vdwq_23.tpr\n",
      "gmx grompp -f prod_4WR8_vdwq_23.mdp -c ../02_equi_npt/npt_4WR8_vdwq_23.gro -r ../02_equi_npt/npt_4WR8_vdwq_23.gro -p ../../sys_top/4WR8_water_ion.top -po out_prod_4WR8_vdwq_23.mdp -o prod_4WR8_vdwq_23.tpr -maxwarn 1\n",
      "-Launch the simulation prod_4WR8_vdwq_23.tpr\n",
      "gmx mdrun -s prod_4WR8_vdwq_23.tpr -deffnm prod_4WR8_vdwq_23 -nt 0 -ntmpi 0 -nsteps -2 -nocopyright\n"
     ]
    },
    {
     "data": {
      "application/vnd.jupyter.widget-view+json": {
       "model_id": "ae1b18c04f434b10af24bf679d0ffa6e",
       "version_major": 2,
       "version_minor": 0
      },
      "text/plain": [
       "HBox(children=(HTML(value=''), FloatProgress(value=0.0, max=500000.0), HTML(value='')))"
      ]
     },
     "metadata": {},
     "output_type": "display_data"
    },
    {
     "name": "stdout",
     "output_type": "stream",
     "text": [
      "\n",
      "-Create the tpr file em_4WR8_vdwq_24.tpr\n",
      "gmx grompp -f em_4WR8_vdwq_24.mdp -c ../../sys_equi/02_equi_CA_LOW/equi_CA_LOW_4WR8.gro -r ../../sys_equi/02_equi_CA_LOW/equi_CA_LOW_4WR8.gro -p ../../sys_top/4WR8_water_ion.top -po out_em_4WR8_vdwq_24.mdp -o em_4WR8_vdwq_24.tpr -maxwarn 1\n",
      "-Launch the simulation em_4WR8_vdwq_24.tpr\n",
      "gmx mdrun -s em_4WR8_vdwq_24.tpr -deffnm em_4WR8_vdwq_24 -nt 0 -ntmpi 0 -nsteps -2 -nocopyright\n"
     ]
    },
    {
     "data": {
      "application/vnd.jupyter.widget-view+json": {
       "model_id": "b1e8145572634c519fd5f08cf80e0967",
       "version_major": 2,
       "version_minor": 0
      },
      "text/plain": [
       "HBox(children=(HTML(value=''), FloatProgress(value=0.0, max=5000.0), HTML(value='')))"
      ]
     },
     "metadata": {},
     "output_type": "display_data"
    },
    {
     "name": "stdout",
     "output_type": "stream",
     "text": [
      "\n",
      "-Create the tpr file nvt_4WR8_vdwq_24.tpr\n",
      "gmx grompp -f nvt_4WR8_vdwq_24.mdp -c ../00_em/em_4WR8_vdwq_24.gro -r ../00_em/em_4WR8_vdwq_24.gro -p ../../sys_top/4WR8_water_ion.top -po out_nvt_4WR8_vdwq_24.mdp -o nvt_4WR8_vdwq_24.tpr -maxwarn 1\n",
      "-Launch the simulation nvt_4WR8_vdwq_24.tpr\n",
      "gmx mdrun -s nvt_4WR8_vdwq_24.tpr -deffnm nvt_4WR8_vdwq_24 -nt 0 -ntmpi 0 -nsteps -2 -nocopyright\n"
     ]
    },
    {
     "data": {
      "application/vnd.jupyter.widget-view+json": {
       "model_id": "f544e8d0e9084c36b8ca974f1bcfbac2",
       "version_major": 2,
       "version_minor": 0
      },
      "text/plain": [
       "HBox(children=(HTML(value=''), FloatProgress(value=0.0, max=5000.0), HTML(value='')))"
      ]
     },
     "metadata": {},
     "output_type": "display_data"
    },
    {
     "name": "stdout",
     "output_type": "stream",
     "text": [
      "\n",
      "-Create the tpr file npt_4WR8_vdwq_24.tpr\n",
      "gmx grompp -f npt_4WR8_vdwq_24.mdp -c ../01_equi_nvt/nvt_4WR8_vdwq_24.gro -r ../01_equi_nvt/nvt_4WR8_vdwq_24.gro -p ../../sys_top/4WR8_water_ion.top -po out_npt_4WR8_vdwq_24.mdp -o npt_4WR8_vdwq_24.tpr -maxwarn 1\n",
      "-Launch the simulation npt_4WR8_vdwq_24.tpr\n",
      "gmx mdrun -s npt_4WR8_vdwq_24.tpr -deffnm npt_4WR8_vdwq_24 -nt 0 -ntmpi 0 -nsteps -2 -nocopyright\n"
     ]
    },
    {
     "data": {
      "application/vnd.jupyter.widget-view+json": {
       "model_id": "82636bbe339e4058a55af1239842ef8b",
       "version_major": 2,
       "version_minor": 0
      },
      "text/plain": [
       "HBox(children=(HTML(value=''), FloatProgress(value=0.0, max=5000.0), HTML(value='')))"
      ]
     },
     "metadata": {},
     "output_type": "display_data"
    },
    {
     "name": "stdout",
     "output_type": "stream",
     "text": [
      "\n",
      "-Create the tpr file prod_4WR8_vdwq_24.tpr\n",
      "gmx grompp -f prod_4WR8_vdwq_24.mdp -c ../02_equi_npt/npt_4WR8_vdwq_24.gro -r ../02_equi_npt/npt_4WR8_vdwq_24.gro -p ../../sys_top/4WR8_water_ion.top -po out_prod_4WR8_vdwq_24.mdp -o prod_4WR8_vdwq_24.tpr -maxwarn 1\n",
      "-Launch the simulation prod_4WR8_vdwq_24.tpr\n",
      "gmx mdrun -s prod_4WR8_vdwq_24.tpr -deffnm prod_4WR8_vdwq_24 -nt 0 -ntmpi 0 -nsteps -2 -nocopyright\n"
     ]
    },
    {
     "data": {
      "application/vnd.jupyter.widget-view+json": {
       "model_id": "16a153a53d724da599317811c127d8f1",
       "version_major": 2,
       "version_minor": 0
      },
      "text/plain": [
       "HBox(children=(HTML(value=''), FloatProgress(value=0.0, max=500000.0), HTML(value='')))"
      ]
     },
     "metadata": {},
     "output_type": "display_data"
    },
    {
     "name": "stdout",
     "output_type": "stream",
     "text": [
      "\n",
      "-Create the tpr file em_4WR8_vdwq_25.tpr\n",
      "gmx grompp -f em_4WR8_vdwq_25.mdp -c ../../sys_equi/02_equi_CA_LOW/equi_CA_LOW_4WR8.gro -r ../../sys_equi/02_equi_CA_LOW/equi_CA_LOW_4WR8.gro -p ../../sys_top/4WR8_water_ion.top -po out_em_4WR8_vdwq_25.mdp -o em_4WR8_vdwq_25.tpr -maxwarn 1\n",
      "-Launch the simulation em_4WR8_vdwq_25.tpr\n",
      "gmx mdrun -s em_4WR8_vdwq_25.tpr -deffnm em_4WR8_vdwq_25 -nt 0 -ntmpi 0 -nsteps -2 -nocopyright\n"
     ]
    },
    {
     "data": {
      "application/vnd.jupyter.widget-view+json": {
       "model_id": "f93bffbb46fe4fd5accec1eb792f166c",
       "version_major": 2,
       "version_minor": 0
      },
      "text/plain": [
       "HBox(children=(HTML(value=''), FloatProgress(value=0.0, max=5000.0), HTML(value='')))"
      ]
     },
     "metadata": {},
     "output_type": "display_data"
    },
    {
     "name": "stdout",
     "output_type": "stream",
     "text": [
      "\n",
      "-Create the tpr file nvt_4WR8_vdwq_25.tpr\n",
      "gmx grompp -f nvt_4WR8_vdwq_25.mdp -c ../00_em/em_4WR8_vdwq_25.gro -r ../00_em/em_4WR8_vdwq_25.gro -p ../../sys_top/4WR8_water_ion.top -po out_nvt_4WR8_vdwq_25.mdp -o nvt_4WR8_vdwq_25.tpr -maxwarn 1\n",
      "-Launch the simulation nvt_4WR8_vdwq_25.tpr\n",
      "gmx mdrun -s nvt_4WR8_vdwq_25.tpr -deffnm nvt_4WR8_vdwq_25 -nt 0 -ntmpi 0 -nsteps -2 -nocopyright\n"
     ]
    },
    {
     "data": {
      "application/vnd.jupyter.widget-view+json": {
       "model_id": "9ca722340e194016b8fdd668ac23dc38",
       "version_major": 2,
       "version_minor": 0
      },
      "text/plain": [
       "HBox(children=(HTML(value=''), FloatProgress(value=0.0, max=5000.0), HTML(value='')))"
      ]
     },
     "metadata": {},
     "output_type": "display_data"
    },
    {
     "name": "stdout",
     "output_type": "stream",
     "text": [
      "\n",
      "-Create the tpr file npt_4WR8_vdwq_25.tpr\n",
      "gmx grompp -f npt_4WR8_vdwq_25.mdp -c ../01_equi_nvt/nvt_4WR8_vdwq_25.gro -r ../01_equi_nvt/nvt_4WR8_vdwq_25.gro -p ../../sys_top/4WR8_water_ion.top -po out_npt_4WR8_vdwq_25.mdp -o npt_4WR8_vdwq_25.tpr -maxwarn 1\n",
      "-Launch the simulation npt_4WR8_vdwq_25.tpr\n",
      "gmx mdrun -s npt_4WR8_vdwq_25.tpr -deffnm npt_4WR8_vdwq_25 -nt 0 -ntmpi 0 -nsteps -2 -nocopyright\n"
     ]
    },
    {
     "data": {
      "application/vnd.jupyter.widget-view+json": {
       "model_id": "ecc55a9cf59140b580e25d4299c47f5d",
       "version_major": 2,
       "version_minor": 0
      },
      "text/plain": [
       "HBox(children=(HTML(value=''), FloatProgress(value=0.0, max=5000.0), HTML(value='')))"
      ]
     },
     "metadata": {},
     "output_type": "display_data"
    },
    {
     "name": "stdout",
     "output_type": "stream",
     "text": [
      "\n",
      "-Create the tpr file prod_4WR8_vdwq_25.tpr\n",
      "gmx grompp -f prod_4WR8_vdwq_25.mdp -c ../02_equi_npt/npt_4WR8_vdwq_25.gro -r ../02_equi_npt/npt_4WR8_vdwq_25.gro -p ../../sys_top/4WR8_water_ion.top -po out_prod_4WR8_vdwq_25.mdp -o prod_4WR8_vdwq_25.tpr -maxwarn 1\n",
      "-Launch the simulation prod_4WR8_vdwq_25.tpr\n",
      "gmx mdrun -s prod_4WR8_vdwq_25.tpr -deffnm prod_4WR8_vdwq_25 -nt 0 -ntmpi 0 -nsteps -2 -nocopyright\n"
     ]
    },
    {
     "data": {
      "application/vnd.jupyter.widget-view+json": {
       "model_id": "2d49e3c00bb243fb9d458c1f3c5ec5d5",
       "version_major": 2,
       "version_minor": 0
      },
      "text/plain": [
       "HBox(children=(HTML(value=''), FloatProgress(value=0.0, max=500000.0), HTML(value='')))"
      ]
     },
     "metadata": {},
     "output_type": "display_data"
    },
    {
     "name": "stdout",
     "output_type": "stream",
     "text": [
      "\n",
      "-Extract bar energy\n",
      "gmx bar -f data_lig_Jorg_4WR8/mol_prot_free_ener_rest_1ns/03_prod/prod_4WR8_vdwq_00.xvg data_lig_Jorg_4WR8/mol_prot_free_ener_rest_1ns/03_prod/prod_4WR8_vdwq_01.xvg data_lig_Jorg_4WR8/mol_prot_free_ener_rest_1ns/03_prod/prod_4WR8_vdwq_02.xvg data_lig_Jorg_4WR8/mol_prot_free_ener_rest_1ns/03_prod/prod_4WR8_vdwq_03.xvg data_lig_Jorg_4WR8/mol_prot_free_ener_rest_1ns/03_prod/prod_4WR8_vdwq_04.xvg data_lig_Jorg_4WR8/mol_prot_free_ener_rest_1ns/03_prod/prod_4WR8_vdwq_05.xvg data_lig_Jorg_4WR8/mol_prot_free_ener_rest_1ns/03_prod/prod_4WR8_vdwq_06.xvg data_lig_Jorg_4WR8/mol_prot_free_ener_rest_1ns/03_prod/prod_4WR8_vdwq_07.xvg data_lig_Jorg_4WR8/mol_prot_free_ener_rest_1ns/03_prod/prod_4WR8_vdwq_08.xvg data_lig_Jorg_4WR8/mol_prot_free_ener_rest_1ns/03_prod/prod_4WR8_vdwq_09.xvg data_lig_Jorg_4WR8/mol_prot_free_ener_rest_1ns/03_prod/prod_4WR8_vdwq_10.xvg data_lig_Jorg_4WR8/mol_prot_free_ener_rest_1ns/03_prod/prod_4WR8_vdwq_11.xvg data_lig_Jorg_4WR8/mol_prot_free_ener_rest_1ns/03_prod/prod_4WR8_vdwq_12.xvg data_lig_Jorg_4WR8/mol_prot_free_ener_rest_1ns/03_prod/prod_4WR8_vdwq_13.xvg data_lig_Jorg_4WR8/mol_prot_free_ener_rest_1ns/03_prod/prod_4WR8_vdwq_14.xvg data_lig_Jorg_4WR8/mol_prot_free_ener_rest_1ns/03_prod/prod_4WR8_vdwq_15.xvg data_lig_Jorg_4WR8/mol_prot_free_ener_rest_1ns/03_prod/prod_4WR8_vdwq_16.xvg data_lig_Jorg_4WR8/mol_prot_free_ener_rest_1ns/03_prod/prod_4WR8_vdwq_17.xvg data_lig_Jorg_4WR8/mol_prot_free_ener_rest_1ns/03_prod/prod_4WR8_vdwq_18.xvg data_lig_Jorg_4WR8/mol_prot_free_ener_rest_1ns/03_prod/prod_4WR8_vdwq_19.xvg data_lig_Jorg_4WR8/mol_prot_free_ener_rest_1ns/03_prod/prod_4WR8_vdwq_20.xvg data_lig_Jorg_4WR8/mol_prot_free_ener_rest_1ns/03_prod/prod_4WR8_vdwq_21.xvg data_lig_Jorg_4WR8/mol_prot_free_ener_rest_1ns/03_prod/prod_4WR8_vdwq_22.xvg data_lig_Jorg_4WR8/mol_prot_free_ener_rest_1ns/03_prod/prod_4WR8_vdwq_23.xvg data_lig_Jorg_4WR8/mol_prot_free_ener_rest_1ns/03_prod/prod_4WR8_vdwq_24.xvg data_lig_Jorg_4WR8/mol_prot_free_ener_rest_1ns/03_prod/prod_4WR8_vdwq_25.xvg -o bar.xvg -oi barint.xvg -oh histogram.xvg -b 0 -e -1\n",
      "DDG = -199.78 +/- 2.70 KJ/mol-1\n",
      "DDG = -47.75 +/- 0.65 Kcal/mol-1\n",
      "Log P = 274.29 +/- -3.71\n"
     ]
    }
   ],
   "source": [
    "ener = start_sys.free_ener(out_folder=os.path.join(DATA_OUT, 'mol_prot_free_ener_rest_1ns'),\n",
    "                           mol_name=MOL_ID, lambda_elec_num=5, lambda_vdw_num=10,\n",
    "                           lambda_bond_num=5,\n",
    "                           em_steps=5000, nvt_time=10, npt_time=10, prod_time=100)\n",
    "\n",
    "#ener = start_sys.free_ener(out_folder=os.path.join(DATA_OUT, 'mol_prot_free_ener'),\n",
    "#                    mol_name='120', lambda_elec_num=5, lambda_vdw_num=5,\n",
    "#                    em_steps=5000, nvt_time=5, npt_time=5, prod_time=10)"
   ]
  },
  {
   "cell_type": "code",
   "execution_count": 58,
   "metadata": {},
   "outputs": [
    {
     "name": "stdout",
     "output_type": "stream",
     "text": [
      "DDG = 25.16 +/- 1.28\n"
     ]
    }
   ],
   "source": [
    "print('DDG = {:.2f} +/- {:.2f}'.format( (ener_solv['DG'] - ener['DG'])/4.184, \n",
    "                                       ((ener_solv['std']**2 + ener['std']**2)**(0.5))/4.184))"
   ]
  },
  {
   "cell_type": "code",
   "execution_count": 71,
   "metadata": {},
   "outputs": [
    {
     "name": "stdout",
     "output_type": "stream",
     "text": [
      "Bond : 28.65 kcal/mol\n",
      "Coul : 19.96 kcal/mol\n",
      "LJ   : -1.12 kcal/mol\n",
      "Total : 47.49 kcal/mol\n"
     ]
    }
   ],
   "source": [
    "lambda_bond_num=10\n",
    "lambda_elec_num=5\n",
    "lambda_vdw_num=10\n",
    "bond_contrib = ener['table']['DG (kT)'][:lambda_bond_num].sum()\n",
    "coulomb_contrib = ener['table']['DG (kT)'][lambda_bond_num:lambda_bond_num+lambda_elec_num].sum()\n",
    "vdw_contrib = ener['table']['DG (kT)'][lambda_bond_num+lambda_elec_num:].sum()\n",
    "print('Bond : {:.2f} kcal/mol'.format(0.593*bond_contrib))\n",
    "print('Coul : {:.2f} kcal/mol'.format(0.593*coulomb_contrib))\n",
    "print('LJ   : {:.2f} kcal/mol'.format(0.593*vdw_contrib))\n",
    "print('Total : {:.2f} kcal/mol'.format(0.593*(bond_contrib+coulomb_contrib+vdw_contrib)))"
   ]
  },
  {
   "cell_type": "code",
   "execution_count": 65,
   "metadata": {},
   "outputs": [
    {
     "data": {
      "text/plain": [
       "{'DG': -199.78,\n",
       " 'std': 2.7,\n",
       " 'table':        l  DG (kT)   +/-\n",
       " 0    0.5     6.15  0.04\n",
       " 1    1.5     5.76  0.05\n",
       " 2    2.5     5.44  0.03\n",
       " 3    3.5     5.16  0.08\n",
       " 4    4.5     4.99  0.08\n",
       " 5    5.5     4.72  0.04\n",
       " 6    6.5     4.42  0.05\n",
       " 7    7.5     4.21  0.04\n",
       " 8    8.5     3.88  0.09\n",
       " 9    9.5     3.58  0.14\n",
       " 10  10.5    11.41  0.11\n",
       " 11  11.5     9.35  0.06\n",
       " 12  12.5     6.85  0.20\n",
       " 13  13.5     4.10  0.26\n",
       " 14  14.5     1.95  0.27\n",
       " 15  15.5     3.57  0.11\n",
       " 16  16.5     3.20  0.07\n",
       " 17  17.5     2.81  0.06\n",
       " 18  18.5     2.65  0.14\n",
       " 19  19.5     1.68  0.15\n",
       " 20  20.5    -0.89  0.21\n",
       " 21  21.5    -3.69  0.46\n",
       " 22  22.5    -7.03  0.71\n",
       " 23  23.5    -3.38  0.69\n",
       " 24  24.5    -0.81  0.36}"
      ]
     },
     "execution_count": 65,
     "metadata": {},
     "output_type": "execute_result"
    }
   ],
   "source": [
    "ener"
   ]
  },
  {
   "cell_type": "markdown",
   "metadata": {},
   "source": [
    "- exp value: -7.42 $kcal.mol^{-1}$"
   ]
  },
  {
   "cell_type": "code",
   "execution_count": 31,
   "metadata": {},
   "outputs": [
    {
     "data": {
      "text/plain": [
       "-20.989999999999995"
      ]
     },
     "execution_count": 31,
     "metadata": {},
     "output_type": "execute_result"
    }
   ],
   "source": [
    "-69.69+48.70"
   ]
  },
  {
   "cell_type": "code",
   "execution_count": null,
   "metadata": {},
   "outputs": [],
   "source": [
    "test = test.replace('\\\\x','')\n",
    "test = test.replace('\\\\f{}','')\n",
    "test"
   ]
  },
  {
   "cell_type": "code",
   "execution_count": null,
   "metadata": {},
   "outputs": [],
   "source": [
    "test = ['a', 'b', 'c']\n",
    "\" \".join(test)"
   ]
  },
  {
   "cell_type": "code",
   "execution_count": null,
   "metadata": {},
   "outputs": [],
   "source": [
    "math.sqrt((table.iloc[:,2]**2).sum())"
   ]
  },
  {
   "cell_type": "code",
   "execution_count": null,
   "metadata": {},
   "outputs": [],
   "source": [
    "table"
   ]
  },
  {
   "cell_type": "code",
   "execution_count": null,
   "metadata": {},
   "outputs": [],
   "source": [
    "from scipy.constants import R, Boltzmann, N_A\n",
    "import math\n",
    "\n",
    "#math.sqrt((table.iloc[:, 2] *  Boltzmann*310*N_A*1e-3 # kT to KJ.mol-1"
   ]
  },
  {
   "cell_type": "code",
   "execution_count": null,
   "metadata": {},
   "outputs": [],
   "source": [
    "math.sqrt(((table.iloc[:, 2] *  Boltzmann*310*N_A*1e-3)**2).sum())*(len(table.iloc[:, 2])+1)/len(table.iloc[:, 2])"
   ]
  },
  {
   "cell_type": "code",
   "execution_count": null,
   "metadata": {},
   "outputs": [],
   "source": [
    "from scipy.constants import R, Boltzmann, N_A\n",
    "\n",
    "Boltzmann*310*N_A"
   ]
  },
  {
   "cell_type": "code",
   "execution_count": null,
   "metadata": {},
   "outputs": [],
   "source": [
    "table.iloc[:, 2] *  Boltzmann*310*N_A*1e-3"
   ]
  },
  {
   "cell_type": "code",
   "execution_count": null,
   "metadata": {},
   "outputs": [],
   "source": [
    "len(table.iloc[:, 2])"
   ]
  },
  {
   "cell_type": "code",
   "execution_count": 29,
   "metadata": {},
   "outputs": [
    {
     "data": {
      "text/plain": [
       "26.22"
      ]
     },
     "execution_count": 29,
     "metadata": {},
     "output_type": "execute_result"
    }
   ],
   "source": [
    "78.41-52.19"
   ]
  },
  {
   "cell_type": "code",
   "execution_count": null,
   "metadata": {},
   "outputs": [],
   "source": []
  }
 ],
 "metadata": {
  "kernelspec": {
   "display_name": "Python 3",
   "language": "python",
   "name": "python3"
  },
  "language_info": {
   "codemirror_mode": {
    "name": "ipython",
    "version": 3
   },
   "file_extension": ".py",
   "mimetype": "text/x-python",
   "name": "python",
   "nbconvert_exporter": "python",
   "pygments_lexer": "ipython3",
   "version": "3.7.8"
  }
 },
 "nbformat": 4,
 "nbformat_minor": 4
}
