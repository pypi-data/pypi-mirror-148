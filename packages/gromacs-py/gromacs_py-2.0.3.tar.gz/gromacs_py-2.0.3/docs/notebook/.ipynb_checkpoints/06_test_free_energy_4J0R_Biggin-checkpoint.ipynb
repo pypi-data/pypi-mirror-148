{
 "cells": [
  {
   "cell_type": "code",
   "execution_count": 1,
   "metadata": {},
   "outputs": [],
   "source": [
    "import os\n",
    "import urllib.request\n",
    "import copy\n",
    "import numpy as np"
   ]
  },
  {
   "cell_type": "code",
   "execution_count": 2,
   "metadata": {
    "scrolled": true
   },
   "outputs": [],
   "source": [
    "from gromacs_py import gmx\n",
    "gmx.show_log()\n",
    "\n",
    "\n",
    "from pdb_manip_py import pdb_manip"
   ]
  },
  {
   "cell_type": "markdown",
   "metadata": {},
   "source": [
    "https://pubs.rsc.org/en/content/articlehtml/2016/sc/c5sc02678d#fn1"
   ]
  },
  {
   "cell_type": "code",
   "execution_count": 28,
   "metadata": {},
   "outputs": [
    {
     "name": "stdout",
     "output_type": "stream",
     "text": [
      "/home/murail/Documents/Code/gromacs_py/docs/notebook\n"
     ]
    }
   ],
   "source": [
    "cd /home/murail/Documents/Code/gromacs_py/docs/notebook/"
   ]
  },
  {
   "cell_type": "code",
   "execution_count": 4,
   "metadata": {},
   "outputs": [],
   "source": [
    "#rm -r data_lig_trypsin_1GI2"
   ]
  },
  {
   "cell_type": "code",
   "execution_count": 29,
   "metadata": {},
   "outputs": [],
   "source": [
    "PDB_ID = '4J0R'\n",
    "MOL_ID = '1H2'\n",
    "SMILE = 'Cc1onc(C)c1c2cc(O)cc(c2)[C@H](O)c3ccccc3'\n",
    "DATA_OUT = 'data_lig_Biggin_{}'.format(PDB_ID)\n",
    "os.makedirs(DATA_OUT, exist_ok = True)\n",
    "\n",
    "#raw_pdb = urllib.request.urlretrieve('http://files.rcsb.org/download/{}.pdb'.format(PDB_ID),\n",
    "#                           '{}/{}.pdb'.format(DATA_OUT, PDB_ID))"
   ]
  },
  {
   "cell_type": "code",
   "execution_count": 30,
   "metadata": {},
   "outputs": [
    {
     "name": "stdout",
     "output_type": "stream",
     "text": [
      "PDB file 4J0R.pdb already exist, file not saved\n",
      "Succeed to read file 4J0R.pdb ,  1284 atoms found\n",
      "PDB file data_lig_Biggin_4J0R/4J0R.pdb already exist, file not saved\n"
     ]
    }
   ],
   "source": [
    "# Extract chain A\n",
    "coor_prot = pdb_manip.Coor()\n",
    "coor_prot.get_PDB(PDB_ID)\n",
    "\n",
    "# Select res_name MK1\n",
    "chain_A = coor_prot.select_part_dict(selec_dict={'chain': ['A']})\n",
    "\n",
    "chain_A.write_pdb('{}/{}.pdb'.format(DATA_OUT, PDB_ID))"
   ]
  },
  {
   "cell_type": "code",
   "execution_count": 31,
   "metadata": {},
   "outputs": [],
   "source": [
    "# Extract first conf:\n",
    "\n",
    "#pdb_multi = pdb_manip.Multi_Coor(raw_pdb[0])\n",
    "#pdb_model_1 = '{}/{}_model_1.pdb'.format(DATA_OUT, PDB_ID)\n",
    "#pdb_multi.coor_list[0].write_pdb(pdb_model_1)\n",
    "\n",
    "pdb_model_1 = '{}/{}.pdb'.format(DATA_OUT, PDB_ID)"
   ]
  },
  {
   "cell_type": "code",
   "execution_count": 32,
   "metadata": {
    "scrolled": false
   },
   "outputs": [
    {
     "name": "stdout",
     "output_type": "stream",
     "text": [
      "Succeed to read file ../4J0R.pdb ,  1284 atoms found\n",
      "\n",
      "Succeed to read file 00_4J0R.pqr ,  2121 atoms found\n",
      "residue(s) EDO not included, add this residue in ...\n",
      "Succeed to read file ../4J0R.pdb ,  1284 atoms found\n",
      "PDB file 1H2.pdb already exist, file not saved\n",
      "Succeed to read file 1H2_h.pdb ,  39 atoms found\n",
      "Succeed to save file 1H2_h.pdb\n",
      "Succeed to read file 1H2_h.pdb ,  39 atoms found\n",
      "PDB file 1H2_h_unique.pdb already exist, file not saved\n",
      "acpype -i 1H2_h_unique.pdb -b 1H2 -c bcc -a gaff -o gmx -n 0\n",
      "1H2\n",
      "residue(s) IOD not included, add this residue in ...\n",
      "Chain: A  Residue: 0 to 126\n",
      "PDB file 01_4J0R_good_his.pdb already exist, file not saved\n",
      "-Create topologie\n",
      "create_top not launched 4J0R_pdb2gmx.pdb already exist\n",
      "Add Molecule: 1H2\n",
      "Add 2 mol /home/murail/Documents/Code/gromacs_py/docs/notebook/data_lig_Biggin_4J0R/prot_top/1H2.acpype/1H2_GMX.itp\n",
      "Concat files: ['4J0R_pdb2gmx.pdb', '/home/murail/Documents/Code/gromacs_py/docs/notebook/data_lig_Biggin_4J0R/prot_top/1H2_h.pdb']\n",
      "File  4J0R_pdb2gmx_mol.pdb  already exist\n"
     ]
    }
   ],
   "source": [
    "#2020-07-25T09:06:13CEST (c) 2020 AWSdS\n",
    "\n",
    "md_sys = gmx.GmxSys(name=PDB_ID, coor_file=pdb_model_1)\n",
    "md_sys.prepare_top(out_folder=os.path.join(DATA_OUT, 'prot_top'),\n",
    "                   ff='amber99sb-ildn', include_mol={MOL_ID: SMILE})"
   ]
  },
  {
   "cell_type": "code",
   "execution_count": 33,
   "metadata": {},
   "outputs": [
    {
     "name": "stdout",
     "output_type": "stream",
     "text": [
      "Succeed to read file data_lig_Biggin_4J0R/prot_top/4J0R_pdb2gmx_mol.pdb ,  2160 atoms found\n",
      "PDB file data_lig_Biggin_4J0R/mol_top/1H2_only.pdb already exist, file not saved\n",
      "Forcefield include :\n",
      " amber99sb-ildn\n",
      "-ITP file: 1H2_GMX_atomtypes\n",
      "-molecules defined in the itp file:\n",
      "-ITP file: tip3p\n",
      "-molecules defined in the itp file:\n",
      "* SOL\n",
      "-ITP file: 1H2_GMX\n",
      "-molecules defined in the itp file:\n",
      "* 1H2\n",
      "Mol List:\n",
      "   * 2 1H2\n",
      "Mol Name:\n",
      " Protein\n"
     ]
    }
   ],
   "source": [
    "test = md_sys.extract_mol_sys(out_folder=os.path.join(DATA_OUT, 'mol_top'), res_name=MOL_ID)"
   ]
  },
  {
   "cell_type": "code",
   "execution_count": 34,
   "metadata": {},
   "outputs": [
    {
     "name": "stdout",
     "output_type": "stream",
     "text": [
      "-Create pbc box\n",
      "create_box not launched data_lig_Biggin_4J0R/mol_top/1H2_only_box.pdb already exist\n",
      "Mdp files not created, Init_em_1H2.mdp already exist\n",
      "-Create the tpr file Init_em_1H2.tpr\n",
      "create_tpr not launched Init_em_1H2.tpr already exist\n",
      "-Launch the simulation Init_em_1H2.tpr\n",
      "Simulation not launched Init_em_1H2.gro already exist\n",
      "Mdp files not created, 1H2.mdp already exist\n",
      "-Create the tpr file 1H2.tpr\n",
      "create_tpr not launched 1H2.tpr already exist\n",
      "-Launch the simulation 1H2.tpr\n",
      "Simulation not launched 1H2.gro already exist\n"
     ]
    }
   ],
   "source": [
    "test.create_box(name=None, dist=1.0)\n",
    "\n",
    "test.em_2_steps(out_folder=os.path.join(DATA_OUT, 'mol_em'),\n",
    "                  no_constr_nsteps=10000,\n",
    "                  constr_nsteps=10000,\n",
    "                  posres=\"\",\n",
    "                  emtol=0.1, nstxout=100, maxwarn=3,\n",
    "                  create_box_flag=False)"
   ]
  },
  {
   "cell_type": "code",
   "execution_count": 35,
   "metadata": {},
   "outputs": [
    {
     "name": "stdout",
     "output_type": "stream",
     "text": [
      "-Solvate the pbc box\n",
      "solvate_box not launched 1H2_water.pdb already exist\n"
     ]
    }
   ],
   "source": [
    "test.solvate_box(out_folder=os.path.join(DATA_OUT, 'mol_water_top'))"
   ]
  },
  {
   "cell_type": "code",
   "execution_count": 36,
   "metadata": {},
   "outputs": [
    {
     "name": "stdout",
     "output_type": "stream",
     "text": [
      "Mdp files not created, Init_em_1H2.mdp already exist\n",
      "-Create the tpr file Init_em_1H2.tpr\n",
      "create_tpr not launched Init_em_1H2.tpr already exist\n",
      "-Launch the simulation Init_em_1H2.tpr\n",
      "Simulation not launched Init_em_1H2.gro already exist\n",
      "Mdp files not created, 1H2.mdp already exist\n",
      "-Create the tpr file 1H2.tpr\n",
      "create_tpr not launched 1H2.tpr already exist\n",
      "-Launch the simulation 1H2.tpr\n",
      "Simulation not launched 1H2.gro already exist\n"
     ]
    }
   ],
   "source": [
    "test.em_2_steps(out_folder=os.path.join(DATA_OUT, 'mol_water_em'),\n",
    "                  no_constr_nsteps=10000,\n",
    "                  constr_nsteps=10000,\n",
    "                  posres=\"\",\n",
    "                  emtol=0.1, nstxout=100, maxwarn=3,\n",
    "                  create_box_flag=False)"
   ]
  },
  {
   "cell_type": "code",
   "execution_count": 37,
   "metadata": {},
   "outputs": [
    {
     "name": "stdout",
     "output_type": "stream",
     "text": [
      "Mdp files not created, prod_short_equi.mdp already exist\n",
      "-Create the tpr file prod_short_equi.tpr\n",
      "create_tpr not launched prod_short_equi.tpr already exist\n",
      "-Launch the simulation prod_short_equi.tpr\n",
      "Simulation not launched prod_short_equi.gro already exist\n"
     ]
    }
   ],
   "source": [
    "mdp_options = {'tc-grps': 'System',\n",
    "               'tau_t': '0.1',\n",
    "               'ref_t' : '310',\n",
    "               }\n",
    "\n",
    "test.production(out_folder=os.path.join(DATA_OUT, 'mol_water_prod'),\n",
    "                name='short_equi',\n",
    "                nsteps=10000, dt=0.0005,\n",
    "                maxwarn=1, **mdp_options)"
   ]
  },
  {
   "cell_type": "code",
   "execution_count": 38,
   "metadata": {
    "scrolled": false
   },
   "outputs": [
    {
     "name": "stdout",
     "output_type": "stream",
     "text": [
      "Mdp files not created, prod_1H2.mdp already exist\n",
      "-Create the tpr file prod_1H2.tpr\n",
      "create_tpr not launched prod_1H2.tpr already exist\n",
      "-Launch the simulation prod_1H2.tpr\n",
      "Simulation not launched prod_1H2.gro already exist\n"
     ]
    }
   ],
   "source": [
    "test.production(out_folder=os.path.join(DATA_OUT, 'mol_water_prod'),\n",
    "                  nsteps=1000000,\n",
    "                  dt=0.002,maxwarn=1, **mdp_options)"
   ]
  },
  {
   "cell_type": "markdown",
   "metadata": {},
   "source": [
    "## Free energy calculation of solvation"
   ]
  },
  {
   "cell_type": "code",
   "execution_count": 39,
   "metadata": {},
   "outputs": [
    {
     "name": "stdout",
     "output_type": "stream",
     "text": [
      "Coulomb lambda :0.00 0.20 0.40 0.60 0.80 1.00 1.00 1.00 1.00 1.00 1.00 1.00 1.00 1.00 1.00 1.00 \n",
      "Vdw lambda     :0.00 0.00 0.00 0.00 0.00 0.00 0.10 0.20 0.30 0.40 0.50 0.60 0.70 0.80 0.90 1.00 \n",
      "bond_lambdas   :1.00 1.00 1.00 1.00 1.00 1.00 1.00 1.00 1.00 1.00 1.00 1.00 1.00 1.00 1.00 1.00 \n"
     ]
    },
    {
     "data": {
      "application/vnd.jupyter.widget-view+json": {
       "model_id": "d0a9d891a73e44a8bac2565a70b09e0d",
       "version_major": 2,
       "version_minor": 0
      },
      "text/plain": [
       "HBox(children=(HTML(value=''), FloatProgress(value=0.0, max=40240000.0), HTML(value='')))"
      ]
     },
     "metadata": {},
     "output_type": "display_data"
    },
    {
     "name": "stdout",
     "output_type": "stream",
     "text": [
      "Mdp files not created, em_1H2_vdwq_00.mdp already exist\n",
      "-Create the tpr file em_1H2_vdwq_00.tpr\n",
      "create_tpr not launched em_1H2_vdwq_00.tpr already exist\n",
      "-Launch the simulation em_1H2_vdwq_00.tpr\n",
      "Simulation not launched em_1H2_vdwq_00.gro already exist\n",
      "Mdp files not created, nvt_1H2_vdwq_00.mdp already exist\n",
      "-Create the tpr file nvt_1H2_vdwq_00.tpr\n",
      "create_tpr not launched nvt_1H2_vdwq_00.tpr already exist\n",
      "-Launch the simulation nvt_1H2_vdwq_00.tpr\n",
      "Simulation not launched nvt_1H2_vdwq_00.gro already exist\n",
      "Mdp files not created, npt_1H2_vdwq_00.mdp already exist\n",
      "-Create the tpr file npt_1H2_vdwq_00.tpr\n",
      "create_tpr not launched npt_1H2_vdwq_00.tpr already exist\n",
      "-Launch the simulation npt_1H2_vdwq_00.tpr\n",
      "Simulation not launched npt_1H2_vdwq_00.gro already exist\n",
      "Mdp files not created, prod_1H2_vdwq_00.mdp already exist\n",
      "-Create the tpr file prod_1H2_vdwq_00.tpr\n",
      "create_tpr not launched prod_1H2_vdwq_00.tpr already exist\n",
      "-Launch the simulation prod_1H2_vdwq_00.tpr\n",
      "Simulation not launched prod_1H2_vdwq_00.gro already exist\n",
      "Mdp files not created, em_1H2_vdwq_01.mdp already exist\n",
      "-Create the tpr file em_1H2_vdwq_01.tpr\n",
      "create_tpr not launched em_1H2_vdwq_01.tpr already exist\n",
      "-Launch the simulation em_1H2_vdwq_01.tpr\n",
      "Simulation not launched em_1H2_vdwq_01.gro already exist\n",
      "Mdp files not created, nvt_1H2_vdwq_01.mdp already exist\n",
      "-Create the tpr file nvt_1H2_vdwq_01.tpr\n",
      "create_tpr not launched nvt_1H2_vdwq_01.tpr already exist\n",
      "-Launch the simulation nvt_1H2_vdwq_01.tpr\n",
      "Simulation not launched nvt_1H2_vdwq_01.gro already exist\n",
      "Mdp files not created, npt_1H2_vdwq_01.mdp already exist\n",
      "-Create the tpr file npt_1H2_vdwq_01.tpr\n",
      "create_tpr not launched npt_1H2_vdwq_01.tpr already exist\n",
      "-Launch the simulation npt_1H2_vdwq_01.tpr\n",
      "Simulation not launched npt_1H2_vdwq_01.gro already exist\n",
      "Mdp files not created, prod_1H2_vdwq_01.mdp already exist\n",
      "-Create the tpr file prod_1H2_vdwq_01.tpr\n",
      "create_tpr not launched prod_1H2_vdwq_01.tpr already exist\n",
      "-Launch the simulation prod_1H2_vdwq_01.tpr\n",
      "Simulation not launched prod_1H2_vdwq_01.gro already exist\n",
      "Mdp files not created, em_1H2_vdwq_02.mdp already exist\n",
      "-Create the tpr file em_1H2_vdwq_02.tpr\n",
      "create_tpr not launched em_1H2_vdwq_02.tpr already exist\n",
      "-Launch the simulation em_1H2_vdwq_02.tpr\n",
      "Simulation not launched em_1H2_vdwq_02.gro already exist\n",
      "Mdp files not created, nvt_1H2_vdwq_02.mdp already exist\n",
      "-Create the tpr file nvt_1H2_vdwq_02.tpr\n",
      "create_tpr not launched nvt_1H2_vdwq_02.tpr already exist\n",
      "-Launch the simulation nvt_1H2_vdwq_02.tpr\n",
      "Simulation not launched nvt_1H2_vdwq_02.gro already exist\n",
      "Mdp files not created, npt_1H2_vdwq_02.mdp already exist\n",
      "-Create the tpr file npt_1H2_vdwq_02.tpr\n",
      "create_tpr not launched npt_1H2_vdwq_02.tpr already exist\n",
      "-Launch the simulation npt_1H2_vdwq_02.tpr\n",
      "Simulation not launched npt_1H2_vdwq_02.gro already exist\n",
      "Mdp files not created, prod_1H2_vdwq_02.mdp already exist\n",
      "-Create the tpr file prod_1H2_vdwq_02.tpr\n",
      "create_tpr not launched prod_1H2_vdwq_02.tpr already exist\n",
      "-Launch the simulation prod_1H2_vdwq_02.tpr\n",
      "Simulation not launched prod_1H2_vdwq_02.gro already exist\n",
      "Mdp files not created, em_1H2_vdwq_03.mdp already exist\n",
      "-Create the tpr file em_1H2_vdwq_03.tpr\n",
      "create_tpr not launched em_1H2_vdwq_03.tpr already exist\n",
      "-Launch the simulation em_1H2_vdwq_03.tpr\n",
      "Simulation not launched em_1H2_vdwq_03.gro already exist\n",
      "Mdp files not created, nvt_1H2_vdwq_03.mdp already exist\n",
      "-Create the tpr file nvt_1H2_vdwq_03.tpr\n",
      "create_tpr not launched nvt_1H2_vdwq_03.tpr already exist\n",
      "-Launch the simulation nvt_1H2_vdwq_03.tpr\n",
      "Simulation not launched nvt_1H2_vdwq_03.gro already exist\n",
      "Mdp files not created, npt_1H2_vdwq_03.mdp already exist\n",
      "-Create the tpr file npt_1H2_vdwq_03.tpr\n",
      "create_tpr not launched npt_1H2_vdwq_03.tpr already exist\n",
      "-Launch the simulation npt_1H2_vdwq_03.tpr\n",
      "Simulation not launched npt_1H2_vdwq_03.gro already exist\n",
      "Mdp files not created, prod_1H2_vdwq_03.mdp already exist\n",
      "-Create the tpr file prod_1H2_vdwq_03.tpr\n",
      "create_tpr not launched prod_1H2_vdwq_03.tpr already exist\n",
      "-Launch the simulation prod_1H2_vdwq_03.tpr\n",
      "Simulation not launched prod_1H2_vdwq_03.gro already exist\n",
      "Mdp files not created, em_1H2_vdwq_04.mdp already exist\n",
      "-Create the tpr file em_1H2_vdwq_04.tpr\n",
      "create_tpr not launched em_1H2_vdwq_04.tpr already exist\n",
      "-Launch the simulation em_1H2_vdwq_04.tpr\n",
      "Simulation not launched em_1H2_vdwq_04.gro already exist\n",
      "Mdp files not created, nvt_1H2_vdwq_04.mdp already exist\n",
      "-Create the tpr file nvt_1H2_vdwq_04.tpr\n",
      "create_tpr not launched nvt_1H2_vdwq_04.tpr already exist\n",
      "-Launch the simulation nvt_1H2_vdwq_04.tpr\n",
      "Simulation not launched nvt_1H2_vdwq_04.gro already exist\n",
      "Mdp files not created, npt_1H2_vdwq_04.mdp already exist\n",
      "-Create the tpr file npt_1H2_vdwq_04.tpr\n",
      "create_tpr not launched npt_1H2_vdwq_04.tpr already exist\n",
      "-Launch the simulation npt_1H2_vdwq_04.tpr\n",
      "Simulation not launched npt_1H2_vdwq_04.gro already exist\n",
      "Mdp files not created, prod_1H2_vdwq_04.mdp already exist\n",
      "-Create the tpr file prod_1H2_vdwq_04.tpr\n",
      "create_tpr not launched prod_1H2_vdwq_04.tpr already exist\n",
      "-Launch the simulation prod_1H2_vdwq_04.tpr\n",
      "Simulation not launched prod_1H2_vdwq_04.gro already exist\n",
      "Mdp files not created, em_1H2_vdwq_05.mdp already exist\n",
      "-Create the tpr file em_1H2_vdwq_05.tpr\n",
      "create_tpr not launched em_1H2_vdwq_05.tpr already exist\n",
      "-Launch the simulation em_1H2_vdwq_05.tpr\n",
      "Simulation not launched em_1H2_vdwq_05.gro already exist\n",
      "Mdp files not created, nvt_1H2_vdwq_05.mdp already exist\n",
      "-Create the tpr file nvt_1H2_vdwq_05.tpr\n",
      "create_tpr not launched nvt_1H2_vdwq_05.tpr already exist\n",
      "-Launch the simulation nvt_1H2_vdwq_05.tpr\n",
      "Simulation not launched nvt_1H2_vdwq_05.gro already exist\n",
      "Mdp files not created, npt_1H2_vdwq_05.mdp already exist\n",
      "-Create the tpr file npt_1H2_vdwq_05.tpr\n",
      "create_tpr not launched npt_1H2_vdwq_05.tpr already exist\n",
      "-Launch the simulation npt_1H2_vdwq_05.tpr\n",
      "Simulation not launched npt_1H2_vdwq_05.gro already exist\n",
      "Mdp files not created, prod_1H2_vdwq_05.mdp already exist\n",
      "-Create the tpr file prod_1H2_vdwq_05.tpr\n",
      "create_tpr not launched prod_1H2_vdwq_05.tpr already exist\n",
      "-Launch the simulation prod_1H2_vdwq_05.tpr\n",
      "Simulation not launched prod_1H2_vdwq_05.gro already exist\n",
      "Mdp files not created, em_1H2_vdwq_06.mdp already exist\n",
      "-Create the tpr file em_1H2_vdwq_06.tpr\n",
      "create_tpr not launched em_1H2_vdwq_06.tpr already exist\n",
      "-Launch the simulation em_1H2_vdwq_06.tpr\n",
      "Simulation not launched em_1H2_vdwq_06.gro already exist\n",
      "Mdp files not created, nvt_1H2_vdwq_06.mdp already exist\n",
      "-Create the tpr file nvt_1H2_vdwq_06.tpr\n",
      "create_tpr not launched nvt_1H2_vdwq_06.tpr already exist\n",
      "-Launch the simulation nvt_1H2_vdwq_06.tpr\n",
      "Simulation not launched nvt_1H2_vdwq_06.gro already exist\n",
      "Mdp files not created, npt_1H2_vdwq_06.mdp already exist\n",
      "-Create the tpr file npt_1H2_vdwq_06.tpr\n",
      "create_tpr not launched npt_1H2_vdwq_06.tpr already exist\n",
      "-Launch the simulation npt_1H2_vdwq_06.tpr\n",
      "Simulation not launched npt_1H2_vdwq_06.gro already exist\n",
      "Mdp files not created, prod_1H2_vdwq_06.mdp already exist\n",
      "-Create the tpr file prod_1H2_vdwq_06.tpr\n",
      "create_tpr not launched prod_1H2_vdwq_06.tpr already exist\n",
      "-Launch the simulation prod_1H2_vdwq_06.tpr\n",
      "Simulation not launched prod_1H2_vdwq_06.gro already exist\n",
      "Mdp files not created, em_1H2_vdwq_07.mdp already exist\n",
      "-Create the tpr file em_1H2_vdwq_07.tpr\n",
      "create_tpr not launched em_1H2_vdwq_07.tpr already exist\n",
      "-Launch the simulation em_1H2_vdwq_07.tpr\n",
      "Simulation not launched em_1H2_vdwq_07.gro already exist\n",
      "Mdp files not created, nvt_1H2_vdwq_07.mdp already exist\n",
      "-Create the tpr file nvt_1H2_vdwq_07.tpr\n",
      "create_tpr not launched nvt_1H2_vdwq_07.tpr already exist\n",
      "-Launch the simulation nvt_1H2_vdwq_07.tpr\n",
      "Simulation not launched nvt_1H2_vdwq_07.gro already exist\n",
      "Mdp files not created, npt_1H2_vdwq_07.mdp already exist\n",
      "-Create the tpr file npt_1H2_vdwq_07.tpr\n",
      "create_tpr not launched npt_1H2_vdwq_07.tpr already exist\n",
      "-Launch the simulation npt_1H2_vdwq_07.tpr\n",
      "Simulation not launched npt_1H2_vdwq_07.gro already exist\n",
      "Mdp files not created, prod_1H2_vdwq_07.mdp already exist\n",
      "-Create the tpr file prod_1H2_vdwq_07.tpr\n",
      "create_tpr not launched prod_1H2_vdwq_07.tpr already exist\n",
      "-Launch the simulation prod_1H2_vdwq_07.tpr\n",
      "Simulation not launched prod_1H2_vdwq_07.gro already exist\n"
     ]
    },
    {
     "name": "stdout",
     "output_type": "stream",
     "text": [
      "Mdp files not created, em_1H2_vdwq_08.mdp already exist\n",
      "-Create the tpr file em_1H2_vdwq_08.tpr\n",
      "create_tpr not launched em_1H2_vdwq_08.tpr already exist\n",
      "-Launch the simulation em_1H2_vdwq_08.tpr\n",
      "Simulation not launched em_1H2_vdwq_08.gro already exist\n",
      "Mdp files not created, nvt_1H2_vdwq_08.mdp already exist\n",
      "-Create the tpr file nvt_1H2_vdwq_08.tpr\n",
      "create_tpr not launched nvt_1H2_vdwq_08.tpr already exist\n",
      "-Launch the simulation nvt_1H2_vdwq_08.tpr\n",
      "Simulation not launched nvt_1H2_vdwq_08.gro already exist\n",
      "Mdp files not created, npt_1H2_vdwq_08.mdp already exist\n",
      "-Create the tpr file npt_1H2_vdwq_08.tpr\n",
      "create_tpr not launched npt_1H2_vdwq_08.tpr already exist\n",
      "-Launch the simulation npt_1H2_vdwq_08.tpr\n",
      "Simulation not launched npt_1H2_vdwq_08.gro already exist\n",
      "Mdp files not created, prod_1H2_vdwq_08.mdp already exist\n",
      "-Create the tpr file prod_1H2_vdwq_08.tpr\n",
      "create_tpr not launched prod_1H2_vdwq_08.tpr already exist\n",
      "-Launch the simulation prod_1H2_vdwq_08.tpr\n",
      "Simulation not launched prod_1H2_vdwq_08.gro already exist\n",
      "Mdp files not created, em_1H2_vdwq_09.mdp already exist\n",
      "-Create the tpr file em_1H2_vdwq_09.tpr\n",
      "create_tpr not launched em_1H2_vdwq_09.tpr already exist\n",
      "-Launch the simulation em_1H2_vdwq_09.tpr\n",
      "Simulation not launched em_1H2_vdwq_09.gro already exist\n",
      "Mdp files not created, nvt_1H2_vdwq_09.mdp already exist\n",
      "-Create the tpr file nvt_1H2_vdwq_09.tpr\n",
      "create_tpr not launched nvt_1H2_vdwq_09.tpr already exist\n",
      "-Launch the simulation nvt_1H2_vdwq_09.tpr\n",
      "Simulation not launched nvt_1H2_vdwq_09.gro already exist\n",
      "Mdp files not created, npt_1H2_vdwq_09.mdp already exist\n",
      "-Create the tpr file npt_1H2_vdwq_09.tpr\n",
      "create_tpr not launched npt_1H2_vdwq_09.tpr already exist\n",
      "-Launch the simulation npt_1H2_vdwq_09.tpr\n",
      "Simulation not launched npt_1H2_vdwq_09.gro already exist\n",
      "Mdp files not created, prod_1H2_vdwq_09.mdp already exist\n",
      "-Create the tpr file prod_1H2_vdwq_09.tpr\n",
      "create_tpr not launched prod_1H2_vdwq_09.tpr already exist\n",
      "-Launch the simulation prod_1H2_vdwq_09.tpr\n",
      "Simulation not launched prod_1H2_vdwq_09.gro already exist\n",
      "Mdp files not created, em_1H2_vdwq_10.mdp already exist\n",
      "-Create the tpr file em_1H2_vdwq_10.tpr\n",
      "create_tpr not launched em_1H2_vdwq_10.tpr already exist\n",
      "-Launch the simulation em_1H2_vdwq_10.tpr\n",
      "Simulation not launched em_1H2_vdwq_10.gro already exist\n",
      "Mdp files not created, nvt_1H2_vdwq_10.mdp already exist\n",
      "-Create the tpr file nvt_1H2_vdwq_10.tpr\n",
      "create_tpr not launched nvt_1H2_vdwq_10.tpr already exist\n",
      "-Launch the simulation nvt_1H2_vdwq_10.tpr\n",
      "Simulation not launched nvt_1H2_vdwq_10.gro already exist\n",
      "Mdp files not created, npt_1H2_vdwq_10.mdp already exist\n",
      "-Create the tpr file npt_1H2_vdwq_10.tpr\n",
      "create_tpr not launched npt_1H2_vdwq_10.tpr already exist\n",
      "-Launch the simulation npt_1H2_vdwq_10.tpr\n",
      "Simulation not launched npt_1H2_vdwq_10.gro already exist\n",
      "Mdp files not created, prod_1H2_vdwq_10.mdp already exist\n",
      "-Create the tpr file prod_1H2_vdwq_10.tpr\n",
      "create_tpr not launched prod_1H2_vdwq_10.tpr already exist\n",
      "-Launch the simulation prod_1H2_vdwq_10.tpr\n",
      "Simulation not launched prod_1H2_vdwq_10.gro already exist\n",
      "Mdp files not created, em_1H2_vdwq_11.mdp already exist\n",
      "-Create the tpr file em_1H2_vdwq_11.tpr\n",
      "create_tpr not launched em_1H2_vdwq_11.tpr already exist\n",
      "-Launch the simulation em_1H2_vdwq_11.tpr\n",
      "Simulation not launched em_1H2_vdwq_11.gro already exist\n",
      "Mdp files not created, nvt_1H2_vdwq_11.mdp already exist\n",
      "-Create the tpr file nvt_1H2_vdwq_11.tpr\n",
      "create_tpr not launched nvt_1H2_vdwq_11.tpr already exist\n",
      "-Launch the simulation nvt_1H2_vdwq_11.tpr\n",
      "Simulation not launched nvt_1H2_vdwq_11.gro already exist\n",
      "Mdp files not created, npt_1H2_vdwq_11.mdp already exist\n",
      "-Create the tpr file npt_1H2_vdwq_11.tpr\n",
      "create_tpr not launched npt_1H2_vdwq_11.tpr already exist\n",
      "-Launch the simulation npt_1H2_vdwq_11.tpr\n",
      "Simulation not launched npt_1H2_vdwq_11.gro already exist\n",
      "Mdp files not created, prod_1H2_vdwq_11.mdp already exist\n",
      "-Create the tpr file prod_1H2_vdwq_11.tpr\n",
      "create_tpr not launched prod_1H2_vdwq_11.tpr already exist\n",
      "-Launch the simulation prod_1H2_vdwq_11.tpr\n",
      "Simulation not launched prod_1H2_vdwq_11.gro already exist\n",
      "Mdp files not created, em_1H2_vdwq_12.mdp already exist\n",
      "-Create the tpr file em_1H2_vdwq_12.tpr\n",
      "create_tpr not launched em_1H2_vdwq_12.tpr already exist\n",
      "-Launch the simulation em_1H2_vdwq_12.tpr\n",
      "Simulation not launched em_1H2_vdwq_12.gro already exist\n",
      "Mdp files not created, nvt_1H2_vdwq_12.mdp already exist\n",
      "-Create the tpr file nvt_1H2_vdwq_12.tpr\n",
      "create_tpr not launched nvt_1H2_vdwq_12.tpr already exist\n",
      "-Launch the simulation nvt_1H2_vdwq_12.tpr\n",
      "Simulation not launched nvt_1H2_vdwq_12.gro already exist\n",
      "Mdp files not created, npt_1H2_vdwq_12.mdp already exist\n",
      "-Create the tpr file npt_1H2_vdwq_12.tpr\n",
      "create_tpr not launched npt_1H2_vdwq_12.tpr already exist\n",
      "-Launch the simulation npt_1H2_vdwq_12.tpr\n",
      "Simulation not launched npt_1H2_vdwq_12.gro already exist\n",
      "Mdp files not created, prod_1H2_vdwq_12.mdp already exist\n",
      "-Create the tpr file prod_1H2_vdwq_12.tpr\n",
      "create_tpr not launched prod_1H2_vdwq_12.tpr already exist\n",
      "-Launch the simulation prod_1H2_vdwq_12.tpr\n",
      "Simulation not launched prod_1H2_vdwq_12.gro already exist\n",
      "Mdp files not created, em_1H2_vdwq_13.mdp already exist\n",
      "-Create the tpr file em_1H2_vdwq_13.tpr\n",
      "create_tpr not launched em_1H2_vdwq_13.tpr already exist\n",
      "-Launch the simulation em_1H2_vdwq_13.tpr\n",
      "Simulation not launched em_1H2_vdwq_13.gro already exist\n",
      "Mdp files not created, nvt_1H2_vdwq_13.mdp already exist\n",
      "-Create the tpr file nvt_1H2_vdwq_13.tpr\n",
      "create_tpr not launched nvt_1H2_vdwq_13.tpr already exist\n",
      "-Launch the simulation nvt_1H2_vdwq_13.tpr\n",
      "Simulation not launched nvt_1H2_vdwq_13.gro already exist\n",
      "Mdp files not created, npt_1H2_vdwq_13.mdp already exist\n",
      "-Create the tpr file npt_1H2_vdwq_13.tpr\n",
      "create_tpr not launched npt_1H2_vdwq_13.tpr already exist\n",
      "-Launch the simulation npt_1H2_vdwq_13.tpr\n",
      "Simulation not launched npt_1H2_vdwq_13.gro already exist\n",
      "Mdp files not created, prod_1H2_vdwq_13.mdp already exist\n",
      "-Create the tpr file prod_1H2_vdwq_13.tpr\n",
      "create_tpr not launched prod_1H2_vdwq_13.tpr already exist\n",
      "-Launch the simulation prod_1H2_vdwq_13.tpr\n",
      "Simulation not launched prod_1H2_vdwq_13.gro already exist\n",
      "Mdp files not created, em_1H2_vdwq_14.mdp already exist\n",
      "-Create the tpr file em_1H2_vdwq_14.tpr\n",
      "create_tpr not launched em_1H2_vdwq_14.tpr already exist\n",
      "-Launch the simulation em_1H2_vdwq_14.tpr\n",
      "Simulation not launched em_1H2_vdwq_14.gro already exist\n",
      "Mdp files not created, nvt_1H2_vdwq_14.mdp already exist\n",
      "-Create the tpr file nvt_1H2_vdwq_14.tpr\n",
      "create_tpr not launched nvt_1H2_vdwq_14.tpr already exist\n",
      "-Launch the simulation nvt_1H2_vdwq_14.tpr\n",
      "Simulation not launched nvt_1H2_vdwq_14.gro already exist\n",
      "Mdp files not created, npt_1H2_vdwq_14.mdp already exist\n",
      "-Create the tpr file npt_1H2_vdwq_14.tpr\n",
      "create_tpr not launched npt_1H2_vdwq_14.tpr already exist\n",
      "-Launch the simulation npt_1H2_vdwq_14.tpr\n",
      "Simulation not launched npt_1H2_vdwq_14.gro already exist\n",
      "Mdp files not created, prod_1H2_vdwq_14.mdp already exist\n",
      "-Create the tpr file prod_1H2_vdwq_14.tpr\n",
      "create_tpr not launched prod_1H2_vdwq_14.tpr already exist\n",
      "-Launch the simulation prod_1H2_vdwq_14.tpr\n",
      "Simulation not launched prod_1H2_vdwq_14.gro already exist\n",
      "Mdp files not created, em_1H2_vdwq_15.mdp already exist\n",
      "-Create the tpr file em_1H2_vdwq_15.tpr\n",
      "create_tpr not launched em_1H2_vdwq_15.tpr already exist\n",
      "-Launch the simulation em_1H2_vdwq_15.tpr\n",
      "Simulation not launched em_1H2_vdwq_15.gro already exist\n",
      "Mdp files not created, nvt_1H2_vdwq_15.mdp already exist\n",
      "-Create the tpr file nvt_1H2_vdwq_15.tpr\n",
      "create_tpr not launched nvt_1H2_vdwq_15.tpr already exist\n",
      "-Launch the simulation nvt_1H2_vdwq_15.tpr\n",
      "Simulation not launched nvt_1H2_vdwq_15.gro already exist\n",
      "Mdp files not created, npt_1H2_vdwq_15.mdp already exist\n",
      "-Create the tpr file npt_1H2_vdwq_15.tpr\n",
      "create_tpr not launched npt_1H2_vdwq_15.tpr already exist\n",
      "-Launch the simulation npt_1H2_vdwq_15.tpr\n",
      "Simulation not launched npt_1H2_vdwq_15.gro already exist\n",
      "Mdp files not created, prod_1H2_vdwq_15.mdp already exist\n",
      "-Create the tpr file prod_1H2_vdwq_15.tpr\n",
      "create_tpr not launched prod_1H2_vdwq_15.tpr already exist\n",
      "-Launch the simulation prod_1H2_vdwq_15.tpr\n",
      "Simulation not launched prod_1H2_vdwq_15.gro already exist\n"
     ]
    },
    {
     "name": "stdout",
     "output_type": "stream",
     "text": [
      "-Extract bar energy\n",
      "gmx bar -f data_lig_Biggin_4J0R/mol_free_ener_5ns/03_prod/prod_1H2_vdwq_00.xvg data_lig_Biggin_4J0R/mol_free_ener_5ns/03_prod/prod_1H2_vdwq_01.xvg data_lig_Biggin_4J0R/mol_free_ener_5ns/03_prod/prod_1H2_vdwq_02.xvg data_lig_Biggin_4J0R/mol_free_ener_5ns/03_prod/prod_1H2_vdwq_03.xvg data_lig_Biggin_4J0R/mol_free_ener_5ns/03_prod/prod_1H2_vdwq_04.xvg data_lig_Biggin_4J0R/mol_free_ener_5ns/03_prod/prod_1H2_vdwq_05.xvg data_lig_Biggin_4J0R/mol_free_ener_5ns/03_prod/prod_1H2_vdwq_06.xvg data_lig_Biggin_4J0R/mol_free_ener_5ns/03_prod/prod_1H2_vdwq_07.xvg data_lig_Biggin_4J0R/mol_free_ener_5ns/03_prod/prod_1H2_vdwq_08.xvg data_lig_Biggin_4J0R/mol_free_ener_5ns/03_prod/prod_1H2_vdwq_09.xvg data_lig_Biggin_4J0R/mol_free_ener_5ns/03_prod/prod_1H2_vdwq_10.xvg data_lig_Biggin_4J0R/mol_free_ener_5ns/03_prod/prod_1H2_vdwq_11.xvg data_lig_Biggin_4J0R/mol_free_ener_5ns/03_prod/prod_1H2_vdwq_12.xvg data_lig_Biggin_4J0R/mol_free_ener_5ns/03_prod/prod_1H2_vdwq_13.xvg data_lig_Biggin_4J0R/mol_free_ener_5ns/03_prod/prod_1H2_vdwq_14.xvg data_lig_Biggin_4J0R/mol_free_ener_5ns/03_prod/prod_1H2_vdwq_15.xvg -o bar.xvg -oi barint.xvg -oh histogram.xvg -b 0 -e -1\n",
      "DDG = -60.57 +/- 0.42 KJ/mol-1\n",
      "DDG = -14.48 +/- 0.10 Kcal/mol-1\n",
      "Log P = 83.16 +/- -0.58\n"
     ]
    }
   ],
   "source": [
    "ener_solv = test.free_ener(out_folder=os.path.join(DATA_OUT, 'mol_free_ener_5ns'),\n",
    "                      mol_name=MOL_ID, lambda_elec_num=5, lambda_vdw_num=10,\n",
    "                      em_steps=5000, nvt_time=10, npt_time=10, prod_time=5000)"
   ]
  },
  {
   "cell_type": "code",
   "execution_count": 27,
   "metadata": {},
   "outputs": [
    {
     "name": "stdout",
     "output_type": "stream",
     "text": [
      "26.65\n",
      "-2.36\n",
      "24.29\n"
     ]
    }
   ],
   "source": [
    "lambda_elec_num=5\n",
    "lambda_vdw_num=10\n",
    "vdw_contrib = ener_solv['table']['DG (kT)'][lambda_elec_num:lambda_elec_num+lambda_vdw_num].sum()\n",
    "coulomb_contrib = ener_solv['table']['DG (kT)'][:lambda_elec_num].sum()\n",
    "print(coulomb_contrib)\n",
    "print(vdw_contrib)\n",
    "print(coulomb_contrib+vdw_contrib)"
   ]
  },
  {
   "cell_type": "code",
   "execution_count": 24,
   "metadata": {},
   "outputs": [
    {
     "data": {
      "text/plain": [
       "24.290000000000006"
      ]
     },
     "execution_count": 24,
     "metadata": {},
     "output_type": "execute_result"
    }
   ],
   "source": [
    "ener_solv['table']['DG (kT)'].sum()"
   ]
  },
  {
   "cell_type": "code",
   "execution_count": 16,
   "metadata": {},
   "outputs": [
    {
     "data": {
      "text/plain": [
       "{'DG': -60.57,\n",
       " 'std': 0.42,\n",
       " 'table':        l  DG (kT)   +/-\n",
       " 0    0.5    11.42  0.04\n",
       " 1    1.5     7.46  0.01\n",
       " 2    2.5     4.53  0.02\n",
       " 3    3.5     2.42  0.01\n",
       " 4    4.5     0.82  0.02\n",
       " 5    5.5     3.02  0.01\n",
       " 6    6.5     2.87  0.00\n",
       " 7    7.5     2.63  0.01\n",
       " 8    8.5     2.28  0.01\n",
       " 9    9.5     1.80  0.01\n",
       " 10  10.5     0.95  0.02\n",
       " 11  11.5    -0.94  0.01\n",
       " 12  12.5    -5.72  0.12\n",
       " 13  13.5    -6.94  0.07\n",
       " 14  14.5    -2.31  0.02}"
      ]
     },
     "execution_count": 16,
     "metadata": {},
     "output_type": "execute_result"
    }
   ],
   "source": [
    "ener_solv"
   ]
  },
  {
   "cell_type": "code",
   "execution_count": 54,
   "metadata": {},
   "outputs": [
    {
     "name": "stdout",
     "output_type": "stream",
     "text": [
      "-Extract bar energy\n",
      "gmx bar -f data_lig_Biggin_4J0R/mol_free_ener_5ns/03_prod/prod_1H2_vdwq_00.xvg data_lig_Biggin_4J0R/mol_free_ener_5ns/03_prod/prod_1H2_vdwq_01.xvg data_lig_Biggin_4J0R/mol_free_ener_5ns/03_prod/prod_1H2_vdwq_02.xvg data_lig_Biggin_4J0R/mol_free_ener_5ns/03_prod/prod_1H2_vdwq_03.xvg data_lig_Biggin_4J0R/mol_free_ener_5ns/03_prod/prod_1H2_vdwq_04.xvg data_lig_Biggin_4J0R/mol_free_ener_5ns/03_prod/prod_1H2_vdwq_05.xvg data_lig_Biggin_4J0R/mol_free_ener_5ns/03_prod/prod_1H2_vdwq_06.xvg data_lig_Biggin_4J0R/mol_free_ener_5ns/03_prod/prod_1H2_vdwq_07.xvg data_lig_Biggin_4J0R/mol_free_ener_5ns/03_prod/prod_1H2_vdwq_08.xvg data_lig_Biggin_4J0R/mol_free_ener_5ns/03_prod/prod_1H2_vdwq_09.xvg data_lig_Biggin_4J0R/mol_free_ener_5ns/03_prod/prod_1H2_vdwq_10.xvg data_lig_Biggin_4J0R/mol_free_ener_5ns/03_prod/prod_1H2_vdwq_11.xvg data_lig_Biggin_4J0R/mol_free_ener_5ns/03_prod/prod_1H2_vdwq_12.xvg data_lig_Biggin_4J0R/mol_free_ener_5ns/03_prod/prod_1H2_vdwq_13.xvg data_lig_Biggin_4J0R/mol_free_ener_5ns/03_prod/prod_1H2_vdwq_14.xvg data_lig_Biggin_4J0R/mol_free_ener_5ns/03_prod/prod_1H2_vdwq_15.xvg -o bar.xvg -oi barint.xvg -oh histogram.xvg -b 0.0 -e 500.0\n",
      "-Extract bar energy\n",
      "gmx bar -f data_lig_Biggin_4J0R/mol_free_ener_5ns/03_prod/prod_1H2_vdwq_00.xvg data_lig_Biggin_4J0R/mol_free_ener_5ns/03_prod/prod_1H2_vdwq_01.xvg data_lig_Biggin_4J0R/mol_free_ener_5ns/03_prod/prod_1H2_vdwq_02.xvg data_lig_Biggin_4J0R/mol_free_ener_5ns/03_prod/prod_1H2_vdwq_03.xvg data_lig_Biggin_4J0R/mol_free_ener_5ns/03_prod/prod_1H2_vdwq_04.xvg data_lig_Biggin_4J0R/mol_free_ener_5ns/03_prod/prod_1H2_vdwq_05.xvg data_lig_Biggin_4J0R/mol_free_ener_5ns/03_prod/prod_1H2_vdwq_06.xvg data_lig_Biggin_4J0R/mol_free_ener_5ns/03_prod/prod_1H2_vdwq_07.xvg data_lig_Biggin_4J0R/mol_free_ener_5ns/03_prod/prod_1H2_vdwq_08.xvg data_lig_Biggin_4J0R/mol_free_ener_5ns/03_prod/prod_1H2_vdwq_09.xvg data_lig_Biggin_4J0R/mol_free_ener_5ns/03_prod/prod_1H2_vdwq_10.xvg data_lig_Biggin_4J0R/mol_free_ener_5ns/03_prod/prod_1H2_vdwq_11.xvg data_lig_Biggin_4J0R/mol_free_ener_5ns/03_prod/prod_1H2_vdwq_12.xvg data_lig_Biggin_4J0R/mol_free_ener_5ns/03_prod/prod_1H2_vdwq_13.xvg data_lig_Biggin_4J0R/mol_free_ener_5ns/03_prod/prod_1H2_vdwq_14.xvg data_lig_Biggin_4J0R/mol_free_ener_5ns/03_prod/prod_1H2_vdwq_15.xvg -o bar.xvg -oi barint.xvg -oh histogram.xvg -b 500.0 -e 1000.0\n",
      "-Extract bar energy\n",
      "gmx bar -f data_lig_Biggin_4J0R/mol_free_ener_5ns/03_prod/prod_1H2_vdwq_00.xvg data_lig_Biggin_4J0R/mol_free_ener_5ns/03_prod/prod_1H2_vdwq_01.xvg data_lig_Biggin_4J0R/mol_free_ener_5ns/03_prod/prod_1H2_vdwq_02.xvg data_lig_Biggin_4J0R/mol_free_ener_5ns/03_prod/prod_1H2_vdwq_03.xvg data_lig_Biggin_4J0R/mol_free_ener_5ns/03_prod/prod_1H2_vdwq_04.xvg data_lig_Biggin_4J0R/mol_free_ener_5ns/03_prod/prod_1H2_vdwq_05.xvg data_lig_Biggin_4J0R/mol_free_ener_5ns/03_prod/prod_1H2_vdwq_06.xvg data_lig_Biggin_4J0R/mol_free_ener_5ns/03_prod/prod_1H2_vdwq_07.xvg data_lig_Biggin_4J0R/mol_free_ener_5ns/03_prod/prod_1H2_vdwq_08.xvg data_lig_Biggin_4J0R/mol_free_ener_5ns/03_prod/prod_1H2_vdwq_09.xvg data_lig_Biggin_4J0R/mol_free_ener_5ns/03_prod/prod_1H2_vdwq_10.xvg data_lig_Biggin_4J0R/mol_free_ener_5ns/03_prod/prod_1H2_vdwq_11.xvg data_lig_Biggin_4J0R/mol_free_ener_5ns/03_prod/prod_1H2_vdwq_12.xvg data_lig_Biggin_4J0R/mol_free_ener_5ns/03_prod/prod_1H2_vdwq_13.xvg data_lig_Biggin_4J0R/mol_free_ener_5ns/03_prod/prod_1H2_vdwq_14.xvg data_lig_Biggin_4J0R/mol_free_ener_5ns/03_prod/prod_1H2_vdwq_15.xvg -o bar.xvg -oi barint.xvg -oh histogram.xvg -b 1000.0 -e 1500.0\n",
      "-Extract bar energy\n",
      "gmx bar -f data_lig_Biggin_4J0R/mol_free_ener_5ns/03_prod/prod_1H2_vdwq_00.xvg data_lig_Biggin_4J0R/mol_free_ener_5ns/03_prod/prod_1H2_vdwq_01.xvg data_lig_Biggin_4J0R/mol_free_ener_5ns/03_prod/prod_1H2_vdwq_02.xvg data_lig_Biggin_4J0R/mol_free_ener_5ns/03_prod/prod_1H2_vdwq_03.xvg data_lig_Biggin_4J0R/mol_free_ener_5ns/03_prod/prod_1H2_vdwq_04.xvg data_lig_Biggin_4J0R/mol_free_ener_5ns/03_prod/prod_1H2_vdwq_05.xvg data_lig_Biggin_4J0R/mol_free_ener_5ns/03_prod/prod_1H2_vdwq_06.xvg data_lig_Biggin_4J0R/mol_free_ener_5ns/03_prod/prod_1H2_vdwq_07.xvg data_lig_Biggin_4J0R/mol_free_ener_5ns/03_prod/prod_1H2_vdwq_08.xvg data_lig_Biggin_4J0R/mol_free_ener_5ns/03_prod/prod_1H2_vdwq_09.xvg data_lig_Biggin_4J0R/mol_free_ener_5ns/03_prod/prod_1H2_vdwq_10.xvg data_lig_Biggin_4J0R/mol_free_ener_5ns/03_prod/prod_1H2_vdwq_11.xvg data_lig_Biggin_4J0R/mol_free_ener_5ns/03_prod/prod_1H2_vdwq_12.xvg data_lig_Biggin_4J0R/mol_free_ener_5ns/03_prod/prod_1H2_vdwq_13.xvg data_lig_Biggin_4J0R/mol_free_ener_5ns/03_prod/prod_1H2_vdwq_14.xvg data_lig_Biggin_4J0R/mol_free_ener_5ns/03_prod/prod_1H2_vdwq_15.xvg -o bar.xvg -oi barint.xvg -oh histogram.xvg -b 1500.0 -e 2000.0\n",
      "-Extract bar energy\n",
      "gmx bar -f data_lig_Biggin_4J0R/mol_free_ener_5ns/03_prod/prod_1H2_vdwq_00.xvg data_lig_Biggin_4J0R/mol_free_ener_5ns/03_prod/prod_1H2_vdwq_01.xvg data_lig_Biggin_4J0R/mol_free_ener_5ns/03_prod/prod_1H2_vdwq_02.xvg data_lig_Biggin_4J0R/mol_free_ener_5ns/03_prod/prod_1H2_vdwq_03.xvg data_lig_Biggin_4J0R/mol_free_ener_5ns/03_prod/prod_1H2_vdwq_04.xvg data_lig_Biggin_4J0R/mol_free_ener_5ns/03_prod/prod_1H2_vdwq_05.xvg data_lig_Biggin_4J0R/mol_free_ener_5ns/03_prod/prod_1H2_vdwq_06.xvg data_lig_Biggin_4J0R/mol_free_ener_5ns/03_prod/prod_1H2_vdwq_07.xvg data_lig_Biggin_4J0R/mol_free_ener_5ns/03_prod/prod_1H2_vdwq_08.xvg data_lig_Biggin_4J0R/mol_free_ener_5ns/03_prod/prod_1H2_vdwq_09.xvg data_lig_Biggin_4J0R/mol_free_ener_5ns/03_prod/prod_1H2_vdwq_10.xvg data_lig_Biggin_4J0R/mol_free_ener_5ns/03_prod/prod_1H2_vdwq_11.xvg data_lig_Biggin_4J0R/mol_free_ener_5ns/03_prod/prod_1H2_vdwq_12.xvg data_lig_Biggin_4J0R/mol_free_ener_5ns/03_prod/prod_1H2_vdwq_13.xvg data_lig_Biggin_4J0R/mol_free_ener_5ns/03_prod/prod_1H2_vdwq_14.xvg data_lig_Biggin_4J0R/mol_free_ener_5ns/03_prod/prod_1H2_vdwq_15.xvg -o bar.xvg -oi barint.xvg -oh histogram.xvg -b 2000.0 -e 2500.0\n",
      "-Extract bar energy\n",
      "gmx bar -f data_lig_Biggin_4J0R/mol_free_ener_5ns/03_prod/prod_1H2_vdwq_00.xvg data_lig_Biggin_4J0R/mol_free_ener_5ns/03_prod/prod_1H2_vdwq_01.xvg data_lig_Biggin_4J0R/mol_free_ener_5ns/03_prod/prod_1H2_vdwq_02.xvg data_lig_Biggin_4J0R/mol_free_ener_5ns/03_prod/prod_1H2_vdwq_03.xvg data_lig_Biggin_4J0R/mol_free_ener_5ns/03_prod/prod_1H2_vdwq_04.xvg data_lig_Biggin_4J0R/mol_free_ener_5ns/03_prod/prod_1H2_vdwq_05.xvg data_lig_Biggin_4J0R/mol_free_ener_5ns/03_prod/prod_1H2_vdwq_06.xvg data_lig_Biggin_4J0R/mol_free_ener_5ns/03_prod/prod_1H2_vdwq_07.xvg data_lig_Biggin_4J0R/mol_free_ener_5ns/03_prod/prod_1H2_vdwq_08.xvg data_lig_Biggin_4J0R/mol_free_ener_5ns/03_prod/prod_1H2_vdwq_09.xvg data_lig_Biggin_4J0R/mol_free_ener_5ns/03_prod/prod_1H2_vdwq_10.xvg data_lig_Biggin_4J0R/mol_free_ener_5ns/03_prod/prod_1H2_vdwq_11.xvg data_lig_Biggin_4J0R/mol_free_ener_5ns/03_prod/prod_1H2_vdwq_12.xvg data_lig_Biggin_4J0R/mol_free_ener_5ns/03_prod/prod_1H2_vdwq_13.xvg data_lig_Biggin_4J0R/mol_free_ener_5ns/03_prod/prod_1H2_vdwq_14.xvg data_lig_Biggin_4J0R/mol_free_ener_5ns/03_prod/prod_1H2_vdwq_15.xvg -o bar.xvg -oi barint.xvg -oh histogram.xvg -b 2500.0 -e 3000.0\n",
      "-Extract bar energy\n",
      "gmx bar -f data_lig_Biggin_4J0R/mol_free_ener_5ns/03_prod/prod_1H2_vdwq_00.xvg data_lig_Biggin_4J0R/mol_free_ener_5ns/03_prod/prod_1H2_vdwq_01.xvg data_lig_Biggin_4J0R/mol_free_ener_5ns/03_prod/prod_1H2_vdwq_02.xvg data_lig_Biggin_4J0R/mol_free_ener_5ns/03_prod/prod_1H2_vdwq_03.xvg data_lig_Biggin_4J0R/mol_free_ener_5ns/03_prod/prod_1H2_vdwq_04.xvg data_lig_Biggin_4J0R/mol_free_ener_5ns/03_prod/prod_1H2_vdwq_05.xvg data_lig_Biggin_4J0R/mol_free_ener_5ns/03_prod/prod_1H2_vdwq_06.xvg data_lig_Biggin_4J0R/mol_free_ener_5ns/03_prod/prod_1H2_vdwq_07.xvg data_lig_Biggin_4J0R/mol_free_ener_5ns/03_prod/prod_1H2_vdwq_08.xvg data_lig_Biggin_4J0R/mol_free_ener_5ns/03_prod/prod_1H2_vdwq_09.xvg data_lig_Biggin_4J0R/mol_free_ener_5ns/03_prod/prod_1H2_vdwq_10.xvg data_lig_Biggin_4J0R/mol_free_ener_5ns/03_prod/prod_1H2_vdwq_11.xvg data_lig_Biggin_4J0R/mol_free_ener_5ns/03_prod/prod_1H2_vdwq_12.xvg data_lig_Biggin_4J0R/mol_free_ener_5ns/03_prod/prod_1H2_vdwq_13.xvg data_lig_Biggin_4J0R/mol_free_ener_5ns/03_prod/prod_1H2_vdwq_14.xvg data_lig_Biggin_4J0R/mol_free_ener_5ns/03_prod/prod_1H2_vdwq_15.xvg -o bar.xvg -oi barint.xvg -oh histogram.xvg -b 3000.0 -e 3500.0\n"
     ]
    },
    {
     "name": "stdout",
     "output_type": "stream",
     "text": [
      "-Extract bar energy\n",
      "gmx bar -f data_lig_Biggin_4J0R/mol_free_ener_5ns/03_prod/prod_1H2_vdwq_00.xvg data_lig_Biggin_4J0R/mol_free_ener_5ns/03_prod/prod_1H2_vdwq_01.xvg data_lig_Biggin_4J0R/mol_free_ener_5ns/03_prod/prod_1H2_vdwq_02.xvg data_lig_Biggin_4J0R/mol_free_ener_5ns/03_prod/prod_1H2_vdwq_03.xvg data_lig_Biggin_4J0R/mol_free_ener_5ns/03_prod/prod_1H2_vdwq_04.xvg data_lig_Biggin_4J0R/mol_free_ener_5ns/03_prod/prod_1H2_vdwq_05.xvg data_lig_Biggin_4J0R/mol_free_ener_5ns/03_prod/prod_1H2_vdwq_06.xvg data_lig_Biggin_4J0R/mol_free_ener_5ns/03_prod/prod_1H2_vdwq_07.xvg data_lig_Biggin_4J0R/mol_free_ener_5ns/03_prod/prod_1H2_vdwq_08.xvg data_lig_Biggin_4J0R/mol_free_ener_5ns/03_prod/prod_1H2_vdwq_09.xvg data_lig_Biggin_4J0R/mol_free_ener_5ns/03_prod/prod_1H2_vdwq_10.xvg data_lig_Biggin_4J0R/mol_free_ener_5ns/03_prod/prod_1H2_vdwq_11.xvg data_lig_Biggin_4J0R/mol_free_ener_5ns/03_prod/prod_1H2_vdwq_12.xvg data_lig_Biggin_4J0R/mol_free_ener_5ns/03_prod/prod_1H2_vdwq_13.xvg data_lig_Biggin_4J0R/mol_free_ener_5ns/03_prod/prod_1H2_vdwq_14.xvg data_lig_Biggin_4J0R/mol_free_ener_5ns/03_prod/prod_1H2_vdwq_15.xvg -o bar.xvg -oi barint.xvg -oh histogram.xvg -b 3500.0 -e 4000.0\n",
      "-Extract bar energy\n",
      "gmx bar -f data_lig_Biggin_4J0R/mol_free_ener_5ns/03_prod/prod_1H2_vdwq_00.xvg data_lig_Biggin_4J0R/mol_free_ener_5ns/03_prod/prod_1H2_vdwq_01.xvg data_lig_Biggin_4J0R/mol_free_ener_5ns/03_prod/prod_1H2_vdwq_02.xvg data_lig_Biggin_4J0R/mol_free_ener_5ns/03_prod/prod_1H2_vdwq_03.xvg data_lig_Biggin_4J0R/mol_free_ener_5ns/03_prod/prod_1H2_vdwq_04.xvg data_lig_Biggin_4J0R/mol_free_ener_5ns/03_prod/prod_1H2_vdwq_05.xvg data_lig_Biggin_4J0R/mol_free_ener_5ns/03_prod/prod_1H2_vdwq_06.xvg data_lig_Biggin_4J0R/mol_free_ener_5ns/03_prod/prod_1H2_vdwq_07.xvg data_lig_Biggin_4J0R/mol_free_ener_5ns/03_prod/prod_1H2_vdwq_08.xvg data_lig_Biggin_4J0R/mol_free_ener_5ns/03_prod/prod_1H2_vdwq_09.xvg data_lig_Biggin_4J0R/mol_free_ener_5ns/03_prod/prod_1H2_vdwq_10.xvg data_lig_Biggin_4J0R/mol_free_ener_5ns/03_prod/prod_1H2_vdwq_11.xvg data_lig_Biggin_4J0R/mol_free_ener_5ns/03_prod/prod_1H2_vdwq_12.xvg data_lig_Biggin_4J0R/mol_free_ener_5ns/03_prod/prod_1H2_vdwq_13.xvg data_lig_Biggin_4J0R/mol_free_ener_5ns/03_prod/prod_1H2_vdwq_14.xvg data_lig_Biggin_4J0R/mol_free_ener_5ns/03_prod/prod_1H2_vdwq_15.xvg -o bar.xvg -oi barint.xvg -oh histogram.xvg -b 4000.0 -e 4500.0\n",
      "-Extract bar energy\n",
      "gmx bar -f data_lig_Biggin_4J0R/mol_free_ener_5ns/03_prod/prod_1H2_vdwq_00.xvg data_lig_Biggin_4J0R/mol_free_ener_5ns/03_prod/prod_1H2_vdwq_01.xvg data_lig_Biggin_4J0R/mol_free_ener_5ns/03_prod/prod_1H2_vdwq_02.xvg data_lig_Biggin_4J0R/mol_free_ener_5ns/03_prod/prod_1H2_vdwq_03.xvg data_lig_Biggin_4J0R/mol_free_ener_5ns/03_prod/prod_1H2_vdwq_04.xvg data_lig_Biggin_4J0R/mol_free_ener_5ns/03_prod/prod_1H2_vdwq_05.xvg data_lig_Biggin_4J0R/mol_free_ener_5ns/03_prod/prod_1H2_vdwq_06.xvg data_lig_Biggin_4J0R/mol_free_ener_5ns/03_prod/prod_1H2_vdwq_07.xvg data_lig_Biggin_4J0R/mol_free_ener_5ns/03_prod/prod_1H2_vdwq_08.xvg data_lig_Biggin_4J0R/mol_free_ener_5ns/03_prod/prod_1H2_vdwq_09.xvg data_lig_Biggin_4J0R/mol_free_ener_5ns/03_prod/prod_1H2_vdwq_10.xvg data_lig_Biggin_4J0R/mol_free_ener_5ns/03_prod/prod_1H2_vdwq_11.xvg data_lig_Biggin_4J0R/mol_free_ener_5ns/03_prod/prod_1H2_vdwq_12.xvg data_lig_Biggin_4J0R/mol_free_ener_5ns/03_prod/prod_1H2_vdwq_13.xvg data_lig_Biggin_4J0R/mol_free_ener_5ns/03_prod/prod_1H2_vdwq_14.xvg data_lig_Biggin_4J0R/mol_free_ener_5ns/03_prod/prod_1H2_vdwq_15.xvg -o bar.xvg -oi barint.xvg -oh histogram.xvg -b 4500.0 -e 5000.0\n"
     ]
    }
   ],
   "source": [
    "xvg_list = \"data_lig_Biggin_4J0R/mol_free_ener_5ns/03_prod/prod_1H2_vdwq_00.xvg data_lig_Biggin_4J0R/mol_free_ener_5ns/03_prod/prod_1H2_vdwq_01.xvg data_lig_Biggin_4J0R/mol_free_ener_5ns/03_prod/prod_1H2_vdwq_02.xvg data_lig_Biggin_4J0R/mol_free_ener_5ns/03_prod/prod_1H2_vdwq_03.xvg data_lig_Biggin_4J0R/mol_free_ener_5ns/03_prod/prod_1H2_vdwq_04.xvg data_lig_Biggin_4J0R/mol_free_ener_5ns/03_prod/prod_1H2_vdwq_05.xvg data_lig_Biggin_4J0R/mol_free_ener_5ns/03_prod/prod_1H2_vdwq_06.xvg data_lig_Biggin_4J0R/mol_free_ener_5ns/03_prod/prod_1H2_vdwq_07.xvg data_lig_Biggin_4J0R/mol_free_ener_5ns/03_prod/prod_1H2_vdwq_08.xvg data_lig_Biggin_4J0R/mol_free_ener_5ns/03_prod/prod_1H2_vdwq_09.xvg data_lig_Biggin_4J0R/mol_free_ener_5ns/03_prod/prod_1H2_vdwq_10.xvg data_lig_Biggin_4J0R/mol_free_ener_5ns/03_prod/prod_1H2_vdwq_11.xvg data_lig_Biggin_4J0R/mol_free_ener_5ns/03_prod/prod_1H2_vdwq_12.xvg data_lig_Biggin_4J0R/mol_free_ener_5ns/03_prod/prod_1H2_vdwq_13.xvg data_lig_Biggin_4J0R/mol_free_ener_5ns/03_prod/prod_1H2_vdwq_14.xvg data_lig_Biggin_4J0R/mol_free_ener_5ns/03_prod/prod_1H2_vdwq_15.xvg\".split()\n",
    "\n",
    "time_lig_list = []\n",
    "ener_lig_list = []\n",
    "gap = 500\n",
    "\n",
    "for time in np.arange(0.0, 5000, gap):\n",
    "    time_lig_list.append(time)\n",
    "    ener_local = gmx.GmxSys.get_bar(xvg_list, begin_time=time, end_time=time+gap)\n",
    "    ener_lig_list.append(ener_local['DG'])\n",
    "    "
   ]
  },
  {
   "cell_type": "code",
   "execution_count": 55,
   "metadata": {},
   "outputs": [
    {
     "name": "stdout",
     "output_type": "stream",
     "text": [
      "\n"
     ]
    },
    {
     "data": {
      "image/png": "[encoded data removed]",
      "text/plain": [
       "<Figure size 432x288 with 1 Axes>"
      ]
     },
     "metadata": {
      "needs_background": "light"
     },
     "output_type": "display_data"
    }
   ],
   "source": [
    "import matplotlib.pyplot as plt\n",
    "\n",
    "\n",
    "plt.plot(time_lig_list, ener_lig_list)\n",
    "plt.scatter(time_lig_list, ener_lig_list)\n",
    "plt.show()"
   ]
  },
  {
   "cell_type": "markdown",
   "metadata": {},
   "source": [
    "## Protein-Ligand system preparation"
   ]
  },
  {
   "cell_type": "code",
   "execution_count": 58,
   "metadata": {},
   "outputs": [
    {
     "name": "stdout",
     "output_type": "stream",
     "text": [
      "-Create pbc box\n",
      "create_box not launched data_lig_Biggin_4J0R/prot_top/4J0R_pdb2gmx_mol_box.pdb already exist\n",
      "Mdp files not created, Init_em_4J0R.mdp already exist\n",
      "-Create the tpr file Init_em_4J0R.tpr\n",
      "create_tpr not launched Init_em_4J0R.tpr already exist\n",
      "-Launch the simulation Init_em_4J0R.tpr\n",
      "Simulation not launched Init_em_4J0R.gro already exist\n",
      "Mdp files not created, 4J0R.mdp already exist\n",
      "-Create the tpr file 4J0R.tpr\n",
      "create_tpr not launched 4J0R.tpr already exist\n",
      "-Launch the simulation 4J0R.tpr\n",
      "Simulation not launched 4J0R.gro already exist\n"
     ]
    }
   ],
   "source": [
    "md_sys.em_2_steps(out_folder=os.path.join(DATA_OUT, 'prot_em'),\n",
    "                  no_constr_nsteps=10000,\n",
    "                  constr_nsteps=10000,\n",
    "                  posres=\"\",\n",
    "                  emtol=0.1, nstxout=100, maxwarn=3,\n",
    "                  create_box_flag=True)"
   ]
  },
  {
   "cell_type": "code",
   "execution_count": 59,
   "metadata": {},
   "outputs": [
    {
     "data": {
      "application/vnd.jupyter.widget-view+json": {
       "model_id": "b4299fbc07634bf38b2295ce11765ee2",
       "version_major": 2,
       "version_minor": 0
      },
      "text/plain": [
       "_ColormakerRegistry()"
      ]
     },
     "metadata": {},
     "output_type": "display_data"
    },
    {
     "name": "stdout",
     "output_type": "stream",
     "text": [
      "-Convert trj/coor\n",
      "convert trj not launched data_lig_Biggin_4J0R/prot_em/4J0R_compact.pdb already exist\n",
      "Succeed to read file data_lig_Biggin_4J0R/prot_em/4J0R_compact.pdb ,  2160 atoms found\n"
     ]
    },
    {
     "data": {
      "application/vnd.jupyter.widget-view+json": {
       "model_id": "fed5a4cd6c8a4cc6b29259159dcb1244",
       "version_major": 2,
       "version_minor": 0
      },
      "text/plain": [
       "NGLWidget()"
      ]
     },
     "metadata": {},
     "output_type": "display_data"
    }
   ],
   "source": [
    "view = md_sys.view_coor()\n",
    "view"
   ]
  },
  {
   "cell_type": "code",
   "execution_count": 60,
   "metadata": {},
   "outputs": [
    {
     "name": "stdout",
     "output_type": "stream",
     "text": [
      "-Solvate the pbc box\n",
      "solvate_box not launched 4J0R_water.pdb already exist\n",
      "add ions not launched 4J0R_water_ion.gro already exist\n",
      "name         : 4J0R\n",
      "sim_name     : 4J0R\n",
      "coor_file    : data_lig_Biggin_4J0R/sys_top/4J0R_water_ion.gro\n",
      "top_file     : data_lig_Biggin_4J0R/sys_top/4J0R_water_ion.top\n",
      "tpr          : data_lig_Biggin_4J0R/prot_em/4J0R.tpr\n",
      "mdp          : data_lig_Biggin_4J0R/prot_em/4J0R.mdp\n",
      "xtc          : data_lig_Biggin_4J0R/prot_em/4J0R.trr\n",
      "edr          : data_lig_Biggin_4J0R/prot_em/4J0R.edr\n",
      "log          : data_lig_Biggin_4J0R/prot_em/4J0R.log\n",
      "nt           : 0\n",
      "ntmpi        : 0\n",
      "sys_history  : 2\n"
     ]
    }
   ],
   "source": [
    "md_sys.solvate_add_ions(out_folder=os.path.join(DATA_OUT, 'sys_top'),\n",
    "                        ion_C=0.15, maxwarn=3, create_box_flag=False)\n",
    "md_sys.display()\n"
   ]
  },
  {
   "cell_type": "code",
   "execution_count": 61,
   "metadata": {},
   "outputs": [
    {
     "name": "stdout",
     "output_type": "stream",
     "text": [
      "Mdp files not created, Init_em_4J0R.mdp already exist\n",
      "-Create the tpr file Init_em_4J0R.tpr\n",
      "create_tpr not launched Init_em_4J0R.tpr already exist\n",
      "-Launch the simulation Init_em_4J0R.tpr\n",
      "Simulation not launched Init_em_4J0R.gro already exist\n",
      "Mdp files not created, 4J0R.mdp already exist\n",
      "-Create the tpr file 4J0R.tpr\n",
      "create_tpr not launched 4J0R.tpr already exist\n",
      "-Launch the simulation 4J0R.tpr\n",
      "Simulation not launched 4J0R.gro already exist\n"
     ]
    }
   ],
   "source": [
    "md_sys.em_2_steps(out_folder=os.path.join(DATA_OUT, 'sys_em'),\n",
    "                  no_constr_nsteps=10000,\n",
    "                  constr_nsteps=10000,\n",
    "                  posres=\"\",maxwarn=3)"
   ]
  },
  {
   "cell_type": "code",
   "execution_count": 62,
   "metadata": {},
   "outputs": [
    {
     "name": "stdout",
     "output_type": "stream",
     "text": [
      "Mdp files not created, equi_HA_short_4J0R.mdp already exist\n",
      "-Create the tpr file equi_HA_short_4J0R.tpr\n",
      "create_tpr not launched equi_HA_short_4J0R.tpr already exist\n",
      "-Launch the simulation equi_HA_short_4J0R.tpr\n",
      "Simulation not launched equi_HA_short_4J0R.gro already exist\n"
     ]
    }
   ],
   "source": [
    "mdp_options = {'nsteps': 20000,\n",
    "               'define': '-DPOSRES', 'dt': 0.0005,\n",
    "               'tc-grps': 'Protein {} Water_and_ions'.format(MOL_ID),\n",
    "               'tau_t': '0.1 0.1 0.1',\n",
    "               'ref_t' : '310 310 310'}\n",
    "\n",
    "equi_template_mdp = os.path.join(gmx.GROMACS_MOD_DIRNAME,\n",
    "                                 \"template/equi.mdp\")\n",
    "md_sys.run_md_sim(out_folder=os.path.join(DATA_OUT, \"sys_short_equi\"),\n",
    "                  name=\"equi_HA_short_\" + PDB_ID,\n",
    "                  mdp_template=equi_template_mdp,\n",
    "                  mdp_options=mdp_options, maxwarn=3)"
   ]
  },
  {
   "cell_type": "code",
   "execution_count": 63,
   "metadata": {
    "scrolled": false
   },
   "outputs": [
    {
     "name": "stdout",
     "output_type": "stream",
     "text": [
      "Mdp files not created, equi_HA_4J0R.mdp already exist\n",
      "-Create the tpr file equi_HA_4J0R.tpr\n",
      "create_tpr not launched equi_HA_4J0R.tpr already exist\n",
      "-Launch the simulation equi_HA_4J0R.tpr\n",
      "Simulation not launched equi_HA_4J0R.gro already exist\n",
      "Mdp files not created, equi_CA_4J0R.mdp already exist\n",
      "-Create the tpr file equi_CA_4J0R.tpr\n",
      "create_tpr not launched equi_CA_4J0R.tpr already exist\n",
      "-Launch the simulation equi_CA_4J0R.tpr\n",
      "Simulation not launched equi_CA_4J0R.gro already exist\n",
      "Mdp files not created, equi_CA_LOW_4J0R.mdp already exist\n",
      "-Create the tpr file equi_CA_LOW_4J0R.tpr\n",
      "create_tpr not launched equi_CA_LOW_4J0R.tpr already exist\n",
      "-Launch the simulation equi_CA_LOW_4J0R.tpr\n",
      "Simulation not launched equi_CA_LOW_4J0R.gro already exist\n"
     ]
    }
   ],
   "source": [
    "HA_time = 0.25\n",
    "CA_time = 0.5\n",
    "CA_LOW_time = 1.0\n",
    "dt = 0.002\n",
    "dt_HA = 0.001\n",
    "\n",
    "md_sys.equi_three_step(out_folder=os.path.join(DATA_OUT, 'sys_equi'),\n",
    "                                     nsteps_HA=1000 * HA_time / dt_HA,\n",
    "                                     nsteps_CA=1000 * CA_time / dt,\n",
    "                                     nsteps_CA_LOW=1000 * CA_LOW_time / dt,\n",
    "                                     dt=dt, dt_HA=dt_HA, maxwarn=3)\n"
   ]
  },
  {
   "cell_type": "code",
   "execution_count": 64,
   "metadata": {},
   "outputs": [
    {
     "data": {
      "application/vnd.jupyter.widget-view+json": {
       "model_id": "6edee417227f43b795f7749d1d4ac436",
       "version_major": 2,
       "version_minor": 0
      },
      "text/plain": [
       "NGLWidget(max_frame=100)"
      ]
     },
     "metadata": {},
     "output_type": "display_data"
    }
   ],
   "source": [
    "view = md_sys.view_traj()\n",
    "view"
   ]
  },
  {
   "cell_type": "code",
   "execution_count": 45,
   "metadata": {},
   "outputs": [],
   "source": [
    "start_sys = copy.deepcopy(md_sys)"
   ]
  },
  {
   "cell_type": "code",
   "execution_count": 47,
   "metadata": {},
   "outputs": [
    {
     "name": "stdout",
     "output_type": "stream",
     "text": [
      "/home/murail/Documents/Code/gromacs_py/docs/notebook\n"
     ]
    }
   ],
   "source": [
    "cd /home/murail/Documents/Code/gromacs_py/docs/notebook/"
   ]
  },
  {
   "cell_type": "code",
   "execution_count": 48,
   "metadata": {},
   "outputs": [],
   "source": [
    "#rm -r data_lig_trypsin/free_test_2"
   ]
  },
  {
   "cell_type": "markdown",
   "metadata": {},
   "source": [
    "## Free energy calculation of binding\n",
    "\n",
    "```\n",
    "point      0 -      1,   DG 43.22 +/-  0.32\n",
    "point      1 -      2,   DG 39.30 +/-  0.20\n",
    "point      2 -      3,   DG 34.61 +/-  0.22\n",
    "point      3 -      4,   DG 30.03 +/-  0.26\n",
    "point      4 -      5,   DG 26.29 +/-  0.12\n",
    "point      5 -      6,   DG 22.48 +/-  0.19\n",
    "point      6 -      7,   DG 18.60 +/-  0.31\n",
    "point      7 -      8,   DG 16.04 +/-  0.43\n",
    "point      8 -      9,   DG 12.41 +/-  0.55\n",
    "point      9 -     10,   DG  7.56 +/-  0.65\n",
    "point     10 -     11,   DG 11.13 +/-  0.16\n",
    "point     11 -     12,   DG 10.94 +/-  0.12\n",
    "point     12 -     13,   DG 10.27 +/-  0.33\n",
    "point     13 -     14,   DG  9.46 +/-  0.18\n",
    "point     14 -     15,   DG  8.84 +/-  0.40\n",
    "point     15 -     16,   DG  6.52 +/-  0.23\n",
    "point     16 -     17,   DG  1.31 +/-  1.79\n",
    "point     17 -     18,   DG -4.80 +/-  2.10\n",
    "point     18 -     19,   DG -7.12 +/-  0.53\n",
    "point     19 -     20,   DG -5.49 +/-  0.94\n",
    "\n",
    "total      0 -     20,   DG 291.59 +/-  6.12\n",
    "```\n",
    "\n",
    "Coulomb = 250.5 KJ/mol\n",
    "LJ =       41.06 KJ/mol\n",
    "\n",
    "```\n",
    "\n",
    "point      0 -      1,   DG  1.10 +/-  0.11\n",
    "point      1 -      2,   DG  0.65 +/-  0.05\n",
    "point      2 -      3,   DG  0.49 +/-  0.03\n",
    "point      3 -      4,   DG  0.40 +/-  0.02\n",
    "point      4 -      5,   DG  0.40 +/-  0.03\n",
    "point      5 -      6,   DG 82.68 +/-  0.24\n",
    "point      6 -      7,   DG 68.01 +/-  0.41\n",
    "point      7 -      8,   DG 51.16 +/-  0.91\n",
    "point      8 -      9,   DG 35.90 +/-  0.76\n",
    "point      9 -     10,   DG 23.08 +/-  0.35\n",
    "\n",
    "total      0 -     10,   DG 263.86 +/-  1.46\n",
    "```\n",
    "\n",
    "Rest = 3.04 KJ/mol\n",
    "Coulomb = 260.83 KJ/mol"
   ]
  },
  {
   "cell_type": "code",
   "execution_count": 49,
   "metadata": {},
   "outputs": [
    {
     "data": {
      "text/plain": [
       "41.06"
      ]
     },
     "execution_count": 49,
     "metadata": {},
     "output_type": "execute_result"
    }
   ],
   "source": [
    "sum([ 11.13,\n",
    "10.94,\n",
    "10.27,\n",
    " 9.46,\n",
    " 8.84,\n",
    " 6.52,\n",
    " 1.31,\n",
    "-4.80,\n",
    "-7.12,\n",
    "-5.49])"
   ]
  },
  {
   "cell_type": "code",
   "execution_count": null,
   "metadata": {},
   "outputs": [],
   "source": [
    "def add_inter_molecular_restr(self, receptor_index, ligand_index, k=41.84):\n",
    "    \n",
    "    \n",
    "    [ intermolecular_interactions ]\n",
    "\n",
    "    [ bonds ]\n",
    "    ; ai    aj    type    bA    kA    bB    kB\n",
    "    4368   5185   6       0.36  0.0   0.36  4184.0 ; C-NAN\n",
    "\n",
    "    [ angles ]\n",
    "    ; ai    aj    ak    type    thA    kA    thB    kB\n",
    "    4368   5185  5183   1      110.9  0.0  110.9    41.84 ; C-NAN-NAV\n",
    "    4370   4368  5185   1       69.7  0.0   69.7    41.84 ; CA-C-NAN\n",
    "\n",
    "\n",
    "    [ dihedrals ]\n",
    "    ; ai    aj    ak    al    type    phiA    kA    phiB    kB\n",
    "    4368   5185   5183  5184   2      139.1  0.0  139.1    41.84 ; C-NAN-NAV-CAL\n",
    "    4377   4370   4368  5185   2      130.6  0.0  130.6    41.84 ; N-CA-C-NAN\n",
    "\n",
    "    ; C CA N\n",
    "    ; 4368 4370 4377\n",
    "    ; NAN NAV CAL\n",
    "    ; 5185 5183 5184\n",
    "    \n",
    "gmx.GmxSys.add_inter_molecular_restr = add_inter_molecular_restr"
   ]
  },
  {
   "cell_type": "code",
   "execution_count": 50,
   "metadata": {
    "scrolled": true
   },
   "outputs": [
    {
     "name": "stdout",
     "output_type": "stream",
     "text": [
      "Coulomb lambda :0.00 0.20 0.40 0.60 0.80 1.00 1.00 1.00 1.00 1.00 1.00 1.00 1.00 1.00 1.00 1.00 \n",
      "Vdw lambda     :0.00 0.00 0.00 0.00 0.00 0.00 0.10 0.20 0.30 0.40 0.50 0.60 0.70 0.80 0.90 1.00 \n",
      "bond_lambdas   :1.00 1.00 1.00 1.00 1.00 1.00 1.00 1.00 1.00 1.00 1.00 1.00 1.00 1.00 1.00 1.00 \n"
     ]
    },
    {
     "data": {
      "application/vnd.jupyter.widget-view+json": {
       "model_id": "38ee44a423334e37b3b3b75fddf399ba",
       "version_major": 2,
       "version_minor": 0
      },
      "text/plain": [
       "HBox(children=(HTML(value=''), FloatProgress(value=0.0, max=8240000.0), HTML(value='')))"
      ]
     },
     "metadata": {},
     "output_type": "display_data"
    },
    {
     "name": "stdout",
     "output_type": "stream",
     "text": [
      "Mdp files not created, em_4J0R_vdwq_00.mdp already exist\n",
      "-Create the tpr file em_4J0R_vdwq_00.tpr\n",
      "create_tpr not launched em_4J0R_vdwq_00.tpr already exist\n",
      "-Launch the simulation em_4J0R_vdwq_00.tpr\n",
      "Simulation not launched em_4J0R_vdwq_00.gro already exist\n",
      "Mdp files not created, nvt_4J0R_vdwq_00.mdp already exist\n",
      "-Create the tpr file nvt_4J0R_vdwq_00.tpr\n",
      "create_tpr not launched nvt_4J0R_vdwq_00.tpr already exist\n",
      "-Launch the simulation nvt_4J0R_vdwq_00.tpr\n",
      "Simulation not launched nvt_4J0R_vdwq_00.gro already exist\n",
      "Mdp files not created, npt_4J0R_vdwq_00.mdp already exist\n",
      "-Create the tpr file npt_4J0R_vdwq_00.tpr\n",
      "create_tpr not launched npt_4J0R_vdwq_00.tpr already exist\n",
      "-Launch the simulation npt_4J0R_vdwq_00.tpr\n",
      "Simulation not launched npt_4J0R_vdwq_00.gro already exist\n",
      "Mdp files not created, prod_4J0R_vdwq_00.mdp already exist\n",
      "-Create the tpr file prod_4J0R_vdwq_00.tpr\n",
      "create_tpr not launched prod_4J0R_vdwq_00.tpr already exist\n",
      "-Launch the simulation prod_4J0R_vdwq_00.tpr\n",
      "Simulation not launched prod_4J0R_vdwq_00.gro already exist\n",
      "Mdp files not created, em_4J0R_vdwq_01.mdp already exist\n",
      "-Create the tpr file em_4J0R_vdwq_01.tpr\n",
      "create_tpr not launched em_4J0R_vdwq_01.tpr already exist\n",
      "-Launch the simulation em_4J0R_vdwq_01.tpr\n",
      "Simulation not launched em_4J0R_vdwq_01.gro already exist\n",
      "Mdp files not created, nvt_4J0R_vdwq_01.mdp already exist\n",
      "-Create the tpr file nvt_4J0R_vdwq_01.tpr\n",
      "create_tpr not launched nvt_4J0R_vdwq_01.tpr already exist\n",
      "-Launch the simulation nvt_4J0R_vdwq_01.tpr\n",
      "Simulation not launched nvt_4J0R_vdwq_01.gro already exist\n",
      "Mdp files not created, npt_4J0R_vdwq_01.mdp already exist\n",
      "-Create the tpr file npt_4J0R_vdwq_01.tpr\n",
      "create_tpr not launched npt_4J0R_vdwq_01.tpr already exist\n",
      "-Launch the simulation npt_4J0R_vdwq_01.tpr\n",
      "Simulation not launched npt_4J0R_vdwq_01.gro already exist\n",
      "Mdp files not created, prod_4J0R_vdwq_01.mdp already exist\n",
      "-Create the tpr file prod_4J0R_vdwq_01.tpr\n",
      "create_tpr not launched prod_4J0R_vdwq_01.tpr already exist\n",
      "-Launch the simulation prod_4J0R_vdwq_01.tpr\n",
      "Simulation not launched prod_4J0R_vdwq_01.gro already exist\n",
      "Mdp files not created, em_4J0R_vdwq_02.mdp already exist\n",
      "-Create the tpr file em_4J0R_vdwq_02.tpr\n",
      "create_tpr not launched em_4J0R_vdwq_02.tpr already exist\n",
      "-Launch the simulation em_4J0R_vdwq_02.tpr\n",
      "Simulation not launched em_4J0R_vdwq_02.gro already exist\n",
      "Mdp files not created, nvt_4J0R_vdwq_02.mdp already exist\n",
      "-Create the tpr file nvt_4J0R_vdwq_02.tpr\n",
      "create_tpr not launched nvt_4J0R_vdwq_02.tpr already exist\n",
      "-Launch the simulation nvt_4J0R_vdwq_02.tpr\n",
      "Simulation not launched nvt_4J0R_vdwq_02.gro already exist\n",
      "Mdp files not created, npt_4J0R_vdwq_02.mdp already exist\n",
      "-Create the tpr file npt_4J0R_vdwq_02.tpr\n",
      "create_tpr not launched npt_4J0R_vdwq_02.tpr already exist\n",
      "-Launch the simulation npt_4J0R_vdwq_02.tpr\n",
      "Simulation not launched npt_4J0R_vdwq_02.gro already exist\n",
      "Mdp files not created, prod_4J0R_vdwq_02.mdp already exist\n",
      "-Create the tpr file prod_4J0R_vdwq_02.tpr\n",
      "create_tpr not launched prod_4J0R_vdwq_02.tpr already exist\n",
      "-Launch the simulation prod_4J0R_vdwq_02.tpr\n",
      "Simulation not launched prod_4J0R_vdwq_02.gro already exist\n",
      "Mdp files not created, em_4J0R_vdwq_03.mdp already exist\n",
      "-Create the tpr file em_4J0R_vdwq_03.tpr\n",
      "create_tpr not launched em_4J0R_vdwq_03.tpr already exist\n",
      "-Launch the simulation em_4J0R_vdwq_03.tpr\n",
      "Simulation not launched em_4J0R_vdwq_03.gro already exist\n",
      "Mdp files not created, nvt_4J0R_vdwq_03.mdp already exist\n",
      "-Create the tpr file nvt_4J0R_vdwq_03.tpr\n",
      "create_tpr not launched nvt_4J0R_vdwq_03.tpr already exist\n",
      "-Launch the simulation nvt_4J0R_vdwq_03.tpr\n",
      "Simulation not launched nvt_4J0R_vdwq_03.gro already exist\n",
      "Mdp files not created, npt_4J0R_vdwq_03.mdp already exist\n",
      "-Create the tpr file npt_4J0R_vdwq_03.tpr\n",
      "create_tpr not launched npt_4J0R_vdwq_03.tpr already exist\n",
      "-Launch the simulation npt_4J0R_vdwq_03.tpr\n",
      "Simulation not launched npt_4J0R_vdwq_03.gro already exist\n",
      "Mdp files not created, prod_4J0R_vdwq_03.mdp already exist\n",
      "-Create the tpr file prod_4J0R_vdwq_03.tpr\n",
      "create_tpr not launched prod_4J0R_vdwq_03.tpr already exist\n",
      "-Launch the simulation prod_4J0R_vdwq_03.tpr\n",
      "Simulation not launched prod_4J0R_vdwq_03.gro already exist\n",
      "Mdp files not created, em_4J0R_vdwq_04.mdp already exist\n",
      "-Create the tpr file em_4J0R_vdwq_04.tpr\n",
      "create_tpr not launched em_4J0R_vdwq_04.tpr already exist\n",
      "-Launch the simulation em_4J0R_vdwq_04.tpr\n",
      "Simulation not launched em_4J0R_vdwq_04.gro already exist\n",
      "Mdp files not created, nvt_4J0R_vdwq_04.mdp already exist\n",
      "-Create the tpr file nvt_4J0R_vdwq_04.tpr\n",
      "create_tpr not launched nvt_4J0R_vdwq_04.tpr already exist\n",
      "-Launch the simulation nvt_4J0R_vdwq_04.tpr\n",
      "Simulation not launched nvt_4J0R_vdwq_04.gro already exist\n",
      "Mdp files not created, npt_4J0R_vdwq_04.mdp already exist\n",
      "-Create the tpr file npt_4J0R_vdwq_04.tpr\n",
      "create_tpr not launched npt_4J0R_vdwq_04.tpr already exist\n",
      "-Launch the simulation npt_4J0R_vdwq_04.tpr\n",
      "Simulation not launched npt_4J0R_vdwq_04.gro already exist\n",
      "Mdp files not created, prod_4J0R_vdwq_04.mdp already exist\n",
      "-Create the tpr file prod_4J0R_vdwq_04.tpr\n",
      "create_tpr not launched prod_4J0R_vdwq_04.tpr already exist\n",
      "-Launch the simulation prod_4J0R_vdwq_04.tpr\n",
      "Simulation not launched prod_4J0R_vdwq_04.gro already exist\n",
      "Mdp files not created, em_4J0R_vdwq_05.mdp already exist\n",
      "-Create the tpr file em_4J0R_vdwq_05.tpr\n",
      "create_tpr not launched em_4J0R_vdwq_05.tpr already exist\n",
      "-Launch the simulation em_4J0R_vdwq_05.tpr\n",
      "Simulation not launched em_4J0R_vdwq_05.gro already exist\n",
      "Mdp files not created, nvt_4J0R_vdwq_05.mdp already exist\n",
      "-Create the tpr file nvt_4J0R_vdwq_05.tpr\n",
      "create_tpr not launched nvt_4J0R_vdwq_05.tpr already exist\n",
      "-Launch the simulation nvt_4J0R_vdwq_05.tpr\n",
      "Simulation not launched nvt_4J0R_vdwq_05.gro already exist\n",
      "Mdp files not created, npt_4J0R_vdwq_05.mdp already exist\n",
      "-Create the tpr file npt_4J0R_vdwq_05.tpr\n",
      "create_tpr not launched npt_4J0R_vdwq_05.tpr already exist\n",
      "-Launch the simulation npt_4J0R_vdwq_05.tpr\n",
      "Simulation not launched npt_4J0R_vdwq_05.gro already exist\n",
      "Mdp files not created, prod_4J0R_vdwq_05.mdp already exist\n",
      "-Create the tpr file prod_4J0R_vdwq_05.tpr\n",
      "create_tpr not launched prod_4J0R_vdwq_05.tpr already exist\n",
      "-Launch the simulation prod_4J0R_vdwq_05.tpr\n",
      "Simulation not launched prod_4J0R_vdwq_05.gro already exist\n",
      "Mdp files not created, em_4J0R_vdwq_06.mdp already exist\n",
      "-Create the tpr file em_4J0R_vdwq_06.tpr\n",
      "create_tpr not launched em_4J0R_vdwq_06.tpr already exist\n",
      "-Launch the simulation em_4J0R_vdwq_06.tpr\n",
      "Simulation not launched em_4J0R_vdwq_06.gro already exist\n",
      "Mdp files not created, nvt_4J0R_vdwq_06.mdp already exist\n",
      "-Create the tpr file nvt_4J0R_vdwq_06.tpr\n",
      "create_tpr not launched nvt_4J0R_vdwq_06.tpr already exist\n",
      "-Launch the simulation nvt_4J0R_vdwq_06.tpr\n",
      "Simulation not launched nvt_4J0R_vdwq_06.gro already exist\n",
      "Mdp files not created, npt_4J0R_vdwq_06.mdp already exist\n",
      "-Create the tpr file npt_4J0R_vdwq_06.tpr\n",
      "create_tpr not launched npt_4J0R_vdwq_06.tpr already exist\n",
      "-Launch the simulation npt_4J0R_vdwq_06.tpr\n",
      "Simulation not launched npt_4J0R_vdwq_06.gro already exist\n",
      "Mdp files not created, prod_4J0R_vdwq_06.mdp already exist\n",
      "-Create the tpr file prod_4J0R_vdwq_06.tpr\n",
      "create_tpr not launched prod_4J0R_vdwq_06.tpr already exist\n",
      "-Launch the simulation prod_4J0R_vdwq_06.tpr\n",
      "Simulation not launched prod_4J0R_vdwq_06.gro already exist\n",
      "Mdp files not created, em_4J0R_vdwq_07.mdp already exist\n",
      "-Create the tpr file em_4J0R_vdwq_07.tpr\n",
      "create_tpr not launched em_4J0R_vdwq_07.tpr already exist\n",
      "-Launch the simulation em_4J0R_vdwq_07.tpr\n",
      "Simulation not launched em_4J0R_vdwq_07.gro already exist\n",
      "Mdp files not created, nvt_4J0R_vdwq_07.mdp already exist\n",
      "-Create the tpr file nvt_4J0R_vdwq_07.tpr\n",
      "create_tpr not launched nvt_4J0R_vdwq_07.tpr already exist\n",
      "-Launch the simulation nvt_4J0R_vdwq_07.tpr\n",
      "Simulation not launched nvt_4J0R_vdwq_07.gro already exist\n",
      "Mdp files not created, npt_4J0R_vdwq_07.mdp already exist\n",
      "-Create the tpr file npt_4J0R_vdwq_07.tpr\n",
      "create_tpr not launched npt_4J0R_vdwq_07.tpr already exist\n",
      "-Launch the simulation npt_4J0R_vdwq_07.tpr\n",
      "Simulation not launched npt_4J0R_vdwq_07.gro already exist\n",
      "Mdp files not created, prod_4J0R_vdwq_07.mdp already exist\n",
      "-Create the tpr file prod_4J0R_vdwq_07.tpr\n"
     ]
    },
    {
     "name": "stdout",
     "output_type": "stream",
     "text": [
      "create_tpr not launched prod_4J0R_vdwq_07.tpr already exist\n",
      "-Launch the simulation prod_4J0R_vdwq_07.tpr\n",
      "Simulation not launched prod_4J0R_vdwq_07.gro already exist\n",
      "Mdp files not created, em_4J0R_vdwq_08.mdp already exist\n",
      "-Create the tpr file em_4J0R_vdwq_08.tpr\n",
      "create_tpr not launched em_4J0R_vdwq_08.tpr already exist\n",
      "-Launch the simulation em_4J0R_vdwq_08.tpr\n",
      "Simulation not launched em_4J0R_vdwq_08.gro already exist\n",
      "Mdp files not created, nvt_4J0R_vdwq_08.mdp already exist\n",
      "-Create the tpr file nvt_4J0R_vdwq_08.tpr\n",
      "create_tpr not launched nvt_4J0R_vdwq_08.tpr already exist\n",
      "-Launch the simulation nvt_4J0R_vdwq_08.tpr\n",
      "Simulation not launched nvt_4J0R_vdwq_08.gro already exist\n",
      "Mdp files not created, npt_4J0R_vdwq_08.mdp already exist\n",
      "-Create the tpr file npt_4J0R_vdwq_08.tpr\n",
      "create_tpr not launched npt_4J0R_vdwq_08.tpr already exist\n",
      "-Launch the simulation npt_4J0R_vdwq_08.tpr\n",
      "Simulation not launched npt_4J0R_vdwq_08.gro already exist\n",
      "Mdp files not created, prod_4J0R_vdwq_08.mdp already exist\n",
      "-Create the tpr file prod_4J0R_vdwq_08.tpr\n",
      "create_tpr not launched prod_4J0R_vdwq_08.tpr already exist\n",
      "-Launch the simulation prod_4J0R_vdwq_08.tpr\n",
      "Simulation not launched prod_4J0R_vdwq_08.gro already exist\n",
      "Mdp files not created, em_4J0R_vdwq_09.mdp already exist\n",
      "-Create the tpr file em_4J0R_vdwq_09.tpr\n",
      "create_tpr not launched em_4J0R_vdwq_09.tpr already exist\n",
      "-Launch the simulation em_4J0R_vdwq_09.tpr\n",
      "Simulation not launched em_4J0R_vdwq_09.gro already exist\n",
      "Mdp files not created, nvt_4J0R_vdwq_09.mdp already exist\n",
      "-Create the tpr file nvt_4J0R_vdwq_09.tpr\n",
      "create_tpr not launched nvt_4J0R_vdwq_09.tpr already exist\n",
      "-Launch the simulation nvt_4J0R_vdwq_09.tpr\n",
      "Simulation not launched nvt_4J0R_vdwq_09.gro already exist\n",
      "Mdp files not created, npt_4J0R_vdwq_09.mdp already exist\n",
      "-Create the tpr file npt_4J0R_vdwq_09.tpr\n",
      "create_tpr not launched npt_4J0R_vdwq_09.tpr already exist\n",
      "-Launch the simulation npt_4J0R_vdwq_09.tpr\n",
      "Simulation not launched npt_4J0R_vdwq_09.gro already exist\n",
      "Mdp files not created, prod_4J0R_vdwq_09.mdp already exist\n",
      "-Create the tpr file prod_4J0R_vdwq_09.tpr\n",
      "create_tpr not launched prod_4J0R_vdwq_09.tpr already exist\n",
      "-Launch the simulation prod_4J0R_vdwq_09.tpr\n",
      "Simulation not launched prod_4J0R_vdwq_09.gro already exist\n",
      "Mdp files not created, em_4J0R_vdwq_10.mdp already exist\n",
      "-Create the tpr file em_4J0R_vdwq_10.tpr\n",
      "create_tpr not launched em_4J0R_vdwq_10.tpr already exist\n",
      "-Launch the simulation em_4J0R_vdwq_10.tpr\n",
      "Simulation not launched em_4J0R_vdwq_10.gro already exist\n",
      "Mdp files not created, nvt_4J0R_vdwq_10.mdp already exist\n",
      "-Create the tpr file nvt_4J0R_vdwq_10.tpr\n",
      "create_tpr not launched nvt_4J0R_vdwq_10.tpr already exist\n",
      "-Launch the simulation nvt_4J0R_vdwq_10.tpr\n",
      "Simulation not launched nvt_4J0R_vdwq_10.gro already exist\n",
      "Mdp files not created, npt_4J0R_vdwq_10.mdp already exist\n",
      "-Create the tpr file npt_4J0R_vdwq_10.tpr\n",
      "create_tpr not launched npt_4J0R_vdwq_10.tpr already exist\n",
      "-Launch the simulation npt_4J0R_vdwq_10.tpr\n",
      "Simulation not launched npt_4J0R_vdwq_10.gro already exist\n",
      "Mdp files not created, prod_4J0R_vdwq_10.mdp already exist\n",
      "-Create the tpr file prod_4J0R_vdwq_10.tpr\n",
      "create_tpr not launched prod_4J0R_vdwq_10.tpr already exist\n",
      "-Launch the simulation prod_4J0R_vdwq_10.tpr\n",
      "Simulation not launched prod_4J0R_vdwq_10.gro already exist\n",
      "Mdp files not created, em_4J0R_vdwq_11.mdp already exist\n",
      "-Create the tpr file em_4J0R_vdwq_11.tpr\n",
      "create_tpr not launched em_4J0R_vdwq_11.tpr already exist\n",
      "-Launch the simulation em_4J0R_vdwq_11.tpr\n",
      "Simulation not launched em_4J0R_vdwq_11.gro already exist\n",
      "Mdp files not created, nvt_4J0R_vdwq_11.mdp already exist\n",
      "-Create the tpr file nvt_4J0R_vdwq_11.tpr\n",
      "create_tpr not launched nvt_4J0R_vdwq_11.tpr already exist\n",
      "-Launch the simulation nvt_4J0R_vdwq_11.tpr\n",
      "Simulation not launched nvt_4J0R_vdwq_11.gro already exist\n",
      "Mdp files not created, npt_4J0R_vdwq_11.mdp already exist\n",
      "-Create the tpr file npt_4J0R_vdwq_11.tpr\n",
      "create_tpr not launched npt_4J0R_vdwq_11.tpr already exist\n",
      "-Launch the simulation npt_4J0R_vdwq_11.tpr\n",
      "Simulation not launched npt_4J0R_vdwq_11.gro already exist\n",
      "Mdp files not created, prod_4J0R_vdwq_11.mdp already exist\n",
      "-Create the tpr file prod_4J0R_vdwq_11.tpr\n",
      "create_tpr not launched prod_4J0R_vdwq_11.tpr already exist\n",
      "-Launch the simulation prod_4J0R_vdwq_11.tpr\n",
      "Simulation not launched prod_4J0R_vdwq_11.gro already exist\n",
      "Mdp files not created, em_4J0R_vdwq_12.mdp already exist\n",
      "-Create the tpr file em_4J0R_vdwq_12.tpr\n",
      "create_tpr not launched em_4J0R_vdwq_12.tpr already exist\n",
      "-Launch the simulation em_4J0R_vdwq_12.tpr\n",
      "Simulation not launched em_4J0R_vdwq_12.gro already exist\n",
      "Mdp files not created, nvt_4J0R_vdwq_12.mdp already exist\n",
      "-Create the tpr file nvt_4J0R_vdwq_12.tpr\n",
      "create_tpr not launched nvt_4J0R_vdwq_12.tpr already exist\n",
      "-Launch the simulation nvt_4J0R_vdwq_12.tpr\n",
      "Simulation not launched nvt_4J0R_vdwq_12.gro already exist\n",
      "Mdp files not created, npt_4J0R_vdwq_12.mdp already exist\n",
      "-Create the tpr file npt_4J0R_vdwq_12.tpr\n",
      "create_tpr not launched npt_4J0R_vdwq_12.tpr already exist\n",
      "-Launch the simulation npt_4J0R_vdwq_12.tpr\n",
      "Simulation not launched npt_4J0R_vdwq_12.gro already exist\n",
      "Mdp files not created, prod_4J0R_vdwq_12.mdp already exist\n",
      "-Create the tpr file prod_4J0R_vdwq_12.tpr\n",
      "create_tpr not launched prod_4J0R_vdwq_12.tpr already exist\n",
      "-Launch the simulation prod_4J0R_vdwq_12.tpr\n",
      "Simulation not launched prod_4J0R_vdwq_12.gro already exist\n",
      "Mdp files not created, em_4J0R_vdwq_13.mdp already exist\n",
      "-Create the tpr file em_4J0R_vdwq_13.tpr\n",
      "create_tpr not launched em_4J0R_vdwq_13.tpr already exist\n",
      "-Launch the simulation em_4J0R_vdwq_13.tpr\n",
      "Simulation not launched em_4J0R_vdwq_13.gro already exist\n",
      "Mdp files not created, nvt_4J0R_vdwq_13.mdp already exist\n",
      "-Create the tpr file nvt_4J0R_vdwq_13.tpr\n",
      "create_tpr not launched nvt_4J0R_vdwq_13.tpr already exist\n",
      "-Launch the simulation nvt_4J0R_vdwq_13.tpr\n",
      "Simulation not launched nvt_4J0R_vdwq_13.gro already exist\n",
      "Mdp files not created, npt_4J0R_vdwq_13.mdp already exist\n",
      "-Create the tpr file npt_4J0R_vdwq_13.tpr\n",
      "create_tpr not launched npt_4J0R_vdwq_13.tpr already exist\n",
      "-Launch the simulation npt_4J0R_vdwq_13.tpr\n",
      "Simulation not launched npt_4J0R_vdwq_13.gro already exist\n",
      "Mdp files not created, prod_4J0R_vdwq_13.mdp already exist\n",
      "-Create the tpr file prod_4J0R_vdwq_13.tpr\n",
      "create_tpr not launched prod_4J0R_vdwq_13.tpr already exist\n",
      "-Launch the simulation prod_4J0R_vdwq_13.tpr\n",
      "Simulation not launched prod_4J0R_vdwq_13.gro already exist\n",
      "Mdp files not created, em_4J0R_vdwq_14.mdp already exist\n",
      "-Create the tpr file em_4J0R_vdwq_14.tpr\n",
      "create_tpr not launched em_4J0R_vdwq_14.tpr already exist\n",
      "-Launch the simulation em_4J0R_vdwq_14.tpr\n",
      "Simulation not launched em_4J0R_vdwq_14.gro already exist\n",
      "Mdp files not created, nvt_4J0R_vdwq_14.mdp already exist\n",
      "-Create the tpr file nvt_4J0R_vdwq_14.tpr\n",
      "create_tpr not launched nvt_4J0R_vdwq_14.tpr already exist\n",
      "-Launch the simulation nvt_4J0R_vdwq_14.tpr\n",
      "Simulation not launched nvt_4J0R_vdwq_14.gro already exist\n",
      "Mdp files not created, npt_4J0R_vdwq_14.mdp already exist\n",
      "-Create the tpr file npt_4J0R_vdwq_14.tpr\n",
      "create_tpr not launched npt_4J0R_vdwq_14.tpr already exist\n",
      "-Launch the simulation npt_4J0R_vdwq_14.tpr\n",
      "Simulation not launched npt_4J0R_vdwq_14.gro already exist\n",
      "Mdp files not created, prod_4J0R_vdwq_14.mdp already exist\n",
      "-Create the tpr file prod_4J0R_vdwq_14.tpr\n",
      "create_tpr not launched prod_4J0R_vdwq_14.tpr already exist\n",
      "-Launch the simulation prod_4J0R_vdwq_14.tpr\n",
      "Simulation not launched prod_4J0R_vdwq_14.gro already exist\n",
      "Mdp files not created, em_4J0R_vdwq_15.mdp already exist\n",
      "-Create the tpr file em_4J0R_vdwq_15.tpr\n",
      "create_tpr not launched em_4J0R_vdwq_15.tpr already exist\n",
      "-Launch the simulation em_4J0R_vdwq_15.tpr\n",
      "Simulation not launched em_4J0R_vdwq_15.gro already exist\n",
      "Mdp files not created, nvt_4J0R_vdwq_15.mdp already exist\n",
      "-Create the tpr file nvt_4J0R_vdwq_15.tpr\n",
      "create_tpr not launched nvt_4J0R_vdwq_15.tpr already exist\n",
      "-Launch the simulation nvt_4J0R_vdwq_15.tpr\n",
      "Simulation not launched nvt_4J0R_vdwq_15.gro already exist\n",
      "Mdp files not created, npt_4J0R_vdwq_15.mdp already exist\n",
      "-Create the tpr file npt_4J0R_vdwq_15.tpr\n",
      "create_tpr not launched npt_4J0R_vdwq_15.tpr already exist\n",
      "-Launch the simulation npt_4J0R_vdwq_15.tpr\n"
     ]
    },
    {
     "name": "stdout",
     "output_type": "stream",
     "text": [
      "Simulation not launched npt_4J0R_vdwq_15.gro already exist\n",
      "Mdp files not created, prod_4J0R_vdwq_15.mdp already exist\n",
      "-Create the tpr file prod_4J0R_vdwq_15.tpr\n",
      "create_tpr not launched prod_4J0R_vdwq_15.tpr already exist\n",
      "-Launch the simulation prod_4J0R_vdwq_15.tpr\n",
      "Simulation not launched prod_4J0R_vdwq_15.gro already exist\n",
      "-Extract bar energy\n",
      "gmx bar -f data_lig_Biggin_4J0R/mol_prot_free_1ns/03_prod/prod_4J0R_vdwq_00.xvg data_lig_Biggin_4J0R/mol_prot_free_1ns/03_prod/prod_4J0R_vdwq_01.xvg data_lig_Biggin_4J0R/mol_prot_free_1ns/03_prod/prod_4J0R_vdwq_02.xvg data_lig_Biggin_4J0R/mol_prot_free_1ns/03_prod/prod_4J0R_vdwq_03.xvg data_lig_Biggin_4J0R/mol_prot_free_1ns/03_prod/prod_4J0R_vdwq_04.xvg data_lig_Biggin_4J0R/mol_prot_free_1ns/03_prod/prod_4J0R_vdwq_05.xvg data_lig_Biggin_4J0R/mol_prot_free_1ns/03_prod/prod_4J0R_vdwq_06.xvg data_lig_Biggin_4J0R/mol_prot_free_1ns/03_prod/prod_4J0R_vdwq_07.xvg data_lig_Biggin_4J0R/mol_prot_free_1ns/03_prod/prod_4J0R_vdwq_08.xvg data_lig_Biggin_4J0R/mol_prot_free_1ns/03_prod/prod_4J0R_vdwq_09.xvg data_lig_Biggin_4J0R/mol_prot_free_1ns/03_prod/prod_4J0R_vdwq_10.xvg data_lig_Biggin_4J0R/mol_prot_free_1ns/03_prod/prod_4J0R_vdwq_11.xvg data_lig_Biggin_4J0R/mol_prot_free_1ns/03_prod/prod_4J0R_vdwq_12.xvg data_lig_Biggin_4J0R/mol_prot_free_1ns/03_prod/prod_4J0R_vdwq_13.xvg data_lig_Biggin_4J0R/mol_prot_free_1ns/03_prod/prod_4J0R_vdwq_14.xvg data_lig_Biggin_4J0R/mol_prot_free_1ns/03_prod/prod_4J0R_vdwq_15.xvg -o bar.xvg -oi barint.xvg -oh histogram.xvg -b 0 -e -1\n",
      "DDG = -111.88 +/- 5.04 KJ/mol-1\n",
      "DDG = -26.74 +/- 1.20 Kcal/mol-1\n",
      "Log P = 153.61 +/- -6.92\n"
     ]
    }
   ],
   "source": [
    "ener = start_sys.free_ener(out_folder=os.path.join(DATA_OUT, 'mol_prot_free_1ns'),\n",
    "                           mol_name=MOL_ID, lambda_elec_num=5, lambda_vdw_num=10,\n",
    "                           lambda_bond_num=0,\n",
    "                           em_steps=5000, nvt_time=10, npt_time=10, prod_time=1000)\n",
    "\n",
    "#ener = start_sys.free_ener(out_folder=os.path.join(DATA_OUT, 'mol_prot_free_ener'),\n",
    "#                    mol_name='120', lambda_elec_num=5, lambda_vdw_num=5,\n",
    "#                    em_steps=5000, nvt_time=5, npt_time=5, prod_time=10)"
   ]
  },
  {
   "cell_type": "code",
   "execution_count": 51,
   "metadata": {
    "scrolled": false
   },
   "outputs": [
    {
     "name": "stdout",
     "output_type": "stream",
     "text": [
      "-Extract bar energy\n",
      "gmx bar -f data_lig_Biggin_4J0R/mol_prot_free_1ns/03_prod/prod_4J0R_vdwq_00.xvg data_lig_Biggin_4J0R/mol_prot_free_1ns/03_prod/prod_4J0R_vdwq_01.xvg data_lig_Biggin_4J0R/mol_prot_free_1ns/03_prod/prod_4J0R_vdwq_02.xvg data_lig_Biggin_4J0R/mol_prot_free_1ns/03_prod/prod_4J0R_vdwq_03.xvg data_lig_Biggin_4J0R/mol_prot_free_1ns/03_prod/prod_4J0R_vdwq_04.xvg data_lig_Biggin_4J0R/mol_prot_free_1ns/03_prod/prod_4J0R_vdwq_05.xvg data_lig_Biggin_4J0R/mol_prot_free_1ns/03_prod/prod_4J0R_vdwq_06.xvg data_lig_Biggin_4J0R/mol_prot_free_1ns/03_prod/prod_4J0R_vdwq_07.xvg data_lig_Biggin_4J0R/mol_prot_free_1ns/03_prod/prod_4J0R_vdwq_08.xvg data_lig_Biggin_4J0R/mol_prot_free_1ns/03_prod/prod_4J0R_vdwq_09.xvg data_lig_Biggin_4J0R/mol_prot_free_1ns/03_prod/prod_4J0R_vdwq_10.xvg data_lig_Biggin_4J0R/mol_prot_free_1ns/03_prod/prod_4J0R_vdwq_11.xvg data_lig_Biggin_4J0R/mol_prot_free_1ns/03_prod/prod_4J0R_vdwq_12.xvg data_lig_Biggin_4J0R/mol_prot_free_1ns/03_prod/prod_4J0R_vdwq_13.xvg data_lig_Biggin_4J0R/mol_prot_free_1ns/03_prod/prod_4J0R_vdwq_14.xvg data_lig_Biggin_4J0R/mol_prot_free_1ns/03_prod/prod_4J0R_vdwq_15.xvg -o bar.xvg -oi barint.xvg -oh histogram.xvg -b 0.0 -e 100.0\n",
      "0.0 -124.36\n",
      "-Extract bar energy\n",
      "gmx bar -f data_lig_Biggin_4J0R/mol_prot_free_1ns/03_prod/prod_4J0R_vdwq_00.xvg data_lig_Biggin_4J0R/mol_prot_free_1ns/03_prod/prod_4J0R_vdwq_01.xvg data_lig_Biggin_4J0R/mol_prot_free_1ns/03_prod/prod_4J0R_vdwq_02.xvg data_lig_Biggin_4J0R/mol_prot_free_1ns/03_prod/prod_4J0R_vdwq_03.xvg data_lig_Biggin_4J0R/mol_prot_free_1ns/03_prod/prod_4J0R_vdwq_04.xvg data_lig_Biggin_4J0R/mol_prot_free_1ns/03_prod/prod_4J0R_vdwq_05.xvg data_lig_Biggin_4J0R/mol_prot_free_1ns/03_prod/prod_4J0R_vdwq_06.xvg data_lig_Biggin_4J0R/mol_prot_free_1ns/03_prod/prod_4J0R_vdwq_07.xvg data_lig_Biggin_4J0R/mol_prot_free_1ns/03_prod/prod_4J0R_vdwq_08.xvg data_lig_Biggin_4J0R/mol_prot_free_1ns/03_prod/prod_4J0R_vdwq_09.xvg data_lig_Biggin_4J0R/mol_prot_free_1ns/03_prod/prod_4J0R_vdwq_10.xvg data_lig_Biggin_4J0R/mol_prot_free_1ns/03_prod/prod_4J0R_vdwq_11.xvg data_lig_Biggin_4J0R/mol_prot_free_1ns/03_prod/prod_4J0R_vdwq_12.xvg data_lig_Biggin_4J0R/mol_prot_free_1ns/03_prod/prod_4J0R_vdwq_13.xvg data_lig_Biggin_4J0R/mol_prot_free_1ns/03_prod/prod_4J0R_vdwq_14.xvg data_lig_Biggin_4J0R/mol_prot_free_1ns/03_prod/prod_4J0R_vdwq_15.xvg -o bar.xvg -oi barint.xvg -oh histogram.xvg -b 100.0 -e 200.0\n",
      "100.0 -121.34\n",
      "-Extract bar energy\n",
      "gmx bar -f data_lig_Biggin_4J0R/mol_prot_free_1ns/03_prod/prod_4J0R_vdwq_00.xvg data_lig_Biggin_4J0R/mol_prot_free_1ns/03_prod/prod_4J0R_vdwq_01.xvg data_lig_Biggin_4J0R/mol_prot_free_1ns/03_prod/prod_4J0R_vdwq_02.xvg data_lig_Biggin_4J0R/mol_prot_free_1ns/03_prod/prod_4J0R_vdwq_03.xvg data_lig_Biggin_4J0R/mol_prot_free_1ns/03_prod/prod_4J0R_vdwq_04.xvg data_lig_Biggin_4J0R/mol_prot_free_1ns/03_prod/prod_4J0R_vdwq_05.xvg data_lig_Biggin_4J0R/mol_prot_free_1ns/03_prod/prod_4J0R_vdwq_06.xvg data_lig_Biggin_4J0R/mol_prot_free_1ns/03_prod/prod_4J0R_vdwq_07.xvg data_lig_Biggin_4J0R/mol_prot_free_1ns/03_prod/prod_4J0R_vdwq_08.xvg data_lig_Biggin_4J0R/mol_prot_free_1ns/03_prod/prod_4J0R_vdwq_09.xvg data_lig_Biggin_4J0R/mol_prot_free_1ns/03_prod/prod_4J0R_vdwq_10.xvg data_lig_Biggin_4J0R/mol_prot_free_1ns/03_prod/prod_4J0R_vdwq_11.xvg data_lig_Biggin_4J0R/mol_prot_free_1ns/03_prod/prod_4J0R_vdwq_12.xvg data_lig_Biggin_4J0R/mol_prot_free_1ns/03_prod/prod_4J0R_vdwq_13.xvg data_lig_Biggin_4J0R/mol_prot_free_1ns/03_prod/prod_4J0R_vdwq_14.xvg data_lig_Biggin_4J0R/mol_prot_free_1ns/03_prod/prod_4J0R_vdwq_15.xvg -o bar.xvg -oi barint.xvg -oh histogram.xvg -b 200.0 -e 300.0\n",
      "200.0 -123.56\n",
      "-Extract bar energy\n",
      "gmx bar -f data_lig_Biggin_4J0R/mol_prot_free_1ns/03_prod/prod_4J0R_vdwq_00.xvg data_lig_Biggin_4J0R/mol_prot_free_1ns/03_prod/prod_4J0R_vdwq_01.xvg data_lig_Biggin_4J0R/mol_prot_free_1ns/03_prod/prod_4J0R_vdwq_02.xvg data_lig_Biggin_4J0R/mol_prot_free_1ns/03_prod/prod_4J0R_vdwq_03.xvg data_lig_Biggin_4J0R/mol_prot_free_1ns/03_prod/prod_4J0R_vdwq_04.xvg data_lig_Biggin_4J0R/mol_prot_free_1ns/03_prod/prod_4J0R_vdwq_05.xvg data_lig_Biggin_4J0R/mol_prot_free_1ns/03_prod/prod_4J0R_vdwq_06.xvg data_lig_Biggin_4J0R/mol_prot_free_1ns/03_prod/prod_4J0R_vdwq_07.xvg data_lig_Biggin_4J0R/mol_prot_free_1ns/03_prod/prod_4J0R_vdwq_08.xvg data_lig_Biggin_4J0R/mol_prot_free_1ns/03_prod/prod_4J0R_vdwq_09.xvg data_lig_Biggin_4J0R/mol_prot_free_1ns/03_prod/prod_4J0R_vdwq_10.xvg data_lig_Biggin_4J0R/mol_prot_free_1ns/03_prod/prod_4J0R_vdwq_11.xvg data_lig_Biggin_4J0R/mol_prot_free_1ns/03_prod/prod_4J0R_vdwq_12.xvg data_lig_Biggin_4J0R/mol_prot_free_1ns/03_prod/prod_4J0R_vdwq_13.xvg data_lig_Biggin_4J0R/mol_prot_free_1ns/03_prod/prod_4J0R_vdwq_14.xvg data_lig_Biggin_4J0R/mol_prot_free_1ns/03_prod/prod_4J0R_vdwq_15.xvg -o bar.xvg -oi barint.xvg -oh histogram.xvg -b 300.0 -e 400.0\n",
      "300.0 -122.9\n",
      "-Extract bar energy\n",
      "gmx bar -f data_lig_Biggin_4J0R/mol_prot_free_1ns/03_prod/prod_4J0R_vdwq_00.xvg data_lig_Biggin_4J0R/mol_prot_free_1ns/03_prod/prod_4J0R_vdwq_01.xvg data_lig_Biggin_4J0R/mol_prot_free_1ns/03_prod/prod_4J0R_vdwq_02.xvg data_lig_Biggin_4J0R/mol_prot_free_1ns/03_prod/prod_4J0R_vdwq_03.xvg data_lig_Biggin_4J0R/mol_prot_free_1ns/03_prod/prod_4J0R_vdwq_04.xvg data_lig_Biggin_4J0R/mol_prot_free_1ns/03_prod/prod_4J0R_vdwq_05.xvg data_lig_Biggin_4J0R/mol_prot_free_1ns/03_prod/prod_4J0R_vdwq_06.xvg data_lig_Biggin_4J0R/mol_prot_free_1ns/03_prod/prod_4J0R_vdwq_07.xvg data_lig_Biggin_4J0R/mol_prot_free_1ns/03_prod/prod_4J0R_vdwq_08.xvg data_lig_Biggin_4J0R/mol_prot_free_1ns/03_prod/prod_4J0R_vdwq_09.xvg data_lig_Biggin_4J0R/mol_prot_free_1ns/03_prod/prod_4J0R_vdwq_10.xvg data_lig_Biggin_4J0R/mol_prot_free_1ns/03_prod/prod_4J0R_vdwq_11.xvg data_lig_Biggin_4J0R/mol_prot_free_1ns/03_prod/prod_4J0R_vdwq_12.xvg data_lig_Biggin_4J0R/mol_prot_free_1ns/03_prod/prod_4J0R_vdwq_13.xvg data_lig_Biggin_4J0R/mol_prot_free_1ns/03_prod/prod_4J0R_vdwq_14.xvg data_lig_Biggin_4J0R/mol_prot_free_1ns/03_prod/prod_4J0R_vdwq_15.xvg -o bar.xvg -oi barint.xvg -oh histogram.xvg -b 400.0 -e 500.0\n",
      "400.0 -108.36\n",
      "-Extract bar energy\n",
      "gmx bar -f data_lig_Biggin_4J0R/mol_prot_free_1ns/03_prod/prod_4J0R_vdwq_00.xvg data_lig_Biggin_4J0R/mol_prot_free_1ns/03_prod/prod_4J0R_vdwq_01.xvg data_lig_Biggin_4J0R/mol_prot_free_1ns/03_prod/prod_4J0R_vdwq_02.xvg data_lig_Biggin_4J0R/mol_prot_free_1ns/03_prod/prod_4J0R_vdwq_03.xvg data_lig_Biggin_4J0R/mol_prot_free_1ns/03_prod/prod_4J0R_vdwq_04.xvg data_lig_Biggin_4J0R/mol_prot_free_1ns/03_prod/prod_4J0R_vdwq_05.xvg data_lig_Biggin_4J0R/mol_prot_free_1ns/03_prod/prod_4J0R_vdwq_06.xvg data_lig_Biggin_4J0R/mol_prot_free_1ns/03_prod/prod_4J0R_vdwq_07.xvg data_lig_Biggin_4J0R/mol_prot_free_1ns/03_prod/prod_4J0R_vdwq_08.xvg data_lig_Biggin_4J0R/mol_prot_free_1ns/03_prod/prod_4J0R_vdwq_09.xvg data_lig_Biggin_4J0R/mol_prot_free_1ns/03_prod/prod_4J0R_vdwq_10.xvg data_lig_Biggin_4J0R/mol_prot_free_1ns/03_prod/prod_4J0R_vdwq_11.xvg data_lig_Biggin_4J0R/mol_prot_free_1ns/03_prod/prod_4J0R_vdwq_12.xvg data_lig_Biggin_4J0R/mol_prot_free_1ns/03_prod/prod_4J0R_vdwq_13.xvg data_lig_Biggin_4J0R/mol_prot_free_1ns/03_prod/prod_4J0R_vdwq_14.xvg data_lig_Biggin_4J0R/mol_prot_free_1ns/03_prod/prod_4J0R_vdwq_15.xvg -o bar.xvg -oi barint.xvg -oh histogram.xvg -b 500.0 -e 600.0\n",
      "500.0 -95.66\n",
      "-Extract bar energy\n",
      "gmx bar -f data_lig_Biggin_4J0R/mol_prot_free_1ns/03_prod/prod_4J0R_vdwq_00.xvg data_lig_Biggin_4J0R/mol_prot_free_1ns/03_prod/prod_4J0R_vdwq_01.xvg data_lig_Biggin_4J0R/mol_prot_free_1ns/03_prod/prod_4J0R_vdwq_02.xvg data_lig_Biggin_4J0R/mol_prot_free_1ns/03_prod/prod_4J0R_vdwq_03.xvg data_lig_Biggin_4J0R/mol_prot_free_1ns/03_prod/prod_4J0R_vdwq_04.xvg data_lig_Biggin_4J0R/mol_prot_free_1ns/03_prod/prod_4J0R_vdwq_05.xvg data_lig_Biggin_4J0R/mol_prot_free_1ns/03_prod/prod_4J0R_vdwq_06.xvg data_lig_Biggin_4J0R/mol_prot_free_1ns/03_prod/prod_4J0R_vdwq_07.xvg data_lig_Biggin_4J0R/mol_prot_free_1ns/03_prod/prod_4J0R_vdwq_08.xvg data_lig_Biggin_4J0R/mol_prot_free_1ns/03_prod/prod_4J0R_vdwq_09.xvg data_lig_Biggin_4J0R/mol_prot_free_1ns/03_prod/prod_4J0R_vdwq_10.xvg data_lig_Biggin_4J0R/mol_prot_free_1ns/03_prod/prod_4J0R_vdwq_11.xvg data_lig_Biggin_4J0R/mol_prot_free_1ns/03_prod/prod_4J0R_vdwq_12.xvg data_lig_Biggin_4J0R/mol_prot_free_1ns/03_prod/prod_4J0R_vdwq_13.xvg data_lig_Biggin_4J0R/mol_prot_free_1ns/03_prod/prod_4J0R_vdwq_14.xvg data_lig_Biggin_4J0R/mol_prot_free_1ns/03_prod/prod_4J0R_vdwq_15.xvg -o bar.xvg -oi barint.xvg -oh histogram.xvg -b 600.0 -e 700.0\n"
     ]
    },
    {
     "name": "stdout",
     "output_type": "stream",
     "text": [
      "600.0 -100.63\n",
      "-Extract bar energy\n",
      "gmx bar -f data_lig_Biggin_4J0R/mol_prot_free_1ns/03_prod/prod_4J0R_vdwq_00.xvg data_lig_Biggin_4J0R/mol_prot_free_1ns/03_prod/prod_4J0R_vdwq_01.xvg data_lig_Biggin_4J0R/mol_prot_free_1ns/03_prod/prod_4J0R_vdwq_02.xvg data_lig_Biggin_4J0R/mol_prot_free_1ns/03_prod/prod_4J0R_vdwq_03.xvg data_lig_Biggin_4J0R/mol_prot_free_1ns/03_prod/prod_4J0R_vdwq_04.xvg data_lig_Biggin_4J0R/mol_prot_free_1ns/03_prod/prod_4J0R_vdwq_05.xvg data_lig_Biggin_4J0R/mol_prot_free_1ns/03_prod/prod_4J0R_vdwq_06.xvg data_lig_Biggin_4J0R/mol_prot_free_1ns/03_prod/prod_4J0R_vdwq_07.xvg data_lig_Biggin_4J0R/mol_prot_free_1ns/03_prod/prod_4J0R_vdwq_08.xvg data_lig_Biggin_4J0R/mol_prot_free_1ns/03_prod/prod_4J0R_vdwq_09.xvg data_lig_Biggin_4J0R/mol_prot_free_1ns/03_prod/prod_4J0R_vdwq_10.xvg data_lig_Biggin_4J0R/mol_prot_free_1ns/03_prod/prod_4J0R_vdwq_11.xvg data_lig_Biggin_4J0R/mol_prot_free_1ns/03_prod/prod_4J0R_vdwq_12.xvg data_lig_Biggin_4J0R/mol_prot_free_1ns/03_prod/prod_4J0R_vdwq_13.xvg data_lig_Biggin_4J0R/mol_prot_free_1ns/03_prod/prod_4J0R_vdwq_14.xvg data_lig_Biggin_4J0R/mol_prot_free_1ns/03_prod/prod_4J0R_vdwq_15.xvg -o bar.xvg -oi barint.xvg -oh histogram.xvg -b 700.0 -e 800.0\n",
      "700.0 -103.9\n",
      "-Extract bar energy\n",
      "gmx bar -f data_lig_Biggin_4J0R/mol_prot_free_1ns/03_prod/prod_4J0R_vdwq_00.xvg data_lig_Biggin_4J0R/mol_prot_free_1ns/03_prod/prod_4J0R_vdwq_01.xvg data_lig_Biggin_4J0R/mol_prot_free_1ns/03_prod/prod_4J0R_vdwq_02.xvg data_lig_Biggin_4J0R/mol_prot_free_1ns/03_prod/prod_4J0R_vdwq_03.xvg data_lig_Biggin_4J0R/mol_prot_free_1ns/03_prod/prod_4J0R_vdwq_04.xvg data_lig_Biggin_4J0R/mol_prot_free_1ns/03_prod/prod_4J0R_vdwq_05.xvg data_lig_Biggin_4J0R/mol_prot_free_1ns/03_prod/prod_4J0R_vdwq_06.xvg data_lig_Biggin_4J0R/mol_prot_free_1ns/03_prod/prod_4J0R_vdwq_07.xvg data_lig_Biggin_4J0R/mol_prot_free_1ns/03_prod/prod_4J0R_vdwq_08.xvg data_lig_Biggin_4J0R/mol_prot_free_1ns/03_prod/prod_4J0R_vdwq_09.xvg data_lig_Biggin_4J0R/mol_prot_free_1ns/03_prod/prod_4J0R_vdwq_10.xvg data_lig_Biggin_4J0R/mol_prot_free_1ns/03_prod/prod_4J0R_vdwq_11.xvg data_lig_Biggin_4J0R/mol_prot_free_1ns/03_prod/prod_4J0R_vdwq_12.xvg data_lig_Biggin_4J0R/mol_prot_free_1ns/03_prod/prod_4J0R_vdwq_13.xvg data_lig_Biggin_4J0R/mol_prot_free_1ns/03_prod/prod_4J0R_vdwq_14.xvg data_lig_Biggin_4J0R/mol_prot_free_1ns/03_prod/prod_4J0R_vdwq_15.xvg -o bar.xvg -oi barint.xvg -oh histogram.xvg -b 800.0 -e 900.0\n",
      "800.0 -107.29\n",
      "-Extract bar energy\n",
      "gmx bar -f data_lig_Biggin_4J0R/mol_prot_free_1ns/03_prod/prod_4J0R_vdwq_00.xvg data_lig_Biggin_4J0R/mol_prot_free_1ns/03_prod/prod_4J0R_vdwq_01.xvg data_lig_Biggin_4J0R/mol_prot_free_1ns/03_prod/prod_4J0R_vdwq_02.xvg data_lig_Biggin_4J0R/mol_prot_free_1ns/03_prod/prod_4J0R_vdwq_03.xvg data_lig_Biggin_4J0R/mol_prot_free_1ns/03_prod/prod_4J0R_vdwq_04.xvg data_lig_Biggin_4J0R/mol_prot_free_1ns/03_prod/prod_4J0R_vdwq_05.xvg data_lig_Biggin_4J0R/mol_prot_free_1ns/03_prod/prod_4J0R_vdwq_06.xvg data_lig_Biggin_4J0R/mol_prot_free_1ns/03_prod/prod_4J0R_vdwq_07.xvg data_lig_Biggin_4J0R/mol_prot_free_1ns/03_prod/prod_4J0R_vdwq_08.xvg data_lig_Biggin_4J0R/mol_prot_free_1ns/03_prod/prod_4J0R_vdwq_09.xvg data_lig_Biggin_4J0R/mol_prot_free_1ns/03_prod/prod_4J0R_vdwq_10.xvg data_lig_Biggin_4J0R/mol_prot_free_1ns/03_prod/prod_4J0R_vdwq_11.xvg data_lig_Biggin_4J0R/mol_prot_free_1ns/03_prod/prod_4J0R_vdwq_12.xvg data_lig_Biggin_4J0R/mol_prot_free_1ns/03_prod/prod_4J0R_vdwq_13.xvg data_lig_Biggin_4J0R/mol_prot_free_1ns/03_prod/prod_4J0R_vdwq_14.xvg data_lig_Biggin_4J0R/mol_prot_free_1ns/03_prod/prod_4J0R_vdwq_15.xvg -o bar.xvg -oi barint.xvg -oh histogram.xvg -b 900.0 -e 1000.0\n",
      "900.0 -101.26\n"
     ]
    }
   ],
   "source": [
    "xvg_list = \"data_lig_Biggin_4J0R/mol_prot_free_1ns/03_prod/prod_4J0R_vdwq_00.xvg data_lig_Biggin_4J0R/mol_prot_free_1ns/03_prod/prod_4J0R_vdwq_01.xvg data_lig_Biggin_4J0R/mol_prot_free_1ns/03_prod/prod_4J0R_vdwq_02.xvg data_lig_Biggin_4J0R/mol_prot_free_1ns/03_prod/prod_4J0R_vdwq_03.xvg data_lig_Biggin_4J0R/mol_prot_free_1ns/03_prod/prod_4J0R_vdwq_04.xvg data_lig_Biggin_4J0R/mol_prot_free_1ns/03_prod/prod_4J0R_vdwq_05.xvg data_lig_Biggin_4J0R/mol_prot_free_1ns/03_prod/prod_4J0R_vdwq_06.xvg data_lig_Biggin_4J0R/mol_prot_free_1ns/03_prod/prod_4J0R_vdwq_07.xvg data_lig_Biggin_4J0R/mol_prot_free_1ns/03_prod/prod_4J0R_vdwq_08.xvg data_lig_Biggin_4J0R/mol_prot_free_1ns/03_prod/prod_4J0R_vdwq_09.xvg data_lig_Biggin_4J0R/mol_prot_free_1ns/03_prod/prod_4J0R_vdwq_10.xvg data_lig_Biggin_4J0R/mol_prot_free_1ns/03_prod/prod_4J0R_vdwq_11.xvg data_lig_Biggin_4J0R/mol_prot_free_1ns/03_prod/prod_4J0R_vdwq_12.xvg data_lig_Biggin_4J0R/mol_prot_free_1ns/03_prod/prod_4J0R_vdwq_13.xvg data_lig_Biggin_4J0R/mol_prot_free_1ns/03_prod/prod_4J0R_vdwq_14.xvg data_lig_Biggin_4J0R/mol_prot_free_1ns/03_prod/prod_4J0R_vdwq_15.xvg\".split()\n",
    "\n",
    "\n",
    "time_list = []\n",
    "ener_list = []\n",
    "gap = 100\n",
    "\n",
    "for time in np.arange(0.0, 1000, gap):\n",
    "    time_list.append(time)\n",
    "    ener_local = gmx.GmxSys.get_bar(xvg_list, begin_time=time, end_time=time+gap)\n",
    "    ener_list.append(ener_local['DG'])\n",
    "    print(time, ener_local['DG'])"
   ]
  },
  {
   "cell_type": "code",
   "execution_count": 46,
   "metadata": {},
   "outputs": [
    {
     "data": {
      "image/png": "[encoded data removed]",
      "text/plain": [
       "<Figure size 432x288 with 1 Axes>"
      ]
     },
     "metadata": {
      "needs_background": "light"
     },
     "output_type": "display_data"
    },
    {
     "name": "stdout",
     "output_type": "stream",
     "text": [
      "\n"
     ]
    }
   ],
   "source": [
    "import matplotlib.pyplot as plt\n",
    "\n",
    "plt.plot(time_list, ener_list)\n",
    "plt.scatter(time_list, ener_list)\n",
    "plt.show()\n"
   ]
  },
  {
   "cell_type": "code",
   "execution_count": 72,
   "metadata": {},
   "outputs": [
    {
     "name": "stdout",
     "output_type": "stream",
     "text": [
      "DDG = 12.26 +/- 1.21\n"
     ]
    }
   ],
   "source": [
    "print('DDG = {:.2f} +/- {:.2f}'.format( (ener_solv['DG'] - ener['DG'])/4.184, \n",
    "                                       ((ener_solv['std']**2 + ener['std']**2)**(0.5))/4.184))"
   ]
  },
  {
   "cell_type": "code",
   "execution_count": 74,
   "metadata": {},
   "outputs": [
    {
     "data": {
      "text/plain": [
       "-12.263384321223707"
      ]
     },
     "execution_count": 74,
     "metadata": {},
     "output_type": "execute_result"
    }
   ],
   "source": [
    "(ener['DG'] - ener_solv['DG'])/4.184"
   ]
  },
  {
   "cell_type": "code",
   "execution_count": 31,
   "metadata": {},
   "outputs": [
    {
     "data": {
      "text/plain": [
       "{'DG': -49.75,\n",
       " 'std': 1.05,\n",
       " 'table':        l  DG (kT)   +/-\n",
       " 0    0.5    -0.00  0.00\n",
       " 1    1.5     0.00  0.00\n",
       " 2    2.5     0.00  0.00\n",
       " 3    3.5    -0.00  0.00\n",
       " 4    4.5     0.00  0.00\n",
       " 5    5.5     4.38  0.03\n",
       " 6    6.5     2.99  0.03\n",
       " 7    7.5     2.28  0.03\n",
       " 8    8.5     1.77  0.16\n",
       " 9    9.5     0.78  0.11\n",
       " 10  10.5     0.66  0.03\n",
       " 11  11.5     0.80  0.06\n",
       " 12  12.5     0.88  0.05\n",
       " 13  13.5     1.01  0.05\n",
       " 14  14.5     1.40  0.06\n",
       " 15  15.5     1.47  0.04\n",
       " 16  16.5     1.17  0.05\n",
       " 17  17.5     0.85  0.09\n",
       " 18  18.5     0.36  0.37\n",
       " 19  19.5    -0.85  0.30}"
      ]
     },
     "execution_count": 31,
     "metadata": {},
     "output_type": "execute_result"
    }
   ],
   "source": [
    "ener"
   ]
  },
  {
   "cell_type": "markdown",
   "metadata": {},
   "source": [
    "- exp value: -7.42 $kcal.mol^{-1}$"
   ]
  },
  {
   "cell_type": "code",
   "execution_count": 31,
   "metadata": {},
   "outputs": [
    {
     "data": {
      "text/plain": [
       "-20.989999999999995"
      ]
     },
     "execution_count": 31,
     "metadata": {},
     "output_type": "execute_result"
    }
   ],
   "source": [
    "-69.69+48.70"
   ]
  },
  {
   "cell_type": "code",
   "execution_count": null,
   "metadata": {},
   "outputs": [],
   "source": [
    "test = test.replace('\\\\x','')\n",
    "test = test.replace('\\\\f{}','')\n",
    "test"
   ]
  },
  {
   "cell_type": "code",
   "execution_count": null,
   "metadata": {},
   "outputs": [],
   "source": [
    "test = ['a', 'b', 'c']\n",
    "\" \".join(test)"
   ]
  },
  {
   "cell_type": "code",
   "execution_count": null,
   "metadata": {},
   "outputs": [],
   "source": [
    "math.sqrt((table.iloc[:,2]**2).sum())"
   ]
  },
  {
   "cell_type": "code",
   "execution_count": null,
   "metadata": {},
   "outputs": [],
   "source": [
    "table"
   ]
  },
  {
   "cell_type": "code",
   "execution_count": null,
   "metadata": {},
   "outputs": [],
   "source": [
    "from scipy.constants import R, Boltzmann, N_A\n",
    "import math\n",
    "\n",
    "#math.sqrt((table.iloc[:, 2] *  Boltzmann*310*N_A*1e-3 # kT to KJ.mol-1"
   ]
  },
  {
   "cell_type": "code",
   "execution_count": null,
   "metadata": {},
   "outputs": [],
   "source": [
    "math.sqrt(((table.iloc[:, 2] *  Boltzmann*310*N_A*1e-3)**2).sum())*(len(table.iloc[:, 2])+1)/len(table.iloc[:, 2])"
   ]
  },
  {
   "cell_type": "code",
   "execution_count": null,
   "metadata": {},
   "outputs": [],
   "source": [
    "from scipy.constants import R, Boltzmann, N_A\n",
    "\n",
    "Boltzmann*310*N_A"
   ]
  },
  {
   "cell_type": "code",
   "execution_count": null,
   "metadata": {},
   "outputs": [],
   "source": [
    "table.iloc[:, 2] *  Boltzmann*310*N_A*1e-3"
   ]
  },
  {
   "cell_type": "code",
   "execution_count": null,
   "metadata": {},
   "outputs": [],
   "source": [
    "len(table.iloc[:, 2])"
   ]
  },
  {
   "cell_type": "code",
   "execution_count": 29,
   "metadata": {},
   "outputs": [
    {
     "data": {
      "text/plain": [
       "26.22"
      ]
     },
     "execution_count": 29,
     "metadata": {},
     "output_type": "execute_result"
    }
   ],
   "source": [
    "78.41-52.19"
   ]
  },
  {
   "cell_type": "code",
   "execution_count": null,
   "metadata": {},
   "outputs": [],
   "source": []
  }
 ],
 "metadata": {
  "kernelspec": {
   "display_name": "Python 3",
   "language": "python",
   "name": "python3"
  },
  "language_info": {
   "codemirror_mode": {
    "name": "ipython",
    "version": 3
   },
   "file_extension": ".py",
   "mimetype": "text/x-python",
   "name": "python",
   "nbconvert_exporter": "python",
   "pygments_lexer": "ipython3",
   "version": "3.7.8"
  }
 },
 "nbformat": 4,
 "nbformat_minor": 4
}
