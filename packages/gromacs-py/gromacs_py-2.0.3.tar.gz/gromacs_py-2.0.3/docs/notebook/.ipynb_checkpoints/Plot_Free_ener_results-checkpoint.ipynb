{
 "cells": [
  {
   "cell_type": "code",
   "execution_count": 34,
   "metadata": {},
   "outputs": [],
   "source": [
    "import pandas as pd\n",
    "import numpy as np\n",
    "import matplotlib.pyplot as plt"
   ]
  },
  {
   "cell_type": "markdown",
   "metadata": {},
   "source": [
    "\n",
    "AA |  compound       |  SMILE               |charge|$$\\Delta G^{exp}_{water}$$|$$\\Delta G^{sim}_{water}$$|$$\\Delta G_{oct}^{exp}$$|$$\\Delta G_{oct}^{sim}$$|$$Log P_{ow}^{exp}$$ |$$Log P_{ow}^{sim}$$\n",
    "---|-----------------|----------------------|------|-------------------------|-------------------------|---------------------------------------|------------------------|---------------|---------------\n",
    "Y  |  p-Cresol       | c1ccccc1O      |0|-6.13 ± 0.60| NaN |-8.78  | -7.59 ± 0.23|  1.94 | NaN ± NaN\n",
    "F  |  toluene        | c1ccccc1       |0|-0.90 ± 0.20| NaN |-4.49  | -3.32 ± 0.11|  2.72 | NaN ± NaN\n",
    "W  |  3-methylindole | c1cccc2c1Ncc2C |0|-5.88 ± NaN | NaN |-9.45  |-10.02 ± 0.21|  2.60 | NaN ± NaN\n",
    "A  |  methane        | C              |0| 2.00 ± 0.20| NaN | 0.49  |  0.91 ± 0.05|  1.06 | NaN ± NaN\n",
    "V  |  propane        | CCC            |0| 2.00 ± 0.20| NaN |-1.25  | -0.87 ± 0.07|  2.36 | NaN ± NaN\n",
    "I  |  butane         | CCCC           |0| 2.15 ± NaN | NaN |-1.87  | -1.66 ± 0.09|  2.93 | NaN ± NaN\n",
    "L  |  isobutane      | CC(C)C         |0| 2.30 ± 0.20| NaN |-1.46* | -1.48 ± 0.07|  2.72 | NaN ± NaN\n",
    "M  |  methyl ethyl sulfide | CCSC     |0|-1.50 ± 0.20| NaN |-3.50* | -2.94 ± 0.08|  1.47 | NaN ± NaN\n",
    "T  |  ethanol        | CCO            |0|-5.00 ± 0.60| NaN |-4.06  |   Nan ± Nan | -0.60 | NaN ± NaN\n",
    "N  |  acetamide      | CC(=O)N        |0|-9.71 ± 0.60| NaN |-7.99  |   Nan ± Nan | -1.25 | NaN ± NaN\n",
    "Q  |  propionamide   | CCC(=O)N       |0|-9.40 ± 0.20| NaN |-8.52**|   Nan ± Nan | -0.63 | NaN ± NaN\n",
    "C  |  methylthiol    | CS             |0|-1.20 ± 0.20| NaN | NaN   |   Nan ± Nan | -1.42 | NaN ± NaN\n",
    "       \n",
    "Unit in $kcal \\: mol^{-1}$\n",
    "\n",
    "\n",
    "\n",
    "References:\n",
    "- C. Chipot, B. Maigret, J. I. Rivail and H. A. Scheraga, **J.Phys.Chem.**, 1992, 96, 10276\n",
    "- R. Wolfenden, L. Andersson, P. M. Cullis and C. C. B. Southgate, **Biochemistry**, 1981, 20, 849.\n",
    "- \\* https://pubs.acs.org/doi/10.1021/jp971264j\n",
    "- ** https://pubs.acs.org/doi/pdf/10.1021/ci0498564\n",
    "- https://github.com/MobleyLab/FreeSolv/blob/master/database.txt (exp water solva)"
   ]
  },
  {
   "cell_type": "code",
   "execution_count": 132,
   "metadata": {},
   "outputs": [
    {
     "data": {
      "text/plain": [
       "['Y',\n",
       " 'p-Cresol',\n",
       " 'c1ccccc1O',\n",
       " '0',\n",
       " '-6.13',\n",
       " '0.60',\n",
       " 'NaN',\n",
       " '-8.78',\n",
       " '-7.59',\n",
       " '0.23',\n",
       " '1.94',\n",
       " 'NaN',\n",
       " 'NaN',\n",
       " 'F',\n",
       " 'toluene',\n",
       " 'c1ccccc1',\n",
       " '0',\n",
       " '-0.90',\n",
       " '0.20',\n",
       " 'NaN',\n",
       " '-4.49',\n",
       " '-3.32',\n",
       " '0.11',\n",
       " '2.72',\n",
       " 'NaN',\n",
       " 'NaN',\n",
       " 'W',\n",
       " '3-methylindole',\n",
       " 'c1cccc2c1Ncc2C',\n",
       " '0',\n",
       " '-5.88',\n",
       " 'NaN',\n",
       " 'NaN',\n",
       " '-9.45',\n",
       " '-10.02',\n",
       " '0.21',\n",
       " '2.60',\n",
       " 'NaN',\n",
       " 'NaN',\n",
       " 'A',\n",
       " 'methane',\n",
       " 'C',\n",
       " '0',\n",
       " '2.00',\n",
       " '0.20',\n",
       " 'NaN',\n",
       " '0.49',\n",
       " '0.91',\n",
       " '0.05',\n",
       " '1.06',\n",
       " 'NaN',\n",
       " 'NaN',\n",
       " 'V',\n",
       " 'propane',\n",
       " 'CCC',\n",
       " '0',\n",
       " '2.00',\n",
       " '0.20',\n",
       " 'NaN',\n",
       " '-1.25',\n",
       " '-0.87',\n",
       " '0.07',\n",
       " '2.36',\n",
       " 'NaN',\n",
       " 'NaN',\n",
       " 'I',\n",
       " 'butane',\n",
       " 'CCCC',\n",
       " '0',\n",
       " '2.15',\n",
       " 'NaN',\n",
       " 'NaN',\n",
       " '-1.87',\n",
       " '-1.66',\n",
       " '0.09',\n",
       " '2.93',\n",
       " 'NaN',\n",
       " 'NaN',\n",
       " 'L',\n",
       " 'isobutane',\n",
       " 'CC(C)C',\n",
       " '0',\n",
       " '2.30',\n",
       " '0.20',\n",
       " 'NaN',\n",
       " '-1.46*',\n",
       " '-1.48',\n",
       " '0.07',\n",
       " '2.72',\n",
       " 'NaN',\n",
       " 'NaN',\n",
       " 'M',\n",
       " 'methyl ethyl sulfide',\n",
       " 'CCSC',\n",
       " '0',\n",
       " '-1.50',\n",
       " '0.20',\n",
       " 'NaN',\n",
       " '-3.50*',\n",
       " '-2.94',\n",
       " '0.08',\n",
       " '1.47',\n",
       " 'NaN',\n",
       " 'NaN',\n",
       " 'T',\n",
       " 'ethanol',\n",
       " 'CCO',\n",
       " '0',\n",
       " '-5.00',\n",
       " '0.60',\n",
       " 'NaN',\n",
       " '-4.06',\n",
       " 'Nan',\n",
       " 'Nan',\n",
       " '-0.60',\n",
       " 'NaN',\n",
       " 'NaN',\n",
       " 'N',\n",
       " 'acetamide',\n",
       " 'CC(=O)N',\n",
       " '0',\n",
       " '-9.71',\n",
       " '0.60',\n",
       " 'NaN',\n",
       " '-7.99',\n",
       " 'Nan',\n",
       " 'Nan',\n",
       " '-1.25',\n",
       " 'NaN',\n",
       " 'NaN',\n",
       " 'Q',\n",
       " 'propionamide',\n",
       " 'CCC(=O)N',\n",
       " '0',\n",
       " '-9.40',\n",
       " '0.20',\n",
       " 'NaN',\n",
       " '-8.52**',\n",
       " 'Nan',\n",
       " 'Nan',\n",
       " '-0.63',\n",
       " 'NaN',\n",
       " 'NaN',\n",
       " 'C',\n",
       " 'methylthiol',\n",
       " 'CS',\n",
       " '0',\n",
       " '-1.20',\n",
       " '0.20',\n",
       " 'NaN',\n",
       " 'NaN',\n",
       " 'Nan',\n",
       " 'Nan',\n",
       " '-1.42',\n",
       " 'NaN',\n",
       " 'NaN',\n",
       " '']"
      ]
     },
     "execution_count": 132,
     "metadata": {},
     "output_type": "execute_result"
    }
   ],
   "source": [
    "import re\n",
    "\n",
    "data_str =\"\"\"\n",
    "Y  |  p-Cresol       | c1ccccc1O      |0|-6.13 ± 0.60| NaN |-8.78  | -7.59 ± 0.23|  1.94 | NaN ± NaN\n",
    "F  |  toluene        | c1ccccc1       |0|-0.90 ± 0.20| NaN |-4.49  | -3.32 ± 0.11|  2.72 | NaN ± NaN\n",
    "W  |  3-methylindole | c1cccc2c1Ncc2C |0|-5.88 ± NaN | NaN |-9.45  |-10.02 ± 0.21|  2.60 | NaN ± NaN\n",
    "A  |  methane        | C              |0| 2.00 ± 0.20| NaN | 0.49  |  0.91 ± 0.05|  1.06 | NaN ± NaN\n",
    "V  |  propane        | CCC            |0| 2.00 ± 0.20| NaN |-1.25  | -0.87 ± 0.07|  2.36 | NaN ± NaN\n",
    "I  |  butane         | CCCC           |0| 2.15 ± NaN | NaN |-1.87  | -1.66 ± 0.09|  2.93 | NaN ± NaN\n",
    "L  |  isobutane      | CC(C)C         |0| 2.30 ± 0.20| NaN |-1.46* | -1.48 ± 0.07|  2.72 | NaN ± NaN\n",
    "M  |  methyl ethyl sulfide | CCSC     |0|-1.50 ± 0.20| NaN |-3.50* | -2.94 ± 0.08|  1.47 | NaN ± NaN\n",
    "T  |  ethanol        | CCO            |0|-5.00 ± 0.60| NaN |-4.06  |   Nan ± Nan | -0.60 | NaN ± NaN\n",
    "N  |  acetamide      | CC(=O)N        |0|-9.71 ± 0.60| NaN |-7.99  |   Nan ± Nan | -1.25 | NaN ± NaN\n",
    "Q  |  propionamide   | CCC(=O)N       |0|-9.40 ± 0.20| NaN |-8.52**|   Nan ± Nan | -0.63 | NaN ± NaN\n",
    "C  |  methylthiol    | CS             |0|-1.20 ± 0.20| NaN | NaN   |   Nan ± Nan | -1.42 | NaN ± NaN\n",
    "\"\"\"\n",
    "\n",
    "split_dat = re.split('\\||\\±|\\n', data_str[1:])\n",
    "split_dat = [word.strip() for word in split_dat]\n",
    "split_dat"
   ]
  },
  {
   "cell_type": "code",
   "execution_count": 94,
   "metadata": {},
   "outputs": [],
   "source": [
    "col_num = 10\n",
    "all_dat = ['Y', -6.11, np.nan, np.nan,-8.78  , -7.59 , 0.23,  1.94 , np.nan , np.nan,\n",
    "           'F', -0.76, np.nan, np.nan,-4.49  , -3.32 , 0.11,  2.72 , np.nan , np.nan,\n",
    "           'W', -5.88, np.nan, np.nan,-9.45  ,-10.02 , 0.21,  2.60 , np.nan , np.nan,\n",
    "           'A',  1.94, np.nan, np.nan, 0.49  ,  0.91 , 0.05,  1.06 , np.nan , np.nan,\n",
    "           'V',  1.99, np.nan, np.nan,-1.25  , -0.87 , 0.07,  2.36 , np.nan , np.nan,\n",
    "           'I',  2.15, np.nan, np.nan,-1.87  , -1.66 , 0.09,  2.93 , np.nan , np.nan,\n",
    "           'L',  2.28, np.nan, np.nan,-1.46  , -1.48 , 0.07,  2.72 , np.nan , np.nan,\n",
    "           'M', -1.48, np.nan, np.nan,-3.50  , -2.94 , 0.08,  1.47 , np.nan , np.nan,\n",
    "           'S', -5.06, np.nan, np.nan,-4.58  ,np.nan,np.nan, -0.35 , np.nan , np.nan,\n",
    "           'T', -4.88, np.nan, np.nan,-4.06  ,np.nan,np.nan, -0.60 , np.nan , np.nan,\n",
    "           'N', -9.70, np.nan, np.nan,-7.99  ,np.nan,np.nan, -1.25 , np.nan , np.nan,\n",
    "           'Q', -9.38, np.nan, np.nan,-8.52  ,np.nan,np.nan, -0.63 , np.nan , np.nan,\n",
    "           'C', -1.24, np.nan, np.nan,np.nan ,np.nan,np.nan, -1.42 , np.nan , np.nan,]\n",
    "all_dat_arr = np.array(all_dat)\n",
    "all_dat_arr.shape = (int(len(all_dat_arr)/col_num), col_num)"
   ]
  },
  {
   "cell_type": "code",
   "execution_count": 95,
   "metadata": {},
   "outputs": [],
   "source": [
    "free_df = pd.DataFrame(all_dat_arr)\n",
    "free_df.columns = ['res',\n",
    "                   'wat_exp', 'wat_sim', 'wat_sim_sd',\n",
    "                   'oct_exp', 'oct_sim', 'oct_sim_sd',\n",
    "                   'logp_exp', 'logp_sim', 'logp_sim_sd']\n",
    "numeric_col = free_df.columns.values[1:]\n",
    "\n",
    "free_df[free_df == 'nan'] = np.nan\n",
    "\n",
    "for col in numeric_col:\n",
    "    free_df[col] = pd.to_numeric(free_df[col])"
   ]
  },
  {
   "cell_type": "code",
   "execution_count": 106,
   "metadata": {},
   "outputs": [
    {
     "data": {
      "text/plain": [
       "0.6881860213634101"
      ]
     },
     "execution_count": 106,
     "metadata": {},
     "output_type": "execute_result"
    }
   ],
   "source": [
    "oct_RMSE = (((free_df['oct_exp']-free_df['oct_sim'])**2).mean())**0.5\n",
    "oct_RMSE"
   ]
  },
  {
   "cell_type": "code",
   "execution_count": 123,
   "metadata": {},
   "outputs": [
    {
     "data": {
      "text/plain": [
       "Text(0.5, 1.0, '$RMSE = 0.69\\\\; kcal \\\\; mol^-1$')"
      ]
     },
     "execution_count": 123,
     "metadata": {},
     "output_type": "execute_result"
    },
    {
     "data": {
      "image/png": "[encoded data removed]",
      "text/plain": [
       "<Figure size 432x432 with 1 Axes>"
      ]
     },
     "metadata": {
      "needs_background": "light"
     },
     "output_type": "display_data"
    }
   ],
   "source": [
    "fig, ax = plt.subplots(1, figsize=(6,6))\n",
    "\n",
    "#axs[0].errorbar(oct_exp, oct_sim, oct_sim_err,  fmt='o')\n",
    "\n",
    "ax.errorbar(x=free_df.oct_exp, y=free_df.oct_sim, yerr=free_df.oct_sim_sd, fmt='.', c='black')\n",
    "\n",
    "x = np.array([min(free_df.oct_exp)-1, max(free_df.oct_exp)+1])\n",
    "gap = 1.0\n",
    "ax.plot(x, x, color='black', linestyle='--')\n",
    "ax.fill_between(x, x+gap, x-gap, color = 'k', alpha = 0.1)\n",
    "ax.fill_between(x, x+2*gap, x-2*gap, color = 'blue', alpha = 0.05)\n",
    "ax.grid()\n",
    "ax.set_ylabel(r'$\\Delta G^{sim} (kcal\\;mol^{-1})$')\n",
    "ax.set_xlabel(r'$\\Delta G^{exp} (kcal\\;mol^{-1})$')\n",
    "ax.set_title(f'$RMSE = {oct_RMSE:.2f}\\; kcal \\; mol^{-1}$')"
   ]
  },
  {
   "cell_type": "code",
   "execution_count": null,
   "metadata": {},
   "outputs": [],
   "source": []
  },
  {
   "cell_type": "code",
   "execution_count": null,
   "metadata": {},
   "outputs": [],
   "source": []
  }
 ],
 "metadata": {
  "kernelspec": {
   "display_name": "Python 3",
   "language": "python",
   "name": "python3"
  },
  "language_info": {
   "codemirror_mode": {
    "name": "ipython",
    "version": 3
   },
   "file_extension": ".py",
   "mimetype": "text/x-python",
   "name": "python",
   "nbconvert_exporter": "python",
   "pygments_lexer": "ipython3",
   "version": "3.8.2"
  }
 },
 "nbformat": 4,
 "nbformat_minor": 4
}
