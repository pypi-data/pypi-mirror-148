{
 "cells": [
  {
   "cell_type": "code",
   "execution_count": 1,
   "metadata": {},
   "outputs": [],
   "source": [
    "import os\n",
    "import urllib.request\n",
    "import copy"
   ]
  },
  {
   "cell_type": "code",
   "execution_count": 2,
   "metadata": {},
   "outputs": [],
   "source": [
    "from gromacs_py import gmx\n",
    "gmx.show_log()\n",
    "from gromacs_py.tools import ambertools\n",
    "ambertools.show_log()\n",
    "\n",
    "from pdb_manip_py import pdb_manip"
   ]
  },
  {
   "cell_type": "code",
   "execution_count": 15,
   "metadata": {},
   "outputs": [
    {
     "name": "stdout",
     "output_type": "stream",
     "text": [
      "/home/murail/Documents/Code/gromacs_py/docs/notebook\n"
     ]
    }
   ],
   "source": [
    "cd /home/murail/Documents/Code/gromacs_py/docs/notebook/"
   ]
  },
  {
   "cell_type": "code",
   "execution_count": 4,
   "metadata": {},
   "outputs": [],
   "source": [
    "#rm -r data_lig_trypsin_1GI2"
   ]
  },
  {
   "cell_type": "code",
   "execution_count": 5,
   "metadata": {},
   "outputs": [],
   "source": [
    "PDB_ID = '1LI2'\n",
    "MOL_ID = 'IPH'\n",
    "CHARGE_MOL = 0\n",
    "DATA_OUT = 'data_lig_Mobley_{}'.format(PDB_ID)\n",
    "os.makedirs(DATA_OUT, exist_ok = True)\n",
    "\n",
    "raw_pdb = urllib.request.urlretrieve('http://files.rcsb.org/download/{}.pdb'.format(PDB_ID),\n",
    "                           '{}/{}.pdb'.format(DATA_OUT, PDB_ID))"
   ]
  },
  {
   "cell_type": "code",
   "execution_count": 6,
   "metadata": {},
   "outputs": [],
   "source": [
    "# Extract first conf:\n",
    "\n",
    "#pdb_multi = pdb_manip.Multi_Coor(raw_pdb[0])\n",
    "#pdb_model_1 = '{}/{}_model_1.pdb'.format(DATA_OUT, PDB_ID)\n",
    "#pdb_multi.coor_list[0].write_pdb(pdb_model_1)\n",
    "\n",
    "pdb_model_1 = '{}/{}.pdb'.format(DATA_OUT, PDB_ID)"
   ]
  },
  {
   "cell_type": "code",
   "execution_count": 7,
   "metadata": {
    "scrolled": false
   },
   "outputs": [
    {
     "name": "stdout",
     "output_type": "stream",
     "text": [
      "Succeed to read file ../1LI2.pdb ,  1373 atoms found\n",
      "Succeed to read file 00_1LI2.pqr ,  2601 atoms found\n",
      "Succeed to read file ../1LI2.pdb ,  1373 atoms found\n",
      "PDB file IPH.pdb already exist, file not saved\n",
      "PDB files not created, IPH_h.pdb already exist\n",
      "Succeed to read file IPH_h.pdb ,  13 atoms found\n",
      "PDB file IPH_h_unique.pdb already exist, file not saved\n",
      "acpype -i IPH_h_unique.pdb -b IPH -c bcc -a gaff -o gmx -n 0\n",
      "Succeed to create topologie in IPH\n",
      "IPH\n",
      "residue(s) CL not included, add this residue in ...\n",
      "residue(s) BME not included, add this residue in ...\n",
      "Chain: A  Residue: 0 to 161\n",
      "PDB file 01_1LI2_good_his.pdb already exist, file not saved\n",
      "-Create topologie\n",
      "create_top not launched 1LI2_pdb2gmx.pdb already exist\n",
      "Add Molecule: IPH\n",
      "Add 1 mol /home/murail/Documents/Code/gromacs_py/docs/notebook/data_lig_Mobley_1LI2/prot_top/IPH.acpype/IPH_GMX.itp\n",
      "Concat files: ['1LI2_pdb2gmx.pdb', '/home/murail/Documents/Code/gromacs_py/docs/notebook/data_lig_Mobley_1LI2/prot_top/IPH_h.pdb']\n",
      "File  1LI2_pdb2gmx_mol.pdb  already exist\n"
     ]
    }
   ],
   "source": [
    "#2020-07-25T09:06:13CEST (c) 2020 AWSdS\n",
    "\n",
    "md_sys = gmx.GmxSys(name=PDB_ID, coor_file=pdb_model_1)\n",
    "md_sys.prepare_top(out_folder=os.path.join(DATA_OUT, 'prot_top'),\n",
    "                   ff='amber99sb-ildn', include_mol={MOL_ID: CHARGE_MOL})"
   ]
  },
  {
   "cell_type": "code",
   "execution_count": 8,
   "metadata": {},
   "outputs": [
    {
     "name": "stdout",
     "output_type": "stream",
     "text": [
      "Succeed to read file data_lig_Mobley_1LI2/prot_top/1LI2_pdb2gmx_mol.pdb ,  2614 atoms found\n",
      "PDB file data_lig_Mobley_1LI2/mol_top/IPH_only.pdb already exist, file not saved\n",
      "Forcefield include :\n",
      " amber99sb-ildn\n",
      "-ITP file: IPH_GMX_atomtypes\n",
      "-molecules defined in the itp file:\n",
      "-ITP file: tip3p\n",
      "-molecules defined in the itp file:\n",
      "* SOL\n",
      "-ITP file: IPH_GMX\n",
      "-molecules defined in the itp file:\n",
      "* IPH\n",
      "Mol List:\n",
      "   * 1 IPH\n",
      "Mol Name:\n",
      " Protein\n"
     ]
    }
   ],
   "source": [
    "test = md_sys.extract_mol_sys(out_folder=os.path.join(DATA_OUT, 'mol_top'), res_name=MOL_ID)"
   ]
  },
  {
   "cell_type": "code",
   "execution_count": 9,
   "metadata": {},
   "outputs": [
    {
     "name": "stdout",
     "output_type": "stream",
     "text": [
      "-Create pbc box\n",
      "create_box not launched data_lig_Mobley_1LI2/mol_top/IPH_only_box.pdb already exist\n",
      "Mdp files not created, Init_em_IPH.mdp already exist\n",
      "-Create the tpr file Init_em_IPH.tpr\n",
      "create_tpr not launched Init_em_IPH.tpr already exist\n",
      "-Launch the simulation Init_em_IPH.tpr\n",
      "Simulation not launched Init_em_IPH.gro already exist\n",
      "Mdp files not created, IPH.mdp already exist\n",
      "-Create the tpr file IPH.tpr\n",
      "create_tpr not launched IPH.tpr already exist\n",
      "-Launch the simulation IPH.tpr\n",
      "Simulation not launched IPH.gro already exist\n"
     ]
    }
   ],
   "source": [
    "test.create_box(name=None, dist=1.0)\n",
    "\n",
    "test.em_2_steps(out_folder=os.path.join(DATA_OUT, 'mol_em'),\n",
    "                  no_constr_nsteps=10000,\n",
    "                  constr_nsteps=10000,\n",
    "                  posres=\"\",\n",
    "                  emtol=0.1, nstxout=100, maxwarn=3,\n",
    "                  create_box_flag=False)"
   ]
  },
  {
   "cell_type": "code",
   "execution_count": 10,
   "metadata": {},
   "outputs": [
    {
     "name": "stdout",
     "output_type": "stream",
     "text": [
      "-Solvate the pbc box\n",
      "solvate_box not launched IPH_water.pdb already exist\n"
     ]
    }
   ],
   "source": [
    "test.solvate_box(out_folder=os.path.join(DATA_OUT, 'mol_water_top'))"
   ]
  },
  {
   "cell_type": "code",
   "execution_count": 11,
   "metadata": {},
   "outputs": [
    {
     "name": "stdout",
     "output_type": "stream",
     "text": [
      "Mdp files not created, Init_em_IPH.mdp already exist\n",
      "-Create the tpr file Init_em_IPH.tpr\n",
      "create_tpr not launched Init_em_IPH.tpr already exist\n",
      "-Launch the simulation Init_em_IPH.tpr\n",
      "Simulation not launched Init_em_IPH.gro already exist\n",
      "Mdp files not created, IPH.mdp already exist\n",
      "-Create the tpr file IPH.tpr\n",
      "create_tpr not launched IPH.tpr already exist\n",
      "-Launch the simulation IPH.tpr\n",
      "Simulation not launched IPH.gro already exist\n"
     ]
    }
   ],
   "source": [
    "test.em_2_steps(out_folder=os.path.join(DATA_OUT, 'mol_water_em'),\n",
    "                  no_constr_nsteps=10000,\n",
    "                  constr_nsteps=10000,\n",
    "                  posres=\"\",\n",
    "                  emtol=0.1, nstxout=100, maxwarn=3,\n",
    "                  create_box_flag=False)"
   ]
  },
  {
   "cell_type": "code",
   "execution_count": 12,
   "metadata": {},
   "outputs": [
    {
     "name": "stdout",
     "output_type": "stream",
     "text": [
      "Mdp files not created, prod_short_equi.mdp already exist\n",
      "-Create the tpr file prod_short_equi.tpr\n",
      "create_tpr not launched prod_short_equi.tpr already exist\n",
      "-Launch the simulation prod_short_equi.tpr\n",
      "Simulation not launched prod_short_equi.gro already exist\n"
     ]
    }
   ],
   "source": [
    "mdp_options = {'tc-grps': 'System',\n",
    "               'tau_t': '0.1',\n",
    "               'ref_t' : '310',\n",
    "               }\n",
    "\n",
    "test.production(out_folder=os.path.join(DATA_OUT, 'mol_water_prod'),\n",
    "                name='short_equi',\n",
    "                nsteps=10000, dt=0.0005,\n",
    "                maxwarn=1, **mdp_options)"
   ]
  },
  {
   "cell_type": "code",
   "execution_count": 13,
   "metadata": {
    "scrolled": false
   },
   "outputs": [
    {
     "name": "stdout",
     "output_type": "stream",
     "text": [
      "Mdp files not created, prod_IPH.mdp already exist\n",
      "-Create the tpr file prod_IPH.tpr\n",
      "create_tpr not launched prod_IPH.tpr already exist\n",
      "-Launch the simulation prod_IPH.tpr\n",
      "Simulation not launched prod_IPH.gro already exist\n"
     ]
    }
   ],
   "source": [
    "test.production(out_folder=os.path.join(DATA_OUT, 'mol_water_prod'),\n",
    "                  nsteps=1000000,\n",
    "                  dt=0.002,maxwarn=1, **mdp_options)"
   ]
  },
  {
   "cell_type": "markdown",
   "metadata": {},
   "source": [
    "## Free energy calculation of solvation"
   ]
  },
  {
   "cell_type": "code",
   "execution_count": 16,
   "metadata": {},
   "outputs": [
    {
     "name": "stdout",
     "output_type": "stream",
     "text": [
      "Coulomb lambda :0.00 0.20 0.40 0.60 0.80 1.00 1.00 1.00 1.00 1.00 1.00 1.00 1.00 1.00 1.00 1.00 \n",
      "Vdw lambda     :0.00 0.00 0.00 0.00 0.00 0.00 0.10 0.20 0.30 0.40 0.50 0.60 0.70 0.80 0.90 1.00 \n",
      "bond_lambdas   :1.00 1.00 1.00 1.00 1.00 1.00 1.00 1.00 1.00 1.00 1.00 1.00 1.00 1.00 1.00 1.00 \n"
     ]
    },
    {
     "data": {
      "application/vnd.jupyter.widget-view+json": {
       "model_id": "266fd6754bf44548a1234ce80bdd75bb",
       "version_major": 2,
       "version_minor": 0
      },
      "text/plain": [
       "HBox(children=(FloatProgress(value=0.0, max=1040000.0), HTML(value='')))"
      ]
     },
     "metadata": {},
     "output_type": "display_data"
    },
    {
     "name": "stdout",
     "output_type": "stream",
     "text": [
      "-Create the tpr file em_IPH_vdwq_00.tpr\n",
      "gmx grompp -f em_IPH_vdwq_00.mdp -c ../../mol_water_prod/prod_IPH.gro -r ../../mol_water_prod/prod_IPH.gro -p ../../mol_water_top/IPH_water.top -po out_em_IPH_vdwq_00.mdp -o em_IPH_vdwq_00.tpr -maxwarn 1\n",
      "-Launch the simulation em_IPH_vdwq_00.tpr\n",
      "gmx mdrun -s em_IPH_vdwq_00.tpr -deffnm em_IPH_vdwq_00 -nt 0 -ntmpi 0 -nsteps -2 -nocopyright\n"
     ]
    },
    {
     "data": {
      "application/vnd.jupyter.widget-view+json": {
       "model_id": "ec8f57a1eaa648389646a3f013e70ed8",
       "version_major": 2,
       "version_minor": 0
      },
      "text/plain": [
       "HBox(children=(FloatProgress(value=0.0, max=5000.0), HTML(value='')))"
      ]
     },
     "metadata": {},
     "output_type": "display_data"
    },
    {
     "name": "stdout",
     "output_type": "stream",
     "text": [
      "\n",
      "-Create the tpr file nvt_IPH_vdwq_00.tpr\n",
      "gmx grompp -f nvt_IPH_vdwq_00.mdp -c ../00_em/em_IPH_vdwq_00.gro -r ../00_em/em_IPH_vdwq_00.gro -p ../../mol_water_top/IPH_water.top -po out_nvt_IPH_vdwq_00.mdp -o nvt_IPH_vdwq_00.tpr -maxwarn 1\n",
      "-Launch the simulation nvt_IPH_vdwq_00.tpr\n",
      "gmx mdrun -s nvt_IPH_vdwq_00.tpr -deffnm nvt_IPH_vdwq_00 -nt 0 -ntmpi 0 -nsteps -2 -nocopyright\n"
     ]
    },
    {
     "data": {
      "application/vnd.jupyter.widget-view+json": {
       "model_id": "1988d9a4e37f4311905987d132dd0415",
       "version_major": 2,
       "version_minor": 0
      },
      "text/plain": [
       "HBox(children=(FloatProgress(value=0.0, max=5000.0), HTML(value='')))"
      ]
     },
     "metadata": {},
     "output_type": "display_data"
    },
    {
     "name": "stdout",
     "output_type": "stream",
     "text": [
      "\n",
      "-Create the tpr file npt_IPH_vdwq_00.tpr\n",
      "gmx grompp -f npt_IPH_vdwq_00.mdp -c ../01_equi_nvt/nvt_IPH_vdwq_00.gro -r ../01_equi_nvt/nvt_IPH_vdwq_00.gro -p ../../mol_water_top/IPH_water.top -po out_npt_IPH_vdwq_00.mdp -o npt_IPH_vdwq_00.tpr -maxwarn 1\n",
      "-Launch the simulation npt_IPH_vdwq_00.tpr\n",
      "gmx mdrun -s npt_IPH_vdwq_00.tpr -deffnm npt_IPH_vdwq_00 -nt 0 -ntmpi 0 -nsteps -2 -nocopyright\n"
     ]
    },
    {
     "data": {
      "application/vnd.jupyter.widget-view+json": {
       "model_id": "e50be5fd4c354d4ab4e74bbfbe45f884",
       "version_major": 2,
       "version_minor": 0
      },
      "text/plain": [
       "HBox(children=(FloatProgress(value=0.0, max=5000.0), HTML(value='')))"
      ]
     },
     "metadata": {},
     "output_type": "display_data"
    },
    {
     "name": "stdout",
     "output_type": "stream",
     "text": [
      "\n",
      "-Create the tpr file prod_IPH_vdwq_00.tpr\n",
      "gmx grompp -f prod_IPH_vdwq_00.mdp -c ../02_equi_npt/npt_IPH_vdwq_00.gro -r ../02_equi_npt/npt_IPH_vdwq_00.gro -p ../../mol_water_top/IPH_water.top -po out_prod_IPH_vdwq_00.mdp -o prod_IPH_vdwq_00.tpr -maxwarn 1\n",
      "-Launch the simulation prod_IPH_vdwq_00.tpr\n",
      "gmx mdrun -s prod_IPH_vdwq_00.tpr -deffnm prod_IPH_vdwq_00 -nt 0 -ntmpi 0 -nsteps -2 -nocopyright\n"
     ]
    },
    {
     "data": {
      "application/vnd.jupyter.widget-view+json": {
       "model_id": "006dcd267bda4caaa5b3b95c6b7a6617",
       "version_major": 2,
       "version_minor": 0
      },
      "text/plain": [
       "HBox(children=(FloatProgress(value=0.0, max=50000.0), HTML(value='')))"
      ]
     },
     "metadata": {},
     "output_type": "display_data"
    },
    {
     "name": "stdout",
     "output_type": "stream",
     "text": [
      "\n",
      "-Create the tpr file em_IPH_vdwq_01.tpr\n",
      "gmx grompp -f em_IPH_vdwq_01.mdp -c ../../mol_water_prod/prod_IPH.gro -r ../../mol_water_prod/prod_IPH.gro -p ../../mol_water_top/IPH_water.top -po out_em_IPH_vdwq_01.mdp -o em_IPH_vdwq_01.tpr -maxwarn 1\n",
      "-Launch the simulation em_IPH_vdwq_01.tpr\n",
      "gmx mdrun -s em_IPH_vdwq_01.tpr -deffnm em_IPH_vdwq_01 -nt 0 -ntmpi 0 -nsteps -2 -nocopyright\n"
     ]
    },
    {
     "data": {
      "application/vnd.jupyter.widget-view+json": {
       "model_id": "a8408f04d5c04c108ccbcc7a83c4b250",
       "version_major": 2,
       "version_minor": 0
      },
      "text/plain": [
       "HBox(children=(FloatProgress(value=0.0, max=5000.0), HTML(value='')))"
      ]
     },
     "metadata": {},
     "output_type": "display_data"
    },
    {
     "name": "stdout",
     "output_type": "stream",
     "text": [
      "\n",
      "-Create the tpr file nvt_IPH_vdwq_01.tpr\n",
      "gmx grompp -f nvt_IPH_vdwq_01.mdp -c ../00_em/em_IPH_vdwq_01.gro -r ../00_em/em_IPH_vdwq_01.gro -p ../../mol_water_top/IPH_water.top -po out_nvt_IPH_vdwq_01.mdp -o nvt_IPH_vdwq_01.tpr -maxwarn 1\n",
      "-Launch the simulation nvt_IPH_vdwq_01.tpr\n",
      "gmx mdrun -s nvt_IPH_vdwq_01.tpr -deffnm nvt_IPH_vdwq_01 -nt 0 -ntmpi 0 -nsteps -2 -nocopyright\n"
     ]
    },
    {
     "data": {
      "application/vnd.jupyter.widget-view+json": {
       "model_id": "1773dc22d6d64415838d74a1ceb81f46",
       "version_major": 2,
       "version_minor": 0
      },
      "text/plain": [
       "HBox(children=(FloatProgress(value=0.0, max=5000.0), HTML(value='')))"
      ]
     },
     "metadata": {},
     "output_type": "display_data"
    },
    {
     "name": "stdout",
     "output_type": "stream",
     "text": [
      "\n",
      "-Create the tpr file npt_IPH_vdwq_01.tpr\n",
      "gmx grompp -f npt_IPH_vdwq_01.mdp -c ../01_equi_nvt/nvt_IPH_vdwq_01.gro -r ../01_equi_nvt/nvt_IPH_vdwq_01.gro -p ../../mol_water_top/IPH_water.top -po out_npt_IPH_vdwq_01.mdp -o npt_IPH_vdwq_01.tpr -maxwarn 1\n",
      "-Launch the simulation npt_IPH_vdwq_01.tpr\n",
      "gmx mdrun -s npt_IPH_vdwq_01.tpr -deffnm npt_IPH_vdwq_01 -nt 0 -ntmpi 0 -nsteps -2 -nocopyright\n"
     ]
    },
    {
     "data": {
      "application/vnd.jupyter.widget-view+json": {
       "model_id": "2c93c6db9c814624b863d0da8b7af35e",
       "version_major": 2,
       "version_minor": 0
      },
      "text/plain": [
       "HBox(children=(FloatProgress(value=0.0, max=5000.0), HTML(value='')))"
      ]
     },
     "metadata": {},
     "output_type": "display_data"
    },
    {
     "name": "stdout",
     "output_type": "stream",
     "text": [
      "\n",
      "-Create the tpr file prod_IPH_vdwq_01.tpr\n",
      "gmx grompp -f prod_IPH_vdwq_01.mdp -c ../02_equi_npt/npt_IPH_vdwq_01.gro -r ../02_equi_npt/npt_IPH_vdwq_01.gro -p ../../mol_water_top/IPH_water.top -po out_prod_IPH_vdwq_01.mdp -o prod_IPH_vdwq_01.tpr -maxwarn 1\n",
      "-Launch the simulation prod_IPH_vdwq_01.tpr\n",
      "gmx mdrun -s prod_IPH_vdwq_01.tpr -deffnm prod_IPH_vdwq_01 -nt 0 -ntmpi 0 -nsteps -2 -nocopyright\n"
     ]
    },
    {
     "data": {
      "application/vnd.jupyter.widget-view+json": {
       "model_id": "88887277870e4e0d8cbfc523a2d9c8b2",
       "version_major": 2,
       "version_minor": 0
      },
      "text/plain": [
       "HBox(children=(FloatProgress(value=0.0, max=50000.0), HTML(value='')))"
      ]
     },
     "metadata": {},
     "output_type": "display_data"
    },
    {
     "name": "stdout",
     "output_type": "stream",
     "text": [
      "\n",
      "-Create the tpr file em_IPH_vdwq_02.tpr\n",
      "gmx grompp -f em_IPH_vdwq_02.mdp -c ../../mol_water_prod/prod_IPH.gro -r ../../mol_water_prod/prod_IPH.gro -p ../../mol_water_top/IPH_water.top -po out_em_IPH_vdwq_02.mdp -o em_IPH_vdwq_02.tpr -maxwarn 1\n",
      "-Launch the simulation em_IPH_vdwq_02.tpr\n",
      "gmx mdrun -s em_IPH_vdwq_02.tpr -deffnm em_IPH_vdwq_02 -nt 0 -ntmpi 0 -nsteps -2 -nocopyright\n"
     ]
    },
    {
     "data": {
      "application/vnd.jupyter.widget-view+json": {
       "model_id": "71b7cc739f6c44009af334f524395fab",
       "version_major": 2,
       "version_minor": 0
      },
      "text/plain": [
       "HBox(children=(FloatProgress(value=0.0, max=5000.0), HTML(value='')))"
      ]
     },
     "metadata": {},
     "output_type": "display_data"
    },
    {
     "name": "stdout",
     "output_type": "stream",
     "text": [
      "\n",
      "-Create the tpr file nvt_IPH_vdwq_02.tpr\n",
      "gmx grompp -f nvt_IPH_vdwq_02.mdp -c ../00_em/em_IPH_vdwq_02.gro -r ../00_em/em_IPH_vdwq_02.gro -p ../../mol_water_top/IPH_water.top -po out_nvt_IPH_vdwq_02.mdp -o nvt_IPH_vdwq_02.tpr -maxwarn 1\n",
      "-Launch the simulation nvt_IPH_vdwq_02.tpr\n",
      "gmx mdrun -s nvt_IPH_vdwq_02.tpr -deffnm nvt_IPH_vdwq_02 -nt 0 -ntmpi 0 -nsteps -2 -nocopyright\n"
     ]
    },
    {
     "data": {
      "application/vnd.jupyter.widget-view+json": {
       "model_id": "7d95d3cc3a5f4b7caadc8c5ffb0e9a01",
       "version_major": 2,
       "version_minor": 0
      },
      "text/plain": [
       "HBox(children=(FloatProgress(value=0.0, max=5000.0), HTML(value='')))"
      ]
     },
     "metadata": {},
     "output_type": "display_data"
    },
    {
     "name": "stdout",
     "output_type": "stream",
     "text": [
      "\n",
      "-Create the tpr file npt_IPH_vdwq_02.tpr\n",
      "gmx grompp -f npt_IPH_vdwq_02.mdp -c ../01_equi_nvt/nvt_IPH_vdwq_02.gro -r ../01_equi_nvt/nvt_IPH_vdwq_02.gro -p ../../mol_water_top/IPH_water.top -po out_npt_IPH_vdwq_02.mdp -o npt_IPH_vdwq_02.tpr -maxwarn 1\n",
      "-Launch the simulation npt_IPH_vdwq_02.tpr\n",
      "gmx mdrun -s npt_IPH_vdwq_02.tpr -deffnm npt_IPH_vdwq_02 -nt 0 -ntmpi 0 -nsteps -2 -nocopyright\n"
     ]
    },
    {
     "data": {
      "application/vnd.jupyter.widget-view+json": {
       "model_id": "9578ae8d4cfc4fbeb7a050ab18c9fc9a",
       "version_major": 2,
       "version_minor": 0
      },
      "text/plain": [
       "HBox(children=(FloatProgress(value=0.0, max=5000.0), HTML(value='')))"
      ]
     },
     "metadata": {},
     "output_type": "display_data"
    },
    {
     "name": "stdout",
     "output_type": "stream",
     "text": [
      "\n",
      "-Create the tpr file prod_IPH_vdwq_02.tpr\n",
      "gmx grompp -f prod_IPH_vdwq_02.mdp -c ../02_equi_npt/npt_IPH_vdwq_02.gro -r ../02_equi_npt/npt_IPH_vdwq_02.gro -p ../../mol_water_top/IPH_water.top -po out_prod_IPH_vdwq_02.mdp -o prod_IPH_vdwq_02.tpr -maxwarn 1\n",
      "-Launch the simulation prod_IPH_vdwq_02.tpr\n",
      "gmx mdrun -s prod_IPH_vdwq_02.tpr -deffnm prod_IPH_vdwq_02 -nt 0 -ntmpi 0 -nsteps -2 -nocopyright\n"
     ]
    },
    {
     "data": {
      "application/vnd.jupyter.widget-view+json": {
       "model_id": "ed5e31a2bb3c4260af6dedb1305a7fd6",
       "version_major": 2,
       "version_minor": 0
      },
      "text/plain": [
       "HBox(children=(FloatProgress(value=0.0, max=50000.0), HTML(value='')))"
      ]
     },
     "metadata": {},
     "output_type": "display_data"
    },
    {
     "name": "stdout",
     "output_type": "stream",
     "text": [
      "\n",
      "-Create the tpr file em_IPH_vdwq_03.tpr\n",
      "gmx grompp -f em_IPH_vdwq_03.mdp -c ../../mol_water_prod/prod_IPH.gro -r ../../mol_water_prod/prod_IPH.gro -p ../../mol_water_top/IPH_water.top -po out_em_IPH_vdwq_03.mdp -o em_IPH_vdwq_03.tpr -maxwarn 1\n",
      "-Launch the simulation em_IPH_vdwq_03.tpr\n",
      "gmx mdrun -s em_IPH_vdwq_03.tpr -deffnm em_IPH_vdwq_03 -nt 0 -ntmpi 0 -nsteps -2 -nocopyright\n"
     ]
    },
    {
     "data": {
      "application/vnd.jupyter.widget-view+json": {
       "model_id": "4b062efae4d84f84938740e8b4e5fdc6",
       "version_major": 2,
       "version_minor": 0
      },
      "text/plain": [
       "HBox(children=(FloatProgress(value=0.0, max=5000.0), HTML(value='')))"
      ]
     },
     "metadata": {},
     "output_type": "display_data"
    },
    {
     "name": "stdout",
     "output_type": "stream",
     "text": [
      "\n",
      "-Create the tpr file nvt_IPH_vdwq_03.tpr\n",
      "gmx grompp -f nvt_IPH_vdwq_03.mdp -c ../00_em/em_IPH_vdwq_03.gro -r ../00_em/em_IPH_vdwq_03.gro -p ../../mol_water_top/IPH_water.top -po out_nvt_IPH_vdwq_03.mdp -o nvt_IPH_vdwq_03.tpr -maxwarn 1\n",
      "-Launch the simulation nvt_IPH_vdwq_03.tpr\n",
      "gmx mdrun -s nvt_IPH_vdwq_03.tpr -deffnm nvt_IPH_vdwq_03 -nt 0 -ntmpi 0 -nsteps -2 -nocopyright\n"
     ]
    },
    {
     "data": {
      "application/vnd.jupyter.widget-view+json": {
       "model_id": "cad0b5ec02c644cca57bd9214123f74e",
       "version_major": 2,
       "version_minor": 0
      },
      "text/plain": [
       "HBox(children=(FloatProgress(value=0.0, max=5000.0), HTML(value='')))"
      ]
     },
     "metadata": {},
     "output_type": "display_data"
    },
    {
     "name": "stdout",
     "output_type": "stream",
     "text": [
      "\n",
      "-Create the tpr file npt_IPH_vdwq_03.tpr\n",
      "gmx grompp -f npt_IPH_vdwq_03.mdp -c ../01_equi_nvt/nvt_IPH_vdwq_03.gro -r ../01_equi_nvt/nvt_IPH_vdwq_03.gro -p ../../mol_water_top/IPH_water.top -po out_npt_IPH_vdwq_03.mdp -o npt_IPH_vdwq_03.tpr -maxwarn 1\n",
      "-Launch the simulation npt_IPH_vdwq_03.tpr\n",
      "gmx mdrun -s npt_IPH_vdwq_03.tpr -deffnm npt_IPH_vdwq_03 -nt 0 -ntmpi 0 -nsteps -2 -nocopyright\n"
     ]
    },
    {
     "data": {
      "application/vnd.jupyter.widget-view+json": {
       "model_id": "797aaa55df844196bb8bb4491198b2dc",
       "version_major": 2,
       "version_minor": 0
      },
      "text/plain": [
       "HBox(children=(FloatProgress(value=0.0, max=5000.0), HTML(value='')))"
      ]
     },
     "metadata": {},
     "output_type": "display_data"
    },
    {
     "name": "stdout",
     "output_type": "stream",
     "text": [
      "\n",
      "-Create the tpr file prod_IPH_vdwq_03.tpr\n",
      "gmx grompp -f prod_IPH_vdwq_03.mdp -c ../02_equi_npt/npt_IPH_vdwq_03.gro -r ../02_equi_npt/npt_IPH_vdwq_03.gro -p ../../mol_water_top/IPH_water.top -po out_prod_IPH_vdwq_03.mdp -o prod_IPH_vdwq_03.tpr -maxwarn 1\n",
      "-Launch the simulation prod_IPH_vdwq_03.tpr\n",
      "gmx mdrun -s prod_IPH_vdwq_03.tpr -deffnm prod_IPH_vdwq_03 -nt 0 -ntmpi 0 -nsteps -2 -nocopyright\n"
     ]
    },
    {
     "data": {
      "application/vnd.jupyter.widget-view+json": {
       "model_id": "a14039d58c8a49ef82c1bf27691aa1a1",
       "version_major": 2,
       "version_minor": 0
      },
      "text/plain": [
       "HBox(children=(FloatProgress(value=0.0, max=50000.0), HTML(value='')))"
      ]
     },
     "metadata": {},
     "output_type": "display_data"
    },
    {
     "name": "stdout",
     "output_type": "stream",
     "text": [
      "\n",
      "-Create the tpr file em_IPH_vdwq_04.tpr\n",
      "gmx grompp -f em_IPH_vdwq_04.mdp -c ../../mol_water_prod/prod_IPH.gro -r ../../mol_water_prod/prod_IPH.gro -p ../../mol_water_top/IPH_water.top -po out_em_IPH_vdwq_04.mdp -o em_IPH_vdwq_04.tpr -maxwarn 1\n",
      "-Launch the simulation em_IPH_vdwq_04.tpr\n",
      "gmx mdrun -s em_IPH_vdwq_04.tpr -deffnm em_IPH_vdwq_04 -nt 0 -ntmpi 0 -nsteps -2 -nocopyright\n"
     ]
    },
    {
     "data": {
      "application/vnd.jupyter.widget-view+json": {
       "model_id": "3e514427f8d34f43a964550ec5cca33c",
       "version_major": 2,
       "version_minor": 0
      },
      "text/plain": [
       "HBox(children=(FloatProgress(value=0.0, max=5000.0), HTML(value='')))"
      ]
     },
     "metadata": {},
     "output_type": "display_data"
    },
    {
     "name": "stdout",
     "output_type": "stream",
     "text": [
      "\n",
      "-Create the tpr file nvt_IPH_vdwq_04.tpr\n",
      "gmx grompp -f nvt_IPH_vdwq_04.mdp -c ../00_em/em_IPH_vdwq_04.gro -r ../00_em/em_IPH_vdwq_04.gro -p ../../mol_water_top/IPH_water.top -po out_nvt_IPH_vdwq_04.mdp -o nvt_IPH_vdwq_04.tpr -maxwarn 1\n",
      "-Launch the simulation nvt_IPH_vdwq_04.tpr\n",
      "gmx mdrun -s nvt_IPH_vdwq_04.tpr -deffnm nvt_IPH_vdwq_04 -nt 0 -ntmpi 0 -nsteps -2 -nocopyright\n"
     ]
    },
    {
     "data": {
      "application/vnd.jupyter.widget-view+json": {
       "model_id": "5004237bc9ff4595ad40f28d2b202dd8",
       "version_major": 2,
       "version_minor": 0
      },
      "text/plain": [
       "HBox(children=(FloatProgress(value=0.0, max=5000.0), HTML(value='')))"
      ]
     },
     "metadata": {},
     "output_type": "display_data"
    },
    {
     "name": "stdout",
     "output_type": "stream",
     "text": [
      "\n",
      "-Create the tpr file npt_IPH_vdwq_04.tpr\n",
      "gmx grompp -f npt_IPH_vdwq_04.mdp -c ../01_equi_nvt/nvt_IPH_vdwq_04.gro -r ../01_equi_nvt/nvt_IPH_vdwq_04.gro -p ../../mol_water_top/IPH_water.top -po out_npt_IPH_vdwq_04.mdp -o npt_IPH_vdwq_04.tpr -maxwarn 1\n",
      "-Launch the simulation npt_IPH_vdwq_04.tpr\n",
      "gmx mdrun -s npt_IPH_vdwq_04.tpr -deffnm npt_IPH_vdwq_04 -nt 0 -ntmpi 0 -nsteps -2 -nocopyright\n"
     ]
    },
    {
     "data": {
      "application/vnd.jupyter.widget-view+json": {
       "model_id": "9f3d1336c965409386de43e555185ccc",
       "version_major": 2,
       "version_minor": 0
      },
      "text/plain": [
       "HBox(children=(FloatProgress(value=0.0, max=5000.0), HTML(value='')))"
      ]
     },
     "metadata": {},
     "output_type": "display_data"
    },
    {
     "name": "stdout",
     "output_type": "stream",
     "text": [
      "\n",
      "-Create the tpr file prod_IPH_vdwq_04.tpr\n",
      "gmx grompp -f prod_IPH_vdwq_04.mdp -c ../02_equi_npt/npt_IPH_vdwq_04.gro -r ../02_equi_npt/npt_IPH_vdwq_04.gro -p ../../mol_water_top/IPH_water.top -po out_prod_IPH_vdwq_04.mdp -o prod_IPH_vdwq_04.tpr -maxwarn 1\n",
      "-Launch the simulation prod_IPH_vdwq_04.tpr\n",
      "gmx mdrun -s prod_IPH_vdwq_04.tpr -deffnm prod_IPH_vdwq_04 -nt 0 -ntmpi 0 -nsteps -2 -nocopyright\n"
     ]
    },
    {
     "data": {
      "application/vnd.jupyter.widget-view+json": {
       "model_id": "135f00bdf70b4ed18d8ed7e5957853c4",
       "version_major": 2,
       "version_minor": 0
      },
      "text/plain": [
       "HBox(children=(FloatProgress(value=0.0, max=50000.0), HTML(value='')))"
      ]
     },
     "metadata": {},
     "output_type": "display_data"
    },
    {
     "name": "stdout",
     "output_type": "stream",
     "text": [
      "\n",
      "-Create the tpr file em_IPH_vdwq_05.tpr\n",
      "gmx grompp -f em_IPH_vdwq_05.mdp -c ../../mol_water_prod/prod_IPH.gro -r ../../mol_water_prod/prod_IPH.gro -p ../../mol_water_top/IPH_water.top -po out_em_IPH_vdwq_05.mdp -o em_IPH_vdwq_05.tpr -maxwarn 1\n",
      "-Launch the simulation em_IPH_vdwq_05.tpr\n",
      "gmx mdrun -s em_IPH_vdwq_05.tpr -deffnm em_IPH_vdwq_05 -nt 0 -ntmpi 0 -nsteps -2 -nocopyright\n"
     ]
    },
    {
     "data": {
      "application/vnd.jupyter.widget-view+json": {
       "model_id": "796629306e1c43b6a6e8444c780c39c0",
       "version_major": 2,
       "version_minor": 0
      },
      "text/plain": [
       "HBox(children=(FloatProgress(value=0.0, max=5000.0), HTML(value='')))"
      ]
     },
     "metadata": {},
     "output_type": "display_data"
    },
    {
     "name": "stdout",
     "output_type": "stream",
     "text": [
      "\n",
      "-Create the tpr file nvt_IPH_vdwq_05.tpr\n",
      "gmx grompp -f nvt_IPH_vdwq_05.mdp -c ../00_em/em_IPH_vdwq_05.gro -r ../00_em/em_IPH_vdwq_05.gro -p ../../mol_water_top/IPH_water.top -po out_nvt_IPH_vdwq_05.mdp -o nvt_IPH_vdwq_05.tpr -maxwarn 1\n",
      "-Launch the simulation nvt_IPH_vdwq_05.tpr\n",
      "gmx mdrun -s nvt_IPH_vdwq_05.tpr -deffnm nvt_IPH_vdwq_05 -nt 0 -ntmpi 0 -nsteps -2 -nocopyright\n"
     ]
    },
    {
     "data": {
      "application/vnd.jupyter.widget-view+json": {
       "model_id": "1f5b189bdaa94e01858df44ecb72cc06",
       "version_major": 2,
       "version_minor": 0
      },
      "text/plain": [
       "HBox(children=(FloatProgress(value=0.0, max=5000.0), HTML(value='')))"
      ]
     },
     "metadata": {},
     "output_type": "display_data"
    },
    {
     "name": "stdout",
     "output_type": "stream",
     "text": [
      "\n",
      "-Create the tpr file npt_IPH_vdwq_05.tpr\n",
      "gmx grompp -f npt_IPH_vdwq_05.mdp -c ../01_equi_nvt/nvt_IPH_vdwq_05.gro -r ../01_equi_nvt/nvt_IPH_vdwq_05.gro -p ../../mol_water_top/IPH_water.top -po out_npt_IPH_vdwq_05.mdp -o npt_IPH_vdwq_05.tpr -maxwarn 1\n",
      "-Launch the simulation npt_IPH_vdwq_05.tpr\n",
      "gmx mdrun -s npt_IPH_vdwq_05.tpr -deffnm npt_IPH_vdwq_05 -nt 0 -ntmpi 0 -nsteps -2 -nocopyright\n"
     ]
    },
    {
     "data": {
      "application/vnd.jupyter.widget-view+json": {
       "model_id": "917de0e662b94ff880c36e0aab6d2758",
       "version_major": 2,
       "version_minor": 0
      },
      "text/plain": [
       "HBox(children=(FloatProgress(value=0.0, max=5000.0), HTML(value='')))"
      ]
     },
     "metadata": {},
     "output_type": "display_data"
    },
    {
     "name": "stdout",
     "output_type": "stream",
     "text": [
      "\n",
      "-Create the tpr file prod_IPH_vdwq_05.tpr\n",
      "gmx grompp -f prod_IPH_vdwq_05.mdp -c ../02_equi_npt/npt_IPH_vdwq_05.gro -r ../02_equi_npt/npt_IPH_vdwq_05.gro -p ../../mol_water_top/IPH_water.top -po out_prod_IPH_vdwq_05.mdp -o prod_IPH_vdwq_05.tpr -maxwarn 1\n",
      "-Launch the simulation prod_IPH_vdwq_05.tpr\n",
      "gmx mdrun -s prod_IPH_vdwq_05.tpr -deffnm prod_IPH_vdwq_05 -nt 0 -ntmpi 0 -nsteps -2 -nocopyright\n"
     ]
    },
    {
     "data": {
      "application/vnd.jupyter.widget-view+json": {
       "model_id": "bd3205b741b041b5b9c03b4fc1b663b4",
       "version_major": 2,
       "version_minor": 0
      },
      "text/plain": [
       "HBox(children=(FloatProgress(value=0.0, max=50000.0), HTML(value='')))"
      ]
     },
     "metadata": {},
     "output_type": "display_data"
    },
    {
     "name": "stdout",
     "output_type": "stream",
     "text": [
      "\n",
      "-Create the tpr file em_IPH_vdwq_06.tpr\n",
      "gmx grompp -f em_IPH_vdwq_06.mdp -c ../../mol_water_prod/prod_IPH.gro -r ../../mol_water_prod/prod_IPH.gro -p ../../mol_water_top/IPH_water.top -po out_em_IPH_vdwq_06.mdp -o em_IPH_vdwq_06.tpr -maxwarn 1\n",
      "-Launch the simulation em_IPH_vdwq_06.tpr\n",
      "gmx mdrun -s em_IPH_vdwq_06.tpr -deffnm em_IPH_vdwq_06 -nt 0 -ntmpi 0 -nsteps -2 -nocopyright\n"
     ]
    },
    {
     "data": {
      "application/vnd.jupyter.widget-view+json": {
       "model_id": "92762e6229864028beab13e804e73082",
       "version_major": 2,
       "version_minor": 0
      },
      "text/plain": [
       "HBox(children=(FloatProgress(value=0.0, max=5000.0), HTML(value='')))"
      ]
     },
     "metadata": {},
     "output_type": "display_data"
    },
    {
     "name": "stdout",
     "output_type": "stream",
     "text": [
      "\n",
      "-Create the tpr file nvt_IPH_vdwq_06.tpr\n",
      "gmx grompp -f nvt_IPH_vdwq_06.mdp -c ../00_em/em_IPH_vdwq_06.gro -r ../00_em/em_IPH_vdwq_06.gro -p ../../mol_water_top/IPH_water.top -po out_nvt_IPH_vdwq_06.mdp -o nvt_IPH_vdwq_06.tpr -maxwarn 1\n",
      "-Launch the simulation nvt_IPH_vdwq_06.tpr\n",
      "gmx mdrun -s nvt_IPH_vdwq_06.tpr -deffnm nvt_IPH_vdwq_06 -nt 0 -ntmpi 0 -nsteps -2 -nocopyright\n"
     ]
    },
    {
     "data": {
      "application/vnd.jupyter.widget-view+json": {
       "model_id": "9239368d5ccd4482ba7cad6eba6ee018",
       "version_major": 2,
       "version_minor": 0
      },
      "text/plain": [
       "HBox(children=(FloatProgress(value=0.0, max=5000.0), HTML(value='')))"
      ]
     },
     "metadata": {},
     "output_type": "display_data"
    },
    {
     "name": "stdout",
     "output_type": "stream",
     "text": [
      "\n",
      "-Create the tpr file npt_IPH_vdwq_06.tpr\n",
      "gmx grompp -f npt_IPH_vdwq_06.mdp -c ../01_equi_nvt/nvt_IPH_vdwq_06.gro -r ../01_equi_nvt/nvt_IPH_vdwq_06.gro -p ../../mol_water_top/IPH_water.top -po out_npt_IPH_vdwq_06.mdp -o npt_IPH_vdwq_06.tpr -maxwarn 1\n",
      "-Launch the simulation npt_IPH_vdwq_06.tpr\n",
      "gmx mdrun -s npt_IPH_vdwq_06.tpr -deffnm npt_IPH_vdwq_06 -nt 0 -ntmpi 0 -nsteps -2 -nocopyright\n"
     ]
    },
    {
     "data": {
      "application/vnd.jupyter.widget-view+json": {
       "model_id": "07b855a494ab4fd8b267c7baf11d2a21",
       "version_major": 2,
       "version_minor": 0
      },
      "text/plain": [
       "HBox(children=(FloatProgress(value=0.0, max=5000.0), HTML(value='')))"
      ]
     },
     "metadata": {},
     "output_type": "display_data"
    },
    {
     "name": "stdout",
     "output_type": "stream",
     "text": [
      "\n",
      "-Create the tpr file prod_IPH_vdwq_06.tpr\n",
      "gmx grompp -f prod_IPH_vdwq_06.mdp -c ../02_equi_npt/npt_IPH_vdwq_06.gro -r ../02_equi_npt/npt_IPH_vdwq_06.gro -p ../../mol_water_top/IPH_water.top -po out_prod_IPH_vdwq_06.mdp -o prod_IPH_vdwq_06.tpr -maxwarn 1\n",
      "-Launch the simulation prod_IPH_vdwq_06.tpr\n",
      "gmx mdrun -s prod_IPH_vdwq_06.tpr -deffnm prod_IPH_vdwq_06 -nt 0 -ntmpi 0 -nsteps -2 -nocopyright\n"
     ]
    },
    {
     "data": {
      "application/vnd.jupyter.widget-view+json": {
       "model_id": "f8294de191334522bdc4f1daf8cfbae8",
       "version_major": 2,
       "version_minor": 0
      },
      "text/plain": [
       "HBox(children=(FloatProgress(value=0.0, max=50000.0), HTML(value='')))"
      ]
     },
     "metadata": {},
     "output_type": "display_data"
    },
    {
     "name": "stdout",
     "output_type": "stream",
     "text": [
      "\n",
      "-Create the tpr file em_IPH_vdwq_07.tpr\n",
      "gmx grompp -f em_IPH_vdwq_07.mdp -c ../../mol_water_prod/prod_IPH.gro -r ../../mol_water_prod/prod_IPH.gro -p ../../mol_water_top/IPH_water.top -po out_em_IPH_vdwq_07.mdp -o em_IPH_vdwq_07.tpr -maxwarn 1\n",
      "-Launch the simulation em_IPH_vdwq_07.tpr\n",
      "gmx mdrun -s em_IPH_vdwq_07.tpr -deffnm em_IPH_vdwq_07 -nt 0 -ntmpi 0 -nsteps -2 -nocopyright\n"
     ]
    },
    {
     "data": {
      "application/vnd.jupyter.widget-view+json": {
       "model_id": "5af2d0563e9c4dc89b313a7cfd639a2c",
       "version_major": 2,
       "version_minor": 0
      },
      "text/plain": [
       "HBox(children=(FloatProgress(value=0.0, max=5000.0), HTML(value='')))"
      ]
     },
     "metadata": {},
     "output_type": "display_data"
    },
    {
     "name": "stdout",
     "output_type": "stream",
     "text": [
      "\n",
      "-Create the tpr file nvt_IPH_vdwq_07.tpr\n",
      "gmx grompp -f nvt_IPH_vdwq_07.mdp -c ../00_em/em_IPH_vdwq_07.gro -r ../00_em/em_IPH_vdwq_07.gro -p ../../mol_water_top/IPH_water.top -po out_nvt_IPH_vdwq_07.mdp -o nvt_IPH_vdwq_07.tpr -maxwarn 1\n",
      "-Launch the simulation nvt_IPH_vdwq_07.tpr\n",
      "gmx mdrun -s nvt_IPH_vdwq_07.tpr -deffnm nvt_IPH_vdwq_07 -nt 0 -ntmpi 0 -nsteps -2 -nocopyright\n"
     ]
    },
    {
     "data": {
      "application/vnd.jupyter.widget-view+json": {
       "model_id": "d36cc1b5cb9545e0943d6d4697b323b7",
       "version_major": 2,
       "version_minor": 0
      },
      "text/plain": [
       "HBox(children=(FloatProgress(value=0.0, max=5000.0), HTML(value='')))"
      ]
     },
     "metadata": {},
     "output_type": "display_data"
    },
    {
     "name": "stdout",
     "output_type": "stream",
     "text": [
      "\n",
      "-Create the tpr file npt_IPH_vdwq_07.tpr\n",
      "gmx grompp -f npt_IPH_vdwq_07.mdp -c ../01_equi_nvt/nvt_IPH_vdwq_07.gro -r ../01_equi_nvt/nvt_IPH_vdwq_07.gro -p ../../mol_water_top/IPH_water.top -po out_npt_IPH_vdwq_07.mdp -o npt_IPH_vdwq_07.tpr -maxwarn 1\n",
      "-Launch the simulation npt_IPH_vdwq_07.tpr\n",
      "gmx mdrun -s npt_IPH_vdwq_07.tpr -deffnm npt_IPH_vdwq_07 -nt 0 -ntmpi 0 -nsteps -2 -nocopyright\n"
     ]
    },
    {
     "data": {
      "application/vnd.jupyter.widget-view+json": {
       "model_id": "1e1298b6caa443a1bea64c7793f6d5dc",
       "version_major": 2,
       "version_minor": 0
      },
      "text/plain": [
       "HBox(children=(FloatProgress(value=0.0, max=5000.0), HTML(value='')))"
      ]
     },
     "metadata": {},
     "output_type": "display_data"
    },
    {
     "name": "stdout",
     "output_type": "stream",
     "text": [
      "\n",
      "-Create the tpr file prod_IPH_vdwq_07.tpr\n",
      "gmx grompp -f prod_IPH_vdwq_07.mdp -c ../02_equi_npt/npt_IPH_vdwq_07.gro -r ../02_equi_npt/npt_IPH_vdwq_07.gro -p ../../mol_water_top/IPH_water.top -po out_prod_IPH_vdwq_07.mdp -o prod_IPH_vdwq_07.tpr -maxwarn 1\n",
      "-Launch the simulation prod_IPH_vdwq_07.tpr\n",
      "gmx mdrun -s prod_IPH_vdwq_07.tpr -deffnm prod_IPH_vdwq_07 -nt 0 -ntmpi 0 -nsteps -2 -nocopyright\n"
     ]
    },
    {
     "data": {
      "application/vnd.jupyter.widget-view+json": {
       "model_id": "9fbec56406e44e43be5226b707d1f406",
       "version_major": 2,
       "version_minor": 0
      },
      "text/plain": [
       "HBox(children=(FloatProgress(value=0.0, max=50000.0), HTML(value='')))"
      ]
     },
     "metadata": {},
     "output_type": "display_data"
    },
    {
     "name": "stdout",
     "output_type": "stream",
     "text": [
      "\n",
      "-Create the tpr file em_IPH_vdwq_08.tpr\n",
      "gmx grompp -f em_IPH_vdwq_08.mdp -c ../../mol_water_prod/prod_IPH.gro -r ../../mol_water_prod/prod_IPH.gro -p ../../mol_water_top/IPH_water.top -po out_em_IPH_vdwq_08.mdp -o em_IPH_vdwq_08.tpr -maxwarn 1\n",
      "-Launch the simulation em_IPH_vdwq_08.tpr\n",
      "gmx mdrun -s em_IPH_vdwq_08.tpr -deffnm em_IPH_vdwq_08 -nt 0 -ntmpi 0 -nsteps -2 -nocopyright\n"
     ]
    },
    {
     "data": {
      "application/vnd.jupyter.widget-view+json": {
       "model_id": "8a11a887b564455fbde04e4f0bb7c6f4",
       "version_major": 2,
       "version_minor": 0
      },
      "text/plain": [
       "HBox(children=(FloatProgress(value=0.0, max=5000.0), HTML(value='')))"
      ]
     },
     "metadata": {},
     "output_type": "display_data"
    },
    {
     "name": "stdout",
     "output_type": "stream",
     "text": [
      "\n",
      "-Create the tpr file nvt_IPH_vdwq_08.tpr\n",
      "gmx grompp -f nvt_IPH_vdwq_08.mdp -c ../00_em/em_IPH_vdwq_08.gro -r ../00_em/em_IPH_vdwq_08.gro -p ../../mol_water_top/IPH_water.top -po out_nvt_IPH_vdwq_08.mdp -o nvt_IPH_vdwq_08.tpr -maxwarn 1\n",
      "-Launch the simulation nvt_IPH_vdwq_08.tpr\n",
      "gmx mdrun -s nvt_IPH_vdwq_08.tpr -deffnm nvt_IPH_vdwq_08 -nt 0 -ntmpi 0 -nsteps -2 -nocopyright\n"
     ]
    },
    {
     "data": {
      "application/vnd.jupyter.widget-view+json": {
       "model_id": "fe5d0b6a5dea4a15a19b526530d4e968",
       "version_major": 2,
       "version_minor": 0
      },
      "text/plain": [
       "HBox(children=(FloatProgress(value=0.0, max=5000.0), HTML(value='')))"
      ]
     },
     "metadata": {},
     "output_type": "display_data"
    },
    {
     "name": "stdout",
     "output_type": "stream",
     "text": [
      "\n",
      "-Create the tpr file npt_IPH_vdwq_08.tpr\n",
      "gmx grompp -f npt_IPH_vdwq_08.mdp -c ../01_equi_nvt/nvt_IPH_vdwq_08.gro -r ../01_equi_nvt/nvt_IPH_vdwq_08.gro -p ../../mol_water_top/IPH_water.top -po out_npt_IPH_vdwq_08.mdp -o npt_IPH_vdwq_08.tpr -maxwarn 1\n",
      "-Launch the simulation npt_IPH_vdwq_08.tpr\n",
      "gmx mdrun -s npt_IPH_vdwq_08.tpr -deffnm npt_IPH_vdwq_08 -nt 0 -ntmpi 0 -nsteps -2 -nocopyright\n"
     ]
    },
    {
     "data": {
      "application/vnd.jupyter.widget-view+json": {
       "model_id": "5749f316cb4b498b9f621390a9d80689",
       "version_major": 2,
       "version_minor": 0
      },
      "text/plain": [
       "HBox(children=(FloatProgress(value=0.0, max=5000.0), HTML(value='')))"
      ]
     },
     "metadata": {},
     "output_type": "display_data"
    },
    {
     "name": "stdout",
     "output_type": "stream",
     "text": [
      "\n",
      "-Create the tpr file prod_IPH_vdwq_08.tpr\n",
      "gmx grompp -f prod_IPH_vdwq_08.mdp -c ../02_equi_npt/npt_IPH_vdwq_08.gro -r ../02_equi_npt/npt_IPH_vdwq_08.gro -p ../../mol_water_top/IPH_water.top -po out_prod_IPH_vdwq_08.mdp -o prod_IPH_vdwq_08.tpr -maxwarn 1\n",
      "-Launch the simulation prod_IPH_vdwq_08.tpr\n",
      "gmx mdrun -s prod_IPH_vdwq_08.tpr -deffnm prod_IPH_vdwq_08 -nt 0 -ntmpi 0 -nsteps -2 -nocopyright\n"
     ]
    },
    {
     "data": {
      "application/vnd.jupyter.widget-view+json": {
       "model_id": "aa1b72bf7860431c8db115ba8e09859e",
       "version_major": 2,
       "version_minor": 0
      },
      "text/plain": [
       "HBox(children=(FloatProgress(value=0.0, max=50000.0), HTML(value='')))"
      ]
     },
     "metadata": {},
     "output_type": "display_data"
    },
    {
     "name": "stdout",
     "output_type": "stream",
     "text": [
      "\n",
      "-Create the tpr file em_IPH_vdwq_09.tpr\n",
      "gmx grompp -f em_IPH_vdwq_09.mdp -c ../../mol_water_prod/prod_IPH.gro -r ../../mol_water_prod/prod_IPH.gro -p ../../mol_water_top/IPH_water.top -po out_em_IPH_vdwq_09.mdp -o em_IPH_vdwq_09.tpr -maxwarn 1\n",
      "-Launch the simulation em_IPH_vdwq_09.tpr\n",
      "gmx mdrun -s em_IPH_vdwq_09.tpr -deffnm em_IPH_vdwq_09 -nt 0 -ntmpi 0 -nsteps -2 -nocopyright\n"
     ]
    },
    {
     "data": {
      "application/vnd.jupyter.widget-view+json": {
       "model_id": "409d06f84a444ebe826fb30c79b2b6fe",
       "version_major": 2,
       "version_minor": 0
      },
      "text/plain": [
       "HBox(children=(FloatProgress(value=0.0, max=5000.0), HTML(value='')))"
      ]
     },
     "metadata": {},
     "output_type": "display_data"
    },
    {
     "name": "stdout",
     "output_type": "stream",
     "text": [
      "\n",
      "-Create the tpr file nvt_IPH_vdwq_09.tpr\n",
      "gmx grompp -f nvt_IPH_vdwq_09.mdp -c ../00_em/em_IPH_vdwq_09.gro -r ../00_em/em_IPH_vdwq_09.gro -p ../../mol_water_top/IPH_water.top -po out_nvt_IPH_vdwq_09.mdp -o nvt_IPH_vdwq_09.tpr -maxwarn 1\n",
      "-Launch the simulation nvt_IPH_vdwq_09.tpr\n",
      "gmx mdrun -s nvt_IPH_vdwq_09.tpr -deffnm nvt_IPH_vdwq_09 -nt 0 -ntmpi 0 -nsteps -2 -nocopyright\n"
     ]
    },
    {
     "data": {
      "application/vnd.jupyter.widget-view+json": {
       "model_id": "b830f7e74688463aa999d2604ce19740",
       "version_major": 2,
       "version_minor": 0
      },
      "text/plain": [
       "HBox(children=(FloatProgress(value=0.0, max=5000.0), HTML(value='')))"
      ]
     },
     "metadata": {},
     "output_type": "display_data"
    },
    {
     "name": "stdout",
     "output_type": "stream",
     "text": [
      "\n",
      "-Create the tpr file npt_IPH_vdwq_09.tpr\n",
      "gmx grompp -f npt_IPH_vdwq_09.mdp -c ../01_equi_nvt/nvt_IPH_vdwq_09.gro -r ../01_equi_nvt/nvt_IPH_vdwq_09.gro -p ../../mol_water_top/IPH_water.top -po out_npt_IPH_vdwq_09.mdp -o npt_IPH_vdwq_09.tpr -maxwarn 1\n",
      "-Launch the simulation npt_IPH_vdwq_09.tpr\n",
      "gmx mdrun -s npt_IPH_vdwq_09.tpr -deffnm npt_IPH_vdwq_09 -nt 0 -ntmpi 0 -nsteps -2 -nocopyright\n"
     ]
    },
    {
     "data": {
      "application/vnd.jupyter.widget-view+json": {
       "model_id": "5cde7b871a774369928de0f428204969",
       "version_major": 2,
       "version_minor": 0
      },
      "text/plain": [
       "HBox(children=(FloatProgress(value=0.0, max=5000.0), HTML(value='')))"
      ]
     },
     "metadata": {},
     "output_type": "display_data"
    },
    {
     "name": "stdout",
     "output_type": "stream",
     "text": [
      "\n",
      "-Create the tpr file prod_IPH_vdwq_09.tpr\n",
      "gmx grompp -f prod_IPH_vdwq_09.mdp -c ../02_equi_npt/npt_IPH_vdwq_09.gro -r ../02_equi_npt/npt_IPH_vdwq_09.gro -p ../../mol_water_top/IPH_water.top -po out_prod_IPH_vdwq_09.mdp -o prod_IPH_vdwq_09.tpr -maxwarn 1\n",
      "-Launch the simulation prod_IPH_vdwq_09.tpr\n",
      "gmx mdrun -s prod_IPH_vdwq_09.tpr -deffnm prod_IPH_vdwq_09 -nt 0 -ntmpi 0 -nsteps -2 -nocopyright\n"
     ]
    },
    {
     "data": {
      "application/vnd.jupyter.widget-view+json": {
       "model_id": "d755b9254b724e7984266ebd651a82af",
       "version_major": 2,
       "version_minor": 0
      },
      "text/plain": [
       "HBox(children=(FloatProgress(value=0.0, max=50000.0), HTML(value='')))"
      ]
     },
     "metadata": {},
     "output_type": "display_data"
    },
    {
     "name": "stdout",
     "output_type": "stream",
     "text": [
      "\n",
      "-Create the tpr file em_IPH_vdwq_10.tpr\n",
      "gmx grompp -f em_IPH_vdwq_10.mdp -c ../../mol_water_prod/prod_IPH.gro -r ../../mol_water_prod/prod_IPH.gro -p ../../mol_water_top/IPH_water.top -po out_em_IPH_vdwq_10.mdp -o em_IPH_vdwq_10.tpr -maxwarn 1\n",
      "-Launch the simulation em_IPH_vdwq_10.tpr\n",
      "gmx mdrun -s em_IPH_vdwq_10.tpr -deffnm em_IPH_vdwq_10 -nt 0 -ntmpi 0 -nsteps -2 -nocopyright\n"
     ]
    },
    {
     "data": {
      "application/vnd.jupyter.widget-view+json": {
       "model_id": "e9ff965fd8d54676b550baafc9cdb2d9",
       "version_major": 2,
       "version_minor": 0
      },
      "text/plain": [
       "HBox(children=(FloatProgress(value=0.0, max=5000.0), HTML(value='')))"
      ]
     },
     "metadata": {},
     "output_type": "display_data"
    },
    {
     "name": "stdout",
     "output_type": "stream",
     "text": [
      "\n",
      "-Create the tpr file nvt_IPH_vdwq_10.tpr\n",
      "gmx grompp -f nvt_IPH_vdwq_10.mdp -c ../00_em/em_IPH_vdwq_10.gro -r ../00_em/em_IPH_vdwq_10.gro -p ../../mol_water_top/IPH_water.top -po out_nvt_IPH_vdwq_10.mdp -o nvt_IPH_vdwq_10.tpr -maxwarn 1\n",
      "-Launch the simulation nvt_IPH_vdwq_10.tpr\n",
      "gmx mdrun -s nvt_IPH_vdwq_10.tpr -deffnm nvt_IPH_vdwq_10 -nt 0 -ntmpi 0 -nsteps -2 -nocopyright\n"
     ]
    },
    {
     "data": {
      "application/vnd.jupyter.widget-view+json": {
       "model_id": "eb36a7c9b7c4423f8915e279a1f3bb09",
       "version_major": 2,
       "version_minor": 0
      },
      "text/plain": [
       "HBox(children=(FloatProgress(value=0.0, max=5000.0), HTML(value='')))"
      ]
     },
     "metadata": {},
     "output_type": "display_data"
    },
    {
     "name": "stdout",
     "output_type": "stream",
     "text": [
      "\n",
      "-Create the tpr file npt_IPH_vdwq_10.tpr\n",
      "gmx grompp -f npt_IPH_vdwq_10.mdp -c ../01_equi_nvt/nvt_IPH_vdwq_10.gro -r ../01_equi_nvt/nvt_IPH_vdwq_10.gro -p ../../mol_water_top/IPH_water.top -po out_npt_IPH_vdwq_10.mdp -o npt_IPH_vdwq_10.tpr -maxwarn 1\n",
      "-Launch the simulation npt_IPH_vdwq_10.tpr\n",
      "gmx mdrun -s npt_IPH_vdwq_10.tpr -deffnm npt_IPH_vdwq_10 -nt 0 -ntmpi 0 -nsteps -2 -nocopyright\n"
     ]
    },
    {
     "data": {
      "application/vnd.jupyter.widget-view+json": {
       "model_id": "7097ed0f529f40cca13c3d4fa8e99b65",
       "version_major": 2,
       "version_minor": 0
      },
      "text/plain": [
       "HBox(children=(FloatProgress(value=0.0, max=5000.0), HTML(value='')))"
      ]
     },
     "metadata": {},
     "output_type": "display_data"
    },
    {
     "name": "stdout",
     "output_type": "stream",
     "text": [
      "\n",
      "-Create the tpr file prod_IPH_vdwq_10.tpr\n",
      "gmx grompp -f prod_IPH_vdwq_10.mdp -c ../02_equi_npt/npt_IPH_vdwq_10.gro -r ../02_equi_npt/npt_IPH_vdwq_10.gro -p ../../mol_water_top/IPH_water.top -po out_prod_IPH_vdwq_10.mdp -o prod_IPH_vdwq_10.tpr -maxwarn 1\n",
      "-Launch the simulation prod_IPH_vdwq_10.tpr\n",
      "gmx mdrun -s prod_IPH_vdwq_10.tpr -deffnm prod_IPH_vdwq_10 -nt 0 -ntmpi 0 -nsteps -2 -nocopyright\n"
     ]
    },
    {
     "data": {
      "application/vnd.jupyter.widget-view+json": {
       "model_id": "fd7e78e0738a4bd79d4d41b5b3534c6d",
       "version_major": 2,
       "version_minor": 0
      },
      "text/plain": [
       "HBox(children=(FloatProgress(value=0.0, max=50000.0), HTML(value='')))"
      ]
     },
     "metadata": {},
     "output_type": "display_data"
    },
    {
     "name": "stdout",
     "output_type": "stream",
     "text": [
      "\n",
      "-Create the tpr file em_IPH_vdwq_11.tpr\n",
      "gmx grompp -f em_IPH_vdwq_11.mdp -c ../../mol_water_prod/prod_IPH.gro -r ../../mol_water_prod/prod_IPH.gro -p ../../mol_water_top/IPH_water.top -po out_em_IPH_vdwq_11.mdp -o em_IPH_vdwq_11.tpr -maxwarn 1\n",
      "-Launch the simulation em_IPH_vdwq_11.tpr\n",
      "gmx mdrun -s em_IPH_vdwq_11.tpr -deffnm em_IPH_vdwq_11 -nt 0 -ntmpi 0 -nsteps -2 -nocopyright\n"
     ]
    },
    {
     "data": {
      "application/vnd.jupyter.widget-view+json": {
       "model_id": "296e4ba5f7da4d509837b22ff99e541b",
       "version_major": 2,
       "version_minor": 0
      },
      "text/plain": [
       "HBox(children=(FloatProgress(value=0.0, max=5000.0), HTML(value='')))"
      ]
     },
     "metadata": {},
     "output_type": "display_data"
    },
    {
     "name": "stdout",
     "output_type": "stream",
     "text": [
      "\n",
      "-Create the tpr file nvt_IPH_vdwq_11.tpr\n",
      "gmx grompp -f nvt_IPH_vdwq_11.mdp -c ../00_em/em_IPH_vdwq_11.gro -r ../00_em/em_IPH_vdwq_11.gro -p ../../mol_water_top/IPH_water.top -po out_nvt_IPH_vdwq_11.mdp -o nvt_IPH_vdwq_11.tpr -maxwarn 1\n",
      "-Launch the simulation nvt_IPH_vdwq_11.tpr\n",
      "gmx mdrun -s nvt_IPH_vdwq_11.tpr -deffnm nvt_IPH_vdwq_11 -nt 0 -ntmpi 0 -nsteps -2 -nocopyright\n"
     ]
    },
    {
     "data": {
      "application/vnd.jupyter.widget-view+json": {
       "model_id": "6d4e248d548a40bebdb00ad6434eb035",
       "version_major": 2,
       "version_minor": 0
      },
      "text/plain": [
       "HBox(children=(FloatProgress(value=0.0, max=5000.0), HTML(value='')))"
      ]
     },
     "metadata": {},
     "output_type": "display_data"
    },
    {
     "name": "stdout",
     "output_type": "stream",
     "text": [
      "\n",
      "-Create the tpr file npt_IPH_vdwq_11.tpr\n",
      "gmx grompp -f npt_IPH_vdwq_11.mdp -c ../01_equi_nvt/nvt_IPH_vdwq_11.gro -r ../01_equi_nvt/nvt_IPH_vdwq_11.gro -p ../../mol_water_top/IPH_water.top -po out_npt_IPH_vdwq_11.mdp -o npt_IPH_vdwq_11.tpr -maxwarn 1\n",
      "-Launch the simulation npt_IPH_vdwq_11.tpr\n",
      "gmx mdrun -s npt_IPH_vdwq_11.tpr -deffnm npt_IPH_vdwq_11 -nt 0 -ntmpi 0 -nsteps -2 -nocopyright\n"
     ]
    },
    {
     "data": {
      "application/vnd.jupyter.widget-view+json": {
       "model_id": "3e65aef932f44f9b9a5d6043998f541e",
       "version_major": 2,
       "version_minor": 0
      },
      "text/plain": [
       "HBox(children=(FloatProgress(value=0.0, max=5000.0), HTML(value='')))"
      ]
     },
     "metadata": {},
     "output_type": "display_data"
    },
    {
     "name": "stdout",
     "output_type": "stream",
     "text": [
      "\n",
      "-Create the tpr file prod_IPH_vdwq_11.tpr\n",
      "gmx grompp -f prod_IPH_vdwq_11.mdp -c ../02_equi_npt/npt_IPH_vdwq_11.gro -r ../02_equi_npt/npt_IPH_vdwq_11.gro -p ../../mol_water_top/IPH_water.top -po out_prod_IPH_vdwq_11.mdp -o prod_IPH_vdwq_11.tpr -maxwarn 1\n",
      "-Launch the simulation prod_IPH_vdwq_11.tpr\n",
      "gmx mdrun -s prod_IPH_vdwq_11.tpr -deffnm prod_IPH_vdwq_11 -nt 0 -ntmpi 0 -nsteps -2 -nocopyright\n"
     ]
    },
    {
     "data": {
      "application/vnd.jupyter.widget-view+json": {
       "model_id": "737574e78a0245aca6e1ab0826dac8b5",
       "version_major": 2,
       "version_minor": 0
      },
      "text/plain": [
       "HBox(children=(FloatProgress(value=0.0, max=50000.0), HTML(value='')))"
      ]
     },
     "metadata": {},
     "output_type": "display_data"
    },
    {
     "name": "stdout",
     "output_type": "stream",
     "text": [
      "\n",
      "-Create the tpr file em_IPH_vdwq_12.tpr\n",
      "gmx grompp -f em_IPH_vdwq_12.mdp -c ../../mol_water_prod/prod_IPH.gro -r ../../mol_water_prod/prod_IPH.gro -p ../../mol_water_top/IPH_water.top -po out_em_IPH_vdwq_12.mdp -o em_IPH_vdwq_12.tpr -maxwarn 1\n",
      "-Launch the simulation em_IPH_vdwq_12.tpr\n",
      "gmx mdrun -s em_IPH_vdwq_12.tpr -deffnm em_IPH_vdwq_12 -nt 0 -ntmpi 0 -nsteps -2 -nocopyright\n"
     ]
    },
    {
     "data": {
      "application/vnd.jupyter.widget-view+json": {
       "model_id": "9aa066cc2a884001b570f89aecc5d323",
       "version_major": 2,
       "version_minor": 0
      },
      "text/plain": [
       "HBox(children=(FloatProgress(value=0.0, max=5000.0), HTML(value='')))"
      ]
     },
     "metadata": {},
     "output_type": "display_data"
    },
    {
     "name": "stdout",
     "output_type": "stream",
     "text": [
      "\n",
      "-Create the tpr file nvt_IPH_vdwq_12.tpr\n",
      "gmx grompp -f nvt_IPH_vdwq_12.mdp -c ../00_em/em_IPH_vdwq_12.gro -r ../00_em/em_IPH_vdwq_12.gro -p ../../mol_water_top/IPH_water.top -po out_nvt_IPH_vdwq_12.mdp -o nvt_IPH_vdwq_12.tpr -maxwarn 1\n",
      "-Launch the simulation nvt_IPH_vdwq_12.tpr\n",
      "gmx mdrun -s nvt_IPH_vdwq_12.tpr -deffnm nvt_IPH_vdwq_12 -nt 0 -ntmpi 0 -nsteps -2 -nocopyright\n"
     ]
    },
    {
     "data": {
      "application/vnd.jupyter.widget-view+json": {
       "model_id": "70425569186641d7919b4f9370368dd9",
       "version_major": 2,
       "version_minor": 0
      },
      "text/plain": [
       "HBox(children=(FloatProgress(value=0.0, max=5000.0), HTML(value='')))"
      ]
     },
     "metadata": {},
     "output_type": "display_data"
    },
    {
     "name": "stdout",
     "output_type": "stream",
     "text": [
      "\n",
      "-Create the tpr file npt_IPH_vdwq_12.tpr\n",
      "gmx grompp -f npt_IPH_vdwq_12.mdp -c ../01_equi_nvt/nvt_IPH_vdwq_12.gro -r ../01_equi_nvt/nvt_IPH_vdwq_12.gro -p ../../mol_water_top/IPH_water.top -po out_npt_IPH_vdwq_12.mdp -o npt_IPH_vdwq_12.tpr -maxwarn 1\n",
      "-Launch the simulation npt_IPH_vdwq_12.tpr\n",
      "gmx mdrun -s npt_IPH_vdwq_12.tpr -deffnm npt_IPH_vdwq_12 -nt 0 -ntmpi 0 -nsteps -2 -nocopyright\n"
     ]
    },
    {
     "data": {
      "application/vnd.jupyter.widget-view+json": {
       "model_id": "d4e91309a98549b4a76665b065d1e242",
       "version_major": 2,
       "version_minor": 0
      },
      "text/plain": [
       "HBox(children=(FloatProgress(value=0.0, max=5000.0), HTML(value='')))"
      ]
     },
     "metadata": {},
     "output_type": "display_data"
    },
    {
     "name": "stdout",
     "output_type": "stream",
     "text": [
      "\n",
      "-Create the tpr file prod_IPH_vdwq_12.tpr\n",
      "gmx grompp -f prod_IPH_vdwq_12.mdp -c ../02_equi_npt/npt_IPH_vdwq_12.gro -r ../02_equi_npt/npt_IPH_vdwq_12.gro -p ../../mol_water_top/IPH_water.top -po out_prod_IPH_vdwq_12.mdp -o prod_IPH_vdwq_12.tpr -maxwarn 1\n",
      "-Launch the simulation prod_IPH_vdwq_12.tpr\n",
      "gmx mdrun -s prod_IPH_vdwq_12.tpr -deffnm prod_IPH_vdwq_12 -nt 0 -ntmpi 0 -nsteps -2 -nocopyright\n"
     ]
    },
    {
     "data": {
      "application/vnd.jupyter.widget-view+json": {
       "model_id": "cf3f900f7e38431c81da4684af236364",
       "version_major": 2,
       "version_minor": 0
      },
      "text/plain": [
       "HBox(children=(FloatProgress(value=0.0, max=50000.0), HTML(value='')))"
      ]
     },
     "metadata": {},
     "output_type": "display_data"
    },
    {
     "name": "stdout",
     "output_type": "stream",
     "text": [
      "\n",
      "-Create the tpr file em_IPH_vdwq_13.tpr\n",
      "gmx grompp -f em_IPH_vdwq_13.mdp -c ../../mol_water_prod/prod_IPH.gro -r ../../mol_water_prod/prod_IPH.gro -p ../../mol_water_top/IPH_water.top -po out_em_IPH_vdwq_13.mdp -o em_IPH_vdwq_13.tpr -maxwarn 1\n",
      "-Launch the simulation em_IPH_vdwq_13.tpr\n",
      "gmx mdrun -s em_IPH_vdwq_13.tpr -deffnm em_IPH_vdwq_13 -nt 0 -ntmpi 0 -nsteps -2 -nocopyright\n"
     ]
    },
    {
     "data": {
      "application/vnd.jupyter.widget-view+json": {
       "model_id": "c96f21f5933648dfa14d991f8280788c",
       "version_major": 2,
       "version_minor": 0
      },
      "text/plain": [
       "HBox(children=(FloatProgress(value=0.0, max=5000.0), HTML(value='')))"
      ]
     },
     "metadata": {},
     "output_type": "display_data"
    },
    {
     "name": "stdout",
     "output_type": "stream",
     "text": [
      "\n",
      "-Create the tpr file nvt_IPH_vdwq_13.tpr\n",
      "gmx grompp -f nvt_IPH_vdwq_13.mdp -c ../00_em/em_IPH_vdwq_13.gro -r ../00_em/em_IPH_vdwq_13.gro -p ../../mol_water_top/IPH_water.top -po out_nvt_IPH_vdwq_13.mdp -o nvt_IPH_vdwq_13.tpr -maxwarn 1\n",
      "-Launch the simulation nvt_IPH_vdwq_13.tpr\n",
      "gmx mdrun -s nvt_IPH_vdwq_13.tpr -deffnm nvt_IPH_vdwq_13 -nt 0 -ntmpi 0 -nsteps -2 -nocopyright\n"
     ]
    },
    {
     "data": {
      "application/vnd.jupyter.widget-view+json": {
       "model_id": "6f8d8b6332ca446c983e858147ca9877",
       "version_major": 2,
       "version_minor": 0
      },
      "text/plain": [
       "HBox(children=(FloatProgress(value=0.0, max=5000.0), HTML(value='')))"
      ]
     },
     "metadata": {},
     "output_type": "display_data"
    },
    {
     "name": "stdout",
     "output_type": "stream",
     "text": [
      "\n",
      "-Create the tpr file npt_IPH_vdwq_13.tpr\n",
      "gmx grompp -f npt_IPH_vdwq_13.mdp -c ../01_equi_nvt/nvt_IPH_vdwq_13.gro -r ../01_equi_nvt/nvt_IPH_vdwq_13.gro -p ../../mol_water_top/IPH_water.top -po out_npt_IPH_vdwq_13.mdp -o npt_IPH_vdwq_13.tpr -maxwarn 1\n",
      "-Launch the simulation npt_IPH_vdwq_13.tpr\n",
      "gmx mdrun -s npt_IPH_vdwq_13.tpr -deffnm npt_IPH_vdwq_13 -nt 0 -ntmpi 0 -nsteps -2 -nocopyright\n"
     ]
    },
    {
     "data": {
      "application/vnd.jupyter.widget-view+json": {
       "model_id": "3c9a25fe855f495d8deaec64cb6b71e9",
       "version_major": 2,
       "version_minor": 0
      },
      "text/plain": [
       "HBox(children=(FloatProgress(value=0.0, max=5000.0), HTML(value='')))"
      ]
     },
     "metadata": {},
     "output_type": "display_data"
    },
    {
     "name": "stdout",
     "output_type": "stream",
     "text": [
      "\n",
      "-Create the tpr file prod_IPH_vdwq_13.tpr\n",
      "gmx grompp -f prod_IPH_vdwq_13.mdp -c ../02_equi_npt/npt_IPH_vdwq_13.gro -r ../02_equi_npt/npt_IPH_vdwq_13.gro -p ../../mol_water_top/IPH_water.top -po out_prod_IPH_vdwq_13.mdp -o prod_IPH_vdwq_13.tpr -maxwarn 1\n",
      "-Launch the simulation prod_IPH_vdwq_13.tpr\n",
      "gmx mdrun -s prod_IPH_vdwq_13.tpr -deffnm prod_IPH_vdwq_13 -nt 0 -ntmpi 0 -nsteps -2 -nocopyright\n"
     ]
    },
    {
     "data": {
      "application/vnd.jupyter.widget-view+json": {
       "model_id": "336272c036f74300a970d8e1f06cefa6",
       "version_major": 2,
       "version_minor": 0
      },
      "text/plain": [
       "HBox(children=(FloatProgress(value=0.0, max=50000.0), HTML(value='')))"
      ]
     },
     "metadata": {},
     "output_type": "display_data"
    },
    {
     "name": "stdout",
     "output_type": "stream",
     "text": [
      "\n",
      "-Create the tpr file em_IPH_vdwq_14.tpr\n",
      "gmx grompp -f em_IPH_vdwq_14.mdp -c ../../mol_water_prod/prod_IPH.gro -r ../../mol_water_prod/prod_IPH.gro -p ../../mol_water_top/IPH_water.top -po out_em_IPH_vdwq_14.mdp -o em_IPH_vdwq_14.tpr -maxwarn 1\n",
      "-Launch the simulation em_IPH_vdwq_14.tpr\n",
      "gmx mdrun -s em_IPH_vdwq_14.tpr -deffnm em_IPH_vdwq_14 -nt 0 -ntmpi 0 -nsteps -2 -nocopyright\n"
     ]
    },
    {
     "data": {
      "application/vnd.jupyter.widget-view+json": {
       "model_id": "85a45787eb27419faeef7a0c3a5bfc74",
       "version_major": 2,
       "version_minor": 0
      },
      "text/plain": [
       "HBox(children=(FloatProgress(value=0.0, max=5000.0), HTML(value='')))"
      ]
     },
     "metadata": {},
     "output_type": "display_data"
    },
    {
     "name": "stdout",
     "output_type": "stream",
     "text": [
      "\n",
      "-Create the tpr file nvt_IPH_vdwq_14.tpr\n",
      "gmx grompp -f nvt_IPH_vdwq_14.mdp -c ../00_em/em_IPH_vdwq_14.gro -r ../00_em/em_IPH_vdwq_14.gro -p ../../mol_water_top/IPH_water.top -po out_nvt_IPH_vdwq_14.mdp -o nvt_IPH_vdwq_14.tpr -maxwarn 1\n",
      "-Launch the simulation nvt_IPH_vdwq_14.tpr\n",
      "gmx mdrun -s nvt_IPH_vdwq_14.tpr -deffnm nvt_IPH_vdwq_14 -nt 0 -ntmpi 0 -nsteps -2 -nocopyright\n"
     ]
    },
    {
     "data": {
      "application/vnd.jupyter.widget-view+json": {
       "model_id": "11ec5eff1f7f4d38b54490f57408a261",
       "version_major": 2,
       "version_minor": 0
      },
      "text/plain": [
       "HBox(children=(FloatProgress(value=0.0, max=5000.0), HTML(value='')))"
      ]
     },
     "metadata": {},
     "output_type": "display_data"
    },
    {
     "name": "stdout",
     "output_type": "stream",
     "text": [
      "\n",
      "-Create the tpr file npt_IPH_vdwq_14.tpr\n",
      "gmx grompp -f npt_IPH_vdwq_14.mdp -c ../01_equi_nvt/nvt_IPH_vdwq_14.gro -r ../01_equi_nvt/nvt_IPH_vdwq_14.gro -p ../../mol_water_top/IPH_water.top -po out_npt_IPH_vdwq_14.mdp -o npt_IPH_vdwq_14.tpr -maxwarn 1\n",
      "-Launch the simulation npt_IPH_vdwq_14.tpr\n",
      "gmx mdrun -s npt_IPH_vdwq_14.tpr -deffnm npt_IPH_vdwq_14 -nt 0 -ntmpi 0 -nsteps -2 -nocopyright\n"
     ]
    },
    {
     "data": {
      "application/vnd.jupyter.widget-view+json": {
       "model_id": "0dbd5c5626c44afdbc8e20eb8950debd",
       "version_major": 2,
       "version_minor": 0
      },
      "text/plain": [
       "HBox(children=(FloatProgress(value=0.0, max=5000.0), HTML(value='')))"
      ]
     },
     "metadata": {},
     "output_type": "display_data"
    },
    {
     "name": "stdout",
     "output_type": "stream",
     "text": [
      "\n",
      "-Create the tpr file prod_IPH_vdwq_14.tpr\n",
      "gmx grompp -f prod_IPH_vdwq_14.mdp -c ../02_equi_npt/npt_IPH_vdwq_14.gro -r ../02_equi_npt/npt_IPH_vdwq_14.gro -p ../../mol_water_top/IPH_water.top -po out_prod_IPH_vdwq_14.mdp -o prod_IPH_vdwq_14.tpr -maxwarn 1\n",
      "-Launch the simulation prod_IPH_vdwq_14.tpr\n",
      "gmx mdrun -s prod_IPH_vdwq_14.tpr -deffnm prod_IPH_vdwq_14 -nt 0 -ntmpi 0 -nsteps -2 -nocopyright\n"
     ]
    },
    {
     "data": {
      "application/vnd.jupyter.widget-view+json": {
       "model_id": "d5e6454d3e424dd298578b7a88df0529",
       "version_major": 2,
       "version_minor": 0
      },
      "text/plain": [
       "HBox(children=(FloatProgress(value=0.0, max=50000.0), HTML(value='')))"
      ]
     },
     "metadata": {},
     "output_type": "display_data"
    },
    {
     "name": "stdout",
     "output_type": "stream",
     "text": [
      "\n",
      "-Create the tpr file em_IPH_vdwq_15.tpr\n",
      "gmx grompp -f em_IPH_vdwq_15.mdp -c ../../mol_water_prod/prod_IPH.gro -r ../../mol_water_prod/prod_IPH.gro -p ../../mol_water_top/IPH_water.top -po out_em_IPH_vdwq_15.mdp -o em_IPH_vdwq_15.tpr -maxwarn 1\n",
      "-Launch the simulation em_IPH_vdwq_15.tpr\n",
      "gmx mdrun -s em_IPH_vdwq_15.tpr -deffnm em_IPH_vdwq_15 -nt 0 -ntmpi 0 -nsteps -2 -nocopyright\n"
     ]
    },
    {
     "data": {
      "application/vnd.jupyter.widget-view+json": {
       "model_id": "be4e5aaa116741ab9a3d2b4886e79778",
       "version_major": 2,
       "version_minor": 0
      },
      "text/plain": [
       "HBox(children=(FloatProgress(value=0.0, max=5000.0), HTML(value='')))"
      ]
     },
     "metadata": {},
     "output_type": "display_data"
    },
    {
     "name": "stdout",
     "output_type": "stream",
     "text": [
      "\n",
      "-Create the tpr file nvt_IPH_vdwq_15.tpr\n",
      "gmx grompp -f nvt_IPH_vdwq_15.mdp -c ../00_em/em_IPH_vdwq_15.gro -r ../00_em/em_IPH_vdwq_15.gro -p ../../mol_water_top/IPH_water.top -po out_nvt_IPH_vdwq_15.mdp -o nvt_IPH_vdwq_15.tpr -maxwarn 1\n",
      "-Launch the simulation nvt_IPH_vdwq_15.tpr\n",
      "gmx mdrun -s nvt_IPH_vdwq_15.tpr -deffnm nvt_IPH_vdwq_15 -nt 0 -ntmpi 0 -nsteps -2 -nocopyright\n"
     ]
    },
    {
     "data": {
      "application/vnd.jupyter.widget-view+json": {
       "model_id": "a1fac01cdf324decaecf261e94af51b9",
       "version_major": 2,
       "version_minor": 0
      },
      "text/plain": [
       "HBox(children=(FloatProgress(value=0.0, max=5000.0), HTML(value='')))"
      ]
     },
     "metadata": {},
     "output_type": "display_data"
    },
    {
     "name": "stdout",
     "output_type": "stream",
     "text": [
      "\n",
      "-Create the tpr file npt_IPH_vdwq_15.tpr\n",
      "gmx grompp -f npt_IPH_vdwq_15.mdp -c ../01_equi_nvt/nvt_IPH_vdwq_15.gro -r ../01_equi_nvt/nvt_IPH_vdwq_15.gro -p ../../mol_water_top/IPH_water.top -po out_npt_IPH_vdwq_15.mdp -o npt_IPH_vdwq_15.tpr -maxwarn 1\n",
      "-Launch the simulation npt_IPH_vdwq_15.tpr\n",
      "gmx mdrun -s npt_IPH_vdwq_15.tpr -deffnm npt_IPH_vdwq_15 -nt 0 -ntmpi 0 -nsteps -2 -nocopyright\n"
     ]
    },
    {
     "data": {
      "application/vnd.jupyter.widget-view+json": {
       "model_id": "b1c0f42c6aba457a960200e5da313555",
       "version_major": 2,
       "version_minor": 0
      },
      "text/plain": [
       "HBox(children=(FloatProgress(value=0.0, max=5000.0), HTML(value='')))"
      ]
     },
     "metadata": {},
     "output_type": "display_data"
    },
    {
     "name": "stdout",
     "output_type": "stream",
     "text": [
      "\n",
      "-Create the tpr file prod_IPH_vdwq_15.tpr\n",
      "gmx grompp -f prod_IPH_vdwq_15.mdp -c ../02_equi_npt/npt_IPH_vdwq_15.gro -r ../02_equi_npt/npt_IPH_vdwq_15.gro -p ../../mol_water_top/IPH_water.top -po out_prod_IPH_vdwq_15.mdp -o prod_IPH_vdwq_15.tpr -maxwarn 1\n",
      "-Launch the simulation prod_IPH_vdwq_15.tpr\n",
      "gmx mdrun -s prod_IPH_vdwq_15.tpr -deffnm prod_IPH_vdwq_15 -nt 0 -ntmpi 0 -nsteps -2 -nocopyright\n"
     ]
    },
    {
     "data": {
      "application/vnd.jupyter.widget-view+json": {
       "model_id": "1e26d26ea7df47aaa6424dfe909ad33d",
       "version_major": 2,
       "version_minor": 0
      },
      "text/plain": [
       "HBox(children=(FloatProgress(value=0.0, max=50000.0), HTML(value='')))"
      ]
     },
     "metadata": {},
     "output_type": "display_data"
    },
    {
     "name": "stdout",
     "output_type": "stream",
     "text": [
      "\n",
      "-Extract bar energy\n",
      "gmx bar -f data_lig_Mobley_1LI2/mol_free_ener_new/03_prod/prod_IPH_vdwq_00.xvg data_lig_Mobley_1LI2/mol_free_ener_new/03_prod/prod_IPH_vdwq_01.xvg data_lig_Mobley_1LI2/mol_free_ener_new/03_prod/prod_IPH_vdwq_02.xvg data_lig_Mobley_1LI2/mol_free_ener_new/03_prod/prod_IPH_vdwq_03.xvg data_lig_Mobley_1LI2/mol_free_ener_new/03_prod/prod_IPH_vdwq_04.xvg data_lig_Mobley_1LI2/mol_free_ener_new/03_prod/prod_IPH_vdwq_05.xvg data_lig_Mobley_1LI2/mol_free_ener_new/03_prod/prod_IPH_vdwq_06.xvg data_lig_Mobley_1LI2/mol_free_ener_new/03_prod/prod_IPH_vdwq_07.xvg data_lig_Mobley_1LI2/mol_free_ener_new/03_prod/prod_IPH_vdwq_08.xvg data_lig_Mobley_1LI2/mol_free_ener_new/03_prod/prod_IPH_vdwq_09.xvg data_lig_Mobley_1LI2/mol_free_ener_new/03_prod/prod_IPH_vdwq_10.xvg data_lig_Mobley_1LI2/mol_free_ener_new/03_prod/prod_IPH_vdwq_11.xvg data_lig_Mobley_1LI2/mol_free_ener_new/03_prod/prod_IPH_vdwq_12.xvg data_lig_Mobley_1LI2/mol_free_ener_new/03_prod/prod_IPH_vdwq_13.xvg data_lig_Mobley_1LI2/mol_free_ener_new/03_prod/prod_IPH_vdwq_14.xvg data_lig_Mobley_1LI2/mol_free_ener_new/03_prod/prod_IPH_vdwq_15.xvg -o bar.xvg -oi barint.xvg -oh histogram.xvg\n",
      "DDG = -20.35 +/- 1.66 KJ/mol-1\n",
      "DDG = -4.86 +/- 0.40 Kcal/mol-1\n",
      "Log P = 27.94 +/- -2.28\n"
     ]
    }
   ],
   "source": [
    "ener_solv = test.free_ener(out_folder=os.path.join(DATA_OUT, 'mol_free_ener_new'),\n",
    "                      mol_name=MOL_ID, lambda_elec_num=5, lambda_vdw_num=10,\n",
    "                      em_steps=5000, nvt_time=10, npt_time=10, prod_time=100)"
   ]
  },
  {
   "cell_type": "code",
   "execution_count": 17,
   "metadata": {},
   "outputs": [
    {
     "data": {
      "text/plain": [
       "{'DG': -20.35,\n",
       " 'std': 1.66,\n",
       " 'table':        l  DG (kT)   +/-\n",
       " 0    0.5     5.00  0.09\n",
       " 1    1.5     3.30  0.03\n",
       " 2    2.5     1.96  0.06\n",
       " 3    3.5     1.00  0.02\n",
       " 4    4.5     0.29  0.02\n",
       " 5    5.5     1.01  0.03\n",
       " 6    6.5     0.93  0.03\n",
       " 7    7.5     0.81  0.01\n",
       " 8    8.5     0.58  0.03\n",
       " 9    9.5     0.34  0.05\n",
       " 10  10.5     0.05  0.10\n",
       " 11  11.5    -0.96  0.24\n",
       " 12  12.5    -3.03  0.20\n",
       " 13  13.5    -2.42  0.05\n",
       " 14  14.5    -0.71  0.02}"
      ]
     },
     "execution_count": 17,
     "metadata": {},
     "output_type": "execute_result"
    }
   ],
   "source": [
    "ener_solv"
   ]
  },
  {
   "cell_type": "markdown",
   "metadata": {},
   "source": [
    "## Protein-Ligand system preparation"
   ]
  },
  {
   "cell_type": "code",
   "execution_count": 18,
   "metadata": {},
   "outputs": [
    {
     "name": "stdout",
     "output_type": "stream",
     "text": [
      "-Create pbc box\n",
      "gmx editconf -f data_lig_Mobley_1LI2/prot_top/1LI2_pdb2gmx_mol.pdb -o data_lig_Mobley_1LI2/prot_top/1LI2_pdb2gmx_mol_box.pdb -bt dodecahedron -d 1.0\n",
      "WARNING !!! ADDING unusual parameter : \"emtol\"in the mdp file None\n",
      "-Create the tpr file Init_em_1LI2.tpr\n",
      "gmx grompp -f Init_em_1LI2.mdp -c ../prot_top/1LI2_pdb2gmx_mol_box.pdb -r ../prot_top/1LI2_pdb2gmx_mol_box.pdb -p ../prot_top/1LI2_pdb2gmx_mol.top -po out_Init_em_1LI2.mdp -o Init_em_1LI2.tpr -maxwarn 3\n",
      "-Launch the simulation Init_em_1LI2.tpr\n",
      "gmx mdrun -s Init_em_1LI2.tpr -deffnm Init_em_1LI2 -nt 0 -ntmpi 0 -nsteps -2 -nocopyright\n"
     ]
    },
    {
     "data": {
      "application/vnd.jupyter.widget-view+json": {
       "model_id": "a8a81eb181484a59886d6d3476e14577",
       "version_major": 2,
       "version_minor": 0
      },
      "text/plain": [
       "HBox(children=(FloatProgress(value=0.0, max=10000.0), HTML(value='')))"
      ]
     },
     "metadata": {},
     "output_type": "display_data"
    },
    {
     "name": "stdout",
     "output_type": "stream",
     "text": [
      "\n",
      "WARNING !!! ADDING unusual parameter : \"emtol\"in the mdp file Init_em_1LI2.mdp\n",
      "-Create the tpr file 1LI2.tpr\n",
      "gmx grompp -f 1LI2.mdp -c Init_em_1LI2.gro -r Init_em_1LI2.gro -p ../prot_top/1LI2_pdb2gmx_mol.top -po out_1LI2.mdp -o 1LI2.tpr -maxwarn 3\n",
      "-Launch the simulation 1LI2.tpr\n",
      "gmx mdrun -s 1LI2.tpr -deffnm 1LI2 -nt 0 -ntmpi 0 -nsteps -2 -nocopyright\n"
     ]
    },
    {
     "data": {
      "application/vnd.jupyter.widget-view+json": {
       "model_id": "38544820f7fe499586e73fcda12211de",
       "version_major": 2,
       "version_minor": 0
      },
      "text/plain": [
       "HBox(children=(FloatProgress(value=0.0, max=10000.0), HTML(value='')))"
      ]
     },
     "metadata": {},
     "output_type": "display_data"
    },
    {
     "name": "stdout",
     "output_type": "stream",
     "text": [
      "\n"
     ]
    }
   ],
   "source": [
    "md_sys.em_2_steps(out_folder=os.path.join(DATA_OUT, 'prot_em'),\n",
    "                  no_constr_nsteps=10000,\n",
    "                  constr_nsteps=10000,\n",
    "                  posres=\"\",\n",
    "                  emtol=0.1, nstxout=100, maxwarn=3,\n",
    "                  create_box_flag=True)"
   ]
  },
  {
   "cell_type": "code",
   "execution_count": 19,
   "metadata": {},
   "outputs": [
    {
     "data": {
      "application/vnd.jupyter.widget-view+json": {
       "model_id": "7e213aa3a20d468286c82e8f021d9727",
       "version_major": 2,
       "version_minor": 0
      },
      "text/plain": [
       "_ColormakerRegistry()"
      ]
     },
     "metadata": {},
     "output_type": "display_data"
    },
    {
     "name": "stdout",
     "output_type": "stream",
     "text": [
      "-Convert trj/coor\n",
      "gmx trjconv -f data_lig_Mobley_1LI2/prot_em/1LI2.gro -o data_lig_Mobley_1LI2/prot_em/1LI2_compact.pdb -s data_lig_Mobley_1LI2/prot_em/1LI2.tpr -ur compact -pbc none\n",
      "Succeed to read file data_lig_Mobley_1LI2/prot_em/1LI2_compact.pdb ,  2614 atoms found\n"
     ]
    },
    {
     "data": {
      "application/vnd.jupyter.widget-view+json": {
       "model_id": "a3f0212c58e741f9b82c5ed92bc70ed8",
       "version_major": 2,
       "version_minor": 0
      },
      "text/plain": [
       "NGLWidget()"
      ]
     },
     "metadata": {},
     "output_type": "display_data"
    }
   ],
   "source": [
    "view = md_sys.view_coor()\n",
    "view"
   ]
  },
  {
   "cell_type": "code",
   "execution_count": 20,
   "metadata": {},
   "outputs": [
    {
     "name": "stdout",
     "output_type": "stream",
     "text": [
      "-Solvate the pbc box\n",
      "Copy topologie file and dependancies\n",
      "Copy topologie file and dependancies\n",
      "-Create the tpr file genion_1LI2_water_ion.tpr\n",
      "gmx grompp -f ../../../../gromacs_py/template/mini.mdp -c 1LI2_water.pdb -r 1LI2_water.pdb -p 1LI2_water_ion.top -po out_mini.mdp -o genion_1LI2_water_ion.tpr -maxwarn 3\n",
      "-Add ions to the system with an ionic concentration of 0.15 M , sytem charge = 8.0 water num= 10120\n",
      "Add ions : NA : 27   CL : 35\n",
      "gmx genion -s genion_1LI2_water_ion.tpr -p 1LI2_water_ion.top -o 1LI2_water_ion.gro -np 27 -pname NA -nn 35 -nname CL\n",
      "name         : 1LI2\n",
      "sim_name     : genion_1LI2_water_ion\n",
      "coor_file    : data_lig_Mobley_1LI2/sys_top/1LI2_water_ion.gro\n",
      "top_file     : data_lig_Mobley_1LI2/sys_top/1LI2_water_ion.top\n",
      "tpr          : data_lig_Mobley_1LI2/sys_top/genion_1LI2_water_ion.tpr\n",
      "mdp          : ../../gromacs_py/template/mini.mdp\n",
      "xtc          : data_lig_Mobley_1LI2/prot_em/1LI2.trr\n",
      "edr          : data_lig_Mobley_1LI2/prot_em/1LI2.edr\n",
      "log          : data_lig_Mobley_1LI2/prot_em/1LI2.log\n",
      "nt           : 0\n",
      "ntmpi        : 0\n",
      "sys_history  : 2\n"
     ]
    }
   ],
   "source": [
    "md_sys.solvate_add_ions(out_folder=os.path.join(DATA_OUT, 'sys_top'),\n",
    "                        ion_C=0.15, maxwarn=3, create_box_flag=False)\n",
    "md_sys.display()\n"
   ]
  },
  {
   "cell_type": "code",
   "execution_count": 21,
   "metadata": {},
   "outputs": [
    {
     "name": "stdout",
     "output_type": "stream",
     "text": [
      "-Create the tpr file Init_em_1LI2.tpr\n",
      "gmx grompp -f Init_em_1LI2.mdp -c ../sys_top/1LI2_water_ion.gro -r ../sys_top/1LI2_water_ion.gro -p ../sys_top/1LI2_water_ion.top -po out_Init_em_1LI2.mdp -o Init_em_1LI2.tpr -maxwarn 3\n",
      "-Launch the simulation Init_em_1LI2.tpr\n",
      "gmx mdrun -s Init_em_1LI2.tpr -deffnm Init_em_1LI2 -nt 0 -ntmpi 0 -nsteps -2 -nocopyright\n"
     ]
    },
    {
     "data": {
      "application/vnd.jupyter.widget-view+json": {
       "model_id": "932cb49a3da942f28b25b7f5ea62de30",
       "version_major": 2,
       "version_minor": 0
      },
      "text/plain": [
       "HBox(children=(FloatProgress(value=0.0, max=10000.0), HTML(value='')))"
      ]
     },
     "metadata": {},
     "output_type": "display_data"
    },
    {
     "name": "stdout",
     "output_type": "stream",
     "text": [
      "\n",
      "-Create the tpr file 1LI2.tpr\n",
      "gmx grompp -f 1LI2.mdp -c Init_em_1LI2.gro -r Init_em_1LI2.gro -p ../sys_top/1LI2_water_ion.top -po out_1LI2.mdp -o 1LI2.tpr -maxwarn 3\n",
      "-Launch the simulation 1LI2.tpr\n",
      "gmx mdrun -s 1LI2.tpr -deffnm 1LI2 -nt 0 -ntmpi 0 -nsteps -2 -nocopyright\n"
     ]
    },
    {
     "data": {
      "application/vnd.jupyter.widget-view+json": {
       "model_id": "df40b3727b824ae88d9961b51590fea4",
       "version_major": 2,
       "version_minor": 0
      },
      "text/plain": [
       "HBox(children=(FloatProgress(value=0.0, max=10000.0), HTML(value='')))"
      ]
     },
     "metadata": {},
     "output_type": "display_data"
    },
    {
     "name": "stdout",
     "output_type": "stream",
     "text": [
      "\n"
     ]
    }
   ],
   "source": [
    "md_sys.em_2_steps(out_folder=os.path.join(DATA_OUT, 'sys_em'),\n",
    "                  no_constr_nsteps=10000,\n",
    "                  constr_nsteps=10000,\n",
    "                  posres=\"\",maxwarn=3)"
   ]
  },
  {
   "cell_type": "code",
   "execution_count": 22,
   "metadata": {},
   "outputs": [
    {
     "name": "stdout",
     "output_type": "stream",
     "text": [
      "-Create the tpr file equi_HA_short_1LI2.tpr\n",
      "gmx grompp -f equi_HA_short_1LI2.mdp -c ../sys_em/1LI2.gro -r ../sys_em/1LI2.gro -p ../sys_top/1LI2_water_ion.top -po out_equi_HA_short_1LI2.mdp -o equi_HA_short_1LI2.tpr -maxwarn 3\n",
      "-Launch the simulation equi_HA_short_1LI2.tpr\n",
      "gmx mdrun -s equi_HA_short_1LI2.tpr -deffnm equi_HA_short_1LI2 -nt 0 -ntmpi 0 -nsteps -2 -nocopyright\n"
     ]
    },
    {
     "data": {
      "application/vnd.jupyter.widget-view+json": {
       "model_id": "2fdf981137d945bc973ae4332780487b",
       "version_major": 2,
       "version_minor": 0
      },
      "text/plain": [
       "HBox(children=(FloatProgress(value=0.0, max=20000.0), HTML(value='')))"
      ]
     },
     "metadata": {},
     "output_type": "display_data"
    },
    {
     "name": "stdout",
     "output_type": "stream",
     "text": [
      "\n"
     ]
    }
   ],
   "source": [
    "mdp_options = {'nsteps': 20000,\n",
    "               'define': '-DPOSRES', 'dt': 0.0005,\n",
    "               'tc-grps': 'Protein {} Water_and_ions'.format(MOL_ID),\n",
    "               'tau_t': '0.1 0.1 0.1',\n",
    "               'ref_t' : '310 310 310'}\n",
    "\n",
    "equi_template_mdp = os.path.join(gmx.GROMACS_MOD_DIRNAME,\n",
    "                                 \"template/equi.mdp\")\n",
    "md_sys.run_md_sim(out_folder=os.path.join(DATA_OUT, \"sys_short_equi\"),\n",
    "                  name=\"equi_HA_short_\" + PDB_ID,\n",
    "                  mdp_template=equi_template_mdp,\n",
    "                  mdp_options=mdp_options, maxwarn=3)"
   ]
  },
  {
   "cell_type": "code",
   "execution_count": 23,
   "metadata": {
    "scrolled": false
   },
   "outputs": [
    {
     "name": "stdout",
     "output_type": "stream",
     "text": [
      "-Create the tpr file equi_HA_1LI2.tpr\n",
      "gmx grompp -f equi_HA_1LI2.mdp -c ../../sys_short_equi/equi_HA_short_1LI2.gro -r ../../sys_short_equi/equi_HA_short_1LI2.gro -p ../../sys_top/1LI2_water_ion.top -po out_equi_HA_1LI2.mdp -o equi_HA_1LI2.tpr -maxwarn 3\n",
      "-Launch the simulation equi_HA_1LI2.tpr\n",
      "gmx mdrun -s equi_HA_1LI2.tpr -deffnm equi_HA_1LI2 -nt 0 -ntmpi 0 -nsteps -2 -nocopyright\n"
     ]
    },
    {
     "data": {
      "application/vnd.jupyter.widget-view+json": {
       "model_id": "c5cd2a31d2a3427f945b79663a57b25b",
       "version_major": 2,
       "version_minor": 0
      },
      "text/plain": [
       "HBox(children=(FloatProgress(value=0.0, max=250000.0), HTML(value='')))"
      ]
     },
     "metadata": {},
     "output_type": "display_data"
    },
    {
     "name": "stdout",
     "output_type": "stream",
     "text": [
      "\n",
      "-Create the tpr file equi_CA_1LI2.tpr\n",
      "gmx grompp -f equi_CA_1LI2.mdp -c ../00_equi_HA/equi_HA_1LI2.gro -r ../../sys_short_equi/equi_HA_short_1LI2.gro -p ../../sys_top/1LI2_water_ion.top -po out_equi_CA_1LI2.mdp -o equi_CA_1LI2.tpr -maxwarn 3\n",
      "-Launch the simulation equi_CA_1LI2.tpr\n",
      "gmx mdrun -s equi_CA_1LI2.tpr -deffnm equi_CA_1LI2 -nt 0 -ntmpi 0 -nsteps -2 -nocopyright\n"
     ]
    },
    {
     "data": {
      "application/vnd.jupyter.widget-view+json": {
       "model_id": "47c317a694324037833b9f7376245d12",
       "version_major": 2,
       "version_minor": 0
      },
      "text/plain": [
       "HBox(children=(FloatProgress(value=0.0, max=250000.0), HTML(value='')))"
      ]
     },
     "metadata": {},
     "output_type": "display_data"
    },
    {
     "name": "stdout",
     "output_type": "stream",
     "text": [
      "\n",
      "-Create the tpr file equi_CA_LOW_1LI2.tpr\n",
      "gmx grompp -f equi_CA_LOW_1LI2.mdp -c ../01_equi_CA/equi_CA_1LI2.gro -r ../../sys_short_equi/equi_HA_short_1LI2.gro -p ../../sys_top/1LI2_water_ion.top -po out_equi_CA_LOW_1LI2.mdp -o equi_CA_LOW_1LI2.tpr -maxwarn 3\n",
      "-Launch the simulation equi_CA_LOW_1LI2.tpr\n",
      "gmx mdrun -s equi_CA_LOW_1LI2.tpr -deffnm equi_CA_LOW_1LI2 -nt 0 -ntmpi 0 -nsteps -2 -nocopyright\n"
     ]
    },
    {
     "data": {
      "application/vnd.jupyter.widget-view+json": {
       "model_id": "97fae72ee50e474288702d3bcda10ad5",
       "version_major": 2,
       "version_minor": 0
      },
      "text/plain": [
       "HBox(children=(FloatProgress(value=0.0, max=500000.0), HTML(value='')))"
      ]
     },
     "metadata": {},
     "output_type": "display_data"
    },
    {
     "name": "stdout",
     "output_type": "stream",
     "text": [
      "\n"
     ]
    }
   ],
   "source": [
    "HA_time = 0.25\n",
    "CA_time = 0.5\n",
    "CA_LOW_time = 1.0\n",
    "dt = 0.002\n",
    "dt_HA = 0.001\n",
    "\n",
    "md_sys.equi_three_step(out_folder=os.path.join(DATA_OUT, 'sys_equi'),\n",
    "                                     nsteps_HA=1000 * HA_time / dt_HA,\n",
    "                                     nsteps_CA=1000 * CA_time / dt,\n",
    "                                     nsteps_CA_LOW=1000 * CA_LOW_time / dt,\n",
    "                                     dt=dt, dt_HA=dt_HA, maxwarn=3)\n"
   ]
  },
  {
   "cell_type": "code",
   "execution_count": 32,
   "metadata": {},
   "outputs": [
    {
     "ename": "ImportError",
     "evalue": "'SimpletrajTrajectory' requires the 'simpletraj' package",
     "output_type": "error",
     "traceback": [
      "\u001b[0;31m---------------------------------------------------------------------------\u001b[0m",
      "\u001b[0;31mModuleNotFoundError\u001b[0m                       Traceback (most recent call last)",
      "\u001b[0;32m~/miniconda3/lib/python3.7/site-packages/nglview/adaptor.py\u001b[0m in \u001b[0;36m__init__\u001b[0;34m(self, path, structure_path)\u001b[0m\n\u001b[1;32m    274\u001b[0m         \u001b[0;32mtry\u001b[0m\u001b[0;34m:\u001b[0m\u001b[0;34m\u001b[0m\u001b[0;34m\u001b[0m\u001b[0m\n\u001b[0;32m--> 275\u001b[0;31m             \u001b[0;32mimport\u001b[0m \u001b[0msimpletraj\u001b[0m\u001b[0;34m\u001b[0m\u001b[0;34m\u001b[0m\u001b[0m\n\u001b[0m\u001b[1;32m    276\u001b[0m         \u001b[0;32mexcept\u001b[0m \u001b[0mImportError\u001b[0m \u001b[0;32mas\u001b[0m \u001b[0me\u001b[0m\u001b[0;34m:\u001b[0m\u001b[0;34m\u001b[0m\u001b[0;34m\u001b[0m\u001b[0m\n",
      "\u001b[0;31mModuleNotFoundError\u001b[0m: No module named 'simpletraj'",
      "\nDuring handling of the above exception, another exception occurred:\n",
      "\u001b[0;31mImportError\u001b[0m                               Traceback (most recent call last)",
      "\u001b[0;32m<ipython-input-32-a75d52cdf474>\u001b[0m in \u001b[0;36m<module>\u001b[0;34m\u001b[0m\n\u001b[0;32m----> 1\u001b[0;31m \u001b[0mview\u001b[0m \u001b[0;34m=\u001b[0m \u001b[0mmd_sys\u001b[0m\u001b[0;34m.\u001b[0m\u001b[0mview_traj\u001b[0m\u001b[0;34m(\u001b[0m\u001b[0;34m)\u001b[0m\u001b[0;34m\u001b[0m\u001b[0;34m\u001b[0m\u001b[0m\n\u001b[0m\u001b[1;32m      2\u001b[0m \u001b[0mview\u001b[0m\u001b[0;34m\u001b[0m\u001b[0;34m\u001b[0m\u001b[0m\n",
      "\u001b[0;32m~/Documents/Code/gromacs_py/gromacs_py/gmx.py\u001b[0m in \u001b[0;36mview_traj\u001b[0;34m(self)\u001b[0m\n\u001b[1;32m   1909\u001b[0m         \u001b[0;32mimport\u001b[0m \u001b[0mnglview\u001b[0m \u001b[0;32mas\u001b[0m \u001b[0mnv\u001b[0m\u001b[0;34m\u001b[0m\u001b[0;34m\u001b[0m\u001b[0m\n\u001b[1;32m   1910\u001b[0m \u001b[0;34m\u001b[0m\u001b[0m\n\u001b[0;32m-> 1911\u001b[0;31m         \u001b[0msimple_traj\u001b[0m \u001b[0;34m=\u001b[0m \u001b[0mnv\u001b[0m\u001b[0;34m.\u001b[0m\u001b[0mSimpletrajTrajectory\u001b[0m\u001b[0;34m(\u001b[0m\u001b[0mself\u001b[0m\u001b[0;34m.\u001b[0m\u001b[0mxtc\u001b[0m\u001b[0;34m,\u001b[0m \u001b[0mself\u001b[0m\u001b[0;34m.\u001b[0m\u001b[0mcoor_file\u001b[0m\u001b[0;34m)\u001b[0m\u001b[0;34m\u001b[0m\u001b[0;34m\u001b[0m\u001b[0m\n\u001b[0m\u001b[1;32m   1912\u001b[0m         \u001b[0;32mreturn\u001b[0m \u001b[0mnv\u001b[0m\u001b[0;34m.\u001b[0m\u001b[0mNGLWidget\u001b[0m\u001b[0;34m(\u001b[0m\u001b[0msimple_traj\u001b[0m\u001b[0;34m)\u001b[0m\u001b[0;34m\u001b[0m\u001b[0;34m\u001b[0m\u001b[0m\n\u001b[1;32m   1913\u001b[0m \u001b[0;34m\u001b[0m\u001b[0m\n",
      "\u001b[0;32m~/miniconda3/lib/python3.7/site-packages/nglview/adaptor.py\u001b[0m in \u001b[0;36m__init__\u001b[0;34m(self, path, structure_path)\u001b[0m\n\u001b[1;32m    276\u001b[0m         \u001b[0;32mexcept\u001b[0m \u001b[0mImportError\u001b[0m \u001b[0;32mas\u001b[0m \u001b[0me\u001b[0m\u001b[0;34m:\u001b[0m\u001b[0;34m\u001b[0m\u001b[0;34m\u001b[0m\u001b[0m\n\u001b[1;32m    277\u001b[0m             raise ImportError(\n\u001b[0;32m--> 278\u001b[0;31m                 \"'SimpletrajTrajectory' requires the 'simpletraj' package\")\n\u001b[0m\u001b[1;32m    279\u001b[0m         \u001b[0mself\u001b[0m\u001b[0;34m.\u001b[0m\u001b[0mtraj_cache\u001b[0m \u001b[0;34m=\u001b[0m \u001b[0msimpletraj\u001b[0m\u001b[0;34m.\u001b[0m\u001b[0mtrajectory\u001b[0m\u001b[0;34m.\u001b[0m\u001b[0mTrajectoryCache\u001b[0m\u001b[0;34m(\u001b[0m\u001b[0;34m)\u001b[0m\u001b[0;34m\u001b[0m\u001b[0;34m\u001b[0m\u001b[0m\n\u001b[1;32m    280\u001b[0m         \u001b[0mself\u001b[0m\u001b[0;34m.\u001b[0m\u001b[0mpath\u001b[0m \u001b[0;34m=\u001b[0m \u001b[0mpath\u001b[0m\u001b[0;34m\u001b[0m\u001b[0;34m\u001b[0m\u001b[0m\n",
      "\u001b[0;31mImportError\u001b[0m: 'SimpletrajTrajectory' requires the 'simpletraj' package"
     ]
    }
   ],
   "source": [
    "view = md_sys.view_traj()\n",
    "view"
   ]
  },
  {
   "cell_type": "code",
   "execution_count": 26,
   "metadata": {},
   "outputs": [],
   "source": [
    "start_sys = copy.deepcopy(md_sys)"
   ]
  },
  {
   "cell_type": "code",
   "execution_count": 27,
   "metadata": {},
   "outputs": [
    {
     "name": "stdout",
     "output_type": "stream",
     "text": [
      "/home/murail/Documents/Code/gromacs_py/docs/notebook\n"
     ]
    }
   ],
   "source": [
    "cd /home/murail/Documents/Code/gromacs_py/docs/notebook/"
   ]
  },
  {
   "cell_type": "code",
   "execution_count": 28,
   "metadata": {},
   "outputs": [],
   "source": [
    "#rm -r data_lig_trypsin/free_test_2"
   ]
  },
  {
   "cell_type": "markdown",
   "metadata": {},
   "source": [
    "## Free energy calculation of binding\n",
    "\n",
    "```\n",
    "point      0 -      1,   DG 43.22 +/-  0.32\n",
    "point      1 -      2,   DG 39.30 +/-  0.20\n",
    "point      2 -      3,   DG 34.61 +/-  0.22\n",
    "point      3 -      4,   DG 30.03 +/-  0.26\n",
    "point      4 -      5,   DG 26.29 +/-  0.12\n",
    "point      5 -      6,   DG 22.48 +/-  0.19\n",
    "point      6 -      7,   DG 18.60 +/-  0.31\n",
    "point      7 -      8,   DG 16.04 +/-  0.43\n",
    "point      8 -      9,   DG 12.41 +/-  0.55\n",
    "point      9 -     10,   DG  7.56 +/-  0.65\n",
    "point     10 -     11,   DG 11.13 +/-  0.16\n",
    "point     11 -     12,   DG 10.94 +/-  0.12\n",
    "point     12 -     13,   DG 10.27 +/-  0.33\n",
    "point     13 -     14,   DG  9.46 +/-  0.18\n",
    "point     14 -     15,   DG  8.84 +/-  0.40\n",
    "point     15 -     16,   DG  6.52 +/-  0.23\n",
    "point     16 -     17,   DG  1.31 +/-  1.79\n",
    "point     17 -     18,   DG -4.80 +/-  2.10\n",
    "point     18 -     19,   DG -7.12 +/-  0.53\n",
    "point     19 -     20,   DG -5.49 +/-  0.94\n",
    "\n",
    "total      0 -     20,   DG 291.59 +/-  6.12\n",
    "```\n",
    "\n",
    "Coulomb = 250.5 KJ/mol\n",
    "LJ =       41.06 KJ/mol\n",
    "\n",
    "```\n",
    "\n",
    "point      0 -      1,   DG  1.10 +/-  0.11\n",
    "point      1 -      2,   DG  0.65 +/-  0.05\n",
    "point      2 -      3,   DG  0.49 +/-  0.03\n",
    "point      3 -      4,   DG  0.40 +/-  0.02\n",
    "point      4 -      5,   DG  0.40 +/-  0.03\n",
    "point      5 -      6,   DG 82.68 +/-  0.24\n",
    "point      6 -      7,   DG 68.01 +/-  0.41\n",
    "point      7 -      8,   DG 51.16 +/-  0.91\n",
    "point      8 -      9,   DG 35.90 +/-  0.76\n",
    "point      9 -     10,   DG 23.08 +/-  0.35\n",
    "\n",
    "total      0 -     10,   DG 263.86 +/-  1.46\n",
    "```\n",
    "\n",
    "Rest = 3.04 KJ/mol\n",
    "Coulomb = 260.83 KJ/mol"
   ]
  },
  {
   "cell_type": "code",
   "execution_count": 29,
   "metadata": {},
   "outputs": [
    {
     "data": {
      "text/plain": [
       "41.06"
      ]
     },
     "execution_count": 29,
     "metadata": {},
     "output_type": "execute_result"
    }
   ],
   "source": [
    "sum([ 11.13,\n",
    "10.94,\n",
    "10.27,\n",
    " 9.46,\n",
    " 8.84,\n",
    " 6.52,\n",
    " 1.31,\n",
    "-4.80,\n",
    "-7.12,\n",
    "-5.49])"
   ]
  },
  {
   "cell_type": "code",
   "execution_count": 30,
   "metadata": {
    "scrolled": true
   },
   "outputs": [
    {
     "name": "stdout",
     "output_type": "stream",
     "text": [
      "Coulomb lambda :0.00 0.00 0.00 0.00 0.00 0.00 0.20 0.40 0.60 0.80 1.00 1.00 1.00 1.00 1.00 1.00 1.00 1.00 1.00 1.00 1.00 \n",
      "Vdw lambda     :0.00 0.00 0.00 0.00 0.00 0.00 0.00 0.00 0.00 0.00 0.00 0.10 0.20 0.30 0.40 0.50 0.60 0.70 0.80 0.90 1.00 \n",
      "bond_lambdas   :0.00 0.20 0.40 0.60 0.80 1.00 1.00 1.00 1.00 1.00 1.00 1.00 1.00 1.00 1.00 1.00 1.00 1.00 1.00 1.00 1.00 \n"
     ]
    },
    {
     "data": {
      "application/vnd.jupyter.widget-view+json": {
       "model_id": "8e115f2a052a4d2684d83d6d35a628ef",
       "version_major": 2,
       "version_minor": 0
      },
      "text/plain": [
       "HBox(children=(FloatProgress(value=0.0, max=1365000.0), HTML(value='')))"
      ]
     },
     "metadata": {},
     "output_type": "display_data"
    },
    {
     "name": "stdout",
     "output_type": "stream",
     "text": [
      "-Create the tpr file em_1LI2_vdwq_00.tpr\n",
      "gmx grompp -f em_1LI2_vdwq_00.mdp -c ../../sys_equi/02_equi_CA_LOW/equi_CA_LOW_1LI2.gro -r ../../sys_equi/02_equi_CA_LOW/equi_CA_LOW_1LI2.gro -p ../../sys_top/1LI2_water_ion.top -po out_em_1LI2_vdwq_00.mdp -o em_1LI2_vdwq_00.tpr -maxwarn 1\n",
      "-Launch the simulation em_1LI2_vdwq_00.tpr\n",
      "gmx mdrun -s em_1LI2_vdwq_00.tpr -deffnm em_1LI2_vdwq_00 -nt 0 -ntmpi 0 -nsteps -2 -nocopyright\n"
     ]
    },
    {
     "data": {
      "application/vnd.jupyter.widget-view+json": {
       "model_id": "19ac0761af9c41be92d19137d4e365b2",
       "version_major": 2,
       "version_minor": 0
      },
      "text/plain": [
       "HBox(children=(FloatProgress(value=0.0, max=5000.0), HTML(value='')))"
      ]
     },
     "metadata": {},
     "output_type": "display_data"
    },
    {
     "name": "stdout",
     "output_type": "stream",
     "text": [
      "\n",
      "-Create the tpr file nvt_1LI2_vdwq_00.tpr\n",
      "gmx grompp -f nvt_1LI2_vdwq_00.mdp -c ../00_em/em_1LI2_vdwq_00.gro -r ../00_em/em_1LI2_vdwq_00.gro -p ../../sys_top/1LI2_water_ion.top -po out_nvt_1LI2_vdwq_00.mdp -o nvt_1LI2_vdwq_00.tpr -maxwarn 1\n",
      "-Launch the simulation nvt_1LI2_vdwq_00.tpr\n",
      "gmx mdrun -s nvt_1LI2_vdwq_00.tpr -deffnm nvt_1LI2_vdwq_00 -nt 0 -ntmpi 0 -nsteps -2 -nocopyright\n"
     ]
    },
    {
     "data": {
      "application/vnd.jupyter.widget-view+json": {
       "model_id": "01abf9d5eb2645d6bedc415da3ca66b7",
       "version_major": 2,
       "version_minor": 0
      },
      "text/plain": [
       "HBox(children=(FloatProgress(value=0.0, max=5000.0), HTML(value='')))"
      ]
     },
     "metadata": {},
     "output_type": "display_data"
    },
    {
     "name": "stdout",
     "output_type": "stream",
     "text": [
      "\n",
      "-Create the tpr file npt_1LI2_vdwq_00.tpr\n",
      "gmx grompp -f npt_1LI2_vdwq_00.mdp -c ../01_equi_nvt/nvt_1LI2_vdwq_00.gro -r ../01_equi_nvt/nvt_1LI2_vdwq_00.gro -p ../../sys_top/1LI2_water_ion.top -po out_npt_1LI2_vdwq_00.mdp -o npt_1LI2_vdwq_00.tpr -maxwarn 1\n",
      "-Launch the simulation npt_1LI2_vdwq_00.tpr\n",
      "gmx mdrun -s npt_1LI2_vdwq_00.tpr -deffnm npt_1LI2_vdwq_00 -nt 0 -ntmpi 0 -nsteps -2 -nocopyright\n"
     ]
    },
    {
     "data": {
      "application/vnd.jupyter.widget-view+json": {
       "model_id": "edc85c0556624042b3067ab56cf4f2bb",
       "version_major": 2,
       "version_minor": 0
      },
      "text/plain": [
       "HBox(children=(FloatProgress(value=0.0, max=5000.0), HTML(value='')))"
      ]
     },
     "metadata": {},
     "output_type": "display_data"
    },
    {
     "name": "stdout",
     "output_type": "stream",
     "text": [
      "\n",
      "-Create the tpr file prod_1LI2_vdwq_00.tpr\n",
      "gmx grompp -f prod_1LI2_vdwq_00.mdp -c ../02_equi_npt/npt_1LI2_vdwq_00.gro -r ../02_equi_npt/npt_1LI2_vdwq_00.gro -p ../../sys_top/1LI2_water_ion.top -po out_prod_1LI2_vdwq_00.mdp -o prod_1LI2_vdwq_00.tpr -maxwarn 1\n",
      "-Launch the simulation prod_1LI2_vdwq_00.tpr\n",
      "gmx mdrun -s prod_1LI2_vdwq_00.tpr -deffnm prod_1LI2_vdwq_00 -nt 0 -ntmpi 0 -nsteps -2 -nocopyright\n"
     ]
    },
    {
     "data": {
      "application/vnd.jupyter.widget-view+json": {
       "model_id": "71fc9740594a4c51be6396800aabf6cc",
       "version_major": 2,
       "version_minor": 0
      },
      "text/plain": [
       "HBox(children=(FloatProgress(value=0.0, max=50000.0), HTML(value='')))"
      ]
     },
     "metadata": {},
     "output_type": "display_data"
    },
    {
     "name": "stdout",
     "output_type": "stream",
     "text": [
      "\n",
      "-Create the tpr file em_1LI2_vdwq_01.tpr\n",
      "gmx grompp -f em_1LI2_vdwq_01.mdp -c ../../sys_equi/02_equi_CA_LOW/equi_CA_LOW_1LI2.gro -r ../../sys_equi/02_equi_CA_LOW/equi_CA_LOW_1LI2.gro -p ../../sys_top/1LI2_water_ion.top -po out_em_1LI2_vdwq_01.mdp -o em_1LI2_vdwq_01.tpr -maxwarn 1\n",
      "-Launch the simulation em_1LI2_vdwq_01.tpr\n",
      "gmx mdrun -s em_1LI2_vdwq_01.tpr -deffnm em_1LI2_vdwq_01 -nt 0 -ntmpi 0 -nsteps -2 -nocopyright\n"
     ]
    },
    {
     "data": {
      "application/vnd.jupyter.widget-view+json": {
       "model_id": "13639d873a974b01aed5354cd309577f",
       "version_major": 2,
       "version_minor": 0
      },
      "text/plain": [
       "HBox(children=(FloatProgress(value=0.0, max=5000.0), HTML(value='')))"
      ]
     },
     "metadata": {},
     "output_type": "display_data"
    },
    {
     "name": "stdout",
     "output_type": "stream",
     "text": [
      "\n",
      "-Create the tpr file nvt_1LI2_vdwq_01.tpr\n",
      "gmx grompp -f nvt_1LI2_vdwq_01.mdp -c ../00_em/em_1LI2_vdwq_01.gro -r ../00_em/em_1LI2_vdwq_01.gro -p ../../sys_top/1LI2_water_ion.top -po out_nvt_1LI2_vdwq_01.mdp -o nvt_1LI2_vdwq_01.tpr -maxwarn 1\n",
      "-Launch the simulation nvt_1LI2_vdwq_01.tpr\n",
      "gmx mdrun -s nvt_1LI2_vdwq_01.tpr -deffnm nvt_1LI2_vdwq_01 -nt 0 -ntmpi 0 -nsteps -2 -nocopyright\n"
     ]
    },
    {
     "data": {
      "application/vnd.jupyter.widget-view+json": {
       "model_id": "f0a74e6a13314e108edcd5493867466a",
       "version_major": 2,
       "version_minor": 0
      },
      "text/plain": [
       "HBox(children=(FloatProgress(value=0.0, max=5000.0), HTML(value='')))"
      ]
     },
     "metadata": {},
     "output_type": "display_data"
    },
    {
     "name": "stdout",
     "output_type": "stream",
     "text": [
      "\n",
      "-Create the tpr file npt_1LI2_vdwq_01.tpr\n",
      "gmx grompp -f npt_1LI2_vdwq_01.mdp -c ../01_equi_nvt/nvt_1LI2_vdwq_01.gro -r ../01_equi_nvt/nvt_1LI2_vdwq_01.gro -p ../../sys_top/1LI2_water_ion.top -po out_npt_1LI2_vdwq_01.mdp -o npt_1LI2_vdwq_01.tpr -maxwarn 1\n",
      "-Launch the simulation npt_1LI2_vdwq_01.tpr\n",
      "gmx mdrun -s npt_1LI2_vdwq_01.tpr -deffnm npt_1LI2_vdwq_01 -nt 0 -ntmpi 0 -nsteps -2 -nocopyright\n"
     ]
    },
    {
     "data": {
      "application/vnd.jupyter.widget-view+json": {
       "model_id": "2b0b954b4d664ae79fe2f9c94eba800d",
       "version_major": 2,
       "version_minor": 0
      },
      "text/plain": [
       "HBox(children=(FloatProgress(value=0.0, max=5000.0), HTML(value='')))"
      ]
     },
     "metadata": {},
     "output_type": "display_data"
    },
    {
     "name": "stdout",
     "output_type": "stream",
     "text": [
      "\n",
      "-Create the tpr file prod_1LI2_vdwq_01.tpr\n",
      "gmx grompp -f prod_1LI2_vdwq_01.mdp -c ../02_equi_npt/npt_1LI2_vdwq_01.gro -r ../02_equi_npt/npt_1LI2_vdwq_01.gro -p ../../sys_top/1LI2_water_ion.top -po out_prod_1LI2_vdwq_01.mdp -o prod_1LI2_vdwq_01.tpr -maxwarn 1\n",
      "-Launch the simulation prod_1LI2_vdwq_01.tpr\n",
      "gmx mdrun -s prod_1LI2_vdwq_01.tpr -deffnm prod_1LI2_vdwq_01 -nt 0 -ntmpi 0 -nsteps -2 -nocopyright\n"
     ]
    },
    {
     "data": {
      "application/vnd.jupyter.widget-view+json": {
       "model_id": "77cb05f605b04490aba529957868e0f9",
       "version_major": 2,
       "version_minor": 0
      },
      "text/plain": [
       "HBox(children=(FloatProgress(value=0.0, max=50000.0), HTML(value='')))"
      ]
     },
     "metadata": {},
     "output_type": "display_data"
    },
    {
     "name": "stdout",
     "output_type": "stream",
     "text": [
      "\n",
      "-Create the tpr file em_1LI2_vdwq_02.tpr\n",
      "gmx grompp -f em_1LI2_vdwq_02.mdp -c ../../sys_equi/02_equi_CA_LOW/equi_CA_LOW_1LI2.gro -r ../../sys_equi/02_equi_CA_LOW/equi_CA_LOW_1LI2.gro -p ../../sys_top/1LI2_water_ion.top -po out_em_1LI2_vdwq_02.mdp -o em_1LI2_vdwq_02.tpr -maxwarn 1\n",
      "-Launch the simulation em_1LI2_vdwq_02.tpr\n",
      "gmx mdrun -s em_1LI2_vdwq_02.tpr -deffnm em_1LI2_vdwq_02 -nt 0 -ntmpi 0 -nsteps -2 -nocopyright\n"
     ]
    },
    {
     "data": {
      "application/vnd.jupyter.widget-view+json": {
       "model_id": "2df3880510e144b2b5b7e278b5d26588",
       "version_major": 2,
       "version_minor": 0
      },
      "text/plain": [
       "HBox(children=(FloatProgress(value=0.0, max=5000.0), HTML(value='')))"
      ]
     },
     "metadata": {},
     "output_type": "display_data"
    },
    {
     "name": "stdout",
     "output_type": "stream",
     "text": [
      "\n",
      "-Create the tpr file nvt_1LI2_vdwq_02.tpr\n",
      "gmx grompp -f nvt_1LI2_vdwq_02.mdp -c ../00_em/em_1LI2_vdwq_02.gro -r ../00_em/em_1LI2_vdwq_02.gro -p ../../sys_top/1LI2_water_ion.top -po out_nvt_1LI2_vdwq_02.mdp -o nvt_1LI2_vdwq_02.tpr -maxwarn 1\n",
      "-Launch the simulation nvt_1LI2_vdwq_02.tpr\n",
      "gmx mdrun -s nvt_1LI2_vdwq_02.tpr -deffnm nvt_1LI2_vdwq_02 -nt 0 -ntmpi 0 -nsteps -2 -nocopyright\n"
     ]
    },
    {
     "data": {
      "application/vnd.jupyter.widget-view+json": {
       "model_id": "80088b41cfb845dca116ec5e86af6eb9",
       "version_major": 2,
       "version_minor": 0
      },
      "text/plain": [
       "HBox(children=(FloatProgress(value=0.0, max=5000.0), HTML(value='')))"
      ]
     },
     "metadata": {},
     "output_type": "display_data"
    },
    {
     "name": "stdout",
     "output_type": "stream",
     "text": [
      "\n",
      "-Create the tpr file npt_1LI2_vdwq_02.tpr\n",
      "gmx grompp -f npt_1LI2_vdwq_02.mdp -c ../01_equi_nvt/nvt_1LI2_vdwq_02.gro -r ../01_equi_nvt/nvt_1LI2_vdwq_02.gro -p ../../sys_top/1LI2_water_ion.top -po out_npt_1LI2_vdwq_02.mdp -o npt_1LI2_vdwq_02.tpr -maxwarn 1\n",
      "-Launch the simulation npt_1LI2_vdwq_02.tpr\n",
      "gmx mdrun -s npt_1LI2_vdwq_02.tpr -deffnm npt_1LI2_vdwq_02 -nt 0 -ntmpi 0 -nsteps -2 -nocopyright\n"
     ]
    },
    {
     "data": {
      "application/vnd.jupyter.widget-view+json": {
       "model_id": "4b1bd6eaeb4c4cc68f5d55c004117910",
       "version_major": 2,
       "version_minor": 0
      },
      "text/plain": [
       "HBox(children=(FloatProgress(value=0.0, max=5000.0), HTML(value='')))"
      ]
     },
     "metadata": {},
     "output_type": "display_data"
    },
    {
     "name": "stdout",
     "output_type": "stream",
     "text": [
      "\n",
      "-Create the tpr file prod_1LI2_vdwq_02.tpr\n",
      "gmx grompp -f prod_1LI2_vdwq_02.mdp -c ../02_equi_npt/npt_1LI2_vdwq_02.gro -r ../02_equi_npt/npt_1LI2_vdwq_02.gro -p ../../sys_top/1LI2_water_ion.top -po out_prod_1LI2_vdwq_02.mdp -o prod_1LI2_vdwq_02.tpr -maxwarn 1\n",
      "-Launch the simulation prod_1LI2_vdwq_02.tpr\n",
      "gmx mdrun -s prod_1LI2_vdwq_02.tpr -deffnm prod_1LI2_vdwq_02 -nt 0 -ntmpi 0 -nsteps -2 -nocopyright\n"
     ]
    },
    {
     "data": {
      "application/vnd.jupyter.widget-view+json": {
       "model_id": "913f01de0f3a434384afd28891ba3303",
       "version_major": 2,
       "version_minor": 0
      },
      "text/plain": [
       "HBox(children=(FloatProgress(value=0.0, max=50000.0), HTML(value='')))"
      ]
     },
     "metadata": {},
     "output_type": "display_data"
    },
    {
     "name": "stdout",
     "output_type": "stream",
     "text": [
      "\n",
      "-Create the tpr file em_1LI2_vdwq_03.tpr\n",
      "gmx grompp -f em_1LI2_vdwq_03.mdp -c ../../sys_equi/02_equi_CA_LOW/equi_CA_LOW_1LI2.gro -r ../../sys_equi/02_equi_CA_LOW/equi_CA_LOW_1LI2.gro -p ../../sys_top/1LI2_water_ion.top -po out_em_1LI2_vdwq_03.mdp -o em_1LI2_vdwq_03.tpr -maxwarn 1\n",
      "-Launch the simulation em_1LI2_vdwq_03.tpr\n",
      "gmx mdrun -s em_1LI2_vdwq_03.tpr -deffnm em_1LI2_vdwq_03 -nt 0 -ntmpi 0 -nsteps -2 -nocopyright\n"
     ]
    },
    {
     "data": {
      "application/vnd.jupyter.widget-view+json": {
       "model_id": "7fe3cb4fc18546748c60d3fa48cda859",
       "version_major": 2,
       "version_minor": 0
      },
      "text/plain": [
       "HBox(children=(FloatProgress(value=0.0, max=5000.0), HTML(value='')))"
      ]
     },
     "metadata": {},
     "output_type": "display_data"
    },
    {
     "name": "stdout",
     "output_type": "stream",
     "text": [
      "\n",
      "-Create the tpr file nvt_1LI2_vdwq_03.tpr\n",
      "gmx grompp -f nvt_1LI2_vdwq_03.mdp -c ../00_em/em_1LI2_vdwq_03.gro -r ../00_em/em_1LI2_vdwq_03.gro -p ../../sys_top/1LI2_water_ion.top -po out_nvt_1LI2_vdwq_03.mdp -o nvt_1LI2_vdwq_03.tpr -maxwarn 1\n",
      "-Launch the simulation nvt_1LI2_vdwq_03.tpr\n",
      "gmx mdrun -s nvt_1LI2_vdwq_03.tpr -deffnm nvt_1LI2_vdwq_03 -nt 0 -ntmpi 0 -nsteps -2 -nocopyright\n"
     ]
    },
    {
     "data": {
      "application/vnd.jupyter.widget-view+json": {
       "model_id": "2a51e698506a4bdeb9cf882d8059b8b2",
       "version_major": 2,
       "version_minor": 0
      },
      "text/plain": [
       "HBox(children=(FloatProgress(value=0.0, max=5000.0), HTML(value='')))"
      ]
     },
     "metadata": {},
     "output_type": "display_data"
    },
    {
     "name": "stdout",
     "output_type": "stream",
     "text": [
      "\n",
      "-Create the tpr file npt_1LI2_vdwq_03.tpr\n",
      "gmx grompp -f npt_1LI2_vdwq_03.mdp -c ../01_equi_nvt/nvt_1LI2_vdwq_03.gro -r ../01_equi_nvt/nvt_1LI2_vdwq_03.gro -p ../../sys_top/1LI2_water_ion.top -po out_npt_1LI2_vdwq_03.mdp -o npt_1LI2_vdwq_03.tpr -maxwarn 1\n",
      "-Launch the simulation npt_1LI2_vdwq_03.tpr\n",
      "gmx mdrun -s npt_1LI2_vdwq_03.tpr -deffnm npt_1LI2_vdwq_03 -nt 0 -ntmpi 0 -nsteps -2 -nocopyright\n"
     ]
    },
    {
     "data": {
      "application/vnd.jupyter.widget-view+json": {
       "model_id": "a9657143505a4b0ea0a6c7fe80a17412",
       "version_major": 2,
       "version_minor": 0
      },
      "text/plain": [
       "HBox(children=(FloatProgress(value=0.0, max=5000.0), HTML(value='')))"
      ]
     },
     "metadata": {},
     "output_type": "display_data"
    },
    {
     "name": "stdout",
     "output_type": "stream",
     "text": [
      "\n",
      "-Create the tpr file prod_1LI2_vdwq_03.tpr\n",
      "gmx grompp -f prod_1LI2_vdwq_03.mdp -c ../02_equi_npt/npt_1LI2_vdwq_03.gro -r ../02_equi_npt/npt_1LI2_vdwq_03.gro -p ../../sys_top/1LI2_water_ion.top -po out_prod_1LI2_vdwq_03.mdp -o prod_1LI2_vdwq_03.tpr -maxwarn 1\n",
      "-Launch the simulation prod_1LI2_vdwq_03.tpr\n",
      "gmx mdrun -s prod_1LI2_vdwq_03.tpr -deffnm prod_1LI2_vdwq_03 -nt 0 -ntmpi 0 -nsteps -2 -nocopyright\n"
     ]
    },
    {
     "data": {
      "application/vnd.jupyter.widget-view+json": {
       "model_id": "266a1d09424e4a5fb65ff4705d5fa688",
       "version_major": 2,
       "version_minor": 0
      },
      "text/plain": [
       "HBox(children=(FloatProgress(value=0.0, max=50000.0), HTML(value='')))"
      ]
     },
     "metadata": {},
     "output_type": "display_data"
    },
    {
     "name": "stdout",
     "output_type": "stream",
     "text": [
      "\n",
      "-Create the tpr file em_1LI2_vdwq_04.tpr\n",
      "gmx grompp -f em_1LI2_vdwq_04.mdp -c ../../sys_equi/02_equi_CA_LOW/equi_CA_LOW_1LI2.gro -r ../../sys_equi/02_equi_CA_LOW/equi_CA_LOW_1LI2.gro -p ../../sys_top/1LI2_water_ion.top -po out_em_1LI2_vdwq_04.mdp -o em_1LI2_vdwq_04.tpr -maxwarn 1\n",
      "-Launch the simulation em_1LI2_vdwq_04.tpr\n",
      "gmx mdrun -s em_1LI2_vdwq_04.tpr -deffnm em_1LI2_vdwq_04 -nt 0 -ntmpi 0 -nsteps -2 -nocopyright\n"
     ]
    },
    {
     "data": {
      "application/vnd.jupyter.widget-view+json": {
       "model_id": "3ffcacb380254ba1ab8cc63e88212a23",
       "version_major": 2,
       "version_minor": 0
      },
      "text/plain": [
       "HBox(children=(FloatProgress(value=0.0, max=5000.0), HTML(value='')))"
      ]
     },
     "metadata": {},
     "output_type": "display_data"
    },
    {
     "name": "stdout",
     "output_type": "stream",
     "text": [
      "\n",
      "-Create the tpr file nvt_1LI2_vdwq_04.tpr\n",
      "gmx grompp -f nvt_1LI2_vdwq_04.mdp -c ../00_em/em_1LI2_vdwq_04.gro -r ../00_em/em_1LI2_vdwq_04.gro -p ../../sys_top/1LI2_water_ion.top -po out_nvt_1LI2_vdwq_04.mdp -o nvt_1LI2_vdwq_04.tpr -maxwarn 1\n",
      "-Launch the simulation nvt_1LI2_vdwq_04.tpr\n",
      "gmx mdrun -s nvt_1LI2_vdwq_04.tpr -deffnm nvt_1LI2_vdwq_04 -nt 0 -ntmpi 0 -nsteps -2 -nocopyright\n"
     ]
    },
    {
     "data": {
      "application/vnd.jupyter.widget-view+json": {
       "model_id": "8083f8fccfa241f582c19a8cccc66b76",
       "version_major": 2,
       "version_minor": 0
      },
      "text/plain": [
       "HBox(children=(FloatProgress(value=0.0, max=5000.0), HTML(value='')))"
      ]
     },
     "metadata": {},
     "output_type": "display_data"
    },
    {
     "name": "stdout",
     "output_type": "stream",
     "text": [
      "\n",
      "-Create the tpr file npt_1LI2_vdwq_04.tpr\n",
      "gmx grompp -f npt_1LI2_vdwq_04.mdp -c ../01_equi_nvt/nvt_1LI2_vdwq_04.gro -r ../01_equi_nvt/nvt_1LI2_vdwq_04.gro -p ../../sys_top/1LI2_water_ion.top -po out_npt_1LI2_vdwq_04.mdp -o npt_1LI2_vdwq_04.tpr -maxwarn 1\n",
      "-Launch the simulation npt_1LI2_vdwq_04.tpr\n",
      "gmx mdrun -s npt_1LI2_vdwq_04.tpr -deffnm npt_1LI2_vdwq_04 -nt 0 -ntmpi 0 -nsteps -2 -nocopyright\n"
     ]
    },
    {
     "data": {
      "application/vnd.jupyter.widget-view+json": {
       "model_id": "56321211db3d43cbb81bf7666ab83f90",
       "version_major": 2,
       "version_minor": 0
      },
      "text/plain": [
       "HBox(children=(FloatProgress(value=0.0, max=5000.0), HTML(value='')))"
      ]
     },
     "metadata": {},
     "output_type": "display_data"
    },
    {
     "name": "stdout",
     "output_type": "stream",
     "text": [
      "\n",
      "-Create the tpr file prod_1LI2_vdwq_04.tpr\n",
      "gmx grompp -f prod_1LI2_vdwq_04.mdp -c ../02_equi_npt/npt_1LI2_vdwq_04.gro -r ../02_equi_npt/npt_1LI2_vdwq_04.gro -p ../../sys_top/1LI2_water_ion.top -po out_prod_1LI2_vdwq_04.mdp -o prod_1LI2_vdwq_04.tpr -maxwarn 1\n",
      "-Launch the simulation prod_1LI2_vdwq_04.tpr\n",
      "gmx mdrun -s prod_1LI2_vdwq_04.tpr -deffnm prod_1LI2_vdwq_04 -nt 0 -ntmpi 0 -nsteps -2 -nocopyright\n"
     ]
    },
    {
     "data": {
      "application/vnd.jupyter.widget-view+json": {
       "model_id": "3507e4de325f4f23a7468756ab44c937",
       "version_major": 2,
       "version_minor": 0
      },
      "text/plain": [
       "HBox(children=(FloatProgress(value=0.0, max=50000.0), HTML(value='')))"
      ]
     },
     "metadata": {},
     "output_type": "display_data"
    },
    {
     "name": "stdout",
     "output_type": "stream",
     "text": [
      "\n",
      "-Create the tpr file em_1LI2_vdwq_05.tpr\n",
      "gmx grompp -f em_1LI2_vdwq_05.mdp -c ../../sys_equi/02_equi_CA_LOW/equi_CA_LOW_1LI2.gro -r ../../sys_equi/02_equi_CA_LOW/equi_CA_LOW_1LI2.gro -p ../../sys_top/1LI2_water_ion.top -po out_em_1LI2_vdwq_05.mdp -o em_1LI2_vdwq_05.tpr -maxwarn 1\n",
      "-Launch the simulation em_1LI2_vdwq_05.tpr\n",
      "gmx mdrun -s em_1LI2_vdwq_05.tpr -deffnm em_1LI2_vdwq_05 -nt 0 -ntmpi 0 -nsteps -2 -nocopyright\n"
     ]
    },
    {
     "data": {
      "application/vnd.jupyter.widget-view+json": {
       "model_id": "f2c685986b1c418d91483e37f108e7b8",
       "version_major": 2,
       "version_minor": 0
      },
      "text/plain": [
       "HBox(children=(FloatProgress(value=0.0, max=5000.0), HTML(value='')))"
      ]
     },
     "metadata": {},
     "output_type": "display_data"
    },
    {
     "name": "stdout",
     "output_type": "stream",
     "text": [
      "\n",
      "-Create the tpr file nvt_1LI2_vdwq_05.tpr\n",
      "gmx grompp -f nvt_1LI2_vdwq_05.mdp -c ../00_em/em_1LI2_vdwq_05.gro -r ../00_em/em_1LI2_vdwq_05.gro -p ../../sys_top/1LI2_water_ion.top -po out_nvt_1LI2_vdwq_05.mdp -o nvt_1LI2_vdwq_05.tpr -maxwarn 1\n",
      "-Launch the simulation nvt_1LI2_vdwq_05.tpr\n",
      "gmx mdrun -s nvt_1LI2_vdwq_05.tpr -deffnm nvt_1LI2_vdwq_05 -nt 0 -ntmpi 0 -nsteps -2 -nocopyright\n"
     ]
    },
    {
     "data": {
      "application/vnd.jupyter.widget-view+json": {
       "model_id": "d59c7836d8b842e8b7e9d1d7d3a19ad4",
       "version_major": 2,
       "version_minor": 0
      },
      "text/plain": [
       "HBox(children=(FloatProgress(value=0.0, max=5000.0), HTML(value='')))"
      ]
     },
     "metadata": {},
     "output_type": "display_data"
    },
    {
     "name": "stdout",
     "output_type": "stream",
     "text": [
      "\n",
      "-Create the tpr file npt_1LI2_vdwq_05.tpr\n",
      "gmx grompp -f npt_1LI2_vdwq_05.mdp -c ../01_equi_nvt/nvt_1LI2_vdwq_05.gro -r ../01_equi_nvt/nvt_1LI2_vdwq_05.gro -p ../../sys_top/1LI2_water_ion.top -po out_npt_1LI2_vdwq_05.mdp -o npt_1LI2_vdwq_05.tpr -maxwarn 1\n",
      "-Launch the simulation npt_1LI2_vdwq_05.tpr\n",
      "gmx mdrun -s npt_1LI2_vdwq_05.tpr -deffnm npt_1LI2_vdwq_05 -nt 0 -ntmpi 0 -nsteps -2 -nocopyright\n"
     ]
    },
    {
     "data": {
      "application/vnd.jupyter.widget-view+json": {
       "model_id": "02b5f1987e0d43a89d32d607b7d3f15a",
       "version_major": 2,
       "version_minor": 0
      },
      "text/plain": [
       "HBox(children=(FloatProgress(value=0.0, max=5000.0), HTML(value='')))"
      ]
     },
     "metadata": {},
     "output_type": "display_data"
    },
    {
     "name": "stdout",
     "output_type": "stream",
     "text": [
      "\n",
      "-Create the tpr file prod_1LI2_vdwq_05.tpr\n",
      "gmx grompp -f prod_1LI2_vdwq_05.mdp -c ../02_equi_npt/npt_1LI2_vdwq_05.gro -r ../02_equi_npt/npt_1LI2_vdwq_05.gro -p ../../sys_top/1LI2_water_ion.top -po out_prod_1LI2_vdwq_05.mdp -o prod_1LI2_vdwq_05.tpr -maxwarn 1\n",
      "-Launch the simulation prod_1LI2_vdwq_05.tpr\n",
      "gmx mdrun -s prod_1LI2_vdwq_05.tpr -deffnm prod_1LI2_vdwq_05 -nt 0 -ntmpi 0 -nsteps -2 -nocopyright\n"
     ]
    },
    {
     "data": {
      "application/vnd.jupyter.widget-view+json": {
       "model_id": "5005285d62794940ae45cbc2756013f3",
       "version_major": 2,
       "version_minor": 0
      },
      "text/plain": [
       "HBox(children=(FloatProgress(value=0.0, max=50000.0), HTML(value='')))"
      ]
     },
     "metadata": {},
     "output_type": "display_data"
    },
    {
     "name": "stdout",
     "output_type": "stream",
     "text": [
      "\n",
      "-Create the tpr file em_1LI2_vdwq_06.tpr\n",
      "gmx grompp -f em_1LI2_vdwq_06.mdp -c ../../sys_equi/02_equi_CA_LOW/equi_CA_LOW_1LI2.gro -r ../../sys_equi/02_equi_CA_LOW/equi_CA_LOW_1LI2.gro -p ../../sys_top/1LI2_water_ion.top -po out_em_1LI2_vdwq_06.mdp -o em_1LI2_vdwq_06.tpr -maxwarn 1\n",
      "-Launch the simulation em_1LI2_vdwq_06.tpr\n",
      "gmx mdrun -s em_1LI2_vdwq_06.tpr -deffnm em_1LI2_vdwq_06 -nt 0 -ntmpi 0 -nsteps -2 -nocopyright\n"
     ]
    },
    {
     "data": {
      "application/vnd.jupyter.widget-view+json": {
       "model_id": "6a27f0bced6e47249213805053aaa790",
       "version_major": 2,
       "version_minor": 0
      },
      "text/plain": [
       "HBox(children=(FloatProgress(value=0.0, max=5000.0), HTML(value='')))"
      ]
     },
     "metadata": {},
     "output_type": "display_data"
    },
    {
     "name": "stdout",
     "output_type": "stream",
     "text": [
      "\n",
      "-Create the tpr file nvt_1LI2_vdwq_06.tpr\n",
      "gmx grompp -f nvt_1LI2_vdwq_06.mdp -c ../00_em/em_1LI2_vdwq_06.gro -r ../00_em/em_1LI2_vdwq_06.gro -p ../../sys_top/1LI2_water_ion.top -po out_nvt_1LI2_vdwq_06.mdp -o nvt_1LI2_vdwq_06.tpr -maxwarn 1\n",
      "-Launch the simulation nvt_1LI2_vdwq_06.tpr\n",
      "gmx mdrun -s nvt_1LI2_vdwq_06.tpr -deffnm nvt_1LI2_vdwq_06 -nt 0 -ntmpi 0 -nsteps -2 -nocopyright\n"
     ]
    },
    {
     "data": {
      "application/vnd.jupyter.widget-view+json": {
       "model_id": "09d4e8bad93940818d10548751e40481",
       "version_major": 2,
       "version_minor": 0
      },
      "text/plain": [
       "HBox(children=(FloatProgress(value=0.0, max=5000.0), HTML(value='')))"
      ]
     },
     "metadata": {},
     "output_type": "display_data"
    },
    {
     "name": "stdout",
     "output_type": "stream",
     "text": [
      "\n",
      "-Create the tpr file npt_1LI2_vdwq_06.tpr\n",
      "gmx grompp -f npt_1LI2_vdwq_06.mdp -c ../01_equi_nvt/nvt_1LI2_vdwq_06.gro -r ../01_equi_nvt/nvt_1LI2_vdwq_06.gro -p ../../sys_top/1LI2_water_ion.top -po out_npt_1LI2_vdwq_06.mdp -o npt_1LI2_vdwq_06.tpr -maxwarn 1\n",
      "-Launch the simulation npt_1LI2_vdwq_06.tpr\n",
      "gmx mdrun -s npt_1LI2_vdwq_06.tpr -deffnm npt_1LI2_vdwq_06 -nt 0 -ntmpi 0 -nsteps -2 -nocopyright\n"
     ]
    },
    {
     "data": {
      "application/vnd.jupyter.widget-view+json": {
       "model_id": "1a80243921b74a57a411eccbe2ef012a",
       "version_major": 2,
       "version_minor": 0
      },
      "text/plain": [
       "HBox(children=(FloatProgress(value=0.0, max=5000.0), HTML(value='')))"
      ]
     },
     "metadata": {},
     "output_type": "display_data"
    },
    {
     "name": "stdout",
     "output_type": "stream",
     "text": [
      "\n",
      "-Create the tpr file prod_1LI2_vdwq_06.tpr\n",
      "gmx grompp -f prod_1LI2_vdwq_06.mdp -c ../02_equi_npt/npt_1LI2_vdwq_06.gro -r ../02_equi_npt/npt_1LI2_vdwq_06.gro -p ../../sys_top/1LI2_water_ion.top -po out_prod_1LI2_vdwq_06.mdp -o prod_1LI2_vdwq_06.tpr -maxwarn 1\n",
      "-Launch the simulation prod_1LI2_vdwq_06.tpr\n",
      "gmx mdrun -s prod_1LI2_vdwq_06.tpr -deffnm prod_1LI2_vdwq_06 -nt 0 -ntmpi 0 -nsteps -2 -nocopyright\n"
     ]
    },
    {
     "data": {
      "application/vnd.jupyter.widget-view+json": {
       "model_id": "40a7ac2b997e4072bd84bdb6b4c94494",
       "version_major": 2,
       "version_minor": 0
      },
      "text/plain": [
       "HBox(children=(FloatProgress(value=0.0, max=50000.0), HTML(value='')))"
      ]
     },
     "metadata": {},
     "output_type": "display_data"
    },
    {
     "name": "stdout",
     "output_type": "stream",
     "text": [
      "\n",
      "-Create the tpr file em_1LI2_vdwq_07.tpr\n",
      "gmx grompp -f em_1LI2_vdwq_07.mdp -c ../../sys_equi/02_equi_CA_LOW/equi_CA_LOW_1LI2.gro -r ../../sys_equi/02_equi_CA_LOW/equi_CA_LOW_1LI2.gro -p ../../sys_top/1LI2_water_ion.top -po out_em_1LI2_vdwq_07.mdp -o em_1LI2_vdwq_07.tpr -maxwarn 1\n",
      "-Launch the simulation em_1LI2_vdwq_07.tpr\n",
      "gmx mdrun -s em_1LI2_vdwq_07.tpr -deffnm em_1LI2_vdwq_07 -nt 0 -ntmpi 0 -nsteps -2 -nocopyright\n"
     ]
    },
    {
     "data": {
      "application/vnd.jupyter.widget-view+json": {
       "model_id": "523c10e88e2149c99327414dc36296ed",
       "version_major": 2,
       "version_minor": 0
      },
      "text/plain": [
       "HBox(children=(FloatProgress(value=0.0, max=5000.0), HTML(value='')))"
      ]
     },
     "metadata": {},
     "output_type": "display_data"
    },
    {
     "name": "stdout",
     "output_type": "stream",
     "text": [
      "\n",
      "-Create the tpr file nvt_1LI2_vdwq_07.tpr\n",
      "gmx grompp -f nvt_1LI2_vdwq_07.mdp -c ../00_em/em_1LI2_vdwq_07.gro -r ../00_em/em_1LI2_vdwq_07.gro -p ../../sys_top/1LI2_water_ion.top -po out_nvt_1LI2_vdwq_07.mdp -o nvt_1LI2_vdwq_07.tpr -maxwarn 1\n",
      "-Launch the simulation nvt_1LI2_vdwq_07.tpr\n",
      "gmx mdrun -s nvt_1LI2_vdwq_07.tpr -deffnm nvt_1LI2_vdwq_07 -nt 0 -ntmpi 0 -nsteps -2 -nocopyright\n"
     ]
    },
    {
     "data": {
      "application/vnd.jupyter.widget-view+json": {
       "model_id": "b6807c545b5146b59ba519eb406418e9",
       "version_major": 2,
       "version_minor": 0
      },
      "text/plain": [
       "HBox(children=(FloatProgress(value=0.0, max=5000.0), HTML(value='')))"
      ]
     },
     "metadata": {},
     "output_type": "display_data"
    },
    {
     "name": "stdout",
     "output_type": "stream",
     "text": [
      "\n",
      "-Create the tpr file npt_1LI2_vdwq_07.tpr\n",
      "gmx grompp -f npt_1LI2_vdwq_07.mdp -c ../01_equi_nvt/nvt_1LI2_vdwq_07.gro -r ../01_equi_nvt/nvt_1LI2_vdwq_07.gro -p ../../sys_top/1LI2_water_ion.top -po out_npt_1LI2_vdwq_07.mdp -o npt_1LI2_vdwq_07.tpr -maxwarn 1\n",
      "-Launch the simulation npt_1LI2_vdwq_07.tpr\n",
      "gmx mdrun -s npt_1LI2_vdwq_07.tpr -deffnm npt_1LI2_vdwq_07 -nt 0 -ntmpi 0 -nsteps -2 -nocopyright\n"
     ]
    },
    {
     "data": {
      "application/vnd.jupyter.widget-view+json": {
       "model_id": "2d72180e67384056a546297665545710",
       "version_major": 2,
       "version_minor": 0
      },
      "text/plain": [
       "HBox(children=(FloatProgress(value=0.0, max=5000.0), HTML(value='')))"
      ]
     },
     "metadata": {},
     "output_type": "display_data"
    },
    {
     "name": "stdout",
     "output_type": "stream",
     "text": [
      "\n",
      "-Create the tpr file prod_1LI2_vdwq_07.tpr\n",
      "gmx grompp -f prod_1LI2_vdwq_07.mdp -c ../02_equi_npt/npt_1LI2_vdwq_07.gro -r ../02_equi_npt/npt_1LI2_vdwq_07.gro -p ../../sys_top/1LI2_water_ion.top -po out_prod_1LI2_vdwq_07.mdp -o prod_1LI2_vdwq_07.tpr -maxwarn 1\n",
      "-Launch the simulation prod_1LI2_vdwq_07.tpr\n",
      "gmx mdrun -s prod_1LI2_vdwq_07.tpr -deffnm prod_1LI2_vdwq_07 -nt 0 -ntmpi 0 -nsteps -2 -nocopyright\n"
     ]
    },
    {
     "data": {
      "application/vnd.jupyter.widget-view+json": {
       "model_id": "9a9be322912d4a919206dc6101c22e59",
       "version_major": 2,
       "version_minor": 0
      },
      "text/plain": [
       "HBox(children=(FloatProgress(value=0.0, max=50000.0), HTML(value='')))"
      ]
     },
     "metadata": {},
     "output_type": "display_data"
    },
    {
     "name": "stdout",
     "output_type": "stream",
     "text": [
      "\n",
      "-Create the tpr file em_1LI2_vdwq_08.tpr\n",
      "gmx grompp -f em_1LI2_vdwq_08.mdp -c ../../sys_equi/02_equi_CA_LOW/equi_CA_LOW_1LI2.gro -r ../../sys_equi/02_equi_CA_LOW/equi_CA_LOW_1LI2.gro -p ../../sys_top/1LI2_water_ion.top -po out_em_1LI2_vdwq_08.mdp -o em_1LI2_vdwq_08.tpr -maxwarn 1\n",
      "-Launch the simulation em_1LI2_vdwq_08.tpr\n",
      "gmx mdrun -s em_1LI2_vdwq_08.tpr -deffnm em_1LI2_vdwq_08 -nt 0 -ntmpi 0 -nsteps -2 -nocopyright\n"
     ]
    },
    {
     "data": {
      "application/vnd.jupyter.widget-view+json": {
       "model_id": "d746283cdaf843118560ff182a93e6f2",
       "version_major": 2,
       "version_minor": 0
      },
      "text/plain": [
       "HBox(children=(FloatProgress(value=0.0, max=5000.0), HTML(value='')))"
      ]
     },
     "metadata": {},
     "output_type": "display_data"
    },
    {
     "name": "stdout",
     "output_type": "stream",
     "text": [
      "\n",
      "-Create the tpr file nvt_1LI2_vdwq_08.tpr\n",
      "gmx grompp -f nvt_1LI2_vdwq_08.mdp -c ../00_em/em_1LI2_vdwq_08.gro -r ../00_em/em_1LI2_vdwq_08.gro -p ../../sys_top/1LI2_water_ion.top -po out_nvt_1LI2_vdwq_08.mdp -o nvt_1LI2_vdwq_08.tpr -maxwarn 1\n",
      "-Launch the simulation nvt_1LI2_vdwq_08.tpr\n",
      "gmx mdrun -s nvt_1LI2_vdwq_08.tpr -deffnm nvt_1LI2_vdwq_08 -nt 0 -ntmpi 0 -nsteps -2 -nocopyright\n"
     ]
    },
    {
     "data": {
      "application/vnd.jupyter.widget-view+json": {
       "model_id": "81812eb747d74c43a7e13597df875eea",
       "version_major": 2,
       "version_minor": 0
      },
      "text/plain": [
       "HBox(children=(FloatProgress(value=0.0, max=5000.0), HTML(value='')))"
      ]
     },
     "metadata": {},
     "output_type": "display_data"
    },
    {
     "name": "stdout",
     "output_type": "stream",
     "text": [
      "\n",
      "-Create the tpr file npt_1LI2_vdwq_08.tpr\n",
      "gmx grompp -f npt_1LI2_vdwq_08.mdp -c ../01_equi_nvt/nvt_1LI2_vdwq_08.gro -r ../01_equi_nvt/nvt_1LI2_vdwq_08.gro -p ../../sys_top/1LI2_water_ion.top -po out_npt_1LI2_vdwq_08.mdp -o npt_1LI2_vdwq_08.tpr -maxwarn 1\n",
      "-Launch the simulation npt_1LI2_vdwq_08.tpr\n",
      "gmx mdrun -s npt_1LI2_vdwq_08.tpr -deffnm npt_1LI2_vdwq_08 -nt 0 -ntmpi 0 -nsteps -2 -nocopyright\n"
     ]
    },
    {
     "data": {
      "application/vnd.jupyter.widget-view+json": {
       "model_id": "8ce12dbe177747c8a390b342471ab7d4",
       "version_major": 2,
       "version_minor": 0
      },
      "text/plain": [
       "HBox(children=(FloatProgress(value=0.0, max=5000.0), HTML(value='')))"
      ]
     },
     "metadata": {},
     "output_type": "display_data"
    },
    {
     "name": "stdout",
     "output_type": "stream",
     "text": [
      "\n",
      "-Create the tpr file prod_1LI2_vdwq_08.tpr\n",
      "gmx grompp -f prod_1LI2_vdwq_08.mdp -c ../02_equi_npt/npt_1LI2_vdwq_08.gro -r ../02_equi_npt/npt_1LI2_vdwq_08.gro -p ../../sys_top/1LI2_water_ion.top -po out_prod_1LI2_vdwq_08.mdp -o prod_1LI2_vdwq_08.tpr -maxwarn 1\n",
      "-Launch the simulation prod_1LI2_vdwq_08.tpr\n",
      "gmx mdrun -s prod_1LI2_vdwq_08.tpr -deffnm prod_1LI2_vdwq_08 -nt 0 -ntmpi 0 -nsteps -2 -nocopyright\n"
     ]
    },
    {
     "data": {
      "application/vnd.jupyter.widget-view+json": {
       "model_id": "195efa15416a472a822bd2c28ec92992",
       "version_major": 2,
       "version_minor": 0
      },
      "text/plain": [
       "HBox(children=(FloatProgress(value=0.0, max=50000.0), HTML(value='')))"
      ]
     },
     "metadata": {},
     "output_type": "display_data"
    },
    {
     "name": "stdout",
     "output_type": "stream",
     "text": [
      "\n",
      "-Create the tpr file em_1LI2_vdwq_09.tpr\n",
      "gmx grompp -f em_1LI2_vdwq_09.mdp -c ../../sys_equi/02_equi_CA_LOW/equi_CA_LOW_1LI2.gro -r ../../sys_equi/02_equi_CA_LOW/equi_CA_LOW_1LI2.gro -p ../../sys_top/1LI2_water_ion.top -po out_em_1LI2_vdwq_09.mdp -o em_1LI2_vdwq_09.tpr -maxwarn 1\n",
      "-Launch the simulation em_1LI2_vdwq_09.tpr\n",
      "gmx mdrun -s em_1LI2_vdwq_09.tpr -deffnm em_1LI2_vdwq_09 -nt 0 -ntmpi 0 -nsteps -2 -nocopyright\n"
     ]
    },
    {
     "data": {
      "application/vnd.jupyter.widget-view+json": {
       "model_id": "2943265efada4d9c9475a40f2ecd378f",
       "version_major": 2,
       "version_minor": 0
      },
      "text/plain": [
       "HBox(children=(FloatProgress(value=0.0, max=5000.0), HTML(value='')))"
      ]
     },
     "metadata": {},
     "output_type": "display_data"
    },
    {
     "name": "stdout",
     "output_type": "stream",
     "text": [
      "\n",
      "-Create the tpr file nvt_1LI2_vdwq_09.tpr\n",
      "gmx grompp -f nvt_1LI2_vdwq_09.mdp -c ../00_em/em_1LI2_vdwq_09.gro -r ../00_em/em_1LI2_vdwq_09.gro -p ../../sys_top/1LI2_water_ion.top -po out_nvt_1LI2_vdwq_09.mdp -o nvt_1LI2_vdwq_09.tpr -maxwarn 1\n",
      "-Launch the simulation nvt_1LI2_vdwq_09.tpr\n",
      "gmx mdrun -s nvt_1LI2_vdwq_09.tpr -deffnm nvt_1LI2_vdwq_09 -nt 0 -ntmpi 0 -nsteps -2 -nocopyright\n"
     ]
    },
    {
     "data": {
      "application/vnd.jupyter.widget-view+json": {
       "model_id": "4b421eca3c8b4cc8939f93461a9cc167",
       "version_major": 2,
       "version_minor": 0
      },
      "text/plain": [
       "HBox(children=(FloatProgress(value=0.0, max=5000.0), HTML(value='')))"
      ]
     },
     "metadata": {},
     "output_type": "display_data"
    },
    {
     "name": "stdout",
     "output_type": "stream",
     "text": [
      "\n",
      "-Create the tpr file npt_1LI2_vdwq_09.tpr\n",
      "gmx grompp -f npt_1LI2_vdwq_09.mdp -c ../01_equi_nvt/nvt_1LI2_vdwq_09.gro -r ../01_equi_nvt/nvt_1LI2_vdwq_09.gro -p ../../sys_top/1LI2_water_ion.top -po out_npt_1LI2_vdwq_09.mdp -o npt_1LI2_vdwq_09.tpr -maxwarn 1\n",
      "-Launch the simulation npt_1LI2_vdwq_09.tpr\n",
      "gmx mdrun -s npt_1LI2_vdwq_09.tpr -deffnm npt_1LI2_vdwq_09 -nt 0 -ntmpi 0 -nsteps -2 -nocopyright\n"
     ]
    },
    {
     "data": {
      "application/vnd.jupyter.widget-view+json": {
       "model_id": "3640ba419e8343b19cb7e8c6f867f239",
       "version_major": 2,
       "version_minor": 0
      },
      "text/plain": [
       "HBox(children=(FloatProgress(value=0.0, max=5000.0), HTML(value='')))"
      ]
     },
     "metadata": {},
     "output_type": "display_data"
    },
    {
     "name": "stdout",
     "output_type": "stream",
     "text": [
      "\n",
      "-Create the tpr file prod_1LI2_vdwq_09.tpr\n",
      "gmx grompp -f prod_1LI2_vdwq_09.mdp -c ../02_equi_npt/npt_1LI2_vdwq_09.gro -r ../02_equi_npt/npt_1LI2_vdwq_09.gro -p ../../sys_top/1LI2_water_ion.top -po out_prod_1LI2_vdwq_09.mdp -o prod_1LI2_vdwq_09.tpr -maxwarn 1\n",
      "-Launch the simulation prod_1LI2_vdwq_09.tpr\n",
      "gmx mdrun -s prod_1LI2_vdwq_09.tpr -deffnm prod_1LI2_vdwq_09 -nt 0 -ntmpi 0 -nsteps -2 -nocopyright\n"
     ]
    },
    {
     "data": {
      "application/vnd.jupyter.widget-view+json": {
       "model_id": "07c75849fe394ab5b35c0c44c792b56e",
       "version_major": 2,
       "version_minor": 0
      },
      "text/plain": [
       "HBox(children=(FloatProgress(value=0.0, max=50000.0), HTML(value='')))"
      ]
     },
     "metadata": {},
     "output_type": "display_data"
    },
    {
     "name": "stdout",
     "output_type": "stream",
     "text": [
      "\n",
      "-Create the tpr file em_1LI2_vdwq_10.tpr\n",
      "gmx grompp -f em_1LI2_vdwq_10.mdp -c ../../sys_equi/02_equi_CA_LOW/equi_CA_LOW_1LI2.gro -r ../../sys_equi/02_equi_CA_LOW/equi_CA_LOW_1LI2.gro -p ../../sys_top/1LI2_water_ion.top -po out_em_1LI2_vdwq_10.mdp -o em_1LI2_vdwq_10.tpr -maxwarn 1\n",
      "-Launch the simulation em_1LI2_vdwq_10.tpr\n",
      "gmx mdrun -s em_1LI2_vdwq_10.tpr -deffnm em_1LI2_vdwq_10 -nt 0 -ntmpi 0 -nsteps -2 -nocopyright\n"
     ]
    },
    {
     "data": {
      "application/vnd.jupyter.widget-view+json": {
       "model_id": "fc1bbcb458ed467f91b69532cecbab86",
       "version_major": 2,
       "version_minor": 0
      },
      "text/plain": [
       "HBox(children=(FloatProgress(value=0.0, max=5000.0), HTML(value='')))"
      ]
     },
     "metadata": {},
     "output_type": "display_data"
    },
    {
     "name": "stdout",
     "output_type": "stream",
     "text": [
      "\n",
      "-Create the tpr file nvt_1LI2_vdwq_10.tpr\n",
      "gmx grompp -f nvt_1LI2_vdwq_10.mdp -c ../00_em/em_1LI2_vdwq_10.gro -r ../00_em/em_1LI2_vdwq_10.gro -p ../../sys_top/1LI2_water_ion.top -po out_nvt_1LI2_vdwq_10.mdp -o nvt_1LI2_vdwq_10.tpr -maxwarn 1\n",
      "-Launch the simulation nvt_1LI2_vdwq_10.tpr\n",
      "gmx mdrun -s nvt_1LI2_vdwq_10.tpr -deffnm nvt_1LI2_vdwq_10 -nt 0 -ntmpi 0 -nsteps -2 -nocopyright\n"
     ]
    },
    {
     "data": {
      "application/vnd.jupyter.widget-view+json": {
       "model_id": "6d370578042c4c3682436b0fbc396240",
       "version_major": 2,
       "version_minor": 0
      },
      "text/plain": [
       "HBox(children=(FloatProgress(value=0.0, max=5000.0), HTML(value='')))"
      ]
     },
     "metadata": {},
     "output_type": "display_data"
    },
    {
     "name": "stdout",
     "output_type": "stream",
     "text": [
      "\n",
      "-Create the tpr file npt_1LI2_vdwq_10.tpr\n",
      "gmx grompp -f npt_1LI2_vdwq_10.mdp -c ../01_equi_nvt/nvt_1LI2_vdwq_10.gro -r ../01_equi_nvt/nvt_1LI2_vdwq_10.gro -p ../../sys_top/1LI2_water_ion.top -po out_npt_1LI2_vdwq_10.mdp -o npt_1LI2_vdwq_10.tpr -maxwarn 1\n",
      "-Launch the simulation npt_1LI2_vdwq_10.tpr\n",
      "gmx mdrun -s npt_1LI2_vdwq_10.tpr -deffnm npt_1LI2_vdwq_10 -nt 0 -ntmpi 0 -nsteps -2 -nocopyright\n"
     ]
    },
    {
     "data": {
      "application/vnd.jupyter.widget-view+json": {
       "model_id": "b528c7dc08514f0286b376a7dd14145a",
       "version_major": 2,
       "version_minor": 0
      },
      "text/plain": [
       "HBox(children=(FloatProgress(value=0.0, max=5000.0), HTML(value='')))"
      ]
     },
     "metadata": {},
     "output_type": "display_data"
    },
    {
     "name": "stdout",
     "output_type": "stream",
     "text": [
      "\n",
      "-Create the tpr file prod_1LI2_vdwq_10.tpr\n",
      "gmx grompp -f prod_1LI2_vdwq_10.mdp -c ../02_equi_npt/npt_1LI2_vdwq_10.gro -r ../02_equi_npt/npt_1LI2_vdwq_10.gro -p ../../sys_top/1LI2_water_ion.top -po out_prod_1LI2_vdwq_10.mdp -o prod_1LI2_vdwq_10.tpr -maxwarn 1\n",
      "-Launch the simulation prod_1LI2_vdwq_10.tpr\n",
      "gmx mdrun -s prod_1LI2_vdwq_10.tpr -deffnm prod_1LI2_vdwq_10 -nt 0 -ntmpi 0 -nsteps -2 -nocopyright\n"
     ]
    },
    {
     "data": {
      "application/vnd.jupyter.widget-view+json": {
       "model_id": "d1ee921120d340c990fff95d3231059f",
       "version_major": 2,
       "version_minor": 0
      },
      "text/plain": [
       "HBox(children=(FloatProgress(value=0.0, max=50000.0), HTML(value='')))"
      ]
     },
     "metadata": {},
     "output_type": "display_data"
    },
    {
     "name": "stdout",
     "output_type": "stream",
     "text": [
      "\n",
      "-Create the tpr file em_1LI2_vdwq_11.tpr\n",
      "gmx grompp -f em_1LI2_vdwq_11.mdp -c ../../sys_equi/02_equi_CA_LOW/equi_CA_LOW_1LI2.gro -r ../../sys_equi/02_equi_CA_LOW/equi_CA_LOW_1LI2.gro -p ../../sys_top/1LI2_water_ion.top -po out_em_1LI2_vdwq_11.mdp -o em_1LI2_vdwq_11.tpr -maxwarn 1\n",
      "-Launch the simulation em_1LI2_vdwq_11.tpr\n",
      "gmx mdrun -s em_1LI2_vdwq_11.tpr -deffnm em_1LI2_vdwq_11 -nt 0 -ntmpi 0 -nsteps -2 -nocopyright\n"
     ]
    },
    {
     "data": {
      "application/vnd.jupyter.widget-view+json": {
       "model_id": "82efdccd8eea47fdadcdb3323cc14bfe",
       "version_major": 2,
       "version_minor": 0
      },
      "text/plain": [
       "HBox(children=(FloatProgress(value=0.0, max=5000.0), HTML(value='')))"
      ]
     },
     "metadata": {},
     "output_type": "display_data"
    },
    {
     "name": "stdout",
     "output_type": "stream",
     "text": [
      "\n",
      "-Create the tpr file nvt_1LI2_vdwq_11.tpr\n",
      "gmx grompp -f nvt_1LI2_vdwq_11.mdp -c ../00_em/em_1LI2_vdwq_11.gro -r ../00_em/em_1LI2_vdwq_11.gro -p ../../sys_top/1LI2_water_ion.top -po out_nvt_1LI2_vdwq_11.mdp -o nvt_1LI2_vdwq_11.tpr -maxwarn 1\n",
      "-Launch the simulation nvt_1LI2_vdwq_11.tpr\n",
      "gmx mdrun -s nvt_1LI2_vdwq_11.tpr -deffnm nvt_1LI2_vdwq_11 -nt 0 -ntmpi 0 -nsteps -2 -nocopyright\n"
     ]
    },
    {
     "data": {
      "application/vnd.jupyter.widget-view+json": {
       "model_id": "c5b8ab45f6d948a7b34676407d65185e",
       "version_major": 2,
       "version_minor": 0
      },
      "text/plain": [
       "HBox(children=(FloatProgress(value=0.0, max=5000.0), HTML(value='')))"
      ]
     },
     "metadata": {},
     "output_type": "display_data"
    },
    {
     "name": "stdout",
     "output_type": "stream",
     "text": [
      "\n",
      "-Create the tpr file npt_1LI2_vdwq_11.tpr\n",
      "gmx grompp -f npt_1LI2_vdwq_11.mdp -c ../01_equi_nvt/nvt_1LI2_vdwq_11.gro -r ../01_equi_nvt/nvt_1LI2_vdwq_11.gro -p ../../sys_top/1LI2_water_ion.top -po out_npt_1LI2_vdwq_11.mdp -o npt_1LI2_vdwq_11.tpr -maxwarn 1\n",
      "-Launch the simulation npt_1LI2_vdwq_11.tpr\n",
      "gmx mdrun -s npt_1LI2_vdwq_11.tpr -deffnm npt_1LI2_vdwq_11 -nt 0 -ntmpi 0 -nsteps -2 -nocopyright\n"
     ]
    },
    {
     "data": {
      "application/vnd.jupyter.widget-view+json": {
       "model_id": "a5422b08c8164256b1d37a9758db725b",
       "version_major": 2,
       "version_minor": 0
      },
      "text/plain": [
       "HBox(children=(FloatProgress(value=0.0, max=5000.0), HTML(value='')))"
      ]
     },
     "metadata": {},
     "output_type": "display_data"
    },
    {
     "name": "stdout",
     "output_type": "stream",
     "text": [
      "\n",
      "-Create the tpr file prod_1LI2_vdwq_11.tpr\n",
      "gmx grompp -f prod_1LI2_vdwq_11.mdp -c ../02_equi_npt/npt_1LI2_vdwq_11.gro -r ../02_equi_npt/npt_1LI2_vdwq_11.gro -p ../../sys_top/1LI2_water_ion.top -po out_prod_1LI2_vdwq_11.mdp -o prod_1LI2_vdwq_11.tpr -maxwarn 1\n",
      "-Launch the simulation prod_1LI2_vdwq_11.tpr\n",
      "gmx mdrun -s prod_1LI2_vdwq_11.tpr -deffnm prod_1LI2_vdwq_11 -nt 0 -ntmpi 0 -nsteps -2 -nocopyright\n"
     ]
    },
    {
     "data": {
      "application/vnd.jupyter.widget-view+json": {
       "model_id": "9e81ae214eab4668b614f64a15efcdf6",
       "version_major": 2,
       "version_minor": 0
      },
      "text/plain": [
       "HBox(children=(FloatProgress(value=0.0, max=50000.0), HTML(value='')))"
      ]
     },
     "metadata": {},
     "output_type": "display_data"
    },
    {
     "name": "stdout",
     "output_type": "stream",
     "text": [
      "\n",
      "-Create the tpr file em_1LI2_vdwq_12.tpr\n",
      "gmx grompp -f em_1LI2_vdwq_12.mdp -c ../../sys_equi/02_equi_CA_LOW/equi_CA_LOW_1LI2.gro -r ../../sys_equi/02_equi_CA_LOW/equi_CA_LOW_1LI2.gro -p ../../sys_top/1LI2_water_ion.top -po out_em_1LI2_vdwq_12.mdp -o em_1LI2_vdwq_12.tpr -maxwarn 1\n",
      "-Launch the simulation em_1LI2_vdwq_12.tpr\n",
      "gmx mdrun -s em_1LI2_vdwq_12.tpr -deffnm em_1LI2_vdwq_12 -nt 0 -ntmpi 0 -nsteps -2 -nocopyright\n"
     ]
    },
    {
     "data": {
      "application/vnd.jupyter.widget-view+json": {
       "model_id": "9a302fddfdff44199fe8619038633586",
       "version_major": 2,
       "version_minor": 0
      },
      "text/plain": [
       "HBox(children=(FloatProgress(value=0.0, max=5000.0), HTML(value='')))"
      ]
     },
     "metadata": {},
     "output_type": "display_data"
    },
    {
     "name": "stdout",
     "output_type": "stream",
     "text": [
      "\n",
      "-Create the tpr file nvt_1LI2_vdwq_12.tpr\n",
      "gmx grompp -f nvt_1LI2_vdwq_12.mdp -c ../00_em/em_1LI2_vdwq_12.gro -r ../00_em/em_1LI2_vdwq_12.gro -p ../../sys_top/1LI2_water_ion.top -po out_nvt_1LI2_vdwq_12.mdp -o nvt_1LI2_vdwq_12.tpr -maxwarn 1\n",
      "-Launch the simulation nvt_1LI2_vdwq_12.tpr\n",
      "gmx mdrun -s nvt_1LI2_vdwq_12.tpr -deffnm nvt_1LI2_vdwq_12 -nt 0 -ntmpi 0 -nsteps -2 -nocopyright\n"
     ]
    },
    {
     "data": {
      "application/vnd.jupyter.widget-view+json": {
       "model_id": "b0930c70997f43a0b510cbe5a69526b1",
       "version_major": 2,
       "version_minor": 0
      },
      "text/plain": [
       "HBox(children=(FloatProgress(value=0.0, max=5000.0), HTML(value='')))"
      ]
     },
     "metadata": {},
     "output_type": "display_data"
    },
    {
     "name": "stdout",
     "output_type": "stream",
     "text": [
      "\n",
      "-Create the tpr file npt_1LI2_vdwq_12.tpr\n",
      "gmx grompp -f npt_1LI2_vdwq_12.mdp -c ../01_equi_nvt/nvt_1LI2_vdwq_12.gro -r ../01_equi_nvt/nvt_1LI2_vdwq_12.gro -p ../../sys_top/1LI2_water_ion.top -po out_npt_1LI2_vdwq_12.mdp -o npt_1LI2_vdwq_12.tpr -maxwarn 1\n",
      "-Launch the simulation npt_1LI2_vdwq_12.tpr\n",
      "gmx mdrun -s npt_1LI2_vdwq_12.tpr -deffnm npt_1LI2_vdwq_12 -nt 0 -ntmpi 0 -nsteps -2 -nocopyright\n"
     ]
    },
    {
     "data": {
      "application/vnd.jupyter.widget-view+json": {
       "model_id": "c37fb06c851048878b5e00594ef6db20",
       "version_major": 2,
       "version_minor": 0
      },
      "text/plain": [
       "HBox(children=(FloatProgress(value=0.0, max=5000.0), HTML(value='')))"
      ]
     },
     "metadata": {},
     "output_type": "display_data"
    },
    {
     "name": "stdout",
     "output_type": "stream",
     "text": [
      "\n",
      "-Create the tpr file prod_1LI2_vdwq_12.tpr\n",
      "gmx grompp -f prod_1LI2_vdwq_12.mdp -c ../02_equi_npt/npt_1LI2_vdwq_12.gro -r ../02_equi_npt/npt_1LI2_vdwq_12.gro -p ../../sys_top/1LI2_water_ion.top -po out_prod_1LI2_vdwq_12.mdp -o prod_1LI2_vdwq_12.tpr -maxwarn 1\n",
      "-Launch the simulation prod_1LI2_vdwq_12.tpr\n",
      "gmx mdrun -s prod_1LI2_vdwq_12.tpr -deffnm prod_1LI2_vdwq_12 -nt 0 -ntmpi 0 -nsteps -2 -nocopyright\n"
     ]
    },
    {
     "data": {
      "application/vnd.jupyter.widget-view+json": {
       "model_id": "36591b51312b476296f74a3ed07325ec",
       "version_major": 2,
       "version_minor": 0
      },
      "text/plain": [
       "HBox(children=(FloatProgress(value=0.0, max=50000.0), HTML(value='')))"
      ]
     },
     "metadata": {},
     "output_type": "display_data"
    },
    {
     "name": "stdout",
     "output_type": "stream",
     "text": [
      "\n",
      "-Create the tpr file em_1LI2_vdwq_13.tpr\n",
      "gmx grompp -f em_1LI2_vdwq_13.mdp -c ../../sys_equi/02_equi_CA_LOW/equi_CA_LOW_1LI2.gro -r ../../sys_equi/02_equi_CA_LOW/equi_CA_LOW_1LI2.gro -p ../../sys_top/1LI2_water_ion.top -po out_em_1LI2_vdwq_13.mdp -o em_1LI2_vdwq_13.tpr -maxwarn 1\n",
      "-Launch the simulation em_1LI2_vdwq_13.tpr\n",
      "gmx mdrun -s em_1LI2_vdwq_13.tpr -deffnm em_1LI2_vdwq_13 -nt 0 -ntmpi 0 -nsteps -2 -nocopyright\n"
     ]
    },
    {
     "data": {
      "application/vnd.jupyter.widget-view+json": {
       "model_id": "1ed6a2ed0a454dd4a18b6127b2f42ea2",
       "version_major": 2,
       "version_minor": 0
      },
      "text/plain": [
       "HBox(children=(FloatProgress(value=0.0, max=5000.0), HTML(value='')))"
      ]
     },
     "metadata": {},
     "output_type": "display_data"
    },
    {
     "name": "stdout",
     "output_type": "stream",
     "text": [
      "\n",
      "-Create the tpr file nvt_1LI2_vdwq_13.tpr\n",
      "gmx grompp -f nvt_1LI2_vdwq_13.mdp -c ../00_em/em_1LI2_vdwq_13.gro -r ../00_em/em_1LI2_vdwq_13.gro -p ../../sys_top/1LI2_water_ion.top -po out_nvt_1LI2_vdwq_13.mdp -o nvt_1LI2_vdwq_13.tpr -maxwarn 1\n",
      "-Launch the simulation nvt_1LI2_vdwq_13.tpr\n",
      "gmx mdrun -s nvt_1LI2_vdwq_13.tpr -deffnm nvt_1LI2_vdwq_13 -nt 0 -ntmpi 0 -nsteps -2 -nocopyright\n"
     ]
    },
    {
     "data": {
      "application/vnd.jupyter.widget-view+json": {
       "model_id": "da25fc0ce53e42398b15cb773408127d",
       "version_major": 2,
       "version_minor": 0
      },
      "text/plain": [
       "HBox(children=(FloatProgress(value=0.0, max=5000.0), HTML(value='')))"
      ]
     },
     "metadata": {},
     "output_type": "display_data"
    },
    {
     "name": "stdout",
     "output_type": "stream",
     "text": [
      "\n",
      "-Create the tpr file npt_1LI2_vdwq_13.tpr\n",
      "gmx grompp -f npt_1LI2_vdwq_13.mdp -c ../01_equi_nvt/nvt_1LI2_vdwq_13.gro -r ../01_equi_nvt/nvt_1LI2_vdwq_13.gro -p ../../sys_top/1LI2_water_ion.top -po out_npt_1LI2_vdwq_13.mdp -o npt_1LI2_vdwq_13.tpr -maxwarn 1\n",
      "-Launch the simulation npt_1LI2_vdwq_13.tpr\n",
      "gmx mdrun -s npt_1LI2_vdwq_13.tpr -deffnm npt_1LI2_vdwq_13 -nt 0 -ntmpi 0 -nsteps -2 -nocopyright\n"
     ]
    },
    {
     "data": {
      "application/vnd.jupyter.widget-view+json": {
       "model_id": "51afe5e81b9841f9a988275dd52bc539",
       "version_major": 2,
       "version_minor": 0
      },
      "text/plain": [
       "HBox(children=(FloatProgress(value=0.0, max=5000.0), HTML(value='')))"
      ]
     },
     "metadata": {},
     "output_type": "display_data"
    },
    {
     "name": "stdout",
     "output_type": "stream",
     "text": [
      "\n",
      "-Create the tpr file prod_1LI2_vdwq_13.tpr\n",
      "gmx grompp -f prod_1LI2_vdwq_13.mdp -c ../02_equi_npt/npt_1LI2_vdwq_13.gro -r ../02_equi_npt/npt_1LI2_vdwq_13.gro -p ../../sys_top/1LI2_water_ion.top -po out_prod_1LI2_vdwq_13.mdp -o prod_1LI2_vdwq_13.tpr -maxwarn 1\n",
      "-Launch the simulation prod_1LI2_vdwq_13.tpr\n",
      "gmx mdrun -s prod_1LI2_vdwq_13.tpr -deffnm prod_1LI2_vdwq_13 -nt 0 -ntmpi 0 -nsteps -2 -nocopyright\n"
     ]
    },
    {
     "data": {
      "application/vnd.jupyter.widget-view+json": {
       "model_id": "10161d8f9c20454f97700ad0d4b1469d",
       "version_major": 2,
       "version_minor": 0
      },
      "text/plain": [
       "HBox(children=(FloatProgress(value=0.0, max=50000.0), HTML(value='')))"
      ]
     },
     "metadata": {},
     "output_type": "display_data"
    },
    {
     "name": "stdout",
     "output_type": "stream",
     "text": [
      "\n",
      "-Create the tpr file em_1LI2_vdwq_14.tpr\n",
      "gmx grompp -f em_1LI2_vdwq_14.mdp -c ../../sys_equi/02_equi_CA_LOW/equi_CA_LOW_1LI2.gro -r ../../sys_equi/02_equi_CA_LOW/equi_CA_LOW_1LI2.gro -p ../../sys_top/1LI2_water_ion.top -po out_em_1LI2_vdwq_14.mdp -o em_1LI2_vdwq_14.tpr -maxwarn 1\n",
      "-Launch the simulation em_1LI2_vdwq_14.tpr\n",
      "gmx mdrun -s em_1LI2_vdwq_14.tpr -deffnm em_1LI2_vdwq_14 -nt 0 -ntmpi 0 -nsteps -2 -nocopyright\n"
     ]
    },
    {
     "data": {
      "application/vnd.jupyter.widget-view+json": {
       "model_id": "ed2251e86378487ab61a28381e4196c5",
       "version_major": 2,
       "version_minor": 0
      },
      "text/plain": [
       "HBox(children=(FloatProgress(value=0.0, max=5000.0), HTML(value='')))"
      ]
     },
     "metadata": {},
     "output_type": "display_data"
    },
    {
     "name": "stdout",
     "output_type": "stream",
     "text": [
      "\n",
      "-Create the tpr file nvt_1LI2_vdwq_14.tpr\n",
      "gmx grompp -f nvt_1LI2_vdwq_14.mdp -c ../00_em/em_1LI2_vdwq_14.gro -r ../00_em/em_1LI2_vdwq_14.gro -p ../../sys_top/1LI2_water_ion.top -po out_nvt_1LI2_vdwq_14.mdp -o nvt_1LI2_vdwq_14.tpr -maxwarn 1\n",
      "-Launch the simulation nvt_1LI2_vdwq_14.tpr\n",
      "gmx mdrun -s nvt_1LI2_vdwq_14.tpr -deffnm nvt_1LI2_vdwq_14 -nt 0 -ntmpi 0 -nsteps -2 -nocopyright\n"
     ]
    },
    {
     "data": {
      "application/vnd.jupyter.widget-view+json": {
       "model_id": "37ba553e5f314c9e97835c943e05a79a",
       "version_major": 2,
       "version_minor": 0
      },
      "text/plain": [
       "HBox(children=(FloatProgress(value=0.0, max=5000.0), HTML(value='')))"
      ]
     },
     "metadata": {},
     "output_type": "display_data"
    },
    {
     "name": "stdout",
     "output_type": "stream",
     "text": [
      "\n",
      "-Create the tpr file npt_1LI2_vdwq_14.tpr\n",
      "gmx grompp -f npt_1LI2_vdwq_14.mdp -c ../01_equi_nvt/nvt_1LI2_vdwq_14.gro -r ../01_equi_nvt/nvt_1LI2_vdwq_14.gro -p ../../sys_top/1LI2_water_ion.top -po out_npt_1LI2_vdwq_14.mdp -o npt_1LI2_vdwq_14.tpr -maxwarn 1\n",
      "-Launch the simulation npt_1LI2_vdwq_14.tpr\n",
      "gmx mdrun -s npt_1LI2_vdwq_14.tpr -deffnm npt_1LI2_vdwq_14 -nt 0 -ntmpi 0 -nsteps -2 -nocopyright\n"
     ]
    },
    {
     "data": {
      "application/vnd.jupyter.widget-view+json": {
       "model_id": "cdb4cafda7004725b145e109f80400da",
       "version_major": 2,
       "version_minor": 0
      },
      "text/plain": [
       "HBox(children=(FloatProgress(value=0.0, max=5000.0), HTML(value='')))"
      ]
     },
     "metadata": {},
     "output_type": "display_data"
    },
    {
     "name": "stdout",
     "output_type": "stream",
     "text": [
      "\n",
      "-Create the tpr file prod_1LI2_vdwq_14.tpr\n",
      "gmx grompp -f prod_1LI2_vdwq_14.mdp -c ../02_equi_npt/npt_1LI2_vdwq_14.gro -r ../02_equi_npt/npt_1LI2_vdwq_14.gro -p ../../sys_top/1LI2_water_ion.top -po out_prod_1LI2_vdwq_14.mdp -o prod_1LI2_vdwq_14.tpr -maxwarn 1\n",
      "-Launch the simulation prod_1LI2_vdwq_14.tpr\n",
      "gmx mdrun -s prod_1LI2_vdwq_14.tpr -deffnm prod_1LI2_vdwq_14 -nt 0 -ntmpi 0 -nsteps -2 -nocopyright\n"
     ]
    },
    {
     "data": {
      "application/vnd.jupyter.widget-view+json": {
       "model_id": "d270fd73d79540b7ae812a471e7c93aa",
       "version_major": 2,
       "version_minor": 0
      },
      "text/plain": [
       "HBox(children=(FloatProgress(value=0.0, max=50000.0), HTML(value='')))"
      ]
     },
     "metadata": {},
     "output_type": "display_data"
    },
    {
     "name": "stdout",
     "output_type": "stream",
     "text": [
      "\n",
      "-Create the tpr file em_1LI2_vdwq_15.tpr\n",
      "gmx grompp -f em_1LI2_vdwq_15.mdp -c ../../sys_equi/02_equi_CA_LOW/equi_CA_LOW_1LI2.gro -r ../../sys_equi/02_equi_CA_LOW/equi_CA_LOW_1LI2.gro -p ../../sys_top/1LI2_water_ion.top -po out_em_1LI2_vdwq_15.mdp -o em_1LI2_vdwq_15.tpr -maxwarn 1\n",
      "-Launch the simulation em_1LI2_vdwq_15.tpr\n",
      "gmx mdrun -s em_1LI2_vdwq_15.tpr -deffnm em_1LI2_vdwq_15 -nt 0 -ntmpi 0 -nsteps -2 -nocopyright\n"
     ]
    },
    {
     "data": {
      "application/vnd.jupyter.widget-view+json": {
       "model_id": "9cdfbddd75284544bc2a109c652c46c4",
       "version_major": 2,
       "version_minor": 0
      },
      "text/plain": [
       "HBox(children=(FloatProgress(value=0.0, max=5000.0), HTML(value='')))"
      ]
     },
     "metadata": {},
     "output_type": "display_data"
    },
    {
     "name": "stdout",
     "output_type": "stream",
     "text": [
      "\n",
      "-Create the tpr file nvt_1LI2_vdwq_15.tpr\n",
      "gmx grompp -f nvt_1LI2_vdwq_15.mdp -c ../00_em/em_1LI2_vdwq_15.gro -r ../00_em/em_1LI2_vdwq_15.gro -p ../../sys_top/1LI2_water_ion.top -po out_nvt_1LI2_vdwq_15.mdp -o nvt_1LI2_vdwq_15.tpr -maxwarn 1\n",
      "-Launch the simulation nvt_1LI2_vdwq_15.tpr\n",
      "gmx mdrun -s nvt_1LI2_vdwq_15.tpr -deffnm nvt_1LI2_vdwq_15 -nt 0 -ntmpi 0 -nsteps -2 -nocopyright\n"
     ]
    },
    {
     "data": {
      "application/vnd.jupyter.widget-view+json": {
       "model_id": "a49233ed694a43229d9fb952becf79dd",
       "version_major": 2,
       "version_minor": 0
      },
      "text/plain": [
       "HBox(children=(FloatProgress(value=0.0, max=5000.0), HTML(value='')))"
      ]
     },
     "metadata": {},
     "output_type": "display_data"
    },
    {
     "name": "stdout",
     "output_type": "stream",
     "text": [
      "\n",
      "-Create the tpr file npt_1LI2_vdwq_15.tpr\n",
      "gmx grompp -f npt_1LI2_vdwq_15.mdp -c ../01_equi_nvt/nvt_1LI2_vdwq_15.gro -r ../01_equi_nvt/nvt_1LI2_vdwq_15.gro -p ../../sys_top/1LI2_water_ion.top -po out_npt_1LI2_vdwq_15.mdp -o npt_1LI2_vdwq_15.tpr -maxwarn 1\n",
      "-Launch the simulation npt_1LI2_vdwq_15.tpr\n",
      "gmx mdrun -s npt_1LI2_vdwq_15.tpr -deffnm npt_1LI2_vdwq_15 -nt 0 -ntmpi 0 -nsteps -2 -nocopyright\n"
     ]
    },
    {
     "data": {
      "application/vnd.jupyter.widget-view+json": {
       "model_id": "c49504c9da3643a58e68c8b51202a034",
       "version_major": 2,
       "version_minor": 0
      },
      "text/plain": [
       "HBox(children=(FloatProgress(value=0.0, max=5000.0), HTML(value='')))"
      ]
     },
     "metadata": {},
     "output_type": "display_data"
    },
    {
     "name": "stdout",
     "output_type": "stream",
     "text": [
      "\n",
      "-Create the tpr file prod_1LI2_vdwq_15.tpr\n",
      "gmx grompp -f prod_1LI2_vdwq_15.mdp -c ../02_equi_npt/npt_1LI2_vdwq_15.gro -r ../02_equi_npt/npt_1LI2_vdwq_15.gro -p ../../sys_top/1LI2_water_ion.top -po out_prod_1LI2_vdwq_15.mdp -o prod_1LI2_vdwq_15.tpr -maxwarn 1\n",
      "-Launch the simulation prod_1LI2_vdwq_15.tpr\n",
      "gmx mdrun -s prod_1LI2_vdwq_15.tpr -deffnm prod_1LI2_vdwq_15 -nt 0 -ntmpi 0 -nsteps -2 -nocopyright\n"
     ]
    },
    {
     "data": {
      "application/vnd.jupyter.widget-view+json": {
       "model_id": "fb322e8d815c44fdb582c8ef18c372be",
       "version_major": 2,
       "version_minor": 0
      },
      "text/plain": [
       "HBox(children=(FloatProgress(value=0.0, max=50000.0), HTML(value='')))"
      ]
     },
     "metadata": {},
     "output_type": "display_data"
    },
    {
     "name": "stdout",
     "output_type": "stream",
     "text": [
      "\n",
      "-Create the tpr file em_1LI2_vdwq_16.tpr\n",
      "gmx grompp -f em_1LI2_vdwq_16.mdp -c ../../sys_equi/02_equi_CA_LOW/equi_CA_LOW_1LI2.gro -r ../../sys_equi/02_equi_CA_LOW/equi_CA_LOW_1LI2.gro -p ../../sys_top/1LI2_water_ion.top -po out_em_1LI2_vdwq_16.mdp -o em_1LI2_vdwq_16.tpr -maxwarn 1\n",
      "-Launch the simulation em_1LI2_vdwq_16.tpr\n",
      "gmx mdrun -s em_1LI2_vdwq_16.tpr -deffnm em_1LI2_vdwq_16 -nt 0 -ntmpi 0 -nsteps -2 -nocopyright\n"
     ]
    },
    {
     "data": {
      "application/vnd.jupyter.widget-view+json": {
       "model_id": "bc7404e933f24959954f1d7fd993380e",
       "version_major": 2,
       "version_minor": 0
      },
      "text/plain": [
       "HBox(children=(FloatProgress(value=0.0, max=5000.0), HTML(value='')))"
      ]
     },
     "metadata": {},
     "output_type": "display_data"
    },
    {
     "name": "stdout",
     "output_type": "stream",
     "text": [
      "\n",
      "-Create the tpr file nvt_1LI2_vdwq_16.tpr\n",
      "gmx grompp -f nvt_1LI2_vdwq_16.mdp -c ../00_em/em_1LI2_vdwq_16.gro -r ../00_em/em_1LI2_vdwq_16.gro -p ../../sys_top/1LI2_water_ion.top -po out_nvt_1LI2_vdwq_16.mdp -o nvt_1LI2_vdwq_16.tpr -maxwarn 1\n",
      "-Launch the simulation nvt_1LI2_vdwq_16.tpr\n",
      "gmx mdrun -s nvt_1LI2_vdwq_16.tpr -deffnm nvt_1LI2_vdwq_16 -nt 0 -ntmpi 0 -nsteps -2 -nocopyright\n"
     ]
    },
    {
     "data": {
      "application/vnd.jupyter.widget-view+json": {
       "model_id": "49714421823a4152bd2dd6683c12c7f7",
       "version_major": 2,
       "version_minor": 0
      },
      "text/plain": [
       "HBox(children=(FloatProgress(value=0.0, max=5000.0), HTML(value='')))"
      ]
     },
     "metadata": {},
     "output_type": "display_data"
    },
    {
     "name": "stdout",
     "output_type": "stream",
     "text": [
      "\n",
      "-Create the tpr file npt_1LI2_vdwq_16.tpr\n",
      "gmx grompp -f npt_1LI2_vdwq_16.mdp -c ../01_equi_nvt/nvt_1LI2_vdwq_16.gro -r ../01_equi_nvt/nvt_1LI2_vdwq_16.gro -p ../../sys_top/1LI2_water_ion.top -po out_npt_1LI2_vdwq_16.mdp -o npt_1LI2_vdwq_16.tpr -maxwarn 1\n",
      "-Launch the simulation npt_1LI2_vdwq_16.tpr\n",
      "gmx mdrun -s npt_1LI2_vdwq_16.tpr -deffnm npt_1LI2_vdwq_16 -nt 0 -ntmpi 0 -nsteps -2 -nocopyright\n"
     ]
    },
    {
     "data": {
      "application/vnd.jupyter.widget-view+json": {
       "model_id": "e124f27875ad4d9eb8c841b64f48f18f",
       "version_major": 2,
       "version_minor": 0
      },
      "text/plain": [
       "HBox(children=(FloatProgress(value=0.0, max=5000.0), HTML(value='')))"
      ]
     },
     "metadata": {},
     "output_type": "display_data"
    },
    {
     "name": "stdout",
     "output_type": "stream",
     "text": [
      "\n",
      "-Create the tpr file prod_1LI2_vdwq_16.tpr\n",
      "gmx grompp -f prod_1LI2_vdwq_16.mdp -c ../02_equi_npt/npt_1LI2_vdwq_16.gro -r ../02_equi_npt/npt_1LI2_vdwq_16.gro -p ../../sys_top/1LI2_water_ion.top -po out_prod_1LI2_vdwq_16.mdp -o prod_1LI2_vdwq_16.tpr -maxwarn 1\n",
      "-Launch the simulation prod_1LI2_vdwq_16.tpr\n",
      "gmx mdrun -s prod_1LI2_vdwq_16.tpr -deffnm prod_1LI2_vdwq_16 -nt 0 -ntmpi 0 -nsteps -2 -nocopyright\n",
      "\n",
      "\n"
     ]
    },
    {
     "data": {
      "application/vnd.jupyter.widget-view+json": {
       "model_id": "d81071f3cf444b9c85f8304886cd14a4",
       "version_major": 2,
       "version_minor": 0
      },
      "text/plain": [
       "HBox(children=(FloatProgress(value=0.0, max=50000.0), HTML(value='')))"
      ]
     },
     "metadata": {},
     "output_type": "display_data"
    },
    {
     "name": "stdout",
     "output_type": "stream",
     "text": [
      "\n",
      "-Create the tpr file em_1LI2_vdwq_17.tpr\n",
      "gmx grompp -f em_1LI2_vdwq_17.mdp -c ../../sys_equi/02_equi_CA_LOW/equi_CA_LOW_1LI2.gro -r ../../sys_equi/02_equi_CA_LOW/equi_CA_LOW_1LI2.gro -p ../../sys_top/1LI2_water_ion.top -po out_em_1LI2_vdwq_17.mdp -o em_1LI2_vdwq_17.tpr -maxwarn 1\n",
      "-Launch the simulation em_1LI2_vdwq_17.tpr\n",
      "gmx mdrun -s em_1LI2_vdwq_17.tpr -deffnm em_1LI2_vdwq_17 -nt 0 -ntmpi 0 -nsteps -2 -nocopyright\n"
     ]
    },
    {
     "data": {
      "application/vnd.jupyter.widget-view+json": {
       "model_id": "974d457be4714651b9f3fd87aa2a6d41",
       "version_major": 2,
       "version_minor": 0
      },
      "text/plain": [
       "HBox(children=(FloatProgress(value=0.0, max=5000.0), HTML(value='')))"
      ]
     },
     "metadata": {},
     "output_type": "display_data"
    },
    {
     "name": "stdout",
     "output_type": "stream",
     "text": [
      "\n",
      "-Create the tpr file nvt_1LI2_vdwq_17.tpr\n",
      "gmx grompp -f nvt_1LI2_vdwq_17.mdp -c ../00_em/em_1LI2_vdwq_17.gro -r ../00_em/em_1LI2_vdwq_17.gro -p ../../sys_top/1LI2_water_ion.top -po out_nvt_1LI2_vdwq_17.mdp -o nvt_1LI2_vdwq_17.tpr -maxwarn 1\n",
      "-Launch the simulation nvt_1LI2_vdwq_17.tpr\n",
      "gmx mdrun -s nvt_1LI2_vdwq_17.tpr -deffnm nvt_1LI2_vdwq_17 -nt 0 -ntmpi 0 -nsteps -2 -nocopyright\n"
     ]
    },
    {
     "data": {
      "application/vnd.jupyter.widget-view+json": {
       "model_id": "91733de8642e47209246c42c0b88cc57",
       "version_major": 2,
       "version_minor": 0
      },
      "text/plain": [
       "HBox(children=(FloatProgress(value=0.0, max=5000.0), HTML(value='')))"
      ]
     },
     "metadata": {},
     "output_type": "display_data"
    },
    {
     "name": "stdout",
     "output_type": "stream",
     "text": [
      "\n",
      "-Create the tpr file npt_1LI2_vdwq_17.tpr\n",
      "gmx grompp -f npt_1LI2_vdwq_17.mdp -c ../01_equi_nvt/nvt_1LI2_vdwq_17.gro -r ../01_equi_nvt/nvt_1LI2_vdwq_17.gro -p ../../sys_top/1LI2_water_ion.top -po out_npt_1LI2_vdwq_17.mdp -o npt_1LI2_vdwq_17.tpr -maxwarn 1\n",
      "-Launch the simulation npt_1LI2_vdwq_17.tpr\n",
      "gmx mdrun -s npt_1LI2_vdwq_17.tpr -deffnm npt_1LI2_vdwq_17 -nt 0 -ntmpi 0 -nsteps -2 -nocopyright\n"
     ]
    },
    {
     "data": {
      "application/vnd.jupyter.widget-view+json": {
       "model_id": "ef4befa7f82d42f3973560263fc8b61e",
       "version_major": 2,
       "version_minor": 0
      },
      "text/plain": [
       "HBox(children=(FloatProgress(value=0.0, max=5000.0), HTML(value='')))"
      ]
     },
     "metadata": {},
     "output_type": "display_data"
    },
    {
     "name": "stdout",
     "output_type": "stream",
     "text": [
      "\n",
      "-Create the tpr file prod_1LI2_vdwq_17.tpr\n",
      "gmx grompp -f prod_1LI2_vdwq_17.mdp -c ../02_equi_npt/npt_1LI2_vdwq_17.gro -r ../02_equi_npt/npt_1LI2_vdwq_17.gro -p ../../sys_top/1LI2_water_ion.top -po out_prod_1LI2_vdwq_17.mdp -o prod_1LI2_vdwq_17.tpr -maxwarn 1\n",
      "-Launch the simulation prod_1LI2_vdwq_17.tpr\n",
      "gmx mdrun -s prod_1LI2_vdwq_17.tpr -deffnm prod_1LI2_vdwq_17 -nt 0 -ntmpi 0 -nsteps -2 -nocopyright\n"
     ]
    },
    {
     "data": {
      "application/vnd.jupyter.widget-view+json": {
       "model_id": "6180bb6ab2c54246855c5e8af6c3b1e0",
       "version_major": 2,
       "version_minor": 0
      },
      "text/plain": [
       "HBox(children=(FloatProgress(value=0.0, max=50000.0), HTML(value='')))"
      ]
     },
     "metadata": {},
     "output_type": "display_data"
    },
    {
     "name": "stdout",
     "output_type": "stream",
     "text": [
      "\n",
      "-Create the tpr file em_1LI2_vdwq_18.tpr\n",
      "gmx grompp -f em_1LI2_vdwq_18.mdp -c ../../sys_equi/02_equi_CA_LOW/equi_CA_LOW_1LI2.gro -r ../../sys_equi/02_equi_CA_LOW/equi_CA_LOW_1LI2.gro -p ../../sys_top/1LI2_water_ion.top -po out_em_1LI2_vdwq_18.mdp -o em_1LI2_vdwq_18.tpr -maxwarn 1\n",
      "-Launch the simulation em_1LI2_vdwq_18.tpr\n",
      "gmx mdrun -s em_1LI2_vdwq_18.tpr -deffnm em_1LI2_vdwq_18 -nt 0 -ntmpi 0 -nsteps -2 -nocopyright\n"
     ]
    },
    {
     "data": {
      "application/vnd.jupyter.widget-view+json": {
       "model_id": "a86a280fe81844ac9a6329104d29eb85",
       "version_major": 2,
       "version_minor": 0
      },
      "text/plain": [
       "HBox(children=(FloatProgress(value=0.0, max=5000.0), HTML(value='')))"
      ]
     },
     "metadata": {},
     "output_type": "display_data"
    },
    {
     "name": "stdout",
     "output_type": "stream",
     "text": [
      "\n",
      "-Create the tpr file nvt_1LI2_vdwq_18.tpr\n",
      "gmx grompp -f nvt_1LI2_vdwq_18.mdp -c ../00_em/em_1LI2_vdwq_18.gro -r ../00_em/em_1LI2_vdwq_18.gro -p ../../sys_top/1LI2_water_ion.top -po out_nvt_1LI2_vdwq_18.mdp -o nvt_1LI2_vdwq_18.tpr -maxwarn 1\n",
      "-Launch the simulation nvt_1LI2_vdwq_18.tpr\n",
      "gmx mdrun -s nvt_1LI2_vdwq_18.tpr -deffnm nvt_1LI2_vdwq_18 -nt 0 -ntmpi 0 -nsteps -2 -nocopyright\n"
     ]
    },
    {
     "data": {
      "application/vnd.jupyter.widget-view+json": {
       "model_id": "0b0b70a3620947079cc2dce04a060247",
       "version_major": 2,
       "version_minor": 0
      },
      "text/plain": [
       "HBox(children=(FloatProgress(value=0.0, max=5000.0), HTML(value='')))"
      ]
     },
     "metadata": {},
     "output_type": "display_data"
    },
    {
     "name": "stdout",
     "output_type": "stream",
     "text": [
      "\n",
      "-Create the tpr file npt_1LI2_vdwq_18.tpr\n",
      "gmx grompp -f npt_1LI2_vdwq_18.mdp -c ../01_equi_nvt/nvt_1LI2_vdwq_18.gro -r ../01_equi_nvt/nvt_1LI2_vdwq_18.gro -p ../../sys_top/1LI2_water_ion.top -po out_npt_1LI2_vdwq_18.mdp -o npt_1LI2_vdwq_18.tpr -maxwarn 1\n",
      "-Launch the simulation npt_1LI2_vdwq_18.tpr\n",
      "gmx mdrun -s npt_1LI2_vdwq_18.tpr -deffnm npt_1LI2_vdwq_18 -nt 0 -ntmpi 0 -nsteps -2 -nocopyright\n"
     ]
    },
    {
     "data": {
      "application/vnd.jupyter.widget-view+json": {
       "model_id": "2bd5b1c5030b4f0ea1f25957501eb28d",
       "version_major": 2,
       "version_minor": 0
      },
      "text/plain": [
       "HBox(children=(FloatProgress(value=0.0, max=5000.0), HTML(value='')))"
      ]
     },
     "metadata": {},
     "output_type": "display_data"
    },
    {
     "name": "stdout",
     "output_type": "stream",
     "text": [
      "\n",
      "-Create the tpr file prod_1LI2_vdwq_18.tpr\n",
      "gmx grompp -f prod_1LI2_vdwq_18.mdp -c ../02_equi_npt/npt_1LI2_vdwq_18.gro -r ../02_equi_npt/npt_1LI2_vdwq_18.gro -p ../../sys_top/1LI2_water_ion.top -po out_prod_1LI2_vdwq_18.mdp -o prod_1LI2_vdwq_18.tpr -maxwarn 1\n",
      "-Launch the simulation prod_1LI2_vdwq_18.tpr\n",
      "gmx mdrun -s prod_1LI2_vdwq_18.tpr -deffnm prod_1LI2_vdwq_18 -nt 0 -ntmpi 0 -nsteps -2 -nocopyright\n"
     ]
    },
    {
     "data": {
      "application/vnd.jupyter.widget-view+json": {
       "model_id": "8d629dfdef03423c8dfbb425238c9211",
       "version_major": 2,
       "version_minor": 0
      },
      "text/plain": [
       "HBox(children=(FloatProgress(value=0.0, max=50000.0), HTML(value='')))"
      ]
     },
     "metadata": {},
     "output_type": "display_data"
    },
    {
     "name": "stdout",
     "output_type": "stream",
     "text": [
      "\n",
      "-Create the tpr file em_1LI2_vdwq_19.tpr\n",
      "gmx grompp -f em_1LI2_vdwq_19.mdp -c ../../sys_equi/02_equi_CA_LOW/equi_CA_LOW_1LI2.gro -r ../../sys_equi/02_equi_CA_LOW/equi_CA_LOW_1LI2.gro -p ../../sys_top/1LI2_water_ion.top -po out_em_1LI2_vdwq_19.mdp -o em_1LI2_vdwq_19.tpr -maxwarn 1\n",
      "-Launch the simulation em_1LI2_vdwq_19.tpr\n",
      "gmx mdrun -s em_1LI2_vdwq_19.tpr -deffnm em_1LI2_vdwq_19 -nt 0 -ntmpi 0 -nsteps -2 -nocopyright\n"
     ]
    },
    {
     "data": {
      "application/vnd.jupyter.widget-view+json": {
       "model_id": "d3b1d4e10ddd4f8bb180458afa0ab902",
       "version_major": 2,
       "version_minor": 0
      },
      "text/plain": [
       "HBox(children=(FloatProgress(value=0.0, max=5000.0), HTML(value='')))"
      ]
     },
     "metadata": {},
     "output_type": "display_data"
    },
    {
     "name": "stdout",
     "output_type": "stream",
     "text": [
      "\n",
      "-Create the tpr file nvt_1LI2_vdwq_19.tpr\n",
      "gmx grompp -f nvt_1LI2_vdwq_19.mdp -c ../00_em/em_1LI2_vdwq_19.gro -r ../00_em/em_1LI2_vdwq_19.gro -p ../../sys_top/1LI2_water_ion.top -po out_nvt_1LI2_vdwq_19.mdp -o nvt_1LI2_vdwq_19.tpr -maxwarn 1\n",
      "-Launch the simulation nvt_1LI2_vdwq_19.tpr\n",
      "gmx mdrun -s nvt_1LI2_vdwq_19.tpr -deffnm nvt_1LI2_vdwq_19 -nt 0 -ntmpi 0 -nsteps -2 -nocopyright\n"
     ]
    },
    {
     "data": {
      "application/vnd.jupyter.widget-view+json": {
       "model_id": "c9d179035bcf47f8876118fe465bda8c",
       "version_major": 2,
       "version_minor": 0
      },
      "text/plain": [
       "HBox(children=(FloatProgress(value=0.0, max=5000.0), HTML(value='')))"
      ]
     },
     "metadata": {},
     "output_type": "display_data"
    },
    {
     "name": "stdout",
     "output_type": "stream",
     "text": [
      "\n",
      "-Create the tpr file npt_1LI2_vdwq_19.tpr\n",
      "gmx grompp -f npt_1LI2_vdwq_19.mdp -c ../01_equi_nvt/nvt_1LI2_vdwq_19.gro -r ../01_equi_nvt/nvt_1LI2_vdwq_19.gro -p ../../sys_top/1LI2_water_ion.top -po out_npt_1LI2_vdwq_19.mdp -o npt_1LI2_vdwq_19.tpr -maxwarn 1\n",
      "-Launch the simulation npt_1LI2_vdwq_19.tpr\n",
      "gmx mdrun -s npt_1LI2_vdwq_19.tpr -deffnm npt_1LI2_vdwq_19 -nt 0 -ntmpi 0 -nsteps -2 -nocopyright\n"
     ]
    },
    {
     "data": {
      "application/vnd.jupyter.widget-view+json": {
       "model_id": "e44c771dc42a4f6fab1edc3f0c13febe",
       "version_major": 2,
       "version_minor": 0
      },
      "text/plain": [
       "HBox(children=(FloatProgress(value=0.0, max=5000.0), HTML(value='')))"
      ]
     },
     "metadata": {},
     "output_type": "display_data"
    },
    {
     "name": "stdout",
     "output_type": "stream",
     "text": [
      "\n",
      "-Create the tpr file prod_1LI2_vdwq_19.tpr\n",
      "gmx grompp -f prod_1LI2_vdwq_19.mdp -c ../02_equi_npt/npt_1LI2_vdwq_19.gro -r ../02_equi_npt/npt_1LI2_vdwq_19.gro -p ../../sys_top/1LI2_water_ion.top -po out_prod_1LI2_vdwq_19.mdp -o prod_1LI2_vdwq_19.tpr -maxwarn 1\n",
      "-Launch the simulation prod_1LI2_vdwq_19.tpr\n",
      "gmx mdrun -s prod_1LI2_vdwq_19.tpr -deffnm prod_1LI2_vdwq_19 -nt 0 -ntmpi 0 -nsteps -2 -nocopyright\n"
     ]
    },
    {
     "data": {
      "application/vnd.jupyter.widget-view+json": {
       "model_id": "6ac7b45bda8b4f76869d52153694ab1f",
       "version_major": 2,
       "version_minor": 0
      },
      "text/plain": [
       "HBox(children=(FloatProgress(value=0.0, max=50000.0), HTML(value='')))"
      ]
     },
     "metadata": {},
     "output_type": "display_data"
    },
    {
     "name": "stdout",
     "output_type": "stream",
     "text": [
      "\n",
      "-Create the tpr file em_1LI2_vdwq_20.tpr\n",
      "gmx grompp -f em_1LI2_vdwq_20.mdp -c ../../sys_equi/02_equi_CA_LOW/equi_CA_LOW_1LI2.gro -r ../../sys_equi/02_equi_CA_LOW/equi_CA_LOW_1LI2.gro -p ../../sys_top/1LI2_water_ion.top -po out_em_1LI2_vdwq_20.mdp -o em_1LI2_vdwq_20.tpr -maxwarn 1\n",
      "-Launch the simulation em_1LI2_vdwq_20.tpr\n",
      "gmx mdrun -s em_1LI2_vdwq_20.tpr -deffnm em_1LI2_vdwq_20 -nt 0 -ntmpi 0 -nsteps -2 -nocopyright\n"
     ]
    },
    {
     "data": {
      "application/vnd.jupyter.widget-view+json": {
       "model_id": "be8e50d75bb84d4db925d2e8bcd6d010",
       "version_major": 2,
       "version_minor": 0
      },
      "text/plain": [
       "HBox(children=(FloatProgress(value=0.0, max=5000.0), HTML(value='')))"
      ]
     },
     "metadata": {},
     "output_type": "display_data"
    },
    {
     "name": "stdout",
     "output_type": "stream",
     "text": [
      "\n",
      "-Create the tpr file nvt_1LI2_vdwq_20.tpr\n",
      "gmx grompp -f nvt_1LI2_vdwq_20.mdp -c ../00_em/em_1LI2_vdwq_20.gro -r ../00_em/em_1LI2_vdwq_20.gro -p ../../sys_top/1LI2_water_ion.top -po out_nvt_1LI2_vdwq_20.mdp -o nvt_1LI2_vdwq_20.tpr -maxwarn 1\n",
      "-Launch the simulation nvt_1LI2_vdwq_20.tpr\n",
      "gmx mdrun -s nvt_1LI2_vdwq_20.tpr -deffnm nvt_1LI2_vdwq_20 -nt 0 -ntmpi 0 -nsteps -2 -nocopyright\n"
     ]
    },
    {
     "data": {
      "application/vnd.jupyter.widget-view+json": {
       "model_id": "c584f6a69584499a99de980a7eaf60c1",
       "version_major": 2,
       "version_minor": 0
      },
      "text/plain": [
       "HBox(children=(FloatProgress(value=0.0, max=5000.0), HTML(value='')))"
      ]
     },
     "metadata": {},
     "output_type": "display_data"
    },
    {
     "name": "stdout",
     "output_type": "stream",
     "text": [
      "\n",
      "-Create the tpr file npt_1LI2_vdwq_20.tpr\n",
      "gmx grompp -f npt_1LI2_vdwq_20.mdp -c ../01_equi_nvt/nvt_1LI2_vdwq_20.gro -r ../01_equi_nvt/nvt_1LI2_vdwq_20.gro -p ../../sys_top/1LI2_water_ion.top -po out_npt_1LI2_vdwq_20.mdp -o npt_1LI2_vdwq_20.tpr -maxwarn 1\n",
      "-Launch the simulation npt_1LI2_vdwq_20.tpr\n",
      "gmx mdrun -s npt_1LI2_vdwq_20.tpr -deffnm npt_1LI2_vdwq_20 -nt 0 -ntmpi 0 -nsteps -2 -nocopyright\n"
     ]
    },
    {
     "data": {
      "application/vnd.jupyter.widget-view+json": {
       "model_id": "de29f268beaf4969a987045bf24dc398",
       "version_major": 2,
       "version_minor": 0
      },
      "text/plain": [
       "HBox(children=(FloatProgress(value=0.0, max=5000.0), HTML(value='')))"
      ]
     },
     "metadata": {},
     "output_type": "display_data"
    },
    {
     "name": "stdout",
     "output_type": "stream",
     "text": [
      "\n",
      "-Create the tpr file prod_1LI2_vdwq_20.tpr\n",
      "gmx grompp -f prod_1LI2_vdwq_20.mdp -c ../02_equi_npt/npt_1LI2_vdwq_20.gro -r ../02_equi_npt/npt_1LI2_vdwq_20.gro -p ../../sys_top/1LI2_water_ion.top -po out_prod_1LI2_vdwq_20.mdp -o prod_1LI2_vdwq_20.tpr -maxwarn 1\n",
      "-Launch the simulation prod_1LI2_vdwq_20.tpr\n",
      "gmx mdrun -s prod_1LI2_vdwq_20.tpr -deffnm prod_1LI2_vdwq_20 -nt 0 -ntmpi 0 -nsteps -2 -nocopyright\n"
     ]
    },
    {
     "data": {
      "application/vnd.jupyter.widget-view+json": {
       "model_id": "aaf951de29cb49f0b5702a034f77b53c",
       "version_major": 2,
       "version_minor": 0
      },
      "text/plain": [
       "HBox(children=(FloatProgress(value=0.0, max=50000.0), HTML(value='')))"
      ]
     },
     "metadata": {},
     "output_type": "display_data"
    },
    {
     "name": "stdout",
     "output_type": "stream",
     "text": [
      "\n",
      "-Extract bar energy\n",
      "gmx bar -f data_lig_Mobley_1LI2/mol_prot_free_ener_rest/03_prod/prod_1LI2_vdwq_00.xvg data_lig_Mobley_1LI2/mol_prot_free_ener_rest/03_prod/prod_1LI2_vdwq_01.xvg data_lig_Mobley_1LI2/mol_prot_free_ener_rest/03_prod/prod_1LI2_vdwq_02.xvg data_lig_Mobley_1LI2/mol_prot_free_ener_rest/03_prod/prod_1LI2_vdwq_03.xvg data_lig_Mobley_1LI2/mol_prot_free_ener_rest/03_prod/prod_1LI2_vdwq_04.xvg data_lig_Mobley_1LI2/mol_prot_free_ener_rest/03_prod/prod_1LI2_vdwq_05.xvg data_lig_Mobley_1LI2/mol_prot_free_ener_rest/03_prod/prod_1LI2_vdwq_06.xvg data_lig_Mobley_1LI2/mol_prot_free_ener_rest/03_prod/prod_1LI2_vdwq_07.xvg data_lig_Mobley_1LI2/mol_prot_free_ener_rest/03_prod/prod_1LI2_vdwq_08.xvg data_lig_Mobley_1LI2/mol_prot_free_ener_rest/03_prod/prod_1LI2_vdwq_09.xvg data_lig_Mobley_1LI2/mol_prot_free_ener_rest/03_prod/prod_1LI2_vdwq_10.xvg data_lig_Mobley_1LI2/mol_prot_free_ener_rest/03_prod/prod_1LI2_vdwq_11.xvg data_lig_Mobley_1LI2/mol_prot_free_ener_rest/03_prod/prod_1LI2_vdwq_12.xvg data_lig_Mobley_1LI2/mol_prot_free_ener_rest/03_prod/prod_1LI2_vdwq_13.xvg data_lig_Mobley_1LI2/mol_prot_free_ener_rest/03_prod/prod_1LI2_vdwq_14.xvg data_lig_Mobley_1LI2/mol_prot_free_ener_rest/03_prod/prod_1LI2_vdwq_15.xvg data_lig_Mobley_1LI2/mol_prot_free_ener_rest/03_prod/prod_1LI2_vdwq_16.xvg data_lig_Mobley_1LI2/mol_prot_free_ener_rest/03_prod/prod_1LI2_vdwq_17.xvg data_lig_Mobley_1LI2/mol_prot_free_ener_rest/03_prod/prod_1LI2_vdwq_18.xvg data_lig_Mobley_1LI2/mol_prot_free_ener_rest/03_prod/prod_1LI2_vdwq_19.xvg data_lig_Mobley_1LI2/mol_prot_free_ener_rest/03_prod/prod_1LI2_vdwq_20.xvg -o bar.xvg -oi barint.xvg -oh histogram.xvg\n",
      "DDG = -49.75 +/- 1.05 KJ/mol-1\n",
      "DDG = -11.89 +/- 0.25 Kcal/mol-1\n",
      "Log P = 68.30 +/- -1.44\n"
     ]
    }
   ],
   "source": [
    "ener = start_sys.free_ener(out_folder=os.path.join(DATA_OUT, 'mol_prot_free_ener_rest'),\n",
    "                           mol_name=MOL_ID, lambda_elec_num=5, lambda_vdw_num=10,\n",
    "                           lambda_bond_num=5,\n",
    "                           em_steps=5000, nvt_time=10, npt_time=10, prod_time=100)\n",
    "\n",
    "#ener = start_sys.free_ener(out_folder=os.path.join(DATA_OUT, 'mol_prot_free_ener'),\n",
    "#                    mol_name='120', lambda_elec_num=5, lambda_vdw_num=5,\n",
    "#                    em_steps=5000, nvt_time=5, npt_time=5, prod_time=10)"
   ]
  },
  {
   "cell_type": "code",
   "execution_count": 59,
   "metadata": {},
   "outputs": [
    {
     "name": "stdout",
     "output_type": "stream",
     "text": [
      "DDG = -17.99 +/- 1.13\n"
     ]
    }
   ],
   "source": [
    "print('DDG = {:.2f} +/- {:.2f}'.format( (ener_solv['DG'] - ener['DG'])/4.184, \n",
    "                                       ((ener_solv['std']**2 + ener['std']**2)**(0.5))/4.184))"
   ]
  },
  {
   "cell_type": "code",
   "execution_count": 31,
   "metadata": {},
   "outputs": [
    {
     "data": {
      "text/plain": [
       "{'DG': -49.75,\n",
       " 'std': 1.05,\n",
       " 'table':        l  DG (kT)   +/-\n",
       " 0    0.5    -0.00  0.00\n",
       " 1    1.5     0.00  0.00\n",
       " 2    2.5     0.00  0.00\n",
       " 3    3.5    -0.00  0.00\n",
       " 4    4.5     0.00  0.00\n",
       " 5    5.5     4.38  0.03\n",
       " 6    6.5     2.99  0.03\n",
       " 7    7.5     2.28  0.03\n",
       " 8    8.5     1.77  0.16\n",
       " 9    9.5     0.78  0.11\n",
       " 10  10.5     0.66  0.03\n",
       " 11  11.5     0.80  0.06\n",
       " 12  12.5     0.88  0.05\n",
       " 13  13.5     1.01  0.05\n",
       " 14  14.5     1.40  0.06\n",
       " 15  15.5     1.47  0.04\n",
       " 16  16.5     1.17  0.05\n",
       " 17  17.5     0.85  0.09\n",
       " 18  18.5     0.36  0.37\n",
       " 19  19.5    -0.85  0.30}"
      ]
     },
     "execution_count": 31,
     "metadata": {},
     "output_type": "execute_result"
    }
   ],
   "source": [
    "ener"
   ]
  },
  {
   "cell_type": "markdown",
   "metadata": {},
   "source": [
    "- exp value: -7.42 $kcal.mol^{-1}$"
   ]
  },
  {
   "cell_type": "code",
   "execution_count": 31,
   "metadata": {},
   "outputs": [
    {
     "data": {
      "text/plain": [
       "-20.989999999999995"
      ]
     },
     "execution_count": 31,
     "metadata": {},
     "output_type": "execute_result"
    }
   ],
   "source": [
    "-69.69+48.70"
   ]
  },
  {
   "cell_type": "code",
   "execution_count": null,
   "metadata": {},
   "outputs": [],
   "source": [
    "test = test.replace('\\\\x','')\n",
    "test = test.replace('\\\\f{}','')\n",
    "test"
   ]
  },
  {
   "cell_type": "code",
   "execution_count": null,
   "metadata": {},
   "outputs": [],
   "source": [
    "test = ['a', 'b', 'c']\n",
    "\" \".join(test)"
   ]
  },
  {
   "cell_type": "code",
   "execution_count": null,
   "metadata": {},
   "outputs": [],
   "source": [
    "math.sqrt((table.iloc[:,2]**2).sum())"
   ]
  },
  {
   "cell_type": "code",
   "execution_count": null,
   "metadata": {},
   "outputs": [],
   "source": [
    "table"
   ]
  },
  {
   "cell_type": "code",
   "execution_count": null,
   "metadata": {},
   "outputs": [],
   "source": [
    "from scipy.constants import R, Boltzmann, N_A\n",
    "import math\n",
    "\n",
    "#math.sqrt((table.iloc[:, 2] *  Boltzmann*310*N_A*1e-3 # kT to KJ.mol-1"
   ]
  },
  {
   "cell_type": "code",
   "execution_count": null,
   "metadata": {},
   "outputs": [],
   "source": [
    "math.sqrt(((table.iloc[:, 2] *  Boltzmann*310*N_A*1e-3)**2).sum())*(len(table.iloc[:, 2])+1)/len(table.iloc[:, 2])"
   ]
  },
  {
   "cell_type": "code",
   "execution_count": null,
   "metadata": {},
   "outputs": [],
   "source": [
    "from scipy.constants import R, Boltzmann, N_A\n",
    "\n",
    "Boltzmann*310*N_A"
   ]
  },
  {
   "cell_type": "code",
   "execution_count": null,
   "metadata": {},
   "outputs": [],
   "source": [
    "table.iloc[:, 2] *  Boltzmann*310*N_A*1e-3"
   ]
  },
  {
   "cell_type": "code",
   "execution_count": null,
   "metadata": {},
   "outputs": [],
   "source": [
    "len(table.iloc[:, 2])"
   ]
  },
  {
   "cell_type": "code",
   "execution_count": 29,
   "metadata": {},
   "outputs": [
    {
     "data": {
      "text/plain": [
       "26.22"
      ]
     },
     "execution_count": 29,
     "metadata": {},
     "output_type": "execute_result"
    }
   ],
   "source": [
    "78.41-52.19"
   ]
  },
  {
   "cell_type": "code",
   "execution_count": null,
   "metadata": {},
   "outputs": [],
   "source": []
  }
 ],
 "metadata": {
  "kernelspec": {
   "display_name": "Python 3",
   "language": "python",
   "name": "python3"
  },
  "language_info": {
   "codemirror_mode": {
    "name": "ipython",
    "version": 3
   },
   "file_extension": ".py",
   "mimetype": "text/x-python",
   "name": "python",
   "nbconvert_exporter": "python",
   "pygments_lexer": "ipython3",
   "version": "3.7.3"
  }
 },
 "nbformat": 4,
 "nbformat_minor": 4
}
