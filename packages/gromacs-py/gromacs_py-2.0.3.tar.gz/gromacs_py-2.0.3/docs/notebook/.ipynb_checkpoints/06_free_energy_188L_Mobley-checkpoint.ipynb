{
 "cells": [
  {
   "cell_type": "code",
   "execution_count": 1,
   "metadata": {},
   "outputs": [],
   "source": [
    "from gromacs_py import free_ener\n",
    "import numpy as np\n",
    "free_ener.show_log()"
   ]
  },
  {
   "cell_type": "code",
   "execution_count": 2,
   "metadata": {},
   "outputs": [
    {
     "name": "stdout",
     "output_type": "stream",
     "text": [
      "/home/murail/Documents/Code/gromacs_py/docs/notebook\n"
     ]
    }
   ],
   "source": [
    "cd /home/murail/Documents/Code/gromacs_py/docs/notebook/"
   ]
  },
  {
   "cell_type": "code",
   "execution_count": 3,
   "metadata": {},
   "outputs": [],
   "source": [
    "import os\n",
    "import urllib.request\n",
    "\n",
    "PDB_ID = '183L'\n",
    "MOL_ID = 'DEN'\n",
    "SMILE = 'C1C=Cc2ccccc12'\n",
    "DATA_OUT = './'\n",
    "os.makedirs(DATA_OUT, exist_ok = True)\n",
    "\n",
    "raw_pdb = urllib.request.urlretrieve('http://files.rcsb.org/download/{}.pdb'.format(PDB_ID),\n",
    "                           '{}/{}.pdb'.format(DATA_OUT, PDB_ID))"
   ]
  },
  {
   "cell_type": "code",
   "execution_count": 4,
   "metadata": {},
   "outputs": [
    {
     "name": "stdout",
     "output_type": "stream",
     "text": [
      "Succeed to read file ../../183L.pdb ,  1424 atoms found\n",
      "Succeed to read file 00_DEN.pqr ,  2603 atoms found\n",
      "residue(s) HED not included, add this residue in ...\n",
      "residue(s) CL not included, add this residue in ...\n",
      "Succeed to read file ../../183L.pdb ,  1424 atoms found\n",
      "Succeed to save file DEN.pdb\n",
      "Succeed to read file DEN.pdb ,  9 atoms found\n",
      "Succeed to read file DEN_h.pdb ,  17 atoms found\n",
      "Succeed to save file DEN_h.pdb\n",
      "Succeed to read file DEN_h.pdb ,  17 atoms found\n",
      "Succeed to save file DEN_h_unique.pdb\n",
      "acpype.py -i DEN_h_unique.pdb -b DEN -c bcc -a gaff -o gmx -n 0\n",
      "DEN\n",
      "Chain: A  Residue: 0 to 161\n",
      "PDB file 01_DEN_good_his.pdb already exist, file not saved\n",
      "- Create topologie\n",
      "create_top not launched DEN_pdb2gmx.pdb already exist\n",
      "Add Molecule: DEN\n",
      "Add 1 mol /home/murail/Documents/Code/gromacs_py/docs/notebook/indene_prot/complex_top/DEN.acpype/DEN_GMX.itp\n",
      "Concat files: ['DEN_pdb2gmx.pdb', '/home/murail/Documents/Code/gromacs_py/docs/notebook/indene_prot/complex_top/DEN_h.pdb']\n",
      "File  DEN_pdb2gmx_mol.pdb  already exist\n",
      "- Create pbc box\n",
      "create_box not launched indene_prot/complex_top/DEN_pdb2gmx_mol_box.pdb already exist\n",
      "- Solvate the pbc box\n",
      "solvate_box not launched DEN_water.pdb already exist\n",
      "add ions not launched DEN_water_ion.gro already exist\n"
     ]
    }
   ],
   "source": [
    "complex_free = free_ener.FreeEner('DEN', 'indene_prot')\n",
    "complex_free.prepare_complex_pdb('{}/{}.pdb'.format(DATA_OUT, PDB_ID), SMILE)"
   ]
  },
  {
   "cell_type": "code",
   "execution_count": 5,
   "metadata": {},
   "outputs": [
    {
     "name": "stdout",
     "output_type": "stream",
     "text": [
      "Mdp files not created, Init_em_DEN.mdp already exist\n",
      "- Create the tpr file Init_em_DEN.tpr\n",
      "create_tpr not launched Init_em_DEN.tpr already exist\n",
      "- Launch the simulation Init_em_DEN.tpr\n",
      "Simulation not launched Init_em_DEN.gro already exist\n",
      "Mdp files not created, DEN.mdp already exist\n",
      "- Create the tpr file DEN.tpr\n",
      "create_tpr not launched DEN.tpr already exist\n",
      "- Launch the simulation DEN.tpr\n",
      "Simulation not launched DEN.gro already exist\n",
      "- Convert trj/coor\n",
      "convert trj not launched indene_prot/prot_em/DEN_compact.pdb already exist\n",
      "Mdp files not created, equi_HA_short_DEN.mdp already exist\n",
      "- Create the tpr file equi_HA_short_DEN.tpr\n",
      "create_tpr not launched equi_HA_short_DEN.tpr already exist\n",
      "- Launch the simulation equi_HA_short_DEN.tpr\n",
      "Simulation not launched equi_HA_short_DEN.gro already exist\n",
      "Mdp files not created, equi_HA_DEN.mdp already exist\n",
      "- Create the tpr file equi_HA_DEN.tpr\n",
      "create_tpr not launched equi_HA_DEN.tpr already exist\n",
      "- Launch the simulation equi_HA_DEN.tpr\n",
      "Simulation not launched equi_HA_DEN.gro already exist\n",
      "Mdp files not created, equi_CA_DEN.mdp already exist\n",
      "- Create the tpr file equi_CA_DEN.tpr\n",
      "create_tpr not launched equi_CA_DEN.tpr already exist\n",
      "- Launch the simulation equi_CA_DEN.tpr\n",
      "Simulation not launched equi_CA_DEN.gro already exist\n",
      "Mdp files not created, equi_CA_LOW_DEN.mdp already exist\n",
      "- Create the tpr file equi_CA_LOW_DEN.tpr\n",
      "create_tpr not launched equi_CA_LOW_DEN.tpr already exist\n",
      "- Launch the simulation equi_CA_LOW_DEN.tpr\n",
      "Simulation not launched equi_CA_LOW_DEN.gro already exist\n"
     ]
    }
   ],
   "source": [
    "complex_free.equilibrate_complex()"
   ]
  },
  {
   "cell_type": "code",
   "execution_count": 6,
   "metadata": {},
   "outputs": [
    {
     "name": "stdout",
     "output_type": "stream",
     "text": [
      "Succeed to read file indene_prot/prot_em/DEN_compact.pdb ,  35838 atoms found\n",
      "- Convert trj/coor\n",
      "convert trj not launched indene_prot/sys_equi/02_equi_CA_LOW/equi_CA_LOW_DEN_compact.xtc already exist\n",
      "- Convert trj/coor\n",
      "convert trj not launched indene_prot/sys_equi/02_equi_CA_LOW/equi_CA_LOW_DEN_compact_compact.xtc already exist\n",
      "- Extract RMSF\n",
      "- Create the ndx file indene_prot/sys_equi/02_equi_CA_LOW/equi_CA_LOW_DEN.ndx\n",
      "add_ndx not launched indene_prot/sys_equi/02_equi_CA_LOW/equi_CA_LOW_DEN.ndx already exist\n",
      "gmx rmsf -s indene_prot/sys_equi/02_equi_CA_LOW/equi_CA_LOW_DEN.tpr -f indene_prot/sys_equi/02_equi_CA_LOW/equi_CA_LOW_DEN_compact_compact.xtc -n indene_prot/sys_equi/02_equi_CA_LOW/equi_CA_LOW_DEN.ndx -o tmp_rmsf.xvg -fit no -res no\n",
      "- Extract RMSF\n",
      "gmx rmsf -s indene_prot/sys_equi/02_equi_CA_LOW/equi_CA_LOW_DEN.tpr -f indene_prot/sys_equi/02_equi_CA_LOW/equi_CA_LOW_DEN_compact_compact.xtc -n indene_prot/sys_equi/02_equi_CA_LOW/equi_CA_LOW_DEN.ndx -o tmp_rmsf.xvg -fit no -res no\n",
      "Succeed to read file indene_prot/prot_em/DEN_compact.pdb ,  35838 atoms found\n"
     ]
    }
   ],
   "source": [
    "complex_free.compute_add_intermol_from_traj(ref_coor=None)"
   ]
  },
  {
   "cell_type": "code",
   "execution_count": 7,
   "metadata": {},
   "outputs": [
    {
     "data": {
      "text/plain": [
       "6.845360657561009"
      ]
     },
     "execution_count": 7,
     "metadata": {},
     "output_type": "execute_result"
    }
   ],
   "source": [
    "complex_free.ener_rest_water"
   ]
  },
  {
   "cell_type": "code",
   "execution_count": 2,
   "metadata": {},
   "outputs": [
    {
     "name": "stdout",
     "output_type": "stream",
     "text": [
      "/home/murail/Documents/Code/gromacs_py/docs/notebook\n"
     ]
    }
   ],
   "source": [
    "cd /home/murail/Documents/Code/gromacs_py/docs/notebook/"
   ]
  },
  {
   "cell_type": "code",
   "execution_count": 3,
   "metadata": {},
   "outputs": [],
   "source": [
    "#rm -r indene"
   ]
  },
  {
   "cell_type": "code",
   "execution_count": 4,
   "metadata": {},
   "outputs": [
    {
     "name": "stdout",
     "output_type": "stream",
     "text": [
      "Succeed to read file indene/DEN.pdb ,  17 atoms found\n",
      "Succeed to save file indene/DEN.pdb\n",
      "ligand charge is 0\n",
      "Succeed to read file ../DEN.pdb ,  17 atoms found\n",
      "Succeed to read file ../DEN.pdb ,  17 atoms found\n",
      "Succeed to save file DEN.pdb\n",
      "Succeed to read file DEN.pdb ,  17 atoms found\n",
      "Succeed to read file DEN_h.pdb ,  17 atoms found\n",
      "Succeed to save file DEN_h.pdb\n",
      "Succeed to read file DEN_h.pdb ,  17 atoms found\n",
      "Succeed to save file DEN_h_unique.pdb\n",
      "acpype.py -i DEN_h_unique.pdb -b DEN -c bcc -a gaff -o gmx -n 0\n",
      "DEN\n",
      "Add Molecule: DEN\n",
      "Add 1 mol /home/murail/Documents/Code/gromacs_py/docs/notebook/indene/mol_top/DEN.acpype/DEN_GMX.itp\n",
      "Concat files: ['DEN.pdb', '/home/murail/Documents/Code/gromacs_py/docs/notebook/indene/mol_top/DEN_h.pdb']\n",
      "File  DEN_mol.pdb  already exist\n",
      "- Create pbc box\n",
      "create_box not launched indene/mol_top/DEN_mol_box.pdb already exist\n",
      "- Solvate the pbc box\n",
      "solvate_box not launched DEN_water.pdb already exist\n",
      "Mdp files not created, Init_em_DEN.mdp already exist\n",
      "- Create the tpr file Init_em_DEN.tpr\n",
      "create_tpr not launched Init_em_DEN.tpr already exist\n",
      "- Launch the simulation Init_em_DEN.tpr\n",
      "Simulation not launched Init_em_DEN.gro already exist\n",
      "Mdp files not created, DEN.mdp already exist\n",
      "- Create the tpr file DEN.tpr\n",
      "create_tpr not launched DEN.tpr already exist\n",
      "- Launch the simulation DEN.tpr\n",
      "Simulation not launched DEN.gro already exist\n",
      "Mdp files not created, prod_short_equi.mdp already exist\n",
      "- Create the tpr file prod_short_equi.tpr\n",
      "create_tpr not launched prod_short_equi.tpr already exist\n",
      "- Launch the simulation prod_short_equi.tpr\n",
      "Simulation not launched prod_short_equi.gro already exist\n",
      "Mdp files not created, prod_DEN.mdp already exist\n",
      "- Create the tpr file prod_DEN.tpr\n",
      "create_tpr not launched prod_DEN.tpr already exist\n",
      "- Launch the simulation prod_DEN.tpr\n",
      "Simulation not launched prod_DEN.gro already exist\n"
     ]
    }
   ],
   "source": [
    "mol_free = free_ener.FreeEner('DEN', 'indene')\n",
    "mol_free.water_box_from_SMILE('C1C=Cc2ccccc12')\n",
    "mol_free.equilibrate_solvent_box()"
   ]
  },
  {
   "cell_type": "code",
   "execution_count": 5,
   "metadata": {
    "scrolled": false
   },
   "outputs": [
    {
     "name": "stdout",
     "output_type": "stream",
     "text": [
      "Coulomb lambda : 0.00 0.20 0.40 0.60 0.80 1.00 1.00 1.00 1.00 1.00 1.00 1.00 1.00 1.00 1.00 1.00 \n",
      "Vdw lambda     : 0.00 0.00 0.00 0.00 0.00 0.00 0.10 0.20 0.30 0.40 0.50 0.60 0.70 0.80 0.90 1.00 \n",
      "restr_lambdas  : 1.00 1.00 1.00 1.00 1.00 1.00 1.00 1.00 1.00 1.00 1.00 1.00 1.00 1.00 1.00 1.00 \n"
     ]
    },
    {
     "data": {
      "application/vnd.jupyter.widget-view+json": {
       "model_id": "b481d487a8e74f9fad94fae470e29cf2",
       "version_major": 2,
       "version_minor": 0
      },
      "text/plain": [
       "HBox(children=(FloatProgress(value=0.0, max=1040000.0), HTML(value='')))"
      ]
     },
     "metadata": {},
     "output_type": "display_data"
    },
    {
     "name": "stdout",
     "output_type": "stream",
     "text": [
      "Compute lambda 0 / 16\n",
      "Mdp files not created, em_DEN_vdwq_00.mdp already exist\n",
      "- Create the tpr file em_DEN_vdwq_00.tpr\n",
      "create_tpr not launched em_DEN_vdwq_00.tpr already exist\n",
      "- Launch the simulation em_DEN_vdwq_00.tpr\n",
      "Simulation not launched em_DEN_vdwq_00.gro already exist\n",
      "Mdp files not created, nvt_DEN_vdwq_00.mdp already exist\n",
      "- Create the tpr file nvt_DEN_vdwq_00.tpr\n",
      "create_tpr not launched nvt_DEN_vdwq_00.tpr already exist\n",
      "- Launch the simulation nvt_DEN_vdwq_00.tpr\n",
      "Simulation not launched nvt_DEN_vdwq_00.gro already exist\n",
      "Mdp files not created, npt_DEN_vdwq_00.mdp already exist\n",
      "- Create the tpr file npt_DEN_vdwq_00.tpr\n",
      "create_tpr not launched npt_DEN_vdwq_00.tpr already exist\n",
      "- Launch the simulation npt_DEN_vdwq_00.tpr\n",
      "Simulation not launched npt_DEN_vdwq_00.gro already exist\n",
      "Mdp files not created, prod_DEN_vdwq_00.mdp already exist\n",
      "- Create the tpr file prod_DEN_vdwq_00.tpr\n",
      "create_tpr not launched prod_DEN_vdwq_00.tpr already exist\n",
      "- Launch the simulation prod_DEN_vdwq_00.tpr\n",
      "Simulation not launched prod_DEN_vdwq_00.gro already exist\n",
      "Compute lambda 1 / 16\n",
      "Mdp files not created, em_DEN_vdwq_01.mdp already exist\n",
      "- Create the tpr file em_DEN_vdwq_01.tpr\n",
      "create_tpr not launched em_DEN_vdwq_01.tpr already exist\n",
      "- Launch the simulation em_DEN_vdwq_01.tpr\n",
      "Simulation not launched em_DEN_vdwq_01.gro already exist\n",
      "Mdp files not created, nvt_DEN_vdwq_01.mdp already exist\n",
      "- Create the tpr file nvt_DEN_vdwq_01.tpr\n",
      "create_tpr not launched nvt_DEN_vdwq_01.tpr already exist\n",
      "- Launch the simulation nvt_DEN_vdwq_01.tpr\n",
      "Simulation not launched nvt_DEN_vdwq_01.gro already exist\n",
      "Mdp files not created, npt_DEN_vdwq_01.mdp already exist\n",
      "- Create the tpr file npt_DEN_vdwq_01.tpr\n",
      "create_tpr not launched npt_DEN_vdwq_01.tpr already exist\n",
      "- Launch the simulation npt_DEN_vdwq_01.tpr\n",
      "Simulation not launched npt_DEN_vdwq_01.gro already exist\n",
      "Mdp files not created, prod_DEN_vdwq_01.mdp already exist\n",
      "- Create the tpr file prod_DEN_vdwq_01.tpr\n",
      "create_tpr not launched prod_DEN_vdwq_01.tpr already exist\n",
      "- Launch the simulation prod_DEN_vdwq_01.tpr\n",
      "Simulation not launched prod_DEN_vdwq_01.gro already exist\n",
      "Compute lambda 2 / 16\n",
      "Mdp files not created, em_DEN_vdwq_02.mdp already exist\n",
      "- Create the tpr file em_DEN_vdwq_02.tpr\n",
      "create_tpr not launched em_DEN_vdwq_02.tpr already exist\n",
      "- Launch the simulation em_DEN_vdwq_02.tpr\n",
      "Simulation not launched em_DEN_vdwq_02.gro already exist\n",
      "Mdp files not created, nvt_DEN_vdwq_02.mdp already exist\n",
      "- Create the tpr file nvt_DEN_vdwq_02.tpr\n",
      "create_tpr not launched nvt_DEN_vdwq_02.tpr already exist\n",
      "- Launch the simulation nvt_DEN_vdwq_02.tpr\n",
      "Simulation not launched nvt_DEN_vdwq_02.gro already exist\n",
      "Mdp files not created, npt_DEN_vdwq_02.mdp already exist\n",
      "- Create the tpr file npt_DEN_vdwq_02.tpr\n",
      "create_tpr not launched npt_DEN_vdwq_02.tpr already exist\n",
      "- Launch the simulation npt_DEN_vdwq_02.tpr\n",
      "Simulation not launched npt_DEN_vdwq_02.gro already exist\n",
      "Mdp files not created, prod_DEN_vdwq_02.mdp already exist\n",
      "- Create the tpr file prod_DEN_vdwq_02.tpr\n",
      "create_tpr not launched prod_DEN_vdwq_02.tpr already exist\n",
      "- Launch the simulation prod_DEN_vdwq_02.tpr\n",
      "Simulation not launched prod_DEN_vdwq_02.gro already exist\n",
      "Compute lambda 3 / 16\n",
      "Mdp files not created, em_DEN_vdwq_03.mdp already exist\n",
      "- Create the tpr file em_DEN_vdwq_03.tpr\n",
      "create_tpr not launched em_DEN_vdwq_03.tpr already exist\n",
      "- Launch the simulation em_DEN_vdwq_03.tpr\n",
      "Simulation not launched em_DEN_vdwq_03.gro already exist\n",
      "Mdp files not created, nvt_DEN_vdwq_03.mdp already exist\n",
      "- Create the tpr file nvt_DEN_vdwq_03.tpr\n",
      "create_tpr not launched nvt_DEN_vdwq_03.tpr already exist\n",
      "- Launch the simulation nvt_DEN_vdwq_03.tpr\n",
      "Simulation not launched nvt_DEN_vdwq_03.gro already exist\n",
      "Mdp files not created, npt_DEN_vdwq_03.mdp already exist\n",
      "- Create the tpr file npt_DEN_vdwq_03.tpr\n",
      "create_tpr not launched npt_DEN_vdwq_03.tpr already exist\n",
      "- Launch the simulation npt_DEN_vdwq_03.tpr\n",
      "Simulation not launched npt_DEN_vdwq_03.gro already exist\n",
      "Mdp files not created, prod_DEN_vdwq_03.mdp already exist\n",
      "- Create the tpr file prod_DEN_vdwq_03.tpr\n",
      "create_tpr not launched prod_DEN_vdwq_03.tpr already exist\n",
      "- Launch the simulation prod_DEN_vdwq_03.tpr\n",
      "Simulation not launched prod_DEN_vdwq_03.gro already exist\n",
      "Compute lambda 4 / 16\n",
      "Mdp files not created, em_DEN_vdwq_04.mdp already exist\n",
      "- Create the tpr file em_DEN_vdwq_04.tpr\n",
      "create_tpr not launched em_DEN_vdwq_04.tpr already exist\n",
      "- Launch the simulation em_DEN_vdwq_04.tpr\n",
      "Simulation not launched em_DEN_vdwq_04.gro already exist\n",
      "Mdp files not created, nvt_DEN_vdwq_04.mdp already exist\n",
      "- Create the tpr file nvt_DEN_vdwq_04.tpr\n",
      "create_tpr not launched nvt_DEN_vdwq_04.tpr already exist\n",
      "- Launch the simulation nvt_DEN_vdwq_04.tpr\n",
      "Simulation not launched nvt_DEN_vdwq_04.gro already exist\n",
      "Mdp files not created, npt_DEN_vdwq_04.mdp already exist\n",
      "- Create the tpr file npt_DEN_vdwq_04.tpr\n",
      "create_tpr not launched npt_DEN_vdwq_04.tpr already exist\n",
      "- Launch the simulation npt_DEN_vdwq_04.tpr\n",
      "Simulation not launched npt_DEN_vdwq_04.gro already exist\n",
      "Mdp files not created, prod_DEN_vdwq_04.mdp already exist\n",
      "- Create the tpr file prod_DEN_vdwq_04.tpr\n",
      "create_tpr not launched prod_DEN_vdwq_04.tpr already exist\n",
      "- Launch the simulation prod_DEN_vdwq_04.tpr\n",
      "Simulation not launched prod_DEN_vdwq_04.gro already exist\n",
      "Compute lambda 5 / 16\n",
      "Mdp files not created, em_DEN_vdwq_05.mdp already exist\n",
      "- Create the tpr file em_DEN_vdwq_05.tpr\n",
      "create_tpr not launched em_DEN_vdwq_05.tpr already exist\n",
      "- Launch the simulation em_DEN_vdwq_05.tpr\n",
      "Simulation not launched em_DEN_vdwq_05.gro already exist\n",
      "Mdp files not created, nvt_DEN_vdwq_05.mdp already exist\n",
      "- Create the tpr file nvt_DEN_vdwq_05.tpr\n",
      "create_tpr not launched nvt_DEN_vdwq_05.tpr already exist\n",
      "- Launch the simulation nvt_DEN_vdwq_05.tpr\n",
      "Simulation not launched nvt_DEN_vdwq_05.gro already exist\n",
      "Mdp files not created, npt_DEN_vdwq_05.mdp already exist\n",
      "- Create the tpr file npt_DEN_vdwq_05.tpr\n",
      "create_tpr not launched npt_DEN_vdwq_05.tpr already exist\n",
      "- Launch the simulation npt_DEN_vdwq_05.tpr\n",
      "Simulation not launched npt_DEN_vdwq_05.gro already exist\n",
      "Mdp files not created, prod_DEN_vdwq_05.mdp already exist\n",
      "- Create the tpr file prod_DEN_vdwq_05.tpr\n",
      "create_tpr not launched prod_DEN_vdwq_05.tpr already exist\n",
      "- Launch the simulation prod_DEN_vdwq_05.tpr\n",
      "Simulation not launched prod_DEN_vdwq_05.gro already exist\n",
      "Compute lambda 6 / 16\n",
      "Mdp files not created, em_DEN_vdwq_06.mdp already exist\n",
      "- Create the tpr file em_DEN_vdwq_06.tpr\n",
      "create_tpr not launched em_DEN_vdwq_06.tpr already exist\n",
      "- Launch the simulation em_DEN_vdwq_06.tpr\n",
      "Simulation not launched em_DEN_vdwq_06.gro already exist\n",
      "Mdp files not created, nvt_DEN_vdwq_06.mdp already exist\n",
      "- Create the tpr file nvt_DEN_vdwq_06.tpr\n",
      "create_tpr not launched nvt_DEN_vdwq_06.tpr already exist\n",
      "- Launch the simulation nvt_DEN_vdwq_06.tpr\n",
      "Simulation not launched nvt_DEN_vdwq_06.gro already exist\n",
      "Mdp files not created, npt_DEN_vdwq_06.mdp already exist\n",
      "- Create the tpr file npt_DEN_vdwq_06.tpr\n",
      "create_tpr not launched npt_DEN_vdwq_06.tpr already exist\n",
      "- Launch the simulation npt_DEN_vdwq_06.tpr\n",
      "Simulation not launched npt_DEN_vdwq_06.gro already exist\n",
      "Mdp files not created, prod_DEN_vdwq_06.mdp already exist\n",
      "- Create the tpr file prod_DEN_vdwq_06.tpr\n",
      "create_tpr not launched prod_DEN_vdwq_06.tpr already exist\n",
      "- Launch the simulation prod_DEN_vdwq_06.tpr\n",
      "Simulation not launched prod_DEN_vdwq_06.gro already exist\n",
      "Compute lambda 7 / 16\n",
      "Mdp files not created, em_DEN_vdwq_07.mdp already exist\n",
      "- Create the tpr file em_DEN_vdwq_07.tpr\n",
      "create_tpr not launched em_DEN_vdwq_07.tpr already exist\n",
      "- Launch the simulation em_DEN_vdwq_07.tpr\n",
      "Simulation not launched em_DEN_vdwq_07.gro already exist\n",
      "Mdp files not created, nvt_DEN_vdwq_07.mdp already exist\n",
      "- Create the tpr file nvt_DEN_vdwq_07.tpr\n",
      "create_tpr not launched nvt_DEN_vdwq_07.tpr already exist\n",
      "- Launch the simulation nvt_DEN_vdwq_07.tpr\n",
      "Simulation not launched nvt_DEN_vdwq_07.gro already exist\n",
      "Mdp files not created, npt_DEN_vdwq_07.mdp already exist\n",
      "- Create the tpr file npt_DEN_vdwq_07.tpr\n",
      "create_tpr not launched npt_DEN_vdwq_07.tpr already exist\n",
      "- Launch the simulation npt_DEN_vdwq_07.tpr\n",
      "Simulation not launched npt_DEN_vdwq_07.gro already exist\n"
     ]
    },
    {
     "name": "stdout",
     "output_type": "stream",
     "text": [
      "Mdp files not created, prod_DEN_vdwq_07.mdp already exist\n",
      "- Create the tpr file prod_DEN_vdwq_07.tpr\n",
      "create_tpr not launched prod_DEN_vdwq_07.tpr already exist\n",
      "- Launch the simulation prod_DEN_vdwq_07.tpr\n",
      "Simulation not launched prod_DEN_vdwq_07.gro already exist\n",
      "Compute lambda 8 / 16\n",
      "Mdp files not created, em_DEN_vdwq_08.mdp already exist\n",
      "- Create the tpr file em_DEN_vdwq_08.tpr\n",
      "create_tpr not launched em_DEN_vdwq_08.tpr already exist\n",
      "- Launch the simulation em_DEN_vdwq_08.tpr\n",
      "Simulation not launched em_DEN_vdwq_08.gro already exist\n",
      "Mdp files not created, nvt_DEN_vdwq_08.mdp already exist\n",
      "- Create the tpr file nvt_DEN_vdwq_08.tpr\n",
      "create_tpr not launched nvt_DEN_vdwq_08.tpr already exist\n",
      "- Launch the simulation nvt_DEN_vdwq_08.tpr\n",
      "Simulation not launched nvt_DEN_vdwq_08.gro already exist\n",
      "Mdp files not created, npt_DEN_vdwq_08.mdp already exist\n",
      "- Create the tpr file npt_DEN_vdwq_08.tpr\n",
      "create_tpr not launched npt_DEN_vdwq_08.tpr already exist\n",
      "- Launch the simulation npt_DEN_vdwq_08.tpr\n",
      "Simulation not launched npt_DEN_vdwq_08.gro already exist\n",
      "Mdp files not created, prod_DEN_vdwq_08.mdp already exist\n",
      "- Create the tpr file prod_DEN_vdwq_08.tpr\n",
      "create_tpr not launched prod_DEN_vdwq_08.tpr already exist\n",
      "- Launch the simulation prod_DEN_vdwq_08.tpr\n",
      "Simulation not launched prod_DEN_vdwq_08.gro already exist\n",
      "Compute lambda 9 / 16\n",
      "Mdp files not created, em_DEN_vdwq_09.mdp already exist\n",
      "- Create the tpr file em_DEN_vdwq_09.tpr\n",
      "create_tpr not launched em_DEN_vdwq_09.tpr already exist\n",
      "- Launch the simulation em_DEN_vdwq_09.tpr\n",
      "Simulation not launched em_DEN_vdwq_09.gro already exist\n",
      "Mdp files not created, nvt_DEN_vdwq_09.mdp already exist\n",
      "- Create the tpr file nvt_DEN_vdwq_09.tpr\n",
      "create_tpr not launched nvt_DEN_vdwq_09.tpr already exist\n",
      "- Launch the simulation nvt_DEN_vdwq_09.tpr\n",
      "Simulation not launched nvt_DEN_vdwq_09.gro already exist\n",
      "Mdp files not created, npt_DEN_vdwq_09.mdp already exist\n",
      "- Create the tpr file npt_DEN_vdwq_09.tpr\n",
      "create_tpr not launched npt_DEN_vdwq_09.tpr already exist\n",
      "- Launch the simulation npt_DEN_vdwq_09.tpr\n",
      "Simulation not launched npt_DEN_vdwq_09.gro already exist\n",
      "Mdp files not created, prod_DEN_vdwq_09.mdp already exist\n",
      "- Create the tpr file prod_DEN_vdwq_09.tpr\n",
      "create_tpr not launched prod_DEN_vdwq_09.tpr already exist\n",
      "- Launch the simulation prod_DEN_vdwq_09.tpr\n",
      "Simulation not launched prod_DEN_vdwq_09.gro already exist\n",
      "Compute lambda 10 / 16\n",
      "Mdp files not created, em_DEN_vdwq_10.mdp already exist\n",
      "- Create the tpr file em_DEN_vdwq_10.tpr\n",
      "create_tpr not launched em_DEN_vdwq_10.tpr already exist\n",
      "- Launch the simulation em_DEN_vdwq_10.tpr\n",
      "Simulation not launched em_DEN_vdwq_10.gro already exist\n",
      "Mdp files not created, nvt_DEN_vdwq_10.mdp already exist\n",
      "- Create the tpr file nvt_DEN_vdwq_10.tpr\n",
      "create_tpr not launched nvt_DEN_vdwq_10.tpr already exist\n",
      "- Launch the simulation nvt_DEN_vdwq_10.tpr\n",
      "Simulation not launched nvt_DEN_vdwq_10.gro already exist\n",
      "Mdp files not created, npt_DEN_vdwq_10.mdp already exist\n",
      "- Create the tpr file npt_DEN_vdwq_10.tpr\n",
      "create_tpr not launched npt_DEN_vdwq_10.tpr already exist\n",
      "- Launch the simulation npt_DEN_vdwq_10.tpr\n",
      "Simulation not launched npt_DEN_vdwq_10.gro already exist\n",
      "Mdp files not created, prod_DEN_vdwq_10.mdp already exist\n",
      "- Create the tpr file prod_DEN_vdwq_10.tpr\n",
      "create_tpr not launched prod_DEN_vdwq_10.tpr already exist\n",
      "- Launch the simulation prod_DEN_vdwq_10.tpr\n",
      "Simulation not launched prod_DEN_vdwq_10.gro already exist\n",
      "Compute lambda 11 / 16\n",
      "Mdp files not created, em_DEN_vdwq_11.mdp already exist\n",
      "- Create the tpr file em_DEN_vdwq_11.tpr\n",
      "create_tpr not launched em_DEN_vdwq_11.tpr already exist\n",
      "- Launch the simulation em_DEN_vdwq_11.tpr\n",
      "Simulation not launched em_DEN_vdwq_11.gro already exist\n",
      "Mdp files not created, nvt_DEN_vdwq_11.mdp already exist\n",
      "- Create the tpr file nvt_DEN_vdwq_11.tpr\n",
      "create_tpr not launched nvt_DEN_vdwq_11.tpr already exist\n",
      "- Launch the simulation nvt_DEN_vdwq_11.tpr\n",
      "Simulation not launched nvt_DEN_vdwq_11.gro already exist\n",
      "Mdp files not created, npt_DEN_vdwq_11.mdp already exist\n",
      "- Create the tpr file npt_DEN_vdwq_11.tpr\n",
      "create_tpr not launched npt_DEN_vdwq_11.tpr already exist\n",
      "- Launch the simulation npt_DEN_vdwq_11.tpr\n",
      "Simulation not launched npt_DEN_vdwq_11.gro already exist\n",
      "Mdp files not created, prod_DEN_vdwq_11.mdp already exist\n",
      "- Create the tpr file prod_DEN_vdwq_11.tpr\n",
      "create_tpr not launched prod_DEN_vdwq_11.tpr already exist\n",
      "- Launch the simulation prod_DEN_vdwq_11.tpr\n",
      "Simulation not launched prod_DEN_vdwq_11.gro already exist\n",
      "Compute lambda 12 / 16\n",
      "Mdp files not created, em_DEN_vdwq_12.mdp already exist\n",
      "- Create the tpr file em_DEN_vdwq_12.tpr\n",
      "create_tpr not launched em_DEN_vdwq_12.tpr already exist\n",
      "- Launch the simulation em_DEN_vdwq_12.tpr\n",
      "Simulation not launched em_DEN_vdwq_12.gro already exist\n",
      "Mdp files not created, nvt_DEN_vdwq_12.mdp already exist\n",
      "- Create the tpr file nvt_DEN_vdwq_12.tpr\n",
      "create_tpr not launched nvt_DEN_vdwq_12.tpr already exist\n",
      "- Launch the simulation nvt_DEN_vdwq_12.tpr\n",
      "Simulation not launched nvt_DEN_vdwq_12.gro already exist\n",
      "Mdp files not created, npt_DEN_vdwq_12.mdp already exist\n",
      "- Create the tpr file npt_DEN_vdwq_12.tpr\n",
      "create_tpr not launched npt_DEN_vdwq_12.tpr already exist\n",
      "- Launch the simulation npt_DEN_vdwq_12.tpr\n",
      "Simulation not launched npt_DEN_vdwq_12.gro already exist\n",
      "Mdp files not created, prod_DEN_vdwq_12.mdp already exist\n",
      "- Create the tpr file prod_DEN_vdwq_12.tpr\n",
      "create_tpr not launched prod_DEN_vdwq_12.tpr already exist\n",
      "- Launch the simulation prod_DEN_vdwq_12.tpr\n",
      "Simulation not launched prod_DEN_vdwq_12.gro already exist\n",
      "Compute lambda 13 / 16\n",
      "Mdp files not created, em_DEN_vdwq_13.mdp already exist\n",
      "- Create the tpr file em_DEN_vdwq_13.tpr\n",
      "create_tpr not launched em_DEN_vdwq_13.tpr already exist\n",
      "- Launch the simulation em_DEN_vdwq_13.tpr\n",
      "Simulation not launched em_DEN_vdwq_13.gro already exist\n",
      "Mdp files not created, nvt_DEN_vdwq_13.mdp already exist\n",
      "- Create the tpr file nvt_DEN_vdwq_13.tpr\n",
      "create_tpr not launched nvt_DEN_vdwq_13.tpr already exist\n",
      "- Launch the simulation nvt_DEN_vdwq_13.tpr\n",
      "Simulation not launched nvt_DEN_vdwq_13.gro already exist\n",
      "Mdp files not created, npt_DEN_vdwq_13.mdp already exist\n",
      "- Create the tpr file npt_DEN_vdwq_13.tpr\n",
      "create_tpr not launched npt_DEN_vdwq_13.tpr already exist\n",
      "- Launch the simulation npt_DEN_vdwq_13.tpr\n",
      "Simulation not launched npt_DEN_vdwq_13.gro already exist\n",
      "Mdp files not created, prod_DEN_vdwq_13.mdp already exist\n",
      "- Create the tpr file prod_DEN_vdwq_13.tpr\n",
      "create_tpr not launched prod_DEN_vdwq_13.tpr already exist\n",
      "- Launch the simulation prod_DEN_vdwq_13.tpr\n",
      "Simulation not launched prod_DEN_vdwq_13.gro already exist\n",
      "Compute lambda 14 / 16\n",
      "Mdp files not created, em_DEN_vdwq_14.mdp already exist\n",
      "- Create the tpr file em_DEN_vdwq_14.tpr\n",
      "create_tpr not launched em_DEN_vdwq_14.tpr already exist\n",
      "- Launch the simulation em_DEN_vdwq_14.tpr\n",
      "Simulation not launched em_DEN_vdwq_14.gro already exist\n",
      "Mdp files not created, nvt_DEN_vdwq_14.mdp already exist\n",
      "- Create the tpr file nvt_DEN_vdwq_14.tpr\n",
      "create_tpr not launched nvt_DEN_vdwq_14.tpr already exist\n",
      "- Launch the simulation nvt_DEN_vdwq_14.tpr\n",
      "Simulation not launched nvt_DEN_vdwq_14.gro already exist\n",
      "Mdp files not created, npt_DEN_vdwq_14.mdp already exist\n",
      "- Create the tpr file npt_DEN_vdwq_14.tpr\n",
      "create_tpr not launched npt_DEN_vdwq_14.tpr already exist\n",
      "- Launch the simulation npt_DEN_vdwq_14.tpr\n",
      "Simulation not launched npt_DEN_vdwq_14.gro already exist\n",
      "Mdp files not created, prod_DEN_vdwq_14.mdp already exist\n",
      "- Create the tpr file prod_DEN_vdwq_14.tpr\n",
      "create_tpr not launched prod_DEN_vdwq_14.tpr already exist\n",
      "- Launch the simulation prod_DEN_vdwq_14.tpr\n",
      "Simulation not launched prod_DEN_vdwq_14.gro already exist\n",
      "Compute lambda 15 / 16\n",
      "Mdp files not created, em_DEN_vdwq_15.mdp already exist\n",
      "- Create the tpr file em_DEN_vdwq_15.tpr\n",
      "create_tpr not launched em_DEN_vdwq_15.tpr already exist\n",
      "- Launch the simulation em_DEN_vdwq_15.tpr\n",
      "Simulation not launched em_DEN_vdwq_15.gro already exist\n",
      "Mdp files not created, nvt_DEN_vdwq_15.mdp already exist\n",
      "- Create the tpr file nvt_DEN_vdwq_15.tpr\n",
      "create_tpr not launched nvt_DEN_vdwq_15.tpr already exist\n",
      "- Launch the simulation nvt_DEN_vdwq_15.tpr\n",
      "Simulation not launched nvt_DEN_vdwq_15.gro already exist\n"
     ]
    },
    {
     "name": "stdout",
     "output_type": "stream",
     "text": [
      "Mdp files not created, npt_DEN_vdwq_15.mdp already exist\n",
      "- Create the tpr file npt_DEN_vdwq_15.tpr\n",
      "create_tpr not launched npt_DEN_vdwq_15.tpr already exist\n",
      "- Launch the simulation npt_DEN_vdwq_15.tpr\n",
      "Simulation not launched npt_DEN_vdwq_15.gro already exist\n",
      "Mdp files not created, prod_DEN_vdwq_15.mdp already exist\n",
      "- Create the tpr file prod_DEN_vdwq_15.tpr\n",
      "create_tpr not launched prod_DEN_vdwq_15.tpr already exist\n",
      "- Launch the simulation prod_DEN_vdwq_15.tpr\n",
      "Simulation not launched prod_DEN_vdwq_15.gro already exist\n"
     ]
    }
   ],
   "source": [
    "mol_free.run(lambda_coul_list=np.arange(0, 1.1, 0.2),\n",
    "             lambda_vdw_list=np.arange(0, 1.1, 0.1),\n",
    "             temp_groups='System')"
   ]
  },
  {
   "cell_type": "code",
   "execution_count": 6,
   "metadata": {},
   "outputs": [
    {
     "name": "stdout",
     "output_type": "stream",
     "text": [
      "- Extract bar energy\n",
      "gmx bar -f indene/free_ener_run/03_prod/prod_DEN_vdwq_00.xvg indene/free_ener_run/03_prod/prod_DEN_vdwq_01.xvg indene/free_ener_run/03_prod/prod_DEN_vdwq_02.xvg indene/free_ener_run/03_prod/prod_DEN_vdwq_03.xvg indene/free_ener_run/03_prod/prod_DEN_vdwq_04.xvg indene/free_ener_run/03_prod/prod_DEN_vdwq_05.xvg indene/free_ener_run/03_prod/prod_DEN_vdwq_06.xvg indene/free_ener_run/03_prod/prod_DEN_vdwq_07.xvg indene/free_ener_run/03_prod/prod_DEN_vdwq_08.xvg indene/free_ener_run/03_prod/prod_DEN_vdwq_09.xvg indene/free_ener_run/03_prod/prod_DEN_vdwq_10.xvg indene/free_ener_run/03_prod/prod_DEN_vdwq_11.xvg indene/free_ener_run/03_prod/prod_DEN_vdwq_12.xvg indene/free_ener_run/03_prod/prod_DEN_vdwq_13.xvg indene/free_ener_run/03_prod/prod_DEN_vdwq_14.xvg indene/free_ener_run/03_prod/prod_DEN_vdwq_15.xvg -o bar.xvg -oi barint.xvg -oh histogram.xvg -b 25 -e -1\n",
      "\n",
      "DDG Tot   =  2.67 +/- 0.26 kcal/mol\n",
      "\n",
      "DDG Coul  =  4.89 +/- 0.06 kcal/mol\n",
      "DDG LJ    = -2.22 +/- 0.25 kcal/mol\n"
     ]
    },
    {
     "data": {
      "text/plain": [
       "(2.6685000000000008, 0.26011010668561113)"
      ]
     },
     "execution_count": 6,
     "metadata": {},
     "output_type": "execute_result"
    }
   ],
   "source": [
    "mol_free.get_free_ener(begin_time=25)"
   ]
  },
  {
   "cell_type": "code",
   "execution_count": 7,
   "metadata": {},
   "outputs": [
    {
     "name": "stdout",
     "output_type": "stream",
     "text": [
      "\n"
     ]
    },
    {
     "data": {
      "image/png": "[encoded data removed]",
      "text/plain": [
       "<Figure size 576x576 with 2 Axes>"
      ]
     },
     "metadata": {
      "needs_background": "light"
     },
     "output_type": "display_data"
    }
   ],
   "source": [
    "mol_free.plot_convergence(graph_out='tmp.png')"
   ]
  },
  {
   "cell_type": "code",
   "execution_count": null,
   "metadata": {},
   "outputs": [],
   "source": []
  }
 ],
 "metadata": {
  "kernelspec": {
   "display_name": "Python 3",
   "language": "python",
   "name": "python3"
  },
  "language_info": {
   "codemirror_mode": {
    "name": "ipython",
    "version": 3
   },
   "file_extension": ".py",
   "mimetype": "text/x-python",
   "name": "python",
   "nbconvert_exporter": "python",
   "pygments_lexer": "ipython3",
   "version": "3.8.2"
  }
 },
 "nbformat": 4,
 "nbformat_minor": 4
}
