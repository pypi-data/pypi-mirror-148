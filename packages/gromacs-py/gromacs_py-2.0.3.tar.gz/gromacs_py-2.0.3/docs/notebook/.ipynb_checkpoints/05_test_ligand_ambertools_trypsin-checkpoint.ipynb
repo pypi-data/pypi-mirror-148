{
 "cells": [
  {
   "cell_type": "code",
   "execution_count": 1,
   "metadata": {},
   "outputs": [],
   "source": [
    "import os\n",
    "import urllib.request"
   ]
  },
  {
   "cell_type": "code",
   "execution_count": 2,
   "metadata": {},
   "outputs": [],
   "source": [
    "from gromacs_py import gmx\n",
    "gmx.show_log()\n",
    "from gromacs_py.tools import ambertools\n",
    "ambertools.show_log()\n",
    "\n",
    "from pdb_manip_py import pdb_manip"
   ]
  },
  {
   "cell_type": "code",
   "execution_count": 4,
   "metadata": {},
   "outputs": [
    {
     "name": "stdout",
     "output_type": "stream",
     "text": [
      "/home/murail/Documents/Code/gromacs_py/docs/notebook\n"
     ]
    }
   ],
   "source": [
    "cd /home/murail/Documents/Code/gromacs_py/docs/notebook/"
   ]
  },
  {
   "cell_type": "code",
   "execution_count": 6,
   "metadata": {},
   "outputs": [],
   "source": [
    "DATA_OUT = 'data_lig_trypsin'\n",
    "PDB_ID = '1GHZ'\n",
    "os.makedirs(DATA_OUT, exist_ok = True)\n",
    "\n",
    "raw_pdb = urllib.request.urlretrieve('http://files.rcsb.org/download/{}.pdb'.format(PDB_ID),\n",
    "                           '{}/{}.pdb'.format(DATA_OUT, PDB_ID))"
   ]
  },
  {
   "cell_type": "code",
   "execution_count": 7,
   "metadata": {},
   "outputs": [],
   "source": [
    "# Extract first conf:\n",
    "\n",
    "#pdb_multi = pdb_manip.Multi_Coor(raw_pdb[0])\n",
    "#pdb_model_1 = '{}/{}_model_1.pdb'.format(DATA_OUT, PDB_ID)\n",
    "#pdb_multi.coor_list[0].write_pdb(pdb_model_1)\n",
    "\n",
    "pdb_model_1 = '{}/{}.pdb'.format(DATA_OUT, PDB_ID)"
   ]
  },
  {
   "cell_type": "code",
   "execution_count": 8,
   "metadata": {
    "scrolled": false
   },
   "outputs": [
    {
     "name": "stdout",
     "output_type": "stream",
     "text": [
      "Succeed to read file ../1GHZ.pdb ,  4193 atoms found\n",
      "Succeed to read file ../1GHZ.pdb ,  4193 atoms found\n",
      "Succeed to save file tmp_pdb2pqr.pdb\n",
      "pdb2pqr_cli --ff AMBER --ffout AMBER --chain --ph-calc-method=propka --with-ph=7.00 tmp_pdb2pqr.pdb 00_1GHZ.pqr\n",
      "Succeed to read file 00_1GHZ.pqr ,  3221 atoms found\n",
      "residue(s) CA not included, add this residue in ...\n",
      "residue(s) MG not included, add this residue in ...\n",
      "Succeed to read file ../1GHZ.pdb ,  4193 atoms found\n",
      "Succeed to save file 120.pdb\n",
      "reduce -build -nuclear 120.pdb\n",
      "Succeed to save file 120_h.pdb\n",
      "Succeed to read file 120_h.pdb ,  31 atoms found\n",
      "Succeed to save file 120_h_unique.pdb\n",
      "acpype -i 120_h_unique.pdb -b 120 -c bcc -a gaff -o gmx -n 1\n",
      "Succeed to create topologie in 120\n",
      "120\n",
      "residue(s) CYS not included, add this residue in ...\n",
      "residue(s) SO4 not included, add this residue in ...\n",
      "Chain: A  Residue: 0 to 219\n",
      "Succeed to save file 01_1GHZ_good_his.pdb\n",
      "-Create topologie\n",
      "gmx pdb2gmx -f 01_1GHZ_good_his.pdb -o 1GHZ_pdb2gmx.pdb -p 1GHZ_pdb2gmx.top -i 1GHZ_posre.itp -water tip3p -ff amber99sb-ildn -ignh -vsite none\n",
      "Molecule topologie present in 1GHZ_pdb2gmx.top , extract the topologie in a separate file: 1GHZ_pdb2gmx.itp\n",
      "Protein_chain_A\n",
      "-ITP file: 1GHZ_pdb2gmx.itp\n",
      "-molecules defined in the itp file:\n",
      "* Protein_chain_A\n",
      "Rewrite topologie: 1GHZ_pdb2gmx.top\n",
      "Add Molecule 120\n",
      "name         : mol\n",
      "coor_file    : 120.acpype/120_GMX.gro\n",
      "top_file     : 120.acpype/120_GMX_split.top\n",
      "nt           : 0\n",
      "ntmpi        : 0\n",
      "sys_history  : 0\n",
      "Add 1 mol /home/murail/Documents/Code/gromacs_py/docs/notebook/data_lig_trypsin/prot_top/120.acpype/120_GMX.itp\n",
      "Concat files: ['1GHZ_pdb2gmx.pdb', '/home/murail/Documents/Code/gromacs_py/docs/notebook/data_lig_trypsin/prot_top/120_h.pdb']\n",
      "Succeed to save concat file:  1GHZ_pdb2gmx_mol.pdb\n"
     ]
    }
   ],
   "source": [
    "md_sys = gmx.GmxSys(name=PDB_ID, coor_file=pdb_model_1)\n",
    "md_sys.prepare_top(out_folder=os.path.join(DATA_OUT, 'prot_top'),\n",
    "                   ff='amber99sb-ildn', include_mol={'120': 1})"
   ]
  },
  {
   "cell_type": "code",
   "execution_count": 9,
   "metadata": {},
   "outputs": [
    {
     "name": "stdout",
     "output_type": "stream",
     "text": [
      "-Create pbc box\n",
      "gmx editconf -f data_lig_trypsin/prot_top/1GHZ_pdb2gmx_mol.pdb -o data_lig_trypsin/prot_top/1GHZ_pdb2gmx_mol_box.pdb -bt dodecahedron -d 1.0\n",
      "WARNING !!! ADDING unusual parameter : \"emtol\"in the mdp file None\n",
      "-Create the tpr file Init_em_1GHZ.tpr\n",
      "gmx grompp -f Init_em_1GHZ.mdp -c ../prot_top/1GHZ_pdb2gmx_mol_box.pdb -r ../prot_top/1GHZ_pdb2gmx_mol_box.pdb -p ../prot_top/1GHZ_pdb2gmx_mol.top -po out_Init_em_1GHZ.mdp -o Init_em_1GHZ.tpr -maxwarn 3\n",
      "-Launch the simulation Init_em_1GHZ.tpr\n",
      "gmx mdrun -s Init_em_1GHZ.tpr -deffnm Init_em_1GHZ -nt 0 -ntmpi 0 -nsteps -2 -nocopyright\n"
     ]
    },
    {
     "data": {
      "application/vnd.jupyter.widget-view+json": {
       "model_id": "8e160afb57464eb594a6168a6ace8107",
       "version_major": 2,
       "version_minor": 0
      },
      "text/plain": [
       "HBox(children=(FloatProgress(value=0.0, max=10000.0), HTML(value='')))"
      ]
     },
     "metadata": {},
     "output_type": "display_data"
    },
    {
     "name": "stdout",
     "output_type": "stream",
     "text": [
      "\n",
      "WARNING !!! ADDING unusual parameter : \"emtol\"in the mdp file Init_em_1GHZ.mdp\n",
      "-Create the tpr file 1GHZ.tpr\n",
      "gmx grompp -f 1GHZ.mdp -c Init_em_1GHZ.gro -r Init_em_1GHZ.gro -p ../prot_top/1GHZ_pdb2gmx_mol.top -po out_1GHZ.mdp -o 1GHZ.tpr -maxwarn 3\n",
      "-Launch the simulation 1GHZ.tpr\n",
      "gmx mdrun -s 1GHZ.tpr -deffnm 1GHZ -nt 0 -ntmpi 0 -nsteps -2 -nocopyright\n"
     ]
    },
    {
     "data": {
      "application/vnd.jupyter.widget-view+json": {
       "model_id": "a41476624a8e4cf68835661a6a4ceefd",
       "version_major": 2,
       "version_minor": 0
      },
      "text/plain": [
       "HBox(children=(FloatProgress(value=0.0, max=10000.0), HTML(value='')))"
      ]
     },
     "metadata": {},
     "output_type": "display_data"
    },
    {
     "name": "stdout",
     "output_type": "stream",
     "text": [
      "\n"
     ]
    }
   ],
   "source": [
    "md_sys.em_2_steps(out_folder=os.path.join(DATA_OUT, 'prot_em'),\n",
    "                  no_constr_nsteps=10000,\n",
    "                  constr_nsteps=10000,\n",
    "                  posres=\"\",\n",
    "                  emtol=0.1, nstxout=100, maxwarn=3,\n",
    "                  create_box_flag=True)"
   ]
  },
  {
   "cell_type": "code",
   "execution_count": 10,
   "metadata": {},
   "outputs": [
    {
     "data": {
      "application/vnd.jupyter.widget-view+json": {
       "model_id": "866fea82cc25444f84d1cc27df170c1f",
       "version_major": 2,
       "version_minor": 0
      },
      "text/plain": [
       "_ColormakerRegistry()"
      ]
     },
     "metadata": {},
     "output_type": "display_data"
    },
    {
     "name": "stdout",
     "output_type": "stream",
     "text": [
      "-Convert trj/coor\n",
      "gmx trjconv -f data_lig_trypsin/prot_em/1GHZ.gro -o data_lig_trypsin/prot_em/1GHZ_compact.pdb -s data_lig_trypsin/prot_em/1GHZ.tpr -ur compact -pbc none\n",
      "Succeed to read file data_lig_trypsin/prot_em/1GHZ_compact.pdb ,  3252 atoms found\n"
     ]
    },
    {
     "data": {
      "application/vnd.jupyter.widget-view+json": {
       "model_id": "eceee3b001424203ad15b928a03ca0f6",
       "version_major": 2,
       "version_minor": 0
      },
      "text/plain": [
       "NGLWidget()"
      ]
     },
     "metadata": {},
     "output_type": "display_data"
    }
   ],
   "source": [
    "view = md_sys.view_coor()\n",
    "view"
   ]
  },
  {
   "cell_type": "code",
   "execution_count": 11,
   "metadata": {},
   "outputs": [
    {
     "name": "stdout",
     "output_type": "stream",
     "text": [
      "-Solvate the pbc box\n",
      "Copy topologie file and dependancies\n",
      "Copy topologie file and dependancies\n",
      "-Create the tpr file genion_1GHZ_water_ion.tpr\n",
      "gmx grompp -f ../../../../gromacs_py/template/mini.mdp -c 1GHZ_water.pdb -r 1GHZ_water.pdb -p 1GHZ_water_ion.top -po out_mini.mdp -o genion_1GHZ_water_ion.tpr -maxwarn 3\n",
      "-Add ions to the system with an ionic concentration of 0.15 M , sytem charge = 8.0 water num= 8060\n",
      "Add ions : NA : 22   CL : 30\n",
      "gmx genion -s genion_1GHZ_water_ion.tpr -p 1GHZ_water_ion.top -o 1GHZ_water_ion.gro -np 22 -pname NA -nn 30 -nname CL\n",
      "name         : 1GHZ\n",
      "sim_name     : genion_1GHZ_water_ion\n",
      "coor_file    : data_lig_trypsin/sys_top/1GHZ_water_ion.gro\n",
      "top_file     : data_lig_trypsin/sys_top/1GHZ_water_ion.top\n",
      "tpr          : data_lig_trypsin/sys_top/genion_1GHZ_water_ion.tpr\n",
      "mdp          : ../../gromacs_py/template/mini.mdp\n",
      "xtc          : data_lig_trypsin/prot_em/1GHZ.trr\n",
      "edr          : data_lig_trypsin/prot_em/1GHZ.edr\n",
      "log          : data_lig_trypsin/prot_em/1GHZ.log\n",
      "nt           : 0\n",
      "ntmpi        : 0\n",
      "sys_history  : 2\n"
     ]
    }
   ],
   "source": [
    "md_sys.solvate_add_ions(out_folder=os.path.join(DATA_OUT, 'sys_top'),\n",
    "                        ion_C=0.15, maxwarn=3, create_box_flag=False)\n",
    "md_sys.display()\n"
   ]
  },
  {
   "cell_type": "code",
   "execution_count": 12,
   "metadata": {},
   "outputs": [
    {
     "name": "stdout",
     "output_type": "stream",
     "text": [
      "-Create the tpr file Init_em_1GHZ.tpr\n",
      "gmx grompp -f Init_em_1GHZ.mdp -c ../sys_top/1GHZ_water_ion.gro -r ../sys_top/1GHZ_water_ion.gro -p ../sys_top/1GHZ_water_ion.top -po out_Init_em_1GHZ.mdp -o Init_em_1GHZ.tpr -maxwarn 3\n",
      "-Launch the simulation Init_em_1GHZ.tpr\n",
      "gmx mdrun -s Init_em_1GHZ.tpr -deffnm Init_em_1GHZ -nt 0 -ntmpi 0 -nsteps -2 -nocopyright\n"
     ]
    },
    {
     "data": {
      "application/vnd.jupyter.widget-view+json": {
       "model_id": "1eb4c8ce939e4bdaa8db6e024c1fb947",
       "version_major": 2,
       "version_minor": 0
      },
      "text/plain": [
       "HBox(children=(FloatProgress(value=0.0, max=10000.0), HTML(value='')))"
      ]
     },
     "metadata": {},
     "output_type": "display_data"
    },
    {
     "name": "stdout",
     "output_type": "stream",
     "text": [
      "\n",
      "-Create the tpr file 1GHZ.tpr\n",
      "gmx grompp -f 1GHZ.mdp -c Init_em_1GHZ.gro -r Init_em_1GHZ.gro -p ../sys_top/1GHZ_water_ion.top -po out_1GHZ.mdp -o 1GHZ.tpr -maxwarn 3\n",
      "-Launch the simulation 1GHZ.tpr\n",
      "gmx mdrun -s 1GHZ.tpr -deffnm 1GHZ -nt 0 -ntmpi 0 -nsteps -2 -nocopyright\n"
     ]
    },
    {
     "data": {
      "application/vnd.jupyter.widget-view+json": {
       "model_id": "eb28ebc4c259455ba04c68ec4c4f7a0a",
       "version_major": 2,
       "version_minor": 0
      },
      "text/plain": [
       "HBox(children=(FloatProgress(value=0.0, max=10000.0), HTML(value='')))"
      ]
     },
     "metadata": {},
     "output_type": "display_data"
    },
    {
     "name": "stdout",
     "output_type": "stream",
     "text": [
      "\n"
     ]
    }
   ],
   "source": [
    "md_sys.em_2_steps(out_folder=os.path.join(DATA_OUT, 'sys_em'),\n",
    "                  no_constr_nsteps=10000,\n",
    "                  constr_nsteps=10000,\n",
    "                  posres=\"\",maxwarn=3)"
   ]
  },
  {
   "cell_type": "code",
   "execution_count": 13,
   "metadata": {},
   "outputs": [
    {
     "name": "stdout",
     "output_type": "stream",
     "text": [
      "-Create the tpr file equi_HA_short_1GHZ.tpr\n",
      "gmx grompp -f equi_HA_short_1GHZ.mdp -c ../sys_em/1GHZ.gro -r ../sys_em/1GHZ.gro -p ../sys_top/1GHZ_water_ion.top -po out_equi_HA_short_1GHZ.mdp -o equi_HA_short_1GHZ.tpr -maxwarn 3\n",
      "-Launch the simulation equi_HA_short_1GHZ.tpr\n",
      "gmx mdrun -s equi_HA_short_1GHZ.tpr -deffnm equi_HA_short_1GHZ -nt 0 -ntmpi 0 -nsteps -2 -nocopyright\n"
     ]
    },
    {
     "data": {
      "application/vnd.jupyter.widget-view+json": {
       "model_id": "57727f41b03e41d6bb37c53f78d80868",
       "version_major": 2,
       "version_minor": 0
      },
      "text/plain": [
       "HBox(children=(FloatProgress(value=0.0, max=20000.0), HTML(value='')))"
      ]
     },
     "metadata": {},
     "output_type": "display_data"
    },
    {
     "name": "stdout",
     "output_type": "stream",
     "text": [
      "\n"
     ]
    }
   ],
   "source": [
    "mdp_options = {'nsteps': 20000,\n",
    "               'define': '-DPOSRES', 'dt': 0.0005,\n",
    "               'tc-grps': 'Protein 120 Water_and_ions',\n",
    "               'tau_t': '0.1 0.1 0.1',\n",
    "               'ref_t' : '310 310 310'}\n",
    "\n",
    "equi_template_mdp = os.path.join(gmx.GROMACS_MOD_DIRNAME,\n",
    "                                 \"template/equi.mdp\")\n",
    "md_sys.run_md_sim(out_folder=os.path.join(DATA_OUT, \"sys_short_equi\"),\n",
    "                  name=\"equi_HA_short_\" + PDB_ID,\n",
    "                  mdp_template=equi_template_mdp,\n",
    "                  mdp_options=mdp_options, maxwarn=3)"
   ]
  },
  {
   "cell_type": "code",
   "execution_count": 15,
   "metadata": {},
   "outputs": [
    {
     "name": "stdout",
     "output_type": "stream",
     "text": [
      "-Create the tpr file equi_HA_1GHZ.tpr\n",
      "gmx grompp -f equi_HA_1GHZ.mdp -c ../../sys_short_equi/equi_HA_short_1GHZ.gro -r ../../sys_short_equi/equi_HA_short_1GHZ.gro -p ../../sys_top/1GHZ_water_ion.top -po out_equi_HA_1GHZ.mdp -o equi_HA_1GHZ.tpr -maxwarn 3\n",
      "-Launch the simulation equi_HA_1GHZ.tpr\n",
      "gmx mdrun -s equi_HA_1GHZ.tpr -deffnm equi_HA_1GHZ -nt 0 -ntmpi 0 -nsteps -2 -nocopyright\n"
     ]
    },
    {
     "data": {
      "application/vnd.jupyter.widget-view+json": {
       "model_id": "7b0f608b376745f2abebebb27d818fbe",
       "version_major": 2,
       "version_minor": 0
      },
      "text/plain": [
       "HBox(children=(FloatProgress(value=0.0, max=250000.0), HTML(value='')))"
      ]
     },
     "metadata": {},
     "output_type": "display_data"
    },
    {
     "name": "stdout",
     "output_type": "stream",
     "text": [
      "\n",
      "-Create the tpr file equi_CA_1GHZ.tpr\n",
      "gmx grompp -f equi_CA_1GHZ.mdp -c ../00_equi_HA/equi_HA_1GHZ.gro -r ../../sys_short_equi/equi_HA_short_1GHZ.gro -p ../../sys_top/1GHZ_water_ion.top -po out_equi_CA_1GHZ.mdp -o equi_CA_1GHZ.tpr -maxwarn 3\n",
      "-Launch the simulation equi_CA_1GHZ.tpr\n",
      "gmx mdrun -s equi_CA_1GHZ.tpr -deffnm equi_CA_1GHZ -nt 0 -ntmpi 0 -nsteps -2 -nocopyright\n"
     ]
    },
    {
     "data": {
      "application/vnd.jupyter.widget-view+json": {
       "model_id": "f07b41c3b9534132af8fe24a7e17014e",
       "version_major": 2,
       "version_minor": 0
      },
      "text/plain": [
       "HBox(children=(FloatProgress(value=0.0, max=250000.0), HTML(value='')))"
      ]
     },
     "metadata": {},
     "output_type": "display_data"
    },
    {
     "name": "stdout",
     "output_type": "stream",
     "text": [
      "\n",
      "-Create the tpr file equi_CA_LOW_1GHZ.tpr\n",
      "gmx grompp -f equi_CA_LOW_1GHZ.mdp -c ../01_equi_CA/equi_CA_1GHZ.gro -r ../../sys_short_equi/equi_HA_short_1GHZ.gro -p ../../sys_top/1GHZ_water_ion.top -po out_equi_CA_LOW_1GHZ.mdp -o equi_CA_LOW_1GHZ.tpr -maxwarn 3\n",
      "-Launch the simulation equi_CA_LOW_1GHZ.tpr\n",
      "gmx mdrun -s equi_CA_LOW_1GHZ.tpr -deffnm equi_CA_LOW_1GHZ -nt 0 -ntmpi 0 -nsteps -2 -nocopyright\n"
     ]
    },
    {
     "data": {
      "application/vnd.jupyter.widget-view+json": {
       "model_id": "086358f1d6bd43909c2a4b9b9d4356aa",
       "version_major": 2,
       "version_minor": 0
      },
      "text/plain": [
       "HBox(children=(FloatProgress(value=0.0, max=500000.0), HTML(value='')))"
      ]
     },
     "metadata": {},
     "output_type": "display_data"
    },
    {
     "name": "stdout",
     "output_type": "stream",
     "text": [
      "\n"
     ]
    }
   ],
   "source": [
    "HA_time = 0.25\n",
    "CA_time = 0.5\n",
    "CA_LOW_time = 1.0\n",
    "dt = 0.002\n",
    "dt_HA = 0.001\n",
    "\n",
    "md_sys.equi_three_step(out_folder=os.path.join(DATA_OUT, 'sys_equi'),\n",
    "                                     nsteps_HA=1000 * HA_time / dt_HA,\n",
    "                                     nsteps_CA=1000 * CA_time / dt,\n",
    "                                     nsteps_CA_LOW=1000 * CA_LOW_time / dt,\n",
    "                                     dt=dt, dt_HA=dt_HA, maxwarn=3)\n"
   ]
  },
  {
   "cell_type": "code",
   "execution_count": 16,
   "metadata": {},
   "outputs": [
    {
     "data": {
      "application/vnd.jupyter.widget-view+json": {
       "model_id": "6c22bf8f0cee4545af5b20befd037ee2",
       "version_major": 2,
       "version_minor": 0
      },
      "text/plain": [
       "NGLWidget(max_frame=100)"
      ]
     },
     "metadata": {},
     "output_type": "display_data"
    }
   ],
   "source": [
    "view = md_sys.view_traj()\n",
    "view"
   ]
  },
  {
   "cell_type": "code",
   "execution_count": null,
   "metadata": {},
   "outputs": [],
   "source": []
  }
 ],
 "metadata": {
  "kernelspec": {
   "display_name": "Python 3",
   "language": "python",
   "name": "python3"
  },
  "language_info": {
   "codemirror_mode": {
    "name": "ipython",
    "version": 3
   },
   "file_extension": ".py",
   "mimetype": "text/x-python",
   "name": "python",
   "nbconvert_exporter": "python",
   "pygments_lexer": "ipython3",
   "version": "3.8.2"
  }
 },
 "nbformat": 4,
 "nbformat_minor": 4
}
