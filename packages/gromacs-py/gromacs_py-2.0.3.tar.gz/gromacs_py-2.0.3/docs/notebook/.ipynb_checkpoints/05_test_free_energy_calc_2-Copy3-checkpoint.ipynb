{
 "cells": [
  {
   "cell_type": "code",
   "execution_count": 1,
   "metadata": {},
   "outputs": [],
   "source": [
    "import os\n",
    "import urllib.request\n",
    "import copy"
   ]
  },
  {
   "cell_type": "code",
   "execution_count": 2,
   "metadata": {},
   "outputs": [],
   "source": [
    "from gromacs_py import gmx\n",
    "gmx.show_log()\n",
    "from gromacs_py.tools import ambertools\n",
    "ambertools.show_log()\n",
    "\n",
    "from pdb_manip_py import pdb_manip"
   ]
  },
  {
   "cell_type": "code",
   "execution_count": 3,
   "metadata": {},
   "outputs": [
    {
     "name": "stdout",
     "output_type": "stream",
     "text": [
      "/home/murail/Documents/Code/gromacs_py/docs/notebook\n"
     ]
    }
   ],
   "source": [
    "cd /home/murail/Documents/Code/gromacs_py/docs/notebook/"
   ]
  },
  {
   "cell_type": "code",
   "execution_count": 4,
   "metadata": {},
   "outputs": [],
   "source": [
    "#rm -r data_lig_trypsin_1GI2"
   ]
  },
  {
   "cell_type": "code",
   "execution_count": 5,
   "metadata": {},
   "outputs": [],
   "source": [
    "PDB_ID = '1GI2'\n",
    "MOL_ID = '122'\n",
    "CHARGE_MOL = 1\n",
    "DATA_OUT = 'data_lig_trypsin_{}'.format(PDB_ID)\n",
    "os.makedirs(DATA_OUT, exist_ok = True)\n",
    "\n",
    "raw_pdb = urllib.request.urlretrieve('http://files.rcsb.org/download/{}.pdb'.format(PDB_ID),\n",
    "                           '{}/{}.pdb'.format(DATA_OUT, PDB_ID))"
   ]
  },
  {
   "cell_type": "code",
   "execution_count": 6,
   "metadata": {},
   "outputs": [],
   "source": [
    "# Extract first conf:\n",
    "\n",
    "#pdb_multi = pdb_manip.Multi_Coor(raw_pdb[0])\n",
    "#pdb_model_1 = '{}/{}_model_1.pdb'.format(DATA_OUT, PDB_ID)\n",
    "#pdb_multi.coor_list[0].write_pdb(pdb_model_1)\n",
    "\n",
    "pdb_model_1 = '{}/{}.pdb'.format(DATA_OUT, PDB_ID)"
   ]
  },
  {
   "cell_type": "code",
   "execution_count": 7,
   "metadata": {
    "scrolled": false
   },
   "outputs": [
    {
     "name": "stdout",
     "output_type": "stream",
     "text": [
      "Succeed to read file ../1GI2.pdb ,  4226 atoms found\n",
      "Succeed to read file 00_1GI2.pqr ,  3221 atoms found\n",
      "Succeed to read file ../1GI2.pdb ,  4226 atoms found\n",
      "PDB file 122.pdb already exist, file not saved\n",
      "PDB files not created, 122_h.pdb already exist\n",
      "Succeed to read file 122_h.pdb ,  32 atoms found\n",
      "PDB file 122_h_unique.pdb already exist, file not saved\n",
      "acpype.py -i 122_h_unique.pdb -b 122 -c bcc -a gaff -o gmx -n 1\n",
      "Succeed to create topologie in 122\n",
      "122\n",
      "residue(s) CYS not included, add this residue in ...\n",
      "residue(s) CA not included, add this residue in ...\n",
      "residue(s) SO4 not included, add this residue in ...\n",
      "Chain: A  Residue: 0 to 218\n",
      "PDB file 01_1GI2_good_his.pdb already exist, file not saved\n",
      "-Create topologie\n",
      "create_top not launched 1GI2_pdb2gmx.pdb already exist\n",
      "Add Molecule 122\n",
      "name         : mol\n",
      "coor_file    : 122.acpype/122_GMX.gro\n",
      "top_file     : 122.acpype/122_GMX_split.top\n",
      "nt           : 0\n",
      "ntmpi        : 0\n",
      "sys_history  : 0\n",
      "Add 1 mol /home/murail/Documents/Code/gromacs_py/docs/notebook/data_lig_trypsin_1GI2/prot_top/122.acpype/122_GMX.itp\n",
      "Concat files: ['1GI2_pdb2gmx.pdb', '/home/murail/Documents/Code/gromacs_py/docs/notebook/data_lig_trypsin_1GI2/prot_top/122_h.pdb']\n",
      "File  1GI2_pdb2gmx_mol.pdb  already exist\n"
     ]
    }
   ],
   "source": [
    "md_sys = gmx.GmxSys(name=PDB_ID, coor_file=pdb_model_1)\n",
    "md_sys.prepare_top(out_folder=os.path.join(DATA_OUT, 'prot_top'),\n",
    "                   ff='amber99sb-ildn', include_mol={MOL_ID: CHARGE_MOL})"
   ]
  },
  {
   "cell_type": "code",
   "execution_count": 8,
   "metadata": {},
   "outputs": [
    {
     "name": "stdout",
     "output_type": "stream",
     "text": [
      "pdb\n",
      "Succeed to read file data_lig_trypsin_1GI2/prot_top/1GI2_pdb2gmx_mol.pdb ,  3253 atoms found\n",
      "32\n",
      "PDB file data_lig_trypsin_1GI2/mol_top/122_only.pdb already exist, file not saved\n",
      "122_GMX_atomtypes\n",
      "1GI2_pdb2gmx\n",
      "\tProtein_chain_A\n",
      "tip3p\n",
      "\tSOL\n",
      "ions\n",
      "\tIB+\n",
      "\tCA\n",
      "\tCL\n",
      "\tNA\n",
      "\tMG\n",
      "\tK\n",
      "\tRB\n",
      "\tCS\n",
      "\tLI\n",
      "\tZN\n",
      "122_GMX\n",
      "\t122\n",
      "Forcefield include :\n",
      " amber99sb-ildn\n",
      "-ITP file: 122_GMX_atomtypes\n",
      "-molecules defined in the itp file:\n",
      "-ITP file: tip3p\n",
      "-molecules defined in the itp file:\n",
      "* SOL\n",
      "-ITP file: 122_GMX\n",
      "-molecules defined in the itp file:\n",
      "* 122\n",
      "Mol List:\n",
      "   * 1 122\n",
      "Mol Name:\n",
      " Protein\n"
     ]
    }
   ],
   "source": [
    "test = md_sys.extract_mol_sys(out_folder=os.path.join(DATA_OUT, 'mol_top'), res_name=MOL_ID)"
   ]
  },
  {
   "cell_type": "code",
   "execution_count": 9,
   "metadata": {},
   "outputs": [
    {
     "name": "stdout",
     "output_type": "stream",
     "text": [
      "-Create pbc box\n",
      "create_box not launched data_lig_trypsin_1GI2/mol_top/122_only_box.pdb already exist\n",
      "Mdp files not created, Init_em_122.mdp already exist\n",
      "-Create the tpr file Init_em_122.tpr\n",
      "create_tpr not launched Init_em_122.tpr already exist\n",
      "-Launch the simulation Init_em_122.tpr\n",
      "Simulation not launched Init_em_122.gro already exist\n",
      "Mdp files not created, 122.mdp already exist\n",
      "-Create the tpr file 122.tpr\n",
      "create_tpr not launched 122.tpr already exist\n",
      "-Launch the simulation 122.tpr\n",
      "Simulation not launched 122.gro already exist\n"
     ]
    }
   ],
   "source": [
    "test.create_box(name=None, dist=1.0)\n",
    "\n",
    "test.em_2_steps(out_folder=os.path.join(DATA_OUT, 'mol_em'),\n",
    "                  no_constr_nsteps=10000,\n",
    "                  constr_nsteps=10000,\n",
    "                  posres=\"\",\n",
    "                  emtol=0.1, nstxout=100, maxwarn=3,\n",
    "                  create_box_flag=False)"
   ]
  },
  {
   "cell_type": "code",
   "execution_count": 10,
   "metadata": {},
   "outputs": [
    {
     "name": "stdout",
     "output_type": "stream",
     "text": [
      "-Solvate the pbc box\n",
      "solvate_box not launched 122_water.pdb already exist\n"
     ]
    }
   ],
   "source": [
    "test.solvate_box(out_folder=os.path.join(DATA_OUT, 'mol_water_top'))"
   ]
  },
  {
   "cell_type": "code",
   "execution_count": 11,
   "metadata": {},
   "outputs": [
    {
     "name": "stdout",
     "output_type": "stream",
     "text": [
      "Mdp files not created, Init_em_122.mdp already exist\n",
      "-Create the tpr file Init_em_122.tpr\n",
      "create_tpr not launched Init_em_122.tpr already exist\n",
      "-Launch the simulation Init_em_122.tpr\n",
      "Simulation not launched Init_em_122.gro already exist\n",
      "Mdp files not created, 122.mdp already exist\n",
      "-Create the tpr file 122.tpr\n",
      "create_tpr not launched 122.tpr already exist\n",
      "-Launch the simulation 122.tpr\n",
      "Simulation not launched 122.gro already exist\n"
     ]
    }
   ],
   "source": [
    "test.em_2_steps(out_folder=os.path.join(DATA_OUT, 'mol_water_em'),\n",
    "                  no_constr_nsteps=10000,\n",
    "                  constr_nsteps=10000,\n",
    "                  posres=\"\",\n",
    "                  emtol=0.1, nstxout=100, maxwarn=3,\n",
    "                  create_box_flag=False)"
   ]
  },
  {
   "cell_type": "code",
   "execution_count": 12,
   "metadata": {},
   "outputs": [
    {
     "name": "stdout",
     "output_type": "stream",
     "text": [
      "Mdp files not created, prod_short_equi.mdp already exist\n",
      "-Create the tpr file prod_short_equi.tpr\n",
      "create_tpr not launched prod_short_equi.tpr already exist\n",
      "-Launch the simulation prod_short_equi.tpr\n",
      "Simulation not launched prod_short_equi.gro already exist\n"
     ]
    }
   ],
   "source": [
    "mdp_options = {'tc-grps': 'System',\n",
    "               'tau_t': '0.1',\n",
    "               'ref_t' : '310',\n",
    "               }\n",
    "\n",
    "test.production(out_folder=os.path.join(DATA_OUT, 'mol_water_prod'),\n",
    "                name='short_equi',\n",
    "                nsteps=10000, dt=0.0005,\n",
    "                maxwarn=1, **mdp_options)"
   ]
  },
  {
   "cell_type": "code",
   "execution_count": 13,
   "metadata": {
    "scrolled": false
   },
   "outputs": [
    {
     "name": "stdout",
     "output_type": "stream",
     "text": [
      "Mdp files not created, prod_122.mdp already exist\n",
      "-Create the tpr file prod_122.tpr\n",
      "create_tpr not launched prod_122.tpr already exist\n",
      "-Launch the simulation prod_122.tpr\n",
      "Simulation not launched prod_122.gro already exist\n"
     ]
    }
   ],
   "source": [
    "test.production(out_folder=os.path.join(DATA_OUT, 'mol_water_prod'),\n",
    "                  nsteps=1000000,\n",
    "                  dt=0.002,maxwarn=1, **mdp_options)"
   ]
  },
  {
   "cell_type": "markdown",
   "metadata": {},
   "source": [
    "## Free energy calculation of solvation"
   ]
  },
  {
   "cell_type": "code",
   "execution_count": 14,
   "metadata": {},
   "outputs": [
    {
     "name": "stdout",
     "output_type": "stream",
     "text": [
      "Coulomb lambda :0.0 0.111 0.222 0.333 0.444 0.556 0.667 0.778 0.889 1.0 1.0 1.0 1.0 1.0 1.0 1.0 1.0 1.0 1.0 1.0\n",
      "Vdw lambda :0.0 0.0 0.0 0.0 0.0 0.0 0.0 0.0 0.0 0.0 0.1 0.2 0.3 0.4 0.5 0.6 0.7 0.8 0.9 1.0\n",
      "\n",
      "\n",
      "\n",
      "\n"
     ]
    },
    {
     "data": {
      "application/vnd.jupyter.widget-view+json": {
       "model_id": "e0ea84c00ada45ba91ca5f552a0e8a92",
       "version_major": 2,
       "version_minor": 0
      },
      "text/plain": [
       "HBox(children=(FloatProgress(value=0.0, max=1300000.0), HTML(value='')))"
      ]
     },
     "metadata": {},
     "output_type": "display_data"
    },
    {
     "name": "stdout",
     "output_type": "stream",
     "text": [
      "Mdp files not created, em_122_vdwq_00.mdp already exist\n",
      "-Create the tpr file em_122_vdwq_00.tpr\n",
      "create_tpr not launched em_122_vdwq_00.tpr already exist\n",
      "-Launch the simulation em_122_vdwq_00.tpr\n",
      "Simulation not launched em_122_vdwq_00.gro already exist\n",
      "Mdp files not created, nvt_122_vdwq_00.mdp already exist\n",
      "-Create the tpr file nvt_122_vdwq_00.tpr\n",
      "create_tpr not launched nvt_122_vdwq_00.tpr already exist\n",
      "-Launch the simulation nvt_122_vdwq_00.tpr\n",
      "Simulation not launched nvt_122_vdwq_00.gro already exist\n",
      "Mdp files not created, npt_122_vdwq_00.mdp already exist\n",
      "-Create the tpr file npt_122_vdwq_00.tpr\n",
      "create_tpr not launched npt_122_vdwq_00.tpr already exist\n",
      "-Launch the simulation npt_122_vdwq_00.tpr\n",
      "Simulation not launched npt_122_vdwq_00.gro already exist\n",
      "Mdp files not created, prod_122_vdwq_00.mdp already exist\n",
      "-Create the tpr file prod_122_vdwq_00.tpr\n",
      "create_tpr not launched prod_122_vdwq_00.tpr already exist\n",
      "-Launch the simulation prod_122_vdwq_00.tpr\n",
      "Simulation not launched prod_122_vdwq_00.gro already exist\n",
      "Mdp files not created, em_122_vdwq_01.mdp already exist\n",
      "-Create the tpr file em_122_vdwq_01.tpr\n",
      "create_tpr not launched em_122_vdwq_01.tpr already exist\n",
      "-Launch the simulation em_122_vdwq_01.tpr\n",
      "Simulation not launched em_122_vdwq_01.gro already exist\n",
      "Mdp files not created, nvt_122_vdwq_01.mdp already exist\n",
      "-Create the tpr file nvt_122_vdwq_01.tpr\n",
      "create_tpr not launched nvt_122_vdwq_01.tpr already exist\n",
      "-Launch the simulation nvt_122_vdwq_01.tpr\n",
      "Simulation not launched nvt_122_vdwq_01.gro already exist\n",
      "Mdp files not created, npt_122_vdwq_01.mdp already exist\n",
      "-Create the tpr file npt_122_vdwq_01.tpr\n",
      "create_tpr not launched npt_122_vdwq_01.tpr already exist\n",
      "-Launch the simulation npt_122_vdwq_01.tpr\n",
      "Simulation not launched npt_122_vdwq_01.gro already exist\n",
      "Mdp files not created, prod_122_vdwq_01.mdp already exist\n",
      "-Create the tpr file prod_122_vdwq_01.tpr\n",
      "create_tpr not launched prod_122_vdwq_01.tpr already exist\n",
      "-Launch the simulation prod_122_vdwq_01.tpr\n",
      "Simulation not launched prod_122_vdwq_01.gro already exist\n",
      "Mdp files not created, em_122_vdwq_02.mdp already exist\n",
      "-Create the tpr file em_122_vdwq_02.tpr\n",
      "create_tpr not launched em_122_vdwq_02.tpr already exist\n",
      "-Launch the simulation em_122_vdwq_02.tpr\n",
      "Simulation not launched em_122_vdwq_02.gro already exist\n",
      "Mdp files not created, nvt_122_vdwq_02.mdp already exist\n",
      "-Create the tpr file nvt_122_vdwq_02.tpr\n",
      "create_tpr not launched nvt_122_vdwq_02.tpr already exist\n",
      "-Launch the simulation nvt_122_vdwq_02.tpr\n",
      "Simulation not launched nvt_122_vdwq_02.gro already exist\n",
      "Mdp files not created, npt_122_vdwq_02.mdp already exist\n",
      "-Create the tpr file npt_122_vdwq_02.tpr\n",
      "create_tpr not launched npt_122_vdwq_02.tpr already exist\n",
      "-Launch the simulation npt_122_vdwq_02.tpr\n",
      "Simulation not launched npt_122_vdwq_02.gro already exist\n",
      "Mdp files not created, prod_122_vdwq_02.mdp already exist\n",
      "-Create the tpr file prod_122_vdwq_02.tpr\n",
      "create_tpr not launched prod_122_vdwq_02.tpr already exist\n",
      "-Launch the simulation prod_122_vdwq_02.tpr\n",
      "Simulation not launched prod_122_vdwq_02.gro already exist\n",
      "Mdp files not created, em_122_vdwq_03.mdp already exist\n",
      "-Create the tpr file em_122_vdwq_03.tpr\n",
      "create_tpr not launched em_122_vdwq_03.tpr already exist\n",
      "-Launch the simulation em_122_vdwq_03.tpr\n",
      "Simulation not launched em_122_vdwq_03.gro already exist\n",
      "Mdp files not created, nvt_122_vdwq_03.mdp already exist\n",
      "-Create the tpr file nvt_122_vdwq_03.tpr\n",
      "create_tpr not launched nvt_122_vdwq_03.tpr already exist\n",
      "-Launch the simulation nvt_122_vdwq_03.tpr\n",
      "Simulation not launched nvt_122_vdwq_03.gro already exist\n",
      "Mdp files not created, npt_122_vdwq_03.mdp already exist\n",
      "-Create the tpr file npt_122_vdwq_03.tpr\n",
      "create_tpr not launched npt_122_vdwq_03.tpr already exist\n",
      "-Launch the simulation npt_122_vdwq_03.tpr\n",
      "Simulation not launched npt_122_vdwq_03.gro already exist\n",
      "Mdp files not created, prod_122_vdwq_03.mdp already exist\n",
      "-Create the tpr file prod_122_vdwq_03.tpr\n",
      "create_tpr not launched prod_122_vdwq_03.tpr already exist\n",
      "-Launch the simulation prod_122_vdwq_03.tpr\n",
      "Simulation not launched prod_122_vdwq_03.gro already exist\n",
      "Mdp files not created, em_122_vdwq_04.mdp already exist\n",
      "-Create the tpr file em_122_vdwq_04.tpr\n",
      "create_tpr not launched em_122_vdwq_04.tpr already exist\n",
      "-Launch the simulation em_122_vdwq_04.tpr\n",
      "Simulation not launched em_122_vdwq_04.gro already exist\n",
      "Mdp files not created, nvt_122_vdwq_04.mdp already exist\n",
      "-Create the tpr file nvt_122_vdwq_04.tpr\n",
      "create_tpr not launched nvt_122_vdwq_04.tpr already exist\n",
      "-Launch the simulation nvt_122_vdwq_04.tpr\n",
      "Simulation not launched nvt_122_vdwq_04.gro already exist\n",
      "Mdp files not created, npt_122_vdwq_04.mdp already exist\n",
      "-Create the tpr file npt_122_vdwq_04.tpr\n",
      "create_tpr not launched npt_122_vdwq_04.tpr already exist\n",
      "-Launch the simulation npt_122_vdwq_04.tpr\n",
      "Simulation not launched npt_122_vdwq_04.gro already exist\n",
      "Mdp files not created, prod_122_vdwq_04.mdp already exist\n",
      "-Create the tpr file prod_122_vdwq_04.tpr\n",
      "create_tpr not launched prod_122_vdwq_04.tpr already exist\n",
      "-Launch the simulation prod_122_vdwq_04.tpr\n",
      "Simulation not launched prod_122_vdwq_04.gro already exist\n",
      "Mdp files not created, em_122_vdwq_05.mdp already exist\n",
      "-Create the tpr file em_122_vdwq_05.tpr\n",
      "create_tpr not launched em_122_vdwq_05.tpr already exist\n",
      "-Launch the simulation em_122_vdwq_05.tpr\n",
      "Simulation not launched em_122_vdwq_05.gro already exist\n",
      "Mdp files not created, nvt_122_vdwq_05.mdp already exist\n",
      "-Create the tpr file nvt_122_vdwq_05.tpr\n",
      "create_tpr not launched nvt_122_vdwq_05.tpr already exist\n",
      "-Launch the simulation nvt_122_vdwq_05.tpr\n",
      "Simulation not launched nvt_122_vdwq_05.gro already exist\n",
      "Mdp files not created, npt_122_vdwq_05.mdp already exist\n",
      "-Create the tpr file npt_122_vdwq_05.tpr\n",
      "create_tpr not launched npt_122_vdwq_05.tpr already exist\n",
      "-Launch the simulation npt_122_vdwq_05.tpr\n",
      "Simulation not launched npt_122_vdwq_05.gro already exist\n",
      "Mdp files not created, prod_122_vdwq_05.mdp already exist\n",
      "-Create the tpr file prod_122_vdwq_05.tpr\n",
      "create_tpr not launched prod_122_vdwq_05.tpr already exist\n",
      "-Launch the simulation prod_122_vdwq_05.tpr\n",
      "Simulation not launched prod_122_vdwq_05.gro already exist\n",
      "Mdp files not created, em_122_vdwq_06.mdp already exist\n",
      "-Create the tpr file em_122_vdwq_06.tpr\n",
      "create_tpr not launched em_122_vdwq_06.tpr already exist\n",
      "-Launch the simulation em_122_vdwq_06.tpr\n",
      "Simulation not launched em_122_vdwq_06.gro already exist\n",
      "Mdp files not created, nvt_122_vdwq_06.mdp already exist\n",
      "-Create the tpr file nvt_122_vdwq_06.tpr\n",
      "create_tpr not launched nvt_122_vdwq_06.tpr already exist\n",
      "-Launch the simulation nvt_122_vdwq_06.tpr\n",
      "Simulation not launched nvt_122_vdwq_06.gro already exist\n",
      "Mdp files not created, npt_122_vdwq_06.mdp already exist\n",
      "-Create the tpr file npt_122_vdwq_06.tpr\n",
      "create_tpr not launched npt_122_vdwq_06.tpr already exist\n",
      "-Launch the simulation npt_122_vdwq_06.tpr\n",
      "Simulation not launched npt_122_vdwq_06.gro already exist\n",
      "Mdp files not created, prod_122_vdwq_06.mdp already exist\n",
      "-Create the tpr file prod_122_vdwq_06.tpr\n",
      "create_tpr not launched prod_122_vdwq_06.tpr already exist\n",
      "-Launch the simulation prod_122_vdwq_06.tpr\n",
      "Simulation not launched prod_122_vdwq_06.gro already exist\n",
      "Mdp files not created, em_122_vdwq_07.mdp already exist\n",
      "-Create the tpr file em_122_vdwq_07.tpr\n",
      "create_tpr not launched em_122_vdwq_07.tpr already exist\n",
      "-Launch the simulation em_122_vdwq_07.tpr\n",
      "Simulation not launched em_122_vdwq_07.gro already exist\n",
      "Mdp files not created, nvt_122_vdwq_07.mdp already exist\n",
      "-Create the tpr file nvt_122_vdwq_07.tpr\n",
      "create_tpr not launched nvt_122_vdwq_07.tpr already exist\n",
      "-Launch the simulation nvt_122_vdwq_07.tpr\n",
      "Simulation not launched nvt_122_vdwq_07.gro already exist\n",
      "Mdp files not created, npt_122_vdwq_07.mdp already exist\n",
      "-Create the tpr file npt_122_vdwq_07.tpr\n",
      "create_tpr not launched npt_122_vdwq_07.tpr already exist\n",
      "-Launch the simulation npt_122_vdwq_07.tpr\n",
      "Simulation not launched npt_122_vdwq_07.gro already exist\n",
      "Mdp files not created, prod_122_vdwq_07.mdp already exist\n",
      "-Create the tpr file prod_122_vdwq_07.tpr\n",
      "create_tpr not launched prod_122_vdwq_07.tpr already exist\n",
      "-Launch the simulation prod_122_vdwq_07.tpr\n",
      "Simulation not launched prod_122_vdwq_07.gro already exist\n"
     ]
    },
    {
     "name": "stdout",
     "output_type": "stream",
     "text": [
      "Mdp files not created, em_122_vdwq_08.mdp already exist\n",
      "-Create the tpr file em_122_vdwq_08.tpr\n",
      "create_tpr not launched em_122_vdwq_08.tpr already exist\n",
      "-Launch the simulation em_122_vdwq_08.tpr\n",
      "Simulation not launched em_122_vdwq_08.gro already exist\n",
      "Mdp files not created, nvt_122_vdwq_08.mdp already exist\n",
      "-Create the tpr file nvt_122_vdwq_08.tpr\n",
      "create_tpr not launched nvt_122_vdwq_08.tpr already exist\n",
      "-Launch the simulation nvt_122_vdwq_08.tpr\n",
      "Simulation not launched nvt_122_vdwq_08.gro already exist\n",
      "Mdp files not created, npt_122_vdwq_08.mdp already exist\n",
      "-Create the tpr file npt_122_vdwq_08.tpr\n",
      "create_tpr not launched npt_122_vdwq_08.tpr already exist\n",
      "-Launch the simulation npt_122_vdwq_08.tpr\n",
      "Simulation not launched npt_122_vdwq_08.gro already exist\n",
      "Mdp files not created, prod_122_vdwq_08.mdp already exist\n",
      "-Create the tpr file prod_122_vdwq_08.tpr\n",
      "create_tpr not launched prod_122_vdwq_08.tpr already exist\n",
      "-Launch the simulation prod_122_vdwq_08.tpr\n",
      "Simulation not launched prod_122_vdwq_08.gro already exist\n",
      "Mdp files not created, em_122_vdwq_09.mdp already exist\n",
      "-Create the tpr file em_122_vdwq_09.tpr\n",
      "create_tpr not launched em_122_vdwq_09.tpr already exist\n",
      "-Launch the simulation em_122_vdwq_09.tpr\n",
      "Simulation not launched em_122_vdwq_09.gro already exist\n",
      "Mdp files not created, nvt_122_vdwq_09.mdp already exist\n",
      "-Create the tpr file nvt_122_vdwq_09.tpr\n",
      "create_tpr not launched nvt_122_vdwq_09.tpr already exist\n",
      "-Launch the simulation nvt_122_vdwq_09.tpr\n",
      "Simulation not launched nvt_122_vdwq_09.gro already exist\n",
      "Mdp files not created, npt_122_vdwq_09.mdp already exist\n",
      "-Create the tpr file npt_122_vdwq_09.tpr\n",
      "create_tpr not launched npt_122_vdwq_09.tpr already exist\n",
      "-Launch the simulation npt_122_vdwq_09.tpr\n",
      "Simulation not launched npt_122_vdwq_09.gro already exist\n",
      "Mdp files not created, prod_122_vdwq_09.mdp already exist\n",
      "-Create the tpr file prod_122_vdwq_09.tpr\n",
      "create_tpr not launched prod_122_vdwq_09.tpr already exist\n",
      "-Launch the simulation prod_122_vdwq_09.tpr\n",
      "Simulation not launched prod_122_vdwq_09.gro already exist\n",
      "Mdp files not created, em_122_vdwq_10.mdp already exist\n",
      "-Create the tpr file em_122_vdwq_10.tpr\n",
      "create_tpr not launched em_122_vdwq_10.tpr already exist\n",
      "-Launch the simulation em_122_vdwq_10.tpr\n",
      "Simulation not launched em_122_vdwq_10.gro already exist\n",
      "Mdp files not created, nvt_122_vdwq_10.mdp already exist\n",
      "-Create the tpr file nvt_122_vdwq_10.tpr\n",
      "create_tpr not launched nvt_122_vdwq_10.tpr already exist\n",
      "-Launch the simulation nvt_122_vdwq_10.tpr\n",
      "Simulation not launched nvt_122_vdwq_10.gro already exist\n",
      "Mdp files not created, npt_122_vdwq_10.mdp already exist\n",
      "-Create the tpr file npt_122_vdwq_10.tpr\n",
      "create_tpr not launched npt_122_vdwq_10.tpr already exist\n",
      "-Launch the simulation npt_122_vdwq_10.tpr\n",
      "Simulation not launched npt_122_vdwq_10.gro already exist\n",
      "Mdp files not created, prod_122_vdwq_10.mdp already exist\n",
      "-Create the tpr file prod_122_vdwq_10.tpr\n",
      "create_tpr not launched prod_122_vdwq_10.tpr already exist\n",
      "-Launch the simulation prod_122_vdwq_10.tpr\n",
      "Simulation not launched prod_122_vdwq_10.gro already exist\n",
      "Mdp files not created, em_122_vdwq_11.mdp already exist\n",
      "-Create the tpr file em_122_vdwq_11.tpr\n",
      "create_tpr not launched em_122_vdwq_11.tpr already exist\n",
      "-Launch the simulation em_122_vdwq_11.tpr\n",
      "Simulation not launched em_122_vdwq_11.gro already exist\n",
      "Mdp files not created, nvt_122_vdwq_11.mdp already exist\n",
      "-Create the tpr file nvt_122_vdwq_11.tpr\n",
      "create_tpr not launched nvt_122_vdwq_11.tpr already exist\n",
      "-Launch the simulation nvt_122_vdwq_11.tpr\n",
      "Simulation not launched nvt_122_vdwq_11.gro already exist\n",
      "Mdp files not created, npt_122_vdwq_11.mdp already exist\n",
      "-Create the tpr file npt_122_vdwq_11.tpr\n",
      "create_tpr not launched npt_122_vdwq_11.tpr already exist\n",
      "-Launch the simulation npt_122_vdwq_11.tpr\n",
      "Simulation not launched npt_122_vdwq_11.gro already exist\n",
      "Mdp files not created, prod_122_vdwq_11.mdp already exist\n",
      "-Create the tpr file prod_122_vdwq_11.tpr\n",
      "create_tpr not launched prod_122_vdwq_11.tpr already exist\n",
      "-Launch the simulation prod_122_vdwq_11.tpr\n",
      "Simulation not launched prod_122_vdwq_11.gro already exist\n",
      "Mdp files not created, em_122_vdwq_12.mdp already exist\n",
      "-Create the tpr file em_122_vdwq_12.tpr\n",
      "create_tpr not launched em_122_vdwq_12.tpr already exist\n",
      "-Launch the simulation em_122_vdwq_12.tpr\n",
      "Simulation not launched em_122_vdwq_12.gro already exist\n",
      "Mdp files not created, nvt_122_vdwq_12.mdp already exist\n",
      "-Create the tpr file nvt_122_vdwq_12.tpr\n",
      "create_tpr not launched nvt_122_vdwq_12.tpr already exist\n",
      "-Launch the simulation nvt_122_vdwq_12.tpr\n",
      "Simulation not launched nvt_122_vdwq_12.gro already exist\n",
      "Mdp files not created, npt_122_vdwq_12.mdp already exist\n",
      "-Create the tpr file npt_122_vdwq_12.tpr\n",
      "create_tpr not launched npt_122_vdwq_12.tpr already exist\n",
      "-Launch the simulation npt_122_vdwq_12.tpr\n",
      "Simulation not launched npt_122_vdwq_12.gro already exist\n",
      "Mdp files not created, prod_122_vdwq_12.mdp already exist\n",
      "-Create the tpr file prod_122_vdwq_12.tpr\n",
      "create_tpr not launched prod_122_vdwq_12.tpr already exist\n",
      "-Launch the simulation prod_122_vdwq_12.tpr\n",
      "Simulation not launched prod_122_vdwq_12.gro already exist\n",
      "Mdp files not created, em_122_vdwq_13.mdp already exist\n",
      "-Create the tpr file em_122_vdwq_13.tpr\n",
      "create_tpr not launched em_122_vdwq_13.tpr already exist\n",
      "-Launch the simulation em_122_vdwq_13.tpr\n",
      "Simulation not launched em_122_vdwq_13.gro already exist\n",
      "Mdp files not created, nvt_122_vdwq_13.mdp already exist\n",
      "-Create the tpr file nvt_122_vdwq_13.tpr\n",
      "create_tpr not launched nvt_122_vdwq_13.tpr already exist\n",
      "-Launch the simulation nvt_122_vdwq_13.tpr\n",
      "Simulation not launched nvt_122_vdwq_13.gro already exist\n",
      "Mdp files not created, npt_122_vdwq_13.mdp already exist\n",
      "-Create the tpr file npt_122_vdwq_13.tpr\n",
      "create_tpr not launched npt_122_vdwq_13.tpr already exist\n",
      "-Launch the simulation npt_122_vdwq_13.tpr\n",
      "Simulation not launched npt_122_vdwq_13.gro already exist\n",
      "Mdp files not created, prod_122_vdwq_13.mdp already exist\n",
      "-Create the tpr file prod_122_vdwq_13.tpr\n",
      "create_tpr not launched prod_122_vdwq_13.tpr already exist\n",
      "-Launch the simulation prod_122_vdwq_13.tpr\n",
      "Simulation not launched prod_122_vdwq_13.gro already exist\n",
      "Mdp files not created, em_122_vdwq_14.mdp already exist\n",
      "-Create the tpr file em_122_vdwq_14.tpr\n",
      "create_tpr not launched em_122_vdwq_14.tpr already exist\n",
      "-Launch the simulation em_122_vdwq_14.tpr\n",
      "Simulation not launched em_122_vdwq_14.gro already exist\n",
      "Mdp files not created, nvt_122_vdwq_14.mdp already exist\n",
      "-Create the tpr file nvt_122_vdwq_14.tpr\n",
      "create_tpr not launched nvt_122_vdwq_14.tpr already exist\n",
      "-Launch the simulation nvt_122_vdwq_14.tpr\n",
      "Simulation not launched nvt_122_vdwq_14.gro already exist\n",
      "Mdp files not created, npt_122_vdwq_14.mdp already exist\n",
      "-Create the tpr file npt_122_vdwq_14.tpr\n",
      "create_tpr not launched npt_122_vdwq_14.tpr already exist\n",
      "-Launch the simulation npt_122_vdwq_14.tpr\n",
      "Simulation not launched npt_122_vdwq_14.gro already exist\n",
      "Mdp files not created, prod_122_vdwq_14.mdp already exist\n",
      "-Create the tpr file prod_122_vdwq_14.tpr\n",
      "create_tpr not launched prod_122_vdwq_14.tpr already exist\n",
      "-Launch the simulation prod_122_vdwq_14.tpr\n",
      "Simulation not launched prod_122_vdwq_14.gro already exist\n",
      "Mdp files not created, em_122_vdwq_15.mdp already exist\n",
      "-Create the tpr file em_122_vdwq_15.tpr\n",
      "create_tpr not launched em_122_vdwq_15.tpr already exist\n",
      "-Launch the simulation em_122_vdwq_15.tpr\n",
      "Simulation not launched em_122_vdwq_15.gro already exist\n",
      "Mdp files not created, nvt_122_vdwq_15.mdp already exist\n",
      "-Create the tpr file nvt_122_vdwq_15.tpr\n",
      "create_tpr not launched nvt_122_vdwq_15.tpr already exist\n",
      "-Launch the simulation nvt_122_vdwq_15.tpr\n",
      "Simulation not launched nvt_122_vdwq_15.gro already exist\n",
      "Mdp files not created, npt_122_vdwq_15.mdp already exist\n",
      "-Create the tpr file npt_122_vdwq_15.tpr\n",
      "create_tpr not launched npt_122_vdwq_15.tpr already exist\n",
      "-Launch the simulation npt_122_vdwq_15.tpr\n",
      "Simulation not launched npt_122_vdwq_15.gro already exist\n",
      "Mdp files not created, prod_122_vdwq_15.mdp already exist\n",
      "-Create the tpr file prod_122_vdwq_15.tpr\n",
      "create_tpr not launched prod_122_vdwq_15.tpr already exist\n",
      "-Launch the simulation prod_122_vdwq_15.tpr\n",
      "Simulation not launched prod_122_vdwq_15.gro already exist\n"
     ]
    },
    {
     "name": "stdout",
     "output_type": "stream",
     "text": [
      "Mdp files not created, em_122_vdwq_16.mdp already exist\n",
      "-Create the tpr file em_122_vdwq_16.tpr\n",
      "create_tpr not launched em_122_vdwq_16.tpr already exist\n",
      "-Launch the simulation em_122_vdwq_16.tpr\n",
      "Simulation not launched em_122_vdwq_16.gro already exist\n",
      "Mdp files not created, nvt_122_vdwq_16.mdp already exist\n",
      "-Create the tpr file nvt_122_vdwq_16.tpr\n",
      "create_tpr not launched nvt_122_vdwq_16.tpr already exist\n",
      "-Launch the simulation nvt_122_vdwq_16.tpr\n",
      "Simulation not launched nvt_122_vdwq_16.gro already exist\n",
      "Mdp files not created, npt_122_vdwq_16.mdp already exist\n",
      "-Create the tpr file npt_122_vdwq_16.tpr\n",
      "create_tpr not launched npt_122_vdwq_16.tpr already exist\n",
      "-Launch the simulation npt_122_vdwq_16.tpr\n",
      "Simulation not launched npt_122_vdwq_16.gro already exist\n",
      "Mdp files not created, prod_122_vdwq_16.mdp already exist\n",
      "-Create the tpr file prod_122_vdwq_16.tpr\n",
      "create_tpr not launched prod_122_vdwq_16.tpr already exist\n",
      "-Launch the simulation prod_122_vdwq_16.tpr\n",
      "Simulation not launched prod_122_vdwq_16.gro already exist\n",
      "Mdp files not created, em_122_vdwq_17.mdp already exist\n",
      "-Create the tpr file em_122_vdwq_17.tpr\n",
      "create_tpr not launched em_122_vdwq_17.tpr already exist\n",
      "-Launch the simulation em_122_vdwq_17.tpr\n",
      "Simulation not launched em_122_vdwq_17.gro already exist\n",
      "Mdp files not created, nvt_122_vdwq_17.mdp already exist\n",
      "-Create the tpr file nvt_122_vdwq_17.tpr\n",
      "create_tpr not launched nvt_122_vdwq_17.tpr already exist\n",
      "-Launch the simulation nvt_122_vdwq_17.tpr\n",
      "Simulation not launched nvt_122_vdwq_17.gro already exist\n",
      "Mdp files not created, npt_122_vdwq_17.mdp already exist\n",
      "-Create the tpr file npt_122_vdwq_17.tpr\n",
      "create_tpr not launched npt_122_vdwq_17.tpr already exist\n",
      "-Launch the simulation npt_122_vdwq_17.tpr\n",
      "Simulation not launched npt_122_vdwq_17.gro already exist\n",
      "Mdp files not created, prod_122_vdwq_17.mdp already exist\n",
      "-Create the tpr file prod_122_vdwq_17.tpr\n",
      "create_tpr not launched prod_122_vdwq_17.tpr already exist\n",
      "-Launch the simulation prod_122_vdwq_17.tpr\n",
      "Simulation not launched prod_122_vdwq_17.gro already exist\n",
      "Mdp files not created, em_122_vdwq_18.mdp already exist\n",
      "-Create the tpr file em_122_vdwq_18.tpr\n",
      "create_tpr not launched em_122_vdwq_18.tpr already exist\n",
      "-Launch the simulation em_122_vdwq_18.tpr\n",
      "Simulation not launched em_122_vdwq_18.gro already exist\n",
      "Mdp files not created, nvt_122_vdwq_18.mdp already exist\n",
      "-Create the tpr file nvt_122_vdwq_18.tpr\n",
      "create_tpr not launched nvt_122_vdwq_18.tpr already exist\n",
      "-Launch the simulation nvt_122_vdwq_18.tpr\n",
      "Simulation not launched nvt_122_vdwq_18.gro already exist\n",
      "Mdp files not created, npt_122_vdwq_18.mdp already exist\n",
      "-Create the tpr file npt_122_vdwq_18.tpr\n",
      "create_tpr not launched npt_122_vdwq_18.tpr already exist\n",
      "-Launch the simulation npt_122_vdwq_18.tpr\n",
      "Simulation not launched npt_122_vdwq_18.gro already exist\n",
      "Mdp files not created, prod_122_vdwq_18.mdp already exist\n",
      "-Create the tpr file prod_122_vdwq_18.tpr\n",
      "create_tpr not launched prod_122_vdwq_18.tpr already exist\n",
      "-Launch the simulation prod_122_vdwq_18.tpr\n",
      "Simulation not launched prod_122_vdwq_18.gro already exist\n",
      "Mdp files not created, em_122_vdwq_19.mdp already exist\n",
      "-Create the tpr file em_122_vdwq_19.tpr\n",
      "create_tpr not launched em_122_vdwq_19.tpr already exist\n",
      "-Launch the simulation em_122_vdwq_19.tpr\n",
      "Simulation not launched em_122_vdwq_19.gro already exist\n",
      "Mdp files not created, nvt_122_vdwq_19.mdp already exist\n",
      "-Create the tpr file nvt_122_vdwq_19.tpr\n",
      "create_tpr not launched nvt_122_vdwq_19.tpr already exist\n",
      "-Launch the simulation nvt_122_vdwq_19.tpr\n",
      "Simulation not launched nvt_122_vdwq_19.gro already exist\n",
      "Mdp files not created, npt_122_vdwq_19.mdp already exist\n",
      "-Create the tpr file npt_122_vdwq_19.tpr\n",
      "create_tpr not launched npt_122_vdwq_19.tpr already exist\n",
      "-Launch the simulation npt_122_vdwq_19.tpr\n",
      "Simulation not launched npt_122_vdwq_19.gro already exist\n",
      "Mdp files not created, prod_122_vdwq_19.mdp already exist\n",
      "-Create the tpr file prod_122_vdwq_19.tpr\n",
      "create_tpr not launched prod_122_vdwq_19.tpr already exist\n",
      "-Launch the simulation prod_122_vdwq_19.tpr\n",
      "Simulation not launched prod_122_vdwq_19.gro already exist\n",
      "-Extract bar energy\n",
      "gmx bar -f data_lig_trypsin_1GI2/mol_free_ener/03_prod/prod_122_vdwq_00.xvg data_lig_trypsin_1GI2/mol_free_ener/03_prod/prod_122_vdwq_01.xvg data_lig_trypsin_1GI2/mol_free_ener/03_prod/prod_122_vdwq_02.xvg data_lig_trypsin_1GI2/mol_free_ener/03_prod/prod_122_vdwq_03.xvg data_lig_trypsin_1GI2/mol_free_ener/03_prod/prod_122_vdwq_04.xvg data_lig_trypsin_1GI2/mol_free_ener/03_prod/prod_122_vdwq_05.xvg data_lig_trypsin_1GI2/mol_free_ener/03_prod/prod_122_vdwq_06.xvg data_lig_trypsin_1GI2/mol_free_ener/03_prod/prod_122_vdwq_07.xvg data_lig_trypsin_1GI2/mol_free_ener/03_prod/prod_122_vdwq_08.xvg data_lig_trypsin_1GI2/mol_free_ener/03_prod/prod_122_vdwq_09.xvg data_lig_trypsin_1GI2/mol_free_ener/03_prod/prod_122_vdwq_10.xvg data_lig_trypsin_1GI2/mol_free_ener/03_prod/prod_122_vdwq_11.xvg data_lig_trypsin_1GI2/mol_free_ener/03_prod/prod_122_vdwq_12.xvg data_lig_trypsin_1GI2/mol_free_ener/03_prod/prod_122_vdwq_13.xvg data_lig_trypsin_1GI2/mol_free_ener/03_prod/prod_122_vdwq_14.xvg data_lig_trypsin_1GI2/mol_free_ener/03_prod/prod_122_vdwq_15.xvg data_lig_trypsin_1GI2/mol_free_ener/03_prod/prod_122_vdwq_16.xvg data_lig_trypsin_1GI2/mol_free_ener/03_prod/prod_122_vdwq_17.xvg data_lig_trypsin_1GI2/mol_free_ener/03_prod/prod_122_vdwq_18.xvg data_lig_trypsin_1GI2/mol_free_ener/03_prod/prod_122_vdwq_19.xvg -o bar.xvg -oi barint.xvg -oh histogram.xvg\n",
      "total      0 -     19,   DG 198.66 +/-  3.72\n",
      "DDG = 198.66 +/- 3.72 KJ/mol-1\n",
      "DDG = 47.48 +/- 0.89 Kcal/mol-1\n"
     ]
    }
   ],
   "source": [
    "ener_solv = test.free_ener(out_folder=os.path.join(DATA_OUT, 'mol_free_ener'),\n",
    "                      mol_name=MOL_ID, lambda_elec_num=10, lambda_vdw_num=10,\n",
    "                      em_steps=5000, nvt_time=10, npt_time=10, prod_time=100)"
   ]
  },
  {
   "cell_type": "code",
   "execution_count": 15,
   "metadata": {},
   "outputs": [
    {
     "data": {
      "text/plain": [
       "{'DG': 198.66, 'std': 3.72}"
      ]
     },
     "execution_count": 15,
     "metadata": {},
     "output_type": "execute_result"
    }
   ],
   "source": [
    "ener_solv"
   ]
  },
  {
   "cell_type": "markdown",
   "metadata": {},
   "source": [
    "## Protein-Ligand system preparation"
   ]
  },
  {
   "cell_type": "code",
   "execution_count": 16,
   "metadata": {},
   "outputs": [
    {
     "name": "stdout",
     "output_type": "stream",
     "text": [
      "-Create pbc box\n",
      "create_box not launched data_lig_trypsin_1GI2/prot_top/1GI2_pdb2gmx_mol_box.pdb already exist\n",
      "Mdp files not created, Init_em_1GI2.mdp already exist\n",
      "-Create the tpr file Init_em_1GI2.tpr\n",
      "create_tpr not launched Init_em_1GI2.tpr already exist\n",
      "-Launch the simulation Init_em_1GI2.tpr\n",
      "Simulation not launched Init_em_1GI2.gro already exist\n",
      "Mdp files not created, 1GI2.mdp already exist\n",
      "-Create the tpr file 1GI2.tpr\n",
      "create_tpr not launched 1GI2.tpr already exist\n",
      "-Launch the simulation 1GI2.tpr\n",
      "Simulation not launched 1GI2.gro already exist\n"
     ]
    }
   ],
   "source": [
    "md_sys.em_2_steps(out_folder=os.path.join(DATA_OUT, 'prot_em'),\n",
    "                  no_constr_nsteps=10000,\n",
    "                  constr_nsteps=10000,\n",
    "                  posres=\"\",\n",
    "                  emtol=0.1, nstxout=100, maxwarn=3,\n",
    "                  create_box_flag=True)"
   ]
  },
  {
   "cell_type": "code",
   "execution_count": 17,
   "metadata": {},
   "outputs": [
    {
     "data": {
      "application/vnd.jupyter.widget-view+json": {
       "model_id": "c1b8c13105354cb995187f017058c599",
       "version_major": 2,
       "version_minor": 0
      },
      "text/plain": [
       "_ColormakerRegistry()"
      ]
     },
     "metadata": {},
     "output_type": "display_data"
    },
    {
     "name": "stdout",
     "output_type": "stream",
     "text": [
      "-Convert trj/coor\n",
      "convert trj not launched data_lig_trypsin_1GI2/prot_em/1GI2_compact.pdb already exist\n",
      "Succeed to read file data_lig_trypsin_1GI2/prot_em/1GI2_compact.pdb ,  3253 atoms found\n"
     ]
    },
    {
     "data": {
      "application/vnd.jupyter.widget-view+json": {
       "model_id": "21948917e17f403697c5db8d77aba368",
       "version_major": 2,
       "version_minor": 0
      },
      "text/plain": [
       "NGLWidget()"
      ]
     },
     "metadata": {},
     "output_type": "display_data"
    }
   ],
   "source": [
    "view = md_sys.view_coor()\n",
    "view"
   ]
  },
  {
   "cell_type": "code",
   "execution_count": 18,
   "metadata": {},
   "outputs": [
    {
     "name": "stdout",
     "output_type": "stream",
     "text": [
      "-Solvate the pbc box\n",
      "solvate_box not launched 1GI2_water.pdb already exist\n",
      "add ions not launched 1GI2_water_ion.gro already exist\n",
      "name         : 1GI2\n",
      "sim_name     : 1GI2\n",
      "coor_file    : data_lig_trypsin_1GI2/sys_top/1GI2_water_ion.gro\n",
      "top_file     : data_lig_trypsin_1GI2/sys_top/1GI2_water_ion.top\n",
      "tpr          : data_lig_trypsin_1GI2/prot_em/1GI2.tpr\n",
      "mdp          : data_lig_trypsin_1GI2/prot_em/1GI2.mdp\n",
      "xtc          : data_lig_trypsin_1GI2/prot_em/1GI2.trr\n",
      "edr          : data_lig_trypsin_1GI2/prot_em/1GI2.edr\n",
      "log          : data_lig_trypsin_1GI2/prot_em/1GI2.log\n",
      "nt           : 0\n",
      "ntmpi        : 0\n",
      "sys_history  : 2\n"
     ]
    }
   ],
   "source": [
    "md_sys.solvate_add_ions(out_folder=os.path.join(DATA_OUT, 'sys_top'),\n",
    "                        ion_C=0.15, maxwarn=3, create_box_flag=False)\n",
    "md_sys.display()\n"
   ]
  },
  {
   "cell_type": "code",
   "execution_count": 19,
   "metadata": {},
   "outputs": [
    {
     "name": "stdout",
     "output_type": "stream",
     "text": [
      "Mdp files not created, Init_em_1GI2.mdp already exist\n",
      "-Create the tpr file Init_em_1GI2.tpr\n",
      "create_tpr not launched Init_em_1GI2.tpr already exist\n",
      "-Launch the simulation Init_em_1GI2.tpr\n",
      "Simulation not launched Init_em_1GI2.gro already exist\n",
      "Mdp files not created, 1GI2.mdp already exist\n",
      "-Create the tpr file 1GI2.tpr\n",
      "create_tpr not launched 1GI2.tpr already exist\n",
      "-Launch the simulation 1GI2.tpr\n",
      "Simulation not launched 1GI2.gro already exist\n"
     ]
    }
   ],
   "source": [
    "md_sys.em_2_steps(out_folder=os.path.join(DATA_OUT, 'sys_em'),\n",
    "                  no_constr_nsteps=10000,\n",
    "                  constr_nsteps=10000,\n",
    "                  posres=\"\",maxwarn=3)"
   ]
  },
  {
   "cell_type": "code",
   "execution_count": 20,
   "metadata": {},
   "outputs": [
    {
     "name": "stdout",
     "output_type": "stream",
     "text": [
      "Mdp files not created, equi_HA_short_1GI2.mdp already exist\n",
      "-Create the tpr file equi_HA_short_1GI2.tpr\n",
      "create_tpr not launched equi_HA_short_1GI2.tpr already exist\n",
      "-Launch the simulation equi_HA_short_1GI2.tpr\n",
      "Simulation not launched equi_HA_short_1GI2.gro already exist\n"
     ]
    }
   ],
   "source": [
    "mdp_options = {'nsteps': 20000,\n",
    "               'define': '-DPOSRES', 'dt': 0.0005,\n",
    "               'tc-grps': 'Protein {} Water_and_ions'.format(MOL_ID),\n",
    "               'tau_t': '0.1 0.1 0.1',\n",
    "               'ref_t' : '310 310 310'}\n",
    "\n",
    "equi_template_mdp = os.path.join(gmx.GROMACS_MOD_DIRNAME,\n",
    "                                 \"template/equi.mdp\")\n",
    "md_sys.run_md_sim(out_folder=os.path.join(DATA_OUT, \"sys_short_equi\"),\n",
    "                  name=\"equi_HA_short_\" + PDB_ID,\n",
    "                  mdp_template=equi_template_mdp,\n",
    "                  mdp_options=mdp_options, maxwarn=3)"
   ]
  },
  {
   "cell_type": "code",
   "execution_count": 21,
   "metadata": {
    "scrolled": false
   },
   "outputs": [
    {
     "name": "stdout",
     "output_type": "stream",
     "text": [
      "Mdp files not created, equi_HA_1GI2.mdp already exist\n",
      "-Create the tpr file equi_HA_1GI2.tpr\n",
      "create_tpr not launched equi_HA_1GI2.tpr already exist\n",
      "-Launch the simulation equi_HA_1GI2.tpr\n",
      "Simulation not launched equi_HA_1GI2.gro already exist\n",
      "Mdp files not created, equi_CA_1GI2.mdp already exist\n",
      "-Create the tpr file equi_CA_1GI2.tpr\n",
      "create_tpr not launched equi_CA_1GI2.tpr already exist\n",
      "-Launch the simulation equi_CA_1GI2.tpr\n",
      "Simulation not launched equi_CA_1GI2.gro already exist\n",
      "Mdp files not created, equi_CA_LOW_1GI2.mdp already exist\n",
      "-Create the tpr file equi_CA_LOW_1GI2.tpr\n",
      "create_tpr not launched equi_CA_LOW_1GI2.tpr already exist\n",
      "-Launch the simulation equi_CA_LOW_1GI2.tpr\n",
      "Simulation not launched equi_CA_LOW_1GI2.gro already exist\n"
     ]
    }
   ],
   "source": [
    "HA_time = 0.25\n",
    "CA_time = 0.5\n",
    "CA_LOW_time = 1.0\n",
    "dt = 0.002\n",
    "dt_HA = 0.001\n",
    "\n",
    "md_sys.equi_three_step(out_folder=os.path.join(DATA_OUT, 'sys_equi'),\n",
    "                                     nsteps_HA=1000 * HA_time / dt_HA,\n",
    "                                     nsteps_CA=1000 * CA_time / dt,\n",
    "                                     nsteps_CA_LOW=1000 * CA_LOW_time / dt,\n",
    "                                     dt=dt, dt_HA=dt_HA, maxwarn=3)\n"
   ]
  },
  {
   "cell_type": "code",
   "execution_count": 22,
   "metadata": {},
   "outputs": [
    {
     "data": {
      "application/vnd.jupyter.widget-view+json": {
       "model_id": "165b11c8aea3423eb292c5fe035c90d9",
       "version_major": 2,
       "version_minor": 0
      },
      "text/plain": [
       "NGLWidget(max_frame=100)"
      ]
     },
     "metadata": {},
     "output_type": "display_data"
    }
   ],
   "source": [
    "view = md_sys.view_traj()\n",
    "view"
   ]
  },
  {
   "cell_type": "code",
   "execution_count": 23,
   "metadata": {},
   "outputs": [],
   "source": [
    "start_sys = copy.deepcopy(md_sys)"
   ]
  },
  {
   "cell_type": "code",
   "execution_count": 24,
   "metadata": {},
   "outputs": [
    {
     "name": "stdout",
     "output_type": "stream",
     "text": [
      "/home/murail/Documents/Code/gromacs_py/docs/notebook\n"
     ]
    }
   ],
   "source": [
    "cd /home/murail/Documents/Code/gromacs_py/docs/notebook/"
   ]
  },
  {
   "cell_type": "code",
   "execution_count": 25,
   "metadata": {},
   "outputs": [],
   "source": [
    "#rm -r data_lig_trypsin/free_test_2"
   ]
  },
  {
   "cell_type": "markdown",
   "metadata": {},
   "source": [
    "## Free energy calculation of binding"
   ]
  },
  {
   "cell_type": "code",
   "execution_count": 26,
   "metadata": {
    "scrolled": true
   },
   "outputs": [
    {
     "name": "stdout",
     "output_type": "stream",
     "text": [
      "Coulomb lambda :0.0 0.111 0.222 0.333 0.444 0.556 0.667 0.778 0.889 1.0 1.0 1.0 1.0 1.0 1.0 1.0 1.0 1.0 1.0 1.0\n",
      "Vdw lambda :0.0 0.0 0.0 0.0 0.0 0.0 0.0 0.0 0.0 0.0 0.1 0.2 0.3 0.4 0.5 0.6 0.7 0.8 0.9 1.0\n",
      "\n",
      "\n",
      "\n",
      "\n"
     ]
    },
    {
     "data": {
      "application/vnd.jupyter.widget-view+json": {
       "model_id": "096c0757250f4b4bb222b00e702151b2",
       "version_major": 2,
       "version_minor": 0
      },
      "text/plain": [
       "HBox(children=(FloatProgress(value=0.0, max=1300000.0), HTML(value='')))"
      ]
     },
     "metadata": {},
     "output_type": "display_data"
    },
    {
     "name": "stdout",
     "output_type": "stream",
     "text": [
      "Mdp files not created, em_1GI2_vdwq_00.mdp already exist\n",
      "-Create the tpr file em_1GI2_vdwq_00.tpr\n",
      "create_tpr not launched em_1GI2_vdwq_00.tpr already exist\n",
      "-Launch the simulation em_1GI2_vdwq_00.tpr\n",
      "Simulation not launched em_1GI2_vdwq_00.gro already exist\n",
      "Mdp files not created, nvt_1GI2_vdwq_00.mdp already exist\n",
      "-Create the tpr file nvt_1GI2_vdwq_00.tpr\n",
      "create_tpr not launched nvt_1GI2_vdwq_00.tpr already exist\n",
      "-Launch the simulation nvt_1GI2_vdwq_00.tpr\n",
      "Simulation not launched nvt_1GI2_vdwq_00.gro already exist\n",
      "Mdp files not created, npt_1GI2_vdwq_00.mdp already exist\n",
      "-Create the tpr file npt_1GI2_vdwq_00.tpr\n",
      "create_tpr not launched npt_1GI2_vdwq_00.tpr already exist\n",
      "-Launch the simulation npt_1GI2_vdwq_00.tpr\n",
      "Simulation not launched npt_1GI2_vdwq_00.gro already exist\n",
      "Mdp files not created, prod_1GI2_vdwq_00.mdp already exist\n",
      "-Create the tpr file prod_1GI2_vdwq_00.tpr\n",
      "create_tpr not launched prod_1GI2_vdwq_00.tpr already exist\n",
      "-Launch the simulation prod_1GI2_vdwq_00.tpr\n",
      "Simulation not launched prod_1GI2_vdwq_00.gro already exist\n",
      "Mdp files not created, em_1GI2_vdwq_01.mdp already exist\n",
      "-Create the tpr file em_1GI2_vdwq_01.tpr\n",
      "create_tpr not launched em_1GI2_vdwq_01.tpr already exist\n",
      "-Launch the simulation em_1GI2_vdwq_01.tpr\n",
      "Simulation not launched em_1GI2_vdwq_01.gro already exist\n",
      "Mdp files not created, nvt_1GI2_vdwq_01.mdp already exist\n",
      "-Create the tpr file nvt_1GI2_vdwq_01.tpr\n",
      "create_tpr not launched nvt_1GI2_vdwq_01.tpr already exist\n",
      "-Launch the simulation nvt_1GI2_vdwq_01.tpr\n",
      "Simulation not launched nvt_1GI2_vdwq_01.gro already exist\n",
      "Mdp files not created, npt_1GI2_vdwq_01.mdp already exist\n",
      "-Create the tpr file npt_1GI2_vdwq_01.tpr\n",
      "create_tpr not launched npt_1GI2_vdwq_01.tpr already exist\n",
      "-Launch the simulation npt_1GI2_vdwq_01.tpr\n",
      "Simulation not launched npt_1GI2_vdwq_01.gro already exist\n",
      "Mdp files not created, prod_1GI2_vdwq_01.mdp already exist\n",
      "-Create the tpr file prod_1GI2_vdwq_01.tpr\n",
      "create_tpr not launched prod_1GI2_vdwq_01.tpr already exist\n",
      "-Launch the simulation prod_1GI2_vdwq_01.tpr\n",
      "Simulation not launched prod_1GI2_vdwq_01.gro already exist\n",
      "Mdp files not created, em_1GI2_vdwq_02.mdp already exist\n",
      "-Create the tpr file em_1GI2_vdwq_02.tpr\n",
      "create_tpr not launched em_1GI2_vdwq_02.tpr already exist\n",
      "-Launch the simulation em_1GI2_vdwq_02.tpr\n",
      "Simulation not launched em_1GI2_vdwq_02.gro already exist\n",
      "Mdp files not created, nvt_1GI2_vdwq_02.mdp already exist\n",
      "-Create the tpr file nvt_1GI2_vdwq_02.tpr\n",
      "create_tpr not launched nvt_1GI2_vdwq_02.tpr already exist\n",
      "-Launch the simulation nvt_1GI2_vdwq_02.tpr\n",
      "Simulation not launched nvt_1GI2_vdwq_02.gro already exist\n",
      "Mdp files not created, npt_1GI2_vdwq_02.mdp already exist\n",
      "-Create the tpr file npt_1GI2_vdwq_02.tpr\n",
      "create_tpr not launched npt_1GI2_vdwq_02.tpr already exist\n",
      "-Launch the simulation npt_1GI2_vdwq_02.tpr\n",
      "Simulation not launched npt_1GI2_vdwq_02.gro already exist\n",
      "Mdp files not created, prod_1GI2_vdwq_02.mdp already exist\n",
      "-Create the tpr file prod_1GI2_vdwq_02.tpr\n",
      "create_tpr not launched prod_1GI2_vdwq_02.tpr already exist\n",
      "-Launch the simulation prod_1GI2_vdwq_02.tpr\n",
      "Simulation not launched prod_1GI2_vdwq_02.gro already exist\n",
      "Mdp files not created, em_1GI2_vdwq_03.mdp already exist\n",
      "-Create the tpr file em_1GI2_vdwq_03.tpr\n",
      "create_tpr not launched em_1GI2_vdwq_03.tpr already exist\n",
      "-Launch the simulation em_1GI2_vdwq_03.tpr\n",
      "Simulation not launched em_1GI2_vdwq_03.gro already exist\n",
      "Mdp files not created, nvt_1GI2_vdwq_03.mdp already exist\n",
      "-Create the tpr file nvt_1GI2_vdwq_03.tpr\n",
      "create_tpr not launched nvt_1GI2_vdwq_03.tpr already exist\n",
      "-Launch the simulation nvt_1GI2_vdwq_03.tpr\n",
      "Simulation not launched nvt_1GI2_vdwq_03.gro already exist\n",
      "Mdp files not created, npt_1GI2_vdwq_03.mdp already exist\n",
      "-Create the tpr file npt_1GI2_vdwq_03.tpr\n",
      "create_tpr not launched npt_1GI2_vdwq_03.tpr already exist\n",
      "-Launch the simulation npt_1GI2_vdwq_03.tpr\n",
      "Simulation not launched npt_1GI2_vdwq_03.gro already exist\n",
      "Mdp files not created, prod_1GI2_vdwq_03.mdp already exist\n",
      "-Create the tpr file prod_1GI2_vdwq_03.tpr\n",
      "create_tpr not launched prod_1GI2_vdwq_03.tpr already exist\n",
      "-Launch the simulation prod_1GI2_vdwq_03.tpr\n",
      "Simulation not launched prod_1GI2_vdwq_03.gro already exist\n",
      "Mdp files not created, em_1GI2_vdwq_04.mdp already exist\n",
      "-Create the tpr file em_1GI2_vdwq_04.tpr\n",
      "create_tpr not launched em_1GI2_vdwq_04.tpr already exist\n",
      "-Launch the simulation em_1GI2_vdwq_04.tpr\n",
      "Simulation not launched em_1GI2_vdwq_04.gro already exist\n",
      "Mdp files not created, nvt_1GI2_vdwq_04.mdp already exist\n",
      "-Create the tpr file nvt_1GI2_vdwq_04.tpr\n",
      "create_tpr not launched nvt_1GI2_vdwq_04.tpr already exist\n",
      "-Launch the simulation nvt_1GI2_vdwq_04.tpr\n",
      "Simulation not launched nvt_1GI2_vdwq_04.gro already exist\n",
      "Mdp files not created, npt_1GI2_vdwq_04.mdp already exist\n",
      "-Create the tpr file npt_1GI2_vdwq_04.tpr\n",
      "create_tpr not launched npt_1GI2_vdwq_04.tpr already exist\n",
      "-Launch the simulation npt_1GI2_vdwq_04.tpr\n",
      "Simulation not launched npt_1GI2_vdwq_04.gro already exist\n",
      "Mdp files not created, prod_1GI2_vdwq_04.mdp already exist\n",
      "-Create the tpr file prod_1GI2_vdwq_04.tpr\n",
      "create_tpr not launched prod_1GI2_vdwq_04.tpr already exist\n",
      "-Launch the simulation prod_1GI2_vdwq_04.tpr\n",
      "Simulation not launched prod_1GI2_vdwq_04.gro already exist\n",
      "Mdp files not created, em_1GI2_vdwq_05.mdp already exist\n",
      "-Create the tpr file em_1GI2_vdwq_05.tpr\n",
      "create_tpr not launched em_1GI2_vdwq_05.tpr already exist\n",
      "-Launch the simulation em_1GI2_vdwq_05.tpr\n",
      "Simulation not launched em_1GI2_vdwq_05.gro already exist\n",
      "Mdp files not created, nvt_1GI2_vdwq_05.mdp already exist\n",
      "-Create the tpr file nvt_1GI2_vdwq_05.tpr\n",
      "create_tpr not launched nvt_1GI2_vdwq_05.tpr already exist\n",
      "-Launch the simulation nvt_1GI2_vdwq_05.tpr\n",
      "Simulation not launched nvt_1GI2_vdwq_05.gro already exist\n",
      "Mdp files not created, npt_1GI2_vdwq_05.mdp already exist\n",
      "-Create the tpr file npt_1GI2_vdwq_05.tpr\n",
      "create_tpr not launched npt_1GI2_vdwq_05.tpr already exist\n",
      "-Launch the simulation npt_1GI2_vdwq_05.tpr\n",
      "Simulation not launched npt_1GI2_vdwq_05.gro already exist\n",
      "Mdp files not created, prod_1GI2_vdwq_05.mdp already exist\n",
      "-Create the tpr file prod_1GI2_vdwq_05.tpr\n",
      "create_tpr not launched prod_1GI2_vdwq_05.tpr already exist\n",
      "-Launch the simulation prod_1GI2_vdwq_05.tpr\n",
      "Simulation not launched prod_1GI2_vdwq_05.gro already exist\n",
      "Mdp files not created, em_1GI2_vdwq_06.mdp already exist\n",
      "-Create the tpr file em_1GI2_vdwq_06.tpr\n",
      "create_tpr not launched em_1GI2_vdwq_06.tpr already exist\n",
      "-Launch the simulation em_1GI2_vdwq_06.tpr\n",
      "Simulation not launched em_1GI2_vdwq_06.gro already exist\n",
      "Mdp files not created, nvt_1GI2_vdwq_06.mdp already exist\n",
      "-Create the tpr file nvt_1GI2_vdwq_06.tpr\n",
      "create_tpr not launched nvt_1GI2_vdwq_06.tpr already exist\n",
      "-Launch the simulation nvt_1GI2_vdwq_06.tpr\n",
      "Simulation not launched nvt_1GI2_vdwq_06.gro already exist\n",
      "Mdp files not created, npt_1GI2_vdwq_06.mdp already exist\n",
      "-Create the tpr file npt_1GI2_vdwq_06.tpr\n",
      "create_tpr not launched npt_1GI2_vdwq_06.tpr already exist\n",
      "-Launch the simulation npt_1GI2_vdwq_06.tpr\n",
      "Simulation not launched npt_1GI2_vdwq_06.gro already exist\n",
      "Mdp files not created, prod_1GI2_vdwq_06.mdp already exist\n",
      "-Create the tpr file prod_1GI2_vdwq_06.tpr\n",
      "create_tpr not launched prod_1GI2_vdwq_06.tpr already exist\n",
      "-Launch the simulation prod_1GI2_vdwq_06.tpr\n",
      "Simulation not launched prod_1GI2_vdwq_06.gro already exist\n",
      "Mdp files not created, em_1GI2_vdwq_07.mdp already exist\n",
      "-Create the tpr file em_1GI2_vdwq_07.tpr\n",
      "create_tpr not launched em_1GI2_vdwq_07.tpr already exist\n",
      "-Launch the simulation em_1GI2_vdwq_07.tpr\n",
      "Simulation not launched em_1GI2_vdwq_07.gro already exist\n",
      "Mdp files not created, nvt_1GI2_vdwq_07.mdp already exist\n",
      "-Create the tpr file nvt_1GI2_vdwq_07.tpr\n",
      "create_tpr not launched nvt_1GI2_vdwq_07.tpr already exist\n",
      "-Launch the simulation nvt_1GI2_vdwq_07.tpr\n",
      "Simulation not launched nvt_1GI2_vdwq_07.gro already exist\n",
      "Mdp files not created, npt_1GI2_vdwq_07.mdp already exist\n",
      "-Create the tpr file npt_1GI2_vdwq_07.tpr\n",
      "create_tpr not launched npt_1GI2_vdwq_07.tpr already exist\n",
      "-Launch the simulation npt_1GI2_vdwq_07.tpr\n",
      "Simulation not launched npt_1GI2_vdwq_07.gro already exist\n",
      "Mdp files not created, prod_1GI2_vdwq_07.mdp already exist\n",
      "-Create the tpr file prod_1GI2_vdwq_07.tpr\n"
     ]
    },
    {
     "name": "stdout",
     "output_type": "stream",
     "text": [
      "create_tpr not launched prod_1GI2_vdwq_07.tpr already exist\n",
      "-Launch the simulation prod_1GI2_vdwq_07.tpr\n",
      "Simulation not launched prod_1GI2_vdwq_07.gro already exist\n",
      "Mdp files not created, em_1GI2_vdwq_08.mdp already exist\n",
      "-Create the tpr file em_1GI2_vdwq_08.tpr\n",
      "create_tpr not launched em_1GI2_vdwq_08.tpr already exist\n",
      "-Launch the simulation em_1GI2_vdwq_08.tpr\n",
      "Simulation not launched em_1GI2_vdwq_08.gro already exist\n",
      "Mdp files not created, nvt_1GI2_vdwq_08.mdp already exist\n",
      "-Create the tpr file nvt_1GI2_vdwq_08.tpr\n",
      "create_tpr not launched nvt_1GI2_vdwq_08.tpr already exist\n",
      "-Launch the simulation nvt_1GI2_vdwq_08.tpr\n",
      "Simulation not launched nvt_1GI2_vdwq_08.gro already exist\n",
      "Mdp files not created, npt_1GI2_vdwq_08.mdp already exist\n",
      "-Create the tpr file npt_1GI2_vdwq_08.tpr\n",
      "create_tpr not launched npt_1GI2_vdwq_08.tpr already exist\n",
      "-Launch the simulation npt_1GI2_vdwq_08.tpr\n",
      "Simulation not launched npt_1GI2_vdwq_08.gro already exist\n",
      "Mdp files not created, prod_1GI2_vdwq_08.mdp already exist\n",
      "-Create the tpr file prod_1GI2_vdwq_08.tpr\n",
      "create_tpr not launched prod_1GI2_vdwq_08.tpr already exist\n",
      "-Launch the simulation prod_1GI2_vdwq_08.tpr\n",
      "Simulation not launched prod_1GI2_vdwq_08.gro already exist\n",
      "Mdp files not created, em_1GI2_vdwq_09.mdp already exist\n",
      "-Create the tpr file em_1GI2_vdwq_09.tpr\n",
      "create_tpr not launched em_1GI2_vdwq_09.tpr already exist\n",
      "-Launch the simulation em_1GI2_vdwq_09.tpr\n",
      "Simulation not launched em_1GI2_vdwq_09.gro already exist\n",
      "Mdp files not created, nvt_1GI2_vdwq_09.mdp already exist\n",
      "-Create the tpr file nvt_1GI2_vdwq_09.tpr\n",
      "create_tpr not launched nvt_1GI2_vdwq_09.tpr already exist\n",
      "-Launch the simulation nvt_1GI2_vdwq_09.tpr\n",
      "Simulation not launched nvt_1GI2_vdwq_09.gro already exist\n",
      "Mdp files not created, npt_1GI2_vdwq_09.mdp already exist\n",
      "-Create the tpr file npt_1GI2_vdwq_09.tpr\n",
      "create_tpr not launched npt_1GI2_vdwq_09.tpr already exist\n",
      "-Launch the simulation npt_1GI2_vdwq_09.tpr\n",
      "Simulation not launched npt_1GI2_vdwq_09.gro already exist\n",
      "Mdp files not created, prod_1GI2_vdwq_09.mdp already exist\n",
      "-Create the tpr file prod_1GI2_vdwq_09.tpr\n",
      "create_tpr not launched prod_1GI2_vdwq_09.tpr already exist\n",
      "-Launch the simulation prod_1GI2_vdwq_09.tpr\n",
      "Simulation not launched prod_1GI2_vdwq_09.gro already exist\n",
      "Mdp files not created, em_1GI2_vdwq_10.mdp already exist\n",
      "-Create the tpr file em_1GI2_vdwq_10.tpr\n",
      "create_tpr not launched em_1GI2_vdwq_10.tpr already exist\n",
      "-Launch the simulation em_1GI2_vdwq_10.tpr\n",
      "Simulation not launched em_1GI2_vdwq_10.gro already exist\n",
      "Mdp files not created, nvt_1GI2_vdwq_10.mdp already exist\n",
      "-Create the tpr file nvt_1GI2_vdwq_10.tpr\n",
      "create_tpr not launched nvt_1GI2_vdwq_10.tpr already exist\n",
      "-Launch the simulation nvt_1GI2_vdwq_10.tpr\n",
      "Simulation not launched nvt_1GI2_vdwq_10.gro already exist\n",
      "Mdp files not created, npt_1GI2_vdwq_10.mdp already exist\n",
      "-Create the tpr file npt_1GI2_vdwq_10.tpr\n",
      "create_tpr not launched npt_1GI2_vdwq_10.tpr already exist\n",
      "-Launch the simulation npt_1GI2_vdwq_10.tpr\n",
      "Simulation not launched npt_1GI2_vdwq_10.gro already exist\n",
      "Mdp files not created, prod_1GI2_vdwq_10.mdp already exist\n",
      "-Create the tpr file prod_1GI2_vdwq_10.tpr\n",
      "create_tpr not launched prod_1GI2_vdwq_10.tpr already exist\n",
      "-Launch the simulation prod_1GI2_vdwq_10.tpr\n",
      "Simulation not launched prod_1GI2_vdwq_10.gro already exist\n",
      "Mdp files not created, em_1GI2_vdwq_11.mdp already exist\n",
      "-Create the tpr file em_1GI2_vdwq_11.tpr\n",
      "create_tpr not launched em_1GI2_vdwq_11.tpr already exist\n",
      "-Launch the simulation em_1GI2_vdwq_11.tpr\n",
      "Simulation not launched em_1GI2_vdwq_11.gro already exist\n",
      "Mdp files not created, nvt_1GI2_vdwq_11.mdp already exist\n",
      "-Create the tpr file nvt_1GI2_vdwq_11.tpr\n",
      "create_tpr not launched nvt_1GI2_vdwq_11.tpr already exist\n",
      "-Launch the simulation nvt_1GI2_vdwq_11.tpr\n",
      "Simulation not launched nvt_1GI2_vdwq_11.gro already exist\n",
      "Mdp files not created, npt_1GI2_vdwq_11.mdp already exist\n",
      "-Create the tpr file npt_1GI2_vdwq_11.tpr\n",
      "create_tpr not launched npt_1GI2_vdwq_11.tpr already exist\n",
      "-Launch the simulation npt_1GI2_vdwq_11.tpr\n",
      "Simulation not launched npt_1GI2_vdwq_11.gro already exist\n",
      "Mdp files not created, prod_1GI2_vdwq_11.mdp already exist\n",
      "-Create the tpr file prod_1GI2_vdwq_11.tpr\n",
      "create_tpr not launched prod_1GI2_vdwq_11.tpr already exist\n",
      "-Launch the simulation prod_1GI2_vdwq_11.tpr\n",
      "Simulation not launched prod_1GI2_vdwq_11.gro already exist\n",
      "Mdp files not created, em_1GI2_vdwq_12.mdp already exist\n",
      "-Create the tpr file em_1GI2_vdwq_12.tpr\n",
      "create_tpr not launched em_1GI2_vdwq_12.tpr already exist\n",
      "-Launch the simulation em_1GI2_vdwq_12.tpr\n",
      "Simulation not launched em_1GI2_vdwq_12.gro already exist\n",
      "Mdp files not created, nvt_1GI2_vdwq_12.mdp already exist\n",
      "-Create the tpr file nvt_1GI2_vdwq_12.tpr\n",
      "create_tpr not launched nvt_1GI2_vdwq_12.tpr already exist\n",
      "-Launch the simulation nvt_1GI2_vdwq_12.tpr\n",
      "Simulation not launched nvt_1GI2_vdwq_12.gro already exist\n",
      "Mdp files not created, npt_1GI2_vdwq_12.mdp already exist\n",
      "-Create the tpr file npt_1GI2_vdwq_12.tpr\n",
      "create_tpr not launched npt_1GI2_vdwq_12.tpr already exist\n",
      "-Launch the simulation npt_1GI2_vdwq_12.tpr\n",
      "Simulation not launched npt_1GI2_vdwq_12.gro already exist\n",
      "Mdp files not created, prod_1GI2_vdwq_12.mdp already exist\n",
      "-Create the tpr file prod_1GI2_vdwq_12.tpr\n",
      "create_tpr not launched prod_1GI2_vdwq_12.tpr already exist\n",
      "-Launch the simulation prod_1GI2_vdwq_12.tpr\n",
      "Simulation not launched prod_1GI2_vdwq_12.gro already exist\n",
      "Mdp files not created, em_1GI2_vdwq_13.mdp already exist\n",
      "-Create the tpr file em_1GI2_vdwq_13.tpr\n",
      "create_tpr not launched em_1GI2_vdwq_13.tpr already exist\n",
      "-Launch the simulation em_1GI2_vdwq_13.tpr\n",
      "Simulation not launched em_1GI2_vdwq_13.gro already exist\n",
      "Mdp files not created, nvt_1GI2_vdwq_13.mdp already exist\n",
      "-Create the tpr file nvt_1GI2_vdwq_13.tpr\n",
      "create_tpr not launched nvt_1GI2_vdwq_13.tpr already exist\n",
      "-Launch the simulation nvt_1GI2_vdwq_13.tpr\n",
      "Simulation not launched nvt_1GI2_vdwq_13.gro already exist\n",
      "Mdp files not created, npt_1GI2_vdwq_13.mdp already exist\n",
      "-Create the tpr file npt_1GI2_vdwq_13.tpr\n",
      "create_tpr not launched npt_1GI2_vdwq_13.tpr already exist\n",
      "-Launch the simulation npt_1GI2_vdwq_13.tpr\n",
      "Simulation not launched npt_1GI2_vdwq_13.gro already exist\n",
      "Mdp files not created, prod_1GI2_vdwq_13.mdp already exist\n",
      "-Create the tpr file prod_1GI2_vdwq_13.tpr\n",
      "create_tpr not launched prod_1GI2_vdwq_13.tpr already exist\n",
      "-Launch the simulation prod_1GI2_vdwq_13.tpr\n",
      "Simulation not launched prod_1GI2_vdwq_13.gro already exist\n",
      "Mdp files not created, em_1GI2_vdwq_14.mdp already exist\n",
      "-Create the tpr file em_1GI2_vdwq_14.tpr\n",
      "create_tpr not launched em_1GI2_vdwq_14.tpr already exist\n",
      "-Launch the simulation em_1GI2_vdwq_14.tpr\n",
      "Simulation not launched em_1GI2_vdwq_14.gro already exist\n",
      "Mdp files not created, nvt_1GI2_vdwq_14.mdp already exist\n",
      "-Create the tpr file nvt_1GI2_vdwq_14.tpr\n",
      "create_tpr not launched nvt_1GI2_vdwq_14.tpr already exist\n",
      "-Launch the simulation nvt_1GI2_vdwq_14.tpr\n",
      "Simulation not launched nvt_1GI2_vdwq_14.gro already exist\n",
      "Mdp files not created, npt_1GI2_vdwq_14.mdp already exist\n",
      "-Create the tpr file npt_1GI2_vdwq_14.tpr\n",
      "create_tpr not launched npt_1GI2_vdwq_14.tpr already exist\n",
      "-Launch the simulation npt_1GI2_vdwq_14.tpr\n",
      "Simulation not launched npt_1GI2_vdwq_14.gro already exist\n",
      "Mdp files not created, prod_1GI2_vdwq_14.mdp already exist\n",
      "-Create the tpr file prod_1GI2_vdwq_14.tpr\n",
      "create_tpr not launched prod_1GI2_vdwq_14.tpr already exist\n",
      "-Launch the simulation prod_1GI2_vdwq_14.tpr\n",
      "Simulation not launched prod_1GI2_vdwq_14.gro already exist\n",
      "Mdp files not created, em_1GI2_vdwq_15.mdp already exist\n",
      "-Create the tpr file em_1GI2_vdwq_15.tpr\n",
      "create_tpr not launched em_1GI2_vdwq_15.tpr already exist\n",
      "-Launch the simulation em_1GI2_vdwq_15.tpr\n",
      "Simulation not launched em_1GI2_vdwq_15.gro already exist\n",
      "Mdp files not created, nvt_1GI2_vdwq_15.mdp already exist\n",
      "-Create the tpr file nvt_1GI2_vdwq_15.tpr\n",
      "create_tpr not launched nvt_1GI2_vdwq_15.tpr already exist\n",
      "-Launch the simulation nvt_1GI2_vdwq_15.tpr\n",
      "Simulation not launched nvt_1GI2_vdwq_15.gro already exist\n",
      "Mdp files not created, npt_1GI2_vdwq_15.mdp already exist\n",
      "-Create the tpr file npt_1GI2_vdwq_15.tpr\n",
      "create_tpr not launched npt_1GI2_vdwq_15.tpr already exist\n",
      "-Launch the simulation npt_1GI2_vdwq_15.tpr\n"
     ]
    },
    {
     "name": "stdout",
     "output_type": "stream",
     "text": [
      "Simulation not launched npt_1GI2_vdwq_15.gro already exist\n",
      "Mdp files not created, prod_1GI2_vdwq_15.mdp already exist\n",
      "-Create the tpr file prod_1GI2_vdwq_15.tpr\n",
      "create_tpr not launched prod_1GI2_vdwq_15.tpr already exist\n",
      "-Launch the simulation prod_1GI2_vdwq_15.tpr\n",
      "Simulation not launched prod_1GI2_vdwq_15.gro already exist\n",
      "Mdp files not created, em_1GI2_vdwq_16.mdp already exist\n",
      "-Create the tpr file em_1GI2_vdwq_16.tpr\n",
      "create_tpr not launched em_1GI2_vdwq_16.tpr already exist\n",
      "-Launch the simulation em_1GI2_vdwq_16.tpr\n",
      "Simulation not launched em_1GI2_vdwq_16.gro already exist\n",
      "Mdp files not created, nvt_1GI2_vdwq_16.mdp already exist\n",
      "-Create the tpr file nvt_1GI2_vdwq_16.tpr\n",
      "create_tpr not launched nvt_1GI2_vdwq_16.tpr already exist\n",
      "-Launch the simulation nvt_1GI2_vdwq_16.tpr\n",
      "Simulation not launched nvt_1GI2_vdwq_16.gro already exist\n",
      "Mdp files not created, npt_1GI2_vdwq_16.mdp already exist\n",
      "-Create the tpr file npt_1GI2_vdwq_16.tpr\n",
      "create_tpr not launched npt_1GI2_vdwq_16.tpr already exist\n",
      "-Launch the simulation npt_1GI2_vdwq_16.tpr\n",
      "Simulation not launched npt_1GI2_vdwq_16.gro already exist\n",
      "Mdp files not created, prod_1GI2_vdwq_16.mdp already exist\n",
      "-Create the tpr file prod_1GI2_vdwq_16.tpr\n",
      "create_tpr not launched prod_1GI2_vdwq_16.tpr already exist\n",
      "-Launch the simulation prod_1GI2_vdwq_16.tpr\n",
      "Simulation not launched prod_1GI2_vdwq_16.gro already exist\n",
      "Mdp files not created, em_1GI2_vdwq_17.mdp already exist\n",
      "-Create the tpr file em_1GI2_vdwq_17.tpr\n",
      "create_tpr not launched em_1GI2_vdwq_17.tpr already exist\n",
      "-Launch the simulation em_1GI2_vdwq_17.tpr\n",
      "Simulation not launched em_1GI2_vdwq_17.gro already exist\n",
      "Mdp files not created, nvt_1GI2_vdwq_17.mdp already exist\n",
      "-Create the tpr file nvt_1GI2_vdwq_17.tpr\n",
      "create_tpr not launched nvt_1GI2_vdwq_17.tpr already exist\n",
      "-Launch the simulation nvt_1GI2_vdwq_17.tpr\n",
      "Simulation not launched nvt_1GI2_vdwq_17.gro already exist\n",
      "Mdp files not created, npt_1GI2_vdwq_17.mdp already exist\n",
      "-Create the tpr file npt_1GI2_vdwq_17.tpr\n",
      "create_tpr not launched npt_1GI2_vdwq_17.tpr already exist\n",
      "-Launch the simulation npt_1GI2_vdwq_17.tpr\n",
      "Simulation not launched npt_1GI2_vdwq_17.gro already exist\n",
      "Mdp files not created, prod_1GI2_vdwq_17.mdp already exist\n",
      "-Create the tpr file prod_1GI2_vdwq_17.tpr\n",
      "create_tpr not launched prod_1GI2_vdwq_17.tpr already exist\n",
      "-Launch the simulation prod_1GI2_vdwq_17.tpr\n",
      "Simulation not launched prod_1GI2_vdwq_17.gro already exist\n",
      "Mdp files not created, em_1GI2_vdwq_18.mdp already exist\n",
      "-Create the tpr file em_1GI2_vdwq_18.tpr\n",
      "create_tpr not launched em_1GI2_vdwq_18.tpr already exist\n",
      "-Launch the simulation em_1GI2_vdwq_18.tpr\n",
      "Simulation not launched em_1GI2_vdwq_18.gro already exist\n",
      "Mdp files not created, nvt_1GI2_vdwq_18.mdp already exist\n",
      "-Create the tpr file nvt_1GI2_vdwq_18.tpr\n",
      "create_tpr not launched nvt_1GI2_vdwq_18.tpr already exist\n",
      "-Launch the simulation nvt_1GI2_vdwq_18.tpr\n",
      "Simulation not launched nvt_1GI2_vdwq_18.gro already exist\n",
      "Mdp files not created, npt_1GI2_vdwq_18.mdp already exist\n",
      "-Create the tpr file npt_1GI2_vdwq_18.tpr\n",
      "create_tpr not launched npt_1GI2_vdwq_18.tpr already exist\n",
      "-Launch the simulation npt_1GI2_vdwq_18.tpr\n",
      "Simulation not launched npt_1GI2_vdwq_18.gro already exist\n",
      "Mdp files not created, prod_1GI2_vdwq_18.mdp already exist\n",
      "-Create the tpr file prod_1GI2_vdwq_18.tpr\n",
      "create_tpr not launched prod_1GI2_vdwq_18.tpr already exist\n",
      "-Launch the simulation prod_1GI2_vdwq_18.tpr\n",
      "Simulation not launched prod_1GI2_vdwq_18.gro already exist\n",
      "Mdp files not created, em_1GI2_vdwq_19.mdp already exist\n",
      "-Create the tpr file em_1GI2_vdwq_19.tpr\n",
      "create_tpr not launched em_1GI2_vdwq_19.tpr already exist\n",
      "-Launch the simulation em_1GI2_vdwq_19.tpr\n",
      "Simulation not launched em_1GI2_vdwq_19.gro already exist\n",
      "Mdp files not created, nvt_1GI2_vdwq_19.mdp already exist\n",
      "-Create the tpr file nvt_1GI2_vdwq_19.tpr\n",
      "create_tpr not launched nvt_1GI2_vdwq_19.tpr already exist\n",
      "-Launch the simulation nvt_1GI2_vdwq_19.tpr\n",
      "Simulation not launched nvt_1GI2_vdwq_19.gro already exist\n",
      "Mdp files not created, npt_1GI2_vdwq_19.mdp already exist\n",
      "-Create the tpr file npt_1GI2_vdwq_19.tpr\n",
      "create_tpr not launched npt_1GI2_vdwq_19.tpr already exist\n",
      "-Launch the simulation npt_1GI2_vdwq_19.tpr\n",
      "Simulation not launched npt_1GI2_vdwq_19.gro already exist\n",
      "Mdp files not created, prod_1GI2_vdwq_19.mdp already exist\n",
      "-Create the tpr file prod_1GI2_vdwq_19.tpr\n",
      "create_tpr not launched prod_1GI2_vdwq_19.tpr already exist\n",
      "-Launch the simulation prod_1GI2_vdwq_19.tpr\n",
      "Simulation not launched prod_1GI2_vdwq_19.gro already exist\n",
      "-Extract bar energy\n",
      "gmx bar -f data_lig_trypsin_1GI2/mol_prot_free_ener/03_prod/prod_1GI2_vdwq_00.xvg data_lig_trypsin_1GI2/mol_prot_free_ener/03_prod/prod_1GI2_vdwq_01.xvg data_lig_trypsin_1GI2/mol_prot_free_ener/03_prod/prod_1GI2_vdwq_02.xvg data_lig_trypsin_1GI2/mol_prot_free_ener/03_prod/prod_1GI2_vdwq_03.xvg data_lig_trypsin_1GI2/mol_prot_free_ener/03_prod/prod_1GI2_vdwq_04.xvg data_lig_trypsin_1GI2/mol_prot_free_ener/03_prod/prod_1GI2_vdwq_05.xvg data_lig_trypsin_1GI2/mol_prot_free_ener/03_prod/prod_1GI2_vdwq_06.xvg data_lig_trypsin_1GI2/mol_prot_free_ener/03_prod/prod_1GI2_vdwq_07.xvg data_lig_trypsin_1GI2/mol_prot_free_ener/03_prod/prod_1GI2_vdwq_08.xvg data_lig_trypsin_1GI2/mol_prot_free_ener/03_prod/prod_1GI2_vdwq_09.xvg data_lig_trypsin_1GI2/mol_prot_free_ener/03_prod/prod_1GI2_vdwq_10.xvg data_lig_trypsin_1GI2/mol_prot_free_ener/03_prod/prod_1GI2_vdwq_11.xvg data_lig_trypsin_1GI2/mol_prot_free_ener/03_prod/prod_1GI2_vdwq_12.xvg data_lig_trypsin_1GI2/mol_prot_free_ener/03_prod/prod_1GI2_vdwq_13.xvg data_lig_trypsin_1GI2/mol_prot_free_ener/03_prod/prod_1GI2_vdwq_14.xvg data_lig_trypsin_1GI2/mol_prot_free_ener/03_prod/prod_1GI2_vdwq_15.xvg data_lig_trypsin_1GI2/mol_prot_free_ener/03_prod/prod_1GI2_vdwq_16.xvg data_lig_trypsin_1GI2/mol_prot_free_ener/03_prod/prod_1GI2_vdwq_17.xvg data_lig_trypsin_1GI2/mol_prot_free_ener/03_prod/prod_1GI2_vdwq_18.xvg data_lig_trypsin_1GI2/mol_prot_free_ener/03_prod/prod_1GI2_vdwq_19.xvg -o bar.xvg -oi barint.xvg -oh histogram.xvg\n",
      "total      0 -     19,   DG 273.95 +/-  2.92\n",
      "DDG = 273.95 +/- 2.92 KJ/mol-1\n",
      "DDG = 65.48 +/- 0.70 Kcal/mol-1\n"
     ]
    }
   ],
   "source": [
    "ener = start_sys.free_ener(out_folder=os.path.join(DATA_OUT, 'mol_prot_free_ener'),\n",
    "                           mol_name=MOL_ID, lambda_elec_num=10, lambda_vdw_num=10,\n",
    "                           em_steps=5000, nvt_time=10, npt_time=10, prod_time=100)\n",
    "\n",
    "#ener = start_sys.free_ener(out_folder=os.path.join(DATA_OUT, 'mol_prot_free_ener'),\n",
    "#                    mol_name='120', lambda_elec_num=5, lambda_vdw_num=5,\n",
    "#                    em_steps=5000, nvt_time=5, npt_time=5, prod_time=10)"
   ]
  },
  {
   "cell_type": "code",
   "execution_count": 27,
   "metadata": {},
   "outputs": [
    {
     "name": "stdout",
     "output_type": "stream",
     "text": [
      "DDG = -17.99 +/- 1.13\n"
     ]
    }
   ],
   "source": [
    "print('DDG = {:.2f} +/- {:.2f}'.format( (ener_solv['DG'] - ener['DG'])/4.184, \n",
    "                                       ((ener_solv['std']**2 + ener['std']**2)**(0.5))/4.184))"
   ]
  },
  {
   "cell_type": "code",
   "execution_count": 18,
   "metadata": {},
   "outputs": [
    {
     "ename": "AttributeError",
     "evalue": "'dict' object has no attribute 'columns'",
     "output_type": "error",
     "traceback": [
      "\u001b[0;31m---------------------------------------------------------------------------\u001b[0m",
      "\u001b[0;31mAttributeError\u001b[0m                            Traceback (most recent call last)",
      "\u001b[0;32m<ipython-input-18-73ddf1dbc8a7>\u001b[0m in \u001b[0;36m<module>\u001b[0;34m\u001b[0m\n\u001b[0;32m----> 1\u001b[0;31m \u001b[0mtest\u001b[0m \u001b[0;34m=\u001b[0m \u001b[0mtable\u001b[0m\u001b[0;34m.\u001b[0m\u001b[0mcolumns\u001b[0m\u001b[0;34m[\u001b[0m\u001b[0;36m0\u001b[0m\u001b[0;34m]\u001b[0m\u001b[0;34m\u001b[0m\u001b[0;34m\u001b[0m\u001b[0m\n\u001b[0m",
      "\u001b[0;31mAttributeError\u001b[0m: 'dict' object has no attribute 'columns'"
     ]
    }
   ],
   "source": [
    "test = table.columns[0]"
   ]
  },
  {
   "cell_type": "code",
   "execution_count": null,
   "metadata": {},
   "outputs": [],
   "source": [
    "test = test.replace('\\\\x','')\n",
    "test = test.replace('\\\\f{}','')\n",
    "test"
   ]
  },
  {
   "cell_type": "code",
   "execution_count": null,
   "metadata": {},
   "outputs": [],
   "source": [
    "test = ['a', 'b', 'c']\n",
    "\" \".join(test)"
   ]
  },
  {
   "cell_type": "code",
   "execution_count": null,
   "metadata": {},
   "outputs": [],
   "source": [
    "math.sqrt((table.iloc[:,2]**2).sum())"
   ]
  },
  {
   "cell_type": "code",
   "execution_count": null,
   "metadata": {},
   "outputs": [],
   "source": [
    "table"
   ]
  },
  {
   "cell_type": "code",
   "execution_count": null,
   "metadata": {},
   "outputs": [],
   "source": [
    "from scipy.constants import R, Boltzmann, N_A\n",
    "import math\n",
    "\n",
    "#math.sqrt((table.iloc[:, 2] *  Boltzmann*310*N_A*1e-3 # kT to KJ.mol-1"
   ]
  },
  {
   "cell_type": "code",
   "execution_count": null,
   "metadata": {},
   "outputs": [],
   "source": [
    "math.sqrt(((table.iloc[:, 2] *  Boltzmann*310*N_A*1e-3)**2).sum())*(len(table.iloc[:, 2])+1)/len(table.iloc[:, 2])"
   ]
  },
  {
   "cell_type": "code",
   "execution_count": null,
   "metadata": {},
   "outputs": [],
   "source": [
    "from scipy.constants import R, Boltzmann, N_A\n",
    "\n",
    "Boltzmann*310*N_A"
   ]
  },
  {
   "cell_type": "code",
   "execution_count": null,
   "metadata": {},
   "outputs": [],
   "source": [
    "table.iloc[:, 2] *  Boltzmann*310*N_A*1e-3"
   ]
  },
  {
   "cell_type": "code",
   "execution_count": null,
   "metadata": {},
   "outputs": [],
   "source": [
    "len(table.iloc[:, 2])"
   ]
  },
  {
   "cell_type": "code",
   "execution_count": 29,
   "metadata": {},
   "outputs": [
    {
     "data": {
      "text/plain": [
       "26.22"
      ]
     },
     "execution_count": 29,
     "metadata": {},
     "output_type": "execute_result"
    }
   ],
   "source": [
    "78.41-52.19"
   ]
  },
  {
   "cell_type": "code",
   "execution_count": null,
   "metadata": {},
   "outputs": [],
   "source": []
  }
 ],
 "metadata": {
  "kernelspec": {
   "display_name": "Python 3",
   "language": "python",
   "name": "python3"
  },
  "language_info": {
   "codemirror_mode": {
    "name": "ipython",
    "version": 3
   },
   "file_extension": ".py",
   "mimetype": "text/x-python",
   "name": "python",
   "nbconvert_exporter": "python",
   "pygments_lexer": "ipython3",
   "version": "3.8.2"
  }
 },
 "nbformat": 4,
 "nbformat_minor": 4
}
