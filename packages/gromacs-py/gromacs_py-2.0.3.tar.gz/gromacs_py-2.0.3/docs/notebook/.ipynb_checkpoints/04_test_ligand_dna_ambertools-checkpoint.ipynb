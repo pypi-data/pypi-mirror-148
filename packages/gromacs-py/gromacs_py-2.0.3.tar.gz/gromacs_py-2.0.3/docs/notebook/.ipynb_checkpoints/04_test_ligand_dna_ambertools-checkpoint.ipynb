{
 "cells": [
  {
   "cell_type": "code",
   "execution_count": 1,
   "metadata": {},
   "outputs": [],
   "source": [
    "import os\n",
    "import urllib.request"
   ]
  },
  {
   "cell_type": "code",
   "execution_count": 2,
   "metadata": {},
   "outputs": [],
   "source": [
    "from gromacs_py import gmx\n",
    "gmx.show_log()\n",
    "from gromacs_py.tools import ambertools\n",
    "ambertools.show_log()\n",
    "\n",
    "from pdb_manip_py import pdb_manip"
   ]
  },
  {
   "cell_type": "code",
   "execution_count": 3,
   "metadata": {},
   "outputs": [
    {
     "name": "stdout",
     "output_type": "stream",
     "text": [
      " 00_basic_example.ipynb\r\n",
      " 01_monitor_test.ipynb\r\n",
      " 02_cyclic_amber.ipynb\r\n",
      " 03_test_ligand_ambertools-Copy1.ipynb\r\n",
      " 03_test_ligand_ambertools-Copy2.ipynb\r\n",
      " 03_test_ligand_ambertools.ipynb\r\n",
      " 04_test_ligand_dna_ambertools.ipynb\r\n",
      " 05_free_energy_of_solvation_AA.ipynb\r\n",
      " 05_free_energy_of_solvation_octanol.ipynb\r\n",
      " 05_test_free_energy_calc_2-Copy1.ipynb\r\n",
      " 05_test_free_energy_calc_2-Copy2.ipynb\r\n",
      " 05_test_free_energy_calc_2-Copy3.ipynb\r\n",
      " 05_test_free_energy_calc_2.ipynb\r\n",
      " 05_test_ligand_ambertools_trypsin-Copy1.ipynb\r\n",
      " 05_test_ligand_ambertools_trypsin.ipynb\r\n",
      " \u001b[0m\u001b[01;34mdata_lig_dna\u001b[0m/\r\n",
      " \u001b[01;34mdata_lig_trypsin\u001b[0m/\r\n",
      " \u001b[01;34mdata_lig_trypsin_1GI2\u001b[0m/\r\n",
      " \u001b[01;34mdata_lig_trypsin_1LI2\u001b[0m/\r\n",
      " \u001b[01;34mdata_lig_trypsin_1O2Q\u001b[0m/\r\n",
      " \u001b[01;34mdata_sim\u001b[0m/\r\n",
      " \u001b[01;34mfree_ener_solv_aa\u001b[0m/\r\n",
      "'#histogram.xvg.1#'\r\n",
      " phenol_h.mol2\r\n",
      " phenol_h.pdb\r\n",
      " phenol.pdb\r\n",
      " Untitled1.ipynb\r\n",
      " Untitled.ipynb\r\n"
     ]
    }
   ],
   "source": [
    "ls"
   ]
  },
  {
   "cell_type": "code",
   "execution_count": 4,
   "metadata": {},
   "outputs": [
    {
     "name": "stdout",
     "output_type": "stream",
     "text": [
      "/home/murail/Documents/Code/gromacs_py/docs/notebook\n"
     ]
    }
   ],
   "source": [
    "cd /home/murail/Documents/Code/gromacs_py/docs/notebook/"
   ]
  },
  {
   "cell_type": "code",
   "execution_count": 5,
   "metadata": {},
   "outputs": [],
   "source": [
    "rm -r data_lig_dna"
   ]
  },
  {
   "cell_type": "markdown",
   "metadata": {},
   "source": [
    "- 453D -> 1:20 m\n",
    "- 1D30 -> 27 s"
   ]
  },
  {
   "cell_type": "code",
   "execution_count": 6,
   "metadata": {},
   "outputs": [],
   "source": [
    "DATA_OUT = 'data_lig_dna'\n",
    "PDB_ID = '1D30'\n",
    "os.makedirs(DATA_OUT, exist_ok = True)\n",
    "\n",
    "raw_pdb = urllib.request.urlretrieve('http://files.rcsb.org/download/{}.pdb'.format(PDB_ID),\n",
    "                           '{}/{}.pdb'.format(DATA_OUT, PDB_ID))"
   ]
  },
  {
   "cell_type": "code",
   "execution_count": 7,
   "metadata": {},
   "outputs": [],
   "source": [
    "# Extract first conf:\n",
    "\n",
    "#pdb_multi = pdb_manip.Multi_Coor(raw_pdb[0])\n",
    "#pdb_model_1 = '{}/{}_model_1.pdb'.format(DATA_OUT, PDB_ID)\n",
    "#pdb_multi.coor_list[0].write_pdb(pdb_model_1)\n",
    "\n",
    "pdb_model_1 = '{}/{}.pdb'.format(DATA_OUT, PDB_ID)"
   ]
  },
  {
   "cell_type": "code",
   "execution_count": 8,
   "metadata": {
    "scrolled": true
   },
   "outputs": [
    {
     "name": "stdout",
     "output_type": "stream",
     "text": [
      "Succeed to read file ../1D30.pdb ,  532 atoms found\n",
      "Succeed to read file ../1D30.pdb ,  532 atoms found\n",
      "Succeed to save file tmp_pdb2pqr.pdb\n",
      "pdb2pqr_cli --ff AMBER --ffout AMBER --chain --ph-calc-method=propka --with-ph=7.00 tmp_pdb2pqr.pdb 00_1D30.pqr\n",
      "Succeed to read file 00_1D30.pqr ,  758 atoms found\n",
      "Succeed to read file ../1D30.pdb ,  532 atoms found\n",
      "Succeed to save file DAP.pdb\n",
      "reduce -build -nuclear DAP.pdb\n",
      "Succeed to save file DAP_h.pdb\n",
      "Succeed to read file DAP_h.pdb ,  36 atoms found\n",
      "Succeed to save file DAP_h_unique.pdb\n",
      "acpype.py -i DAP_h_unique.pdb -b DAP -c bcc -a gaff -o gmx -n 0\n",
      "Succeed to create topologie in DAP\n",
      "DAP\n",
      "Succeed to save file 01_1D30_good_his.pdb\n",
      "-Create topologie\n",
      "gmx pdb2gmx -f 01_1D30_good_his.pdb -o 1D30_pdb2gmx.pdb -p 1D30_pdb2gmx.top -i 1D30_posre.itp -water tip3p -ff amber99sb-ildn -ignh -vsite none\n",
      "Add Molecule: DAP\n",
      "Add 1 mol /home/murail/Documents/Code/gromacs_py/docs/notebook/data_lig_dna/prot_top/DAP.acpype/DAP_GMX.itp\n",
      "Concat files: ['1D30_pdb2gmx.pdb', '/home/murail/Documents/Code/gromacs_py/docs/notebook/data_lig_dna/prot_top/DAP_h.pdb']\n",
      "Succeed to save concat file:  1D30_pdb2gmx_mol.pdb\n"
     ]
    }
   ],
   "source": [
    "md_sys = gmx.GmxSys(name=PDB_ID, coor_file=pdb_model_1)\n",
    "md_sys.prepare_top(out_folder=os.path.join(DATA_OUT, 'prot_top'),\n",
    "                   ff='amber99sb-ildn', include_mol={'DAP':0})"
   ]
  },
  {
   "cell_type": "code",
   "execution_count": 9,
   "metadata": {},
   "outputs": [
    {
     "name": "stdout",
     "output_type": "stream",
     "text": [
      "-Create pbc box\n",
      "gmx editconf -f data_lig_dna/prot_top/1D30_pdb2gmx_mol.pdb -o data_lig_dna/prot_top/1D30_pdb2gmx_mol_box.pdb -bt dodecahedron -d 1.0\n",
      "WARNING !!! ADDING unusual parameter : \"emtol\"in the mdp file None\n",
      "-Create the tpr file Init_em_1D30.tpr\n",
      "gmx grompp -f Init_em_1D30.mdp -c ../prot_top/1D30_pdb2gmx_mol_box.pdb -r ../prot_top/1D30_pdb2gmx_mol_box.pdb -p ../prot_top/1D30_pdb2gmx_mol.top -po out_Init_em_1D30.mdp -o Init_em_1D30.tpr -maxwarn 3\n",
      "-Launch the simulation Init_em_1D30.tpr\n",
      "gmx mdrun -s Init_em_1D30.tpr -deffnm Init_em_1D30 -nt 0 -ntmpi 0 -nsteps -2 -nocopyright\n"
     ]
    },
    {
     "data": {
      "application/vnd.jupyter.widget-view+json": {
       "model_id": "c6b3b46bbf7b4b25882d533955cf9344",
       "version_major": 2,
       "version_minor": 0
      },
      "text/plain": [
       "HBox(children=(FloatProgress(value=0.0, max=10000.0), HTML(value='')))"
      ]
     },
     "metadata": {},
     "output_type": "display_data"
    },
    {
     "name": "stdout",
     "output_type": "stream",
     "text": [
      "\n",
      "WARNING !!! ADDING unusual parameter : \"emtol\"in the mdp file Init_em_1D30.mdp\n",
      "-Create the tpr file 1D30.tpr\n",
      "gmx grompp -f 1D30.mdp -c Init_em_1D30.gro -r Init_em_1D30.gro -p ../prot_top/1D30_pdb2gmx_mol.top -po out_1D30.mdp -o 1D30.tpr -maxwarn 3\n",
      "-Launch the simulation 1D30.tpr\n",
      "gmx mdrun -s 1D30.tpr -deffnm 1D30 -nt 0 -ntmpi 0 -nsteps -2 -nocopyright\n"
     ]
    },
    {
     "data": {
      "application/vnd.jupyter.widget-view+json": {
       "model_id": "4164427d3d6449549e90184306c206b2",
       "version_major": 2,
       "version_minor": 0
      },
      "text/plain": [
       "HBox(children=(FloatProgress(value=0.0, max=10000.0), HTML(value='')))"
      ]
     },
     "metadata": {},
     "output_type": "display_data"
    },
    {
     "name": "stdout",
     "output_type": "stream",
     "text": [
      "\n"
     ]
    }
   ],
   "source": [
    "md_sys.em_2_steps(out_folder=os.path.join(DATA_OUT, 'prot_em'),\n",
    "                  no_constr_nsteps=10000,\n",
    "                  constr_nsteps=10000,\n",
    "                  posres=\"\",\n",
    "                  emtol=0.1, nstxout=100, maxwarn=3,\n",
    "                  create_box_flag=True)"
   ]
  },
  {
   "cell_type": "code",
   "execution_count": 10,
   "metadata": {},
   "outputs": [
    {
     "data": {
      "application/vnd.jupyter.widget-view+json": {
       "model_id": "fcb0d39f2f69489eb5071d5585d20768",
       "version_major": 2,
       "version_minor": 0
      },
      "text/plain": [
       "_ColormakerRegistry()"
      ]
     },
     "metadata": {},
     "output_type": "display_data"
    },
    {
     "name": "stdout",
     "output_type": "stream",
     "text": [
      "-Convert trj/coor\n",
      "gmx trjconv -f data_lig_dna/prot_em/1D30.gro -o data_lig_dna/prot_em/1D30_compact.pdb -s data_lig_dna/prot_em/1D30.tpr -ur compact -pbc none\n",
      "Succeed to read file data_lig_dna/prot_em/1D30_compact.pdb ,  794 atoms found\n"
     ]
    },
    {
     "data": {
      "application/vnd.jupyter.widget-view+json": {
       "model_id": "9c777d141d494206822286939a08b8c2",
       "version_major": 2,
       "version_minor": 0
      },
      "text/plain": [
       "NGLWidget()"
      ]
     },
     "metadata": {},
     "output_type": "display_data"
    }
   ],
   "source": [
    "view = md_sys.view_coor()\n",
    "view"
   ]
  },
  {
   "cell_type": "code",
   "execution_count": 11,
   "metadata": {},
   "outputs": [
    {
     "name": "stdout",
     "output_type": "stream",
     "text": [
      "-Solvate the pbc box\n",
      "Copy topologie file and dependancies\n",
      "Copy topologie file and dependancies\n",
      "-Create the tpr file genion_1D30_water_ion.tpr\n",
      "gmx grompp -f ../../../../gromacs_py/template/mini.mdp -c 1D30_water.pdb -r 1D30_water.pdb -p 1D30_water_ion.top -po out_mini.mdp -o genion_1D30_water_ion.tpr -maxwarn 3\n",
      "-Add ions to the system with an ionic concentration of 0.15 M , sytem charge = -22.0 water num= 6069\n",
      "Add ions : NA : 22   CL : 0\n",
      "gmx genion -s genion_1D30_water_ion.tpr -p 1D30_water_ion.top -o 1D30_water_ion.gro -np 22 -pname NA -nn 0 -nname CL\n",
      "name         : 1D30\n",
      "sim_name     : genion_1D30_water_ion\n",
      "coor_file    : data_lig_dna/sys_top/1D30_water_ion.gro\n",
      "top_file     : data_lig_dna/sys_top/1D30_water_ion.top\n",
      "tpr          : data_lig_dna/sys_top/genion_1D30_water_ion.tpr\n",
      "mdp          : ../../gromacs_py/template/mini.mdp\n",
      "xtc          : data_lig_dna/prot_em/1D30.trr\n",
      "edr          : data_lig_dna/prot_em/1D30.edr\n",
      "log          : data_lig_dna/prot_em/1D30.log\n",
      "nt           : 0\n",
      "ntmpi        : 0\n",
      "sys_history  : 2\n"
     ]
    }
   ],
   "source": [
    "md_sys.solvate_add_ions(out_folder=os.path.join(DATA_OUT, 'sys_top'),\n",
    "                        ion_C=0.15, maxwarn=3, create_box_flag=False)\n",
    "md_sys.display()\n"
   ]
  },
  {
   "cell_type": "code",
   "execution_count": 12,
   "metadata": {
    "scrolled": true
   },
   "outputs": [
    {
     "name": "stdout",
     "output_type": "stream",
     "text": [
      "-Create the tpr file Init_em_1D30.tpr\n",
      "gmx grompp -f Init_em_1D30.mdp -c ../sys_top/1D30_water_ion.gro -r ../sys_top/1D30_water_ion.gro -p ../sys_top/1D30_water_ion.top -po out_Init_em_1D30.mdp -o Init_em_1D30.tpr -maxwarn 3\n",
      "-Launch the simulation Init_em_1D30.tpr\n",
      "gmx mdrun -s Init_em_1D30.tpr -deffnm Init_em_1D30 -nt 0 -ntmpi 0 -nsteps -2 -nocopyright\n"
     ]
    },
    {
     "data": {
      "application/vnd.jupyter.widget-view+json": {
       "model_id": "95c1ff1ee26549a5bfa944f11c812918",
       "version_major": 2,
       "version_minor": 0
      },
      "text/plain": [
       "HBox(children=(FloatProgress(value=0.0, max=10000.0), HTML(value='')))"
      ]
     },
     "metadata": {},
     "output_type": "display_data"
    },
    {
     "name": "stdout",
     "output_type": "stream",
     "text": [
      "\n",
      "-Create the tpr file 1D30.tpr\n",
      "gmx grompp -f 1D30.mdp -c Init_em_1D30.gro -r Init_em_1D30.gro -p ../sys_top/1D30_water_ion.top -po out_1D30.mdp -o 1D30.tpr -maxwarn 3\n",
      "-Launch the simulation 1D30.tpr\n",
      "gmx mdrun -s 1D30.tpr -deffnm 1D30 -nt 0 -ntmpi 0 -nsteps -2 -nocopyright\n"
     ]
    },
    {
     "data": {
      "application/vnd.jupyter.widget-view+json": {
       "model_id": "b0922f9108db4bf4af61bc9ca13976d7",
       "version_major": 2,
       "version_minor": 0
      },
      "text/plain": [
       "HBox(children=(FloatProgress(value=0.0, max=10000.0), HTML(value='')))"
      ]
     },
     "metadata": {},
     "output_type": "display_data"
    },
    {
     "name": "stdout",
     "output_type": "stream",
     "text": [
      "\n"
     ]
    }
   ],
   "source": [
    "md_sys.em_2_steps(out_folder=os.path.join(DATA_OUT, 'sys_em'),\n",
    "                  no_constr_nsteps=10000,\n",
    "                  constr_nsteps=10000,\n",
    "                  posres=\"\",maxwarn=3)"
   ]
  },
  {
   "cell_type": "code",
   "execution_count": 13,
   "metadata": {},
   "outputs": [
    {
     "name": "stdout",
     "output_type": "stream",
     "text": [
      "-Create the tpr file equi_HA_short_1D30.tpr\n",
      "gmx grompp -f equi_HA_short_1D30.mdp -c ../sys_em/1D30.gro -r ../sys_em/1D30.gro -p ../sys_top/1D30_water_ion.top -po out_equi_HA_short_1D30.mdp -o equi_HA_short_1D30.tpr -maxwarn 3\n",
      "-Launch the simulation equi_HA_short_1D30.tpr\n",
      "gmx mdrun -s equi_HA_short_1D30.tpr -deffnm equi_HA_short_1D30 -nt 0 -ntmpi 0 -nsteps -2 -nocopyright\n"
     ]
    },
    {
     "data": {
      "application/vnd.jupyter.widget-view+json": {
       "model_id": "5084a7de9cd040aab941c8257f3640b5",
       "version_major": 2,
       "version_minor": 0
      },
      "text/plain": [
       "HBox(children=(FloatProgress(value=0.0, max=20000.0), HTML(value='')))"
      ]
     },
     "metadata": {},
     "output_type": "display_data"
    },
    {
     "name": "stdout",
     "output_type": "stream",
     "text": [
      "\n"
     ]
    }
   ],
   "source": [
    "mdp_options = {'nsteps': 20000,\n",
    "               'define': '-DPOSRES', 'dt': 0.0005,\n",
    "               'tc-grps': 'DNA DAP Water_and_ions',\n",
    "               'tau_t': '0.1 0.1 0.1',\n",
    "               'ref_t' : '310 310 310'}\n",
    "\n",
    "equi_template_mdp = os.path.join(gmx.GROMACS_MOD_DIRNAME,\n",
    "                                 \"template/equi.mdp\")\n",
    "md_sys.run_md_sim(out_folder=os.path.join(DATA_OUT, \"sys_short_equi\"),\n",
    "                  name=\"equi_HA_short_\" + PDB_ID,\n",
    "                  mdp_template=equi_template_mdp,\n",
    "                  mdp_options=mdp_options, maxwarn=3)"
   ]
  },
  {
   "cell_type": "code",
   "execution_count": 14,
   "metadata": {},
   "outputs": [
    {
     "name": "stdout",
     "output_type": "stream",
     "text": [
      "-Create the tpr file equi_HA_1D30.tpr\n",
      "gmx grompp -f equi_HA_1D30.mdp -c ../../sys_short_equi/equi_HA_short_1D30.gro -r ../../sys_short_equi/equi_HA_short_1D30.gro -p ../../sys_top/1D30_water_ion.top -po out_equi_HA_1D30.mdp -o equi_HA_1D30.tpr -maxwarn 3\n",
      "-Launch the simulation equi_HA_1D30.tpr\n",
      "gmx mdrun -s equi_HA_1D30.tpr -deffnm equi_HA_1D30 -nt 0 -ntmpi 0 -nsteps -2 -nocopyright\n"
     ]
    },
    {
     "data": {
      "application/vnd.jupyter.widget-view+json": {
       "model_id": "a6e583743a3c4808ae4a37a1d553e50c",
       "version_major": 2,
       "version_minor": 0
      },
      "text/plain": [
       "HBox(children=(FloatProgress(value=0.0, max=250000.0), HTML(value='')))"
      ]
     },
     "metadata": {},
     "output_type": "display_data"
    },
    {
     "name": "stdout",
     "output_type": "stream",
     "text": [
      "\n",
      "-Create the tpr file equi_CA_1D30.tpr\n",
      "gmx grompp -f equi_CA_1D30.mdp -c ../00_equi_HA/equi_HA_1D30.gro -r ../../sys_short_equi/equi_HA_short_1D30.gro -p ../../sys_top/1D30_water_ion.top -po out_equi_CA_1D30.mdp -o equi_CA_1D30.tpr -maxwarn 3\n",
      "-Launch the simulation equi_CA_1D30.tpr\n",
      "gmx mdrun -s equi_CA_1D30.tpr -deffnm equi_CA_1D30 -nt 0 -ntmpi 0 -nsteps -2 -nocopyright\n"
     ]
    },
    {
     "data": {
      "application/vnd.jupyter.widget-view+json": {
       "model_id": "cd53c707f266499ba66124dcd658d8e1",
       "version_major": 2,
       "version_minor": 0
      },
      "text/plain": [
       "HBox(children=(FloatProgress(value=0.0, max=250000.0), HTML(value='')))"
      ]
     },
     "metadata": {},
     "output_type": "display_data"
    },
    {
     "name": "stdout",
     "output_type": "stream",
     "text": [
      "\n",
      "-Create the tpr file equi_CA_LOW_1D30.tpr\n",
      "gmx grompp -f equi_CA_LOW_1D30.mdp -c ../01_equi_CA/equi_CA_1D30.gro -r ../../sys_short_equi/equi_HA_short_1D30.gro -p ../../sys_top/1D30_water_ion.top -po out_equi_CA_LOW_1D30.mdp -o equi_CA_LOW_1D30.tpr -maxwarn 3\n",
      "-Launch the simulation equi_CA_LOW_1D30.tpr\n",
      "gmx mdrun -s equi_CA_LOW_1D30.tpr -deffnm equi_CA_LOW_1D30 -nt 0 -ntmpi 0 -nsteps -2 -nocopyright\n"
     ]
    },
    {
     "data": {
      "application/vnd.jupyter.widget-view+json": {
       "model_id": "6ddd58d3155b48c09bcd98b2462077d5",
       "version_major": 2,
       "version_minor": 0
      },
      "text/plain": [
       "HBox(children=(FloatProgress(value=0.0, max=500000.0), HTML(value='')))"
      ]
     },
     "metadata": {},
     "output_type": "display_data"
    },
    {
     "name": "stdout",
     "output_type": "stream",
     "text": [
      "\n"
     ]
    }
   ],
   "source": [
    "HA_time = 0.25\n",
    "CA_time = 0.5\n",
    "CA_LOW_time = 1.0\n",
    "dt = 0.002\n",
    "dt_HA = 0.001\n",
    "\n",
    "mdp_options = {'tc-grps': 'DNA DAP Water_and_ions',\n",
    "               'tau_t': '0.1 0.1 0.1',\n",
    "               'ref_t' : '310 310 310'}\n",
    "\n",
    "md_sys.equi_three_step(out_folder=os.path.join(DATA_OUT, 'sys_equi'),\n",
    "                       nsteps_HA=1000 * HA_time / dt_HA,\n",
    "                       nsteps_CA=1000 * CA_time / dt,\n",
    "                       nsteps_CA_LOW=1000 * CA_LOW_time / dt,\n",
    "                       dt=dt, dt_HA=dt_HA, maxwarn=3,\n",
    "                       **mdp_options)\n"
   ]
  },
  {
   "cell_type": "code",
   "execution_count": 15,
   "metadata": {},
   "outputs": [
    {
     "name": "stdout",
     "output_type": "stream",
     "text": [
      "-Convert trj/coor\n",
      "convert trj not launched data_lig_dna/sys_equi/02_equi_CA_LOW/equi_CA_LOW_1D30_compact.xtc already exist\n"
     ]
    }
   ],
   "source": [
    "md_sys.convert_trj(select=\"2\\nSystem\", center=\"yes\")"
   ]
  },
  {
   "cell_type": "code",
   "execution_count": 16,
   "metadata": {},
   "outputs": [
    {
     "data": {
      "application/vnd.jupyter.widget-view+json": {
       "model_id": "d294ede399fe4c6d89c4fc10b087bb06",
       "version_major": 2,
       "version_minor": 0
      },
      "text/plain": [
       "NGLWidget(max_frame=66)"
      ]
     },
     "metadata": {},
     "output_type": "display_data"
    }
   ],
   "source": [
    "view = md_sys.view_traj()\n",
    "view"
   ]
  },
  {
   "cell_type": "code",
   "execution_count": null,
   "metadata": {},
   "outputs": [],
   "source": []
  }
 ],
 "metadata": {
  "kernelspec": {
   "display_name": "Python 3",
   "language": "python",
   "name": "python3"
  },
  "language_info": {
   "codemirror_mode": {
    "name": "ipython",
    "version": 3
   },
   "file_extension": ".py",
   "mimetype": "text/x-python",
   "name": "python",
   "nbconvert_exporter": "python",
   "pygments_lexer": "ipython3",
   "version": "3.8.2"
  }
 },
 "nbformat": 4,
 "nbformat_minor": 4
}
