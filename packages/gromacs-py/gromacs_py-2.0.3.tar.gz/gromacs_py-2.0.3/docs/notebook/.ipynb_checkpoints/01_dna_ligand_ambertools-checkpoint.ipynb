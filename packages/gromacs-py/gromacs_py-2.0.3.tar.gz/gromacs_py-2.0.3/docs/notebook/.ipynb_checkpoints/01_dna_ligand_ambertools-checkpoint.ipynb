{
 "cells": [
  {
   "cell_type": "markdown",
   "metadata": {},
   "source": [
    "# Ligand / DNA complex MD simulation\n",
    "\n",
    "### ``Gromacs_py`` basic example\n",
    "\n",
    "Here is an example of a short simulation of a G-quadruplex bound to a small molecule.\n",
    "Five successive steps are used:\n",
    "\n",
    "1. Topologie creation using ``GmxSys.prepare_top()``.\n",
    "2. Minimisation of the structure using ``GmxSys.em_2_steps()``.\n",
    "3. Solvation of the system using ``GmxSys.solvate_add_ions()``.\n",
    "4. Equilibration of the system using ``GmxSys.em_equi_three_step_iter_error()``.\n",
    "5. Production run using ``GmxSys.production()``.\n",
    "\n",
    "### Import"
   ]
  },
  {
   "cell_type": "code",
   "execution_count": 1,
   "metadata": {},
   "outputs": [],
   "source": [
    "import os\n",
    "import urllib.request\n",
    "import pandas as pd\n",
    "import seaborn as sns\n",
    "import matplotlib.pyplot as plt\n",
    "\n",
    "from gromacs_py import gmx"
   ]
  },
  {
   "cell_type": "code",
   "execution_count": 2,
   "metadata": {},
   "outputs": [
    {
     "name": "stdout",
     "output_type": "stream",
     "text": [
      "/home/murail/Documents/Code/gromacs_py/docs/notebook\n"
     ]
    }
   ],
   "source": [
    "cd /home/murail/Documents/Code/gromacs_py/docs/notebook"
   ]
  },
  {
   "cell_type": "code",
   "execution_count": 3,
   "metadata": {},
   "outputs": [],
   "source": [
    "rm -r data_lig_dna/"
   ]
  },
  {
   "cell_type": "markdown",
   "metadata": {},
   "source": [
    "## Simulation setup\n",
    "\n",
    "- Define a few variables for you simulation, like:\n",
    "    - simulation output folders\n",
    "    - ionic concentration\n",
    "    - number of minimisation steps\n",
    "    - equilibration and production time"
   ]
  },
  {
   "cell_type": "code",
   "execution_count": 3,
   "metadata": {},
   "outputs": [],
   "source": [
    "PDB_ID = '5W77'\n",
    "\n",
    "# Setup data location\n",
    "DATA_OUT = 'data_lig_dna'\n",
    "\n",
    "# System Setup\n",
    "vsite='none'\n",
    "ion_C = 0.15\n",
    "sys_top_folder = os.path.join(DATA_OUT, 'sys_top')\n",
    "\n",
    "# Energy Minimisation\n",
    "em_folder = os.path.join(DATA_OUT, 'em')\n",
    "em_sys_folder = os.path.join(DATA_OUT, 'sys_em')\n",
    "em_step_number = 10000\n",
    "\n",
    "# Equillibration\n",
    "equi_folder = os.path.join(DATA_OUT, 'sys_equi')\n",
    "HA_time = 0.5\n",
    "CA_time = 1.0\n",
    "CA_LOW_time = 2.0\n",
    "\n",
    "dt_HA = 0.001\n",
    "dt = 0.002\n",
    "\n",
    "HA_step = 1000 * HA_time / dt_HA\n",
    "CA_step = 1000 * CA_time / dt\n",
    "CA_LOW_step = 1000 * CA_LOW_time / dt\n",
    "\n",
    "# Production\n",
    "prod_folder = os.path.join(DATA_OUT, 'sys_prod')\n",
    "prod_time = 10.0\n",
    "\n",
    "prod_step = 1000 * prod_time / dt"
   ]
  },
  {
   "cell_type": "markdown",
   "metadata": {},
   "source": [
    "## Get PDB file from the ``rcsb.org`` website "
   ]
  },
  {
   "cell_type": "code",
   "execution_count": 4,
   "metadata": {},
   "outputs": [],
   "source": [
    "os.makedirs(DATA_OUT, exist_ok = True)\n",
    "\n",
    "raw_pdb = urllib.request.urlretrieve('http://files.rcsb.org/download/{}.pdb'.format(PDB_ID),\n",
    "                           '{}/{}.pdb'.format(DATA_OUT, PDB_ID))"
   ]
  },
  {
   "cell_type": "markdown",
   "metadata": {},
   "source": [
    "## Structure preparation"
   ]
  },
  {
   "cell_type": "markdown",
   "metadata": {},
   "source": [
    "- the PDB ID `5W77` is a NMR structure containing several models. Here we extract only the first model and save the coordinates."
   ]
  },
  {
   "cell_type": "code",
   "execution_count": 5,
   "metadata": {},
   "outputs": [],
   "source": [
    "from pdb_manip_py import pdb_manip"
   ]
  },
  {
   "cell_type": "code",
   "execution_count": 6,
   "metadata": {},
   "outputs": [],
   "source": [
    "# Extract first conf:\n",
    "\n",
    "pdb_multi = pdb_manip.Multi_Coor(raw_pdb[0])\n",
    "pdb_model_1 = '{}/{}_model_1.pdb'.format(DATA_OUT, PDB_ID)\n",
    "pdb_multi.coor_list[0].write_pdb(pdb_model_1)"
   ]
  },
  {
   "cell_type": "markdown",
   "metadata": {},
   "source": [
    "### Create the `GmxSys` object\n",
    "\n",
    "- Here we will include a ligand in the simulation\n",
    "- When using the `prepare_top()` function, the `include_mol` argument must be defined.\n",
    "- `include_mol` is a dict with the residue name as key, and the molecule SMILE as value eg:\n",
    "    - `include_mol={'9WP': 'Cc1c(c2c(o1)ccc(c2CN3CCCCCC3)O)C(=O)Nc4ccc(cc4)C(F)(F)F'}`"
   ]
  },
  {
   "cell_type": "code",
   "execution_count": 7,
   "metadata": {
    "scrolled": false
   },
   "outputs": [
    {
     "name": "stderr",
     "output_type": "stream",
     "text": [
      "residue(s) K not included, add this residue in ...\n"
     ]
    },
    {
     "name": "stdout",
     "output_type": "stream",
     "text": [
      "acpype -i 9WP_h_unique.pdb -b 9WP -c bcc -a gaff -o gmx\n"
     ]
    }
   ],
   "source": [
    "md_sys = gmx.GmxSys(name=PDB_ID, coor_file=pdb_model_1)\n",
    "md_sys.prepare_top(out_folder=os.path.join(DATA_OUT, 'dna_lig_top'),\n",
    "                   ff='amber99sb-ildn',\n",
    "                   include_mol={'9WP': 'Cc1c(c2c(o1)ccc(c2CN3CCCCCC3)O)C(=O)Nc4ccc(cc4)C(F)(F)F'})"
   ]
  },
  {
   "cell_type": "markdown",
   "metadata": {},
   "source": [
    "## Energy minimisation"
   ]
  },
  {
   "cell_type": "code",
   "execution_count": 8,
   "metadata": {},
   "outputs": [],
   "source": [
    "md_sys.em_2_steps(out_folder=os.path.join(DATA_OUT, 'prot_em'),\n",
    "                  no_constr_nsteps=10000,\n",
    "                  constr_nsteps=10000,\n",
    "                  posres=\"\",\n",
    "                  emtol=0.1, nstxout=100, maxwarn=3,\n",
    "                  create_box_flag=True)"
   ]
  },
  {
   "cell_type": "markdown",
   "metadata": {},
   "source": [
    "### 3D vizualisation using `nglview`\n",
    "\n",
    "Not much append in the second minimisation, we can have a look at the first one using md_sys.sys_history[-1], which is considered as a `GmxSys` object.\n",
    "\n",
    "Use the `coor_traj` atribute of the `GmxSys` object to vizualise the trajectory.\n",
    "Note that that the `simpletraj` library is a dependenie. \n",
    "To install `simpletraj` use:\n",
    "\n",
    "```\n",
    "pip install simpletraj\n",
    "```\n",
    "\n",
    "- first you should make molecule whole using `convert_trj()` function."
   ]
  },
  {
   "cell_type": "code",
   "execution_count": 11,
   "metadata": {},
   "outputs": [
    {
     "name": "stdout",
     "output_type": "stream",
     "text": [
      "gmx make_ndx -f data_lig_dna/prot_em/Init_em_5W77.gro -o data_lig_dna/prot_em/Init_em_5W77.ndx\n",
      "gmx trjconv -f data_lig_dna/prot_em/Init_em_5W77_compact.xtc -o data_lig_dna/prot_em/Init_em_5W77_compact_compact.xtc -s data_lig_dna/prot_em/Init_em_5W77.tpr -ur tric -pbc mol -center yes -n data_lig_dna/prot_em/Init_em_5W77.ndx\n",
      "gmx make_ndx -f data_lig_dna/prot_em/Init_em_5W77.gro -o data_lig_dna/prot_em/Init_em_5W77.ndx\n",
      "gmx trjconv -f data_lig_dna/prot_em/Init_em_5W77.gro -o data_lig_dna/prot_em/Init_em_5W77_compact.pdb -s data_lig_dna/prot_em/Init_em_5W77.tpr -ur tric -pbc mol -center yes -n data_lig_dna/prot_em/Init_em_5W77.ndx\n"
     ]
    }
   ],
   "source": [
    "md_sys.sys_history[-1].center_mol_box(traj=True)\n",
    "md_sys.sys_history[-1].center_mol_box(traj=False)"
   ]
  },
  {
   "cell_type": "code",
   "execution_count": 12,
   "metadata": {},
   "outputs": [
    {
     "data": {
      "application/vnd.jupyter.widget-view+json": {
       "model_id": "4dda57ce361d46b3ae6e92376502e2c4",
       "version_major": 2,
       "version_minor": 0
      },
      "text/plain": [
       "NGLWidget(max_frame=79)"
      ]
     },
     "metadata": {},
     "output_type": "display_data"
    }
   ],
   "source": [
    "view = md_sys.sys_history[-1].view_traj()\n",
    "view.add_representation(repr_type='licorice', selection='nucleic')\n",
    "view"
   ]
  },
  {
   "cell_type": "code",
   "execution_count": null,
   "metadata": {},
   "outputs": [],
   "source": [
    "# To hide this cell add the following info in the cell metadata:\n",
    "# \"nbsphinx\": \"hidden\"\n",
    "import nglview as nv\n",
    "nv.write_html('../_static/dna_em.html', [view], frame_range=(0, 100))\n",
    "from IPython.display import IFrame"
   ]
  },
  {
   "cell_type": "code",
   "execution_count": null,
   "metadata": {},
   "outputs": [],
   "source": [
    "# Unecessary, only need to nglview online:\n",
    "IFrame(src='../_static/dna_em.html', width=800, height=300)"
   ]
  },
  {
   "cell_type": "markdown",
   "metadata": {},
   "source": [
    "## Solvation (water and $Na^{+} Cl^{-}$)"
   ]
  },
  {
   "cell_type": "code",
   "execution_count": 13,
   "metadata": {},
   "outputs": [
    {
     "name": "stdout",
     "output_type": "stream",
     "text": [
      "name         : 5W77\n",
      "sim_name     : 5W77\n",
      "coor_file    : data_lig_dna/sys_top/5W77_water_ion.gro\n",
      "top_file     : data_lig_dna/sys_top/5W77_water_ion.top\n",
      "tpr          : data_lig_dna/prot_em/5W77.tpr\n",
      "mdp          : data_lig_dna/prot_em/5W77.mdp\n",
      "xtc          : data_lig_dna/prot_em/5W77.trr\n",
      "edr          : data_lig_dna/prot_em/5W77.edr\n",
      "log          : data_lig_dna/prot_em/5W77.log\n",
      "nt           : 0\n",
      "ntmpi        : 0\n",
      "sys_history  : 2\n"
     ]
    }
   ],
   "source": [
    "md_sys.solvate_add_ions(out_folder=os.path.join(DATA_OUT, 'sys_top'),\n",
    "                        ion_C=0.15, maxwarn=3, create_box_flag=False)\n",
    "md_sys.display()\n"
   ]
  },
  {
   "cell_type": "markdown",
   "metadata": {},
   "source": [
    "## System minimisation"
   ]
  },
  {
   "cell_type": "code",
   "execution_count": 14,
   "metadata": {},
   "outputs": [],
   "source": [
    "md_sys.em_2_steps(out_folder=os.path.join(DATA_OUT, 'sys_em'),\n",
    "                  no_constr_nsteps=10000,\n",
    "                  constr_nsteps=10000,\n",
    "                  posres=\"\",maxwarn=3)"
   ]
  },
  {
   "cell_type": "code",
   "execution_count": 15,
   "metadata": {},
   "outputs": [
    {
     "name": "stdout",
     "output_type": "stream",
     "text": [
      "gmx make_ndx -f data_lig_dna/sys_em/5W77.gro -o data_lig_dna/sys_em/5W77.ndx\n"
     ]
    }
   ],
   "source": [
    "md_sys.center_mol_box(traj=False)"
   ]
  },
  {
   "cell_type": "markdown",
   "metadata": {},
   "source": [
    "## System equilibration"
   ]
  },
  {
   "cell_type": "code",
   "execution_count": 17,
   "metadata": {},
   "outputs": [],
   "source": [
    "HA_time = 0.25\n",
    "CA_time = 0.5\n",
    "CA_LOW_time = 1.0\n",
    "dt = 0.002\n",
    "dt_HA = 0.001\n",
    "\n",
    "md_sys.equi_three_step(out_folder=os.path.join(DATA_OUT, 'sys_equi'),\n",
    "                       nsteps_HA=1000 * HA_time / dt_HA,\n",
    "                       nsteps_CA=1000 * CA_time / dt,\n",
    "                       nsteps_CA_LOW=1000 * CA_LOW_time / dt,\n",
    "                       dt=dt, dt_HA=dt_HA, maxwarn=3,\n",
    "                       tc_grps='DNA 9WP Water_and_ions',\n",
    "                       tau_t= '0.1 0.1 0.1',\n",
    "                       ref_t= '310 310 310')\n"
   ]
  },
  {
   "cell_type": "markdown",
   "metadata": {},
   "source": [
    "### Plot RMSD"
   ]
  },
  {
   "cell_type": "code",
   "execution_count": 19,
   "metadata": {},
   "outputs": [
    {
     "name": "stdout",
     "output_type": "stream",
     "text": [
      "gmx make_ndx -f data_lig_dna/sys_equi/00_equi_HA/equi_HA_5W77.gro -o data_lig_dna/sys_equi/00_equi_HA/equi_HA_5W77.ndx\n",
      "gmx rms -s data_lig_dna/prot_em/Init_em_5W77.tpr -f data_lig_dna/sys_equi/00_equi_HA/equi_HA_5W77_compact.xtc -n data_lig_dna/sys_equi/00_equi_HA/equi_HA_5W77.ndx -o tmp_rmsd.xvg -fit rot+trans -ng 1 -pbc no\n",
      "gmx make_ndx -f data_lig_dna/sys_equi/01_equi_CA/equi_CA_5W77.gro -o data_lig_dna/sys_equi/01_equi_CA/equi_CA_5W77.ndx\n",
      "gmx trjconv -f data_lig_dna/sys_equi/01_equi_CA/equi_CA_5W77.xtc -o data_lig_dna/sys_equi/01_equi_CA/equi_CA_5W77_compact.xtc -s data_lig_dna/sys_equi/01_equi_CA/equi_CA_5W77.tpr -ur tric -pbc mol -center yes -n data_lig_dna/sys_equi/01_equi_CA/equi_CA_5W77.ndx\n",
      "gmx rms -s data_lig_dna/prot_em/Init_em_5W77.tpr -f data_lig_dna/sys_equi/01_equi_CA/equi_CA_5W77_compact.xtc -n data_lig_dna/sys_equi/01_equi_CA/equi_CA_5W77.ndx -o tmp_rmsd.xvg -fit rot+trans -ng 1 -pbc no\n",
      "gmx make_ndx -f data_lig_dna/sys_equi/02_equi_CA_LOW/equi_CA_LOW_5W77.gro -o data_lig_dna/sys_equi/02_equi_CA_LOW/equi_CA_LOW_5W77.ndx\n",
      "gmx trjconv -f data_lig_dna/sys_equi/02_equi_CA_LOW/equi_CA_LOW_5W77.xtc -o data_lig_dna/sys_equi/02_equi_CA_LOW/equi_CA_LOW_5W77_compact.xtc -s data_lig_dna/sys_equi/02_equi_CA_LOW/equi_CA_LOW_5W77.tpr -ur tric -pbc mol -center yes -n data_lig_dna/sys_equi/02_equi_CA_LOW/equi_CA_LOW_5W77.ndx\n",
      "gmx rms -s data_lig_dna/prot_em/Init_em_5W77.tpr -f data_lig_dna/sys_equi/02_equi_CA_LOW/equi_CA_LOW_5W77_compact.xtc -n data_lig_dna/sys_equi/02_equi_CA_LOW/equi_CA_LOW_5W77.ndx -o tmp_rmsd.xvg -fit rot+trans -ng 1 -pbc no\n"
     ]
    }
   ],
   "source": [
    "# Define reference structure for RMSD calculation\n",
    "ref_sys =  md_sys.sys_history[1]\n",
    "\n",
    "md_sys.sys_history[-2].center_mol_box(traj=True)\n",
    "rmsd_pd_1 = md_sys.sys_history[-2].get_rmsd(['DNA', 'DNA'], ref_sys=ref_sys)\n",
    "md_sys.sys_history[-1].center_mol_box(traj=True)\n",
    "rmsd_pd_2 = md_sys.sys_history[-1].get_rmsd(['DNA', 'DNA'], ref_sys=ref_sys)\n",
    "md_sys.center_mol_box(traj=True)\n",
    "rmsd_pd_3 = md_sys.get_rmsd(['DNA', 'DNA'], ref_sys=ref_sys)\n",
    "\n",
    "\n",
    "rmsd_pd_1['label'] = 'HA_constr'\n",
    "rmsd_pd_2['label'] = 'CA_constr'\n",
    "rmsd_pd_2['time'] = rmsd_pd_2['time'] + rmsd_pd_1['time'].max()\n",
    "rmsd_pd_3['label'] = 'CA_LOW_constr'\n",
    "rmsd_pd_3['time'] = rmsd_pd_3['time'] + rmsd_pd_2['time'].max()\n",
    "\n",
    "rmsd_pd = pd.concat([rmsd_pd_1, rmsd_pd_2, rmsd_pd_3])"
   ]
  },
  {
   "cell_type": "code",
   "execution_count": 20,
   "metadata": {
    "scrolled": true
   },
   "outputs": [
    {
     "data": {
      "image/png": "[encoded data removed]",
      "text/plain": [
       "<Figure size 432x288 with 1 Axes>"
      ]
     },
     "metadata": {
      "needs_background": "light"
     },
     "output_type": "display_data"
    }
   ],
   "source": [
    "ax = sns.lineplot(x=\"time\", y=\"DNA\",\n",
    "                  hue=\"label\",\n",
    "                  data=rmsd_pd)\n",
    "\n",
    "ax.set_ylabel('RMSD (nm)')\n",
    "ax.set_xlabel('Time (ps)')\n",
    "plt.grid()"
   ]
  },
  {
   "cell_type": "markdown",
   "metadata": {},
   "source": [
    "## Production"
   ]
  },
  {
   "cell_type": "code",
   "execution_count": 21,
   "metadata": {},
   "outputs": [
    {
     "name": "stdout",
     "output_type": "stream",
     "text": [
      "gmx mdrun -s prod_5W77.tpr -deffnm prod_5W77 -nt 0 -ntmpi 0 -nsteps -2 -nocopyright -append -cpi prod_5W77.cpt\n"
     ]
    },
    {
     "data": {
      "application/vnd.jupyter.widget-view+json": {
       "model_id": "6318fa17223d456ba48d0f3278c1ebd5",
       "version_major": 2,
       "version_minor": 0
      },
      "text/plain": [
       "  0%|          | 0/5000000 [00:00<?, ?it/s]"
      ]
     },
     "metadata": {},
     "output_type": "display_data"
    }
   ],
   "source": [
    "prod_time = 10.0\n",
    "prod_folder = os.path.join(DATA_OUT, 'sys_prod') \n",
    "\n",
    "\n",
    "md_sys.production(out_folder=prod_folder,\n",
    "                  nsteps=1000 * prod_time / dt,\n",
    "                  dt=dt, maxwarn=1,\n",
    "                  tc_grps='DNA 9WP Water_and_ions',\n",
    "                  tau_t= '0.1 0.1 0.1',\n",
    "                  ref_t= '310 310 310')\n"
   ]
  },
  {
   "cell_type": "code",
   "execution_count": 23,
   "metadata": {},
   "outputs": [
    {
     "name": "stdout",
     "output_type": "stream",
     "text": [
      "gmx make_ndx -f data_lig_dna/sys_prod/prod_5W77.gro -o data_lig_dna/sys_prod/prod_5W77.ndx\n",
      "gmx trjconv -f data_lig_dna/sys_prod/prod_5W77.xtc -o data_lig_dna/sys_prod/prod_5W77_compact.xtc -s data_lig_dna/sys_prod/prod_5W77.tpr -ur tric -pbc mol -center yes -n data_lig_dna/sys_prod/prod_5W77.ndx\n",
      "gmx rms -s data_lig_dna/prot_em/Init_em_5W77.tpr -f data_lig_dna/sys_prod/prod_5W77_compact.xtc -n data_lig_dna/sys_prod/prod_5W77.ndx -o tmp_rmsd.xvg -fit rot+trans -ng 1 -pbc no\n"
     ]
    }
   ],
   "source": [
    "# Center trajectory\n",
    "md_sys.center_mol_box(traj=True)\n",
    "rmsd_prod_pd = md_sys.get_rmsd(['DNA', 'DNA'], ref_sys=ref_sys)\n",
    "rmsd_prod_pd['label'] = 'Production'\n",
    "\n",
    "rmsd_prod_pd['time'] = rmsd_prod_pd['time'] + rmsd_pd['time'].max()\n",
    "rmsd_all_pd = pd.concat([rmsd_pd, rmsd_prod_pd])"
   ]
  },
  {
   "cell_type": "code",
   "execution_count": 24,
   "metadata": {},
   "outputs": [
    {
     "data": {
      "image/png": "[encoded data removed]",
      "text/plain": [
       "<Figure size 432x288 with 1 Axes>"
      ]
     },
     "metadata": {
      "needs_background": "light"
     },
     "output_type": "display_data"
    }
   ],
   "source": [
    "ax = sns.lineplot(x=\"time\", y=\"DNA\",\n",
    "                  hue=\"label\",\n",
    "                  data=rmsd_all_pd)\n",
    "ax.set_ylabel('RMSD (nm)')\n",
    "ax.set_xlabel('Time (ps)')\n",
    "plt.grid()"
   ]
  },
  {
   "cell_type": "markdown",
   "metadata": {},
   "source": [
    "## Prepare trajectory"
   ]
  },
  {
   "cell_type": "code",
   "execution_count": 25,
   "metadata": {},
   "outputs": [
    {
     "name": "stdout",
     "output_type": "stream",
     "text": [
      "gmx make_ndx -f data_lig_dna/sys_prod/prod_5W77.gro -o data_lig_dna/sys_prod/prod_5W77.ndx\n",
      "gmx trjconv -f data_lig_dna/sys_prod/prod_5W77.gro -o data_lig_dna/sys_prod/prod_5W77_compact.pdb -s data_lig_dna/sys_prod/prod_5W77.tpr -ur tric -pbc mol -center yes -n data_lig_dna/sys_prod/prod_5W77.ndx\n"
     ]
    }
   ],
   "source": [
    "# Center coor\n",
    "md_sys.center_mol_box(traj=False)"
   ]
  },
  {
   "cell_type": "code",
   "execution_count": 28,
   "metadata": {},
   "outputs": [
    {
     "name": "stdout",
     "output_type": "stream",
     "text": [
      "gmx trjconv -f data_lig_dna/sys_prod/prod_5W77_compact_compact.xtc -o data_lig_dna/sys_prod/prod_5W77_compact_compact_compact.xtc -s data_lig_dna/sys_prod/prod_5W77.tpr -ur compact -pbc none -fit rot+trans -n data_lig_dna/sys_prod/prod_5W77.ndx -skip 10\n"
     ]
    }
   ],
   "source": [
    "md_sys.convert_trj(select='DNA\\nSystem\\n', fit='rot+trans', pbc='none', skip='10')"
   ]
  },
  {
   "cell_type": "code",
   "execution_count": 30,
   "metadata": {},
   "outputs": [
    {
     "data": {
      "application/vnd.jupyter.widget-view+json": {
       "model_id": "d68f530f3ce74b9283b1ce519bf3be4f",
       "version_major": 2,
       "version_minor": 0
      },
      "text/plain": [
       "NGLWidget(max_frame=100)"
      ]
     },
     "metadata": {},
     "output_type": "display_data"
    }
   ],
   "source": [
    "view = md_sys.view_traj()\n",
    "view.add_representation(repr_type='licorice', selection='nucleic')\n",
    "view.center(selection='nucleic')\n",
    "view.add_unitcell()\n",
    "view"
   ]
  },
  {
   "cell_type": "code",
   "execution_count": 31,
   "metadata": {},
   "outputs": [],
   "source": [
    "# To hide this cell add the following info in the cell metadata:\n",
    "# \"nbsphinx\": \"hidden\"\n",
    "import nglview as nv\n",
    "nv.write_html('../_static/dna_prod_traj.html', [view], frame_range=(0, 100))\n",
    "from IPython.display import IFrame"
   ]
  },
  {
   "cell_type": "code",
   "execution_count": 32,
   "metadata": {},
   "outputs": [
    {
     "data": {
      "text/html": [
       "\n",
       "        <iframe\n",
       "            width=\"800\"\n",
       "            height=\"300\"\n",
       "            src=\"../_static/dna_prod_traj.html\"\n",
       "            frameborder=\"0\"\n",
       "            allowfullscreen\n",
       "        ></iframe>\n",
       "        "
      ],
      "text/plain": [
       "<IPython.lib.display.IFrame at 0x7fb08c50feb0>"
      ]
     },
     "execution_count": 32,
     "metadata": {},
     "output_type": "execute_result"
    }
   ],
   "source": [
    "# Unecessary, only need to nglview online:\n",
    "IFrame(src='../_static/dna_prod_traj.html', width=800, height=300)"
   ]
  },
  {
   "cell_type": "code",
   "execution_count": null,
   "metadata": {},
   "outputs": [],
   "source": []
  }
 ],
 "metadata": {
  "kernelspec": {
   "display_name": "Python 3",
   "language": "python",
   "name": "python3"
  },
  "language_info": {
   "codemirror_mode": {
    "name": "ipython",
    "version": 3
   },
   "file_extension": ".py",
   "mimetype": "text/x-python",
   "name": "python",
   "nbconvert_exporter": "python",
   "pygments_lexer": "ipython3",
   "version": "3.8.8"
  },
  "nbsphinx": "hidden"
 },
 "nbformat": 4,
 "nbformat_minor": 4
}
