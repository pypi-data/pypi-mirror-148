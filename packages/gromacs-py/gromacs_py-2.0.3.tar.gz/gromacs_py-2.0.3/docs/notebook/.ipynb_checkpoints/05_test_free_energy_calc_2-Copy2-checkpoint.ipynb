{
 "cells": [
  {
   "cell_type": "code",
   "execution_count": 17,
   "metadata": {},
   "outputs": [],
   "source": [
    "import os\n",
    "import urllib.request\n",
    "import copy"
   ]
  },
  {
   "cell_type": "code",
   "execution_count": 18,
   "metadata": {},
   "outputs": [],
   "source": [
    "from gromacs_py import gmx\n",
    "gmx.show_log()\n",
    "from gromacs_py.tools import ambertools\n",
    "ambertools.show_log()\n",
    "\n",
    "from pdb_manip_py import pdb_manip"
   ]
  },
  {
   "cell_type": "code",
   "execution_count": 32,
   "metadata": {},
   "outputs": [
    {
     "name": "stdout",
     "output_type": "stream",
     "text": [
      "/home/murail/Documents/Code/gromacs_py/docs/notebook\n"
     ]
    }
   ],
   "source": [
    "cd /home/murail/Documents/Code/gromacs_py/docs/notebook/"
   ]
  },
  {
   "cell_type": "code",
   "execution_count": 33,
   "metadata": {},
   "outputs": [],
   "source": [
    "#rm -r data_lig_trypsin_1GI2"
   ]
  },
  {
   "cell_type": "code",
   "execution_count": 34,
   "metadata": {},
   "outputs": [],
   "source": [
    "PDB_ID = '1GI2'\n",
    "MOL_ID = '122'\n",
    "CHARGE_MOL = 1\n",
    "DATA_OUT = 'data_lig_trypsin_{}'.format(PDB_ID)\n",
    "os.makedirs(DATA_OUT, exist_ok = True)\n",
    "\n",
    "raw_pdb = urllib.request.urlretrieve('http://files.rcsb.org/download/{}.pdb'.format(PDB_ID),\n",
    "                           '{}/{}.pdb'.format(DATA_OUT, PDB_ID))"
   ]
  },
  {
   "cell_type": "code",
   "execution_count": 35,
   "metadata": {},
   "outputs": [],
   "source": [
    "# Extract first conf:\n",
    "\n",
    "#pdb_multi = pdb_manip.Multi_Coor(raw_pdb[0])\n",
    "#pdb_model_1 = '{}/{}_model_1.pdb'.format(DATA_OUT, PDB_ID)\n",
    "#pdb_multi.coor_list[0].write_pdb(pdb_model_1)\n",
    "\n",
    "pdb_model_1 = '{}/{}.pdb'.format(DATA_OUT, PDB_ID)"
   ]
  },
  {
   "cell_type": "code",
   "execution_count": 36,
   "metadata": {
    "scrolled": false
   },
   "outputs": [
    {
     "name": "stdout",
     "output_type": "stream",
     "text": [
      "Succeed to read file ../1GI2.pdb ,  4226 atoms found\n",
      "Succeed to read file 00_1GI2.pqr ,  3221 atoms found\n",
      "residue(s) SO4 not included, add this residue in ...\n",
      "Succeed to read file ../1GI2.pdb ,  4226 atoms found\n",
      "PDB file 122.pdb already exist, file not saved\n",
      "PDB files not created, 122_h.pdb already exist\n",
      "Succeed to read file 122_h.pdb ,  32 atoms found\n",
      "PDB file 122_h_unique.pdb already exist, file not saved\n",
      "acpype.py -i 122_h_unique.pdb -b 122 -c bcc -a gaff -o gmx -n 1\n",
      "Succeed to create topologie in 122\n",
      "122\n",
      "residue(s) CYS not included, add this residue in ...\n",
      "residue(s) CA not included, add this residue in ...\n",
      "Chain: A  Residue: 0 to 218\n",
      "PDB file 01_1GI2_good_his.pdb already exist, file not saved\n",
      "-Create topologie\n",
      "create_top not launched 1GI2_pdb2gmx.pdb already exist\n",
      "Add Molecule 122\n",
      "name         : mol\n",
      "coor_file    : 122.acpype/122_GMX.gro\n",
      "top_file     : 122.acpype/122_GMX_split.top\n",
      "nt           : 0\n",
      "ntmpi        : 0\n",
      "sys_history  : 0\n",
      "Add 1 mol /home/murail/Documents/Code/gromacs_py/docs/notebook/data_lig_trypsin_1GI2/prot_top/122.acpype/122_GMX.itp\n",
      "Concat files: ['1GI2_pdb2gmx.pdb', '/home/murail/Documents/Code/gromacs_py/docs/notebook/data_lig_trypsin_1GI2/prot_top/122_h.pdb']\n",
      "File  1GI2_pdb2gmx_mol.pdb  already exist\n"
     ]
    }
   ],
   "source": [
    "md_sys = gmx.GmxSys(name=PDB_ID, coor_file=pdb_model_1)\n",
    "md_sys.prepare_top(out_folder=os.path.join(DATA_OUT, 'prot_top'),\n",
    "                   ff='amber99sb-ildn', include_mol={MOL_ID: CHARGE_MOL})"
   ]
  },
  {
   "cell_type": "code",
   "execution_count": 37,
   "metadata": {},
   "outputs": [],
   "source": [
    "import copy\n",
    "\n",
    "def extract_mol_sys(self, out_folder, res_name):\n",
    "    \n",
    "\n",
    "    # Extract coordinates:\n",
    "    print(self.coor_file[-3:])\n",
    "    if self.coor_file[-3:] != 'pdb':\n",
    "        print('Convert to gro file')\n",
    "        self.convert_trj(traj=False)\n",
    "    full_coor = pdb_manip.Coor(self.coor_file)\n",
    "    # Select coor:\n",
    "    mol_coor = full_coor.select_part_dict(selec_dict={'res_name': [res_name]})\n",
    "    print(mol_coor.num)\n",
    "    mol_coor.write_pdb(os.path.join(out_folder, res_name+'_only.pdb'))\n",
    "\n",
    "    # Extract topologie:\n",
    "    \n",
    "    # Get the system topologie:\n",
    "    sys_topologie = gmx.TopSys(self.top_file)\n",
    "    mol_top = copy.deepcopy(sys_topologie)\n",
    "    \n",
    "    itp_list = []\n",
    "    # Keep only res_name itp\n",
    "    for itp in mol_top.itp_list:\n",
    "        \n",
    "        print(itp.name)\n",
    "        to_keep = False\n",
    "        mol_num = 0\n",
    "        \n",
    "        for top_mol in itp.top_mol_list:\n",
    "            mol_num += 1\n",
    "            print('\\t'+top_mol.name)\n",
    "            if top_mol.name in [res_name, 'SOL']:\n",
    "                to_keep = True\n",
    "                break\n",
    "        if to_keep or mol_num == 0:\n",
    "            itp_list.append(itp)\n",
    "    \n",
    "    mol_top.itp_list = itp_list\n",
    "            \n",
    "    new_mol_comp = []\n",
    "    # Keep only res_name in mol composition\n",
    "    for mol in mol_top.mol_comp:\n",
    "        if mol['name'] == res_name:\n",
    "            new_mol_comp.append(mol)\n",
    "\n",
    "    mol_top.mol_comp = new_mol_comp\n",
    "            \n",
    "    mol_top.display()\n",
    "    mol_top.write_file(os.path.join(out_folder, res_name+'_only.top'))\n",
    "    \n",
    "    mol_sys = gmx.GmxSys(name=res_name,\n",
    "                         coor_file=os.path.join(out_folder, res_name+'_only.pdb'),\n",
    "                         top_file=os.path.join(out_folder, res_name+'_only.top'))\n",
    "    return mol_sys\n",
    "    \n",
    "gmx.GmxSys.extract_mol_sys = extract_mol_sys"
   ]
  },
  {
   "cell_type": "code",
   "execution_count": 38,
   "metadata": {},
   "outputs": [
    {
     "name": "stdout",
     "output_type": "stream",
     "text": [
      "pdb\n",
      "Succeed to read file data_lig_trypsin_1GI2/prot_top/1GI2_pdb2gmx_mol.pdb ,  3253 atoms found\n",
      "32\n",
      "PDB file data_lig_trypsin_1GI2/mol_top/122_only.pdb already exist, file not saved\n",
      "122_GMX_atomtypes\n",
      "1GI2_pdb2gmx\n",
      "\tProtein_chain_A\n",
      "tip3p\n",
      "\tSOL\n",
      "ions\n",
      "\tIB+\n",
      "\tCA\n",
      "\tCL\n",
      "\tNA\n",
      "\tMG\n",
      "\tK\n",
      "\tRB\n",
      "\tCS\n",
      "\tLI\n",
      "\tZN\n",
      "122_GMX\n",
      "\t122\n",
      "Forcefield include :\n",
      " amber99sb-ildn\n",
      "-ITP file: 122_GMX_atomtypes\n",
      "-molecules defined in the itp file:\n",
      "-ITP file: tip3p\n",
      "-molecules defined in the itp file:\n",
      "* SOL\n",
      "-ITP file: 122_GMX\n",
      "-molecules defined in the itp file:\n",
      "* 122\n",
      "Mol List:\n",
      "   * 1 122\n",
      "Mol Name:\n",
      " Protein\n"
     ]
    }
   ],
   "source": [
    "test = md_sys.extract_mol_sys(out_folder=os.path.join(DATA_OUT, 'mol_top'), res_name=MOL_ID)"
   ]
  },
  {
   "cell_type": "code",
   "execution_count": 39,
   "metadata": {},
   "outputs": [
    {
     "name": "stdout",
     "output_type": "stream",
     "text": [
      "-Create pbc box\n",
      "create_box not launched data_lig_trypsin_1GI2/mol_top/122_only_box.pdb already exist\n",
      "Mdp files not created, Init_em_122.mdp already exist\n",
      "-Create the tpr file Init_em_122.tpr\n",
      "create_tpr not launched Init_em_122.tpr already exist\n",
      "-Launch the simulation Init_em_122.tpr\n",
      "Simulation not launched Init_em_122.gro already exist\n",
      "Mdp files not created, 122.mdp already exist\n",
      "-Create the tpr file 122.tpr\n",
      "create_tpr not launched 122.tpr already exist\n",
      "-Launch the simulation 122.tpr\n",
      "Simulation not launched 122.gro already exist\n"
     ]
    }
   ],
   "source": [
    "test.create_box(name=None, dist=1.0)\n",
    "\n",
    "test.em_2_steps(out_folder=os.path.join(DATA_OUT, 'mol_em'),\n",
    "                  no_constr_nsteps=10000,\n",
    "                  constr_nsteps=10000,\n",
    "                  posres=\"\",\n",
    "                  emtol=0.1, nstxout=100, maxwarn=3,\n",
    "                  create_box_flag=False)"
   ]
  },
  {
   "cell_type": "code",
   "execution_count": 40,
   "metadata": {},
   "outputs": [
    {
     "name": "stdout",
     "output_type": "stream",
     "text": [
      "-Solvate the pbc box\n",
      "solvate_box not launched 122_water.pdb already exist\n"
     ]
    }
   ],
   "source": [
    "test.solvate_box(out_folder=os.path.join(DATA_OUT, 'mol_water_top'))"
   ]
  },
  {
   "cell_type": "code",
   "execution_count": 41,
   "metadata": {},
   "outputs": [
    {
     "name": "stdout",
     "output_type": "stream",
     "text": [
      "Mdp files not created, Init_em_122.mdp already exist\n",
      "-Create the tpr file Init_em_122.tpr\n",
      "create_tpr not launched Init_em_122.tpr already exist\n",
      "-Launch the simulation Init_em_122.tpr\n",
      "Simulation not launched Init_em_122.gro already exist\n",
      "Mdp files not created, 122.mdp already exist\n",
      "-Create the tpr file 122.tpr\n",
      "create_tpr not launched 122.tpr already exist\n",
      "-Launch the simulation 122.tpr\n",
      "Simulation not launched 122.gro already exist\n"
     ]
    }
   ],
   "source": [
    "test.em_2_steps(out_folder=os.path.join(DATA_OUT, 'mol_water_em'),\n",
    "                  no_constr_nsteps=10000,\n",
    "                  constr_nsteps=10000,\n",
    "                  posres=\"\",\n",
    "                  emtol=0.1, nstxout=100, maxwarn=3,\n",
    "                  create_box_flag=False)"
   ]
  },
  {
   "cell_type": "code",
   "execution_count": 42,
   "metadata": {},
   "outputs": [
    {
     "name": "stdout",
     "output_type": "stream",
     "text": [
      "Mdp files not created, prod_short_equi.mdp already exist\n",
      "-Create the tpr file prod_short_equi.tpr\n",
      "create_tpr not launched prod_short_equi.tpr already exist\n",
      "-Launch the simulation prod_short_equi.tpr\n",
      "Simulation not launched prod_short_equi.gro already exist\n"
     ]
    }
   ],
   "source": [
    "mdp_options = {'tc-grps': 'System',\n",
    "               'tau_t': '0.1',\n",
    "               'ref_t' : '310',\n",
    "               }\n",
    "\n",
    "test.production(out_folder=os.path.join(DATA_OUT, 'mol_water_prod'),\n",
    "                name='short_equi',\n",
    "                nsteps=10000, dt=0.0005,\n",
    "                maxwarn=1, **mdp_options)"
   ]
  },
  {
   "cell_type": "code",
   "execution_count": 43,
   "metadata": {
    "scrolled": false
   },
   "outputs": [
    {
     "name": "stdout",
     "output_type": "stream",
     "text": [
      "Mdp files not created, prod_122.mdp already exist\n",
      "-Create the tpr file prod_122.tpr\n",
      "create_tpr not launched prod_122.tpr already exist\n",
      "-Launch the simulation prod_122.tpr\n",
      "Simulation not launched prod_122.gro already exist\n"
     ]
    }
   ],
   "source": [
    "test.production(out_folder=os.path.join(DATA_OUT, 'mol_water_prod'),\n",
    "                  nsteps=1000000,\n",
    "                  dt=0.002,maxwarn=1, **mdp_options)"
   ]
  },
  {
   "cell_type": "markdown",
   "metadata": {},
   "source": [
    "## Free energy calculation of solvation"
   ]
  },
  {
   "cell_type": "code",
   "execution_count": 44,
   "metadata": {},
   "outputs": [
    {
     "name": "stdout",
     "output_type": "stream",
     "text": [
      "Coulomb lambda :0.0 0.111 0.222 0.333 0.444 0.556 0.667 0.778 0.889 1.0 1.0 1.0 1.0 1.0 1.0 1.0 1.0 1.0 1.0 1.0\n",
      "Vdw lambda :0.0 0.0 0.0 0.0 0.0 0.0 0.0 0.0 0.0 0.0 0.1 0.2 0.3 0.4 0.5 0.6 0.7 0.8 0.9 1.0\n",
      "\n",
      "\n",
      "\n",
      "\n"
     ]
    },
    {
     "data": {
      "application/vnd.jupyter.widget-view+json": {
       "model_id": "9900f604f0de430ea0ae336796b7e616",
       "version_major": 2,
       "version_minor": 0
      },
      "text/plain": [
       "HBox(children=(FloatProgress(value=0.0, max=1300000.0), HTML(value='')))"
      ]
     },
     "metadata": {},
     "output_type": "display_data"
    },
    {
     "name": "stdout",
     "output_type": "stream",
     "text": [
      "-Create the tpr file em_122_vdwq_00.tpr\n",
      "gmx grompp -f em_122_vdwq_00.mdp -c ../../mol_water_prod/prod_122.gro -r ../../mol_water_prod/prod_122.gro -p ../../mol_water_top/122_water.top -po out_em_122_vdwq_00.mdp -o em_122_vdwq_00.tpr -maxwarn 1\n",
      "-Launch the simulation em_122_vdwq_00.tpr\n",
      "gmx mdrun -s em_122_vdwq_00.tpr -deffnm em_122_vdwq_00 -nt 0 -ntmpi 0 -nsteps -2 -nocopyright\n"
     ]
    },
    {
     "data": {
      "application/vnd.jupyter.widget-view+json": {
       "model_id": "009415f0d60c441080ec549cfe24a702",
       "version_major": 2,
       "version_minor": 0
      },
      "text/plain": [
       "HBox(children=(FloatProgress(value=0.0, max=5000.0), HTML(value='')))"
      ]
     },
     "metadata": {},
     "output_type": "display_data"
    },
    {
     "name": "stdout",
     "output_type": "stream",
     "text": [
      "\n",
      "-Create the tpr file nvt_122_vdwq_00.tpr\n",
      "gmx grompp -f nvt_122_vdwq_00.mdp -c ../00_em/em_122_vdwq_00.gro -r ../00_em/em_122_vdwq_00.gro -p ../../mol_water_top/122_water.top -po out_nvt_122_vdwq_00.mdp -o nvt_122_vdwq_00.tpr -maxwarn 1\n",
      "-Launch the simulation nvt_122_vdwq_00.tpr\n",
      "gmx mdrun -s nvt_122_vdwq_00.tpr -deffnm nvt_122_vdwq_00 -nt 0 -ntmpi 0 -nsteps -2 -nocopyright\n"
     ]
    },
    {
     "data": {
      "application/vnd.jupyter.widget-view+json": {
       "model_id": "423f0ecc742e407ca1076a8dde5fce2f",
       "version_major": 2,
       "version_minor": 0
      },
      "text/plain": [
       "HBox(children=(FloatProgress(value=0.0, max=5000.0), HTML(value='')))"
      ]
     },
     "metadata": {},
     "output_type": "display_data"
    },
    {
     "name": "stdout",
     "output_type": "stream",
     "text": [
      "\n",
      "-Create the tpr file npt_122_vdwq_00.tpr\n",
      "gmx grompp -f npt_122_vdwq_00.mdp -c ../01_equi_nvt/nvt_122_vdwq_00.gro -r ../01_equi_nvt/nvt_122_vdwq_00.gro -p ../../mol_water_top/122_water.top -po out_npt_122_vdwq_00.mdp -o npt_122_vdwq_00.tpr -maxwarn 1\n",
      "-Launch the simulation npt_122_vdwq_00.tpr\n",
      "gmx mdrun -s npt_122_vdwq_00.tpr -deffnm npt_122_vdwq_00 -nt 0 -ntmpi 0 -nsteps -2 -nocopyright\n"
     ]
    },
    {
     "data": {
      "application/vnd.jupyter.widget-view+json": {
       "model_id": "eb8674c7d6a442a3ba24dc5f04cd9b62",
       "version_major": 2,
       "version_minor": 0
      },
      "text/plain": [
       "HBox(children=(FloatProgress(value=0.0, max=5000.0), HTML(value='')))"
      ]
     },
     "metadata": {},
     "output_type": "display_data"
    },
    {
     "name": "stdout",
     "output_type": "stream",
     "text": [
      "\n",
      "-Create the tpr file prod_122_vdwq_00.tpr\n",
      "gmx grompp -f prod_122_vdwq_00.mdp -c ../02_equi_npt/npt_122_vdwq_00.gro -r ../02_equi_npt/npt_122_vdwq_00.gro -p ../../mol_water_top/122_water.top -po out_prod_122_vdwq_00.mdp -o prod_122_vdwq_00.tpr -maxwarn 1\n",
      "-Launch the simulation prod_122_vdwq_00.tpr\n",
      "gmx mdrun -s prod_122_vdwq_00.tpr -deffnm prod_122_vdwq_00 -nt 0 -ntmpi 0 -nsteps -2 -nocopyright\n"
     ]
    },
    {
     "data": {
      "application/vnd.jupyter.widget-view+json": {
       "model_id": "c98c75eaae9e434fb9ea8888a1d8ffe8",
       "version_major": 2,
       "version_minor": 0
      },
      "text/plain": [
       "HBox(children=(FloatProgress(value=0.0, max=50000.0), HTML(value='')))"
      ]
     },
     "metadata": {},
     "output_type": "display_data"
    },
    {
     "name": "stdout",
     "output_type": "stream",
     "text": [
      "\n",
      "-Create the tpr file em_122_vdwq_01.tpr\n",
      "gmx grompp -f em_122_vdwq_01.mdp -c ../../mol_water_prod/prod_122.gro -r ../../mol_water_prod/prod_122.gro -p ../../mol_water_top/122_water.top -po out_em_122_vdwq_01.mdp -o em_122_vdwq_01.tpr -maxwarn 1\n",
      "-Launch the simulation em_122_vdwq_01.tpr\n",
      "gmx mdrun -s em_122_vdwq_01.tpr -deffnm em_122_vdwq_01 -nt 0 -ntmpi 0 -nsteps -2 -nocopyright\n"
     ]
    },
    {
     "data": {
      "application/vnd.jupyter.widget-view+json": {
       "model_id": "c2ea0b2a8f5a434983f8b2d66c701b7e",
       "version_major": 2,
       "version_minor": 0
      },
      "text/plain": [
       "HBox(children=(FloatProgress(value=0.0, max=5000.0), HTML(value='')))"
      ]
     },
     "metadata": {},
     "output_type": "display_data"
    },
    {
     "name": "stdout",
     "output_type": "stream",
     "text": [
      "\n",
      "-Create the tpr file nvt_122_vdwq_01.tpr\n",
      "gmx grompp -f nvt_122_vdwq_01.mdp -c ../00_em/em_122_vdwq_01.gro -r ../00_em/em_122_vdwq_01.gro -p ../../mol_water_top/122_water.top -po out_nvt_122_vdwq_01.mdp -o nvt_122_vdwq_01.tpr -maxwarn 1\n",
      "-Launch the simulation nvt_122_vdwq_01.tpr\n",
      "gmx mdrun -s nvt_122_vdwq_01.tpr -deffnm nvt_122_vdwq_01 -nt 0 -ntmpi 0 -nsteps -2 -nocopyright\n"
     ]
    },
    {
     "data": {
      "application/vnd.jupyter.widget-view+json": {
       "model_id": "730149c927474782902c140f8ad8bbe4",
       "version_major": 2,
       "version_minor": 0
      },
      "text/plain": [
       "HBox(children=(FloatProgress(value=0.0, max=5000.0), HTML(value='')))"
      ]
     },
     "metadata": {},
     "output_type": "display_data"
    },
    {
     "name": "stdout",
     "output_type": "stream",
     "text": [
      "\n",
      "-Create the tpr file npt_122_vdwq_01.tpr\n",
      "gmx grompp -f npt_122_vdwq_01.mdp -c ../01_equi_nvt/nvt_122_vdwq_01.gro -r ../01_equi_nvt/nvt_122_vdwq_01.gro -p ../../mol_water_top/122_water.top -po out_npt_122_vdwq_01.mdp -o npt_122_vdwq_01.tpr -maxwarn 1\n",
      "-Launch the simulation npt_122_vdwq_01.tpr\n",
      "gmx mdrun -s npt_122_vdwq_01.tpr -deffnm npt_122_vdwq_01 -nt 0 -ntmpi 0 -nsteps -2 -nocopyright\n"
     ]
    },
    {
     "data": {
      "application/vnd.jupyter.widget-view+json": {
       "model_id": "3b3cc7f619f44de282e27eecad5fd653",
       "version_major": 2,
       "version_minor": 0
      },
      "text/plain": [
       "HBox(children=(FloatProgress(value=0.0, max=5000.0), HTML(value='')))"
      ]
     },
     "metadata": {},
     "output_type": "display_data"
    },
    {
     "name": "stdout",
     "output_type": "stream",
     "text": [
      "\n",
      "-Create the tpr file prod_122_vdwq_01.tpr\n",
      "gmx grompp -f prod_122_vdwq_01.mdp -c ../02_equi_npt/npt_122_vdwq_01.gro -r ../02_equi_npt/npt_122_vdwq_01.gro -p ../../mol_water_top/122_water.top -po out_prod_122_vdwq_01.mdp -o prod_122_vdwq_01.tpr -maxwarn 1\n",
      "-Launch the simulation prod_122_vdwq_01.tpr\n",
      "gmx mdrun -s prod_122_vdwq_01.tpr -deffnm prod_122_vdwq_01 -nt 0 -ntmpi 0 -nsteps -2 -nocopyright\n"
     ]
    },
    {
     "data": {
      "application/vnd.jupyter.widget-view+json": {
       "model_id": "85d617039fbe4553a25f3f36653770e4",
       "version_major": 2,
       "version_minor": 0
      },
      "text/plain": [
       "HBox(children=(FloatProgress(value=0.0, max=50000.0), HTML(value='')))"
      ]
     },
     "metadata": {},
     "output_type": "display_data"
    },
    {
     "name": "stdout",
     "output_type": "stream",
     "text": [
      "\n",
      "-Create the tpr file em_122_vdwq_02.tpr\n",
      "gmx grompp -f em_122_vdwq_02.mdp -c ../../mol_water_prod/prod_122.gro -r ../../mol_water_prod/prod_122.gro -p ../../mol_water_top/122_water.top -po out_em_122_vdwq_02.mdp -o em_122_vdwq_02.tpr -maxwarn 1\n",
      "-Launch the simulation em_122_vdwq_02.tpr\n",
      "gmx mdrun -s em_122_vdwq_02.tpr -deffnm em_122_vdwq_02 -nt 0 -ntmpi 0 -nsteps -2 -nocopyright\n"
     ]
    },
    {
     "data": {
      "application/vnd.jupyter.widget-view+json": {
       "model_id": "23e14f81064844f6b312129dadcbd6f5",
       "version_major": 2,
       "version_minor": 0
      },
      "text/plain": [
       "HBox(children=(FloatProgress(value=0.0, max=5000.0), HTML(value='')))"
      ]
     },
     "metadata": {},
     "output_type": "display_data"
    },
    {
     "name": "stdout",
     "output_type": "stream",
     "text": [
      "\n",
      "-Create the tpr file nvt_122_vdwq_02.tpr\n",
      "gmx grompp -f nvt_122_vdwq_02.mdp -c ../00_em/em_122_vdwq_02.gro -r ../00_em/em_122_vdwq_02.gro -p ../../mol_water_top/122_water.top -po out_nvt_122_vdwq_02.mdp -o nvt_122_vdwq_02.tpr -maxwarn 1\n",
      "-Launch the simulation nvt_122_vdwq_02.tpr\n",
      "gmx mdrun -s nvt_122_vdwq_02.tpr -deffnm nvt_122_vdwq_02 -nt 0 -ntmpi 0 -nsteps -2 -nocopyright\n"
     ]
    },
    {
     "data": {
      "application/vnd.jupyter.widget-view+json": {
       "model_id": "6bd4633a3c344331998787e6ab596ba4",
       "version_major": 2,
       "version_minor": 0
      },
      "text/plain": [
       "HBox(children=(FloatProgress(value=0.0, max=5000.0), HTML(value='')))"
      ]
     },
     "metadata": {},
     "output_type": "display_data"
    },
    {
     "name": "stdout",
     "output_type": "stream",
     "text": [
      "\n",
      "-Create the tpr file npt_122_vdwq_02.tpr\n",
      "gmx grompp -f npt_122_vdwq_02.mdp -c ../01_equi_nvt/nvt_122_vdwq_02.gro -r ../01_equi_nvt/nvt_122_vdwq_02.gro -p ../../mol_water_top/122_water.top -po out_npt_122_vdwq_02.mdp -o npt_122_vdwq_02.tpr -maxwarn 1\n",
      "-Launch the simulation npt_122_vdwq_02.tpr\n",
      "gmx mdrun -s npt_122_vdwq_02.tpr -deffnm npt_122_vdwq_02 -nt 0 -ntmpi 0 -nsteps -2 -nocopyright\n"
     ]
    },
    {
     "data": {
      "application/vnd.jupyter.widget-view+json": {
       "model_id": "ab465e6e06e146f8ba4a21b755fb5d51",
       "version_major": 2,
       "version_minor": 0
      },
      "text/plain": [
       "HBox(children=(FloatProgress(value=0.0, max=5000.0), HTML(value='')))"
      ]
     },
     "metadata": {},
     "output_type": "display_data"
    },
    {
     "name": "stdout",
     "output_type": "stream",
     "text": [
      "\n",
      "-Create the tpr file prod_122_vdwq_02.tpr\n",
      "gmx grompp -f prod_122_vdwq_02.mdp -c ../02_equi_npt/npt_122_vdwq_02.gro -r ../02_equi_npt/npt_122_vdwq_02.gro -p ../../mol_water_top/122_water.top -po out_prod_122_vdwq_02.mdp -o prod_122_vdwq_02.tpr -maxwarn 1\n",
      "-Launch the simulation prod_122_vdwq_02.tpr\n",
      "gmx mdrun -s prod_122_vdwq_02.tpr -deffnm prod_122_vdwq_02 -nt 0 -ntmpi 0 -nsteps -2 -nocopyright\n"
     ]
    },
    {
     "data": {
      "application/vnd.jupyter.widget-view+json": {
       "model_id": "f4cc5d291521496795176c29f4e07757",
       "version_major": 2,
       "version_minor": 0
      },
      "text/plain": [
       "HBox(children=(FloatProgress(value=0.0, max=50000.0), HTML(value='')))"
      ]
     },
     "metadata": {},
     "output_type": "display_data"
    },
    {
     "name": "stdout",
     "output_type": "stream",
     "text": [
      "\n",
      "-Create the tpr file em_122_vdwq_03.tpr\n",
      "gmx grompp -f em_122_vdwq_03.mdp -c ../../mol_water_prod/prod_122.gro -r ../../mol_water_prod/prod_122.gro -p ../../mol_water_top/122_water.top -po out_em_122_vdwq_03.mdp -o em_122_vdwq_03.tpr -maxwarn 1\n",
      "-Launch the simulation em_122_vdwq_03.tpr\n",
      "gmx mdrun -s em_122_vdwq_03.tpr -deffnm em_122_vdwq_03 -nt 0 -ntmpi 0 -nsteps -2 -nocopyright\n"
     ]
    },
    {
     "data": {
      "application/vnd.jupyter.widget-view+json": {
       "model_id": "cb69bbea54b240a1bd9aea4ef79594b8",
       "version_major": 2,
       "version_minor": 0
      },
      "text/plain": [
       "HBox(children=(FloatProgress(value=0.0, max=5000.0), HTML(value='')))"
      ]
     },
     "metadata": {},
     "output_type": "display_data"
    },
    {
     "name": "stdout",
     "output_type": "stream",
     "text": [
      "\n",
      "-Create the tpr file nvt_122_vdwq_03.tpr\n",
      "gmx grompp -f nvt_122_vdwq_03.mdp -c ../00_em/em_122_vdwq_03.gro -r ../00_em/em_122_vdwq_03.gro -p ../../mol_water_top/122_water.top -po out_nvt_122_vdwq_03.mdp -o nvt_122_vdwq_03.tpr -maxwarn 1\n",
      "-Launch the simulation nvt_122_vdwq_03.tpr\n",
      "gmx mdrun -s nvt_122_vdwq_03.tpr -deffnm nvt_122_vdwq_03 -nt 0 -ntmpi 0 -nsteps -2 -nocopyright\n"
     ]
    },
    {
     "data": {
      "application/vnd.jupyter.widget-view+json": {
       "model_id": "8558d8c92c3742e582d51b2175dc11c5",
       "version_major": 2,
       "version_minor": 0
      },
      "text/plain": [
       "HBox(children=(FloatProgress(value=0.0, max=5000.0), HTML(value='')))"
      ]
     },
     "metadata": {},
     "output_type": "display_data"
    },
    {
     "name": "stdout",
     "output_type": "stream",
     "text": [
      "\n",
      "-Create the tpr file npt_122_vdwq_03.tpr\n",
      "gmx grompp -f npt_122_vdwq_03.mdp -c ../01_equi_nvt/nvt_122_vdwq_03.gro -r ../01_equi_nvt/nvt_122_vdwq_03.gro -p ../../mol_water_top/122_water.top -po out_npt_122_vdwq_03.mdp -o npt_122_vdwq_03.tpr -maxwarn 1\n",
      "-Launch the simulation npt_122_vdwq_03.tpr\n",
      "gmx mdrun -s npt_122_vdwq_03.tpr -deffnm npt_122_vdwq_03 -nt 0 -ntmpi 0 -nsteps -2 -nocopyright\n"
     ]
    },
    {
     "data": {
      "application/vnd.jupyter.widget-view+json": {
       "model_id": "4ad940165def423e924a11a47a7103e5",
       "version_major": 2,
       "version_minor": 0
      },
      "text/plain": [
       "HBox(children=(FloatProgress(value=0.0, max=5000.0), HTML(value='')))"
      ]
     },
     "metadata": {},
     "output_type": "display_data"
    },
    {
     "name": "stdout",
     "output_type": "stream",
     "text": [
      "\n",
      "-Create the tpr file prod_122_vdwq_03.tpr\n",
      "gmx grompp -f prod_122_vdwq_03.mdp -c ../02_equi_npt/npt_122_vdwq_03.gro -r ../02_equi_npt/npt_122_vdwq_03.gro -p ../../mol_water_top/122_water.top -po out_prod_122_vdwq_03.mdp -o prod_122_vdwq_03.tpr -maxwarn 1\n",
      "-Launch the simulation prod_122_vdwq_03.tpr\n",
      "gmx mdrun -s prod_122_vdwq_03.tpr -deffnm prod_122_vdwq_03 -nt 0 -ntmpi 0 -nsteps -2 -nocopyright\n"
     ]
    },
    {
     "data": {
      "application/vnd.jupyter.widget-view+json": {
       "model_id": "73f148df92b54218bc2cdc74ae31897b",
       "version_major": 2,
       "version_minor": 0
      },
      "text/plain": [
       "HBox(children=(FloatProgress(value=0.0, max=50000.0), HTML(value='')))"
      ]
     },
     "metadata": {},
     "output_type": "display_data"
    },
    {
     "name": "stdout",
     "output_type": "stream",
     "text": [
      "\n",
      "-Create the tpr file em_122_vdwq_04.tpr\n",
      "gmx grompp -f em_122_vdwq_04.mdp -c ../../mol_water_prod/prod_122.gro -r ../../mol_water_prod/prod_122.gro -p ../../mol_water_top/122_water.top -po out_em_122_vdwq_04.mdp -o em_122_vdwq_04.tpr -maxwarn 1\n",
      "-Launch the simulation em_122_vdwq_04.tpr\n",
      "gmx mdrun -s em_122_vdwq_04.tpr -deffnm em_122_vdwq_04 -nt 0 -ntmpi 0 -nsteps -2 -nocopyright\n"
     ]
    },
    {
     "data": {
      "application/vnd.jupyter.widget-view+json": {
       "model_id": "bcb8ee1684494158ac31c7dc46a8e650",
       "version_major": 2,
       "version_minor": 0
      },
      "text/plain": [
       "HBox(children=(FloatProgress(value=0.0, max=5000.0), HTML(value='')))"
      ]
     },
     "metadata": {},
     "output_type": "display_data"
    },
    {
     "name": "stdout",
     "output_type": "stream",
     "text": [
      "\n",
      "-Create the tpr file nvt_122_vdwq_04.tpr\n",
      "gmx grompp -f nvt_122_vdwq_04.mdp -c ../00_em/em_122_vdwq_04.gro -r ../00_em/em_122_vdwq_04.gro -p ../../mol_water_top/122_water.top -po out_nvt_122_vdwq_04.mdp -o nvt_122_vdwq_04.tpr -maxwarn 1\n",
      "-Launch the simulation nvt_122_vdwq_04.tpr\n",
      "gmx mdrun -s nvt_122_vdwq_04.tpr -deffnm nvt_122_vdwq_04 -nt 0 -ntmpi 0 -nsteps -2 -nocopyright\n"
     ]
    },
    {
     "data": {
      "application/vnd.jupyter.widget-view+json": {
       "model_id": "1d6087bff34d4261b1cfbf80a4acf021",
       "version_major": 2,
       "version_minor": 0
      },
      "text/plain": [
       "HBox(children=(FloatProgress(value=0.0, max=5000.0), HTML(value='')))"
      ]
     },
     "metadata": {},
     "output_type": "display_data"
    },
    {
     "name": "stdout",
     "output_type": "stream",
     "text": [
      "\n",
      "-Create the tpr file npt_122_vdwq_04.tpr\n",
      "gmx grompp -f npt_122_vdwq_04.mdp -c ../01_equi_nvt/nvt_122_vdwq_04.gro -r ../01_equi_nvt/nvt_122_vdwq_04.gro -p ../../mol_water_top/122_water.top -po out_npt_122_vdwq_04.mdp -o npt_122_vdwq_04.tpr -maxwarn 1\n",
      "-Launch the simulation npt_122_vdwq_04.tpr\n",
      "gmx mdrun -s npt_122_vdwq_04.tpr -deffnm npt_122_vdwq_04 -nt 0 -ntmpi 0 -nsteps -2 -nocopyright\n"
     ]
    },
    {
     "data": {
      "application/vnd.jupyter.widget-view+json": {
       "model_id": "49d9eb100ff74509b5b024132e1131d0",
       "version_major": 2,
       "version_minor": 0
      },
      "text/plain": [
       "HBox(children=(FloatProgress(value=0.0, max=5000.0), HTML(value='')))"
      ]
     },
     "metadata": {},
     "output_type": "display_data"
    },
    {
     "name": "stdout",
     "output_type": "stream",
     "text": [
      "\n",
      "-Create the tpr file prod_122_vdwq_04.tpr\n",
      "gmx grompp -f prod_122_vdwq_04.mdp -c ../02_equi_npt/npt_122_vdwq_04.gro -r ../02_equi_npt/npt_122_vdwq_04.gro -p ../../mol_water_top/122_water.top -po out_prod_122_vdwq_04.mdp -o prod_122_vdwq_04.tpr -maxwarn 1\n",
      "-Launch the simulation prod_122_vdwq_04.tpr\n",
      "gmx mdrun -s prod_122_vdwq_04.tpr -deffnm prod_122_vdwq_04 -nt 0 -ntmpi 0 -nsteps -2 -nocopyright\n"
     ]
    },
    {
     "data": {
      "application/vnd.jupyter.widget-view+json": {
       "model_id": "275fbceef5174825abd7f6da54dfcbd8",
       "version_major": 2,
       "version_minor": 0
      },
      "text/plain": [
       "HBox(children=(FloatProgress(value=0.0, max=50000.0), HTML(value='')))"
      ]
     },
     "metadata": {},
     "output_type": "display_data"
    },
    {
     "name": "stdout",
     "output_type": "stream",
     "text": [
      "\n",
      "-Create the tpr file em_122_vdwq_05.tpr\n",
      "gmx grompp -f em_122_vdwq_05.mdp -c ../../mol_water_prod/prod_122.gro -r ../../mol_water_prod/prod_122.gro -p ../../mol_water_top/122_water.top -po out_em_122_vdwq_05.mdp -o em_122_vdwq_05.tpr -maxwarn 1\n",
      "-Launch the simulation em_122_vdwq_05.tpr\n",
      "gmx mdrun -s em_122_vdwq_05.tpr -deffnm em_122_vdwq_05 -nt 0 -ntmpi 0 -nsteps -2 -nocopyright\n"
     ]
    },
    {
     "data": {
      "application/vnd.jupyter.widget-view+json": {
       "model_id": "4fff5094647f4db2893b52aa89b8255c",
       "version_major": 2,
       "version_minor": 0
      },
      "text/plain": [
       "HBox(children=(FloatProgress(value=0.0, max=5000.0), HTML(value='')))"
      ]
     },
     "metadata": {},
     "output_type": "display_data"
    },
    {
     "name": "stdout",
     "output_type": "stream",
     "text": [
      "\n",
      "-Create the tpr file nvt_122_vdwq_05.tpr\n",
      "gmx grompp -f nvt_122_vdwq_05.mdp -c ../00_em/em_122_vdwq_05.gro -r ../00_em/em_122_vdwq_05.gro -p ../../mol_water_top/122_water.top -po out_nvt_122_vdwq_05.mdp -o nvt_122_vdwq_05.tpr -maxwarn 1\n",
      "-Launch the simulation nvt_122_vdwq_05.tpr\n",
      "gmx mdrun -s nvt_122_vdwq_05.tpr -deffnm nvt_122_vdwq_05 -nt 0 -ntmpi 0 -nsteps -2 -nocopyright\n"
     ]
    },
    {
     "data": {
      "application/vnd.jupyter.widget-view+json": {
       "model_id": "1264534f103647c29666c4d164b0f4f5",
       "version_major": 2,
       "version_minor": 0
      },
      "text/plain": [
       "HBox(children=(FloatProgress(value=0.0, max=5000.0), HTML(value='')))"
      ]
     },
     "metadata": {},
     "output_type": "display_data"
    },
    {
     "name": "stdout",
     "output_type": "stream",
     "text": [
      "\n",
      "-Create the tpr file npt_122_vdwq_05.tpr\n",
      "gmx grompp -f npt_122_vdwq_05.mdp -c ../01_equi_nvt/nvt_122_vdwq_05.gro -r ../01_equi_nvt/nvt_122_vdwq_05.gro -p ../../mol_water_top/122_water.top -po out_npt_122_vdwq_05.mdp -o npt_122_vdwq_05.tpr -maxwarn 1\n",
      "-Launch the simulation npt_122_vdwq_05.tpr\n",
      "gmx mdrun -s npt_122_vdwq_05.tpr -deffnm npt_122_vdwq_05 -nt 0 -ntmpi 0 -nsteps -2 -nocopyright\n"
     ]
    },
    {
     "data": {
      "application/vnd.jupyter.widget-view+json": {
       "model_id": "a77b7d938dd741dabf252ad5bd5f7499",
       "version_major": 2,
       "version_minor": 0
      },
      "text/plain": [
       "HBox(children=(FloatProgress(value=0.0, max=5000.0), HTML(value='')))"
      ]
     },
     "metadata": {},
     "output_type": "display_data"
    },
    {
     "name": "stdout",
     "output_type": "stream",
     "text": [
      "\n",
      "-Create the tpr file prod_122_vdwq_05.tpr\n",
      "gmx grompp -f prod_122_vdwq_05.mdp -c ../02_equi_npt/npt_122_vdwq_05.gro -r ../02_equi_npt/npt_122_vdwq_05.gro -p ../../mol_water_top/122_water.top -po out_prod_122_vdwq_05.mdp -o prod_122_vdwq_05.tpr -maxwarn 1\n",
      "-Launch the simulation prod_122_vdwq_05.tpr\n",
      "gmx mdrun -s prod_122_vdwq_05.tpr -deffnm prod_122_vdwq_05 -nt 0 -ntmpi 0 -nsteps -2 -nocopyright\n"
     ]
    },
    {
     "data": {
      "application/vnd.jupyter.widget-view+json": {
       "model_id": "63a7cf5347e7472aaa015432f79e84ec",
       "version_major": 2,
       "version_minor": 0
      },
      "text/plain": [
       "HBox(children=(FloatProgress(value=0.0, max=50000.0), HTML(value='')))"
      ]
     },
     "metadata": {},
     "output_type": "display_data"
    },
    {
     "name": "stdout",
     "output_type": "stream",
     "text": [
      "\n",
      "-Create the tpr file em_122_vdwq_06.tpr\n",
      "gmx grompp -f em_122_vdwq_06.mdp -c ../../mol_water_prod/prod_122.gro -r ../../mol_water_prod/prod_122.gro -p ../../mol_water_top/122_water.top -po out_em_122_vdwq_06.mdp -o em_122_vdwq_06.tpr -maxwarn 1\n",
      "-Launch the simulation em_122_vdwq_06.tpr\n",
      "gmx mdrun -s em_122_vdwq_06.tpr -deffnm em_122_vdwq_06 -nt 0 -ntmpi 0 -nsteps -2 -nocopyright\n"
     ]
    },
    {
     "data": {
      "application/vnd.jupyter.widget-view+json": {
       "model_id": "30750ac21db24f55978a728528a5c03c",
       "version_major": 2,
       "version_minor": 0
      },
      "text/plain": [
       "HBox(children=(FloatProgress(value=0.0, max=5000.0), HTML(value='')))"
      ]
     },
     "metadata": {},
     "output_type": "display_data"
    },
    {
     "name": "stdout",
     "output_type": "stream",
     "text": [
      "\n",
      "-Create the tpr file nvt_122_vdwq_06.tpr\n",
      "gmx grompp -f nvt_122_vdwq_06.mdp -c ../00_em/em_122_vdwq_06.gro -r ../00_em/em_122_vdwq_06.gro -p ../../mol_water_top/122_water.top -po out_nvt_122_vdwq_06.mdp -o nvt_122_vdwq_06.tpr -maxwarn 1\n",
      "-Launch the simulation nvt_122_vdwq_06.tpr\n",
      "gmx mdrun -s nvt_122_vdwq_06.tpr -deffnm nvt_122_vdwq_06 -nt 0 -ntmpi 0 -nsteps -2 -nocopyright\n"
     ]
    },
    {
     "data": {
      "application/vnd.jupyter.widget-view+json": {
       "model_id": "de5f7567c63048b6bd79a58937cd6afb",
       "version_major": 2,
       "version_minor": 0
      },
      "text/plain": [
       "HBox(children=(FloatProgress(value=0.0, max=5000.0), HTML(value='')))"
      ]
     },
     "metadata": {},
     "output_type": "display_data"
    },
    {
     "name": "stdout",
     "output_type": "stream",
     "text": [
      "\n",
      "-Create the tpr file npt_122_vdwq_06.tpr\n",
      "gmx grompp -f npt_122_vdwq_06.mdp -c ../01_equi_nvt/nvt_122_vdwq_06.gro -r ../01_equi_nvt/nvt_122_vdwq_06.gro -p ../../mol_water_top/122_water.top -po out_npt_122_vdwq_06.mdp -o npt_122_vdwq_06.tpr -maxwarn 1\n",
      "-Launch the simulation npt_122_vdwq_06.tpr\n",
      "gmx mdrun -s npt_122_vdwq_06.tpr -deffnm npt_122_vdwq_06 -nt 0 -ntmpi 0 -nsteps -2 -nocopyright\n"
     ]
    },
    {
     "data": {
      "application/vnd.jupyter.widget-view+json": {
       "model_id": "1f31223d93da418eb0fcf1764e2627f3",
       "version_major": 2,
       "version_minor": 0
      },
      "text/plain": [
       "HBox(children=(FloatProgress(value=0.0, max=5000.0), HTML(value='')))"
      ]
     },
     "metadata": {},
     "output_type": "display_data"
    },
    {
     "name": "stdout",
     "output_type": "stream",
     "text": [
      "\n",
      "-Create the tpr file prod_122_vdwq_06.tpr\n",
      "gmx grompp -f prod_122_vdwq_06.mdp -c ../02_equi_npt/npt_122_vdwq_06.gro -r ../02_equi_npt/npt_122_vdwq_06.gro -p ../../mol_water_top/122_water.top -po out_prod_122_vdwq_06.mdp -o prod_122_vdwq_06.tpr -maxwarn 1\n",
      "-Launch the simulation prod_122_vdwq_06.tpr\n",
      "gmx mdrun -s prod_122_vdwq_06.tpr -deffnm prod_122_vdwq_06 -nt 0 -ntmpi 0 -nsteps -2 -nocopyright\n"
     ]
    },
    {
     "data": {
      "application/vnd.jupyter.widget-view+json": {
       "model_id": "f2f2d9479d8847d0a49810a44f77b529",
       "version_major": 2,
       "version_minor": 0
      },
      "text/plain": [
       "HBox(children=(FloatProgress(value=0.0, max=50000.0), HTML(value='')))"
      ]
     },
     "metadata": {},
     "output_type": "display_data"
    },
    {
     "name": "stdout",
     "output_type": "stream",
     "text": [
      "\n",
      "-Create the tpr file em_122_vdwq_07.tpr\n",
      "gmx grompp -f em_122_vdwq_07.mdp -c ../../mol_water_prod/prod_122.gro -r ../../mol_water_prod/prod_122.gro -p ../../mol_water_top/122_water.top -po out_em_122_vdwq_07.mdp -o em_122_vdwq_07.tpr -maxwarn 1\n",
      "-Launch the simulation em_122_vdwq_07.tpr\n",
      "gmx mdrun -s em_122_vdwq_07.tpr -deffnm em_122_vdwq_07 -nt 0 -ntmpi 0 -nsteps -2 -nocopyright\n"
     ]
    },
    {
     "data": {
      "application/vnd.jupyter.widget-view+json": {
       "model_id": "f511cec5ee1c45338bdd4f4151342d03",
       "version_major": 2,
       "version_minor": 0
      },
      "text/plain": [
       "HBox(children=(FloatProgress(value=0.0, max=5000.0), HTML(value='')))"
      ]
     },
     "metadata": {},
     "output_type": "display_data"
    },
    {
     "name": "stdout",
     "output_type": "stream",
     "text": [
      "\n",
      "-Create the tpr file nvt_122_vdwq_07.tpr\n",
      "gmx grompp -f nvt_122_vdwq_07.mdp -c ../00_em/em_122_vdwq_07.gro -r ../00_em/em_122_vdwq_07.gro -p ../../mol_water_top/122_water.top -po out_nvt_122_vdwq_07.mdp -o nvt_122_vdwq_07.tpr -maxwarn 1\n",
      "-Launch the simulation nvt_122_vdwq_07.tpr\n",
      "gmx mdrun -s nvt_122_vdwq_07.tpr -deffnm nvt_122_vdwq_07 -nt 0 -ntmpi 0 -nsteps -2 -nocopyright\n"
     ]
    },
    {
     "data": {
      "application/vnd.jupyter.widget-view+json": {
       "model_id": "e93e66c296714d3dace954e58f98bb47",
       "version_major": 2,
       "version_minor": 0
      },
      "text/plain": [
       "HBox(children=(FloatProgress(value=0.0, max=5000.0), HTML(value='')))"
      ]
     },
     "metadata": {},
     "output_type": "display_data"
    },
    {
     "name": "stdout",
     "output_type": "stream",
     "text": [
      "\n",
      "-Create the tpr file npt_122_vdwq_07.tpr\n",
      "gmx grompp -f npt_122_vdwq_07.mdp -c ../01_equi_nvt/nvt_122_vdwq_07.gro -r ../01_equi_nvt/nvt_122_vdwq_07.gro -p ../../mol_water_top/122_water.top -po out_npt_122_vdwq_07.mdp -o npt_122_vdwq_07.tpr -maxwarn 1\n",
      "-Launch the simulation npt_122_vdwq_07.tpr\n",
      "gmx mdrun -s npt_122_vdwq_07.tpr -deffnm npt_122_vdwq_07 -nt 0 -ntmpi 0 -nsteps -2 -nocopyright\n"
     ]
    },
    {
     "data": {
      "application/vnd.jupyter.widget-view+json": {
       "model_id": "1f68bb24839241f3a626d8f7a36e532f",
       "version_major": 2,
       "version_minor": 0
      },
      "text/plain": [
       "HBox(children=(FloatProgress(value=0.0, max=5000.0), HTML(value='')))"
      ]
     },
     "metadata": {},
     "output_type": "display_data"
    },
    {
     "name": "stdout",
     "output_type": "stream",
     "text": [
      "\n",
      "-Create the tpr file prod_122_vdwq_07.tpr\n",
      "gmx grompp -f prod_122_vdwq_07.mdp -c ../02_equi_npt/npt_122_vdwq_07.gro -r ../02_equi_npt/npt_122_vdwq_07.gro -p ../../mol_water_top/122_water.top -po out_prod_122_vdwq_07.mdp -o prod_122_vdwq_07.tpr -maxwarn 1\n",
      "-Launch the simulation prod_122_vdwq_07.tpr\n",
      "gmx mdrun -s prod_122_vdwq_07.tpr -deffnm prod_122_vdwq_07 -nt 0 -ntmpi 0 -nsteps -2 -nocopyright\n"
     ]
    },
    {
     "data": {
      "application/vnd.jupyter.widget-view+json": {
       "model_id": "e6a1007357fb4fbd97c5567ed43ace15",
       "version_major": 2,
       "version_minor": 0
      },
      "text/plain": [
       "HBox(children=(FloatProgress(value=0.0, max=50000.0), HTML(value='')))"
      ]
     },
     "metadata": {},
     "output_type": "display_data"
    },
    {
     "name": "stdout",
     "output_type": "stream",
     "text": [
      "\n",
      "-Create the tpr file em_122_vdwq_08.tpr\n",
      "gmx grompp -f em_122_vdwq_08.mdp -c ../../mol_water_prod/prod_122.gro -r ../../mol_water_prod/prod_122.gro -p ../../mol_water_top/122_water.top -po out_em_122_vdwq_08.mdp -o em_122_vdwq_08.tpr -maxwarn 1\n",
      "-Launch the simulation em_122_vdwq_08.tpr\n",
      "gmx mdrun -s em_122_vdwq_08.tpr -deffnm em_122_vdwq_08 -nt 0 -ntmpi 0 -nsteps -2 -nocopyright\n"
     ]
    },
    {
     "data": {
      "application/vnd.jupyter.widget-view+json": {
       "model_id": "4f019c042b09493a8cd250675d89a2bb",
       "version_major": 2,
       "version_minor": 0
      },
      "text/plain": [
       "HBox(children=(FloatProgress(value=0.0, max=5000.0), HTML(value='')))"
      ]
     },
     "metadata": {},
     "output_type": "display_data"
    },
    {
     "name": "stdout",
     "output_type": "stream",
     "text": [
      "\n",
      "-Create the tpr file nvt_122_vdwq_08.tpr\n",
      "gmx grompp -f nvt_122_vdwq_08.mdp -c ../00_em/em_122_vdwq_08.gro -r ../00_em/em_122_vdwq_08.gro -p ../../mol_water_top/122_water.top -po out_nvt_122_vdwq_08.mdp -o nvt_122_vdwq_08.tpr -maxwarn 1\n",
      "-Launch the simulation nvt_122_vdwq_08.tpr\n",
      "gmx mdrun -s nvt_122_vdwq_08.tpr -deffnm nvt_122_vdwq_08 -nt 0 -ntmpi 0 -nsteps -2 -nocopyright\n"
     ]
    },
    {
     "data": {
      "application/vnd.jupyter.widget-view+json": {
       "model_id": "2d500b7a8a5e40ef80181d8f34c62b91",
       "version_major": 2,
       "version_minor": 0
      },
      "text/plain": [
       "HBox(children=(FloatProgress(value=0.0, max=5000.0), HTML(value='')))"
      ]
     },
     "metadata": {},
     "output_type": "display_data"
    },
    {
     "name": "stdout",
     "output_type": "stream",
     "text": [
      "\n",
      "-Create the tpr file npt_122_vdwq_08.tpr\n",
      "gmx grompp -f npt_122_vdwq_08.mdp -c ../01_equi_nvt/nvt_122_vdwq_08.gro -r ../01_equi_nvt/nvt_122_vdwq_08.gro -p ../../mol_water_top/122_water.top -po out_npt_122_vdwq_08.mdp -o npt_122_vdwq_08.tpr -maxwarn 1\n",
      "-Launch the simulation npt_122_vdwq_08.tpr\n",
      "gmx mdrun -s npt_122_vdwq_08.tpr -deffnm npt_122_vdwq_08 -nt 0 -ntmpi 0 -nsteps -2 -nocopyright\n"
     ]
    },
    {
     "data": {
      "application/vnd.jupyter.widget-view+json": {
       "model_id": "cc5aa1946788427da57fe1d881382c8b",
       "version_major": 2,
       "version_minor": 0
      },
      "text/plain": [
       "HBox(children=(FloatProgress(value=0.0, max=5000.0), HTML(value='')))"
      ]
     },
     "metadata": {},
     "output_type": "display_data"
    },
    {
     "name": "stdout",
     "output_type": "stream",
     "text": [
      "\n",
      "-Create the tpr file prod_122_vdwq_08.tpr\n",
      "gmx grompp -f prod_122_vdwq_08.mdp -c ../02_equi_npt/npt_122_vdwq_08.gro -r ../02_equi_npt/npt_122_vdwq_08.gro -p ../../mol_water_top/122_water.top -po out_prod_122_vdwq_08.mdp -o prod_122_vdwq_08.tpr -maxwarn 1\n",
      "-Launch the simulation prod_122_vdwq_08.tpr\n",
      "gmx mdrun -s prod_122_vdwq_08.tpr -deffnm prod_122_vdwq_08 -nt 0 -ntmpi 0 -nsteps -2 -nocopyright\n"
     ]
    },
    {
     "data": {
      "application/vnd.jupyter.widget-view+json": {
       "model_id": "38e0f08a60f34c61b5d0e85e46fbfeae",
       "version_major": 2,
       "version_minor": 0
      },
      "text/plain": [
       "HBox(children=(FloatProgress(value=0.0, max=50000.0), HTML(value='')))"
      ]
     },
     "metadata": {},
     "output_type": "display_data"
    },
    {
     "name": "stdout",
     "output_type": "stream",
     "text": [
      "\n",
      "-Create the tpr file em_122_vdwq_09.tpr\n",
      "gmx grompp -f em_122_vdwq_09.mdp -c ../../mol_water_prod/prod_122.gro -r ../../mol_water_prod/prod_122.gro -p ../../mol_water_top/122_water.top -po out_em_122_vdwq_09.mdp -o em_122_vdwq_09.tpr -maxwarn 1\n",
      "-Launch the simulation em_122_vdwq_09.tpr\n",
      "gmx mdrun -s em_122_vdwq_09.tpr -deffnm em_122_vdwq_09 -nt 0 -ntmpi 0 -nsteps -2 -nocopyright\n"
     ]
    },
    {
     "data": {
      "application/vnd.jupyter.widget-view+json": {
       "model_id": "6568dc844a50472db8b7aaeab14c2f37",
       "version_major": 2,
       "version_minor": 0
      },
      "text/plain": [
       "HBox(children=(FloatProgress(value=0.0, max=5000.0), HTML(value='')))"
      ]
     },
     "metadata": {},
     "output_type": "display_data"
    },
    {
     "name": "stdout",
     "output_type": "stream",
     "text": [
      "\n",
      "-Create the tpr file nvt_122_vdwq_09.tpr\n",
      "gmx grompp -f nvt_122_vdwq_09.mdp -c ../00_em/em_122_vdwq_09.gro -r ../00_em/em_122_vdwq_09.gro -p ../../mol_water_top/122_water.top -po out_nvt_122_vdwq_09.mdp -o nvt_122_vdwq_09.tpr -maxwarn 1\n",
      "-Launch the simulation nvt_122_vdwq_09.tpr\n",
      "gmx mdrun -s nvt_122_vdwq_09.tpr -deffnm nvt_122_vdwq_09 -nt 0 -ntmpi 0 -nsteps -2 -nocopyright\n"
     ]
    },
    {
     "data": {
      "application/vnd.jupyter.widget-view+json": {
       "model_id": "40cc22cc845e439fa137416cd355a3ec",
       "version_major": 2,
       "version_minor": 0
      },
      "text/plain": [
       "HBox(children=(FloatProgress(value=0.0, max=5000.0), HTML(value='')))"
      ]
     },
     "metadata": {},
     "output_type": "display_data"
    },
    {
     "name": "stdout",
     "output_type": "stream",
     "text": [
      "\n",
      "-Create the tpr file npt_122_vdwq_09.tpr\n",
      "gmx grompp -f npt_122_vdwq_09.mdp -c ../01_equi_nvt/nvt_122_vdwq_09.gro -r ../01_equi_nvt/nvt_122_vdwq_09.gro -p ../../mol_water_top/122_water.top -po out_npt_122_vdwq_09.mdp -o npt_122_vdwq_09.tpr -maxwarn 1\n",
      "-Launch the simulation npt_122_vdwq_09.tpr\n",
      "gmx mdrun -s npt_122_vdwq_09.tpr -deffnm npt_122_vdwq_09 -nt 0 -ntmpi 0 -nsteps -2 -nocopyright\n"
     ]
    },
    {
     "data": {
      "application/vnd.jupyter.widget-view+json": {
       "model_id": "e20f155f660648cbb6590c502920b2f7",
       "version_major": 2,
       "version_minor": 0
      },
      "text/plain": [
       "HBox(children=(FloatProgress(value=0.0, max=5000.0), HTML(value='')))"
      ]
     },
     "metadata": {},
     "output_type": "display_data"
    },
    {
     "name": "stdout",
     "output_type": "stream",
     "text": [
      "\n",
      "-Create the tpr file prod_122_vdwq_09.tpr\n",
      "gmx grompp -f prod_122_vdwq_09.mdp -c ../02_equi_npt/npt_122_vdwq_09.gro -r ../02_equi_npt/npt_122_vdwq_09.gro -p ../../mol_water_top/122_water.top -po out_prod_122_vdwq_09.mdp -o prod_122_vdwq_09.tpr -maxwarn 1\n",
      "-Launch the simulation prod_122_vdwq_09.tpr\n",
      "gmx mdrun -s prod_122_vdwq_09.tpr -deffnm prod_122_vdwq_09 -nt 0 -ntmpi 0 -nsteps -2 -nocopyright\n"
     ]
    },
    {
     "data": {
      "application/vnd.jupyter.widget-view+json": {
       "model_id": "dd816e5359194d92b64dcb9872856989",
       "version_major": 2,
       "version_minor": 0
      },
      "text/plain": [
       "HBox(children=(FloatProgress(value=0.0, max=50000.0), HTML(value='')))"
      ]
     },
     "metadata": {},
     "output_type": "display_data"
    },
    {
     "name": "stdout",
     "output_type": "stream",
     "text": [
      "\n",
      "-Create the tpr file em_122_vdwq_10.tpr\n",
      "gmx grompp -f em_122_vdwq_10.mdp -c ../../mol_water_prod/prod_122.gro -r ../../mol_water_prod/prod_122.gro -p ../../mol_water_top/122_water.top -po out_em_122_vdwq_10.mdp -o em_122_vdwq_10.tpr -maxwarn 1\n",
      "-Launch the simulation em_122_vdwq_10.tpr\n",
      "gmx mdrun -s em_122_vdwq_10.tpr -deffnm em_122_vdwq_10 -nt 0 -ntmpi 0 -nsteps -2 -nocopyright\n"
     ]
    },
    {
     "data": {
      "application/vnd.jupyter.widget-view+json": {
       "model_id": "3c8c50759c284030b79bbaf2c70bbc18",
       "version_major": 2,
       "version_minor": 0
      },
      "text/plain": [
       "HBox(children=(FloatProgress(value=0.0, max=5000.0), HTML(value='')))"
      ]
     },
     "metadata": {},
     "output_type": "display_data"
    },
    {
     "name": "stdout",
     "output_type": "stream",
     "text": [
      "\n",
      "-Create the tpr file nvt_122_vdwq_10.tpr\n",
      "gmx grompp -f nvt_122_vdwq_10.mdp -c ../00_em/em_122_vdwq_10.gro -r ../00_em/em_122_vdwq_10.gro -p ../../mol_water_top/122_water.top -po out_nvt_122_vdwq_10.mdp -o nvt_122_vdwq_10.tpr -maxwarn 1\n",
      "-Launch the simulation nvt_122_vdwq_10.tpr\n",
      "gmx mdrun -s nvt_122_vdwq_10.tpr -deffnm nvt_122_vdwq_10 -nt 0 -ntmpi 0 -nsteps -2 -nocopyright\n"
     ]
    },
    {
     "data": {
      "application/vnd.jupyter.widget-view+json": {
       "model_id": "2506d4a026214ec0a8a60f6b7c014dc4",
       "version_major": 2,
       "version_minor": 0
      },
      "text/plain": [
       "HBox(children=(FloatProgress(value=0.0, max=5000.0), HTML(value='')))"
      ]
     },
     "metadata": {},
     "output_type": "display_data"
    },
    {
     "name": "stdout",
     "output_type": "stream",
     "text": [
      "\n",
      "-Create the tpr file npt_122_vdwq_10.tpr\n",
      "gmx grompp -f npt_122_vdwq_10.mdp -c ../01_equi_nvt/nvt_122_vdwq_10.gro -r ../01_equi_nvt/nvt_122_vdwq_10.gro -p ../../mol_water_top/122_water.top -po out_npt_122_vdwq_10.mdp -o npt_122_vdwq_10.tpr -maxwarn 1\n",
      "-Launch the simulation npt_122_vdwq_10.tpr\n",
      "gmx mdrun -s npt_122_vdwq_10.tpr -deffnm npt_122_vdwq_10 -nt 0 -ntmpi 0 -nsteps -2 -nocopyright\n"
     ]
    },
    {
     "data": {
      "application/vnd.jupyter.widget-view+json": {
       "model_id": "56bbffb449204699ba7e17182f36761d",
       "version_major": 2,
       "version_minor": 0
      },
      "text/plain": [
       "HBox(children=(FloatProgress(value=0.0, max=5000.0), HTML(value='')))"
      ]
     },
     "metadata": {},
     "output_type": "display_data"
    },
    {
     "name": "stdout",
     "output_type": "stream",
     "text": [
      "\n",
      "-Create the tpr file prod_122_vdwq_10.tpr\n",
      "gmx grompp -f prod_122_vdwq_10.mdp -c ../02_equi_npt/npt_122_vdwq_10.gro -r ../02_equi_npt/npt_122_vdwq_10.gro -p ../../mol_water_top/122_water.top -po out_prod_122_vdwq_10.mdp -o prod_122_vdwq_10.tpr -maxwarn 1\n",
      "-Launch the simulation prod_122_vdwq_10.tpr\n",
      "gmx mdrun -s prod_122_vdwq_10.tpr -deffnm prod_122_vdwq_10 -nt 0 -ntmpi 0 -nsteps -2 -nocopyright\n"
     ]
    },
    {
     "data": {
      "application/vnd.jupyter.widget-view+json": {
       "model_id": "12f110c8d25f46118ce1d7b8f3146b30",
       "version_major": 2,
       "version_minor": 0
      },
      "text/plain": [
       "HBox(children=(FloatProgress(value=0.0, max=50000.0), HTML(value='')))"
      ]
     },
     "metadata": {},
     "output_type": "display_data"
    },
    {
     "name": "stdout",
     "output_type": "stream",
     "text": [
      "\n",
      "-Create the tpr file em_122_vdwq_11.tpr\n",
      "gmx grompp -f em_122_vdwq_11.mdp -c ../../mol_water_prod/prod_122.gro -r ../../mol_water_prod/prod_122.gro -p ../../mol_water_top/122_water.top -po out_em_122_vdwq_11.mdp -o em_122_vdwq_11.tpr -maxwarn 1\n",
      "-Launch the simulation em_122_vdwq_11.tpr\n",
      "gmx mdrun -s em_122_vdwq_11.tpr -deffnm em_122_vdwq_11 -nt 0 -ntmpi 0 -nsteps -2 -nocopyright\n"
     ]
    },
    {
     "data": {
      "application/vnd.jupyter.widget-view+json": {
       "model_id": "e4e00a2ed3204740aba4d33b472996a4",
       "version_major": 2,
       "version_minor": 0
      },
      "text/plain": [
       "HBox(children=(FloatProgress(value=0.0, max=5000.0), HTML(value='')))"
      ]
     },
     "metadata": {},
     "output_type": "display_data"
    },
    {
     "name": "stdout",
     "output_type": "stream",
     "text": [
      "\n",
      "-Create the tpr file nvt_122_vdwq_11.tpr\n",
      "gmx grompp -f nvt_122_vdwq_11.mdp -c ../00_em/em_122_vdwq_11.gro -r ../00_em/em_122_vdwq_11.gro -p ../../mol_water_top/122_water.top -po out_nvt_122_vdwq_11.mdp -o nvt_122_vdwq_11.tpr -maxwarn 1\n",
      "-Launch the simulation nvt_122_vdwq_11.tpr\n",
      "gmx mdrun -s nvt_122_vdwq_11.tpr -deffnm nvt_122_vdwq_11 -nt 0 -ntmpi 0 -nsteps -2 -nocopyright\n"
     ]
    },
    {
     "data": {
      "application/vnd.jupyter.widget-view+json": {
       "model_id": "db9fbf427fbc4880b186a2515f9dae94",
       "version_major": 2,
       "version_minor": 0
      },
      "text/plain": [
       "HBox(children=(FloatProgress(value=0.0, max=5000.0), HTML(value='')))"
      ]
     },
     "metadata": {},
     "output_type": "display_data"
    },
    {
     "name": "stdout",
     "output_type": "stream",
     "text": [
      "\n",
      "-Create the tpr file npt_122_vdwq_11.tpr\n",
      "gmx grompp -f npt_122_vdwq_11.mdp -c ../01_equi_nvt/nvt_122_vdwq_11.gro -r ../01_equi_nvt/nvt_122_vdwq_11.gro -p ../../mol_water_top/122_water.top -po out_npt_122_vdwq_11.mdp -o npt_122_vdwq_11.tpr -maxwarn 1\n",
      "-Launch the simulation npt_122_vdwq_11.tpr\n",
      "gmx mdrun -s npt_122_vdwq_11.tpr -deffnm npt_122_vdwq_11 -nt 0 -ntmpi 0 -nsteps -2 -nocopyright\n"
     ]
    },
    {
     "data": {
      "application/vnd.jupyter.widget-view+json": {
       "model_id": "447f3406a4294be4bb7cc78ef9e2e015",
       "version_major": 2,
       "version_minor": 0
      },
      "text/plain": [
       "HBox(children=(FloatProgress(value=0.0, max=5000.0), HTML(value='')))"
      ]
     },
     "metadata": {},
     "output_type": "display_data"
    },
    {
     "name": "stdout",
     "output_type": "stream",
     "text": [
      "\n",
      "-Create the tpr file prod_122_vdwq_11.tpr\n",
      "gmx grompp -f prod_122_vdwq_11.mdp -c ../02_equi_npt/npt_122_vdwq_11.gro -r ../02_equi_npt/npt_122_vdwq_11.gro -p ../../mol_water_top/122_water.top -po out_prod_122_vdwq_11.mdp -o prod_122_vdwq_11.tpr -maxwarn 1\n",
      "-Launch the simulation prod_122_vdwq_11.tpr\n",
      "gmx mdrun -s prod_122_vdwq_11.tpr -deffnm prod_122_vdwq_11 -nt 0 -ntmpi 0 -nsteps -2 -nocopyright\n"
     ]
    },
    {
     "data": {
      "application/vnd.jupyter.widget-view+json": {
       "model_id": "33416392c7aa42a69ba33ff35a462789",
       "version_major": 2,
       "version_minor": 0
      },
      "text/plain": [
       "HBox(children=(FloatProgress(value=0.0, max=50000.0), HTML(value='')))"
      ]
     },
     "metadata": {},
     "output_type": "display_data"
    },
    {
     "name": "stdout",
     "output_type": "stream",
     "text": [
      "\n",
      "-Create the tpr file em_122_vdwq_12.tpr\n",
      "gmx grompp -f em_122_vdwq_12.mdp -c ../../mol_water_prod/prod_122.gro -r ../../mol_water_prod/prod_122.gro -p ../../mol_water_top/122_water.top -po out_em_122_vdwq_12.mdp -o em_122_vdwq_12.tpr -maxwarn 1\n",
      "-Launch the simulation em_122_vdwq_12.tpr\n",
      "gmx mdrun -s em_122_vdwq_12.tpr -deffnm em_122_vdwq_12 -nt 0 -ntmpi 0 -nsteps -2 -nocopyright\n"
     ]
    },
    {
     "data": {
      "application/vnd.jupyter.widget-view+json": {
       "model_id": "b37188efa7a94e3f87f536c2825b18c0",
       "version_major": 2,
       "version_minor": 0
      },
      "text/plain": [
       "HBox(children=(FloatProgress(value=0.0, max=5000.0), HTML(value='')))"
      ]
     },
     "metadata": {},
     "output_type": "display_data"
    },
    {
     "name": "stdout",
     "output_type": "stream",
     "text": [
      "\n",
      "-Create the tpr file nvt_122_vdwq_12.tpr\n",
      "gmx grompp -f nvt_122_vdwq_12.mdp -c ../00_em/em_122_vdwq_12.gro -r ../00_em/em_122_vdwq_12.gro -p ../../mol_water_top/122_water.top -po out_nvt_122_vdwq_12.mdp -o nvt_122_vdwq_12.tpr -maxwarn 1\n",
      "-Launch the simulation nvt_122_vdwq_12.tpr\n",
      "gmx mdrun -s nvt_122_vdwq_12.tpr -deffnm nvt_122_vdwq_12 -nt 0 -ntmpi 0 -nsteps -2 -nocopyright\n"
     ]
    },
    {
     "data": {
      "application/vnd.jupyter.widget-view+json": {
       "model_id": "ec146ad0cf08409091b6b16349ddfb1b",
       "version_major": 2,
       "version_minor": 0
      },
      "text/plain": [
       "HBox(children=(FloatProgress(value=0.0, max=5000.0), HTML(value='')))"
      ]
     },
     "metadata": {},
     "output_type": "display_data"
    },
    {
     "name": "stdout",
     "output_type": "stream",
     "text": [
      "\n",
      "-Create the tpr file npt_122_vdwq_12.tpr\n",
      "gmx grompp -f npt_122_vdwq_12.mdp -c ../01_equi_nvt/nvt_122_vdwq_12.gro -r ../01_equi_nvt/nvt_122_vdwq_12.gro -p ../../mol_water_top/122_water.top -po out_npt_122_vdwq_12.mdp -o npt_122_vdwq_12.tpr -maxwarn 1\n",
      "-Launch the simulation npt_122_vdwq_12.tpr\n",
      "gmx mdrun -s npt_122_vdwq_12.tpr -deffnm npt_122_vdwq_12 -nt 0 -ntmpi 0 -nsteps -2 -nocopyright\n"
     ]
    },
    {
     "data": {
      "application/vnd.jupyter.widget-view+json": {
       "model_id": "7449e28fab1e49ff883d35f20191ab11",
       "version_major": 2,
       "version_minor": 0
      },
      "text/plain": [
       "HBox(children=(FloatProgress(value=0.0, max=5000.0), HTML(value='')))"
      ]
     },
     "metadata": {},
     "output_type": "display_data"
    },
    {
     "name": "stdout",
     "output_type": "stream",
     "text": [
      "\n",
      "-Create the tpr file prod_122_vdwq_12.tpr\n",
      "gmx grompp -f prod_122_vdwq_12.mdp -c ../02_equi_npt/npt_122_vdwq_12.gro -r ../02_equi_npt/npt_122_vdwq_12.gro -p ../../mol_water_top/122_water.top -po out_prod_122_vdwq_12.mdp -o prod_122_vdwq_12.tpr -maxwarn 1\n",
      "-Launch the simulation prod_122_vdwq_12.tpr\n",
      "gmx mdrun -s prod_122_vdwq_12.tpr -deffnm prod_122_vdwq_12 -nt 0 -ntmpi 0 -nsteps -2 -nocopyright\n"
     ]
    },
    {
     "data": {
      "application/vnd.jupyter.widget-view+json": {
       "model_id": "eb919be8114b43a2ba50af180336295c",
       "version_major": 2,
       "version_minor": 0
      },
      "text/plain": [
       "HBox(children=(FloatProgress(value=0.0, max=50000.0), HTML(value='')))"
      ]
     },
     "metadata": {},
     "output_type": "display_data"
    },
    {
     "name": "stdout",
     "output_type": "stream",
     "text": [
      "\n",
      "-Create the tpr file em_122_vdwq_13.tpr\n",
      "gmx grompp -f em_122_vdwq_13.mdp -c ../../mol_water_prod/prod_122.gro -r ../../mol_water_prod/prod_122.gro -p ../../mol_water_top/122_water.top -po out_em_122_vdwq_13.mdp -o em_122_vdwq_13.tpr -maxwarn 1\n",
      "-Launch the simulation em_122_vdwq_13.tpr\n",
      "gmx mdrun -s em_122_vdwq_13.tpr -deffnm em_122_vdwq_13 -nt 0 -ntmpi 0 -nsteps -2 -nocopyright\n"
     ]
    },
    {
     "data": {
      "application/vnd.jupyter.widget-view+json": {
       "model_id": "bc8b1407b80a4cc3a6f1e52df610b3d0",
       "version_major": 2,
       "version_minor": 0
      },
      "text/plain": [
       "HBox(children=(FloatProgress(value=0.0, max=5000.0), HTML(value='')))"
      ]
     },
     "metadata": {},
     "output_type": "display_data"
    },
    {
     "name": "stdout",
     "output_type": "stream",
     "text": [
      "\n",
      "-Create the tpr file nvt_122_vdwq_13.tpr\n",
      "gmx grompp -f nvt_122_vdwq_13.mdp -c ../00_em/em_122_vdwq_13.gro -r ../00_em/em_122_vdwq_13.gro -p ../../mol_water_top/122_water.top -po out_nvt_122_vdwq_13.mdp -o nvt_122_vdwq_13.tpr -maxwarn 1\n",
      "-Launch the simulation nvt_122_vdwq_13.tpr\n",
      "gmx mdrun -s nvt_122_vdwq_13.tpr -deffnm nvt_122_vdwq_13 -nt 0 -ntmpi 0 -nsteps -2 -nocopyright\n"
     ]
    },
    {
     "data": {
      "application/vnd.jupyter.widget-view+json": {
       "model_id": "120b99501bd149d3a914d5f53062da16",
       "version_major": 2,
       "version_minor": 0
      },
      "text/plain": [
       "HBox(children=(FloatProgress(value=0.0, max=5000.0), HTML(value='')))"
      ]
     },
     "metadata": {},
     "output_type": "display_data"
    },
    {
     "name": "stdout",
     "output_type": "stream",
     "text": [
      "\n",
      "-Create the tpr file npt_122_vdwq_13.tpr\n",
      "gmx grompp -f npt_122_vdwq_13.mdp -c ../01_equi_nvt/nvt_122_vdwq_13.gro -r ../01_equi_nvt/nvt_122_vdwq_13.gro -p ../../mol_water_top/122_water.top -po out_npt_122_vdwq_13.mdp -o npt_122_vdwq_13.tpr -maxwarn 1\n",
      "-Launch the simulation npt_122_vdwq_13.tpr\n",
      "gmx mdrun -s npt_122_vdwq_13.tpr -deffnm npt_122_vdwq_13 -nt 0 -ntmpi 0 -nsteps -2 -nocopyright\n"
     ]
    },
    {
     "data": {
      "application/vnd.jupyter.widget-view+json": {
       "model_id": "1f48b9409c2a4111b31540a48e1c46ef",
       "version_major": 2,
       "version_minor": 0
      },
      "text/plain": [
       "HBox(children=(FloatProgress(value=0.0, max=5000.0), HTML(value='')))"
      ]
     },
     "metadata": {},
     "output_type": "display_data"
    },
    {
     "name": "stdout",
     "output_type": "stream",
     "text": [
      "\n",
      "-Create the tpr file prod_122_vdwq_13.tpr\n",
      "gmx grompp -f prod_122_vdwq_13.mdp -c ../02_equi_npt/npt_122_vdwq_13.gro -r ../02_equi_npt/npt_122_vdwq_13.gro -p ../../mol_water_top/122_water.top -po out_prod_122_vdwq_13.mdp -o prod_122_vdwq_13.tpr -maxwarn 1\n",
      "-Launch the simulation prod_122_vdwq_13.tpr\n",
      "gmx mdrun -s prod_122_vdwq_13.tpr -deffnm prod_122_vdwq_13 -nt 0 -ntmpi 0 -nsteps -2 -nocopyright\n"
     ]
    },
    {
     "data": {
      "application/vnd.jupyter.widget-view+json": {
       "model_id": "692cbf66ae7e4034b8cbb7c0b3e90ea2",
       "version_major": 2,
       "version_minor": 0
      },
      "text/plain": [
       "HBox(children=(FloatProgress(value=0.0, max=50000.0), HTML(value='')))"
      ]
     },
     "metadata": {},
     "output_type": "display_data"
    },
    {
     "name": "stdout",
     "output_type": "stream",
     "text": [
      "\n",
      "-Create the tpr file em_122_vdwq_14.tpr\n",
      "gmx grompp -f em_122_vdwq_14.mdp -c ../../mol_water_prod/prod_122.gro -r ../../mol_water_prod/prod_122.gro -p ../../mol_water_top/122_water.top -po out_em_122_vdwq_14.mdp -o em_122_vdwq_14.tpr -maxwarn 1\n",
      "-Launch the simulation em_122_vdwq_14.tpr\n",
      "gmx mdrun -s em_122_vdwq_14.tpr -deffnm em_122_vdwq_14 -nt 0 -ntmpi 0 -nsteps -2 -nocopyright\n"
     ]
    },
    {
     "data": {
      "application/vnd.jupyter.widget-view+json": {
       "model_id": "eeb7b08f833d436a91f276c3005610ce",
       "version_major": 2,
       "version_minor": 0
      },
      "text/plain": [
       "HBox(children=(FloatProgress(value=0.0, max=5000.0), HTML(value='')))"
      ]
     },
     "metadata": {},
     "output_type": "display_data"
    },
    {
     "name": "stdout",
     "output_type": "stream",
     "text": [
      "\n",
      "-Create the tpr file nvt_122_vdwq_14.tpr\n",
      "gmx grompp -f nvt_122_vdwq_14.mdp -c ../00_em/em_122_vdwq_14.gro -r ../00_em/em_122_vdwq_14.gro -p ../../mol_water_top/122_water.top -po out_nvt_122_vdwq_14.mdp -o nvt_122_vdwq_14.tpr -maxwarn 1\n",
      "-Launch the simulation nvt_122_vdwq_14.tpr\n",
      "gmx mdrun -s nvt_122_vdwq_14.tpr -deffnm nvt_122_vdwq_14 -nt 0 -ntmpi 0 -nsteps -2 -nocopyright\n"
     ]
    },
    {
     "data": {
      "application/vnd.jupyter.widget-view+json": {
       "model_id": "ca0406ae0d2b45abb7042b650d9280d9",
       "version_major": 2,
       "version_minor": 0
      },
      "text/plain": [
       "HBox(children=(FloatProgress(value=0.0, max=5000.0), HTML(value='')))"
      ]
     },
     "metadata": {},
     "output_type": "display_data"
    },
    {
     "name": "stdout",
     "output_type": "stream",
     "text": [
      "\n",
      "-Create the tpr file npt_122_vdwq_14.tpr\n",
      "gmx grompp -f npt_122_vdwq_14.mdp -c ../01_equi_nvt/nvt_122_vdwq_14.gro -r ../01_equi_nvt/nvt_122_vdwq_14.gro -p ../../mol_water_top/122_water.top -po out_npt_122_vdwq_14.mdp -o npt_122_vdwq_14.tpr -maxwarn 1\n",
      "-Launch the simulation npt_122_vdwq_14.tpr\n",
      "gmx mdrun -s npt_122_vdwq_14.tpr -deffnm npt_122_vdwq_14 -nt 0 -ntmpi 0 -nsteps -2 -nocopyright\n"
     ]
    },
    {
     "data": {
      "application/vnd.jupyter.widget-view+json": {
       "model_id": "e9245f3140264214bc44176185d2f649",
       "version_major": 2,
       "version_minor": 0
      },
      "text/plain": [
       "HBox(children=(FloatProgress(value=0.0, max=5000.0), HTML(value='')))"
      ]
     },
     "metadata": {},
     "output_type": "display_data"
    },
    {
     "name": "stdout",
     "output_type": "stream",
     "text": [
      "\n",
      "-Create the tpr file prod_122_vdwq_14.tpr\n",
      "gmx grompp -f prod_122_vdwq_14.mdp -c ../02_equi_npt/npt_122_vdwq_14.gro -r ../02_equi_npt/npt_122_vdwq_14.gro -p ../../mol_water_top/122_water.top -po out_prod_122_vdwq_14.mdp -o prod_122_vdwq_14.tpr -maxwarn 1\n",
      "-Launch the simulation prod_122_vdwq_14.tpr\n",
      "gmx mdrun -s prod_122_vdwq_14.tpr -deffnm prod_122_vdwq_14 -nt 0 -ntmpi 0 -nsteps -2 -nocopyright\n"
     ]
    },
    {
     "data": {
      "application/vnd.jupyter.widget-view+json": {
       "model_id": "5e2ffd01848d4b3ca414ed351fed599e",
       "version_major": 2,
       "version_minor": 0
      },
      "text/plain": [
       "HBox(children=(FloatProgress(value=0.0, max=50000.0), HTML(value='')))"
      ]
     },
     "metadata": {},
     "output_type": "display_data"
    },
    {
     "name": "stdout",
     "output_type": "stream",
     "text": [
      "\n",
      "-Create the tpr file em_122_vdwq_15.tpr\n",
      "gmx grompp -f em_122_vdwq_15.mdp -c ../../mol_water_prod/prod_122.gro -r ../../mol_water_prod/prod_122.gro -p ../../mol_water_top/122_water.top -po out_em_122_vdwq_15.mdp -o em_122_vdwq_15.tpr -maxwarn 1\n",
      "-Launch the simulation em_122_vdwq_15.tpr\n",
      "gmx mdrun -s em_122_vdwq_15.tpr -deffnm em_122_vdwq_15 -nt 0 -ntmpi 0 -nsteps -2 -nocopyright\n"
     ]
    },
    {
     "data": {
      "application/vnd.jupyter.widget-view+json": {
       "model_id": "85a379ae8ff645569fac0c92fce40319",
       "version_major": 2,
       "version_minor": 0
      },
      "text/plain": [
       "HBox(children=(FloatProgress(value=0.0, max=5000.0), HTML(value='')))"
      ]
     },
     "metadata": {},
     "output_type": "display_data"
    },
    {
     "name": "stdout",
     "output_type": "stream",
     "text": [
      "\n",
      "-Create the tpr file nvt_122_vdwq_15.tpr\n",
      "gmx grompp -f nvt_122_vdwq_15.mdp -c ../00_em/em_122_vdwq_15.gro -r ../00_em/em_122_vdwq_15.gro -p ../../mol_water_top/122_water.top -po out_nvt_122_vdwq_15.mdp -o nvt_122_vdwq_15.tpr -maxwarn 1\n",
      "-Launch the simulation nvt_122_vdwq_15.tpr\n",
      "gmx mdrun -s nvt_122_vdwq_15.tpr -deffnm nvt_122_vdwq_15 -nt 0 -ntmpi 0 -nsteps -2 -nocopyright\n"
     ]
    },
    {
     "data": {
      "application/vnd.jupyter.widget-view+json": {
       "model_id": "09d29b11342c44c9a885e88fa10a26da",
       "version_major": 2,
       "version_minor": 0
      },
      "text/plain": [
       "HBox(children=(FloatProgress(value=0.0, max=5000.0), HTML(value='')))"
      ]
     },
     "metadata": {},
     "output_type": "display_data"
    },
    {
     "name": "stdout",
     "output_type": "stream",
     "text": [
      "\n",
      "-Create the tpr file npt_122_vdwq_15.tpr\n",
      "gmx grompp -f npt_122_vdwq_15.mdp -c ../01_equi_nvt/nvt_122_vdwq_15.gro -r ../01_equi_nvt/nvt_122_vdwq_15.gro -p ../../mol_water_top/122_water.top -po out_npt_122_vdwq_15.mdp -o npt_122_vdwq_15.tpr -maxwarn 1\n",
      "-Launch the simulation npt_122_vdwq_15.tpr\n",
      "gmx mdrun -s npt_122_vdwq_15.tpr -deffnm npt_122_vdwq_15 -nt 0 -ntmpi 0 -nsteps -2 -nocopyright\n"
     ]
    },
    {
     "data": {
      "application/vnd.jupyter.widget-view+json": {
       "model_id": "1b2f4259f52c4edbbde0fbff82b30c91",
       "version_major": 2,
       "version_minor": 0
      },
      "text/plain": [
       "HBox(children=(FloatProgress(value=0.0, max=5000.0), HTML(value='')))"
      ]
     },
     "metadata": {},
     "output_type": "display_data"
    },
    {
     "name": "stdout",
     "output_type": "stream",
     "text": [
      "\n",
      "-Create the tpr file prod_122_vdwq_15.tpr\n",
      "gmx grompp -f prod_122_vdwq_15.mdp -c ../02_equi_npt/npt_122_vdwq_15.gro -r ../02_equi_npt/npt_122_vdwq_15.gro -p ../../mol_water_top/122_water.top -po out_prod_122_vdwq_15.mdp -o prod_122_vdwq_15.tpr -maxwarn 1\n",
      "-Launch the simulation prod_122_vdwq_15.tpr\n",
      "gmx mdrun -s prod_122_vdwq_15.tpr -deffnm prod_122_vdwq_15 -nt 0 -ntmpi 0 -nsteps -2 -nocopyright\n"
     ]
    },
    {
     "data": {
      "application/vnd.jupyter.widget-view+json": {
       "model_id": "e694e7f89de0411cb857cd2b1acc9b01",
       "version_major": 2,
       "version_minor": 0
      },
      "text/plain": [
       "HBox(children=(FloatProgress(value=0.0, max=50000.0), HTML(value='')))"
      ]
     },
     "metadata": {},
     "output_type": "display_data"
    },
    {
     "name": "stdout",
     "output_type": "stream",
     "text": [
      "\n",
      "-Create the tpr file em_122_vdwq_16.tpr\n",
      "gmx grompp -f em_122_vdwq_16.mdp -c ../../mol_water_prod/prod_122.gro -r ../../mol_water_prod/prod_122.gro -p ../../mol_water_top/122_water.top -po out_em_122_vdwq_16.mdp -o em_122_vdwq_16.tpr -maxwarn 1\n",
      "-Launch the simulation em_122_vdwq_16.tpr\n",
      "gmx mdrun -s em_122_vdwq_16.tpr -deffnm em_122_vdwq_16 -nt 0 -ntmpi 0 -nsteps -2 -nocopyright\n"
     ]
    },
    {
     "data": {
      "application/vnd.jupyter.widget-view+json": {
       "model_id": "711b822425814fce9ca5490142b84321",
       "version_major": 2,
       "version_minor": 0
      },
      "text/plain": [
       "HBox(children=(FloatProgress(value=0.0, max=5000.0), HTML(value='')))"
      ]
     },
     "metadata": {},
     "output_type": "display_data"
    },
    {
     "name": "stdout",
     "output_type": "stream",
     "text": [
      "\n",
      "-Create the tpr file nvt_122_vdwq_16.tpr\n",
      "gmx grompp -f nvt_122_vdwq_16.mdp -c ../00_em/em_122_vdwq_16.gro -r ../00_em/em_122_vdwq_16.gro -p ../../mol_water_top/122_water.top -po out_nvt_122_vdwq_16.mdp -o nvt_122_vdwq_16.tpr -maxwarn 1\n",
      "-Launch the simulation nvt_122_vdwq_16.tpr\n",
      "gmx mdrun -s nvt_122_vdwq_16.tpr -deffnm nvt_122_vdwq_16 -nt 0 -ntmpi 0 -nsteps -2 -nocopyright\n"
     ]
    },
    {
     "data": {
      "application/vnd.jupyter.widget-view+json": {
       "model_id": "dc8423714a76408986bd6c03868ecd88",
       "version_major": 2,
       "version_minor": 0
      },
      "text/plain": [
       "HBox(children=(FloatProgress(value=0.0, max=5000.0), HTML(value='')))"
      ]
     },
     "metadata": {},
     "output_type": "display_data"
    },
    {
     "name": "stdout",
     "output_type": "stream",
     "text": [
      "\n",
      "-Create the tpr file npt_122_vdwq_16.tpr\n",
      "gmx grompp -f npt_122_vdwq_16.mdp -c ../01_equi_nvt/nvt_122_vdwq_16.gro -r ../01_equi_nvt/nvt_122_vdwq_16.gro -p ../../mol_water_top/122_water.top -po out_npt_122_vdwq_16.mdp -o npt_122_vdwq_16.tpr -maxwarn 1\n",
      "-Launch the simulation npt_122_vdwq_16.tpr\n",
      "gmx mdrun -s npt_122_vdwq_16.tpr -deffnm npt_122_vdwq_16 -nt 0 -ntmpi 0 -nsteps -2 -nocopyright\n"
     ]
    },
    {
     "data": {
      "application/vnd.jupyter.widget-view+json": {
       "model_id": "2c12822cc1f94f9fbe756d4554073dbc",
       "version_major": 2,
       "version_minor": 0
      },
      "text/plain": [
       "HBox(children=(FloatProgress(value=0.0, max=5000.0), HTML(value='')))"
      ]
     },
     "metadata": {},
     "output_type": "display_data"
    },
    {
     "name": "stdout",
     "output_type": "stream",
     "text": [
      "\n",
      "-Create the tpr file prod_122_vdwq_16.tpr\n",
      "gmx grompp -f prod_122_vdwq_16.mdp -c ../02_equi_npt/npt_122_vdwq_16.gro -r ../02_equi_npt/npt_122_vdwq_16.gro -p ../../mol_water_top/122_water.top -po out_prod_122_vdwq_16.mdp -o prod_122_vdwq_16.tpr -maxwarn 1\n",
      "-Launch the simulation prod_122_vdwq_16.tpr\n",
      "gmx mdrun -s prod_122_vdwq_16.tpr -deffnm prod_122_vdwq_16 -nt 0 -ntmpi 0 -nsteps -2 -nocopyright\n"
     ]
    },
    {
     "data": {
      "application/vnd.jupyter.widget-view+json": {
       "model_id": "8ea410a1eedc49a78e0e597f77564079",
       "version_major": 2,
       "version_minor": 0
      },
      "text/plain": [
       "HBox(children=(FloatProgress(value=0.0, max=50000.0), HTML(value='')))"
      ]
     },
     "metadata": {},
     "output_type": "display_data"
    },
    {
     "name": "stdout",
     "output_type": "stream",
     "text": [
      "\n",
      "-Create the tpr file em_122_vdwq_17.tpr\n",
      "gmx grompp -f em_122_vdwq_17.mdp -c ../../mol_water_prod/prod_122.gro -r ../../mol_water_prod/prod_122.gro -p ../../mol_water_top/122_water.top -po out_em_122_vdwq_17.mdp -o em_122_vdwq_17.tpr -maxwarn 1\n",
      "-Launch the simulation em_122_vdwq_17.tpr\n",
      "gmx mdrun -s em_122_vdwq_17.tpr -deffnm em_122_vdwq_17 -nt 0 -ntmpi 0 -nsteps -2 -nocopyright\n"
     ]
    },
    {
     "data": {
      "application/vnd.jupyter.widget-view+json": {
       "model_id": "7a8382df6cff43bfa1dd05c17064e6e4",
       "version_major": 2,
       "version_minor": 0
      },
      "text/plain": [
       "HBox(children=(FloatProgress(value=0.0, max=5000.0), HTML(value='')))"
      ]
     },
     "metadata": {},
     "output_type": "display_data"
    },
    {
     "name": "stdout",
     "output_type": "stream",
     "text": [
      "\n",
      "-Create the tpr file nvt_122_vdwq_17.tpr\n",
      "gmx grompp -f nvt_122_vdwq_17.mdp -c ../00_em/em_122_vdwq_17.gro -r ../00_em/em_122_vdwq_17.gro -p ../../mol_water_top/122_water.top -po out_nvt_122_vdwq_17.mdp -o nvt_122_vdwq_17.tpr -maxwarn 1\n",
      "-Launch the simulation nvt_122_vdwq_17.tpr\n",
      "gmx mdrun -s nvt_122_vdwq_17.tpr -deffnm nvt_122_vdwq_17 -nt 0 -ntmpi 0 -nsteps -2 -nocopyright\n"
     ]
    },
    {
     "data": {
      "application/vnd.jupyter.widget-view+json": {
       "model_id": "c1b7bdd93f824c58bea8f088809a1d0d",
       "version_major": 2,
       "version_minor": 0
      },
      "text/plain": [
       "HBox(children=(FloatProgress(value=0.0, max=5000.0), HTML(value='')))"
      ]
     },
     "metadata": {},
     "output_type": "display_data"
    },
    {
     "name": "stdout",
     "output_type": "stream",
     "text": [
      "\n",
      "-Create the tpr file npt_122_vdwq_17.tpr\n",
      "gmx grompp -f npt_122_vdwq_17.mdp -c ../01_equi_nvt/nvt_122_vdwq_17.gro -r ../01_equi_nvt/nvt_122_vdwq_17.gro -p ../../mol_water_top/122_water.top -po out_npt_122_vdwq_17.mdp -o npt_122_vdwq_17.tpr -maxwarn 1\n",
      "-Launch the simulation npt_122_vdwq_17.tpr\n",
      "gmx mdrun -s npt_122_vdwq_17.tpr -deffnm npt_122_vdwq_17 -nt 0 -ntmpi 0 -nsteps -2 -nocopyright\n"
     ]
    },
    {
     "data": {
      "application/vnd.jupyter.widget-view+json": {
       "model_id": "6577815649cf47689c130249f3ce4a95",
       "version_major": 2,
       "version_minor": 0
      },
      "text/plain": [
       "HBox(children=(FloatProgress(value=0.0, max=5000.0), HTML(value='')))"
      ]
     },
     "metadata": {},
     "output_type": "display_data"
    },
    {
     "name": "stdout",
     "output_type": "stream",
     "text": [
      "\n",
      "-Create the tpr file prod_122_vdwq_17.tpr\n",
      "gmx grompp -f prod_122_vdwq_17.mdp -c ../02_equi_npt/npt_122_vdwq_17.gro -r ../02_equi_npt/npt_122_vdwq_17.gro -p ../../mol_water_top/122_water.top -po out_prod_122_vdwq_17.mdp -o prod_122_vdwq_17.tpr -maxwarn 1\n",
      "-Launch the simulation prod_122_vdwq_17.tpr\n",
      "gmx mdrun -s prod_122_vdwq_17.tpr -deffnm prod_122_vdwq_17 -nt 0 -ntmpi 0 -nsteps -2 -nocopyright\n"
     ]
    },
    {
     "data": {
      "application/vnd.jupyter.widget-view+json": {
       "model_id": "d6727a7aa19b4926b9848664c48f4185",
       "version_major": 2,
       "version_minor": 0
      },
      "text/plain": [
       "HBox(children=(FloatProgress(value=0.0, max=50000.0), HTML(value='')))"
      ]
     },
     "metadata": {},
     "output_type": "display_data"
    },
    {
     "name": "stdout",
     "output_type": "stream",
     "text": [
      "\n",
      "-Create the tpr file em_122_vdwq_18.tpr\n",
      "gmx grompp -f em_122_vdwq_18.mdp -c ../../mol_water_prod/prod_122.gro -r ../../mol_water_prod/prod_122.gro -p ../../mol_water_top/122_water.top -po out_em_122_vdwq_18.mdp -o em_122_vdwq_18.tpr -maxwarn 1\n",
      "-Launch the simulation em_122_vdwq_18.tpr\n",
      "gmx mdrun -s em_122_vdwq_18.tpr -deffnm em_122_vdwq_18 -nt 0 -ntmpi 0 -nsteps -2 -nocopyright\n"
     ]
    },
    {
     "data": {
      "application/vnd.jupyter.widget-view+json": {
       "model_id": "6d686f14d1b84200943ac1051bf1dab8",
       "version_major": 2,
       "version_minor": 0
      },
      "text/plain": [
       "HBox(children=(FloatProgress(value=0.0, max=5000.0), HTML(value='')))"
      ]
     },
     "metadata": {},
     "output_type": "display_data"
    },
    {
     "name": "stdout",
     "output_type": "stream",
     "text": [
      "\n",
      "-Create the tpr file nvt_122_vdwq_18.tpr\n",
      "gmx grompp -f nvt_122_vdwq_18.mdp -c ../00_em/em_122_vdwq_18.gro -r ../00_em/em_122_vdwq_18.gro -p ../../mol_water_top/122_water.top -po out_nvt_122_vdwq_18.mdp -o nvt_122_vdwq_18.tpr -maxwarn 1\n",
      "-Launch the simulation nvt_122_vdwq_18.tpr\n",
      "gmx mdrun -s nvt_122_vdwq_18.tpr -deffnm nvt_122_vdwq_18 -nt 0 -ntmpi 0 -nsteps -2 -nocopyright\n"
     ]
    },
    {
     "data": {
      "application/vnd.jupyter.widget-view+json": {
       "model_id": "54fbd3cdeebd4a5eaa196c43c6df7158",
       "version_major": 2,
       "version_minor": 0
      },
      "text/plain": [
       "HBox(children=(FloatProgress(value=0.0, max=5000.0), HTML(value='')))"
      ]
     },
     "metadata": {},
     "output_type": "display_data"
    },
    {
     "name": "stdout",
     "output_type": "stream",
     "text": [
      "\n",
      "-Create the tpr file npt_122_vdwq_18.tpr\n",
      "gmx grompp -f npt_122_vdwq_18.mdp -c ../01_equi_nvt/nvt_122_vdwq_18.gro -r ../01_equi_nvt/nvt_122_vdwq_18.gro -p ../../mol_water_top/122_water.top -po out_npt_122_vdwq_18.mdp -o npt_122_vdwq_18.tpr -maxwarn 1\n",
      "-Launch the simulation npt_122_vdwq_18.tpr\n",
      "gmx mdrun -s npt_122_vdwq_18.tpr -deffnm npt_122_vdwq_18 -nt 0 -ntmpi 0 -nsteps -2 -nocopyright\n"
     ]
    },
    {
     "data": {
      "application/vnd.jupyter.widget-view+json": {
       "model_id": "7fff3c5378bc4ce7a13821236be9560d",
       "version_major": 2,
       "version_minor": 0
      },
      "text/plain": [
       "HBox(children=(FloatProgress(value=0.0, max=5000.0), HTML(value='')))"
      ]
     },
     "metadata": {},
     "output_type": "display_data"
    },
    {
     "name": "stdout",
     "output_type": "stream",
     "text": [
      "\n",
      "-Create the tpr file prod_122_vdwq_18.tpr\n",
      "gmx grompp -f prod_122_vdwq_18.mdp -c ../02_equi_npt/npt_122_vdwq_18.gro -r ../02_equi_npt/npt_122_vdwq_18.gro -p ../../mol_water_top/122_water.top -po out_prod_122_vdwq_18.mdp -o prod_122_vdwq_18.tpr -maxwarn 1\n",
      "-Launch the simulation prod_122_vdwq_18.tpr\n",
      "gmx mdrun -s prod_122_vdwq_18.tpr -deffnm prod_122_vdwq_18 -nt 0 -ntmpi 0 -nsteps -2 -nocopyright\n"
     ]
    },
    {
     "data": {
      "application/vnd.jupyter.widget-view+json": {
       "model_id": "12ef32206c3f4c578000f47cb32ed947",
       "version_major": 2,
       "version_minor": 0
      },
      "text/plain": [
       "HBox(children=(FloatProgress(value=0.0, max=50000.0), HTML(value='')))"
      ]
     },
     "metadata": {},
     "output_type": "display_data"
    },
    {
     "name": "stdout",
     "output_type": "stream",
     "text": [
      "\n",
      "-Create the tpr file em_122_vdwq_19.tpr\n",
      "gmx grompp -f em_122_vdwq_19.mdp -c ../../mol_water_prod/prod_122.gro -r ../../mol_water_prod/prod_122.gro -p ../../mol_water_top/122_water.top -po out_em_122_vdwq_19.mdp -o em_122_vdwq_19.tpr -maxwarn 1\n",
      "-Launch the simulation em_122_vdwq_19.tpr\n",
      "gmx mdrun -s em_122_vdwq_19.tpr -deffnm em_122_vdwq_19 -nt 0 -ntmpi 0 -nsteps -2 -nocopyright\n"
     ]
    },
    {
     "data": {
      "application/vnd.jupyter.widget-view+json": {
       "model_id": "fc616fd1620647ed880758c4ce9ec236",
       "version_major": 2,
       "version_minor": 0
      },
      "text/plain": [
       "HBox(children=(FloatProgress(value=0.0, max=5000.0), HTML(value='')))"
      ]
     },
     "metadata": {},
     "output_type": "display_data"
    },
    {
     "name": "stdout",
     "output_type": "stream",
     "text": [
      "\n",
      "-Create the tpr file nvt_122_vdwq_19.tpr\n",
      "gmx grompp -f nvt_122_vdwq_19.mdp -c ../00_em/em_122_vdwq_19.gro -r ../00_em/em_122_vdwq_19.gro -p ../../mol_water_top/122_water.top -po out_nvt_122_vdwq_19.mdp -o nvt_122_vdwq_19.tpr -maxwarn 1\n",
      "-Launch the simulation nvt_122_vdwq_19.tpr\n",
      "gmx mdrun -s nvt_122_vdwq_19.tpr -deffnm nvt_122_vdwq_19 -nt 0 -ntmpi 0 -nsteps -2 -nocopyright\n"
     ]
    },
    {
     "data": {
      "application/vnd.jupyter.widget-view+json": {
       "model_id": "76c2329c23d748afb89aac377ebfd54b",
       "version_major": 2,
       "version_minor": 0
      },
      "text/plain": [
       "HBox(children=(FloatProgress(value=0.0, max=5000.0), HTML(value='')))"
      ]
     },
     "metadata": {},
     "output_type": "display_data"
    },
    {
     "name": "stdout",
     "output_type": "stream",
     "text": [
      "\n",
      "-Create the tpr file npt_122_vdwq_19.tpr\n",
      "gmx grompp -f npt_122_vdwq_19.mdp -c ../01_equi_nvt/nvt_122_vdwq_19.gro -r ../01_equi_nvt/nvt_122_vdwq_19.gro -p ../../mol_water_top/122_water.top -po out_npt_122_vdwq_19.mdp -o npt_122_vdwq_19.tpr -maxwarn 1\n",
      "-Launch the simulation npt_122_vdwq_19.tpr\n",
      "gmx mdrun -s npt_122_vdwq_19.tpr -deffnm npt_122_vdwq_19 -nt 0 -ntmpi 0 -nsteps -2 -nocopyright\n"
     ]
    },
    {
     "data": {
      "application/vnd.jupyter.widget-view+json": {
       "model_id": "711e0b4d0a1c4cdd96b935082c82687d",
       "version_major": 2,
       "version_minor": 0
      },
      "text/plain": [
       "HBox(children=(FloatProgress(value=0.0, max=5000.0), HTML(value='')))"
      ]
     },
     "metadata": {},
     "output_type": "display_data"
    },
    {
     "name": "stdout",
     "output_type": "stream",
     "text": [
      "\n",
      "-Create the tpr file prod_122_vdwq_19.tpr\n",
      "gmx grompp -f prod_122_vdwq_19.mdp -c ../02_equi_npt/npt_122_vdwq_19.gro -r ../02_equi_npt/npt_122_vdwq_19.gro -p ../../mol_water_top/122_water.top -po out_prod_122_vdwq_19.mdp -o prod_122_vdwq_19.tpr -maxwarn 1\n",
      "-Launch the simulation prod_122_vdwq_19.tpr\n",
      "gmx mdrun -s prod_122_vdwq_19.tpr -deffnm prod_122_vdwq_19 -nt 0 -ntmpi 0 -nsteps -2 -nocopyright\n"
     ]
    },
    {
     "data": {
      "application/vnd.jupyter.widget-view+json": {
       "model_id": "cf59c808c54045c2a29850453e7653f4",
       "version_major": 2,
       "version_minor": 0
      },
      "text/plain": [
       "HBox(children=(FloatProgress(value=0.0, max=50000.0), HTML(value='')))"
      ]
     },
     "metadata": {},
     "output_type": "display_data"
    },
    {
     "name": "stdout",
     "output_type": "stream",
     "text": [
      "\n",
      "-Extract bar energy\n",
      "gmx bar -f data_lig_trypsin_1GI2/mol_free_ener/03_prod/prod_122_vdwq_00.xvg data_lig_trypsin_1GI2/mol_free_ener/03_prod/prod_122_vdwq_01.xvg data_lig_trypsin_1GI2/mol_free_ener/03_prod/prod_122_vdwq_02.xvg data_lig_trypsin_1GI2/mol_free_ener/03_prod/prod_122_vdwq_03.xvg data_lig_trypsin_1GI2/mol_free_ener/03_prod/prod_122_vdwq_04.xvg data_lig_trypsin_1GI2/mol_free_ener/03_prod/prod_122_vdwq_05.xvg data_lig_trypsin_1GI2/mol_free_ener/03_prod/prod_122_vdwq_06.xvg data_lig_trypsin_1GI2/mol_free_ener/03_prod/prod_122_vdwq_07.xvg data_lig_trypsin_1GI2/mol_free_ener/03_prod/prod_122_vdwq_08.xvg data_lig_trypsin_1GI2/mol_free_ener/03_prod/prod_122_vdwq_09.xvg data_lig_trypsin_1GI2/mol_free_ener/03_prod/prod_122_vdwq_10.xvg data_lig_trypsin_1GI2/mol_free_ener/03_prod/prod_122_vdwq_11.xvg data_lig_trypsin_1GI2/mol_free_ener/03_prod/prod_122_vdwq_12.xvg data_lig_trypsin_1GI2/mol_free_ener/03_prod/prod_122_vdwq_13.xvg data_lig_trypsin_1GI2/mol_free_ener/03_prod/prod_122_vdwq_14.xvg data_lig_trypsin_1GI2/mol_free_ener/03_prod/prod_122_vdwq_15.xvg data_lig_trypsin_1GI2/mol_free_ener/03_prod/prod_122_vdwq_16.xvg data_lig_trypsin_1GI2/mol_free_ener/03_prod/prod_122_vdwq_17.xvg data_lig_trypsin_1GI2/mol_free_ener/03_prod/prod_122_vdwq_18.xvg data_lig_trypsin_1GI2/mol_free_ener/03_prod/prod_122_vdwq_19.xvg -o bar.xvg -oi barint.xvg -oh histogram.xvg\n",
      "total      0 -     19,   DG 198.66 +/-  3.72\n",
      "DDG = 198.66 +/- 3.72 KJ/mol-1\n",
      "DDG = 47.48 +/- 0.89 Kcal/mol-1\n"
     ]
    }
   ],
   "source": [
    "ener_solv = test.free_ener(out_folder=os.path.join(DATA_OUT, 'mol_free_ener'),\n",
    "                      mol_name=MOL_ID, lambda_elec_num=10, lambda_vdw_num=10,\n",
    "                      em_steps=5000, nvt_time=10, npt_time=10, prod_time=100)"
   ]
  },
  {
   "cell_type": "code",
   "execution_count": 58,
   "metadata": {},
   "outputs": [
    {
     "data": {
      "text/plain": [
       "{'DG': 198.66, 'std': 3.72}"
      ]
     },
     "execution_count": 58,
     "metadata": {},
     "output_type": "execute_result"
    }
   ],
   "source": [
    "ener_solv"
   ]
  },
  {
   "cell_type": "markdown",
   "metadata": {},
   "source": [
    "## Protein-Ligand system preparation"
   ]
  },
  {
   "cell_type": "code",
   "execution_count": 46,
   "metadata": {},
   "outputs": [
    {
     "name": "stdout",
     "output_type": "stream",
     "text": [
      "-Create pbc box\n",
      "gmx editconf -f data_lig_trypsin_1GI2/prot_top/1GI2_pdb2gmx_mol.pdb -o data_lig_trypsin_1GI2/prot_top/1GI2_pdb2gmx_mol_box.pdb -bt dodecahedron -d 1.0\n",
      "WARNING !!! ADDING unusual parameter : \"emtol\"in the mdp file None\n",
      "-Create the tpr file Init_em_1GI2.tpr\n",
      "gmx grompp -f Init_em_1GI2.mdp -c ../prot_top/1GI2_pdb2gmx_mol_box.pdb -r ../prot_top/1GI2_pdb2gmx_mol_box.pdb -p ../prot_top/1GI2_pdb2gmx_mol.top -po out_Init_em_1GI2.mdp -o Init_em_1GI2.tpr -maxwarn 3\n",
      "-Launch the simulation Init_em_1GI2.tpr\n",
      "gmx mdrun -s Init_em_1GI2.tpr -deffnm Init_em_1GI2 -nt 0 -ntmpi 0 -nsteps -2 -nocopyright\n"
     ]
    },
    {
     "data": {
      "application/vnd.jupyter.widget-view+json": {
       "model_id": "b61b8ba3a7594ad3a4b56addb791af79",
       "version_major": 2,
       "version_minor": 0
      },
      "text/plain": [
       "HBox(children=(FloatProgress(value=0.0, max=10000.0), HTML(value='')))"
      ]
     },
     "metadata": {},
     "output_type": "display_data"
    },
    {
     "name": "stdout",
     "output_type": "stream",
     "text": [
      "\n",
      "WARNING !!! ADDING unusual parameter : \"emtol\"in the mdp file Init_em_1GI2.mdp\n",
      "-Create the tpr file 1GI2.tpr\n",
      "gmx grompp -f 1GI2.mdp -c Init_em_1GI2.gro -r Init_em_1GI2.gro -p ../prot_top/1GI2_pdb2gmx_mol.top -po out_1GI2.mdp -o 1GI2.tpr -maxwarn 3\n",
      "-Launch the simulation 1GI2.tpr\n",
      "gmx mdrun -s 1GI2.tpr -deffnm 1GI2 -nt 0 -ntmpi 0 -nsteps -2 -nocopyright\n"
     ]
    },
    {
     "data": {
      "application/vnd.jupyter.widget-view+json": {
       "model_id": "7baf63dce97f4505ba347516882d395b",
       "version_major": 2,
       "version_minor": 0
      },
      "text/plain": [
       "HBox(children=(FloatProgress(value=0.0, max=10000.0), HTML(value='')))"
      ]
     },
     "metadata": {},
     "output_type": "display_data"
    },
    {
     "name": "stdout",
     "output_type": "stream",
     "text": [
      "\n"
     ]
    }
   ],
   "source": [
    "md_sys.em_2_steps(out_folder=os.path.join(DATA_OUT, 'prot_em'),\n",
    "                  no_constr_nsteps=10000,\n",
    "                  constr_nsteps=10000,\n",
    "                  posres=\"\",\n",
    "                  emtol=0.1, nstxout=100, maxwarn=3,\n",
    "                  create_box_flag=True)"
   ]
  },
  {
   "cell_type": "code",
   "execution_count": 47,
   "metadata": {},
   "outputs": [
    {
     "data": {
      "application/vnd.jupyter.widget-view+json": {
       "model_id": "43b4407479434ff3b23e72de525d0376",
       "version_major": 2,
       "version_minor": 0
      },
      "text/plain": [
       "_ColormakerRegistry()"
      ]
     },
     "metadata": {},
     "output_type": "display_data"
    },
    {
     "name": "stdout",
     "output_type": "stream",
     "text": [
      "-Convert trj/coor\n",
      "gmx trjconv -f data_lig_trypsin_1GI2/prot_em/1GI2.gro -o data_lig_trypsin_1GI2/prot_em/1GI2_compact.pdb -s data_lig_trypsin_1GI2/prot_em/1GI2.tpr -ur compact -pbc none\n",
      "Succeed to read file data_lig_trypsin_1GI2/prot_em/1GI2_compact.pdb ,  3253 atoms found\n"
     ]
    },
    {
     "data": {
      "application/vnd.jupyter.widget-view+json": {
       "model_id": "230703d9f1ef4b3d86a544d8759dabe1",
       "version_major": 2,
       "version_minor": 0
      },
      "text/plain": [
       "NGLWidget()"
      ]
     },
     "metadata": {},
     "output_type": "display_data"
    }
   ],
   "source": [
    "view = md_sys.view_coor()\n",
    "view"
   ]
  },
  {
   "cell_type": "code",
   "execution_count": 48,
   "metadata": {},
   "outputs": [
    {
     "name": "stdout",
     "output_type": "stream",
     "text": [
      "-Solvate the pbc box\n",
      "Copy topologie file and dependancies\n",
      "Copy topologie file and dependancies\n",
      "-Create the tpr file genion_1GI2_water_ion.tpr\n",
      "gmx grompp -f ../../../../gromacs_py/template/mini.mdp -c 1GI2_water.pdb -r 1GI2_water.pdb -p 1GI2_water_ion.top -po out_mini.mdp -o genion_1GI2_water_ion.tpr -maxwarn 3\n",
      "-Add ions to the system with an ionic concentration of 0.15 M , sytem charge = 8.0 water num= 7709\n",
      "Add ions : NA : 21   CL : 29\n",
      "gmx genion -s genion_1GI2_water_ion.tpr -p 1GI2_water_ion.top -o 1GI2_water_ion.gro -np 21 -pname NA -nn 29 -nname CL\n",
      "name         : 1GI2\n",
      "sim_name     : genion_1GI2_water_ion\n",
      "coor_file    : data_lig_trypsin_1GI2/sys_top/1GI2_water_ion.gro\n",
      "top_file     : data_lig_trypsin_1GI2/sys_top/1GI2_water_ion.top\n",
      "tpr          : data_lig_trypsin_1GI2/sys_top/genion_1GI2_water_ion.tpr\n",
      "mdp          : ../../gromacs_py/template/mini.mdp\n",
      "xtc          : data_lig_trypsin_1GI2/prot_em/1GI2.trr\n",
      "edr          : data_lig_trypsin_1GI2/prot_em/1GI2.edr\n",
      "log          : data_lig_trypsin_1GI2/prot_em/1GI2.log\n",
      "nt           : 0\n",
      "ntmpi        : 0\n",
      "sys_history  : 2\n"
     ]
    }
   ],
   "source": [
    "md_sys.solvate_add_ions(out_folder=os.path.join(DATA_OUT, 'sys_top'),\n",
    "                        ion_C=0.15, maxwarn=3, create_box_flag=False)\n",
    "md_sys.display()\n"
   ]
  },
  {
   "cell_type": "code",
   "execution_count": 49,
   "metadata": {},
   "outputs": [
    {
     "name": "stdout",
     "output_type": "stream",
     "text": [
      "-Create the tpr file Init_em_1GI2.tpr\n",
      "gmx grompp -f Init_em_1GI2.mdp -c ../sys_top/1GI2_water_ion.gro -r ../sys_top/1GI2_water_ion.gro -p ../sys_top/1GI2_water_ion.top -po out_Init_em_1GI2.mdp -o Init_em_1GI2.tpr -maxwarn 3\n",
      "-Launch the simulation Init_em_1GI2.tpr\n",
      "gmx mdrun -s Init_em_1GI2.tpr -deffnm Init_em_1GI2 -nt 0 -ntmpi 0 -nsteps -2 -nocopyright\n"
     ]
    },
    {
     "data": {
      "application/vnd.jupyter.widget-view+json": {
       "model_id": "d43d8fe1c982460cb3dfc2ebefafe437",
       "version_major": 2,
       "version_minor": 0
      },
      "text/plain": [
       "HBox(children=(FloatProgress(value=0.0, max=10000.0), HTML(value='')))"
      ]
     },
     "metadata": {},
     "output_type": "display_data"
    },
    {
     "name": "stdout",
     "output_type": "stream",
     "text": [
      "\n",
      "-Create the tpr file 1GI2.tpr\n",
      "gmx grompp -f 1GI2.mdp -c Init_em_1GI2.gro -r Init_em_1GI2.gro -p ../sys_top/1GI2_water_ion.top -po out_1GI2.mdp -o 1GI2.tpr -maxwarn 3\n",
      "-Launch the simulation 1GI2.tpr\n",
      "gmx mdrun -s 1GI2.tpr -deffnm 1GI2 -nt 0 -ntmpi 0 -nsteps -2 -nocopyright\n"
     ]
    },
    {
     "data": {
      "application/vnd.jupyter.widget-view+json": {
       "model_id": "9848b7929b704622a734b3b6906a0323",
       "version_major": 2,
       "version_minor": 0
      },
      "text/plain": [
       "HBox(children=(FloatProgress(value=0.0, max=10000.0), HTML(value='')))"
      ]
     },
     "metadata": {},
     "output_type": "display_data"
    },
    {
     "name": "stdout",
     "output_type": "stream",
     "text": [
      "\n"
     ]
    }
   ],
   "source": [
    "md_sys.em_2_steps(out_folder=os.path.join(DATA_OUT, 'sys_em'),\n",
    "                  no_constr_nsteps=10000,\n",
    "                  constr_nsteps=10000,\n",
    "                  posres=\"\",maxwarn=3)"
   ]
  },
  {
   "cell_type": "code",
   "execution_count": 50,
   "metadata": {},
   "outputs": [
    {
     "name": "stdout",
     "output_type": "stream",
     "text": [
      "-Create the tpr file equi_HA_short_1GI2.tpr\n",
      "gmx grompp -f equi_HA_short_1GI2.mdp -c ../sys_em/1GI2.gro -r ../sys_em/1GI2.gro -p ../sys_top/1GI2_water_ion.top -po out_equi_HA_short_1GI2.mdp -o equi_HA_short_1GI2.tpr -maxwarn 3\n",
      "-Launch the simulation equi_HA_short_1GI2.tpr\n",
      "gmx mdrun -s equi_HA_short_1GI2.tpr -deffnm equi_HA_short_1GI2 -nt 0 -ntmpi 0 -nsteps -2 -nocopyright\n"
     ]
    },
    {
     "data": {
      "application/vnd.jupyter.widget-view+json": {
       "model_id": "49aff940d77b4e2f857f8f44f120203f",
       "version_major": 2,
       "version_minor": 0
      },
      "text/plain": [
       "HBox(children=(FloatProgress(value=0.0, max=20000.0), HTML(value='')))"
      ]
     },
     "metadata": {},
     "output_type": "display_data"
    },
    {
     "name": "stdout",
     "output_type": "stream",
     "text": [
      "\n"
     ]
    }
   ],
   "source": [
    "mdp_options = {'nsteps': 20000,\n",
    "               'define': '-DPOSRES', 'dt': 0.0005,\n",
    "               'tc-grps': 'Protein {} Water_and_ions'.format(MOL_ID),\n",
    "               'tau_t': '0.1 0.1 0.1',\n",
    "               'ref_t' : '310 310 310'}\n",
    "\n",
    "equi_template_mdp = os.path.join(gmx.GROMACS_MOD_DIRNAME,\n",
    "                                 \"template/equi.mdp\")\n",
    "md_sys.run_md_sim(out_folder=os.path.join(DATA_OUT, \"sys_short_equi\"),\n",
    "                  name=\"equi_HA_short_\" + PDB_ID,\n",
    "                  mdp_template=equi_template_mdp,\n",
    "                  mdp_options=mdp_options, maxwarn=3)"
   ]
  },
  {
   "cell_type": "code",
   "execution_count": 51,
   "metadata": {
    "scrolled": false
   },
   "outputs": [
    {
     "name": "stdout",
     "output_type": "stream",
     "text": [
      "-Create the tpr file equi_HA_1GI2.tpr\n",
      "gmx grompp -f equi_HA_1GI2.mdp -c ../../sys_short_equi/equi_HA_short_1GI2.gro -r ../../sys_short_equi/equi_HA_short_1GI2.gro -p ../../sys_top/1GI2_water_ion.top -po out_equi_HA_1GI2.mdp -o equi_HA_1GI2.tpr -maxwarn 3\n",
      "-Launch the simulation equi_HA_1GI2.tpr\n",
      "gmx mdrun -s equi_HA_1GI2.tpr -deffnm equi_HA_1GI2 -nt 0 -ntmpi 0 -nsteps -2 -nocopyright\n"
     ]
    },
    {
     "data": {
      "application/vnd.jupyter.widget-view+json": {
       "model_id": "62fdeef8f22f48398a40fa2bdf2f0f59",
       "version_major": 2,
       "version_minor": 0
      },
      "text/plain": [
       "HBox(children=(FloatProgress(value=0.0, max=250000.0), HTML(value='')))"
      ]
     },
     "metadata": {},
     "output_type": "display_data"
    },
    {
     "name": "stdout",
     "output_type": "stream",
     "text": [
      "\n",
      "-Create the tpr file equi_CA_1GI2.tpr\n",
      "gmx grompp -f equi_CA_1GI2.mdp -c ../00_equi_HA/equi_HA_1GI2.gro -r ../../sys_short_equi/equi_HA_short_1GI2.gro -p ../../sys_top/1GI2_water_ion.top -po out_equi_CA_1GI2.mdp -o equi_CA_1GI2.tpr -maxwarn 3\n",
      "-Launch the simulation equi_CA_1GI2.tpr\n",
      "gmx mdrun -s equi_CA_1GI2.tpr -deffnm equi_CA_1GI2 -nt 0 -ntmpi 0 -nsteps -2 -nocopyright\n"
     ]
    },
    {
     "data": {
      "application/vnd.jupyter.widget-view+json": {
       "model_id": "37accd533dba481dafce38f7f5a4d6e6",
       "version_major": 2,
       "version_minor": 0
      },
      "text/plain": [
       "HBox(children=(FloatProgress(value=0.0, max=250000.0), HTML(value='')))"
      ]
     },
     "metadata": {},
     "output_type": "display_data"
    },
    {
     "name": "stdout",
     "output_type": "stream",
     "text": [
      "\n",
      "-Create the tpr file equi_CA_LOW_1GI2.tpr\n",
      "gmx grompp -f equi_CA_LOW_1GI2.mdp -c ../01_equi_CA/equi_CA_1GI2.gro -r ../../sys_short_equi/equi_HA_short_1GI2.gro -p ../../sys_top/1GI2_water_ion.top -po out_equi_CA_LOW_1GI2.mdp -o equi_CA_LOW_1GI2.tpr -maxwarn 3\n",
      "-Launch the simulation equi_CA_LOW_1GI2.tpr\n",
      "gmx mdrun -s equi_CA_LOW_1GI2.tpr -deffnm equi_CA_LOW_1GI2 -nt 0 -ntmpi 0 -nsteps -2 -nocopyright\n"
     ]
    },
    {
     "data": {
      "application/vnd.jupyter.widget-view+json": {
       "model_id": "554ac2bc20434aa7bbccf98e680d0b5b",
       "version_major": 2,
       "version_minor": 0
      },
      "text/plain": [
       "HBox(children=(FloatProgress(value=0.0, max=500000.0), HTML(value='')))"
      ]
     },
     "metadata": {},
     "output_type": "display_data"
    },
    {
     "name": "stdout",
     "output_type": "stream",
     "text": [
      "\n"
     ]
    }
   ],
   "source": [
    "HA_time = 0.25\n",
    "CA_time = 0.5\n",
    "CA_LOW_time = 1.0\n",
    "dt = 0.002\n",
    "dt_HA = 0.001\n",
    "\n",
    "md_sys.equi_three_step(out_folder=os.path.join(DATA_OUT, 'sys_equi'),\n",
    "                                     nsteps_HA=1000 * HA_time / dt_HA,\n",
    "                                     nsteps_CA=1000 * CA_time / dt,\n",
    "                                     nsteps_CA_LOW=1000 * CA_LOW_time / dt,\n",
    "                                     dt=dt, dt_HA=dt_HA, maxwarn=3)\n"
   ]
  },
  {
   "cell_type": "code",
   "execution_count": 52,
   "metadata": {},
   "outputs": [
    {
     "data": {
      "application/vnd.jupyter.widget-view+json": {
       "model_id": "bbc917d1f94d4fe799f21bdac3140ec4",
       "version_major": 2,
       "version_minor": 0
      },
      "text/plain": [
       "NGLWidget(max_frame=100)"
      ]
     },
     "metadata": {},
     "output_type": "display_data"
    }
   ],
   "source": [
    "view = md_sys.view_traj()\n",
    "view"
   ]
  },
  {
   "cell_type": "code",
   "execution_count": 53,
   "metadata": {},
   "outputs": [],
   "source": [
    "start_sys = copy.deepcopy(md_sys)"
   ]
  },
  {
   "cell_type": "code",
   "execution_count": 54,
   "metadata": {},
   "outputs": [
    {
     "name": "stdout",
     "output_type": "stream",
     "text": [
      "/home/murail/Documents/Code/gromacs_py/docs/notebook\n"
     ]
    }
   ],
   "source": [
    "cd /home/murail/Documents/Code/gromacs_py/docs/notebook/"
   ]
  },
  {
   "cell_type": "code",
   "execution_count": 55,
   "metadata": {},
   "outputs": [],
   "source": [
    "#rm -r data_lig_trypsin/free_test_2"
   ]
  },
  {
   "cell_type": "markdown",
   "metadata": {},
   "source": [
    "## Free energy calculation of binding"
   ]
  },
  {
   "cell_type": "code",
   "execution_count": 56,
   "metadata": {
    "scrolled": true
   },
   "outputs": [
    {
     "name": "stdout",
     "output_type": "stream",
     "text": [
      "Coulomb lambda :0.0 0.111 0.222 0.333 0.444 0.556 0.667 0.778 0.889 1.0 1.0 1.0 1.0 1.0 1.0 1.0 1.0 1.0 1.0 1.0\n",
      "Vdw lambda :0.0 0.0 0.0 0.0 0.0 0.0 0.0 0.0 0.0 0.0 0.1 0.2 0.3 0.4 0.5 0.6 0.7 0.8 0.9 1.0\n",
      "\n",
      "\n",
      "\n",
      "\n"
     ]
    },
    {
     "data": {
      "application/vnd.jupyter.widget-view+json": {
       "model_id": "69ababd126cc4315bcf95c48e1309fe0",
       "version_major": 2,
       "version_minor": 0
      },
      "text/plain": [
       "HBox(children=(FloatProgress(value=0.0, max=1300000.0), HTML(value='')))"
      ]
     },
     "metadata": {},
     "output_type": "display_data"
    },
    {
     "name": "stdout",
     "output_type": "stream",
     "text": [
      "-Create the tpr file em_1GI2_vdwq_00.tpr\n",
      "gmx grompp -f em_1GI2_vdwq_00.mdp -c ../../sys_equi/02_equi_CA_LOW/equi_CA_LOW_1GI2.gro -r ../../sys_equi/02_equi_CA_LOW/equi_CA_LOW_1GI2.gro -p ../../sys_top/1GI2_water_ion.top -po out_em_1GI2_vdwq_00.mdp -o em_1GI2_vdwq_00.tpr -maxwarn 1\n",
      "-Launch the simulation em_1GI2_vdwq_00.tpr\n",
      "gmx mdrun -s em_1GI2_vdwq_00.tpr -deffnm em_1GI2_vdwq_00 -nt 0 -ntmpi 0 -nsteps -2 -nocopyright\n"
     ]
    },
    {
     "data": {
      "application/vnd.jupyter.widget-view+json": {
       "model_id": "076af6eea3534eb09caf335ba3f6578f",
       "version_major": 2,
       "version_minor": 0
      },
      "text/plain": [
       "HBox(children=(FloatProgress(value=0.0, max=5000.0), HTML(value='')))"
      ]
     },
     "metadata": {},
     "output_type": "display_data"
    },
    {
     "name": "stdout",
     "output_type": "stream",
     "text": [
      "\n",
      "-Create the tpr file nvt_1GI2_vdwq_00.tpr\n",
      "gmx grompp -f nvt_1GI2_vdwq_00.mdp -c ../00_em/em_1GI2_vdwq_00.gro -r ../00_em/em_1GI2_vdwq_00.gro -p ../../sys_top/1GI2_water_ion.top -po out_nvt_1GI2_vdwq_00.mdp -o nvt_1GI2_vdwq_00.tpr -maxwarn 1\n",
      "-Launch the simulation nvt_1GI2_vdwq_00.tpr\n",
      "gmx mdrun -s nvt_1GI2_vdwq_00.tpr -deffnm nvt_1GI2_vdwq_00 -nt 0 -ntmpi 0 -nsteps -2 -nocopyright\n"
     ]
    },
    {
     "data": {
      "application/vnd.jupyter.widget-view+json": {
       "model_id": "b8cdcdecb62140abb1fd596d805678f5",
       "version_major": 2,
       "version_minor": 0
      },
      "text/plain": [
       "HBox(children=(FloatProgress(value=0.0, max=5000.0), HTML(value='')))"
      ]
     },
     "metadata": {},
     "output_type": "display_data"
    },
    {
     "name": "stdout",
     "output_type": "stream",
     "text": [
      "\n",
      "-Create the tpr file npt_1GI2_vdwq_00.tpr\n",
      "gmx grompp -f npt_1GI2_vdwq_00.mdp -c ../01_equi_nvt/nvt_1GI2_vdwq_00.gro -r ../01_equi_nvt/nvt_1GI2_vdwq_00.gro -p ../../sys_top/1GI2_water_ion.top -po out_npt_1GI2_vdwq_00.mdp -o npt_1GI2_vdwq_00.tpr -maxwarn 1\n",
      "-Launch the simulation npt_1GI2_vdwq_00.tpr\n",
      "gmx mdrun -s npt_1GI2_vdwq_00.tpr -deffnm npt_1GI2_vdwq_00 -nt 0 -ntmpi 0 -nsteps -2 -nocopyright\n"
     ]
    },
    {
     "data": {
      "application/vnd.jupyter.widget-view+json": {
       "model_id": "6a252790bef546e195ea21336212ad14",
       "version_major": 2,
       "version_minor": 0
      },
      "text/plain": [
       "HBox(children=(FloatProgress(value=0.0, max=5000.0), HTML(value='')))"
      ]
     },
     "metadata": {},
     "output_type": "display_data"
    },
    {
     "name": "stdout",
     "output_type": "stream",
     "text": [
      "\n",
      "-Create the tpr file prod_1GI2_vdwq_00.tpr\n",
      "gmx grompp -f prod_1GI2_vdwq_00.mdp -c ../02_equi_npt/npt_1GI2_vdwq_00.gro -r ../02_equi_npt/npt_1GI2_vdwq_00.gro -p ../../sys_top/1GI2_water_ion.top -po out_prod_1GI2_vdwq_00.mdp -o prod_1GI2_vdwq_00.tpr -maxwarn 1\n",
      "-Launch the simulation prod_1GI2_vdwq_00.tpr\n",
      "gmx mdrun -s prod_1GI2_vdwq_00.tpr -deffnm prod_1GI2_vdwq_00 -nt 0 -ntmpi 0 -nsteps -2 -nocopyright\n"
     ]
    },
    {
     "data": {
      "application/vnd.jupyter.widget-view+json": {
       "model_id": "f5c5c4c3fcad474c8f3fc4fe366dbc3f",
       "version_major": 2,
       "version_minor": 0
      },
      "text/plain": [
       "HBox(children=(FloatProgress(value=0.0, max=50000.0), HTML(value='')))"
      ]
     },
     "metadata": {},
     "output_type": "display_data"
    },
    {
     "name": "stdout",
     "output_type": "stream",
     "text": [
      "\n",
      "-Create the tpr file em_1GI2_vdwq_01.tpr\n",
      "gmx grompp -f em_1GI2_vdwq_01.mdp -c ../../sys_equi/02_equi_CA_LOW/equi_CA_LOW_1GI2.gro -r ../../sys_equi/02_equi_CA_LOW/equi_CA_LOW_1GI2.gro -p ../../sys_top/1GI2_water_ion.top -po out_em_1GI2_vdwq_01.mdp -o em_1GI2_vdwq_01.tpr -maxwarn 1\n",
      "-Launch the simulation em_1GI2_vdwq_01.tpr\n",
      "gmx mdrun -s em_1GI2_vdwq_01.tpr -deffnm em_1GI2_vdwq_01 -nt 0 -ntmpi 0 -nsteps -2 -nocopyright\n"
     ]
    },
    {
     "data": {
      "application/vnd.jupyter.widget-view+json": {
       "model_id": "034966459d0642c7a2e4fa77e6607215",
       "version_major": 2,
       "version_minor": 0
      },
      "text/plain": [
       "HBox(children=(FloatProgress(value=0.0, max=5000.0), HTML(value='')))"
      ]
     },
     "metadata": {},
     "output_type": "display_data"
    },
    {
     "name": "stdout",
     "output_type": "stream",
     "text": [
      "\n",
      "-Create the tpr file nvt_1GI2_vdwq_01.tpr\n",
      "gmx grompp -f nvt_1GI2_vdwq_01.mdp -c ../00_em/em_1GI2_vdwq_01.gro -r ../00_em/em_1GI2_vdwq_01.gro -p ../../sys_top/1GI2_water_ion.top -po out_nvt_1GI2_vdwq_01.mdp -o nvt_1GI2_vdwq_01.tpr -maxwarn 1\n",
      "-Launch the simulation nvt_1GI2_vdwq_01.tpr\n",
      "gmx mdrun -s nvt_1GI2_vdwq_01.tpr -deffnm nvt_1GI2_vdwq_01 -nt 0 -ntmpi 0 -nsteps -2 -nocopyright\n"
     ]
    },
    {
     "data": {
      "application/vnd.jupyter.widget-view+json": {
       "model_id": "afc28b0cfe344385ac42d3ec50595acf",
       "version_major": 2,
       "version_minor": 0
      },
      "text/plain": [
       "HBox(children=(FloatProgress(value=0.0, max=5000.0), HTML(value='')))"
      ]
     },
     "metadata": {},
     "output_type": "display_data"
    },
    {
     "name": "stdout",
     "output_type": "stream",
     "text": [
      "\n",
      "-Create the tpr file npt_1GI2_vdwq_01.tpr\n",
      "gmx grompp -f npt_1GI2_vdwq_01.mdp -c ../01_equi_nvt/nvt_1GI2_vdwq_01.gro -r ../01_equi_nvt/nvt_1GI2_vdwq_01.gro -p ../../sys_top/1GI2_water_ion.top -po out_npt_1GI2_vdwq_01.mdp -o npt_1GI2_vdwq_01.tpr -maxwarn 1\n",
      "-Launch the simulation npt_1GI2_vdwq_01.tpr\n",
      "gmx mdrun -s npt_1GI2_vdwq_01.tpr -deffnm npt_1GI2_vdwq_01 -nt 0 -ntmpi 0 -nsteps -2 -nocopyright\n"
     ]
    },
    {
     "data": {
      "application/vnd.jupyter.widget-view+json": {
       "model_id": "57f74d4a6e4b41ca9556fa9ad55fa155",
       "version_major": 2,
       "version_minor": 0
      },
      "text/plain": [
       "HBox(children=(FloatProgress(value=0.0, max=5000.0), HTML(value='')))"
      ]
     },
     "metadata": {},
     "output_type": "display_data"
    },
    {
     "name": "stdout",
     "output_type": "stream",
     "text": [
      "\n",
      "-Create the tpr file prod_1GI2_vdwq_01.tpr\n",
      "gmx grompp -f prod_1GI2_vdwq_01.mdp -c ../02_equi_npt/npt_1GI2_vdwq_01.gro -r ../02_equi_npt/npt_1GI2_vdwq_01.gro -p ../../sys_top/1GI2_water_ion.top -po out_prod_1GI2_vdwq_01.mdp -o prod_1GI2_vdwq_01.tpr -maxwarn 1\n",
      "-Launch the simulation prod_1GI2_vdwq_01.tpr\n",
      "gmx mdrun -s prod_1GI2_vdwq_01.tpr -deffnm prod_1GI2_vdwq_01 -nt 0 -ntmpi 0 -nsteps -2 -nocopyright\n"
     ]
    },
    {
     "data": {
      "application/vnd.jupyter.widget-view+json": {
       "model_id": "ec1d96f5a264489aaaf710128f1f9533",
       "version_major": 2,
       "version_minor": 0
      },
      "text/plain": [
       "HBox(children=(FloatProgress(value=0.0, max=50000.0), HTML(value='')))"
      ]
     },
     "metadata": {},
     "output_type": "display_data"
    },
    {
     "name": "stdout",
     "output_type": "stream",
     "text": [
      "\n",
      "-Create the tpr file em_1GI2_vdwq_02.tpr\n",
      "gmx grompp -f em_1GI2_vdwq_02.mdp -c ../../sys_equi/02_equi_CA_LOW/equi_CA_LOW_1GI2.gro -r ../../sys_equi/02_equi_CA_LOW/equi_CA_LOW_1GI2.gro -p ../../sys_top/1GI2_water_ion.top -po out_em_1GI2_vdwq_02.mdp -o em_1GI2_vdwq_02.tpr -maxwarn 1\n",
      "-Launch the simulation em_1GI2_vdwq_02.tpr\n",
      "gmx mdrun -s em_1GI2_vdwq_02.tpr -deffnm em_1GI2_vdwq_02 -nt 0 -ntmpi 0 -nsteps -2 -nocopyright\n"
     ]
    },
    {
     "data": {
      "application/vnd.jupyter.widget-view+json": {
       "model_id": "c290197ba2df4858a4030b65a1bde3df",
       "version_major": 2,
       "version_minor": 0
      },
      "text/plain": [
       "HBox(children=(FloatProgress(value=0.0, max=5000.0), HTML(value='')))"
      ]
     },
     "metadata": {},
     "output_type": "display_data"
    },
    {
     "name": "stdout",
     "output_type": "stream",
     "text": [
      "\n",
      "-Create the tpr file nvt_1GI2_vdwq_02.tpr\n",
      "gmx grompp -f nvt_1GI2_vdwq_02.mdp -c ../00_em/em_1GI2_vdwq_02.gro -r ../00_em/em_1GI2_vdwq_02.gro -p ../../sys_top/1GI2_water_ion.top -po out_nvt_1GI2_vdwq_02.mdp -o nvt_1GI2_vdwq_02.tpr -maxwarn 1\n",
      "-Launch the simulation nvt_1GI2_vdwq_02.tpr\n",
      "gmx mdrun -s nvt_1GI2_vdwq_02.tpr -deffnm nvt_1GI2_vdwq_02 -nt 0 -ntmpi 0 -nsteps -2 -nocopyright\n"
     ]
    },
    {
     "data": {
      "application/vnd.jupyter.widget-view+json": {
       "model_id": "21f0e97f11114ced8ecd1a85ba7e57b3",
       "version_major": 2,
       "version_minor": 0
      },
      "text/plain": [
       "HBox(children=(FloatProgress(value=0.0, max=5000.0), HTML(value='')))"
      ]
     },
     "metadata": {},
     "output_type": "display_data"
    },
    {
     "name": "stdout",
     "output_type": "stream",
     "text": [
      "\n",
      "-Create the tpr file npt_1GI2_vdwq_02.tpr\n",
      "gmx grompp -f npt_1GI2_vdwq_02.mdp -c ../01_equi_nvt/nvt_1GI2_vdwq_02.gro -r ../01_equi_nvt/nvt_1GI2_vdwq_02.gro -p ../../sys_top/1GI2_water_ion.top -po out_npt_1GI2_vdwq_02.mdp -o npt_1GI2_vdwq_02.tpr -maxwarn 1\n",
      "-Launch the simulation npt_1GI2_vdwq_02.tpr\n",
      "gmx mdrun -s npt_1GI2_vdwq_02.tpr -deffnm npt_1GI2_vdwq_02 -nt 0 -ntmpi 0 -nsteps -2 -nocopyright\n"
     ]
    },
    {
     "data": {
      "application/vnd.jupyter.widget-view+json": {
       "model_id": "408c708efc754efebce00f2d3fa24e28",
       "version_major": 2,
       "version_minor": 0
      },
      "text/plain": [
       "HBox(children=(FloatProgress(value=0.0, max=5000.0), HTML(value='')))"
      ]
     },
     "metadata": {},
     "output_type": "display_data"
    },
    {
     "name": "stdout",
     "output_type": "stream",
     "text": [
      "\n",
      "-Create the tpr file prod_1GI2_vdwq_02.tpr\n",
      "gmx grompp -f prod_1GI2_vdwq_02.mdp -c ../02_equi_npt/npt_1GI2_vdwq_02.gro -r ../02_equi_npt/npt_1GI2_vdwq_02.gro -p ../../sys_top/1GI2_water_ion.top -po out_prod_1GI2_vdwq_02.mdp -o prod_1GI2_vdwq_02.tpr -maxwarn 1\n",
      "-Launch the simulation prod_1GI2_vdwq_02.tpr\n",
      "gmx mdrun -s prod_1GI2_vdwq_02.tpr -deffnm prod_1GI2_vdwq_02 -nt 0 -ntmpi 0 -nsteps -2 -nocopyright\n"
     ]
    },
    {
     "data": {
      "application/vnd.jupyter.widget-view+json": {
       "model_id": "f73e8307dfd94d438b6cec632d23c62b",
       "version_major": 2,
       "version_minor": 0
      },
      "text/plain": [
       "HBox(children=(FloatProgress(value=0.0, max=50000.0), HTML(value='')))"
      ]
     },
     "metadata": {},
     "output_type": "display_data"
    },
    {
     "name": "stdout",
     "output_type": "stream",
     "text": [
      "\n",
      "-Create the tpr file em_1GI2_vdwq_03.tpr\n",
      "gmx grompp -f em_1GI2_vdwq_03.mdp -c ../../sys_equi/02_equi_CA_LOW/equi_CA_LOW_1GI2.gro -r ../../sys_equi/02_equi_CA_LOW/equi_CA_LOW_1GI2.gro -p ../../sys_top/1GI2_water_ion.top -po out_em_1GI2_vdwq_03.mdp -o em_1GI2_vdwq_03.tpr -maxwarn 1\n",
      "-Launch the simulation em_1GI2_vdwq_03.tpr\n",
      "gmx mdrun -s em_1GI2_vdwq_03.tpr -deffnm em_1GI2_vdwq_03 -nt 0 -ntmpi 0 -nsteps -2 -nocopyright\n"
     ]
    },
    {
     "data": {
      "application/vnd.jupyter.widget-view+json": {
       "model_id": "daab9e4ae2c6406ea7d9ddbfec5820ab",
       "version_major": 2,
       "version_minor": 0
      },
      "text/plain": [
       "HBox(children=(FloatProgress(value=0.0, max=5000.0), HTML(value='')))"
      ]
     },
     "metadata": {},
     "output_type": "display_data"
    },
    {
     "name": "stdout",
     "output_type": "stream",
     "text": [
      "\n",
      "-Create the tpr file nvt_1GI2_vdwq_03.tpr\n",
      "gmx grompp -f nvt_1GI2_vdwq_03.mdp -c ../00_em/em_1GI2_vdwq_03.gro -r ../00_em/em_1GI2_vdwq_03.gro -p ../../sys_top/1GI2_water_ion.top -po out_nvt_1GI2_vdwq_03.mdp -o nvt_1GI2_vdwq_03.tpr -maxwarn 1\n",
      "-Launch the simulation nvt_1GI2_vdwq_03.tpr\n",
      "gmx mdrun -s nvt_1GI2_vdwq_03.tpr -deffnm nvt_1GI2_vdwq_03 -nt 0 -ntmpi 0 -nsteps -2 -nocopyright\n"
     ]
    },
    {
     "data": {
      "application/vnd.jupyter.widget-view+json": {
       "model_id": "6eb641f0236c4d77b95f43bf81e2d2e6",
       "version_major": 2,
       "version_minor": 0
      },
      "text/plain": [
       "HBox(children=(FloatProgress(value=0.0, max=5000.0), HTML(value='')))"
      ]
     },
     "metadata": {},
     "output_type": "display_data"
    },
    {
     "name": "stdout",
     "output_type": "stream",
     "text": [
      "\n",
      "-Create the tpr file npt_1GI2_vdwq_03.tpr\n",
      "gmx grompp -f npt_1GI2_vdwq_03.mdp -c ../01_equi_nvt/nvt_1GI2_vdwq_03.gro -r ../01_equi_nvt/nvt_1GI2_vdwq_03.gro -p ../../sys_top/1GI2_water_ion.top -po out_npt_1GI2_vdwq_03.mdp -o npt_1GI2_vdwq_03.tpr -maxwarn 1\n",
      "-Launch the simulation npt_1GI2_vdwq_03.tpr\n",
      "gmx mdrun -s npt_1GI2_vdwq_03.tpr -deffnm npt_1GI2_vdwq_03 -nt 0 -ntmpi 0 -nsteps -2 -nocopyright\n"
     ]
    },
    {
     "data": {
      "application/vnd.jupyter.widget-view+json": {
       "model_id": "760d3757b86e41c7a4f822074dc8b3d9",
       "version_major": 2,
       "version_minor": 0
      },
      "text/plain": [
       "HBox(children=(FloatProgress(value=0.0, max=5000.0), HTML(value='')))"
      ]
     },
     "metadata": {},
     "output_type": "display_data"
    },
    {
     "name": "stdout",
     "output_type": "stream",
     "text": [
      "\n",
      "-Create the tpr file prod_1GI2_vdwq_03.tpr\n",
      "gmx grompp -f prod_1GI2_vdwq_03.mdp -c ../02_equi_npt/npt_1GI2_vdwq_03.gro -r ../02_equi_npt/npt_1GI2_vdwq_03.gro -p ../../sys_top/1GI2_water_ion.top -po out_prod_1GI2_vdwq_03.mdp -o prod_1GI2_vdwq_03.tpr -maxwarn 1\n",
      "-Launch the simulation prod_1GI2_vdwq_03.tpr\n",
      "gmx mdrun -s prod_1GI2_vdwq_03.tpr -deffnm prod_1GI2_vdwq_03 -nt 0 -ntmpi 0 -nsteps -2 -nocopyright\n"
     ]
    },
    {
     "data": {
      "application/vnd.jupyter.widget-view+json": {
       "model_id": "d3b0bc4d18b84b81b426de545258c453",
       "version_major": 2,
       "version_minor": 0
      },
      "text/plain": [
       "HBox(children=(FloatProgress(value=0.0, max=50000.0), HTML(value='')))"
      ]
     },
     "metadata": {},
     "output_type": "display_data"
    },
    {
     "name": "stdout",
     "output_type": "stream",
     "text": [
      "\n",
      "-Create the tpr file em_1GI2_vdwq_04.tpr\n",
      "gmx grompp -f em_1GI2_vdwq_04.mdp -c ../../sys_equi/02_equi_CA_LOW/equi_CA_LOW_1GI2.gro -r ../../sys_equi/02_equi_CA_LOW/equi_CA_LOW_1GI2.gro -p ../../sys_top/1GI2_water_ion.top -po out_em_1GI2_vdwq_04.mdp -o em_1GI2_vdwq_04.tpr -maxwarn 1\n",
      "-Launch the simulation em_1GI2_vdwq_04.tpr\n",
      "gmx mdrun -s em_1GI2_vdwq_04.tpr -deffnm em_1GI2_vdwq_04 -nt 0 -ntmpi 0 -nsteps -2 -nocopyright\n"
     ]
    },
    {
     "data": {
      "application/vnd.jupyter.widget-view+json": {
       "model_id": "f039547f44e84803b86f10ef8335c251",
       "version_major": 2,
       "version_minor": 0
      },
      "text/plain": [
       "HBox(children=(FloatProgress(value=0.0, max=5000.0), HTML(value='')))"
      ]
     },
     "metadata": {},
     "output_type": "display_data"
    },
    {
     "name": "stdout",
     "output_type": "stream",
     "text": [
      "\n",
      "-Create the tpr file nvt_1GI2_vdwq_04.tpr\n",
      "gmx grompp -f nvt_1GI2_vdwq_04.mdp -c ../00_em/em_1GI2_vdwq_04.gro -r ../00_em/em_1GI2_vdwq_04.gro -p ../../sys_top/1GI2_water_ion.top -po out_nvt_1GI2_vdwq_04.mdp -o nvt_1GI2_vdwq_04.tpr -maxwarn 1\n",
      "-Launch the simulation nvt_1GI2_vdwq_04.tpr\n",
      "gmx mdrun -s nvt_1GI2_vdwq_04.tpr -deffnm nvt_1GI2_vdwq_04 -nt 0 -ntmpi 0 -nsteps -2 -nocopyright\n"
     ]
    },
    {
     "data": {
      "application/vnd.jupyter.widget-view+json": {
       "model_id": "aa276d97869c401096c9a53d55a1915f",
       "version_major": 2,
       "version_minor": 0
      },
      "text/plain": [
       "HBox(children=(FloatProgress(value=0.0, max=5000.0), HTML(value='')))"
      ]
     },
     "metadata": {},
     "output_type": "display_data"
    },
    {
     "name": "stdout",
     "output_type": "stream",
     "text": [
      "\n",
      "-Create the tpr file npt_1GI2_vdwq_04.tpr\n",
      "gmx grompp -f npt_1GI2_vdwq_04.mdp -c ../01_equi_nvt/nvt_1GI2_vdwq_04.gro -r ../01_equi_nvt/nvt_1GI2_vdwq_04.gro -p ../../sys_top/1GI2_water_ion.top -po out_npt_1GI2_vdwq_04.mdp -o npt_1GI2_vdwq_04.tpr -maxwarn 1\n",
      "-Launch the simulation npt_1GI2_vdwq_04.tpr\n",
      "gmx mdrun -s npt_1GI2_vdwq_04.tpr -deffnm npt_1GI2_vdwq_04 -nt 0 -ntmpi 0 -nsteps -2 -nocopyright\n"
     ]
    },
    {
     "data": {
      "application/vnd.jupyter.widget-view+json": {
       "model_id": "db82eb8dead248f3b9fdca1614e97351",
       "version_major": 2,
       "version_minor": 0
      },
      "text/plain": [
       "HBox(children=(FloatProgress(value=0.0, max=5000.0), HTML(value='')))"
      ]
     },
     "metadata": {},
     "output_type": "display_data"
    },
    {
     "name": "stdout",
     "output_type": "stream",
     "text": [
      "\n",
      "-Create the tpr file prod_1GI2_vdwq_04.tpr\n",
      "gmx grompp -f prod_1GI2_vdwq_04.mdp -c ../02_equi_npt/npt_1GI2_vdwq_04.gro -r ../02_equi_npt/npt_1GI2_vdwq_04.gro -p ../../sys_top/1GI2_water_ion.top -po out_prod_1GI2_vdwq_04.mdp -o prod_1GI2_vdwq_04.tpr -maxwarn 1\n",
      "-Launch the simulation prod_1GI2_vdwq_04.tpr\n",
      "gmx mdrun -s prod_1GI2_vdwq_04.tpr -deffnm prod_1GI2_vdwq_04 -nt 0 -ntmpi 0 -nsteps -2 -nocopyright\n"
     ]
    },
    {
     "data": {
      "application/vnd.jupyter.widget-view+json": {
       "model_id": "71d49ffeb8064d63aeddc7cc2f92a426",
       "version_major": 2,
       "version_minor": 0
      },
      "text/plain": [
       "HBox(children=(FloatProgress(value=0.0, max=50000.0), HTML(value='')))"
      ]
     },
     "metadata": {},
     "output_type": "display_data"
    },
    {
     "name": "stdout",
     "output_type": "stream",
     "text": [
      "\n",
      "-Create the tpr file em_1GI2_vdwq_05.tpr\n",
      "gmx grompp -f em_1GI2_vdwq_05.mdp -c ../../sys_equi/02_equi_CA_LOW/equi_CA_LOW_1GI2.gro -r ../../sys_equi/02_equi_CA_LOW/equi_CA_LOW_1GI2.gro -p ../../sys_top/1GI2_water_ion.top -po out_em_1GI2_vdwq_05.mdp -o em_1GI2_vdwq_05.tpr -maxwarn 1\n",
      "-Launch the simulation em_1GI2_vdwq_05.tpr\n",
      "gmx mdrun -s em_1GI2_vdwq_05.tpr -deffnm em_1GI2_vdwq_05 -nt 0 -ntmpi 0 -nsteps -2 -nocopyright\n"
     ]
    },
    {
     "data": {
      "application/vnd.jupyter.widget-view+json": {
       "model_id": "ca58cabc79c54f7da4cabb8c610d7824",
       "version_major": 2,
       "version_minor": 0
      },
      "text/plain": [
       "HBox(children=(FloatProgress(value=0.0, max=5000.0), HTML(value='')))"
      ]
     },
     "metadata": {},
     "output_type": "display_data"
    },
    {
     "name": "stdout",
     "output_type": "stream",
     "text": [
      "\n",
      "-Create the tpr file nvt_1GI2_vdwq_05.tpr\n",
      "gmx grompp -f nvt_1GI2_vdwq_05.mdp -c ../00_em/em_1GI2_vdwq_05.gro -r ../00_em/em_1GI2_vdwq_05.gro -p ../../sys_top/1GI2_water_ion.top -po out_nvt_1GI2_vdwq_05.mdp -o nvt_1GI2_vdwq_05.tpr -maxwarn 1\n",
      "-Launch the simulation nvt_1GI2_vdwq_05.tpr\n",
      "gmx mdrun -s nvt_1GI2_vdwq_05.tpr -deffnm nvt_1GI2_vdwq_05 -nt 0 -ntmpi 0 -nsteps -2 -nocopyright\n"
     ]
    },
    {
     "data": {
      "application/vnd.jupyter.widget-view+json": {
       "model_id": "e0eee867b8a143f4ad4f675698aea931",
       "version_major": 2,
       "version_minor": 0
      },
      "text/plain": [
       "HBox(children=(FloatProgress(value=0.0, max=5000.0), HTML(value='')))"
      ]
     },
     "metadata": {},
     "output_type": "display_data"
    },
    {
     "name": "stdout",
     "output_type": "stream",
     "text": [
      "\n",
      "-Create the tpr file npt_1GI2_vdwq_05.tpr\n",
      "gmx grompp -f npt_1GI2_vdwq_05.mdp -c ../01_equi_nvt/nvt_1GI2_vdwq_05.gro -r ../01_equi_nvt/nvt_1GI2_vdwq_05.gro -p ../../sys_top/1GI2_water_ion.top -po out_npt_1GI2_vdwq_05.mdp -o npt_1GI2_vdwq_05.tpr -maxwarn 1\n",
      "-Launch the simulation npt_1GI2_vdwq_05.tpr\n",
      "gmx mdrun -s npt_1GI2_vdwq_05.tpr -deffnm npt_1GI2_vdwq_05 -nt 0 -ntmpi 0 -nsteps -2 -nocopyright\n"
     ]
    },
    {
     "data": {
      "application/vnd.jupyter.widget-view+json": {
       "model_id": "5f838c0c3921426784cc3c2f1dd4e5c5",
       "version_major": 2,
       "version_minor": 0
      },
      "text/plain": [
       "HBox(children=(FloatProgress(value=0.0, max=5000.0), HTML(value='')))"
      ]
     },
     "metadata": {},
     "output_type": "display_data"
    },
    {
     "name": "stdout",
     "output_type": "stream",
     "text": [
      "\n",
      "-Create the tpr file prod_1GI2_vdwq_05.tpr\n",
      "gmx grompp -f prod_1GI2_vdwq_05.mdp -c ../02_equi_npt/npt_1GI2_vdwq_05.gro -r ../02_equi_npt/npt_1GI2_vdwq_05.gro -p ../../sys_top/1GI2_water_ion.top -po out_prod_1GI2_vdwq_05.mdp -o prod_1GI2_vdwq_05.tpr -maxwarn 1\n",
      "-Launch the simulation prod_1GI2_vdwq_05.tpr\n",
      "gmx mdrun -s prod_1GI2_vdwq_05.tpr -deffnm prod_1GI2_vdwq_05 -nt 0 -ntmpi 0 -nsteps -2 -nocopyright\n"
     ]
    },
    {
     "data": {
      "application/vnd.jupyter.widget-view+json": {
       "model_id": "502cf00989644dc88d1736c5861d0c6d",
       "version_major": 2,
       "version_minor": 0
      },
      "text/plain": [
       "HBox(children=(FloatProgress(value=0.0, max=50000.0), HTML(value='')))"
      ]
     },
     "metadata": {},
     "output_type": "display_data"
    },
    {
     "name": "stdout",
     "output_type": "stream",
     "text": [
      "\n",
      "-Create the tpr file em_1GI2_vdwq_06.tpr\n",
      "gmx grompp -f em_1GI2_vdwq_06.mdp -c ../../sys_equi/02_equi_CA_LOW/equi_CA_LOW_1GI2.gro -r ../../sys_equi/02_equi_CA_LOW/equi_CA_LOW_1GI2.gro -p ../../sys_top/1GI2_water_ion.top -po out_em_1GI2_vdwq_06.mdp -o em_1GI2_vdwq_06.tpr -maxwarn 1\n",
      "-Launch the simulation em_1GI2_vdwq_06.tpr\n",
      "gmx mdrun -s em_1GI2_vdwq_06.tpr -deffnm em_1GI2_vdwq_06 -nt 0 -ntmpi 0 -nsteps -2 -nocopyright\n"
     ]
    },
    {
     "data": {
      "application/vnd.jupyter.widget-view+json": {
       "model_id": "1ef305158f874338a850bbb0f774ce9d",
       "version_major": 2,
       "version_minor": 0
      },
      "text/plain": [
       "HBox(children=(FloatProgress(value=0.0, max=5000.0), HTML(value='')))"
      ]
     },
     "metadata": {},
     "output_type": "display_data"
    },
    {
     "name": "stdout",
     "output_type": "stream",
     "text": [
      "\n",
      "-Create the tpr file nvt_1GI2_vdwq_06.tpr\n",
      "gmx grompp -f nvt_1GI2_vdwq_06.mdp -c ../00_em/em_1GI2_vdwq_06.gro -r ../00_em/em_1GI2_vdwq_06.gro -p ../../sys_top/1GI2_water_ion.top -po out_nvt_1GI2_vdwq_06.mdp -o nvt_1GI2_vdwq_06.tpr -maxwarn 1\n",
      "-Launch the simulation nvt_1GI2_vdwq_06.tpr\n",
      "gmx mdrun -s nvt_1GI2_vdwq_06.tpr -deffnm nvt_1GI2_vdwq_06 -nt 0 -ntmpi 0 -nsteps -2 -nocopyright\n"
     ]
    },
    {
     "data": {
      "application/vnd.jupyter.widget-view+json": {
       "model_id": "811c630fe4fe460aaa3c0e28f41100cf",
       "version_major": 2,
       "version_minor": 0
      },
      "text/plain": [
       "HBox(children=(FloatProgress(value=0.0, max=5000.0), HTML(value='')))"
      ]
     },
     "metadata": {},
     "output_type": "display_data"
    },
    {
     "name": "stdout",
     "output_type": "stream",
     "text": [
      "\n",
      "-Create the tpr file npt_1GI2_vdwq_06.tpr\n",
      "gmx grompp -f npt_1GI2_vdwq_06.mdp -c ../01_equi_nvt/nvt_1GI2_vdwq_06.gro -r ../01_equi_nvt/nvt_1GI2_vdwq_06.gro -p ../../sys_top/1GI2_water_ion.top -po out_npt_1GI2_vdwq_06.mdp -o npt_1GI2_vdwq_06.tpr -maxwarn 1\n",
      "-Launch the simulation npt_1GI2_vdwq_06.tpr\n",
      "gmx mdrun -s npt_1GI2_vdwq_06.tpr -deffnm npt_1GI2_vdwq_06 -nt 0 -ntmpi 0 -nsteps -2 -nocopyright\n"
     ]
    },
    {
     "data": {
      "application/vnd.jupyter.widget-view+json": {
       "model_id": "545a7a0985484416b65f4ba26f33d937",
       "version_major": 2,
       "version_minor": 0
      },
      "text/plain": [
       "HBox(children=(FloatProgress(value=0.0, max=5000.0), HTML(value='')))"
      ]
     },
     "metadata": {},
     "output_type": "display_data"
    },
    {
     "name": "stdout",
     "output_type": "stream",
     "text": [
      "\n",
      "-Create the tpr file prod_1GI2_vdwq_06.tpr\n",
      "gmx grompp -f prod_1GI2_vdwq_06.mdp -c ../02_equi_npt/npt_1GI2_vdwq_06.gro -r ../02_equi_npt/npt_1GI2_vdwq_06.gro -p ../../sys_top/1GI2_water_ion.top -po out_prod_1GI2_vdwq_06.mdp -o prod_1GI2_vdwq_06.tpr -maxwarn 1\n",
      "-Launch the simulation prod_1GI2_vdwq_06.tpr\n",
      "gmx mdrun -s prod_1GI2_vdwq_06.tpr -deffnm prod_1GI2_vdwq_06 -nt 0 -ntmpi 0 -nsteps -2 -nocopyright\n"
     ]
    },
    {
     "data": {
      "application/vnd.jupyter.widget-view+json": {
       "model_id": "346909e4430747969d5ac536616ce12c",
       "version_major": 2,
       "version_minor": 0
      },
      "text/plain": [
       "HBox(children=(FloatProgress(value=0.0, max=50000.0), HTML(value='')))"
      ]
     },
     "metadata": {},
     "output_type": "display_data"
    },
    {
     "name": "stdout",
     "output_type": "stream",
     "text": [
      "\n",
      "-Create the tpr file em_1GI2_vdwq_07.tpr\n",
      "gmx grompp -f em_1GI2_vdwq_07.mdp -c ../../sys_equi/02_equi_CA_LOW/equi_CA_LOW_1GI2.gro -r ../../sys_equi/02_equi_CA_LOW/equi_CA_LOW_1GI2.gro -p ../../sys_top/1GI2_water_ion.top -po out_em_1GI2_vdwq_07.mdp -o em_1GI2_vdwq_07.tpr -maxwarn 1\n",
      "-Launch the simulation em_1GI2_vdwq_07.tpr\n",
      "gmx mdrun -s em_1GI2_vdwq_07.tpr -deffnm em_1GI2_vdwq_07 -nt 0 -ntmpi 0 -nsteps -2 -nocopyright\n"
     ]
    },
    {
     "data": {
      "application/vnd.jupyter.widget-view+json": {
       "model_id": "1b64e971c85442ffb60c296fa56e9af2",
       "version_major": 2,
       "version_minor": 0
      },
      "text/plain": [
       "HBox(children=(FloatProgress(value=0.0, max=5000.0), HTML(value='')))"
      ]
     },
     "metadata": {},
     "output_type": "display_data"
    },
    {
     "name": "stdout",
     "output_type": "stream",
     "text": [
      "\n",
      "-Create the tpr file nvt_1GI2_vdwq_07.tpr\n",
      "gmx grompp -f nvt_1GI2_vdwq_07.mdp -c ../00_em/em_1GI2_vdwq_07.gro -r ../00_em/em_1GI2_vdwq_07.gro -p ../../sys_top/1GI2_water_ion.top -po out_nvt_1GI2_vdwq_07.mdp -o nvt_1GI2_vdwq_07.tpr -maxwarn 1\n",
      "-Launch the simulation nvt_1GI2_vdwq_07.tpr\n",
      "gmx mdrun -s nvt_1GI2_vdwq_07.tpr -deffnm nvt_1GI2_vdwq_07 -nt 0 -ntmpi 0 -nsteps -2 -nocopyright\n"
     ]
    },
    {
     "data": {
      "application/vnd.jupyter.widget-view+json": {
       "model_id": "e73be0aa4b3c46f3b0b92ed50c283ec7",
       "version_major": 2,
       "version_minor": 0
      },
      "text/plain": [
       "HBox(children=(FloatProgress(value=0.0, max=5000.0), HTML(value='')))"
      ]
     },
     "metadata": {},
     "output_type": "display_data"
    },
    {
     "name": "stdout",
     "output_type": "stream",
     "text": [
      "\n",
      "-Create the tpr file npt_1GI2_vdwq_07.tpr\n",
      "gmx grompp -f npt_1GI2_vdwq_07.mdp -c ../01_equi_nvt/nvt_1GI2_vdwq_07.gro -r ../01_equi_nvt/nvt_1GI2_vdwq_07.gro -p ../../sys_top/1GI2_water_ion.top -po out_npt_1GI2_vdwq_07.mdp -o npt_1GI2_vdwq_07.tpr -maxwarn 1\n",
      "-Launch the simulation npt_1GI2_vdwq_07.tpr\n",
      "gmx mdrun -s npt_1GI2_vdwq_07.tpr -deffnm npt_1GI2_vdwq_07 -nt 0 -ntmpi 0 -nsteps -2 -nocopyright\n"
     ]
    },
    {
     "data": {
      "application/vnd.jupyter.widget-view+json": {
       "model_id": "646847abbf854bd89e0069c1aeed0080",
       "version_major": 2,
       "version_minor": 0
      },
      "text/plain": [
       "HBox(children=(FloatProgress(value=0.0, max=5000.0), HTML(value='')))"
      ]
     },
     "metadata": {},
     "output_type": "display_data"
    },
    {
     "name": "stdout",
     "output_type": "stream",
     "text": [
      "\n",
      "-Create the tpr file prod_1GI2_vdwq_07.tpr\n",
      "gmx grompp -f prod_1GI2_vdwq_07.mdp -c ../02_equi_npt/npt_1GI2_vdwq_07.gro -r ../02_equi_npt/npt_1GI2_vdwq_07.gro -p ../../sys_top/1GI2_water_ion.top -po out_prod_1GI2_vdwq_07.mdp -o prod_1GI2_vdwq_07.tpr -maxwarn 1\n",
      "-Launch the simulation prod_1GI2_vdwq_07.tpr\n",
      "gmx mdrun -s prod_1GI2_vdwq_07.tpr -deffnm prod_1GI2_vdwq_07 -nt 0 -ntmpi 0 -nsteps -2 -nocopyright\n"
     ]
    },
    {
     "data": {
      "application/vnd.jupyter.widget-view+json": {
       "model_id": "a694ce72b66746c68784f18e5ce4c2c2",
       "version_major": 2,
       "version_minor": 0
      },
      "text/plain": [
       "HBox(children=(FloatProgress(value=0.0, max=50000.0), HTML(value='')))"
      ]
     },
     "metadata": {},
     "output_type": "display_data"
    },
    {
     "name": "stdout",
     "output_type": "stream",
     "text": [
      "\n",
      "-Create the tpr file em_1GI2_vdwq_08.tpr\n",
      "gmx grompp -f em_1GI2_vdwq_08.mdp -c ../../sys_equi/02_equi_CA_LOW/equi_CA_LOW_1GI2.gro -r ../../sys_equi/02_equi_CA_LOW/equi_CA_LOW_1GI2.gro -p ../../sys_top/1GI2_water_ion.top -po out_em_1GI2_vdwq_08.mdp -o em_1GI2_vdwq_08.tpr -maxwarn 1\n",
      "-Launch the simulation em_1GI2_vdwq_08.tpr\n",
      "gmx mdrun -s em_1GI2_vdwq_08.tpr -deffnm em_1GI2_vdwq_08 -nt 0 -ntmpi 0 -nsteps -2 -nocopyright\n"
     ]
    },
    {
     "data": {
      "application/vnd.jupyter.widget-view+json": {
       "model_id": "ef6c9d4f8b1e4f6db0b26676467828c4",
       "version_major": 2,
       "version_minor": 0
      },
      "text/plain": [
       "HBox(children=(FloatProgress(value=0.0, max=5000.0), HTML(value='')))"
      ]
     },
     "metadata": {},
     "output_type": "display_data"
    },
    {
     "name": "stdout",
     "output_type": "stream",
     "text": [
      "\n",
      "-Create the tpr file nvt_1GI2_vdwq_08.tpr\n",
      "gmx grompp -f nvt_1GI2_vdwq_08.mdp -c ../00_em/em_1GI2_vdwq_08.gro -r ../00_em/em_1GI2_vdwq_08.gro -p ../../sys_top/1GI2_water_ion.top -po out_nvt_1GI2_vdwq_08.mdp -o nvt_1GI2_vdwq_08.tpr -maxwarn 1\n",
      "-Launch the simulation nvt_1GI2_vdwq_08.tpr\n",
      "gmx mdrun -s nvt_1GI2_vdwq_08.tpr -deffnm nvt_1GI2_vdwq_08 -nt 0 -ntmpi 0 -nsteps -2 -nocopyright\n"
     ]
    },
    {
     "data": {
      "application/vnd.jupyter.widget-view+json": {
       "model_id": "4df16850d3d6491a9f7217ef1c7c666d",
       "version_major": 2,
       "version_minor": 0
      },
      "text/plain": [
       "HBox(children=(FloatProgress(value=0.0, max=5000.0), HTML(value='')))"
      ]
     },
     "metadata": {},
     "output_type": "display_data"
    },
    {
     "name": "stdout",
     "output_type": "stream",
     "text": [
      "\n",
      "-Create the tpr file npt_1GI2_vdwq_08.tpr\n",
      "gmx grompp -f npt_1GI2_vdwq_08.mdp -c ../01_equi_nvt/nvt_1GI2_vdwq_08.gro -r ../01_equi_nvt/nvt_1GI2_vdwq_08.gro -p ../../sys_top/1GI2_water_ion.top -po out_npt_1GI2_vdwq_08.mdp -o npt_1GI2_vdwq_08.tpr -maxwarn 1\n",
      "-Launch the simulation npt_1GI2_vdwq_08.tpr\n",
      "gmx mdrun -s npt_1GI2_vdwq_08.tpr -deffnm npt_1GI2_vdwq_08 -nt 0 -ntmpi 0 -nsteps -2 -nocopyright\n"
     ]
    },
    {
     "data": {
      "application/vnd.jupyter.widget-view+json": {
       "model_id": "53ca9963eb18487eabc5e558f3cf4158",
       "version_major": 2,
       "version_minor": 0
      },
      "text/plain": [
       "HBox(children=(FloatProgress(value=0.0, max=5000.0), HTML(value='')))"
      ]
     },
     "metadata": {},
     "output_type": "display_data"
    },
    {
     "name": "stdout",
     "output_type": "stream",
     "text": [
      "\n",
      "-Create the tpr file prod_1GI2_vdwq_08.tpr\n",
      "gmx grompp -f prod_1GI2_vdwq_08.mdp -c ../02_equi_npt/npt_1GI2_vdwq_08.gro -r ../02_equi_npt/npt_1GI2_vdwq_08.gro -p ../../sys_top/1GI2_water_ion.top -po out_prod_1GI2_vdwq_08.mdp -o prod_1GI2_vdwq_08.tpr -maxwarn 1\n",
      "-Launch the simulation prod_1GI2_vdwq_08.tpr\n",
      "gmx mdrun -s prod_1GI2_vdwq_08.tpr -deffnm prod_1GI2_vdwq_08 -nt 0 -ntmpi 0 -nsteps -2 -nocopyright\n"
     ]
    },
    {
     "data": {
      "application/vnd.jupyter.widget-view+json": {
       "model_id": "52b9831cecd440d4b42e4b06154cdeec",
       "version_major": 2,
       "version_minor": 0
      },
      "text/plain": [
       "HBox(children=(FloatProgress(value=0.0, max=50000.0), HTML(value='')))"
      ]
     },
     "metadata": {},
     "output_type": "display_data"
    },
    {
     "name": "stdout",
     "output_type": "stream",
     "text": [
      "\n",
      "-Create the tpr file em_1GI2_vdwq_09.tpr\n",
      "gmx grompp -f em_1GI2_vdwq_09.mdp -c ../../sys_equi/02_equi_CA_LOW/equi_CA_LOW_1GI2.gro -r ../../sys_equi/02_equi_CA_LOW/equi_CA_LOW_1GI2.gro -p ../../sys_top/1GI2_water_ion.top -po out_em_1GI2_vdwq_09.mdp -o em_1GI2_vdwq_09.tpr -maxwarn 1\n",
      "-Launch the simulation em_1GI2_vdwq_09.tpr\n",
      "gmx mdrun -s em_1GI2_vdwq_09.tpr -deffnm em_1GI2_vdwq_09 -nt 0 -ntmpi 0 -nsteps -2 -nocopyright\n"
     ]
    },
    {
     "data": {
      "application/vnd.jupyter.widget-view+json": {
       "model_id": "fe664b4aa719436c98bcf8a7b64db752",
       "version_major": 2,
       "version_minor": 0
      },
      "text/plain": [
       "HBox(children=(FloatProgress(value=0.0, max=5000.0), HTML(value='')))"
      ]
     },
     "metadata": {},
     "output_type": "display_data"
    },
    {
     "name": "stdout",
     "output_type": "stream",
     "text": [
      "\n",
      "-Create the tpr file nvt_1GI2_vdwq_09.tpr\n",
      "gmx grompp -f nvt_1GI2_vdwq_09.mdp -c ../00_em/em_1GI2_vdwq_09.gro -r ../00_em/em_1GI2_vdwq_09.gro -p ../../sys_top/1GI2_water_ion.top -po out_nvt_1GI2_vdwq_09.mdp -o nvt_1GI2_vdwq_09.tpr -maxwarn 1\n",
      "-Launch the simulation nvt_1GI2_vdwq_09.tpr\n",
      "gmx mdrun -s nvt_1GI2_vdwq_09.tpr -deffnm nvt_1GI2_vdwq_09 -nt 0 -ntmpi 0 -nsteps -2 -nocopyright\n"
     ]
    },
    {
     "data": {
      "application/vnd.jupyter.widget-view+json": {
       "model_id": "4bf31e59fb6f4499a9a36471c1b2c893",
       "version_major": 2,
       "version_minor": 0
      },
      "text/plain": [
       "HBox(children=(FloatProgress(value=0.0, max=5000.0), HTML(value='')))"
      ]
     },
     "metadata": {},
     "output_type": "display_data"
    },
    {
     "name": "stdout",
     "output_type": "stream",
     "text": [
      "\n",
      "-Create the tpr file npt_1GI2_vdwq_09.tpr\n",
      "gmx grompp -f npt_1GI2_vdwq_09.mdp -c ../01_equi_nvt/nvt_1GI2_vdwq_09.gro -r ../01_equi_nvt/nvt_1GI2_vdwq_09.gro -p ../../sys_top/1GI2_water_ion.top -po out_npt_1GI2_vdwq_09.mdp -o npt_1GI2_vdwq_09.tpr -maxwarn 1\n",
      "-Launch the simulation npt_1GI2_vdwq_09.tpr\n",
      "gmx mdrun -s npt_1GI2_vdwq_09.tpr -deffnm npt_1GI2_vdwq_09 -nt 0 -ntmpi 0 -nsteps -2 -nocopyright\n"
     ]
    },
    {
     "data": {
      "application/vnd.jupyter.widget-view+json": {
       "model_id": "fd823d41df934ca4adc4eb5b6aa1c7b2",
       "version_major": 2,
       "version_minor": 0
      },
      "text/plain": [
       "HBox(children=(FloatProgress(value=0.0, max=5000.0), HTML(value='')))"
      ]
     },
     "metadata": {},
     "output_type": "display_data"
    },
    {
     "name": "stdout",
     "output_type": "stream",
     "text": [
      "\n",
      "-Create the tpr file prod_1GI2_vdwq_09.tpr\n",
      "gmx grompp -f prod_1GI2_vdwq_09.mdp -c ../02_equi_npt/npt_1GI2_vdwq_09.gro -r ../02_equi_npt/npt_1GI2_vdwq_09.gro -p ../../sys_top/1GI2_water_ion.top -po out_prod_1GI2_vdwq_09.mdp -o prod_1GI2_vdwq_09.tpr -maxwarn 1\n",
      "-Launch the simulation prod_1GI2_vdwq_09.tpr\n",
      "gmx mdrun -s prod_1GI2_vdwq_09.tpr -deffnm prod_1GI2_vdwq_09 -nt 0 -ntmpi 0 -nsteps -2 -nocopyright\n"
     ]
    },
    {
     "data": {
      "application/vnd.jupyter.widget-view+json": {
       "model_id": "455f6e7a06784f89ab4d49d5f3441afd",
       "version_major": 2,
       "version_minor": 0
      },
      "text/plain": [
       "HBox(children=(FloatProgress(value=0.0, max=50000.0), HTML(value='')))"
      ]
     },
     "metadata": {},
     "output_type": "display_data"
    },
    {
     "name": "stdout",
     "output_type": "stream",
     "text": [
      "\n",
      "-Create the tpr file em_1GI2_vdwq_10.tpr\n",
      "gmx grompp -f em_1GI2_vdwq_10.mdp -c ../../sys_equi/02_equi_CA_LOW/equi_CA_LOW_1GI2.gro -r ../../sys_equi/02_equi_CA_LOW/equi_CA_LOW_1GI2.gro -p ../../sys_top/1GI2_water_ion.top -po out_em_1GI2_vdwq_10.mdp -o em_1GI2_vdwq_10.tpr -maxwarn 1\n",
      "-Launch the simulation em_1GI2_vdwq_10.tpr\n",
      "gmx mdrun -s em_1GI2_vdwq_10.tpr -deffnm em_1GI2_vdwq_10 -nt 0 -ntmpi 0 -nsteps -2 -nocopyright\n"
     ]
    },
    {
     "data": {
      "application/vnd.jupyter.widget-view+json": {
       "model_id": "4cafbdb51fc248648d9d7cc06be7594d",
       "version_major": 2,
       "version_minor": 0
      },
      "text/plain": [
       "HBox(children=(FloatProgress(value=0.0, max=5000.0), HTML(value='')))"
      ]
     },
     "metadata": {},
     "output_type": "display_data"
    },
    {
     "name": "stdout",
     "output_type": "stream",
     "text": [
      "\n",
      "-Create the tpr file nvt_1GI2_vdwq_10.tpr\n",
      "gmx grompp -f nvt_1GI2_vdwq_10.mdp -c ../00_em/em_1GI2_vdwq_10.gro -r ../00_em/em_1GI2_vdwq_10.gro -p ../../sys_top/1GI2_water_ion.top -po out_nvt_1GI2_vdwq_10.mdp -o nvt_1GI2_vdwq_10.tpr -maxwarn 1\n",
      "-Launch the simulation nvt_1GI2_vdwq_10.tpr\n",
      "gmx mdrun -s nvt_1GI2_vdwq_10.tpr -deffnm nvt_1GI2_vdwq_10 -nt 0 -ntmpi 0 -nsteps -2 -nocopyright\n"
     ]
    },
    {
     "data": {
      "application/vnd.jupyter.widget-view+json": {
       "model_id": "3303ceee803249f888aaad4f2167db57",
       "version_major": 2,
       "version_minor": 0
      },
      "text/plain": [
       "HBox(children=(FloatProgress(value=0.0, max=5000.0), HTML(value='')))"
      ]
     },
     "metadata": {},
     "output_type": "display_data"
    },
    {
     "name": "stdout",
     "output_type": "stream",
     "text": [
      "\n",
      "-Create the tpr file npt_1GI2_vdwq_10.tpr\n",
      "gmx grompp -f npt_1GI2_vdwq_10.mdp -c ../01_equi_nvt/nvt_1GI2_vdwq_10.gro -r ../01_equi_nvt/nvt_1GI2_vdwq_10.gro -p ../../sys_top/1GI2_water_ion.top -po out_npt_1GI2_vdwq_10.mdp -o npt_1GI2_vdwq_10.tpr -maxwarn 1\n",
      "-Launch the simulation npt_1GI2_vdwq_10.tpr\n",
      "gmx mdrun -s npt_1GI2_vdwq_10.tpr -deffnm npt_1GI2_vdwq_10 -nt 0 -ntmpi 0 -nsteps -2 -nocopyright\n"
     ]
    },
    {
     "data": {
      "application/vnd.jupyter.widget-view+json": {
       "model_id": "195e9f781cdc461a9443a18de9bf4ce4",
       "version_major": 2,
       "version_minor": 0
      },
      "text/plain": [
       "HBox(children=(FloatProgress(value=0.0, max=5000.0), HTML(value='')))"
      ]
     },
     "metadata": {},
     "output_type": "display_data"
    },
    {
     "name": "stdout",
     "output_type": "stream",
     "text": [
      "\n",
      "-Create the tpr file prod_1GI2_vdwq_10.tpr\n",
      "gmx grompp -f prod_1GI2_vdwq_10.mdp -c ../02_equi_npt/npt_1GI2_vdwq_10.gro -r ../02_equi_npt/npt_1GI2_vdwq_10.gro -p ../../sys_top/1GI2_water_ion.top -po out_prod_1GI2_vdwq_10.mdp -o prod_1GI2_vdwq_10.tpr -maxwarn 1\n",
      "-Launch the simulation prod_1GI2_vdwq_10.tpr\n",
      "gmx mdrun -s prod_1GI2_vdwq_10.tpr -deffnm prod_1GI2_vdwq_10 -nt 0 -ntmpi 0 -nsteps -2 -nocopyright\n"
     ]
    },
    {
     "data": {
      "application/vnd.jupyter.widget-view+json": {
       "model_id": "a8b0734051a84559a7ea86c24ef7cae1",
       "version_major": 2,
       "version_minor": 0
      },
      "text/plain": [
       "HBox(children=(FloatProgress(value=0.0, max=50000.0), HTML(value='')))"
      ]
     },
     "metadata": {},
     "output_type": "display_data"
    },
    {
     "name": "stdout",
     "output_type": "stream",
     "text": [
      "\n",
      "-Create the tpr file em_1GI2_vdwq_11.tpr\n",
      "gmx grompp -f em_1GI2_vdwq_11.mdp -c ../../sys_equi/02_equi_CA_LOW/equi_CA_LOW_1GI2.gro -r ../../sys_equi/02_equi_CA_LOW/equi_CA_LOW_1GI2.gro -p ../../sys_top/1GI2_water_ion.top -po out_em_1GI2_vdwq_11.mdp -o em_1GI2_vdwq_11.tpr -maxwarn 1\n",
      "-Launch the simulation em_1GI2_vdwq_11.tpr\n",
      "gmx mdrun -s em_1GI2_vdwq_11.tpr -deffnm em_1GI2_vdwq_11 -nt 0 -ntmpi 0 -nsteps -2 -nocopyright\n"
     ]
    },
    {
     "data": {
      "application/vnd.jupyter.widget-view+json": {
       "model_id": "36b8ae2bbc434abebf113cd5ac4167cf",
       "version_major": 2,
       "version_minor": 0
      },
      "text/plain": [
       "HBox(children=(FloatProgress(value=0.0, max=5000.0), HTML(value='')))"
      ]
     },
     "metadata": {},
     "output_type": "display_data"
    },
    {
     "name": "stdout",
     "output_type": "stream",
     "text": [
      "\n",
      "-Create the tpr file nvt_1GI2_vdwq_11.tpr\n",
      "gmx grompp -f nvt_1GI2_vdwq_11.mdp -c ../00_em/em_1GI2_vdwq_11.gro -r ../00_em/em_1GI2_vdwq_11.gro -p ../../sys_top/1GI2_water_ion.top -po out_nvt_1GI2_vdwq_11.mdp -o nvt_1GI2_vdwq_11.tpr -maxwarn 1\n",
      "-Launch the simulation nvt_1GI2_vdwq_11.tpr\n",
      "gmx mdrun -s nvt_1GI2_vdwq_11.tpr -deffnm nvt_1GI2_vdwq_11 -nt 0 -ntmpi 0 -nsteps -2 -nocopyright\n"
     ]
    },
    {
     "data": {
      "application/vnd.jupyter.widget-view+json": {
       "model_id": "2fbfbd640ca0457480e1d09b4785e128",
       "version_major": 2,
       "version_minor": 0
      },
      "text/plain": [
       "HBox(children=(FloatProgress(value=0.0, max=5000.0), HTML(value='')))"
      ]
     },
     "metadata": {},
     "output_type": "display_data"
    },
    {
     "name": "stdout",
     "output_type": "stream",
     "text": [
      "\n",
      "-Create the tpr file npt_1GI2_vdwq_11.tpr\n",
      "gmx grompp -f npt_1GI2_vdwq_11.mdp -c ../01_equi_nvt/nvt_1GI2_vdwq_11.gro -r ../01_equi_nvt/nvt_1GI2_vdwq_11.gro -p ../../sys_top/1GI2_water_ion.top -po out_npt_1GI2_vdwq_11.mdp -o npt_1GI2_vdwq_11.tpr -maxwarn 1\n",
      "-Launch the simulation npt_1GI2_vdwq_11.tpr\n",
      "gmx mdrun -s npt_1GI2_vdwq_11.tpr -deffnm npt_1GI2_vdwq_11 -nt 0 -ntmpi 0 -nsteps -2 -nocopyright\n"
     ]
    },
    {
     "data": {
      "application/vnd.jupyter.widget-view+json": {
       "model_id": "fb3bec01821c4d9fa1ff4926800e3e82",
       "version_major": 2,
       "version_minor": 0
      },
      "text/plain": [
       "HBox(children=(FloatProgress(value=0.0, max=5000.0), HTML(value='')))"
      ]
     },
     "metadata": {},
     "output_type": "display_data"
    },
    {
     "name": "stdout",
     "output_type": "stream",
     "text": [
      "\n",
      "-Create the tpr file prod_1GI2_vdwq_11.tpr\n",
      "gmx grompp -f prod_1GI2_vdwq_11.mdp -c ../02_equi_npt/npt_1GI2_vdwq_11.gro -r ../02_equi_npt/npt_1GI2_vdwq_11.gro -p ../../sys_top/1GI2_water_ion.top -po out_prod_1GI2_vdwq_11.mdp -o prod_1GI2_vdwq_11.tpr -maxwarn 1\n",
      "-Launch the simulation prod_1GI2_vdwq_11.tpr\n",
      "gmx mdrun -s prod_1GI2_vdwq_11.tpr -deffnm prod_1GI2_vdwq_11 -nt 0 -ntmpi 0 -nsteps -2 -nocopyright\n"
     ]
    },
    {
     "data": {
      "application/vnd.jupyter.widget-view+json": {
       "model_id": "b8998d374b8143cc96804c7366fe1d59",
       "version_major": 2,
       "version_minor": 0
      },
      "text/plain": [
       "HBox(children=(FloatProgress(value=0.0, max=50000.0), HTML(value='')))"
      ]
     },
     "metadata": {},
     "output_type": "display_data"
    },
    {
     "name": "stdout",
     "output_type": "stream",
     "text": [
      "\n",
      "-Create the tpr file em_1GI2_vdwq_12.tpr\n",
      "gmx grompp -f em_1GI2_vdwq_12.mdp -c ../../sys_equi/02_equi_CA_LOW/equi_CA_LOW_1GI2.gro -r ../../sys_equi/02_equi_CA_LOW/equi_CA_LOW_1GI2.gro -p ../../sys_top/1GI2_water_ion.top -po out_em_1GI2_vdwq_12.mdp -o em_1GI2_vdwq_12.tpr -maxwarn 1\n",
      "-Launch the simulation em_1GI2_vdwq_12.tpr\n",
      "gmx mdrun -s em_1GI2_vdwq_12.tpr -deffnm em_1GI2_vdwq_12 -nt 0 -ntmpi 0 -nsteps -2 -nocopyright\n"
     ]
    },
    {
     "data": {
      "application/vnd.jupyter.widget-view+json": {
       "model_id": "ac0bbc4c87324a04981e69e31bc06960",
       "version_major": 2,
       "version_minor": 0
      },
      "text/plain": [
       "HBox(children=(FloatProgress(value=0.0, max=5000.0), HTML(value='')))"
      ]
     },
     "metadata": {},
     "output_type": "display_data"
    },
    {
     "name": "stdout",
     "output_type": "stream",
     "text": [
      "\n",
      "-Create the tpr file nvt_1GI2_vdwq_12.tpr\n",
      "gmx grompp -f nvt_1GI2_vdwq_12.mdp -c ../00_em/em_1GI2_vdwq_12.gro -r ../00_em/em_1GI2_vdwq_12.gro -p ../../sys_top/1GI2_water_ion.top -po out_nvt_1GI2_vdwq_12.mdp -o nvt_1GI2_vdwq_12.tpr -maxwarn 1\n",
      "-Launch the simulation nvt_1GI2_vdwq_12.tpr\n",
      "gmx mdrun -s nvt_1GI2_vdwq_12.tpr -deffnm nvt_1GI2_vdwq_12 -nt 0 -ntmpi 0 -nsteps -2 -nocopyright\n"
     ]
    },
    {
     "data": {
      "application/vnd.jupyter.widget-view+json": {
       "model_id": "b3b11001727d4cc6b9fcbe6cbcf4e0be",
       "version_major": 2,
       "version_minor": 0
      },
      "text/plain": [
       "HBox(children=(FloatProgress(value=0.0, max=5000.0), HTML(value='')))"
      ]
     },
     "metadata": {},
     "output_type": "display_data"
    },
    {
     "name": "stdout",
     "output_type": "stream",
     "text": [
      "\n",
      "-Create the tpr file npt_1GI2_vdwq_12.tpr\n",
      "gmx grompp -f npt_1GI2_vdwq_12.mdp -c ../01_equi_nvt/nvt_1GI2_vdwq_12.gro -r ../01_equi_nvt/nvt_1GI2_vdwq_12.gro -p ../../sys_top/1GI2_water_ion.top -po out_npt_1GI2_vdwq_12.mdp -o npt_1GI2_vdwq_12.tpr -maxwarn 1\n",
      "-Launch the simulation npt_1GI2_vdwq_12.tpr\n",
      "gmx mdrun -s npt_1GI2_vdwq_12.tpr -deffnm npt_1GI2_vdwq_12 -nt 0 -ntmpi 0 -nsteps -2 -nocopyright\n"
     ]
    },
    {
     "data": {
      "application/vnd.jupyter.widget-view+json": {
       "model_id": "e3f3d71eb10048afa3c7d12eac74cde2",
       "version_major": 2,
       "version_minor": 0
      },
      "text/plain": [
       "HBox(children=(FloatProgress(value=0.0, max=5000.0), HTML(value='')))"
      ]
     },
     "metadata": {},
     "output_type": "display_data"
    },
    {
     "name": "stdout",
     "output_type": "stream",
     "text": [
      "\n",
      "-Create the tpr file prod_1GI2_vdwq_12.tpr\n",
      "gmx grompp -f prod_1GI2_vdwq_12.mdp -c ../02_equi_npt/npt_1GI2_vdwq_12.gro -r ../02_equi_npt/npt_1GI2_vdwq_12.gro -p ../../sys_top/1GI2_water_ion.top -po out_prod_1GI2_vdwq_12.mdp -o prod_1GI2_vdwq_12.tpr -maxwarn 1\n",
      "-Launch the simulation prod_1GI2_vdwq_12.tpr\n",
      "gmx mdrun -s prod_1GI2_vdwq_12.tpr -deffnm prod_1GI2_vdwq_12 -nt 0 -ntmpi 0 -nsteps -2 -nocopyright\n"
     ]
    },
    {
     "data": {
      "application/vnd.jupyter.widget-view+json": {
       "model_id": "3e2523cc15f94a80b45760c3951e841b",
       "version_major": 2,
       "version_minor": 0
      },
      "text/plain": [
       "HBox(children=(FloatProgress(value=0.0, max=50000.0), HTML(value='')))"
      ]
     },
     "metadata": {},
     "output_type": "display_data"
    },
    {
     "name": "stdout",
     "output_type": "stream",
     "text": [
      "\n",
      "-Create the tpr file em_1GI2_vdwq_13.tpr\n",
      "gmx grompp -f em_1GI2_vdwq_13.mdp -c ../../sys_equi/02_equi_CA_LOW/equi_CA_LOW_1GI2.gro -r ../../sys_equi/02_equi_CA_LOW/equi_CA_LOW_1GI2.gro -p ../../sys_top/1GI2_water_ion.top -po out_em_1GI2_vdwq_13.mdp -o em_1GI2_vdwq_13.tpr -maxwarn 1\n",
      "-Launch the simulation em_1GI2_vdwq_13.tpr\n",
      "gmx mdrun -s em_1GI2_vdwq_13.tpr -deffnm em_1GI2_vdwq_13 -nt 0 -ntmpi 0 -nsteps -2 -nocopyright\n"
     ]
    },
    {
     "data": {
      "application/vnd.jupyter.widget-view+json": {
       "model_id": "528081bfb1174d7c9f1c8ffbf4f9dd7f",
       "version_major": 2,
       "version_minor": 0
      },
      "text/plain": [
       "HBox(children=(FloatProgress(value=0.0, max=5000.0), HTML(value='')))"
      ]
     },
     "metadata": {},
     "output_type": "display_data"
    },
    {
     "name": "stdout",
     "output_type": "stream",
     "text": [
      "\n",
      "-Create the tpr file nvt_1GI2_vdwq_13.tpr\n",
      "gmx grompp -f nvt_1GI2_vdwq_13.mdp -c ../00_em/em_1GI2_vdwq_13.gro -r ../00_em/em_1GI2_vdwq_13.gro -p ../../sys_top/1GI2_water_ion.top -po out_nvt_1GI2_vdwq_13.mdp -o nvt_1GI2_vdwq_13.tpr -maxwarn 1\n",
      "-Launch the simulation nvt_1GI2_vdwq_13.tpr\n",
      "gmx mdrun -s nvt_1GI2_vdwq_13.tpr -deffnm nvt_1GI2_vdwq_13 -nt 0 -ntmpi 0 -nsteps -2 -nocopyright\n"
     ]
    },
    {
     "data": {
      "application/vnd.jupyter.widget-view+json": {
       "model_id": "7f0534d14886401a9a9337380b6ea4d3",
       "version_major": 2,
       "version_minor": 0
      },
      "text/plain": [
       "HBox(children=(FloatProgress(value=0.0, max=5000.0), HTML(value='')))"
      ]
     },
     "metadata": {},
     "output_type": "display_data"
    },
    {
     "name": "stdout",
     "output_type": "stream",
     "text": [
      "\n",
      "-Create the tpr file npt_1GI2_vdwq_13.tpr\n",
      "gmx grompp -f npt_1GI2_vdwq_13.mdp -c ../01_equi_nvt/nvt_1GI2_vdwq_13.gro -r ../01_equi_nvt/nvt_1GI2_vdwq_13.gro -p ../../sys_top/1GI2_water_ion.top -po out_npt_1GI2_vdwq_13.mdp -o npt_1GI2_vdwq_13.tpr -maxwarn 1\n",
      "-Launch the simulation npt_1GI2_vdwq_13.tpr\n",
      "gmx mdrun -s npt_1GI2_vdwq_13.tpr -deffnm npt_1GI2_vdwq_13 -nt 0 -ntmpi 0 -nsteps -2 -nocopyright\n"
     ]
    },
    {
     "data": {
      "application/vnd.jupyter.widget-view+json": {
       "model_id": "316634564eda4b7a832494435d54f712",
       "version_major": 2,
       "version_minor": 0
      },
      "text/plain": [
       "HBox(children=(FloatProgress(value=0.0, max=5000.0), HTML(value='')))"
      ]
     },
     "metadata": {},
     "output_type": "display_data"
    },
    {
     "name": "stdout",
     "output_type": "stream",
     "text": [
      "\n",
      "-Create the tpr file prod_1GI2_vdwq_13.tpr\n",
      "gmx grompp -f prod_1GI2_vdwq_13.mdp -c ../02_equi_npt/npt_1GI2_vdwq_13.gro -r ../02_equi_npt/npt_1GI2_vdwq_13.gro -p ../../sys_top/1GI2_water_ion.top -po out_prod_1GI2_vdwq_13.mdp -o prod_1GI2_vdwq_13.tpr -maxwarn 1\n",
      "-Launch the simulation prod_1GI2_vdwq_13.tpr\n",
      "gmx mdrun -s prod_1GI2_vdwq_13.tpr -deffnm prod_1GI2_vdwq_13 -nt 0 -ntmpi 0 -nsteps -2 -nocopyright\n"
     ]
    },
    {
     "data": {
      "application/vnd.jupyter.widget-view+json": {
       "model_id": "6e458baf522c4d818b19cfb91b15e6b6",
       "version_major": 2,
       "version_minor": 0
      },
      "text/plain": [
       "HBox(children=(FloatProgress(value=0.0, max=50000.0), HTML(value='')))"
      ]
     },
     "metadata": {},
     "output_type": "display_data"
    },
    {
     "name": "stdout",
     "output_type": "stream",
     "text": [
      "\n",
      "-Create the tpr file em_1GI2_vdwq_14.tpr\n",
      "gmx grompp -f em_1GI2_vdwq_14.mdp -c ../../sys_equi/02_equi_CA_LOW/equi_CA_LOW_1GI2.gro -r ../../sys_equi/02_equi_CA_LOW/equi_CA_LOW_1GI2.gro -p ../../sys_top/1GI2_water_ion.top -po out_em_1GI2_vdwq_14.mdp -o em_1GI2_vdwq_14.tpr -maxwarn 1\n",
      "-Launch the simulation em_1GI2_vdwq_14.tpr\n",
      "gmx mdrun -s em_1GI2_vdwq_14.tpr -deffnm em_1GI2_vdwq_14 -nt 0 -ntmpi 0 -nsteps -2 -nocopyright\n"
     ]
    },
    {
     "data": {
      "application/vnd.jupyter.widget-view+json": {
       "model_id": "7f89b5d3c8314aba9e211add9a31d11e",
       "version_major": 2,
       "version_minor": 0
      },
      "text/plain": [
       "HBox(children=(FloatProgress(value=0.0, max=5000.0), HTML(value='')))"
      ]
     },
     "metadata": {},
     "output_type": "display_data"
    },
    {
     "name": "stdout",
     "output_type": "stream",
     "text": [
      "\n",
      "-Create the tpr file nvt_1GI2_vdwq_14.tpr\n",
      "gmx grompp -f nvt_1GI2_vdwq_14.mdp -c ../00_em/em_1GI2_vdwq_14.gro -r ../00_em/em_1GI2_vdwq_14.gro -p ../../sys_top/1GI2_water_ion.top -po out_nvt_1GI2_vdwq_14.mdp -o nvt_1GI2_vdwq_14.tpr -maxwarn 1\n",
      "-Launch the simulation nvt_1GI2_vdwq_14.tpr\n",
      "gmx mdrun -s nvt_1GI2_vdwq_14.tpr -deffnm nvt_1GI2_vdwq_14 -nt 0 -ntmpi 0 -nsteps -2 -nocopyright\n"
     ]
    },
    {
     "data": {
      "application/vnd.jupyter.widget-view+json": {
       "model_id": "b0fae3db5f444936a52cc84083e3f8c8",
       "version_major": 2,
       "version_minor": 0
      },
      "text/plain": [
       "HBox(children=(FloatProgress(value=0.0, max=5000.0), HTML(value='')))"
      ]
     },
     "metadata": {},
     "output_type": "display_data"
    },
    {
     "name": "stdout",
     "output_type": "stream",
     "text": [
      "\n",
      "-Create the tpr file npt_1GI2_vdwq_14.tpr\n",
      "gmx grompp -f npt_1GI2_vdwq_14.mdp -c ../01_equi_nvt/nvt_1GI2_vdwq_14.gro -r ../01_equi_nvt/nvt_1GI2_vdwq_14.gro -p ../../sys_top/1GI2_water_ion.top -po out_npt_1GI2_vdwq_14.mdp -o npt_1GI2_vdwq_14.tpr -maxwarn 1\n",
      "-Launch the simulation npt_1GI2_vdwq_14.tpr\n",
      "gmx mdrun -s npt_1GI2_vdwq_14.tpr -deffnm npt_1GI2_vdwq_14 -nt 0 -ntmpi 0 -nsteps -2 -nocopyright\n"
     ]
    },
    {
     "data": {
      "application/vnd.jupyter.widget-view+json": {
       "model_id": "4b7a891ac800466bb95d84cdd96b6222",
       "version_major": 2,
       "version_minor": 0
      },
      "text/plain": [
       "HBox(children=(FloatProgress(value=0.0, max=5000.0), HTML(value='')))"
      ]
     },
     "metadata": {},
     "output_type": "display_data"
    },
    {
     "name": "stdout",
     "output_type": "stream",
     "text": [
      "\n",
      "-Create the tpr file prod_1GI2_vdwq_14.tpr\n",
      "gmx grompp -f prod_1GI2_vdwq_14.mdp -c ../02_equi_npt/npt_1GI2_vdwq_14.gro -r ../02_equi_npt/npt_1GI2_vdwq_14.gro -p ../../sys_top/1GI2_water_ion.top -po out_prod_1GI2_vdwq_14.mdp -o prod_1GI2_vdwq_14.tpr -maxwarn 1\n",
      "-Launch the simulation prod_1GI2_vdwq_14.tpr\n",
      "gmx mdrun -s prod_1GI2_vdwq_14.tpr -deffnm prod_1GI2_vdwq_14 -nt 0 -ntmpi 0 -nsteps -2 -nocopyright\n"
     ]
    },
    {
     "data": {
      "application/vnd.jupyter.widget-view+json": {
       "model_id": "b2c4e06d8f084fc68a2becdbe91a893b",
       "version_major": 2,
       "version_minor": 0
      },
      "text/plain": [
       "HBox(children=(FloatProgress(value=0.0, max=50000.0), HTML(value='')))"
      ]
     },
     "metadata": {},
     "output_type": "display_data"
    },
    {
     "name": "stdout",
     "output_type": "stream",
     "text": [
      "\n",
      "-Create the tpr file em_1GI2_vdwq_15.tpr\n",
      "gmx grompp -f em_1GI2_vdwq_15.mdp -c ../../sys_equi/02_equi_CA_LOW/equi_CA_LOW_1GI2.gro -r ../../sys_equi/02_equi_CA_LOW/equi_CA_LOW_1GI2.gro -p ../../sys_top/1GI2_water_ion.top -po out_em_1GI2_vdwq_15.mdp -o em_1GI2_vdwq_15.tpr -maxwarn 1\n",
      "-Launch the simulation em_1GI2_vdwq_15.tpr\n",
      "gmx mdrun -s em_1GI2_vdwq_15.tpr -deffnm em_1GI2_vdwq_15 -nt 0 -ntmpi 0 -nsteps -2 -nocopyright\n"
     ]
    },
    {
     "data": {
      "application/vnd.jupyter.widget-view+json": {
       "model_id": "7dde9b7bafed4bcda38531a00b154b93",
       "version_major": 2,
       "version_minor": 0
      },
      "text/plain": [
       "HBox(children=(FloatProgress(value=0.0, max=5000.0), HTML(value='')))"
      ]
     },
     "metadata": {},
     "output_type": "display_data"
    },
    {
     "name": "stdout",
     "output_type": "stream",
     "text": [
      "\n",
      "-Create the tpr file nvt_1GI2_vdwq_15.tpr\n",
      "gmx grompp -f nvt_1GI2_vdwq_15.mdp -c ../00_em/em_1GI2_vdwq_15.gro -r ../00_em/em_1GI2_vdwq_15.gro -p ../../sys_top/1GI2_water_ion.top -po out_nvt_1GI2_vdwq_15.mdp -o nvt_1GI2_vdwq_15.tpr -maxwarn 1\n",
      "-Launch the simulation nvt_1GI2_vdwq_15.tpr\n",
      "gmx mdrun -s nvt_1GI2_vdwq_15.tpr -deffnm nvt_1GI2_vdwq_15 -nt 0 -ntmpi 0 -nsteps -2 -nocopyright\n"
     ]
    },
    {
     "data": {
      "application/vnd.jupyter.widget-view+json": {
       "model_id": "73110582f7ef495dafe214d7efa004be",
       "version_major": 2,
       "version_minor": 0
      },
      "text/plain": [
       "HBox(children=(FloatProgress(value=0.0, max=5000.0), HTML(value='')))"
      ]
     },
     "metadata": {},
     "output_type": "display_data"
    },
    {
     "name": "stdout",
     "output_type": "stream",
     "text": [
      "\n",
      "-Create the tpr file npt_1GI2_vdwq_15.tpr\n",
      "gmx grompp -f npt_1GI2_vdwq_15.mdp -c ../01_equi_nvt/nvt_1GI2_vdwq_15.gro -r ../01_equi_nvt/nvt_1GI2_vdwq_15.gro -p ../../sys_top/1GI2_water_ion.top -po out_npt_1GI2_vdwq_15.mdp -o npt_1GI2_vdwq_15.tpr -maxwarn 1\n",
      "-Launch the simulation npt_1GI2_vdwq_15.tpr\n",
      "gmx mdrun -s npt_1GI2_vdwq_15.tpr -deffnm npt_1GI2_vdwq_15 -nt 0 -ntmpi 0 -nsteps -2 -nocopyright\n"
     ]
    },
    {
     "data": {
      "application/vnd.jupyter.widget-view+json": {
       "model_id": "4d3d280d65bd4bdf947c7e7644ba53ed",
       "version_major": 2,
       "version_minor": 0
      },
      "text/plain": [
       "HBox(children=(FloatProgress(value=0.0, max=5000.0), HTML(value='')))"
      ]
     },
     "metadata": {},
     "output_type": "display_data"
    },
    {
     "name": "stdout",
     "output_type": "stream",
     "text": [
      "\n",
      "-Create the tpr file prod_1GI2_vdwq_15.tpr\n",
      "gmx grompp -f prod_1GI2_vdwq_15.mdp -c ../02_equi_npt/npt_1GI2_vdwq_15.gro -r ../02_equi_npt/npt_1GI2_vdwq_15.gro -p ../../sys_top/1GI2_water_ion.top -po out_prod_1GI2_vdwq_15.mdp -o prod_1GI2_vdwq_15.tpr -maxwarn 1\n",
      "-Launch the simulation prod_1GI2_vdwq_15.tpr\n",
      "gmx mdrun -s prod_1GI2_vdwq_15.tpr -deffnm prod_1GI2_vdwq_15 -nt 0 -ntmpi 0 -nsteps -2 -nocopyright\n"
     ]
    },
    {
     "data": {
      "application/vnd.jupyter.widget-view+json": {
       "model_id": "7a9533d6e6ce49e3b01668426e8a6043",
       "version_major": 2,
       "version_minor": 0
      },
      "text/plain": [
       "HBox(children=(FloatProgress(value=0.0, max=50000.0), HTML(value='')))"
      ]
     },
     "metadata": {},
     "output_type": "display_data"
    },
    {
     "name": "stdout",
     "output_type": "stream",
     "text": [
      "\n",
      "-Create the tpr file em_1GI2_vdwq_16.tpr\n",
      "gmx grompp -f em_1GI2_vdwq_16.mdp -c ../../sys_equi/02_equi_CA_LOW/equi_CA_LOW_1GI2.gro -r ../../sys_equi/02_equi_CA_LOW/equi_CA_LOW_1GI2.gro -p ../../sys_top/1GI2_water_ion.top -po out_em_1GI2_vdwq_16.mdp -o em_1GI2_vdwq_16.tpr -maxwarn 1\n",
      "-Launch the simulation em_1GI2_vdwq_16.tpr\n",
      "gmx mdrun -s em_1GI2_vdwq_16.tpr -deffnm em_1GI2_vdwq_16 -nt 0 -ntmpi 0 -nsteps -2 -nocopyright\n"
     ]
    },
    {
     "data": {
      "application/vnd.jupyter.widget-view+json": {
       "model_id": "6004772605c948b2ae24d0f947773c8f",
       "version_major": 2,
       "version_minor": 0
      },
      "text/plain": [
       "HBox(children=(FloatProgress(value=0.0, max=5000.0), HTML(value='')))"
      ]
     },
     "metadata": {},
     "output_type": "display_data"
    },
    {
     "name": "stdout",
     "output_type": "stream",
     "text": [
      "\n",
      "-Create the tpr file nvt_1GI2_vdwq_16.tpr\n",
      "gmx grompp -f nvt_1GI2_vdwq_16.mdp -c ../00_em/em_1GI2_vdwq_16.gro -r ../00_em/em_1GI2_vdwq_16.gro -p ../../sys_top/1GI2_water_ion.top -po out_nvt_1GI2_vdwq_16.mdp -o nvt_1GI2_vdwq_16.tpr -maxwarn 1\n",
      "-Launch the simulation nvt_1GI2_vdwq_16.tpr\n",
      "gmx mdrun -s nvt_1GI2_vdwq_16.tpr -deffnm nvt_1GI2_vdwq_16 -nt 0 -ntmpi 0 -nsteps -2 -nocopyright\n"
     ]
    },
    {
     "data": {
      "application/vnd.jupyter.widget-view+json": {
       "model_id": "8fd7f81d00264bd08ce7cb42b075f7cf",
       "version_major": 2,
       "version_minor": 0
      },
      "text/plain": [
       "HBox(children=(FloatProgress(value=0.0, max=5000.0), HTML(value='')))"
      ]
     },
     "metadata": {},
     "output_type": "display_data"
    },
    {
     "name": "stdout",
     "output_type": "stream",
     "text": [
      "\n",
      "-Create the tpr file npt_1GI2_vdwq_16.tpr\n",
      "gmx grompp -f npt_1GI2_vdwq_16.mdp -c ../01_equi_nvt/nvt_1GI2_vdwq_16.gro -r ../01_equi_nvt/nvt_1GI2_vdwq_16.gro -p ../../sys_top/1GI2_water_ion.top -po out_npt_1GI2_vdwq_16.mdp -o npt_1GI2_vdwq_16.tpr -maxwarn 1\n",
      "-Launch the simulation npt_1GI2_vdwq_16.tpr\n",
      "gmx mdrun -s npt_1GI2_vdwq_16.tpr -deffnm npt_1GI2_vdwq_16 -nt 0 -ntmpi 0 -nsteps -2 -nocopyright\n"
     ]
    },
    {
     "data": {
      "application/vnd.jupyter.widget-view+json": {
       "model_id": "c7491a83ca4b4148b7bc62d099905259",
       "version_major": 2,
       "version_minor": 0
      },
      "text/plain": [
       "HBox(children=(FloatProgress(value=0.0, max=5000.0), HTML(value='')))"
      ]
     },
     "metadata": {},
     "output_type": "display_data"
    },
    {
     "name": "stdout",
     "output_type": "stream",
     "text": [
      "\n",
      "-Create the tpr file prod_1GI2_vdwq_16.tpr\n",
      "gmx grompp -f prod_1GI2_vdwq_16.mdp -c ../02_equi_npt/npt_1GI2_vdwq_16.gro -r ../02_equi_npt/npt_1GI2_vdwq_16.gro -p ../../sys_top/1GI2_water_ion.top -po out_prod_1GI2_vdwq_16.mdp -o prod_1GI2_vdwq_16.tpr -maxwarn 1\n",
      "-Launch the simulation prod_1GI2_vdwq_16.tpr\n",
      "gmx mdrun -s prod_1GI2_vdwq_16.tpr -deffnm prod_1GI2_vdwq_16 -nt 0 -ntmpi 0 -nsteps -2 -nocopyright\n"
     ]
    },
    {
     "data": {
      "application/vnd.jupyter.widget-view+json": {
       "model_id": "7c80c7f59f47457c83113d3772d7d4f8",
       "version_major": 2,
       "version_minor": 0
      },
      "text/plain": [
       "HBox(children=(FloatProgress(value=0.0, max=50000.0), HTML(value='')))"
      ]
     },
     "metadata": {},
     "output_type": "display_data"
    },
    {
     "name": "stdout",
     "output_type": "stream",
     "text": [
      "\n",
      "-Create the tpr file em_1GI2_vdwq_17.tpr\n",
      "gmx grompp -f em_1GI2_vdwq_17.mdp -c ../../sys_equi/02_equi_CA_LOW/equi_CA_LOW_1GI2.gro -r ../../sys_equi/02_equi_CA_LOW/equi_CA_LOW_1GI2.gro -p ../../sys_top/1GI2_water_ion.top -po out_em_1GI2_vdwq_17.mdp -o em_1GI2_vdwq_17.tpr -maxwarn 1\n",
      "-Launch the simulation em_1GI2_vdwq_17.tpr\n",
      "gmx mdrun -s em_1GI2_vdwq_17.tpr -deffnm em_1GI2_vdwq_17 -nt 0 -ntmpi 0 -nsteps -2 -nocopyright\n"
     ]
    },
    {
     "data": {
      "application/vnd.jupyter.widget-view+json": {
       "model_id": "6c56f3f027dc4ebb86c7e6ca1bab765b",
       "version_major": 2,
       "version_minor": 0
      },
      "text/plain": [
       "HBox(children=(FloatProgress(value=0.0, max=5000.0), HTML(value='')))"
      ]
     },
     "metadata": {},
     "output_type": "display_data"
    },
    {
     "name": "stdout",
     "output_type": "stream",
     "text": [
      "\n",
      "-Create the tpr file nvt_1GI2_vdwq_17.tpr\n",
      "gmx grompp -f nvt_1GI2_vdwq_17.mdp -c ../00_em/em_1GI2_vdwq_17.gro -r ../00_em/em_1GI2_vdwq_17.gro -p ../../sys_top/1GI2_water_ion.top -po out_nvt_1GI2_vdwq_17.mdp -o nvt_1GI2_vdwq_17.tpr -maxwarn 1\n",
      "-Launch the simulation nvt_1GI2_vdwq_17.tpr\n",
      "gmx mdrun -s nvt_1GI2_vdwq_17.tpr -deffnm nvt_1GI2_vdwq_17 -nt 0 -ntmpi 0 -nsteps -2 -nocopyright\n"
     ]
    },
    {
     "data": {
      "application/vnd.jupyter.widget-view+json": {
       "model_id": "e3ceb5a6bcbd47a0ab7a78ee2af7f855",
       "version_major": 2,
       "version_minor": 0
      },
      "text/plain": [
       "HBox(children=(FloatProgress(value=0.0, max=5000.0), HTML(value='')))"
      ]
     },
     "metadata": {},
     "output_type": "display_data"
    },
    {
     "name": "stdout",
     "output_type": "stream",
     "text": [
      "\n",
      "-Create the tpr file npt_1GI2_vdwq_17.tpr\n",
      "gmx grompp -f npt_1GI2_vdwq_17.mdp -c ../01_equi_nvt/nvt_1GI2_vdwq_17.gro -r ../01_equi_nvt/nvt_1GI2_vdwq_17.gro -p ../../sys_top/1GI2_water_ion.top -po out_npt_1GI2_vdwq_17.mdp -o npt_1GI2_vdwq_17.tpr -maxwarn 1\n",
      "-Launch the simulation npt_1GI2_vdwq_17.tpr\n",
      "gmx mdrun -s npt_1GI2_vdwq_17.tpr -deffnm npt_1GI2_vdwq_17 -nt 0 -ntmpi 0 -nsteps -2 -nocopyright\n"
     ]
    },
    {
     "data": {
      "application/vnd.jupyter.widget-view+json": {
       "model_id": "a762c7b537184c8c9076c3434e423f93",
       "version_major": 2,
       "version_minor": 0
      },
      "text/plain": [
       "HBox(children=(FloatProgress(value=0.0, max=5000.0), HTML(value='')))"
      ]
     },
     "metadata": {},
     "output_type": "display_data"
    },
    {
     "name": "stdout",
     "output_type": "stream",
     "text": [
      "\n",
      "-Create the tpr file prod_1GI2_vdwq_17.tpr\n",
      "gmx grompp -f prod_1GI2_vdwq_17.mdp -c ../02_equi_npt/npt_1GI2_vdwq_17.gro -r ../02_equi_npt/npt_1GI2_vdwq_17.gro -p ../../sys_top/1GI2_water_ion.top -po out_prod_1GI2_vdwq_17.mdp -o prod_1GI2_vdwq_17.tpr -maxwarn 1\n",
      "-Launch the simulation prod_1GI2_vdwq_17.tpr\n",
      "gmx mdrun -s prod_1GI2_vdwq_17.tpr -deffnm prod_1GI2_vdwq_17 -nt 0 -ntmpi 0 -nsteps -2 -nocopyright\n"
     ]
    },
    {
     "data": {
      "application/vnd.jupyter.widget-view+json": {
       "model_id": "32fbf3865ac24562a3f02a4058315976",
       "version_major": 2,
       "version_minor": 0
      },
      "text/plain": [
       "HBox(children=(FloatProgress(value=0.0, max=50000.0), HTML(value='')))"
      ]
     },
     "metadata": {},
     "output_type": "display_data"
    },
    {
     "name": "stdout",
     "output_type": "stream",
     "text": [
      "\n",
      "-Create the tpr file em_1GI2_vdwq_18.tpr\n",
      "gmx grompp -f em_1GI2_vdwq_18.mdp -c ../../sys_equi/02_equi_CA_LOW/equi_CA_LOW_1GI2.gro -r ../../sys_equi/02_equi_CA_LOW/equi_CA_LOW_1GI2.gro -p ../../sys_top/1GI2_water_ion.top -po out_em_1GI2_vdwq_18.mdp -o em_1GI2_vdwq_18.tpr -maxwarn 1\n",
      "-Launch the simulation em_1GI2_vdwq_18.tpr\n",
      "gmx mdrun -s em_1GI2_vdwq_18.tpr -deffnm em_1GI2_vdwq_18 -nt 0 -ntmpi 0 -nsteps -2 -nocopyright\n"
     ]
    },
    {
     "data": {
      "application/vnd.jupyter.widget-view+json": {
       "model_id": "28e9443a549249778d7e828eaaad00ff",
       "version_major": 2,
       "version_minor": 0
      },
      "text/plain": [
       "HBox(children=(FloatProgress(value=0.0, max=5000.0), HTML(value='')))"
      ]
     },
     "metadata": {},
     "output_type": "display_data"
    },
    {
     "name": "stdout",
     "output_type": "stream",
     "text": [
      "\n",
      "-Create the tpr file nvt_1GI2_vdwq_18.tpr\n",
      "gmx grompp -f nvt_1GI2_vdwq_18.mdp -c ../00_em/em_1GI2_vdwq_18.gro -r ../00_em/em_1GI2_vdwq_18.gro -p ../../sys_top/1GI2_water_ion.top -po out_nvt_1GI2_vdwq_18.mdp -o nvt_1GI2_vdwq_18.tpr -maxwarn 1\n",
      "-Launch the simulation nvt_1GI2_vdwq_18.tpr\n",
      "gmx mdrun -s nvt_1GI2_vdwq_18.tpr -deffnm nvt_1GI2_vdwq_18 -nt 0 -ntmpi 0 -nsteps -2 -nocopyright\n"
     ]
    },
    {
     "data": {
      "application/vnd.jupyter.widget-view+json": {
       "model_id": "6923946201f340749d3bcbd04929f5a6",
       "version_major": 2,
       "version_minor": 0
      },
      "text/plain": [
       "HBox(children=(FloatProgress(value=0.0, max=5000.0), HTML(value='')))"
      ]
     },
     "metadata": {},
     "output_type": "display_data"
    },
    {
     "name": "stdout",
     "output_type": "stream",
     "text": [
      "\n",
      "-Create the tpr file npt_1GI2_vdwq_18.tpr\n",
      "gmx grompp -f npt_1GI2_vdwq_18.mdp -c ../01_equi_nvt/nvt_1GI2_vdwq_18.gro -r ../01_equi_nvt/nvt_1GI2_vdwq_18.gro -p ../../sys_top/1GI2_water_ion.top -po out_npt_1GI2_vdwq_18.mdp -o npt_1GI2_vdwq_18.tpr -maxwarn 1\n",
      "-Launch the simulation npt_1GI2_vdwq_18.tpr\n",
      "gmx mdrun -s npt_1GI2_vdwq_18.tpr -deffnm npt_1GI2_vdwq_18 -nt 0 -ntmpi 0 -nsteps -2 -nocopyright\n"
     ]
    },
    {
     "data": {
      "application/vnd.jupyter.widget-view+json": {
       "model_id": "eb12ea7505b44793847569f970666dc5",
       "version_major": 2,
       "version_minor": 0
      },
      "text/plain": [
       "HBox(children=(FloatProgress(value=0.0, max=5000.0), HTML(value='')))"
      ]
     },
     "metadata": {},
     "output_type": "display_data"
    },
    {
     "name": "stdout",
     "output_type": "stream",
     "text": [
      "\n",
      "-Create the tpr file prod_1GI2_vdwq_18.tpr\n",
      "gmx grompp -f prod_1GI2_vdwq_18.mdp -c ../02_equi_npt/npt_1GI2_vdwq_18.gro -r ../02_equi_npt/npt_1GI2_vdwq_18.gro -p ../../sys_top/1GI2_water_ion.top -po out_prod_1GI2_vdwq_18.mdp -o prod_1GI2_vdwq_18.tpr -maxwarn 1\n",
      "-Launch the simulation prod_1GI2_vdwq_18.tpr\n",
      "gmx mdrun -s prod_1GI2_vdwq_18.tpr -deffnm prod_1GI2_vdwq_18 -nt 0 -ntmpi 0 -nsteps -2 -nocopyright\n"
     ]
    },
    {
     "data": {
      "application/vnd.jupyter.widget-view+json": {
       "model_id": "ffda252e54724ffd867859538dedad7e",
       "version_major": 2,
       "version_minor": 0
      },
      "text/plain": [
       "HBox(children=(FloatProgress(value=0.0, max=50000.0), HTML(value='')))"
      ]
     },
     "metadata": {},
     "output_type": "display_data"
    },
    {
     "name": "stdout",
     "output_type": "stream",
     "text": [
      "\n",
      "-Create the tpr file em_1GI2_vdwq_19.tpr\n",
      "gmx grompp -f em_1GI2_vdwq_19.mdp -c ../../sys_equi/02_equi_CA_LOW/equi_CA_LOW_1GI2.gro -r ../../sys_equi/02_equi_CA_LOW/equi_CA_LOW_1GI2.gro -p ../../sys_top/1GI2_water_ion.top -po out_em_1GI2_vdwq_19.mdp -o em_1GI2_vdwq_19.tpr -maxwarn 1\n",
      "-Launch the simulation em_1GI2_vdwq_19.tpr\n",
      "gmx mdrun -s em_1GI2_vdwq_19.tpr -deffnm em_1GI2_vdwq_19 -nt 0 -ntmpi 0 -nsteps -2 -nocopyright\n"
     ]
    },
    {
     "data": {
      "application/vnd.jupyter.widget-view+json": {
       "model_id": "d075dab3b1184753a2f6674b572a060b",
       "version_major": 2,
       "version_minor": 0
      },
      "text/plain": [
       "HBox(children=(FloatProgress(value=0.0, max=5000.0), HTML(value='')))"
      ]
     },
     "metadata": {},
     "output_type": "display_data"
    },
    {
     "name": "stdout",
     "output_type": "stream",
     "text": [
      "\n",
      "-Create the tpr file nvt_1GI2_vdwq_19.tpr\n",
      "gmx grompp -f nvt_1GI2_vdwq_19.mdp -c ../00_em/em_1GI2_vdwq_19.gro -r ../00_em/em_1GI2_vdwq_19.gro -p ../../sys_top/1GI2_water_ion.top -po out_nvt_1GI2_vdwq_19.mdp -o nvt_1GI2_vdwq_19.tpr -maxwarn 1\n",
      "-Launch the simulation nvt_1GI2_vdwq_19.tpr\n",
      "gmx mdrun -s nvt_1GI2_vdwq_19.tpr -deffnm nvt_1GI2_vdwq_19 -nt 0 -ntmpi 0 -nsteps -2 -nocopyright\n"
     ]
    },
    {
     "data": {
      "application/vnd.jupyter.widget-view+json": {
       "model_id": "e47f7729072143b09672c26f9d6777f5",
       "version_major": 2,
       "version_minor": 0
      },
      "text/plain": [
       "HBox(children=(FloatProgress(value=0.0, max=5000.0), HTML(value='')))"
      ]
     },
     "metadata": {},
     "output_type": "display_data"
    },
    {
     "name": "stdout",
     "output_type": "stream",
     "text": [
      "\n",
      "-Create the tpr file npt_1GI2_vdwq_19.tpr\n",
      "gmx grompp -f npt_1GI2_vdwq_19.mdp -c ../01_equi_nvt/nvt_1GI2_vdwq_19.gro -r ../01_equi_nvt/nvt_1GI2_vdwq_19.gro -p ../../sys_top/1GI2_water_ion.top -po out_npt_1GI2_vdwq_19.mdp -o npt_1GI2_vdwq_19.tpr -maxwarn 1\n",
      "-Launch the simulation npt_1GI2_vdwq_19.tpr\n",
      "gmx mdrun -s npt_1GI2_vdwq_19.tpr -deffnm npt_1GI2_vdwq_19 -nt 0 -ntmpi 0 -nsteps -2 -nocopyright\n"
     ]
    },
    {
     "data": {
      "application/vnd.jupyter.widget-view+json": {
       "model_id": "3345c352970d4ef8beaa6a13918d0e76",
       "version_major": 2,
       "version_minor": 0
      },
      "text/plain": [
       "HBox(children=(FloatProgress(value=0.0, max=5000.0), HTML(value='')))"
      ]
     },
     "metadata": {},
     "output_type": "display_data"
    },
    {
     "name": "stdout",
     "output_type": "stream",
     "text": [
      "\n",
      "-Create the tpr file prod_1GI2_vdwq_19.tpr\n",
      "gmx grompp -f prod_1GI2_vdwq_19.mdp -c ../02_equi_npt/npt_1GI2_vdwq_19.gro -r ../02_equi_npt/npt_1GI2_vdwq_19.gro -p ../../sys_top/1GI2_water_ion.top -po out_prod_1GI2_vdwq_19.mdp -o prod_1GI2_vdwq_19.tpr -maxwarn 1\n",
      "-Launch the simulation prod_1GI2_vdwq_19.tpr\n",
      "gmx mdrun -s prod_1GI2_vdwq_19.tpr -deffnm prod_1GI2_vdwq_19 -nt 0 -ntmpi 0 -nsteps -2 -nocopyright\n"
     ]
    },
    {
     "data": {
      "application/vnd.jupyter.widget-view+json": {
       "model_id": "5f0b61ab43dc4998a000b057e70323e7",
       "version_major": 2,
       "version_minor": 0
      },
      "text/plain": [
       "HBox(children=(FloatProgress(value=0.0, max=50000.0), HTML(value='')))"
      ]
     },
     "metadata": {},
     "output_type": "display_data"
    },
    {
     "name": "stdout",
     "output_type": "stream",
     "text": [
      "\n",
      "-Extract bar energy\n",
      "gmx bar -f data_lig_trypsin_1GI2/mol_prot_free_ener/03_prod/prod_1GI2_vdwq_00.xvg data_lig_trypsin_1GI2/mol_prot_free_ener/03_prod/prod_1GI2_vdwq_01.xvg data_lig_trypsin_1GI2/mol_prot_free_ener/03_prod/prod_1GI2_vdwq_02.xvg data_lig_trypsin_1GI2/mol_prot_free_ener/03_prod/prod_1GI2_vdwq_03.xvg data_lig_trypsin_1GI2/mol_prot_free_ener/03_prod/prod_1GI2_vdwq_04.xvg data_lig_trypsin_1GI2/mol_prot_free_ener/03_prod/prod_1GI2_vdwq_05.xvg data_lig_trypsin_1GI2/mol_prot_free_ener/03_prod/prod_1GI2_vdwq_06.xvg data_lig_trypsin_1GI2/mol_prot_free_ener/03_prod/prod_1GI2_vdwq_07.xvg data_lig_trypsin_1GI2/mol_prot_free_ener/03_prod/prod_1GI2_vdwq_08.xvg data_lig_trypsin_1GI2/mol_prot_free_ener/03_prod/prod_1GI2_vdwq_09.xvg data_lig_trypsin_1GI2/mol_prot_free_ener/03_prod/prod_1GI2_vdwq_10.xvg data_lig_trypsin_1GI2/mol_prot_free_ener/03_prod/prod_1GI2_vdwq_11.xvg data_lig_trypsin_1GI2/mol_prot_free_ener/03_prod/prod_1GI2_vdwq_12.xvg data_lig_trypsin_1GI2/mol_prot_free_ener/03_prod/prod_1GI2_vdwq_13.xvg data_lig_trypsin_1GI2/mol_prot_free_ener/03_prod/prod_1GI2_vdwq_14.xvg data_lig_trypsin_1GI2/mol_prot_free_ener/03_prod/prod_1GI2_vdwq_15.xvg data_lig_trypsin_1GI2/mol_prot_free_ener/03_prod/prod_1GI2_vdwq_16.xvg data_lig_trypsin_1GI2/mol_prot_free_ener/03_prod/prod_1GI2_vdwq_17.xvg data_lig_trypsin_1GI2/mol_prot_free_ener/03_prod/prod_1GI2_vdwq_18.xvg data_lig_trypsin_1GI2/mol_prot_free_ener/03_prod/prod_1GI2_vdwq_19.xvg -o bar.xvg -oi barint.xvg -oh histogram.xvg\n",
      "total      0 -     19,   DG 273.95 +/-  2.92\n",
      "DDG = 273.95 +/- 2.92 KJ/mol-1\n",
      "DDG = 65.48 +/- 0.70 Kcal/mol-1\n"
     ]
    }
   ],
   "source": [
    "ener = start_sys.free_ener(out_folder=os.path.join(DATA_OUT, 'mol_prot_free_ener'),\n",
    "                           mol_name=MOL_ID, lambda_elec_num=10, lambda_vdw_num=10,\n",
    "                           em_steps=5000, nvt_time=10, npt_time=10, prod_time=100)\n",
    "\n",
    "#ener = start_sys.free_ener(out_folder=os.path.join(DATA_OUT, 'mol_prot_free_ener'),\n",
    "#                    mol_name='120', lambda_elec_num=5, lambda_vdw_num=5,\n",
    "#                    em_steps=5000, nvt_time=5, npt_time=5, prod_time=10)"
   ]
  },
  {
   "cell_type": "code",
   "execution_count": 59,
   "metadata": {},
   "outputs": [
    {
     "name": "stdout",
     "output_type": "stream",
     "text": [
      "DDG = -17.99 +/- 1.13\n"
     ]
    }
   ],
   "source": [
    "print('DDG = {:.2f} +/- {:.2f}'.format( (ener_solv['DG'] - ener['DG'])/4.184, \n",
    "                                       ((ener_solv['std']**2 + ener['std']**2)**(0.5))/4.184))"
   ]
  },
  {
   "cell_type": "code",
   "execution_count": 18,
   "metadata": {},
   "outputs": [
    {
     "ename": "AttributeError",
     "evalue": "'dict' object has no attribute 'columns'",
     "output_type": "error",
     "traceback": [
      "\u001b[0;31m---------------------------------------------------------------------------\u001b[0m",
      "\u001b[0;31mAttributeError\u001b[0m                            Traceback (most recent call last)",
      "\u001b[0;32m<ipython-input-18-73ddf1dbc8a7>\u001b[0m in \u001b[0;36m<module>\u001b[0;34m\u001b[0m\n\u001b[0;32m----> 1\u001b[0;31m \u001b[0mtest\u001b[0m \u001b[0;34m=\u001b[0m \u001b[0mtable\u001b[0m\u001b[0;34m.\u001b[0m\u001b[0mcolumns\u001b[0m\u001b[0;34m[\u001b[0m\u001b[0;36m0\u001b[0m\u001b[0;34m]\u001b[0m\u001b[0;34m\u001b[0m\u001b[0;34m\u001b[0m\u001b[0m\n\u001b[0m",
      "\u001b[0;31mAttributeError\u001b[0m: 'dict' object has no attribute 'columns'"
     ]
    }
   ],
   "source": [
    "test = table.columns[0]"
   ]
  },
  {
   "cell_type": "code",
   "execution_count": null,
   "metadata": {},
   "outputs": [],
   "source": [
    "test = test.replace('\\\\x','')\n",
    "test = test.replace('\\\\f{}','')\n",
    "test"
   ]
  },
  {
   "cell_type": "code",
   "execution_count": null,
   "metadata": {},
   "outputs": [],
   "source": [
    "test = ['a', 'b', 'c']\n",
    "\" \".join(test)"
   ]
  },
  {
   "cell_type": "code",
   "execution_count": null,
   "metadata": {},
   "outputs": [],
   "source": [
    "math.sqrt((table.iloc[:,2]**2).sum())"
   ]
  },
  {
   "cell_type": "code",
   "execution_count": null,
   "metadata": {},
   "outputs": [],
   "source": [
    "table"
   ]
  },
  {
   "cell_type": "code",
   "execution_count": null,
   "metadata": {},
   "outputs": [],
   "source": [
    "from scipy.constants import R, Boltzmann, N_A\n",
    "import math\n",
    "\n",
    "#math.sqrt((table.iloc[:, 2] *  Boltzmann*310*N_A*1e-3 # kT to KJ.mol-1"
   ]
  },
  {
   "cell_type": "code",
   "execution_count": null,
   "metadata": {},
   "outputs": [],
   "source": [
    "math.sqrt(((table.iloc[:, 2] *  Boltzmann*310*N_A*1e-3)**2).sum())*(len(table.iloc[:, 2])+1)/len(table.iloc[:, 2])"
   ]
  },
  {
   "cell_type": "code",
   "execution_count": null,
   "metadata": {},
   "outputs": [],
   "source": [
    "from scipy.constants import R, Boltzmann, N_A\n",
    "\n",
    "Boltzmann*310*N_A"
   ]
  },
  {
   "cell_type": "code",
   "execution_count": null,
   "metadata": {},
   "outputs": [],
   "source": [
    "table.iloc[:, 2] *  Boltzmann*310*N_A*1e-3"
   ]
  },
  {
   "cell_type": "code",
   "execution_count": null,
   "metadata": {},
   "outputs": [],
   "source": [
    "len(table.iloc[:, 2])"
   ]
  },
  {
   "cell_type": "code",
   "execution_count": 29,
   "metadata": {},
   "outputs": [
    {
     "data": {
      "text/plain": [
       "26.22"
      ]
     },
     "execution_count": 29,
     "metadata": {},
     "output_type": "execute_result"
    }
   ],
   "source": [
    "78.41-52.19"
   ]
  },
  {
   "cell_type": "code",
   "execution_count": null,
   "metadata": {},
   "outputs": [],
   "source": []
  }
 ],
 "metadata": {
  "kernelspec": {
   "display_name": "Python 3",
   "language": "python",
   "name": "python3"
  },
  "language_info": {
   "codemirror_mode": {
    "name": "ipython",
    "version": 3
   },
   "file_extension": ".py",
   "mimetype": "text/x-python",
   "name": "python",
   "nbconvert_exporter": "python",
   "pygments_lexer": "ipython3",
   "version": "3.8.2"
  }
 },
 "nbformat": 4,
 "nbformat_minor": 4
}
