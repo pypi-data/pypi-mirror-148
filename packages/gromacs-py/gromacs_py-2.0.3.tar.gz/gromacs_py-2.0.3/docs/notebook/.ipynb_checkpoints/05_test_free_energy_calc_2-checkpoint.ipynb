{
 "cells": [
  {
   "cell_type": "code",
   "execution_count": 1,
   "metadata": {},
   "outputs": [],
   "source": [
    "import os\n",
    "import urllib.request\n",
    "import copy"
   ]
  },
  {
   "cell_type": "code",
   "execution_count": 2,
   "metadata": {},
   "outputs": [],
   "source": [
    "from gromacs_py import gmx\n",
    "gmx.show_log()\n",
    "from gromacs_py.tools import ambertools\n",
    "ambertools.show_log()\n",
    "\n",
    "from pdb_manip_py import pdb_manip"
   ]
  },
  {
   "cell_type": "code",
   "execution_count": 3,
   "metadata": {},
   "outputs": [
    {
     "name": "stdout",
     "output_type": "stream",
     "text": [
      "/home/murail/Documents/Code/gromacs_py/docs/notebook\n"
     ]
    }
   ],
   "source": [
    "cd /home/murail/Documents/Code/gromacs_py/docs/notebook/"
   ]
  },
  {
   "cell_type": "code",
   "execution_count": 4,
   "metadata": {},
   "outputs": [],
   "source": [
    "#rm -r data_lig_trypsin_1GI2"
   ]
  },
  {
   "cell_type": "code",
   "execution_count": 5,
   "metadata": {},
   "outputs": [],
   "source": [
    "PDB_ID = '1GI2'\n",
    "MOL_ID = '122'\n",
    "CHARGE_MOL = 1\n",
    "DATA_OUT = 'data_lig_trypsin_{}'.format(PDB_ID)\n",
    "os.makedirs(DATA_OUT, exist_ok = True)\n",
    "\n",
    "raw_pdb = urllib.request.urlretrieve('http://files.rcsb.org/download/{}.pdb'.format(PDB_ID),\n",
    "                           '{}/{}.pdb'.format(DATA_OUT, PDB_ID))"
   ]
  },
  {
   "cell_type": "code",
   "execution_count": 6,
   "metadata": {},
   "outputs": [],
   "source": [
    "# Extract first conf:\n",
    "\n",
    "#pdb_multi = pdb_manip.Multi_Coor(raw_pdb[0])\n",
    "#pdb_model_1 = '{}/{}_model_1.pdb'.format(DATA_OUT, PDB_ID)\n",
    "#pdb_multi.coor_list[0].write_pdb(pdb_model_1)\n",
    "\n",
    "pdb_model_1 = '{}/{}.pdb'.format(DATA_OUT, PDB_ID)"
   ]
  },
  {
   "cell_type": "code",
   "execution_count": 7,
   "metadata": {},
   "outputs": [],
   "source": [
    "rm -r data_lig_trypsin_1GI2/prot_top/"
   ]
  },
  {
   "cell_type": "code",
   "execution_count": 8,
   "metadata": {
    "scrolled": false
   },
   "outputs": [
    {
     "name": "stdout",
     "output_type": "stream",
     "text": [
      "Succeed to read file ../1GI2.pdb ,  4226 atoms found\n",
      "Succeed to read file ../1GI2.pdb ,  4226 atoms found\n",
      "Succeed to save file tmp_pdb2pqr.pdb\n",
      "pdb2pqr_cli --ff AMBER --ffout AMBER --chain --ph-calc-method=propka --with-ph=7.00 tmp_pdb2pqr.pdb 00_1GI2.pqr\n",
      "Succeed to read file 00_1GI2.pqr ,  3221 atoms found\n",
      "residue(s) CYS not included, add this residue in ...\n",
      "residue(s) SO4 not included, add this residue in ...\n",
      "Succeed to read file ../1GI2.pdb ,  4226 atoms found\n",
      "Succeed to save file 122.pdb\n",
      "reduce -build -nuclear 122.pdb\n",
      "Succeed to save file 122_h.pdb\n",
      "Succeed to read file 122_h.pdb ,  32 atoms found\n",
      "Succeed to save file 122_h_unique.pdb\n",
      "acpype -i 122_h_unique.pdb -b 122 -c bcc -a gaff -o gmx -n 1\n",
      "Succeed to create topologie in 122\n",
      "122\n",
      "residue(s) CA not included, add this residue in ...\n",
      "Chain: A  Residue: 0 to 218\n",
      "Succeed to save file 01_1GI2_good_his.pdb\n",
      "-Create topologie\n",
      "gmx pdb2gmx -f 01_1GI2_good_his.pdb -o 1GI2_pdb2gmx.pdb -p 1GI2_pdb2gmx.top -i 1GI2_posre.itp -water tip3p -ff amber99sb-ildn -ignh -vsite none\n",
      "Molecule topologie present in 1GI2_pdb2gmx.top , extract the topologie in a separate file: 1GI2_pdb2gmx.itp\n",
      "Protein_chain_A\n",
      "-ITP file: 1GI2_pdb2gmx.itp\n",
      "-molecules defined in the itp file:\n",
      "* Protein_chain_A\n",
      "Rewrite topologie: 1GI2_pdb2gmx.top\n",
      "Add Molecule: 122\n",
      "Add 1 mol /home/murail/Documents/Code/gromacs_py/docs/notebook/data_lig_trypsin_1GI2/prot_top/122.acpype/122_GMX.itp\n",
      "Concat files: ['1GI2_pdb2gmx.pdb', '/home/murail/Documents/Code/gromacs_py/docs/notebook/data_lig_trypsin_1GI2/prot_top/122_h.pdb']\n",
      "Succeed to save concat file:  1GI2_pdb2gmx_mol.pdb\n"
     ]
    }
   ],
   "source": [
    "#2020-07-25T09:06:13CEST (c) 2020 AWSdS\n",
    "\n",
    "md_sys = gmx.GmxSys(name=PDB_ID, coor_file=pdb_model_1)\n",
    "md_sys.prepare_top(out_folder=os.path.join(DATA_OUT, 'prot_top'),\n",
    "                   ff='amber99sb-ildn', include_mol={MOL_ID: CHARGE_MOL})"
   ]
  },
  {
   "cell_type": "code",
   "execution_count": 37,
   "metadata": {},
   "outputs": [],
   "source": [
    "import copy\n",
    "\n",
    "def extract_mol_sys(self, out_folder, res_name):\n",
    "    \n",
    "\n",
    "    # Extract coordinates:\n",
    "    print(self.coor_file[-3:])\n",
    "    if self.coor_file[-3:] != 'pdb':\n",
    "        print('Convert to gro file')\n",
    "        self.convert_trj(traj=False)\n",
    "    full_coor = pdb_manip.Coor(self.coor_file)\n",
    "    # Select coor:\n",
    "    mol_coor = full_coor.select_part_dict(selec_dict={'res_name': [res_name]})\n",
    "    print(mol_coor.num)\n",
    "    mol_coor.write_pdb(os.path.join(out_folder, res_name+'_only.pdb'))\n",
    "\n",
    "    # Extract topologie:\n",
    "    \n",
    "    # Get the system topologie:\n",
    "    sys_topologie = gmx.TopSys(self.top_file)\n",
    "    mol_top = copy.deepcopy(sys_topologie)\n",
    "    \n",
    "    itp_list = []\n",
    "    # Keep only res_name itp\n",
    "    for itp in mol_top.itp_list:\n",
    "        \n",
    "        print(itp.name)\n",
    "        to_keep = False\n",
    "        mol_num = 0\n",
    "        \n",
    "        for top_mol in itp.top_mol_list:\n",
    "            mol_num += 1\n",
    "            print('\\t'+top_mol.name)\n",
    "            if top_mol.name in [res_name, 'SOL']:\n",
    "                to_keep = True\n",
    "                break\n",
    "        if to_keep or mol_num == 0:\n",
    "            itp_list.append(itp)\n",
    "    \n",
    "    mol_top.itp_list = itp_list\n",
    "            \n",
    "    new_mol_comp = []\n",
    "    # Keep only res_name in mol composition\n",
    "    for mol in mol_top.mol_comp:\n",
    "        if mol['name'] == res_name:\n",
    "            new_mol_comp.append(mol)\n",
    "\n",
    "    mol_top.mol_comp = new_mol_comp\n",
    "            \n",
    "    mol_top.display()\n",
    "    mol_top.write_file(os.path.join(out_folder, res_name+'_only.top'))\n",
    "    \n",
    "    mol_sys = gmx.GmxSys(name=res_name,\n",
    "                         coor_file=os.path.join(out_folder, res_name+'_only.pdb'),\n",
    "                         top_file=os.path.join(out_folder, res_name+'_only.top'))\n",
    "    return mol_sys\n",
    "    \n",
    "gmx.GmxSys.extract_mol_sys = extract_mol_sys"
   ]
  },
  {
   "cell_type": "code",
   "execution_count": 9,
   "metadata": {},
   "outputs": [
    {
     "name": "stdout",
     "output_type": "stream",
     "text": [
      "Succeed to read file data_lig_trypsin_1GI2/prot_top/1GI2_pdb2gmx_mol.pdb ,  3253 atoms found\n",
      "Succeed to save file data_lig_trypsin_1GI2/mol_top/122_only.pdb\n",
      "Forcefield include :\n",
      " amber99sb-ildn\n",
      "-ITP file: 122_GMX_atomtypes\n",
      "-molecules defined in the itp file:\n",
      "-ITP file: tip3p\n",
      "-molecules defined in the itp file:\n",
      "* SOL\n",
      "-ITP file: 122_GMX\n",
      "-molecules defined in the itp file:\n",
      "* 122\n",
      "Mol List:\n",
      "   * 1 122\n",
      "Mol Name:\n",
      " Protein\n"
     ]
    }
   ],
   "source": [
    "test = md_sys.extract_mol_sys(out_folder=os.path.join(DATA_OUT, 'mol_top'), res_name=MOL_ID)"
   ]
  },
  {
   "cell_type": "code",
   "execution_count": 10,
   "metadata": {},
   "outputs": [
    {
     "name": "stdout",
     "output_type": "stream",
     "text": [
      "-Create pbc box\n",
      "gmx editconf -f data_lig_trypsin_1GI2/mol_top/122_only.pdb -o data_lig_trypsin_1GI2/mol_top/122_only_box.pdb -bt dodecahedron -d 1.0\n",
      "WARNING !!! ADDING unusual parameter : \"emtol\"in the mdp file None\n",
      "-Create the tpr file Init_em_122.tpr\n",
      "gmx grompp -f Init_em_122.mdp -c ../mol_top/122_only_box.pdb -r ../mol_top/122_only_box.pdb -p ../mol_top/122_only.top -po out_Init_em_122.mdp -o Init_em_122.tpr -maxwarn 3\n",
      "-Launch the simulation Init_em_122.tpr\n",
      "gmx mdrun -s Init_em_122.tpr -deffnm Init_em_122 -nt 0 -ntmpi 0 -nsteps -2 -nocopyright\n"
     ]
    },
    {
     "data": {
      "application/vnd.jupyter.widget-view+json": {
       "model_id": "6bab25aac8664f5e922dac2f74594547",
       "version_major": 2,
       "version_minor": 0
      },
      "text/plain": [
       "HBox(children=(FloatProgress(value=0.0, max=10000.0), HTML(value='')))"
      ]
     },
     "metadata": {},
     "output_type": "display_data"
    },
    {
     "name": "stdout",
     "output_type": "stream",
     "text": [
      "\n",
      "WARNING !!! ADDING unusual parameter : \"emtol\"in the mdp file Init_em_122.mdp\n",
      "-Create the tpr file 122.tpr\n",
      "gmx grompp -f 122.mdp -c Init_em_122.gro -r Init_em_122.gro -p ../mol_top/122_only.top -po out_122.mdp -o 122.tpr -maxwarn 3\n",
      "-Launch the simulation 122.tpr\n",
      "gmx mdrun -s 122.tpr -deffnm 122 -nt 0 -ntmpi 0 -nsteps -2 -nocopyright\n"
     ]
    },
    {
     "data": {
      "application/vnd.jupyter.widget-view+json": {
       "model_id": "0d897d8dd17642b6aa99302bab31672c",
       "version_major": 2,
       "version_minor": 0
      },
      "text/plain": [
       "HBox(children=(FloatProgress(value=0.0, max=10000.0), HTML(value='')))"
      ]
     },
     "metadata": {},
     "output_type": "display_data"
    },
    {
     "name": "stdout",
     "output_type": "stream",
     "text": [
      "\n"
     ]
    }
   ],
   "source": [
    "test.create_box(name=None, dist=1.0)\n",
    "\n",
    "test.em_2_steps(out_folder=os.path.join(DATA_OUT, 'mol_em'),\n",
    "                  no_constr_nsteps=10000,\n",
    "                  constr_nsteps=10000,\n",
    "                  posres=\"\",\n",
    "                  emtol=0.1, nstxout=100, maxwarn=3,\n",
    "                  create_box_flag=False)"
   ]
  },
  {
   "cell_type": "code",
   "execution_count": 11,
   "metadata": {},
   "outputs": [
    {
     "name": "stdout",
     "output_type": "stream",
     "text": [
      "-Solvate the pbc box\n",
      "Copy topologie file and dependancies\n"
     ]
    }
   ],
   "source": [
    "test.solvate_box(out_folder=os.path.join(DATA_OUT, 'mol_water_top'))"
   ]
  },
  {
   "cell_type": "code",
   "execution_count": 12,
   "metadata": {},
   "outputs": [
    {
     "name": "stdout",
     "output_type": "stream",
     "text": [
      "WARNING !!! ADDING unusual parameter : \"emtol\"in the mdp file ../mol_em/122.mdp\n",
      "-Create the tpr file Init_em_122.tpr\n",
      "gmx grompp -f Init_em_122.mdp -c ../mol_water_top/122_water.pdb -r ../mol_water_top/122_water.pdb -p ../mol_water_top/122_water.top -po out_Init_em_122.mdp -o Init_em_122.tpr -maxwarn 3\n",
      "-Launch the simulation Init_em_122.tpr\n",
      "gmx mdrun -s Init_em_122.tpr -deffnm Init_em_122 -nt 0 -ntmpi 0 -nsteps -2 -nocopyright\n"
     ]
    },
    {
     "data": {
      "application/vnd.jupyter.widget-view+json": {
       "model_id": "92a55eafa8494879a019b0412528f0d1",
       "version_major": 2,
       "version_minor": 0
      },
      "text/plain": [
       "HBox(children=(FloatProgress(value=0.0, max=10000.0), HTML(value='')))"
      ]
     },
     "metadata": {},
     "output_type": "display_data"
    },
    {
     "name": "stdout",
     "output_type": "stream",
     "text": [
      "\n",
      "WARNING !!! ADDING unusual parameter : \"emtol\"in the mdp file Init_em_122.mdp\n",
      "-Create the tpr file 122.tpr\n",
      "gmx grompp -f 122.mdp -c Init_em_122.gro -r Init_em_122.gro -p ../mol_water_top/122_water.top -po out_122.mdp -o 122.tpr -maxwarn 3\n",
      "-Launch the simulation 122.tpr\n",
      "gmx mdrun -s 122.tpr -deffnm 122 -nt 0 -ntmpi 0 -nsteps -2 -nocopyright\n"
     ]
    },
    {
     "data": {
      "application/vnd.jupyter.widget-view+json": {
       "model_id": "38671b09e1f74f36aa70e1a5d4dd6a53",
       "version_major": 2,
       "version_minor": 0
      },
      "text/plain": [
       "HBox(children=(FloatProgress(value=0.0, max=10000.0), HTML(value='')))"
      ]
     },
     "metadata": {},
     "output_type": "display_data"
    },
    {
     "name": "stdout",
     "output_type": "stream",
     "text": [
      "\n"
     ]
    }
   ],
   "source": [
    "test.em_2_steps(out_folder=os.path.join(DATA_OUT, 'mol_water_em'),\n",
    "                  no_constr_nsteps=10000,\n",
    "                  constr_nsteps=10000,\n",
    "                  posres=\"\",\n",
    "                  emtol=0.1, nstxout=100, maxwarn=3,\n",
    "                  create_box_flag=False)"
   ]
  },
  {
   "cell_type": "code",
   "execution_count": 13,
   "metadata": {},
   "outputs": [
    {
     "name": "stdout",
     "output_type": "stream",
     "text": [
      "-Create the tpr file prod_short_equi.tpr\n",
      "gmx grompp -f prod_short_equi.mdp -c ../mol_water_em/122.gro -r ../mol_water_em/122.gro -p ../mol_water_top/122_water.top -po out_prod_short_equi.mdp -o prod_short_equi.tpr -maxwarn 1\n",
      "-Launch the simulation prod_short_equi.tpr\n",
      "gmx mdrun -s prod_short_equi.tpr -deffnm prod_short_equi -nt 0 -ntmpi 0 -nsteps -2 -nocopyright\n"
     ]
    },
    {
     "data": {
      "application/vnd.jupyter.widget-view+json": {
       "model_id": "546cda881de04147a94309ed9e994897",
       "version_major": 2,
       "version_minor": 0
      },
      "text/plain": [
       "HBox(children=(FloatProgress(value=0.0, max=10000.0), HTML(value='')))"
      ]
     },
     "metadata": {},
     "output_type": "display_data"
    },
    {
     "name": "stdout",
     "output_type": "stream",
     "text": [
      "\n"
     ]
    }
   ],
   "source": [
    "mdp_options = {'tc-grps': 'System',\n",
    "               'tau_t': '0.1',\n",
    "               'ref_t' : '310',\n",
    "               }\n",
    "\n",
    "test.production(out_folder=os.path.join(DATA_OUT, 'mol_water_prod'),\n",
    "                name='short_equi',\n",
    "                nsteps=10000, dt=0.0005,\n",
    "                maxwarn=1, **mdp_options)"
   ]
  },
  {
   "cell_type": "code",
   "execution_count": 14,
   "metadata": {
    "scrolled": false
   },
   "outputs": [
    {
     "name": "stdout",
     "output_type": "stream",
     "text": [
      "-Create the tpr file prod_122.tpr\n",
      "gmx grompp -f prod_122.mdp -c prod_short_equi.gro -r prod_short_equi.gro -p ../mol_water_top/122_water.top -po out_prod_122.mdp -o prod_122.tpr -maxwarn 1\n",
      "-Launch the simulation prod_122.tpr\n",
      "gmx mdrun -s prod_122.tpr -deffnm prod_122 -nt 0 -ntmpi 0 -nsteps -2 -nocopyright\n"
     ]
    },
    {
     "data": {
      "application/vnd.jupyter.widget-view+json": {
       "model_id": "5a2f22d9d04a45fe9819ab8429c95ab3",
       "version_major": 2,
       "version_minor": 0
      },
      "text/plain": [
       "HBox(children=(FloatProgress(value=0.0, max=1000000.0), HTML(value='')))"
      ]
     },
     "metadata": {},
     "output_type": "display_data"
    },
    {
     "name": "stdout",
     "output_type": "stream",
     "text": [
      "\n"
     ]
    }
   ],
   "source": [
    "test.production(out_folder=os.path.join(DATA_OUT, 'mol_water_prod'),\n",
    "                  nsteps=1000000,\n",
    "                  dt=0.002,maxwarn=1, **mdp_options)"
   ]
  },
  {
   "cell_type": "markdown",
   "metadata": {},
   "source": [
    "## Free energy calculation of solvation"
   ]
  },
  {
   "cell_type": "code",
   "execution_count": 15,
   "metadata": {},
   "outputs": [
    {
     "name": "stdout",
     "output_type": "stream",
     "text": [
      "Coulomb lambda :0.00 0.20 0.40 0.60 0.80 1.00 1.00 1.00 1.00 1.00 1.00 1.00 1.00 1.00 1.00 1.00 \n",
      "Vdw lambda     :0.00 0.00 0.00 0.00 0.00 0.00 0.10 0.20 0.30 0.40 0.50 0.60 0.70 0.80 0.90 1.00 \n",
      "bond_lambdas   :1.00 1.00 1.00 1.00 1.00 1.00 1.00 1.00 1.00 1.00 1.00 1.00 1.00 1.00 1.00 1.00 \n"
     ]
    },
    {
     "data": {
      "application/vnd.jupyter.widget-view+json": {
       "model_id": "ab90e68a9bbe41e7a2a62b339709d208",
       "version_major": 2,
       "version_minor": 0
      },
      "text/plain": [
       "HBox(children=(FloatProgress(value=0.0, max=560000.0), HTML(value='')))"
      ]
     },
     "metadata": {},
     "output_type": "display_data"
    },
    {
     "name": "stdout",
     "output_type": "stream",
     "text": [
      "-Create the tpr file em_122_vdwq_00.tpr\n",
      "gmx grompp -f em_122_vdwq_00.mdp -c ../../mol_water_prod/prod_122.gro -r ../../mol_water_prod/prod_122.gro -p ../../mol_water_top/122_water.top -po out_em_122_vdwq_00.mdp -o em_122_vdwq_00.tpr -maxwarn 1\n",
      "-Launch the simulation em_122_vdwq_00.tpr\n",
      "gmx mdrun -s em_122_vdwq_00.tpr -deffnm em_122_vdwq_00 -nt 0 -ntmpi 0 -nsteps -2 -nocopyright\n"
     ]
    },
    {
     "data": {
      "application/vnd.jupyter.widget-view+json": {
       "model_id": "a0001e19608b47c9b1216d3d5cac99ca",
       "version_major": 2,
       "version_minor": 0
      },
      "text/plain": [
       "HBox(children=(FloatProgress(value=0.0, max=5000.0), HTML(value='')))"
      ]
     },
     "metadata": {},
     "output_type": "display_data"
    },
    {
     "name": "stdout",
     "output_type": "stream",
     "text": [
      "\n",
      "-Create the tpr file nvt_122_vdwq_00.tpr\n",
      "gmx grompp -f nvt_122_vdwq_00.mdp -c ../00_em/em_122_vdwq_00.gro -r ../00_em/em_122_vdwq_00.gro -p ../../mol_water_top/122_water.top -po out_nvt_122_vdwq_00.mdp -o nvt_122_vdwq_00.tpr -maxwarn 1\n",
      "-Launch the simulation nvt_122_vdwq_00.tpr\n",
      "gmx mdrun -s nvt_122_vdwq_00.tpr -deffnm nvt_122_vdwq_00 -nt 0 -ntmpi 0 -nsteps -2 -nocopyright\n"
     ]
    },
    {
     "data": {
      "application/vnd.jupyter.widget-view+json": {
       "model_id": "c0641e49c5d44be99171157faa2011c3",
       "version_major": 2,
       "version_minor": 0
      },
      "text/plain": [
       "HBox(children=(FloatProgress(value=0.0, max=2500.0), HTML(value='')))"
      ]
     },
     "metadata": {},
     "output_type": "display_data"
    },
    {
     "name": "stdout",
     "output_type": "stream",
     "text": [
      "\n",
      "-Create the tpr file npt_122_vdwq_00.tpr\n",
      "gmx grompp -f npt_122_vdwq_00.mdp -c ../01_equi_nvt/nvt_122_vdwq_00.gro -r ../01_equi_nvt/nvt_122_vdwq_00.gro -p ../../mol_water_top/122_water.top -po out_npt_122_vdwq_00.mdp -o npt_122_vdwq_00.tpr -maxwarn 1\n",
      "-Launch the simulation npt_122_vdwq_00.tpr\n",
      "gmx mdrun -s npt_122_vdwq_00.tpr -deffnm npt_122_vdwq_00 -nt 0 -ntmpi 0 -nsteps -2 -nocopyright\n"
     ]
    },
    {
     "data": {
      "application/vnd.jupyter.widget-view+json": {
       "model_id": "eb59ea570dc84490b6be1950e6592798",
       "version_major": 2,
       "version_minor": 0
      },
      "text/plain": [
       "HBox(children=(FloatProgress(value=0.0, max=2500.0), HTML(value='')))"
      ]
     },
     "metadata": {},
     "output_type": "display_data"
    },
    {
     "name": "stdout",
     "output_type": "stream",
     "text": [
      "\n",
      "-Create the tpr file prod_122_vdwq_00.tpr\n",
      "gmx grompp -f prod_122_vdwq_00.mdp -c ../02_equi_npt/npt_122_vdwq_00.gro -r ../02_equi_npt/npt_122_vdwq_00.gro -p ../../mol_water_top/122_water.top -po out_prod_122_vdwq_00.mdp -o prod_122_vdwq_00.tpr -maxwarn 1\n",
      "-Launch the simulation prod_122_vdwq_00.tpr\n",
      "gmx mdrun -s prod_122_vdwq_00.tpr -deffnm prod_122_vdwq_00 -nt 0 -ntmpi 0 -nsteps -2 -nocopyright\n"
     ]
    },
    {
     "data": {
      "application/vnd.jupyter.widget-view+json": {
       "model_id": "6a02d151c87447cfa05cbc62e1021d25",
       "version_major": 2,
       "version_minor": 0
      },
      "text/plain": [
       "HBox(children=(FloatProgress(value=0.0, max=25000.0), HTML(value='')))"
      ]
     },
     "metadata": {},
     "output_type": "display_data"
    },
    {
     "name": "stdout",
     "output_type": "stream",
     "text": [
      "\n",
      "-Create the tpr file em_122_vdwq_01.tpr\n",
      "gmx grompp -f em_122_vdwq_01.mdp -c ../../mol_water_prod/prod_122.gro -r ../../mol_water_prod/prod_122.gro -p ../../mol_water_top/122_water.top -po out_em_122_vdwq_01.mdp -o em_122_vdwq_01.tpr -maxwarn 1\n",
      "-Launch the simulation em_122_vdwq_01.tpr\n",
      "gmx mdrun -s em_122_vdwq_01.tpr -deffnm em_122_vdwq_01 -nt 0 -ntmpi 0 -nsteps -2 -nocopyright\n"
     ]
    },
    {
     "data": {
      "application/vnd.jupyter.widget-view+json": {
       "model_id": "47e4d1ea6a864a7f95af1b5ef40f60ac",
       "version_major": 2,
       "version_minor": 0
      },
      "text/plain": [
       "HBox(children=(FloatProgress(value=0.0, max=5000.0), HTML(value='')))"
      ]
     },
     "metadata": {},
     "output_type": "display_data"
    },
    {
     "name": "stdout",
     "output_type": "stream",
     "text": [
      "\n",
      "-Create the tpr file nvt_122_vdwq_01.tpr\n",
      "gmx grompp -f nvt_122_vdwq_01.mdp -c ../00_em/em_122_vdwq_01.gro -r ../00_em/em_122_vdwq_01.gro -p ../../mol_water_top/122_water.top -po out_nvt_122_vdwq_01.mdp -o nvt_122_vdwq_01.tpr -maxwarn 1\n",
      "-Launch the simulation nvt_122_vdwq_01.tpr\n",
      "gmx mdrun -s nvt_122_vdwq_01.tpr -deffnm nvt_122_vdwq_01 -nt 0 -ntmpi 0 -nsteps -2 -nocopyright\n"
     ]
    },
    {
     "data": {
      "application/vnd.jupyter.widget-view+json": {
       "model_id": "f7f6054205d042abaaa3973ec562fa4c",
       "version_major": 2,
       "version_minor": 0
      },
      "text/plain": [
       "HBox(children=(FloatProgress(value=0.0, max=2500.0), HTML(value='')))"
      ]
     },
     "metadata": {},
     "output_type": "display_data"
    },
    {
     "name": "stdout",
     "output_type": "stream",
     "text": [
      "\n",
      "-Create the tpr file npt_122_vdwq_01.tpr\n",
      "gmx grompp -f npt_122_vdwq_01.mdp -c ../01_equi_nvt/nvt_122_vdwq_01.gro -r ../01_equi_nvt/nvt_122_vdwq_01.gro -p ../../mol_water_top/122_water.top -po out_npt_122_vdwq_01.mdp -o npt_122_vdwq_01.tpr -maxwarn 1\n",
      "-Launch the simulation npt_122_vdwq_01.tpr\n",
      "gmx mdrun -s npt_122_vdwq_01.tpr -deffnm npt_122_vdwq_01 -nt 0 -ntmpi 0 -nsteps -2 -nocopyright\n"
     ]
    },
    {
     "data": {
      "application/vnd.jupyter.widget-view+json": {
       "model_id": "fef5e6b45dcb448c8c21ce1d55d2b339",
       "version_major": 2,
       "version_minor": 0
      },
      "text/plain": [
       "HBox(children=(FloatProgress(value=0.0, max=2500.0), HTML(value='')))"
      ]
     },
     "metadata": {},
     "output_type": "display_data"
    },
    {
     "name": "stdout",
     "output_type": "stream",
     "text": [
      "\n",
      "-Create the tpr file prod_122_vdwq_01.tpr\n",
      "gmx grompp -f prod_122_vdwq_01.mdp -c ../02_equi_npt/npt_122_vdwq_01.gro -r ../02_equi_npt/npt_122_vdwq_01.gro -p ../../mol_water_top/122_water.top -po out_prod_122_vdwq_01.mdp -o prod_122_vdwq_01.tpr -maxwarn 1\n",
      "-Launch the simulation prod_122_vdwq_01.tpr\n",
      "gmx mdrun -s prod_122_vdwq_01.tpr -deffnm prod_122_vdwq_01 -nt 0 -ntmpi 0 -nsteps -2 -nocopyright\n"
     ]
    },
    {
     "data": {
      "application/vnd.jupyter.widget-view+json": {
       "model_id": "7101a1f04fde455e9b352d2e29128d09",
       "version_major": 2,
       "version_minor": 0
      },
      "text/plain": [
       "HBox(children=(FloatProgress(value=0.0, max=25000.0), HTML(value='')))"
      ]
     },
     "metadata": {},
     "output_type": "display_data"
    },
    {
     "name": "stdout",
     "output_type": "stream",
     "text": [
      "\n",
      "-Create the tpr file em_122_vdwq_02.tpr\n",
      "gmx grompp -f em_122_vdwq_02.mdp -c ../../mol_water_prod/prod_122.gro -r ../../mol_water_prod/prod_122.gro -p ../../mol_water_top/122_water.top -po out_em_122_vdwq_02.mdp -o em_122_vdwq_02.tpr -maxwarn 1\n",
      "-Launch the simulation em_122_vdwq_02.tpr\n",
      "gmx mdrun -s em_122_vdwq_02.tpr -deffnm em_122_vdwq_02 -nt 0 -ntmpi 0 -nsteps -2 -nocopyright\n"
     ]
    },
    {
     "data": {
      "application/vnd.jupyter.widget-view+json": {
       "model_id": "5310f270b7394e5aba27e6713dc5f564",
       "version_major": 2,
       "version_minor": 0
      },
      "text/plain": [
       "HBox(children=(FloatProgress(value=0.0, max=5000.0), HTML(value='')))"
      ]
     },
     "metadata": {},
     "output_type": "display_data"
    },
    {
     "name": "stdout",
     "output_type": "stream",
     "text": [
      "\n",
      "-Create the tpr file nvt_122_vdwq_02.tpr\n",
      "gmx grompp -f nvt_122_vdwq_02.mdp -c ../00_em/em_122_vdwq_02.gro -r ../00_em/em_122_vdwq_02.gro -p ../../mol_water_top/122_water.top -po out_nvt_122_vdwq_02.mdp -o nvt_122_vdwq_02.tpr -maxwarn 1\n",
      "-Launch the simulation nvt_122_vdwq_02.tpr\n",
      "gmx mdrun -s nvt_122_vdwq_02.tpr -deffnm nvt_122_vdwq_02 -nt 0 -ntmpi 0 -nsteps -2 -nocopyright\n"
     ]
    },
    {
     "data": {
      "application/vnd.jupyter.widget-view+json": {
       "model_id": "12c549f74ca6472ea9f33d2e106e4165",
       "version_major": 2,
       "version_minor": 0
      },
      "text/plain": [
       "HBox(children=(FloatProgress(value=0.0, max=2500.0), HTML(value='')))"
      ]
     },
     "metadata": {},
     "output_type": "display_data"
    },
    {
     "name": "stdout",
     "output_type": "stream",
     "text": [
      "\n",
      "-Create the tpr file npt_122_vdwq_02.tpr\n",
      "gmx grompp -f npt_122_vdwq_02.mdp -c ../01_equi_nvt/nvt_122_vdwq_02.gro -r ../01_equi_nvt/nvt_122_vdwq_02.gro -p ../../mol_water_top/122_water.top -po out_npt_122_vdwq_02.mdp -o npt_122_vdwq_02.tpr -maxwarn 1\n",
      "-Launch the simulation npt_122_vdwq_02.tpr\n",
      "gmx mdrun -s npt_122_vdwq_02.tpr -deffnm npt_122_vdwq_02 -nt 0 -ntmpi 0 -nsteps -2 -nocopyright\n"
     ]
    },
    {
     "data": {
      "application/vnd.jupyter.widget-view+json": {
       "model_id": "c2f97c54d32a4cce8f6d7ebd7c9b1e82",
       "version_major": 2,
       "version_minor": 0
      },
      "text/plain": [
       "HBox(children=(FloatProgress(value=0.0, max=2500.0), HTML(value='')))"
      ]
     },
     "metadata": {},
     "output_type": "display_data"
    },
    {
     "name": "stdout",
     "output_type": "stream",
     "text": [
      "\n",
      "-Create the tpr file prod_122_vdwq_02.tpr\n",
      "gmx grompp -f prod_122_vdwq_02.mdp -c ../02_equi_npt/npt_122_vdwq_02.gro -r ../02_equi_npt/npt_122_vdwq_02.gro -p ../../mol_water_top/122_water.top -po out_prod_122_vdwq_02.mdp -o prod_122_vdwq_02.tpr -maxwarn 1\n",
      "-Launch the simulation prod_122_vdwq_02.tpr\n",
      "gmx mdrun -s prod_122_vdwq_02.tpr -deffnm prod_122_vdwq_02 -nt 0 -ntmpi 0 -nsteps -2 -nocopyright\n"
     ]
    },
    {
     "data": {
      "application/vnd.jupyter.widget-view+json": {
       "model_id": "4d35f34c5de14737b71229771ba7d6ba",
       "version_major": 2,
       "version_minor": 0
      },
      "text/plain": [
       "HBox(children=(FloatProgress(value=0.0, max=25000.0), HTML(value='')))"
      ]
     },
     "metadata": {},
     "output_type": "display_data"
    },
    {
     "name": "stdout",
     "output_type": "stream",
     "text": [
      "\n",
      "-Create the tpr file em_122_vdwq_03.tpr\n",
      "gmx grompp -f em_122_vdwq_03.mdp -c ../../mol_water_prod/prod_122.gro -r ../../mol_water_prod/prod_122.gro -p ../../mol_water_top/122_water.top -po out_em_122_vdwq_03.mdp -o em_122_vdwq_03.tpr -maxwarn 1\n",
      "-Launch the simulation em_122_vdwq_03.tpr\n",
      "gmx mdrun -s em_122_vdwq_03.tpr -deffnm em_122_vdwq_03 -nt 0 -ntmpi 0 -nsteps -2 -nocopyright\n"
     ]
    },
    {
     "data": {
      "application/vnd.jupyter.widget-view+json": {
       "model_id": "b3b6f505cb554c868056d1e45bd50b9f",
       "version_major": 2,
       "version_minor": 0
      },
      "text/plain": [
       "HBox(children=(FloatProgress(value=0.0, max=5000.0), HTML(value='')))"
      ]
     },
     "metadata": {},
     "output_type": "display_data"
    },
    {
     "name": "stdout",
     "output_type": "stream",
     "text": [
      "\n",
      "-Create the tpr file nvt_122_vdwq_03.tpr\n",
      "gmx grompp -f nvt_122_vdwq_03.mdp -c ../00_em/em_122_vdwq_03.gro -r ../00_em/em_122_vdwq_03.gro -p ../../mol_water_top/122_water.top -po out_nvt_122_vdwq_03.mdp -o nvt_122_vdwq_03.tpr -maxwarn 1\n",
      "-Launch the simulation nvt_122_vdwq_03.tpr\n",
      "gmx mdrun -s nvt_122_vdwq_03.tpr -deffnm nvt_122_vdwq_03 -nt 0 -ntmpi 0 -nsteps -2 -nocopyright\n"
     ]
    },
    {
     "data": {
      "application/vnd.jupyter.widget-view+json": {
       "model_id": "9f984b01e00d41aa8f0d14877a50c56d",
       "version_major": 2,
       "version_minor": 0
      },
      "text/plain": [
       "HBox(children=(FloatProgress(value=0.0, max=2500.0), HTML(value='')))"
      ]
     },
     "metadata": {},
     "output_type": "display_data"
    },
    {
     "name": "stdout",
     "output_type": "stream",
     "text": [
      "\n",
      "-Create the tpr file npt_122_vdwq_03.tpr\n",
      "gmx grompp -f npt_122_vdwq_03.mdp -c ../01_equi_nvt/nvt_122_vdwq_03.gro -r ../01_equi_nvt/nvt_122_vdwq_03.gro -p ../../mol_water_top/122_water.top -po out_npt_122_vdwq_03.mdp -o npt_122_vdwq_03.tpr -maxwarn 1\n",
      "-Launch the simulation npt_122_vdwq_03.tpr\n",
      "gmx mdrun -s npt_122_vdwq_03.tpr -deffnm npt_122_vdwq_03 -nt 0 -ntmpi 0 -nsteps -2 -nocopyright\n"
     ]
    },
    {
     "data": {
      "application/vnd.jupyter.widget-view+json": {
       "model_id": "b24200400438462a9c6e859b6eef8342",
       "version_major": 2,
       "version_minor": 0
      },
      "text/plain": [
       "HBox(children=(FloatProgress(value=0.0, max=2500.0), HTML(value='')))"
      ]
     },
     "metadata": {},
     "output_type": "display_data"
    },
    {
     "name": "stdout",
     "output_type": "stream",
     "text": [
      "\n",
      "-Create the tpr file prod_122_vdwq_03.tpr\n",
      "gmx grompp -f prod_122_vdwq_03.mdp -c ../02_equi_npt/npt_122_vdwq_03.gro -r ../02_equi_npt/npt_122_vdwq_03.gro -p ../../mol_water_top/122_water.top -po out_prod_122_vdwq_03.mdp -o prod_122_vdwq_03.tpr -maxwarn 1\n",
      "-Launch the simulation prod_122_vdwq_03.tpr\n",
      "gmx mdrun -s prod_122_vdwq_03.tpr -deffnm prod_122_vdwq_03 -nt 0 -ntmpi 0 -nsteps -2 -nocopyright\n"
     ]
    },
    {
     "data": {
      "application/vnd.jupyter.widget-view+json": {
       "model_id": "ecfe71b106e84de2a8306773b106fbbb",
       "version_major": 2,
       "version_minor": 0
      },
      "text/plain": [
       "HBox(children=(FloatProgress(value=0.0, max=25000.0), HTML(value='')))"
      ]
     },
     "metadata": {},
     "output_type": "display_data"
    },
    {
     "name": "stdout",
     "output_type": "stream",
     "text": [
      "\n",
      "-Create the tpr file em_122_vdwq_04.tpr\n",
      "gmx grompp -f em_122_vdwq_04.mdp -c ../../mol_water_prod/prod_122.gro -r ../../mol_water_prod/prod_122.gro -p ../../mol_water_top/122_water.top -po out_em_122_vdwq_04.mdp -o em_122_vdwq_04.tpr -maxwarn 1\n",
      "-Launch the simulation em_122_vdwq_04.tpr\n",
      "gmx mdrun -s em_122_vdwq_04.tpr -deffnm em_122_vdwq_04 -nt 0 -ntmpi 0 -nsteps -2 -nocopyright\n"
     ]
    },
    {
     "data": {
      "application/vnd.jupyter.widget-view+json": {
       "model_id": "0706f3de5ba541c4921a909922881bca",
       "version_major": 2,
       "version_minor": 0
      },
      "text/plain": [
       "HBox(children=(FloatProgress(value=0.0, max=5000.0), HTML(value='')))"
      ]
     },
     "metadata": {},
     "output_type": "display_data"
    },
    {
     "name": "stdout",
     "output_type": "stream",
     "text": [
      "\n",
      "-Create the tpr file nvt_122_vdwq_04.tpr\n",
      "gmx grompp -f nvt_122_vdwq_04.mdp -c ../00_em/em_122_vdwq_04.gro -r ../00_em/em_122_vdwq_04.gro -p ../../mol_water_top/122_water.top -po out_nvt_122_vdwq_04.mdp -o nvt_122_vdwq_04.tpr -maxwarn 1\n",
      "-Launch the simulation nvt_122_vdwq_04.tpr\n",
      "gmx mdrun -s nvt_122_vdwq_04.tpr -deffnm nvt_122_vdwq_04 -nt 0 -ntmpi 0 -nsteps -2 -nocopyright\n"
     ]
    },
    {
     "data": {
      "application/vnd.jupyter.widget-view+json": {
       "model_id": "7534a7b00b15442da28535cfc819aafe",
       "version_major": 2,
       "version_minor": 0
      },
      "text/plain": [
       "HBox(children=(FloatProgress(value=0.0, max=2500.0), HTML(value='')))"
      ]
     },
     "metadata": {},
     "output_type": "display_data"
    },
    {
     "name": "stdout",
     "output_type": "stream",
     "text": [
      "\n",
      "-Create the tpr file npt_122_vdwq_04.tpr\n",
      "gmx grompp -f npt_122_vdwq_04.mdp -c ../01_equi_nvt/nvt_122_vdwq_04.gro -r ../01_equi_nvt/nvt_122_vdwq_04.gro -p ../../mol_water_top/122_water.top -po out_npt_122_vdwq_04.mdp -o npt_122_vdwq_04.tpr -maxwarn 1\n",
      "-Launch the simulation npt_122_vdwq_04.tpr\n",
      "gmx mdrun -s npt_122_vdwq_04.tpr -deffnm npt_122_vdwq_04 -nt 0 -ntmpi 0 -nsteps -2 -nocopyright\n"
     ]
    },
    {
     "data": {
      "application/vnd.jupyter.widget-view+json": {
       "model_id": "f9d190bec66a465b956e60427a0d2bba",
       "version_major": 2,
       "version_minor": 0
      },
      "text/plain": [
       "HBox(children=(FloatProgress(value=0.0, max=2500.0), HTML(value='')))"
      ]
     },
     "metadata": {},
     "output_type": "display_data"
    },
    {
     "name": "stdout",
     "output_type": "stream",
     "text": [
      "\n",
      "-Create the tpr file prod_122_vdwq_04.tpr\n",
      "gmx grompp -f prod_122_vdwq_04.mdp -c ../02_equi_npt/npt_122_vdwq_04.gro -r ../02_equi_npt/npt_122_vdwq_04.gro -p ../../mol_water_top/122_water.top -po out_prod_122_vdwq_04.mdp -o prod_122_vdwq_04.tpr -maxwarn 1\n",
      "-Launch the simulation prod_122_vdwq_04.tpr\n",
      "gmx mdrun -s prod_122_vdwq_04.tpr -deffnm prod_122_vdwq_04 -nt 0 -ntmpi 0 -nsteps -2 -nocopyright\n"
     ]
    },
    {
     "data": {
      "application/vnd.jupyter.widget-view+json": {
       "model_id": "3169a53f10664659b24abbcf5320cd3f",
       "version_major": 2,
       "version_minor": 0
      },
      "text/plain": [
       "HBox(children=(FloatProgress(value=0.0, max=25000.0), HTML(value='')))"
      ]
     },
     "metadata": {},
     "output_type": "display_data"
    },
    {
     "name": "stdout",
     "output_type": "stream",
     "text": [
      "\n",
      "-Create the tpr file em_122_vdwq_05.tpr\n",
      "gmx grompp -f em_122_vdwq_05.mdp -c ../../mol_water_prod/prod_122.gro -r ../../mol_water_prod/prod_122.gro -p ../../mol_water_top/122_water.top -po out_em_122_vdwq_05.mdp -o em_122_vdwq_05.tpr -maxwarn 1\n",
      "-Launch the simulation em_122_vdwq_05.tpr\n",
      "gmx mdrun -s em_122_vdwq_05.tpr -deffnm em_122_vdwq_05 -nt 0 -ntmpi 0 -nsteps -2 -nocopyright\n"
     ]
    },
    {
     "data": {
      "application/vnd.jupyter.widget-view+json": {
       "model_id": "0d3faf55052b4c3d88458c5358e10c6b",
       "version_major": 2,
       "version_minor": 0
      },
      "text/plain": [
       "HBox(children=(FloatProgress(value=0.0, max=5000.0), HTML(value='')))"
      ]
     },
     "metadata": {},
     "output_type": "display_data"
    },
    {
     "name": "stdout",
     "output_type": "stream",
     "text": [
      "\n",
      "-Create the tpr file nvt_122_vdwq_05.tpr\n",
      "gmx grompp -f nvt_122_vdwq_05.mdp -c ../00_em/em_122_vdwq_05.gro -r ../00_em/em_122_vdwq_05.gro -p ../../mol_water_top/122_water.top -po out_nvt_122_vdwq_05.mdp -o nvt_122_vdwq_05.tpr -maxwarn 1\n",
      "-Launch the simulation nvt_122_vdwq_05.tpr\n",
      "gmx mdrun -s nvt_122_vdwq_05.tpr -deffnm nvt_122_vdwq_05 -nt 0 -ntmpi 0 -nsteps -2 -nocopyright\n"
     ]
    },
    {
     "data": {
      "application/vnd.jupyter.widget-view+json": {
       "model_id": "072c9ebd730f444aae7e4fe2a62f23af",
       "version_major": 2,
       "version_minor": 0
      },
      "text/plain": [
       "HBox(children=(FloatProgress(value=0.0, max=2500.0), HTML(value='')))"
      ]
     },
     "metadata": {},
     "output_type": "display_data"
    },
    {
     "name": "stdout",
     "output_type": "stream",
     "text": [
      "\n",
      "-Create the tpr file npt_122_vdwq_05.tpr\n",
      "gmx grompp -f npt_122_vdwq_05.mdp -c ../01_equi_nvt/nvt_122_vdwq_05.gro -r ../01_equi_nvt/nvt_122_vdwq_05.gro -p ../../mol_water_top/122_water.top -po out_npt_122_vdwq_05.mdp -o npt_122_vdwq_05.tpr -maxwarn 1\n",
      "-Launch the simulation npt_122_vdwq_05.tpr\n",
      "gmx mdrun -s npt_122_vdwq_05.tpr -deffnm npt_122_vdwq_05 -nt 0 -ntmpi 0 -nsteps -2 -nocopyright\n"
     ]
    },
    {
     "data": {
      "application/vnd.jupyter.widget-view+json": {
       "model_id": "e3e026d9479a4d539e026d35c31dd7c5",
       "version_major": 2,
       "version_minor": 0
      },
      "text/plain": [
       "HBox(children=(FloatProgress(value=0.0, max=2500.0), HTML(value='')))"
      ]
     },
     "metadata": {},
     "output_type": "display_data"
    },
    {
     "name": "stdout",
     "output_type": "stream",
     "text": [
      "\n",
      "-Create the tpr file prod_122_vdwq_05.tpr\n",
      "gmx grompp -f prod_122_vdwq_05.mdp -c ../02_equi_npt/npt_122_vdwq_05.gro -r ../02_equi_npt/npt_122_vdwq_05.gro -p ../../mol_water_top/122_water.top -po out_prod_122_vdwq_05.mdp -o prod_122_vdwq_05.tpr -maxwarn 1\n",
      "-Launch the simulation prod_122_vdwq_05.tpr\n",
      "gmx mdrun -s prod_122_vdwq_05.tpr -deffnm prod_122_vdwq_05 -nt 0 -ntmpi 0 -nsteps -2 -nocopyright\n"
     ]
    },
    {
     "data": {
      "application/vnd.jupyter.widget-view+json": {
       "model_id": "17b0c7e6ed5a4d38ba9b742ed17153f4",
       "version_major": 2,
       "version_minor": 0
      },
      "text/plain": [
       "HBox(children=(FloatProgress(value=0.0, max=25000.0), HTML(value='')))"
      ]
     },
     "metadata": {},
     "output_type": "display_data"
    },
    {
     "name": "stdout",
     "output_type": "stream",
     "text": [
      "\n",
      "-Create the tpr file em_122_vdwq_06.tpr\n",
      "gmx grompp -f em_122_vdwq_06.mdp -c ../../mol_water_prod/prod_122.gro -r ../../mol_water_prod/prod_122.gro -p ../../mol_water_top/122_water.top -po out_em_122_vdwq_06.mdp -o em_122_vdwq_06.tpr -maxwarn 1\n",
      "-Launch the simulation em_122_vdwq_06.tpr\n",
      "gmx mdrun -s em_122_vdwq_06.tpr -deffnm em_122_vdwq_06 -nt 0 -ntmpi 0 -nsteps -2 -nocopyright\n"
     ]
    },
    {
     "data": {
      "application/vnd.jupyter.widget-view+json": {
       "model_id": "d43d916e4780411382ed823a2ebedd4b",
       "version_major": 2,
       "version_minor": 0
      },
      "text/plain": [
       "HBox(children=(FloatProgress(value=0.0, max=5000.0), HTML(value='')))"
      ]
     },
     "metadata": {},
     "output_type": "display_data"
    },
    {
     "name": "stdout",
     "output_type": "stream",
     "text": [
      "\n",
      "-Create the tpr file nvt_122_vdwq_06.tpr\n",
      "gmx grompp -f nvt_122_vdwq_06.mdp -c ../00_em/em_122_vdwq_06.gro -r ../00_em/em_122_vdwq_06.gro -p ../../mol_water_top/122_water.top -po out_nvt_122_vdwq_06.mdp -o nvt_122_vdwq_06.tpr -maxwarn 1\n",
      "-Launch the simulation nvt_122_vdwq_06.tpr\n",
      "gmx mdrun -s nvt_122_vdwq_06.tpr -deffnm nvt_122_vdwq_06 -nt 0 -ntmpi 0 -nsteps -2 -nocopyright\n"
     ]
    },
    {
     "data": {
      "application/vnd.jupyter.widget-view+json": {
       "model_id": "812f8f0e876745b897afdf89c7cf2618",
       "version_major": 2,
       "version_minor": 0
      },
      "text/plain": [
       "HBox(children=(FloatProgress(value=0.0, max=2500.0), HTML(value='')))"
      ]
     },
     "metadata": {},
     "output_type": "display_data"
    },
    {
     "name": "stdout",
     "output_type": "stream",
     "text": [
      "\n",
      "-Create the tpr file npt_122_vdwq_06.tpr\n",
      "gmx grompp -f npt_122_vdwq_06.mdp -c ../01_equi_nvt/nvt_122_vdwq_06.gro -r ../01_equi_nvt/nvt_122_vdwq_06.gro -p ../../mol_water_top/122_water.top -po out_npt_122_vdwq_06.mdp -o npt_122_vdwq_06.tpr -maxwarn 1\n",
      "-Launch the simulation npt_122_vdwq_06.tpr\n",
      "gmx mdrun -s npt_122_vdwq_06.tpr -deffnm npt_122_vdwq_06 -nt 0 -ntmpi 0 -nsteps -2 -nocopyright\n"
     ]
    },
    {
     "data": {
      "application/vnd.jupyter.widget-view+json": {
       "model_id": "83e2d43f8bb644d797cb8e0c79afd55e",
       "version_major": 2,
       "version_minor": 0
      },
      "text/plain": [
       "HBox(children=(FloatProgress(value=0.0, max=2500.0), HTML(value='')))"
      ]
     },
     "metadata": {},
     "output_type": "display_data"
    },
    {
     "name": "stdout",
     "output_type": "stream",
     "text": [
      "\n",
      "-Create the tpr file prod_122_vdwq_06.tpr\n",
      "gmx grompp -f prod_122_vdwq_06.mdp -c ../02_equi_npt/npt_122_vdwq_06.gro -r ../02_equi_npt/npt_122_vdwq_06.gro -p ../../mol_water_top/122_water.top -po out_prod_122_vdwq_06.mdp -o prod_122_vdwq_06.tpr -maxwarn 1\n",
      "-Launch the simulation prod_122_vdwq_06.tpr\n",
      "gmx mdrun -s prod_122_vdwq_06.tpr -deffnm prod_122_vdwq_06 -nt 0 -ntmpi 0 -nsteps -2 -nocopyright\n"
     ]
    },
    {
     "data": {
      "application/vnd.jupyter.widget-view+json": {
       "model_id": "ffa50199a5d94b5383e4eeb7af7c3c89",
       "version_major": 2,
       "version_minor": 0
      },
      "text/plain": [
       "HBox(children=(FloatProgress(value=0.0, max=25000.0), HTML(value='')))"
      ]
     },
     "metadata": {},
     "output_type": "display_data"
    },
    {
     "name": "stdout",
     "output_type": "stream",
     "text": [
      "\n",
      "-Create the tpr file em_122_vdwq_07.tpr\n",
      "gmx grompp -f em_122_vdwq_07.mdp -c ../../mol_water_prod/prod_122.gro -r ../../mol_water_prod/prod_122.gro -p ../../mol_water_top/122_water.top -po out_em_122_vdwq_07.mdp -o em_122_vdwq_07.tpr -maxwarn 1\n",
      "-Launch the simulation em_122_vdwq_07.tpr\n",
      "gmx mdrun -s em_122_vdwq_07.tpr -deffnm em_122_vdwq_07 -nt 0 -ntmpi 0 -nsteps -2 -nocopyright\n"
     ]
    },
    {
     "data": {
      "application/vnd.jupyter.widget-view+json": {
       "model_id": "b4f4a52989704a789f65d1e702903851",
       "version_major": 2,
       "version_minor": 0
      },
      "text/plain": [
       "HBox(children=(FloatProgress(value=0.0, max=5000.0), HTML(value='')))"
      ]
     },
     "metadata": {},
     "output_type": "display_data"
    },
    {
     "name": "stdout",
     "output_type": "stream",
     "text": [
      "\n",
      "-Create the tpr file nvt_122_vdwq_07.tpr\n",
      "gmx grompp -f nvt_122_vdwq_07.mdp -c ../00_em/em_122_vdwq_07.gro -r ../00_em/em_122_vdwq_07.gro -p ../../mol_water_top/122_water.top -po out_nvt_122_vdwq_07.mdp -o nvt_122_vdwq_07.tpr -maxwarn 1\n",
      "-Launch the simulation nvt_122_vdwq_07.tpr\n",
      "gmx mdrun -s nvt_122_vdwq_07.tpr -deffnm nvt_122_vdwq_07 -nt 0 -ntmpi 0 -nsteps -2 -nocopyright\n"
     ]
    },
    {
     "data": {
      "application/vnd.jupyter.widget-view+json": {
       "model_id": "7c1ebef69ac548c99f2e52bbe5a86dc3",
       "version_major": 2,
       "version_minor": 0
      },
      "text/plain": [
       "HBox(children=(FloatProgress(value=0.0, max=2500.0), HTML(value='')))"
      ]
     },
     "metadata": {},
     "output_type": "display_data"
    },
    {
     "name": "stdout",
     "output_type": "stream",
     "text": [
      "\n",
      "-Create the tpr file npt_122_vdwq_07.tpr\n",
      "gmx grompp -f npt_122_vdwq_07.mdp -c ../01_equi_nvt/nvt_122_vdwq_07.gro -r ../01_equi_nvt/nvt_122_vdwq_07.gro -p ../../mol_water_top/122_water.top -po out_npt_122_vdwq_07.mdp -o npt_122_vdwq_07.tpr -maxwarn 1\n",
      "-Launch the simulation npt_122_vdwq_07.tpr\n",
      "gmx mdrun -s npt_122_vdwq_07.tpr -deffnm npt_122_vdwq_07 -nt 0 -ntmpi 0 -nsteps -2 -nocopyright\n"
     ]
    },
    {
     "data": {
      "application/vnd.jupyter.widget-view+json": {
       "model_id": "fdb1f459f2984503b4b75d3373cbb65f",
       "version_major": 2,
       "version_minor": 0
      },
      "text/plain": [
       "HBox(children=(FloatProgress(value=0.0, max=2500.0), HTML(value='')))"
      ]
     },
     "metadata": {},
     "output_type": "display_data"
    },
    {
     "name": "stdout",
     "output_type": "stream",
     "text": [
      "\n",
      "-Create the tpr file prod_122_vdwq_07.tpr\n",
      "gmx grompp -f prod_122_vdwq_07.mdp -c ../02_equi_npt/npt_122_vdwq_07.gro -r ../02_equi_npt/npt_122_vdwq_07.gro -p ../../mol_water_top/122_water.top -po out_prod_122_vdwq_07.mdp -o prod_122_vdwq_07.tpr -maxwarn 1\n",
      "-Launch the simulation prod_122_vdwq_07.tpr\n",
      "gmx mdrun -s prod_122_vdwq_07.tpr -deffnm prod_122_vdwq_07 -nt 0 -ntmpi 0 -nsteps -2 -nocopyright\n"
     ]
    },
    {
     "data": {
      "application/vnd.jupyter.widget-view+json": {
       "model_id": "ee95c745244b45368543f5837c800b5c",
       "version_major": 2,
       "version_minor": 0
      },
      "text/plain": [
       "HBox(children=(FloatProgress(value=0.0, max=25000.0), HTML(value='')))"
      ]
     },
     "metadata": {},
     "output_type": "display_data"
    },
    {
     "name": "stdout",
     "output_type": "stream",
     "text": [
      "\n",
      "-Create the tpr file em_122_vdwq_08.tpr\n",
      "gmx grompp -f em_122_vdwq_08.mdp -c ../../mol_water_prod/prod_122.gro -r ../../mol_water_prod/prod_122.gro -p ../../mol_water_top/122_water.top -po out_em_122_vdwq_08.mdp -o em_122_vdwq_08.tpr -maxwarn 1\n",
      "-Launch the simulation em_122_vdwq_08.tpr\n",
      "gmx mdrun -s em_122_vdwq_08.tpr -deffnm em_122_vdwq_08 -nt 0 -ntmpi 0 -nsteps -2 -nocopyright\n"
     ]
    },
    {
     "data": {
      "application/vnd.jupyter.widget-view+json": {
       "model_id": "fce34fd42155437bac36d548f518d357",
       "version_major": 2,
       "version_minor": 0
      },
      "text/plain": [
       "HBox(children=(FloatProgress(value=0.0, max=5000.0), HTML(value='')))"
      ]
     },
     "metadata": {},
     "output_type": "display_data"
    },
    {
     "name": "stdout",
     "output_type": "stream",
     "text": [
      "\n",
      "-Create the tpr file nvt_122_vdwq_08.tpr\n",
      "gmx grompp -f nvt_122_vdwq_08.mdp -c ../00_em/em_122_vdwq_08.gro -r ../00_em/em_122_vdwq_08.gro -p ../../mol_water_top/122_water.top -po out_nvt_122_vdwq_08.mdp -o nvt_122_vdwq_08.tpr -maxwarn 1\n",
      "-Launch the simulation nvt_122_vdwq_08.tpr\n",
      "gmx mdrun -s nvt_122_vdwq_08.tpr -deffnm nvt_122_vdwq_08 -nt 0 -ntmpi 0 -nsteps -2 -nocopyright\n"
     ]
    },
    {
     "data": {
      "application/vnd.jupyter.widget-view+json": {
       "model_id": "38844d3ee21e4becbc2f4e31052e3d35",
       "version_major": 2,
       "version_minor": 0
      },
      "text/plain": [
       "HBox(children=(FloatProgress(value=0.0, max=2500.0), HTML(value='')))"
      ]
     },
     "metadata": {},
     "output_type": "display_data"
    },
    {
     "name": "stdout",
     "output_type": "stream",
     "text": [
      "\n",
      "-Create the tpr file npt_122_vdwq_08.tpr\n",
      "gmx grompp -f npt_122_vdwq_08.mdp -c ../01_equi_nvt/nvt_122_vdwq_08.gro -r ../01_equi_nvt/nvt_122_vdwq_08.gro -p ../../mol_water_top/122_water.top -po out_npt_122_vdwq_08.mdp -o npt_122_vdwq_08.tpr -maxwarn 1\n",
      "-Launch the simulation npt_122_vdwq_08.tpr\n",
      "gmx mdrun -s npt_122_vdwq_08.tpr -deffnm npt_122_vdwq_08 -nt 0 -ntmpi 0 -nsteps -2 -nocopyright\n"
     ]
    },
    {
     "data": {
      "application/vnd.jupyter.widget-view+json": {
       "model_id": "95a0ce0a063b4484b9b97a3eb65c776e",
       "version_major": 2,
       "version_minor": 0
      },
      "text/plain": [
       "HBox(children=(FloatProgress(value=0.0, max=2500.0), HTML(value='')))"
      ]
     },
     "metadata": {},
     "output_type": "display_data"
    },
    {
     "name": "stdout",
     "output_type": "stream",
     "text": [
      "\n",
      "-Create the tpr file prod_122_vdwq_08.tpr\n",
      "gmx grompp -f prod_122_vdwq_08.mdp -c ../02_equi_npt/npt_122_vdwq_08.gro -r ../02_equi_npt/npt_122_vdwq_08.gro -p ../../mol_water_top/122_water.top -po out_prod_122_vdwq_08.mdp -o prod_122_vdwq_08.tpr -maxwarn 1\n",
      "-Launch the simulation prod_122_vdwq_08.tpr\n",
      "gmx mdrun -s prod_122_vdwq_08.tpr -deffnm prod_122_vdwq_08 -nt 0 -ntmpi 0 -nsteps -2 -nocopyright\n"
     ]
    },
    {
     "data": {
      "application/vnd.jupyter.widget-view+json": {
       "model_id": "441e869bbc414b8da87ebe317172c4ea",
       "version_major": 2,
       "version_minor": 0
      },
      "text/plain": [
       "HBox(children=(FloatProgress(value=0.0, max=25000.0), HTML(value='')))"
      ]
     },
     "metadata": {},
     "output_type": "display_data"
    },
    {
     "name": "stdout",
     "output_type": "stream",
     "text": [
      "\n",
      "-Create the tpr file em_122_vdwq_09.tpr\n",
      "gmx grompp -f em_122_vdwq_09.mdp -c ../../mol_water_prod/prod_122.gro -r ../../mol_water_prod/prod_122.gro -p ../../mol_water_top/122_water.top -po out_em_122_vdwq_09.mdp -o em_122_vdwq_09.tpr -maxwarn 1\n",
      "-Launch the simulation em_122_vdwq_09.tpr\n",
      "gmx mdrun -s em_122_vdwq_09.tpr -deffnm em_122_vdwq_09 -nt 0 -ntmpi 0 -nsteps -2 -nocopyright\n"
     ]
    },
    {
     "data": {
      "application/vnd.jupyter.widget-view+json": {
       "model_id": "02c272dfa6e3482ca8e8a3a6c4410778",
       "version_major": 2,
       "version_minor": 0
      },
      "text/plain": [
       "HBox(children=(FloatProgress(value=0.0, max=5000.0), HTML(value='')))"
      ]
     },
     "metadata": {},
     "output_type": "display_data"
    },
    {
     "name": "stdout",
     "output_type": "stream",
     "text": [
      "\n",
      "-Create the tpr file nvt_122_vdwq_09.tpr\n",
      "gmx grompp -f nvt_122_vdwq_09.mdp -c ../00_em/em_122_vdwq_09.gro -r ../00_em/em_122_vdwq_09.gro -p ../../mol_water_top/122_water.top -po out_nvt_122_vdwq_09.mdp -o nvt_122_vdwq_09.tpr -maxwarn 1\n",
      "-Launch the simulation nvt_122_vdwq_09.tpr\n",
      "gmx mdrun -s nvt_122_vdwq_09.tpr -deffnm nvt_122_vdwq_09 -nt 0 -ntmpi 0 -nsteps -2 -nocopyright\n"
     ]
    },
    {
     "data": {
      "application/vnd.jupyter.widget-view+json": {
       "model_id": "e51f5eef17ee4d4282abe8e7907eae49",
       "version_major": 2,
       "version_minor": 0
      },
      "text/plain": [
       "HBox(children=(FloatProgress(value=0.0, max=2500.0), HTML(value='')))"
      ]
     },
     "metadata": {},
     "output_type": "display_data"
    },
    {
     "name": "stdout",
     "output_type": "stream",
     "text": [
      "\n",
      "-Create the tpr file npt_122_vdwq_09.tpr\n",
      "gmx grompp -f npt_122_vdwq_09.mdp -c ../01_equi_nvt/nvt_122_vdwq_09.gro -r ../01_equi_nvt/nvt_122_vdwq_09.gro -p ../../mol_water_top/122_water.top -po out_npt_122_vdwq_09.mdp -o npt_122_vdwq_09.tpr -maxwarn 1\n",
      "-Launch the simulation npt_122_vdwq_09.tpr\n",
      "gmx mdrun -s npt_122_vdwq_09.tpr -deffnm npt_122_vdwq_09 -nt 0 -ntmpi 0 -nsteps -2 -nocopyright\n"
     ]
    },
    {
     "data": {
      "application/vnd.jupyter.widget-view+json": {
       "model_id": "eca0454c18fb4a22940af8658536a471",
       "version_major": 2,
       "version_minor": 0
      },
      "text/plain": [
       "HBox(children=(FloatProgress(value=0.0, max=2500.0), HTML(value='')))"
      ]
     },
     "metadata": {},
     "output_type": "display_data"
    },
    {
     "name": "stdout",
     "output_type": "stream",
     "text": [
      "\n",
      "-Create the tpr file prod_122_vdwq_09.tpr\n",
      "gmx grompp -f prod_122_vdwq_09.mdp -c ../02_equi_npt/npt_122_vdwq_09.gro -r ../02_equi_npt/npt_122_vdwq_09.gro -p ../../mol_water_top/122_water.top -po out_prod_122_vdwq_09.mdp -o prod_122_vdwq_09.tpr -maxwarn 1\n",
      "-Launch the simulation prod_122_vdwq_09.tpr\n",
      "gmx mdrun -s prod_122_vdwq_09.tpr -deffnm prod_122_vdwq_09 -nt 0 -ntmpi 0 -nsteps -2 -nocopyright\n"
     ]
    },
    {
     "data": {
      "application/vnd.jupyter.widget-view+json": {
       "model_id": "71b4d2d6e4ad488889b9881a35d59a4d",
       "version_major": 2,
       "version_minor": 0
      },
      "text/plain": [
       "HBox(children=(FloatProgress(value=0.0, max=25000.0), HTML(value='')))"
      ]
     },
     "metadata": {},
     "output_type": "display_data"
    },
    {
     "name": "stdout",
     "output_type": "stream",
     "text": [
      "\n",
      "-Create the tpr file em_122_vdwq_10.tpr\n",
      "gmx grompp -f em_122_vdwq_10.mdp -c ../../mol_water_prod/prod_122.gro -r ../../mol_water_prod/prod_122.gro -p ../../mol_water_top/122_water.top -po out_em_122_vdwq_10.mdp -o em_122_vdwq_10.tpr -maxwarn 1\n",
      "-Launch the simulation em_122_vdwq_10.tpr\n",
      "gmx mdrun -s em_122_vdwq_10.tpr -deffnm em_122_vdwq_10 -nt 0 -ntmpi 0 -nsteps -2 -nocopyright\n"
     ]
    },
    {
     "data": {
      "application/vnd.jupyter.widget-view+json": {
       "model_id": "d5a6afba71324e44bd50c871c8a073b3",
       "version_major": 2,
       "version_minor": 0
      },
      "text/plain": [
       "HBox(children=(FloatProgress(value=0.0, max=5000.0), HTML(value='')))"
      ]
     },
     "metadata": {},
     "output_type": "display_data"
    },
    {
     "name": "stdout",
     "output_type": "stream",
     "text": [
      "\n",
      "-Create the tpr file nvt_122_vdwq_10.tpr\n",
      "gmx grompp -f nvt_122_vdwq_10.mdp -c ../00_em/em_122_vdwq_10.gro -r ../00_em/em_122_vdwq_10.gro -p ../../mol_water_top/122_water.top -po out_nvt_122_vdwq_10.mdp -o nvt_122_vdwq_10.tpr -maxwarn 1\n",
      "-Launch the simulation nvt_122_vdwq_10.tpr\n",
      "gmx mdrun -s nvt_122_vdwq_10.tpr -deffnm nvt_122_vdwq_10 -nt 0 -ntmpi 0 -nsteps -2 -nocopyright\n"
     ]
    },
    {
     "data": {
      "application/vnd.jupyter.widget-view+json": {
       "model_id": "bd620d1caf9640f38fd60943279ddbcb",
       "version_major": 2,
       "version_minor": 0
      },
      "text/plain": [
       "HBox(children=(FloatProgress(value=0.0, max=2500.0), HTML(value='')))"
      ]
     },
     "metadata": {},
     "output_type": "display_data"
    },
    {
     "name": "stdout",
     "output_type": "stream",
     "text": [
      "\n",
      "-Create the tpr file npt_122_vdwq_10.tpr\n",
      "gmx grompp -f npt_122_vdwq_10.mdp -c ../01_equi_nvt/nvt_122_vdwq_10.gro -r ../01_equi_nvt/nvt_122_vdwq_10.gro -p ../../mol_water_top/122_water.top -po out_npt_122_vdwq_10.mdp -o npt_122_vdwq_10.tpr -maxwarn 1\n",
      "-Launch the simulation npt_122_vdwq_10.tpr\n",
      "gmx mdrun -s npt_122_vdwq_10.tpr -deffnm npt_122_vdwq_10 -nt 0 -ntmpi 0 -nsteps -2 -nocopyright\n"
     ]
    },
    {
     "data": {
      "application/vnd.jupyter.widget-view+json": {
       "model_id": "5fffa7b23cd74ef7b6d696e82a576bcc",
       "version_major": 2,
       "version_minor": 0
      },
      "text/plain": [
       "HBox(children=(FloatProgress(value=0.0, max=2500.0), HTML(value='')))"
      ]
     },
     "metadata": {},
     "output_type": "display_data"
    },
    {
     "name": "stdout",
     "output_type": "stream",
     "text": [
      "\n",
      "-Create the tpr file prod_122_vdwq_10.tpr\n",
      "gmx grompp -f prod_122_vdwq_10.mdp -c ../02_equi_npt/npt_122_vdwq_10.gro -r ../02_equi_npt/npt_122_vdwq_10.gro -p ../../mol_water_top/122_water.top -po out_prod_122_vdwq_10.mdp -o prod_122_vdwq_10.tpr -maxwarn 1\n",
      "-Launch the simulation prod_122_vdwq_10.tpr\n",
      "gmx mdrun -s prod_122_vdwq_10.tpr -deffnm prod_122_vdwq_10 -nt 0 -ntmpi 0 -nsteps -2 -nocopyright\n"
     ]
    },
    {
     "data": {
      "application/vnd.jupyter.widget-view+json": {
       "model_id": "2445a952e55741a39437ee71a19b200e",
       "version_major": 2,
       "version_minor": 0
      },
      "text/plain": [
       "HBox(children=(FloatProgress(value=0.0, max=25000.0), HTML(value='')))"
      ]
     },
     "metadata": {},
     "output_type": "display_data"
    },
    {
     "name": "stdout",
     "output_type": "stream",
     "text": [
      "\n",
      "-Create the tpr file em_122_vdwq_11.tpr\n",
      "gmx grompp -f em_122_vdwq_11.mdp -c ../../mol_water_prod/prod_122.gro -r ../../mol_water_prod/prod_122.gro -p ../../mol_water_top/122_water.top -po out_em_122_vdwq_11.mdp -o em_122_vdwq_11.tpr -maxwarn 1\n",
      "-Launch the simulation em_122_vdwq_11.tpr\n",
      "gmx mdrun -s em_122_vdwq_11.tpr -deffnm em_122_vdwq_11 -nt 0 -ntmpi 0 -nsteps -2 -nocopyright\n"
     ]
    },
    {
     "data": {
      "application/vnd.jupyter.widget-view+json": {
       "model_id": "e01664fb7f1741c792760af77fd79265",
       "version_major": 2,
       "version_minor": 0
      },
      "text/plain": [
       "HBox(children=(FloatProgress(value=0.0, max=5000.0), HTML(value='')))"
      ]
     },
     "metadata": {},
     "output_type": "display_data"
    },
    {
     "name": "stdout",
     "output_type": "stream",
     "text": [
      "\n",
      "-Create the tpr file nvt_122_vdwq_11.tpr\n",
      "gmx grompp -f nvt_122_vdwq_11.mdp -c ../00_em/em_122_vdwq_11.gro -r ../00_em/em_122_vdwq_11.gro -p ../../mol_water_top/122_water.top -po out_nvt_122_vdwq_11.mdp -o nvt_122_vdwq_11.tpr -maxwarn 1\n",
      "-Launch the simulation nvt_122_vdwq_11.tpr\n",
      "gmx mdrun -s nvt_122_vdwq_11.tpr -deffnm nvt_122_vdwq_11 -nt 0 -ntmpi 0 -nsteps -2 -nocopyright\n"
     ]
    },
    {
     "data": {
      "application/vnd.jupyter.widget-view+json": {
       "model_id": "767c93a7f4a146398f68f93bd91701ef",
       "version_major": 2,
       "version_minor": 0
      },
      "text/plain": [
       "HBox(children=(FloatProgress(value=0.0, max=2500.0), HTML(value='')))"
      ]
     },
     "metadata": {},
     "output_type": "display_data"
    },
    {
     "name": "stdout",
     "output_type": "stream",
     "text": [
      "\n",
      "-Create the tpr file npt_122_vdwq_11.tpr\n",
      "gmx grompp -f npt_122_vdwq_11.mdp -c ../01_equi_nvt/nvt_122_vdwq_11.gro -r ../01_equi_nvt/nvt_122_vdwq_11.gro -p ../../mol_water_top/122_water.top -po out_npt_122_vdwq_11.mdp -o npt_122_vdwq_11.tpr -maxwarn 1\n",
      "-Launch the simulation npt_122_vdwq_11.tpr\n",
      "gmx mdrun -s npt_122_vdwq_11.tpr -deffnm npt_122_vdwq_11 -nt 0 -ntmpi 0 -nsteps -2 -nocopyright\n"
     ]
    },
    {
     "data": {
      "application/vnd.jupyter.widget-view+json": {
       "model_id": "f7d75ddb74d14ecea3a4959f86ab0f38",
       "version_major": 2,
       "version_minor": 0
      },
      "text/plain": [
       "HBox(children=(FloatProgress(value=0.0, max=2500.0), HTML(value='')))"
      ]
     },
     "metadata": {},
     "output_type": "display_data"
    },
    {
     "name": "stdout",
     "output_type": "stream",
     "text": [
      "\n",
      "-Create the tpr file prod_122_vdwq_11.tpr\n",
      "gmx grompp -f prod_122_vdwq_11.mdp -c ../02_equi_npt/npt_122_vdwq_11.gro -r ../02_equi_npt/npt_122_vdwq_11.gro -p ../../mol_water_top/122_water.top -po out_prod_122_vdwq_11.mdp -o prod_122_vdwq_11.tpr -maxwarn 1\n",
      "-Launch the simulation prod_122_vdwq_11.tpr\n",
      "gmx mdrun -s prod_122_vdwq_11.tpr -deffnm prod_122_vdwq_11 -nt 0 -ntmpi 0 -nsteps -2 -nocopyright\n"
     ]
    },
    {
     "data": {
      "application/vnd.jupyter.widget-view+json": {
       "model_id": "2d3093d08bca414d985f178594a217bc",
       "version_major": 2,
       "version_minor": 0
      },
      "text/plain": [
       "HBox(children=(FloatProgress(value=0.0, max=25000.0), HTML(value='')))"
      ]
     },
     "metadata": {},
     "output_type": "display_data"
    },
    {
     "name": "stdout",
     "output_type": "stream",
     "text": [
      "\n",
      "-Create the tpr file em_122_vdwq_12.tpr\n",
      "gmx grompp -f em_122_vdwq_12.mdp -c ../../mol_water_prod/prod_122.gro -r ../../mol_water_prod/prod_122.gro -p ../../mol_water_top/122_water.top -po out_em_122_vdwq_12.mdp -o em_122_vdwq_12.tpr -maxwarn 1\n",
      "-Launch the simulation em_122_vdwq_12.tpr\n",
      "gmx mdrun -s em_122_vdwq_12.tpr -deffnm em_122_vdwq_12 -nt 0 -ntmpi 0 -nsteps -2 -nocopyright\n"
     ]
    },
    {
     "data": {
      "application/vnd.jupyter.widget-view+json": {
       "model_id": "097e88c6a81d4d94ae3e1f0f1db30acc",
       "version_major": 2,
       "version_minor": 0
      },
      "text/plain": [
       "HBox(children=(FloatProgress(value=0.0, max=5000.0), HTML(value='')))"
      ]
     },
     "metadata": {},
     "output_type": "display_data"
    },
    {
     "name": "stdout",
     "output_type": "stream",
     "text": [
      "\n",
      "-Create the tpr file nvt_122_vdwq_12.tpr\n",
      "gmx grompp -f nvt_122_vdwq_12.mdp -c ../00_em/em_122_vdwq_12.gro -r ../00_em/em_122_vdwq_12.gro -p ../../mol_water_top/122_water.top -po out_nvt_122_vdwq_12.mdp -o nvt_122_vdwq_12.tpr -maxwarn 1\n",
      "-Launch the simulation nvt_122_vdwq_12.tpr\n",
      "gmx mdrun -s nvt_122_vdwq_12.tpr -deffnm nvt_122_vdwq_12 -nt 0 -ntmpi 0 -nsteps -2 -nocopyright\n"
     ]
    },
    {
     "data": {
      "application/vnd.jupyter.widget-view+json": {
       "model_id": "5e0a0a3a5cf745fc9b3adcfd880554d7",
       "version_major": 2,
       "version_minor": 0
      },
      "text/plain": [
       "HBox(children=(FloatProgress(value=0.0, max=2500.0), HTML(value='')))"
      ]
     },
     "metadata": {},
     "output_type": "display_data"
    },
    {
     "name": "stdout",
     "output_type": "stream",
     "text": [
      "\n",
      "-Create the tpr file npt_122_vdwq_12.tpr\n",
      "gmx grompp -f npt_122_vdwq_12.mdp -c ../01_equi_nvt/nvt_122_vdwq_12.gro -r ../01_equi_nvt/nvt_122_vdwq_12.gro -p ../../mol_water_top/122_water.top -po out_npt_122_vdwq_12.mdp -o npt_122_vdwq_12.tpr -maxwarn 1\n",
      "-Launch the simulation npt_122_vdwq_12.tpr\n",
      "gmx mdrun -s npt_122_vdwq_12.tpr -deffnm npt_122_vdwq_12 -nt 0 -ntmpi 0 -nsteps -2 -nocopyright\n"
     ]
    },
    {
     "data": {
      "application/vnd.jupyter.widget-view+json": {
       "model_id": "c0faaad908074053a81fb21af55a6a4b",
       "version_major": 2,
       "version_minor": 0
      },
      "text/plain": [
       "HBox(children=(FloatProgress(value=0.0, max=2500.0), HTML(value='')))"
      ]
     },
     "metadata": {},
     "output_type": "display_data"
    },
    {
     "name": "stdout",
     "output_type": "stream",
     "text": [
      "\n",
      "-Create the tpr file prod_122_vdwq_12.tpr\n",
      "gmx grompp -f prod_122_vdwq_12.mdp -c ../02_equi_npt/npt_122_vdwq_12.gro -r ../02_equi_npt/npt_122_vdwq_12.gro -p ../../mol_water_top/122_water.top -po out_prod_122_vdwq_12.mdp -o prod_122_vdwq_12.tpr -maxwarn 1\n",
      "-Launch the simulation prod_122_vdwq_12.tpr\n",
      "gmx mdrun -s prod_122_vdwq_12.tpr -deffnm prod_122_vdwq_12 -nt 0 -ntmpi 0 -nsteps -2 -nocopyright\n"
     ]
    },
    {
     "data": {
      "application/vnd.jupyter.widget-view+json": {
       "model_id": "529c4116d8724dd3a82d257c05cdb45e",
       "version_major": 2,
       "version_minor": 0
      },
      "text/plain": [
       "HBox(children=(FloatProgress(value=0.0, max=25000.0), HTML(value='')))"
      ]
     },
     "metadata": {},
     "output_type": "display_data"
    },
    {
     "name": "stdout",
     "output_type": "stream",
     "text": [
      "\n",
      "-Create the tpr file em_122_vdwq_13.tpr\n",
      "gmx grompp -f em_122_vdwq_13.mdp -c ../../mol_water_prod/prod_122.gro -r ../../mol_water_prod/prod_122.gro -p ../../mol_water_top/122_water.top -po out_em_122_vdwq_13.mdp -o em_122_vdwq_13.tpr -maxwarn 1\n",
      "-Launch the simulation em_122_vdwq_13.tpr\n",
      "gmx mdrun -s em_122_vdwq_13.tpr -deffnm em_122_vdwq_13 -nt 0 -ntmpi 0 -nsteps -2 -nocopyright\n"
     ]
    },
    {
     "data": {
      "application/vnd.jupyter.widget-view+json": {
       "model_id": "7f67ab4394b04bad83acc51e1736938e",
       "version_major": 2,
       "version_minor": 0
      },
      "text/plain": [
       "HBox(children=(FloatProgress(value=0.0, max=5000.0), HTML(value='')))"
      ]
     },
     "metadata": {},
     "output_type": "display_data"
    },
    {
     "name": "stdout",
     "output_type": "stream",
     "text": [
      "\n",
      "-Create the tpr file nvt_122_vdwq_13.tpr\n",
      "gmx grompp -f nvt_122_vdwq_13.mdp -c ../00_em/em_122_vdwq_13.gro -r ../00_em/em_122_vdwq_13.gro -p ../../mol_water_top/122_water.top -po out_nvt_122_vdwq_13.mdp -o nvt_122_vdwq_13.tpr -maxwarn 1\n",
      "-Launch the simulation nvt_122_vdwq_13.tpr\n",
      "gmx mdrun -s nvt_122_vdwq_13.tpr -deffnm nvt_122_vdwq_13 -nt 0 -ntmpi 0 -nsteps -2 -nocopyright\n"
     ]
    },
    {
     "data": {
      "application/vnd.jupyter.widget-view+json": {
       "model_id": "205da8580d3041f79cabbf7a70fb5fd3",
       "version_major": 2,
       "version_minor": 0
      },
      "text/plain": [
       "HBox(children=(FloatProgress(value=0.0, max=2500.0), HTML(value='')))"
      ]
     },
     "metadata": {},
     "output_type": "display_data"
    },
    {
     "name": "stdout",
     "output_type": "stream",
     "text": [
      "\n",
      "-Create the tpr file npt_122_vdwq_13.tpr\n",
      "gmx grompp -f npt_122_vdwq_13.mdp -c ../01_equi_nvt/nvt_122_vdwq_13.gro -r ../01_equi_nvt/nvt_122_vdwq_13.gro -p ../../mol_water_top/122_water.top -po out_npt_122_vdwq_13.mdp -o npt_122_vdwq_13.tpr -maxwarn 1\n",
      "-Launch the simulation npt_122_vdwq_13.tpr\n",
      "gmx mdrun -s npt_122_vdwq_13.tpr -deffnm npt_122_vdwq_13 -nt 0 -ntmpi 0 -nsteps -2 -nocopyright\n"
     ]
    },
    {
     "data": {
      "application/vnd.jupyter.widget-view+json": {
       "model_id": "1a8191fe54504d75a3d93d769fb7bfdd",
       "version_major": 2,
       "version_minor": 0
      },
      "text/plain": [
       "HBox(children=(FloatProgress(value=0.0, max=2500.0), HTML(value='')))"
      ]
     },
     "metadata": {},
     "output_type": "display_data"
    },
    {
     "name": "stdout",
     "output_type": "stream",
     "text": [
      "\n",
      "-Create the tpr file prod_122_vdwq_13.tpr\n",
      "gmx grompp -f prod_122_vdwq_13.mdp -c ../02_equi_npt/npt_122_vdwq_13.gro -r ../02_equi_npt/npt_122_vdwq_13.gro -p ../../mol_water_top/122_water.top -po out_prod_122_vdwq_13.mdp -o prod_122_vdwq_13.tpr -maxwarn 1\n",
      "-Launch the simulation prod_122_vdwq_13.tpr\n",
      "gmx mdrun -s prod_122_vdwq_13.tpr -deffnm prod_122_vdwq_13 -nt 0 -ntmpi 0 -nsteps -2 -nocopyright\n"
     ]
    },
    {
     "data": {
      "application/vnd.jupyter.widget-view+json": {
       "model_id": "46955811cdcf475d9f212933bcfbf9a7",
       "version_major": 2,
       "version_minor": 0
      },
      "text/plain": [
       "HBox(children=(FloatProgress(value=0.0, max=25000.0), HTML(value='')))"
      ]
     },
     "metadata": {},
     "output_type": "display_data"
    },
    {
     "name": "stdout",
     "output_type": "stream",
     "text": [
      "\n",
      "-Create the tpr file em_122_vdwq_14.tpr\n",
      "gmx grompp -f em_122_vdwq_14.mdp -c ../../mol_water_prod/prod_122.gro -r ../../mol_water_prod/prod_122.gro -p ../../mol_water_top/122_water.top -po out_em_122_vdwq_14.mdp -o em_122_vdwq_14.tpr -maxwarn 1\n",
      "-Launch the simulation em_122_vdwq_14.tpr\n",
      "gmx mdrun -s em_122_vdwq_14.tpr -deffnm em_122_vdwq_14 -nt 0 -ntmpi 0 -nsteps -2 -nocopyright\n"
     ]
    },
    {
     "data": {
      "application/vnd.jupyter.widget-view+json": {
       "model_id": "6bc6112399494482b5de4fc5bf786dc4",
       "version_major": 2,
       "version_minor": 0
      },
      "text/plain": [
       "HBox(children=(FloatProgress(value=0.0, max=5000.0), HTML(value='')))"
      ]
     },
     "metadata": {},
     "output_type": "display_data"
    },
    {
     "name": "stdout",
     "output_type": "stream",
     "text": [
      "\n",
      "-Create the tpr file nvt_122_vdwq_14.tpr\n",
      "gmx grompp -f nvt_122_vdwq_14.mdp -c ../00_em/em_122_vdwq_14.gro -r ../00_em/em_122_vdwq_14.gro -p ../../mol_water_top/122_water.top -po out_nvt_122_vdwq_14.mdp -o nvt_122_vdwq_14.tpr -maxwarn 1\n",
      "-Launch the simulation nvt_122_vdwq_14.tpr\n",
      "gmx mdrun -s nvt_122_vdwq_14.tpr -deffnm nvt_122_vdwq_14 -nt 0 -ntmpi 0 -nsteps -2 -nocopyright\n"
     ]
    },
    {
     "data": {
      "application/vnd.jupyter.widget-view+json": {
       "model_id": "189a423e5f3e44b0a4e3e46d6975bcae",
       "version_major": 2,
       "version_minor": 0
      },
      "text/plain": [
       "HBox(children=(FloatProgress(value=0.0, max=2500.0), HTML(value='')))"
      ]
     },
     "metadata": {},
     "output_type": "display_data"
    },
    {
     "name": "stdout",
     "output_type": "stream",
     "text": [
      "\n",
      "-Create the tpr file npt_122_vdwq_14.tpr\n",
      "gmx grompp -f npt_122_vdwq_14.mdp -c ../01_equi_nvt/nvt_122_vdwq_14.gro -r ../01_equi_nvt/nvt_122_vdwq_14.gro -p ../../mol_water_top/122_water.top -po out_npt_122_vdwq_14.mdp -o npt_122_vdwq_14.tpr -maxwarn 1\n",
      "-Launch the simulation npt_122_vdwq_14.tpr\n",
      "gmx mdrun -s npt_122_vdwq_14.tpr -deffnm npt_122_vdwq_14 -nt 0 -ntmpi 0 -nsteps -2 -nocopyright\n"
     ]
    },
    {
     "data": {
      "application/vnd.jupyter.widget-view+json": {
       "model_id": "767697d15629437da97fac3212f8746a",
       "version_major": 2,
       "version_minor": 0
      },
      "text/plain": [
       "HBox(children=(FloatProgress(value=0.0, max=2500.0), HTML(value='')))"
      ]
     },
     "metadata": {},
     "output_type": "display_data"
    },
    {
     "name": "stdout",
     "output_type": "stream",
     "text": [
      "\n",
      "-Create the tpr file prod_122_vdwq_14.tpr\n",
      "gmx grompp -f prod_122_vdwq_14.mdp -c ../02_equi_npt/npt_122_vdwq_14.gro -r ../02_equi_npt/npt_122_vdwq_14.gro -p ../../mol_water_top/122_water.top -po out_prod_122_vdwq_14.mdp -o prod_122_vdwq_14.tpr -maxwarn 1\n",
      "-Launch the simulation prod_122_vdwq_14.tpr\n",
      "gmx mdrun -s prod_122_vdwq_14.tpr -deffnm prod_122_vdwq_14 -nt 0 -ntmpi 0 -nsteps -2 -nocopyright\n"
     ]
    },
    {
     "data": {
      "application/vnd.jupyter.widget-view+json": {
       "model_id": "f14672bf5d3b42358c436b7c7aaa152e",
       "version_major": 2,
       "version_minor": 0
      },
      "text/plain": [
       "HBox(children=(FloatProgress(value=0.0, max=25000.0), HTML(value='')))"
      ]
     },
     "metadata": {},
     "output_type": "display_data"
    },
    {
     "name": "stdout",
     "output_type": "stream",
     "text": [
      "\n",
      "-Create the tpr file em_122_vdwq_15.tpr\n",
      "gmx grompp -f em_122_vdwq_15.mdp -c ../../mol_water_prod/prod_122.gro -r ../../mol_water_prod/prod_122.gro -p ../../mol_water_top/122_water.top -po out_em_122_vdwq_15.mdp -o em_122_vdwq_15.tpr -maxwarn 1\n",
      "-Launch the simulation em_122_vdwq_15.tpr\n",
      "gmx mdrun -s em_122_vdwq_15.tpr -deffnm em_122_vdwq_15 -nt 0 -ntmpi 0 -nsteps -2 -nocopyright\n"
     ]
    },
    {
     "data": {
      "application/vnd.jupyter.widget-view+json": {
       "model_id": "82284ea4e0e9434c830bb2d6a08409db",
       "version_major": 2,
       "version_minor": 0
      },
      "text/plain": [
       "HBox(children=(FloatProgress(value=0.0, max=5000.0), HTML(value='')))"
      ]
     },
     "metadata": {},
     "output_type": "display_data"
    },
    {
     "name": "stdout",
     "output_type": "stream",
     "text": [
      "\n",
      "-Create the tpr file nvt_122_vdwq_15.tpr\n",
      "gmx grompp -f nvt_122_vdwq_15.mdp -c ../00_em/em_122_vdwq_15.gro -r ../00_em/em_122_vdwq_15.gro -p ../../mol_water_top/122_water.top -po out_nvt_122_vdwq_15.mdp -o nvt_122_vdwq_15.tpr -maxwarn 1\n",
      "-Launch the simulation nvt_122_vdwq_15.tpr\n",
      "gmx mdrun -s nvt_122_vdwq_15.tpr -deffnm nvt_122_vdwq_15 -nt 0 -ntmpi 0 -nsteps -2 -nocopyright\n"
     ]
    },
    {
     "data": {
      "application/vnd.jupyter.widget-view+json": {
       "model_id": "f4dbad9b947c4e6eb906210e7ac0a862",
       "version_major": 2,
       "version_minor": 0
      },
      "text/plain": [
       "HBox(children=(FloatProgress(value=0.0, max=2500.0), HTML(value='')))"
      ]
     },
     "metadata": {},
     "output_type": "display_data"
    },
    {
     "name": "stdout",
     "output_type": "stream",
     "text": [
      "\n",
      "-Create the tpr file npt_122_vdwq_15.tpr\n",
      "gmx grompp -f npt_122_vdwq_15.mdp -c ../01_equi_nvt/nvt_122_vdwq_15.gro -r ../01_equi_nvt/nvt_122_vdwq_15.gro -p ../../mol_water_top/122_water.top -po out_npt_122_vdwq_15.mdp -o npt_122_vdwq_15.tpr -maxwarn 1\n",
      "-Launch the simulation npt_122_vdwq_15.tpr\n",
      "gmx mdrun -s npt_122_vdwq_15.tpr -deffnm npt_122_vdwq_15 -nt 0 -ntmpi 0 -nsteps -2 -nocopyright\n"
     ]
    },
    {
     "data": {
      "application/vnd.jupyter.widget-view+json": {
       "model_id": "4fb09694edde4454809d9c74711cc9ef",
       "version_major": 2,
       "version_minor": 0
      },
      "text/plain": [
       "HBox(children=(FloatProgress(value=0.0, max=2500.0), HTML(value='')))"
      ]
     },
     "metadata": {},
     "output_type": "display_data"
    },
    {
     "name": "stdout",
     "output_type": "stream",
     "text": [
      "\n",
      "-Create the tpr file prod_122_vdwq_15.tpr\n",
      "gmx grompp -f prod_122_vdwq_15.mdp -c ../02_equi_npt/npt_122_vdwq_15.gro -r ../02_equi_npt/npt_122_vdwq_15.gro -p ../../mol_water_top/122_water.top -po out_prod_122_vdwq_15.mdp -o prod_122_vdwq_15.tpr -maxwarn 1\n",
      "-Launch the simulation prod_122_vdwq_15.tpr\n",
      "gmx mdrun -s prod_122_vdwq_15.tpr -deffnm prod_122_vdwq_15 -nt 0 -ntmpi 0 -nsteps -2 -nocopyright\n"
     ]
    },
    {
     "data": {
      "application/vnd.jupyter.widget-view+json": {
       "model_id": "c23563c55ab041ff879740c509064570",
       "version_major": 2,
       "version_minor": 0
      },
      "text/plain": [
       "HBox(children=(FloatProgress(value=0.0, max=25000.0), HTML(value='')))"
      ]
     },
     "metadata": {},
     "output_type": "display_data"
    },
    {
     "name": "stdout",
     "output_type": "stream",
     "text": [
      "\n",
      "-Extract bar energy\n",
      "gmx bar -f data_lig_trypsin_1GI2/mol_free_ener_new/03_prod/prod_122_vdwq_00.xvg data_lig_trypsin_1GI2/mol_free_ener_new/03_prod/prod_122_vdwq_01.xvg data_lig_trypsin_1GI2/mol_free_ener_new/03_prod/prod_122_vdwq_02.xvg data_lig_trypsin_1GI2/mol_free_ener_new/03_prod/prod_122_vdwq_03.xvg data_lig_trypsin_1GI2/mol_free_ener_new/03_prod/prod_122_vdwq_04.xvg data_lig_trypsin_1GI2/mol_free_ener_new/03_prod/prod_122_vdwq_05.xvg data_lig_trypsin_1GI2/mol_free_ener_new/03_prod/prod_122_vdwq_06.xvg data_lig_trypsin_1GI2/mol_free_ener_new/03_prod/prod_122_vdwq_07.xvg data_lig_trypsin_1GI2/mol_free_ener_new/03_prod/prod_122_vdwq_08.xvg data_lig_trypsin_1GI2/mol_free_ener_new/03_prod/prod_122_vdwq_09.xvg data_lig_trypsin_1GI2/mol_free_ener_new/03_prod/prod_122_vdwq_10.xvg data_lig_trypsin_1GI2/mol_free_ener_new/03_prod/prod_122_vdwq_11.xvg data_lig_trypsin_1GI2/mol_free_ener_new/03_prod/prod_122_vdwq_12.xvg data_lig_trypsin_1GI2/mol_free_ener_new/03_prod/prod_122_vdwq_13.xvg data_lig_trypsin_1GI2/mol_free_ener_new/03_prod/prod_122_vdwq_14.xvg data_lig_trypsin_1GI2/mol_free_ener_new/03_prod/prod_122_vdwq_15.xvg -o bar.xvg -oi barint.xvg -oh histogram.xvg\n",
      "DDG = -203.78 +/- 2.32 KJ/mol-1\n",
      "DDG = -48.70 +/- 0.55 Kcal/mol-1\n",
      "Log P = 279.78 +/- -3.19\n"
     ]
    }
   ],
   "source": [
    "ener_solv = test.free_ener(out_folder=os.path.join(DATA_OUT, 'mol_free_ener_new'),\n",
    "                      mol_name=MOL_ID, lambda_elec_num=10, lambda_vdw_num=10,\n",
    "                      em_steps=5000, nvt_time=10, npt_time=10, prod_time=100)"
   ]
  },
  {
   "cell_type": "code",
   "execution_count": 16,
   "metadata": {},
   "outputs": [
    {
     "data": {
      "text/plain": [
       "{'DG': -203.78,\n",
       " 'std': 2.32,\n",
       " 'table':        l  DG (kT)   +/-\n",
       " 0    0.5    28.85  0.20\n",
       " 1    1.5    21.42  0.11\n",
       " 2    2.5    14.73  0.13\n",
       " 3    3.5     9.40  0.10\n",
       " 4    4.5     4.17  0.09\n",
       " 5    5.5     2.73  0.04\n",
       " 6    6.5     2.56  0.06\n",
       " 7    7.5     2.34  0.09\n",
       " 8    8.5     2.01  0.07\n",
       " 9    9.5     1.64  0.09\n",
       " 10  10.5     1.26  0.14\n",
       " 11  11.5    -0.24  0.24\n",
       " 12  12.5    -4.58  0.53\n",
       " 13  13.5    -5.48  0.38\n",
       " 14  14.5    -1.74  0.13}"
      ]
     },
     "execution_count": 16,
     "metadata": {},
     "output_type": "execute_result"
    }
   ],
   "source": [
    "ener_solv"
   ]
  },
  {
   "cell_type": "markdown",
   "metadata": {},
   "source": [
    "## Protein-Ligand system preparation"
   ]
  },
  {
   "cell_type": "code",
   "execution_count": 17,
   "metadata": {},
   "outputs": [
    {
     "name": "stdout",
     "output_type": "stream",
     "text": [
      "-Create pbc box\n",
      "gmx editconf -f data_lig_trypsin_1GI2/prot_top/1GI2_pdb2gmx_mol.pdb -o data_lig_trypsin_1GI2/prot_top/1GI2_pdb2gmx_mol_box.pdb -bt dodecahedron -d 1.0\n",
      "WARNING !!! ADDING unusual parameter : \"emtol\"in the mdp file None\n",
      "-Create the tpr file Init_em_1GI2.tpr\n",
      "gmx grompp -f Init_em_1GI2.mdp -c ../prot_top/1GI2_pdb2gmx_mol_box.pdb -r ../prot_top/1GI2_pdb2gmx_mol_box.pdb -p ../prot_top/1GI2_pdb2gmx_mol.top -po out_Init_em_1GI2.mdp -o Init_em_1GI2.tpr -maxwarn 3\n",
      "-Launch the simulation Init_em_1GI2.tpr\n",
      "gmx mdrun -s Init_em_1GI2.tpr -deffnm Init_em_1GI2 -nt 0 -ntmpi 0 -nsteps -2 -nocopyright\n"
     ]
    },
    {
     "data": {
      "application/vnd.jupyter.widget-view+json": {
       "model_id": "4ebf8095d8f840a9ab523722667e37ca",
       "version_major": 2,
       "version_minor": 0
      },
      "text/plain": [
       "HBox(children=(FloatProgress(value=0.0, max=10000.0), HTML(value='')))"
      ]
     },
     "metadata": {},
     "output_type": "display_data"
    },
    {
     "name": "stdout",
     "output_type": "stream",
     "text": [
      "\n",
      "WARNING !!! ADDING unusual parameter : \"emtol\"in the mdp file Init_em_1GI2.mdp\n",
      "-Create the tpr file 1GI2.tpr\n",
      "gmx grompp -f 1GI2.mdp -c Init_em_1GI2.gro -r Init_em_1GI2.gro -p ../prot_top/1GI2_pdb2gmx_mol.top -po out_1GI2.mdp -o 1GI2.tpr -maxwarn 3\n",
      "-Launch the simulation 1GI2.tpr\n",
      "gmx mdrun -s 1GI2.tpr -deffnm 1GI2 -nt 0 -ntmpi 0 -nsteps -2 -nocopyright\n"
     ]
    },
    {
     "data": {
      "application/vnd.jupyter.widget-view+json": {
       "model_id": "148af9df28cf4a16a97a6a3a2c2c99e8",
       "version_major": 2,
       "version_minor": 0
      },
      "text/plain": [
       "HBox(children=(FloatProgress(value=0.0, max=10000.0), HTML(value='')))"
      ]
     },
     "metadata": {},
     "output_type": "display_data"
    },
    {
     "name": "stdout",
     "output_type": "stream",
     "text": [
      "\n"
     ]
    }
   ],
   "source": [
    "md_sys.em_2_steps(out_folder=os.path.join(DATA_OUT, 'prot_em'),\n",
    "                  no_constr_nsteps=10000,\n",
    "                  constr_nsteps=10000,\n",
    "                  posres=\"\",\n",
    "                  emtol=0.1, nstxout=100, maxwarn=3,\n",
    "                  create_box_flag=True)"
   ]
  },
  {
   "cell_type": "code",
   "execution_count": 18,
   "metadata": {},
   "outputs": [
    {
     "data": {
      "application/vnd.jupyter.widget-view+json": {
       "model_id": "a93ed7a6d40042fc845161391f15433a",
       "version_major": 2,
       "version_minor": 0
      },
      "text/plain": [
       "_ColormakerRegistry()"
      ]
     },
     "metadata": {},
     "output_type": "display_data"
    },
    {
     "name": "stdout",
     "output_type": "stream",
     "text": [
      "-Convert trj/coor\n",
      "gmx trjconv -f data_lig_trypsin_1GI2/prot_em/1GI2.gro -o data_lig_trypsin_1GI2/prot_em/1GI2_compact.pdb -s data_lig_trypsin_1GI2/prot_em/1GI2.tpr -ur compact -pbc none\n",
      "Succeed to read file data_lig_trypsin_1GI2/prot_em/1GI2_compact.pdb ,  3253 atoms found\n"
     ]
    },
    {
     "data": {
      "application/vnd.jupyter.widget-view+json": {
       "model_id": "beccaf70118e428db7106468bc15e37c",
       "version_major": 2,
       "version_minor": 0
      },
      "text/plain": [
       "NGLWidget()"
      ]
     },
     "metadata": {},
     "output_type": "display_data"
    }
   ],
   "source": [
    "view = md_sys.view_coor()\n",
    "view"
   ]
  },
  {
   "cell_type": "code",
   "execution_count": 19,
   "metadata": {},
   "outputs": [
    {
     "name": "stdout",
     "output_type": "stream",
     "text": [
      "-Solvate the pbc box\n",
      "Copy topologie file and dependancies\n",
      "Copy topologie file and dependancies\n",
      "-Create the tpr file genion_1GI2_water_ion.tpr\n",
      "gmx grompp -f ../../../../gromacs_py/template/mini.mdp -c 1GI2_water.pdb -r 1GI2_water.pdb -p 1GI2_water_ion.top -po out_mini.mdp -o genion_1GI2_water_ion.tpr -maxwarn 3\n",
      "-Add ions to the system with an ionic concentration of 0.15 M , sytem charge = 8.0 water num= 7708\n",
      "Add ions : NA : 21   CL : 29\n",
      "gmx genion -s genion_1GI2_water_ion.tpr -p 1GI2_water_ion.top -o 1GI2_water_ion.gro -np 21 -pname NA -nn 29 -nname CL\n",
      "name         : 1GI2\n",
      "sim_name     : genion_1GI2_water_ion\n",
      "coor_file    : data_lig_trypsin_1GI2/sys_top/1GI2_water_ion.gro\n",
      "top_file     : data_lig_trypsin_1GI2/sys_top/1GI2_water_ion.top\n",
      "tpr          : data_lig_trypsin_1GI2/sys_top/genion_1GI2_water_ion.tpr\n",
      "mdp          : ../../gromacs_py/template/mini.mdp\n",
      "xtc          : data_lig_trypsin_1GI2/prot_em/1GI2.trr\n",
      "edr          : data_lig_trypsin_1GI2/prot_em/1GI2.edr\n",
      "log          : data_lig_trypsin_1GI2/prot_em/1GI2.log\n",
      "nt           : 0\n",
      "ntmpi        : 0\n",
      "sys_history  : 2\n"
     ]
    }
   ],
   "source": [
    "md_sys.solvate_add_ions(out_folder=os.path.join(DATA_OUT, 'sys_top'),\n",
    "                        ion_C=0.15, maxwarn=3, create_box_flag=False)\n",
    "md_sys.display()\n"
   ]
  },
  {
   "cell_type": "code",
   "execution_count": 20,
   "metadata": {},
   "outputs": [
    {
     "name": "stdout",
     "output_type": "stream",
     "text": [
      "-Create the tpr file Init_em_1GI2.tpr\n",
      "gmx grompp -f Init_em_1GI2.mdp -c ../sys_top/1GI2_water_ion.gro -r ../sys_top/1GI2_water_ion.gro -p ../sys_top/1GI2_water_ion.top -po out_Init_em_1GI2.mdp -o Init_em_1GI2.tpr -maxwarn 3\n",
      "-Launch the simulation Init_em_1GI2.tpr\n",
      "gmx mdrun -s Init_em_1GI2.tpr -deffnm Init_em_1GI2 -nt 0 -ntmpi 0 -nsteps -2 -nocopyright\n"
     ]
    },
    {
     "data": {
      "application/vnd.jupyter.widget-view+json": {
       "model_id": "819885514ee34fe0aff4d4b01df0c2c8",
       "version_major": 2,
       "version_minor": 0
      },
      "text/plain": [
       "HBox(children=(FloatProgress(value=0.0, max=10000.0), HTML(value='')))"
      ]
     },
     "metadata": {},
     "output_type": "display_data"
    },
    {
     "name": "stdout",
     "output_type": "stream",
     "text": [
      "\n",
      "-Create the tpr file 1GI2.tpr\n",
      "gmx grompp -f 1GI2.mdp -c Init_em_1GI2.gro -r Init_em_1GI2.gro -p ../sys_top/1GI2_water_ion.top -po out_1GI2.mdp -o 1GI2.tpr -maxwarn 3\n",
      "-Launch the simulation 1GI2.tpr\n",
      "gmx mdrun -s 1GI2.tpr -deffnm 1GI2 -nt 0 -ntmpi 0 -nsteps -2 -nocopyright\n"
     ]
    },
    {
     "data": {
      "application/vnd.jupyter.widget-view+json": {
       "model_id": "ead640cabccd4f7f95a247cf7e0bc27e",
       "version_major": 2,
       "version_minor": 0
      },
      "text/plain": [
       "HBox(children=(FloatProgress(value=0.0, max=10000.0), HTML(value='')))"
      ]
     },
     "metadata": {},
     "output_type": "display_data"
    },
    {
     "name": "stdout",
     "output_type": "stream",
     "text": [
      "\n"
     ]
    }
   ],
   "source": [
    "md_sys.em_2_steps(out_folder=os.path.join(DATA_OUT, 'sys_em'),\n",
    "                  no_constr_nsteps=10000,\n",
    "                  constr_nsteps=10000,\n",
    "                  posres=\"\",maxwarn=3)"
   ]
  },
  {
   "cell_type": "code",
   "execution_count": 21,
   "metadata": {},
   "outputs": [
    {
     "name": "stdout",
     "output_type": "stream",
     "text": [
      "-Create the tpr file equi_HA_short_1GI2.tpr\n",
      "gmx grompp -f equi_HA_short_1GI2.mdp -c ../sys_em/1GI2.gro -r ../sys_em/1GI2.gro -p ../sys_top/1GI2_water_ion.top -po out_equi_HA_short_1GI2.mdp -o equi_HA_short_1GI2.tpr -maxwarn 3\n",
      "-Launch the simulation equi_HA_short_1GI2.tpr\n",
      "gmx mdrun -s equi_HA_short_1GI2.tpr -deffnm equi_HA_short_1GI2 -nt 0 -ntmpi 0 -nsteps -2 -nocopyright\n"
     ]
    },
    {
     "data": {
      "application/vnd.jupyter.widget-view+json": {
       "model_id": "236a33bcee934a71a179d00ccfd7ceb1",
       "version_major": 2,
       "version_minor": 0
      },
      "text/plain": [
       "HBox(children=(FloatProgress(value=0.0, max=20000.0), HTML(value='')))"
      ]
     },
     "metadata": {},
     "output_type": "display_data"
    },
    {
     "name": "stdout",
     "output_type": "stream",
     "text": [
      "\n"
     ]
    }
   ],
   "source": [
    "mdp_options = {'nsteps': 20000,\n",
    "               'define': '-DPOSRES', 'dt': 0.0005,\n",
    "               'tc-grps': 'Protein {} Water_and_ions'.format(MOL_ID),\n",
    "               'tau_t': '0.1 0.1 0.1',\n",
    "               'ref_t' : '310 310 310'}\n",
    "\n",
    "equi_template_mdp = os.path.join(gmx.GROMACS_MOD_DIRNAME,\n",
    "                                 \"template/equi.mdp\")\n",
    "md_sys.run_md_sim(out_folder=os.path.join(DATA_OUT, \"sys_short_equi\"),\n",
    "                  name=\"equi_HA_short_\" + PDB_ID,\n",
    "                  mdp_template=equi_template_mdp,\n",
    "                  mdp_options=mdp_options, maxwarn=3)"
   ]
  },
  {
   "cell_type": "code",
   "execution_count": 22,
   "metadata": {
    "scrolled": false
   },
   "outputs": [
    {
     "name": "stdout",
     "output_type": "stream",
     "text": [
      "-Create the tpr file equi_HA_1GI2.tpr\n",
      "gmx grompp -f equi_HA_1GI2.mdp -c ../../sys_short_equi/equi_HA_short_1GI2.gro -r ../../sys_short_equi/equi_HA_short_1GI2.gro -p ../../sys_top/1GI2_water_ion.top -po out_equi_HA_1GI2.mdp -o equi_HA_1GI2.tpr -maxwarn 3\n",
      "-Launch the simulation equi_HA_1GI2.tpr\n",
      "gmx mdrun -s equi_HA_1GI2.tpr -deffnm equi_HA_1GI2 -nt 0 -ntmpi 0 -nsteps -2 -nocopyright\n"
     ]
    },
    {
     "data": {
      "application/vnd.jupyter.widget-view+json": {
       "model_id": "51821eb118c34e33997e7ad5b8acef66",
       "version_major": 2,
       "version_minor": 0
      },
      "text/plain": [
       "HBox(children=(FloatProgress(value=0.0, max=250000.0), HTML(value='')))"
      ]
     },
     "metadata": {},
     "output_type": "display_data"
    },
    {
     "name": "stdout",
     "output_type": "stream",
     "text": [
      "\n",
      "-Create the tpr file equi_CA_1GI2.tpr\n",
      "gmx grompp -f equi_CA_1GI2.mdp -c ../00_equi_HA/equi_HA_1GI2.gro -r ../../sys_short_equi/equi_HA_short_1GI2.gro -p ../../sys_top/1GI2_water_ion.top -po out_equi_CA_1GI2.mdp -o equi_CA_1GI2.tpr -maxwarn 3\n",
      "-Launch the simulation equi_CA_1GI2.tpr\n",
      "gmx mdrun -s equi_CA_1GI2.tpr -deffnm equi_CA_1GI2 -nt 0 -ntmpi 0 -nsteps -2 -nocopyright\n"
     ]
    },
    {
     "data": {
      "application/vnd.jupyter.widget-view+json": {
       "model_id": "d4542ed7d067474ba49bd7706b63a931",
       "version_major": 2,
       "version_minor": 0
      },
      "text/plain": [
       "HBox(children=(FloatProgress(value=0.0, max=250000.0), HTML(value='')))"
      ]
     },
     "metadata": {},
     "output_type": "display_data"
    },
    {
     "name": "stdout",
     "output_type": "stream",
     "text": [
      "\n",
      "-Create the tpr file equi_CA_LOW_1GI2.tpr\n",
      "gmx grompp -f equi_CA_LOW_1GI2.mdp -c ../01_equi_CA/equi_CA_1GI2.gro -r ../../sys_short_equi/equi_HA_short_1GI2.gro -p ../../sys_top/1GI2_water_ion.top -po out_equi_CA_LOW_1GI2.mdp -o equi_CA_LOW_1GI2.tpr -maxwarn 3\n",
      "-Launch the simulation equi_CA_LOW_1GI2.tpr\n",
      "gmx mdrun -s equi_CA_LOW_1GI2.tpr -deffnm equi_CA_LOW_1GI2 -nt 0 -ntmpi 0 -nsteps -2 -nocopyright\n"
     ]
    },
    {
     "data": {
      "application/vnd.jupyter.widget-view+json": {
       "model_id": "7949e46397494453bef6b42d217bb7fd",
       "version_major": 2,
       "version_minor": 0
      },
      "text/plain": [
       "HBox(children=(FloatProgress(value=0.0, max=500000.0), HTML(value='')))"
      ]
     },
     "metadata": {},
     "output_type": "display_data"
    },
    {
     "name": "stdout",
     "output_type": "stream",
     "text": [
      "\n"
     ]
    }
   ],
   "source": [
    "HA_time = 0.25\n",
    "CA_time = 0.5\n",
    "CA_LOW_time = 1.0\n",
    "dt = 0.002\n",
    "dt_HA = 0.001\n",
    "\n",
    "md_sys.equi_three_step(out_folder=os.path.join(DATA_OUT, 'sys_equi'),\n",
    "                                     nsteps_HA=1000 * HA_time / dt_HA,\n",
    "                                     nsteps_CA=1000 * CA_time / dt,\n",
    "                                     nsteps_CA_LOW=1000 * CA_LOW_time / dt,\n",
    "                                     dt=dt, dt_HA=dt_HA, maxwarn=3)\n"
   ]
  },
  {
   "cell_type": "code",
   "execution_count": 26,
   "metadata": {},
   "outputs": [
    {
     "ename": "ImportError",
     "evalue": "'SimpletrajTrajectory' requires the 'simpletraj' package",
     "output_type": "error",
     "traceback": [
      "\u001b[0;31m---------------------------------------------------------------------------\u001b[0m",
      "\u001b[0;31mModuleNotFoundError\u001b[0m                       Traceback (most recent call last)",
      "\u001b[0;32m~/miniconda3/lib/python3.7/site-packages/nglview/adaptor.py\u001b[0m in \u001b[0;36m__init__\u001b[0;34m(self, path, structure_path)\u001b[0m\n\u001b[1;32m    274\u001b[0m         \u001b[0;32mtry\u001b[0m\u001b[0;34m:\u001b[0m\u001b[0;34m\u001b[0m\u001b[0;34m\u001b[0m\u001b[0m\n\u001b[0;32m--> 275\u001b[0;31m             \u001b[0;32mimport\u001b[0m \u001b[0msimpletraj\u001b[0m\u001b[0;34m\u001b[0m\u001b[0;34m\u001b[0m\u001b[0m\n\u001b[0m\u001b[1;32m    276\u001b[0m         \u001b[0;32mexcept\u001b[0m \u001b[0mImportError\u001b[0m \u001b[0;32mas\u001b[0m \u001b[0me\u001b[0m\u001b[0;34m:\u001b[0m\u001b[0;34m\u001b[0m\u001b[0;34m\u001b[0m\u001b[0m\n",
      "\u001b[0;31mModuleNotFoundError\u001b[0m: No module named 'simpletraj'",
      "\nDuring handling of the above exception, another exception occurred:\n",
      "\u001b[0;31mImportError\u001b[0m                               Traceback (most recent call last)",
      "\u001b[0;32m<ipython-input-26-a75d52cdf474>\u001b[0m in \u001b[0;36m<module>\u001b[0;34m\u001b[0m\n\u001b[0;32m----> 1\u001b[0;31m \u001b[0mview\u001b[0m \u001b[0;34m=\u001b[0m \u001b[0mmd_sys\u001b[0m\u001b[0;34m.\u001b[0m\u001b[0mview_traj\u001b[0m\u001b[0;34m(\u001b[0m\u001b[0;34m)\u001b[0m\u001b[0;34m\u001b[0m\u001b[0;34m\u001b[0m\u001b[0m\n\u001b[0m\u001b[1;32m      2\u001b[0m \u001b[0mview\u001b[0m\u001b[0;34m\u001b[0m\u001b[0;34m\u001b[0m\u001b[0m\n",
      "\u001b[0;32m~/Documents/Code/gromacs_py/gromacs_py/gmx.py\u001b[0m in \u001b[0;36mview_traj\u001b[0;34m(self)\u001b[0m\n\u001b[1;32m   1909\u001b[0m         \u001b[0;32mimport\u001b[0m \u001b[0mnglview\u001b[0m \u001b[0;32mas\u001b[0m \u001b[0mnv\u001b[0m\u001b[0;34m\u001b[0m\u001b[0;34m\u001b[0m\u001b[0m\n\u001b[1;32m   1910\u001b[0m \u001b[0;34m\u001b[0m\u001b[0m\n\u001b[0;32m-> 1911\u001b[0;31m         \u001b[0msimple_traj\u001b[0m \u001b[0;34m=\u001b[0m \u001b[0mnv\u001b[0m\u001b[0;34m.\u001b[0m\u001b[0mSimpletrajTrajectory\u001b[0m\u001b[0;34m(\u001b[0m\u001b[0mself\u001b[0m\u001b[0;34m.\u001b[0m\u001b[0mxtc\u001b[0m\u001b[0;34m,\u001b[0m \u001b[0mself\u001b[0m\u001b[0;34m.\u001b[0m\u001b[0mcoor_file\u001b[0m\u001b[0;34m)\u001b[0m\u001b[0;34m\u001b[0m\u001b[0;34m\u001b[0m\u001b[0m\n\u001b[0m\u001b[1;32m   1912\u001b[0m         \u001b[0;32mreturn\u001b[0m \u001b[0mnv\u001b[0m\u001b[0;34m.\u001b[0m\u001b[0mNGLWidget\u001b[0m\u001b[0;34m(\u001b[0m\u001b[0msimple_traj\u001b[0m\u001b[0;34m)\u001b[0m\u001b[0;34m\u001b[0m\u001b[0;34m\u001b[0m\u001b[0m\n\u001b[1;32m   1913\u001b[0m \u001b[0;34m\u001b[0m\u001b[0m\n",
      "\u001b[0;32m~/miniconda3/lib/python3.7/site-packages/nglview/adaptor.py\u001b[0m in \u001b[0;36m__init__\u001b[0;34m(self, path, structure_path)\u001b[0m\n\u001b[1;32m    276\u001b[0m         \u001b[0;32mexcept\u001b[0m \u001b[0mImportError\u001b[0m \u001b[0;32mas\u001b[0m \u001b[0me\u001b[0m\u001b[0;34m:\u001b[0m\u001b[0;34m\u001b[0m\u001b[0;34m\u001b[0m\u001b[0m\n\u001b[1;32m    277\u001b[0m             raise ImportError(\n\u001b[0;32m--> 278\u001b[0;31m                 \"'SimpletrajTrajectory' requires the 'simpletraj' package\")\n\u001b[0m\u001b[1;32m    279\u001b[0m         \u001b[0mself\u001b[0m\u001b[0;34m.\u001b[0m\u001b[0mtraj_cache\u001b[0m \u001b[0;34m=\u001b[0m \u001b[0msimpletraj\u001b[0m\u001b[0;34m.\u001b[0m\u001b[0mtrajectory\u001b[0m\u001b[0;34m.\u001b[0m\u001b[0mTrajectoryCache\u001b[0m\u001b[0;34m(\u001b[0m\u001b[0;34m)\u001b[0m\u001b[0;34m\u001b[0m\u001b[0;34m\u001b[0m\u001b[0m\n\u001b[1;32m    280\u001b[0m         \u001b[0mself\u001b[0m\u001b[0;34m.\u001b[0m\u001b[0mpath\u001b[0m \u001b[0;34m=\u001b[0m \u001b[0mpath\u001b[0m\u001b[0;34m\u001b[0m\u001b[0;34m\u001b[0m\u001b[0m\n",
      "\u001b[0;31mImportError\u001b[0m: 'SimpletrajTrajectory' requires the 'simpletraj' package"
     ]
    }
   ],
   "source": [
    "view = md_sys.view_traj()\n",
    "view"
   ]
  },
  {
   "cell_type": "code",
   "execution_count": 32,
   "metadata": {},
   "outputs": [],
   "source": [
    "start_sys = copy.deepcopy(md_sys)"
   ]
  },
  {
   "cell_type": "code",
   "execution_count": 33,
   "metadata": {},
   "outputs": [
    {
     "name": "stdout",
     "output_type": "stream",
     "text": [
      "/home/murail/Documents/Code/gromacs_py/docs/notebook\n"
     ]
    }
   ],
   "source": [
    "cd /home/murail/Documents/Code/gromacs_py/docs/notebook/"
   ]
  },
  {
   "cell_type": "code",
   "execution_count": 34,
   "metadata": {},
   "outputs": [],
   "source": [
    "#rm -r data_lig_trypsin/free_test_2"
   ]
  },
  {
   "cell_type": "markdown",
   "metadata": {},
   "source": [
    "## Free energy calculation of binding\n",
    "\n",
    "```\n",
    "point      0 -      1,   DG 43.22 +/-  0.32\n",
    "point      1 -      2,   DG 39.30 +/-  0.20\n",
    "point      2 -      3,   DG 34.61 +/-  0.22\n",
    "point      3 -      4,   DG 30.03 +/-  0.26\n",
    "point      4 -      5,   DG 26.29 +/-  0.12\n",
    "point      5 -      6,   DG 22.48 +/-  0.19\n",
    "point      6 -      7,   DG 18.60 +/-  0.31\n",
    "point      7 -      8,   DG 16.04 +/-  0.43\n",
    "point      8 -      9,   DG 12.41 +/-  0.55\n",
    "point      9 -     10,   DG  7.56 +/-  0.65\n",
    "point     10 -     11,   DG 11.13 +/-  0.16\n",
    "point     11 -     12,   DG 10.94 +/-  0.12\n",
    "point     12 -     13,   DG 10.27 +/-  0.33\n",
    "point     13 -     14,   DG  9.46 +/-  0.18\n",
    "point     14 -     15,   DG  8.84 +/-  0.40\n",
    "point     15 -     16,   DG  6.52 +/-  0.23\n",
    "point     16 -     17,   DG  1.31 +/-  1.79\n",
    "point     17 -     18,   DG -4.80 +/-  2.10\n",
    "point     18 -     19,   DG -7.12 +/-  0.53\n",
    "point     19 -     20,   DG -5.49 +/-  0.94\n",
    "\n",
    "total      0 -     20,   DG 291.59 +/-  6.12\n",
    "```\n",
    "\n",
    "Coulomb = 250.5 KJ/mol\n",
    "LJ =       41.06 KJ/mol\n",
    "\n",
    "```\n",
    "\n",
    "point      0 -      1,   DG  1.10 +/-  0.11\n",
    "point      1 -      2,   DG  0.65 +/-  0.05\n",
    "point      2 -      3,   DG  0.49 +/-  0.03\n",
    "point      3 -      4,   DG  0.40 +/-  0.02\n",
    "point      4 -      5,   DG  0.40 +/-  0.03\n",
    "point      5 -      6,   DG 82.68 +/-  0.24\n",
    "point      6 -      7,   DG 68.01 +/-  0.41\n",
    "point      7 -      8,   DG 51.16 +/-  0.91\n",
    "point      8 -      9,   DG 35.90 +/-  0.76\n",
    "point      9 -     10,   DG 23.08 +/-  0.35\n",
    "\n",
    "total      0 -     10,   DG 263.86 +/-  1.46\n",
    "```\n",
    "\n",
    "Rest = 3.04 KJ/mol\n",
    "Coulomb = 260.83 KJ/mol"
   ]
  },
  {
   "cell_type": "code",
   "execution_count": null,
   "metadata": {},
   "outputs": [],
   "source": [
    "sum([ 11.13,\n",
    "10.94,\n",
    "10.27,\n",
    " 9.46,\n",
    " 8.84,\n",
    " 6.52,\n",
    " 1.31,\n",
    "-4.80,\n",
    "-7.12,\n",
    "-5.49])"
   ]
  },
  {
   "cell_type": "code",
   "execution_count": null,
   "metadata": {
    "scrolled": true
   },
   "outputs": [
    {
     "name": "stdout",
     "output_type": "stream",
     "text": [
      "Coulomb lambda :0.00 0.00 0.00 0.00 0.00 0.00 0.20 0.40 0.60 0.80 1.00 1.00 1.00 1.00 1.00 1.00 1.00 1.00 1.00 1.00 1.00 \n",
      "Vdw lambda     :0.00 0.00 0.00 0.00 0.00 0.00 0.00 0.00 0.00 0.00 0.00 0.10 0.20 0.30 0.40 0.50 0.60 0.70 0.80 0.90 1.00 \n",
      "bond_lambdas   :0.00 0.20 0.40 0.60 0.80 1.00 1.00 1.00 1.00 1.00 1.00 1.00 1.00 1.00 1.00 1.00 1.00 1.00 1.00 1.00 1.00 \n"
     ]
    },
    {
     "data": {
      "application/vnd.jupyter.widget-view+json": {
       "model_id": "e9e3a5b4963a424bb14f90d3b86a1b54",
       "version_major": 2,
       "version_minor": 0
      },
      "text/plain": [
       "HBox(children=(FloatProgress(value=0.0, max=1365000.0), HTML(value='')))"
      ]
     },
     "metadata": {},
     "output_type": "display_data"
    },
    {
     "name": "stdout",
     "output_type": "stream",
     "text": [
      "-Create the tpr file em_1GI2_vdwq_00.tpr\n",
      "gmx grompp -f em_1GI2_vdwq_00.mdp -c ../../sys_equi/02_equi_CA_LOW/equi_CA_LOW_1GI2.gro -r ../../sys_equi/02_equi_CA_LOW/equi_CA_LOW_1GI2.gro -p ../../sys_top/1GI2_water_ion.top -po out_em_1GI2_vdwq_00.mdp -o em_1GI2_vdwq_00.tpr -maxwarn 1\n",
      "-Launch the simulation em_1GI2_vdwq_00.tpr\n",
      "gmx mdrun -s em_1GI2_vdwq_00.tpr -deffnm em_1GI2_vdwq_00 -nt 0 -ntmpi 0 -nsteps -2 -nocopyright\n"
     ]
    },
    {
     "data": {
      "application/vnd.jupyter.widget-view+json": {
       "model_id": "f2f82b883e0b42eda89aaa447129628e",
       "version_major": 2,
       "version_minor": 0
      },
      "text/plain": [
       "HBox(children=(FloatProgress(value=0.0, max=5000.0), HTML(value='')))"
      ]
     },
     "metadata": {},
     "output_type": "display_data"
    },
    {
     "name": "stdout",
     "output_type": "stream",
     "text": [
      "\n",
      "-Create the tpr file nvt_1GI2_vdwq_00.tpr\n",
      "gmx grompp -f nvt_1GI2_vdwq_00.mdp -c ../00_em/em_1GI2_vdwq_00.gro -r ../00_em/em_1GI2_vdwq_00.gro -p ../../sys_top/1GI2_water_ion.top -po out_nvt_1GI2_vdwq_00.mdp -o nvt_1GI2_vdwq_00.tpr -maxwarn 1\n",
      "-Launch the simulation nvt_1GI2_vdwq_00.tpr\n",
      "gmx mdrun -s nvt_1GI2_vdwq_00.tpr -deffnm nvt_1GI2_vdwq_00 -nt 0 -ntmpi 0 -nsteps -2 -nocopyright\n"
     ]
    },
    {
     "data": {
      "application/vnd.jupyter.widget-view+json": {
       "model_id": "a07d3c12357445baa0906b9d165ecb90",
       "version_major": 2,
       "version_minor": 0
      },
      "text/plain": [
       "HBox(children=(FloatProgress(value=0.0, max=5000.0), HTML(value='')))"
      ]
     },
     "metadata": {},
     "output_type": "display_data"
    },
    {
     "name": "stdout",
     "output_type": "stream",
     "text": [
      "\n",
      "-Create the tpr file npt_1GI2_vdwq_00.tpr\n",
      "gmx grompp -f npt_1GI2_vdwq_00.mdp -c ../01_equi_nvt/nvt_1GI2_vdwq_00.gro -r ../01_equi_nvt/nvt_1GI2_vdwq_00.gro -p ../../sys_top/1GI2_water_ion.top -po out_npt_1GI2_vdwq_00.mdp -o npt_1GI2_vdwq_00.tpr -maxwarn 1\n",
      "-Launch the simulation npt_1GI2_vdwq_00.tpr\n",
      "gmx mdrun -s npt_1GI2_vdwq_00.tpr -deffnm npt_1GI2_vdwq_00 -nt 0 -ntmpi 0 -nsteps -2 -nocopyright\n"
     ]
    },
    {
     "data": {
      "application/vnd.jupyter.widget-view+json": {
       "model_id": "2d8114560c944e1c8fb2f8613655eebc",
       "version_major": 2,
       "version_minor": 0
      },
      "text/plain": [
       "HBox(children=(FloatProgress(value=0.0, max=5000.0), HTML(value='')))"
      ]
     },
     "metadata": {},
     "output_type": "display_data"
    },
    {
     "name": "stdout",
     "output_type": "stream",
     "text": [
      "\n",
      "-Create the tpr file prod_1GI2_vdwq_00.tpr\n",
      "gmx grompp -f prod_1GI2_vdwq_00.mdp -c ../02_equi_npt/npt_1GI2_vdwq_00.gro -r ../02_equi_npt/npt_1GI2_vdwq_00.gro -p ../../sys_top/1GI2_water_ion.top -po out_prod_1GI2_vdwq_00.mdp -o prod_1GI2_vdwq_00.tpr -maxwarn 1\n",
      "-Launch the simulation prod_1GI2_vdwq_00.tpr\n",
      "gmx mdrun -s prod_1GI2_vdwq_00.tpr -deffnm prod_1GI2_vdwq_00 -nt 0 -ntmpi 0 -nsteps -2 -nocopyright\n"
     ]
    },
    {
     "data": {
      "application/vnd.jupyter.widget-view+json": {
       "model_id": "51ddae2748974689b048f4498dfe9a4e",
       "version_major": 2,
       "version_minor": 0
      },
      "text/plain": [
       "HBox(children=(FloatProgress(value=0.0, max=50000.0), HTML(value='')))"
      ]
     },
     "metadata": {},
     "output_type": "display_data"
    },
    {
     "name": "stdout",
     "output_type": "stream",
     "text": [
      "\n",
      "-Create the tpr file em_1GI2_vdwq_01.tpr\n",
      "gmx grompp -f em_1GI2_vdwq_01.mdp -c ../../sys_equi/02_equi_CA_LOW/equi_CA_LOW_1GI2.gro -r ../../sys_equi/02_equi_CA_LOW/equi_CA_LOW_1GI2.gro -p ../../sys_top/1GI2_water_ion.top -po out_em_1GI2_vdwq_01.mdp -o em_1GI2_vdwq_01.tpr -maxwarn 1\n",
      "-Launch the simulation em_1GI2_vdwq_01.tpr\n",
      "gmx mdrun -s em_1GI2_vdwq_01.tpr -deffnm em_1GI2_vdwq_01 -nt 0 -ntmpi 0 -nsteps -2 -nocopyright\n"
     ]
    },
    {
     "data": {
      "application/vnd.jupyter.widget-view+json": {
       "model_id": "67cf57bf128f42ebb5b0bca3b235d93c",
       "version_major": 2,
       "version_minor": 0
      },
      "text/plain": [
       "HBox(children=(FloatProgress(value=0.0, max=5000.0), HTML(value='')))"
      ]
     },
     "metadata": {},
     "output_type": "display_data"
    },
    {
     "name": "stdout",
     "output_type": "stream",
     "text": [
      "\n",
      "-Create the tpr file nvt_1GI2_vdwq_01.tpr\n",
      "gmx grompp -f nvt_1GI2_vdwq_01.mdp -c ../00_em/em_1GI2_vdwq_01.gro -r ../00_em/em_1GI2_vdwq_01.gro -p ../../sys_top/1GI2_water_ion.top -po out_nvt_1GI2_vdwq_01.mdp -o nvt_1GI2_vdwq_01.tpr -maxwarn 1\n",
      "-Launch the simulation nvt_1GI2_vdwq_01.tpr\n",
      "gmx mdrun -s nvt_1GI2_vdwq_01.tpr -deffnm nvt_1GI2_vdwq_01 -nt 0 -ntmpi 0 -nsteps -2 -nocopyright\n"
     ]
    },
    {
     "data": {
      "application/vnd.jupyter.widget-view+json": {
       "model_id": "0c70da66548b4624bcb2a3baf56a1b49",
       "version_major": 2,
       "version_minor": 0
      },
      "text/plain": [
       "HBox(children=(FloatProgress(value=0.0, max=5000.0), HTML(value='')))"
      ]
     },
     "metadata": {},
     "output_type": "display_data"
    },
    {
     "name": "stdout",
     "output_type": "stream",
     "text": [
      "\n",
      "-Create the tpr file npt_1GI2_vdwq_01.tpr\n",
      "gmx grompp -f npt_1GI2_vdwq_01.mdp -c ../01_equi_nvt/nvt_1GI2_vdwq_01.gro -r ../01_equi_nvt/nvt_1GI2_vdwq_01.gro -p ../../sys_top/1GI2_water_ion.top -po out_npt_1GI2_vdwq_01.mdp -o npt_1GI2_vdwq_01.tpr -maxwarn 1\n",
      "-Launch the simulation npt_1GI2_vdwq_01.tpr\n",
      "gmx mdrun -s npt_1GI2_vdwq_01.tpr -deffnm npt_1GI2_vdwq_01 -nt 0 -ntmpi 0 -nsteps -2 -nocopyright\n"
     ]
    },
    {
     "data": {
      "application/vnd.jupyter.widget-view+json": {
       "model_id": "4bcd13b36e1c44cd9b110995b2fef3b7",
       "version_major": 2,
       "version_minor": 0
      },
      "text/plain": [
       "HBox(children=(FloatProgress(value=0.0, max=5000.0), HTML(value='')))"
      ]
     },
     "metadata": {},
     "output_type": "display_data"
    },
    {
     "name": "stdout",
     "output_type": "stream",
     "text": [
      "\n",
      "-Create the tpr file prod_1GI2_vdwq_01.tpr\n",
      "gmx grompp -f prod_1GI2_vdwq_01.mdp -c ../02_equi_npt/npt_1GI2_vdwq_01.gro -r ../02_equi_npt/npt_1GI2_vdwq_01.gro -p ../../sys_top/1GI2_water_ion.top -po out_prod_1GI2_vdwq_01.mdp -o prod_1GI2_vdwq_01.tpr -maxwarn 1\n",
      "-Launch the simulation prod_1GI2_vdwq_01.tpr\n",
      "gmx mdrun -s prod_1GI2_vdwq_01.tpr -deffnm prod_1GI2_vdwq_01 -nt 0 -ntmpi 0 -nsteps -2 -nocopyright\n"
     ]
    },
    {
     "data": {
      "application/vnd.jupyter.widget-view+json": {
       "model_id": "7d199dd0a3a64919ad18a81f73f007d7",
       "version_major": 2,
       "version_minor": 0
      },
      "text/plain": [
       "HBox(children=(FloatProgress(value=0.0, max=50000.0), HTML(value='')))"
      ]
     },
     "metadata": {},
     "output_type": "display_data"
    },
    {
     "name": "stdout",
     "output_type": "stream",
     "text": [
      "\n",
      "-Create the tpr file em_1GI2_vdwq_02.tpr\n",
      "gmx grompp -f em_1GI2_vdwq_02.mdp -c ../../sys_equi/02_equi_CA_LOW/equi_CA_LOW_1GI2.gro -r ../../sys_equi/02_equi_CA_LOW/equi_CA_LOW_1GI2.gro -p ../../sys_top/1GI2_water_ion.top -po out_em_1GI2_vdwq_02.mdp -o em_1GI2_vdwq_02.tpr -maxwarn 1\n",
      "-Launch the simulation em_1GI2_vdwq_02.tpr\n",
      "gmx mdrun -s em_1GI2_vdwq_02.tpr -deffnm em_1GI2_vdwq_02 -nt 0 -ntmpi 0 -nsteps -2 -nocopyright\n"
     ]
    },
    {
     "data": {
      "application/vnd.jupyter.widget-view+json": {
       "model_id": "6279e50c881443069ba724e99e0a799d",
       "version_major": 2,
       "version_minor": 0
      },
      "text/plain": [
       "HBox(children=(FloatProgress(value=0.0, max=5000.0), HTML(value='')))"
      ]
     },
     "metadata": {},
     "output_type": "display_data"
    },
    {
     "name": "stdout",
     "output_type": "stream",
     "text": [
      "\n",
      "-Create the tpr file nvt_1GI2_vdwq_02.tpr\n",
      "gmx grompp -f nvt_1GI2_vdwq_02.mdp -c ../00_em/em_1GI2_vdwq_02.gro -r ../00_em/em_1GI2_vdwq_02.gro -p ../../sys_top/1GI2_water_ion.top -po out_nvt_1GI2_vdwq_02.mdp -o nvt_1GI2_vdwq_02.tpr -maxwarn 1\n",
      "-Launch the simulation nvt_1GI2_vdwq_02.tpr\n",
      "gmx mdrun -s nvt_1GI2_vdwq_02.tpr -deffnm nvt_1GI2_vdwq_02 -nt 0 -ntmpi 0 -nsteps -2 -nocopyright\n"
     ]
    },
    {
     "data": {
      "application/vnd.jupyter.widget-view+json": {
       "model_id": "439b955a46414281bf49f8de22c5a6a6",
       "version_major": 2,
       "version_minor": 0
      },
      "text/plain": [
       "HBox(children=(FloatProgress(value=0.0, max=5000.0), HTML(value='')))"
      ]
     },
     "metadata": {},
     "output_type": "display_data"
    },
    {
     "name": "stdout",
     "output_type": "stream",
     "text": [
      "\n",
      "-Create the tpr file npt_1GI2_vdwq_02.tpr\n",
      "gmx grompp -f npt_1GI2_vdwq_02.mdp -c ../01_equi_nvt/nvt_1GI2_vdwq_02.gro -r ../01_equi_nvt/nvt_1GI2_vdwq_02.gro -p ../../sys_top/1GI2_water_ion.top -po out_npt_1GI2_vdwq_02.mdp -o npt_1GI2_vdwq_02.tpr -maxwarn 1\n",
      "-Launch the simulation npt_1GI2_vdwq_02.tpr\n",
      "gmx mdrun -s npt_1GI2_vdwq_02.tpr -deffnm npt_1GI2_vdwq_02 -nt 0 -ntmpi 0 -nsteps -2 -nocopyright\n"
     ]
    },
    {
     "data": {
      "application/vnd.jupyter.widget-view+json": {
       "model_id": "eb47e942f6fd400eac5af92d957e8673",
       "version_major": 2,
       "version_minor": 0
      },
      "text/plain": [
       "HBox(children=(FloatProgress(value=0.0, max=5000.0), HTML(value='')))"
      ]
     },
     "metadata": {},
     "output_type": "display_data"
    },
    {
     "name": "stdout",
     "output_type": "stream",
     "text": [
      "\n",
      "-Create the tpr file prod_1GI2_vdwq_02.tpr\n",
      "gmx grompp -f prod_1GI2_vdwq_02.mdp -c ../02_equi_npt/npt_1GI2_vdwq_02.gro -r ../02_equi_npt/npt_1GI2_vdwq_02.gro -p ../../sys_top/1GI2_water_ion.top -po out_prod_1GI2_vdwq_02.mdp -o prod_1GI2_vdwq_02.tpr -maxwarn 1\n",
      "-Launch the simulation prod_1GI2_vdwq_02.tpr\n",
      "gmx mdrun -s prod_1GI2_vdwq_02.tpr -deffnm prod_1GI2_vdwq_02 -nt 0 -ntmpi 0 -nsteps -2 -nocopyright\n"
     ]
    },
    {
     "data": {
      "application/vnd.jupyter.widget-view+json": {
       "model_id": "8995d9a2af6147c39a36ce8e12c7b8ab",
       "version_major": 2,
       "version_minor": 0
      },
      "text/plain": [
       "HBox(children=(FloatProgress(value=0.0, max=50000.0), HTML(value='')))"
      ]
     },
     "metadata": {},
     "output_type": "display_data"
    },
    {
     "name": "stdout",
     "output_type": "stream",
     "text": [
      "\n",
      "-Create the tpr file em_1GI2_vdwq_03.tpr\n",
      "gmx grompp -f em_1GI2_vdwq_03.mdp -c ../../sys_equi/02_equi_CA_LOW/equi_CA_LOW_1GI2.gro -r ../../sys_equi/02_equi_CA_LOW/equi_CA_LOW_1GI2.gro -p ../../sys_top/1GI2_water_ion.top -po out_em_1GI2_vdwq_03.mdp -o em_1GI2_vdwq_03.tpr -maxwarn 1\n",
      "-Launch the simulation em_1GI2_vdwq_03.tpr\n",
      "gmx mdrun -s em_1GI2_vdwq_03.tpr -deffnm em_1GI2_vdwq_03 -nt 0 -ntmpi 0 -nsteps -2 -nocopyright\n"
     ]
    },
    {
     "data": {
      "application/vnd.jupyter.widget-view+json": {
       "model_id": "4af0c87d65bc48bdb42faf2a400103c8",
       "version_major": 2,
       "version_minor": 0
      },
      "text/plain": [
       "HBox(children=(FloatProgress(value=0.0, max=5000.0), HTML(value='')))"
      ]
     },
     "metadata": {},
     "output_type": "display_data"
    },
    {
     "name": "stdout",
     "output_type": "stream",
     "text": [
      "\n",
      "-Create the tpr file nvt_1GI2_vdwq_03.tpr\n",
      "gmx grompp -f nvt_1GI2_vdwq_03.mdp -c ../00_em/em_1GI2_vdwq_03.gro -r ../00_em/em_1GI2_vdwq_03.gro -p ../../sys_top/1GI2_water_ion.top -po out_nvt_1GI2_vdwq_03.mdp -o nvt_1GI2_vdwq_03.tpr -maxwarn 1\n",
      "-Launch the simulation nvt_1GI2_vdwq_03.tpr\n",
      "gmx mdrun -s nvt_1GI2_vdwq_03.tpr -deffnm nvt_1GI2_vdwq_03 -nt 0 -ntmpi 0 -nsteps -2 -nocopyright\n"
     ]
    },
    {
     "data": {
      "application/vnd.jupyter.widget-view+json": {
       "model_id": "38156b9f533e4b9890afa48e6a6a102c",
       "version_major": 2,
       "version_minor": 0
      },
      "text/plain": [
       "HBox(children=(FloatProgress(value=0.0, max=5000.0), HTML(value='')))"
      ]
     },
     "metadata": {},
     "output_type": "display_data"
    },
    {
     "name": "stdout",
     "output_type": "stream",
     "text": [
      "\n",
      "-Create the tpr file npt_1GI2_vdwq_03.tpr\n",
      "gmx grompp -f npt_1GI2_vdwq_03.mdp -c ../01_equi_nvt/nvt_1GI2_vdwq_03.gro -r ../01_equi_nvt/nvt_1GI2_vdwq_03.gro -p ../../sys_top/1GI2_water_ion.top -po out_npt_1GI2_vdwq_03.mdp -o npt_1GI2_vdwq_03.tpr -maxwarn 1\n",
      "-Launch the simulation npt_1GI2_vdwq_03.tpr\n",
      "gmx mdrun -s npt_1GI2_vdwq_03.tpr -deffnm npt_1GI2_vdwq_03 -nt 0 -ntmpi 0 -nsteps -2 -nocopyright\n"
     ]
    },
    {
     "data": {
      "application/vnd.jupyter.widget-view+json": {
       "model_id": "a4608c183af6420abe49a80592b9ab9e",
       "version_major": 2,
       "version_minor": 0
      },
      "text/plain": [
       "HBox(children=(FloatProgress(value=0.0, max=5000.0), HTML(value='')))"
      ]
     },
     "metadata": {},
     "output_type": "display_data"
    },
    {
     "name": "stdout",
     "output_type": "stream",
     "text": [
      "\n",
      "-Create the tpr file prod_1GI2_vdwq_03.tpr\n",
      "gmx grompp -f prod_1GI2_vdwq_03.mdp -c ../02_equi_npt/npt_1GI2_vdwq_03.gro -r ../02_equi_npt/npt_1GI2_vdwq_03.gro -p ../../sys_top/1GI2_water_ion.top -po out_prod_1GI2_vdwq_03.mdp -o prod_1GI2_vdwq_03.tpr -maxwarn 1\n",
      "-Launch the simulation prod_1GI2_vdwq_03.tpr\n",
      "gmx mdrun -s prod_1GI2_vdwq_03.tpr -deffnm prod_1GI2_vdwq_03 -nt 0 -ntmpi 0 -nsteps -2 -nocopyright\n"
     ]
    },
    {
     "data": {
      "application/vnd.jupyter.widget-view+json": {
       "model_id": "f114214e652b47acbfb502e48b034420",
       "version_major": 2,
       "version_minor": 0
      },
      "text/plain": [
       "HBox(children=(FloatProgress(value=0.0, max=50000.0), HTML(value='')))"
      ]
     },
     "metadata": {},
     "output_type": "display_data"
    },
    {
     "name": "stdout",
     "output_type": "stream",
     "text": [
      "\n",
      "-Create the tpr file em_1GI2_vdwq_04.tpr\n",
      "gmx grompp -f em_1GI2_vdwq_04.mdp -c ../../sys_equi/02_equi_CA_LOW/equi_CA_LOW_1GI2.gro -r ../../sys_equi/02_equi_CA_LOW/equi_CA_LOW_1GI2.gro -p ../../sys_top/1GI2_water_ion.top -po out_em_1GI2_vdwq_04.mdp -o em_1GI2_vdwq_04.tpr -maxwarn 1\n",
      "-Launch the simulation em_1GI2_vdwq_04.tpr\n",
      "gmx mdrun -s em_1GI2_vdwq_04.tpr -deffnm em_1GI2_vdwq_04 -nt 0 -ntmpi 0 -nsteps -2 -nocopyright\n"
     ]
    },
    {
     "data": {
      "application/vnd.jupyter.widget-view+json": {
       "model_id": "209807d7a21045e4af8d2feab65a3223",
       "version_major": 2,
       "version_minor": 0
      },
      "text/plain": [
       "HBox(children=(FloatProgress(value=0.0, max=5000.0), HTML(value='')))"
      ]
     },
     "metadata": {},
     "output_type": "display_data"
    },
    {
     "name": "stdout",
     "output_type": "stream",
     "text": [
      "\n",
      "-Create the tpr file nvt_1GI2_vdwq_04.tpr\n",
      "gmx grompp -f nvt_1GI2_vdwq_04.mdp -c ../00_em/em_1GI2_vdwq_04.gro -r ../00_em/em_1GI2_vdwq_04.gro -p ../../sys_top/1GI2_water_ion.top -po out_nvt_1GI2_vdwq_04.mdp -o nvt_1GI2_vdwq_04.tpr -maxwarn 1\n",
      "-Launch the simulation nvt_1GI2_vdwq_04.tpr\n",
      "gmx mdrun -s nvt_1GI2_vdwq_04.tpr -deffnm nvt_1GI2_vdwq_04 -nt 0 -ntmpi 0 -nsteps -2 -nocopyright\n"
     ]
    },
    {
     "data": {
      "application/vnd.jupyter.widget-view+json": {
       "model_id": "26c2ea88ed0146b6b99c967292a18fc5",
       "version_major": 2,
       "version_minor": 0
      },
      "text/plain": [
       "HBox(children=(FloatProgress(value=0.0, max=5000.0), HTML(value='')))"
      ]
     },
     "metadata": {},
     "output_type": "display_data"
    },
    {
     "name": "stdout",
     "output_type": "stream",
     "text": [
      "\n",
      "-Create the tpr file npt_1GI2_vdwq_04.tpr\n",
      "gmx grompp -f npt_1GI2_vdwq_04.mdp -c ../01_equi_nvt/nvt_1GI2_vdwq_04.gro -r ../01_equi_nvt/nvt_1GI2_vdwq_04.gro -p ../../sys_top/1GI2_water_ion.top -po out_npt_1GI2_vdwq_04.mdp -o npt_1GI2_vdwq_04.tpr -maxwarn 1\n",
      "-Launch the simulation npt_1GI2_vdwq_04.tpr\n",
      "gmx mdrun -s npt_1GI2_vdwq_04.tpr -deffnm npt_1GI2_vdwq_04 -nt 0 -ntmpi 0 -nsteps -2 -nocopyright\n"
     ]
    },
    {
     "data": {
      "application/vnd.jupyter.widget-view+json": {
       "model_id": "1b07e40e34a24bb0833b3135db27ed8d",
       "version_major": 2,
       "version_minor": 0
      },
      "text/plain": [
       "HBox(children=(FloatProgress(value=0.0, max=5000.0), HTML(value='')))"
      ]
     },
     "metadata": {},
     "output_type": "display_data"
    },
    {
     "name": "stdout",
     "output_type": "stream",
     "text": [
      "\n",
      "-Create the tpr file prod_1GI2_vdwq_04.tpr\n",
      "gmx grompp -f prod_1GI2_vdwq_04.mdp -c ../02_equi_npt/npt_1GI2_vdwq_04.gro -r ../02_equi_npt/npt_1GI2_vdwq_04.gro -p ../../sys_top/1GI2_water_ion.top -po out_prod_1GI2_vdwq_04.mdp -o prod_1GI2_vdwq_04.tpr -maxwarn 1\n",
      "-Launch the simulation prod_1GI2_vdwq_04.tpr\n",
      "gmx mdrun -s prod_1GI2_vdwq_04.tpr -deffnm prod_1GI2_vdwq_04 -nt 0 -ntmpi 0 -nsteps -2 -nocopyright\n"
     ]
    },
    {
     "data": {
      "application/vnd.jupyter.widget-view+json": {
       "model_id": "b51152823159427c80450b9e796dd91f",
       "version_major": 2,
       "version_minor": 0
      },
      "text/plain": [
       "HBox(children=(FloatProgress(value=0.0, max=50000.0), HTML(value='')))"
      ]
     },
     "metadata": {},
     "output_type": "display_data"
    },
    {
     "name": "stdout",
     "output_type": "stream",
     "text": [
      "\n",
      "-Create the tpr file em_1GI2_vdwq_05.tpr\n",
      "gmx grompp -f em_1GI2_vdwq_05.mdp -c ../../sys_equi/02_equi_CA_LOW/equi_CA_LOW_1GI2.gro -r ../../sys_equi/02_equi_CA_LOW/equi_CA_LOW_1GI2.gro -p ../../sys_top/1GI2_water_ion.top -po out_em_1GI2_vdwq_05.mdp -o em_1GI2_vdwq_05.tpr -maxwarn 1\n",
      "-Launch the simulation em_1GI2_vdwq_05.tpr\n",
      "gmx mdrun -s em_1GI2_vdwq_05.tpr -deffnm em_1GI2_vdwq_05 -nt 0 -ntmpi 0 -nsteps -2 -nocopyright\n"
     ]
    },
    {
     "data": {
      "application/vnd.jupyter.widget-view+json": {
       "model_id": "7c763db7d0434782b30b39ef8acccec3",
       "version_major": 2,
       "version_minor": 0
      },
      "text/plain": [
       "HBox(children=(FloatProgress(value=0.0, max=5000.0), HTML(value='')))"
      ]
     },
     "metadata": {},
     "output_type": "display_data"
    },
    {
     "name": "stdout",
     "output_type": "stream",
     "text": [
      "\n",
      "-Create the tpr file nvt_1GI2_vdwq_05.tpr\n",
      "gmx grompp -f nvt_1GI2_vdwq_05.mdp -c ../00_em/em_1GI2_vdwq_05.gro -r ../00_em/em_1GI2_vdwq_05.gro -p ../../sys_top/1GI2_water_ion.top -po out_nvt_1GI2_vdwq_05.mdp -o nvt_1GI2_vdwq_05.tpr -maxwarn 1\n",
      "-Launch the simulation nvt_1GI2_vdwq_05.tpr\n",
      "gmx mdrun -s nvt_1GI2_vdwq_05.tpr -deffnm nvt_1GI2_vdwq_05 -nt 0 -ntmpi 0 -nsteps -2 -nocopyright\n"
     ]
    },
    {
     "data": {
      "application/vnd.jupyter.widget-view+json": {
       "model_id": "7e134601ac364d7dba21bdffea76cda8",
       "version_major": 2,
       "version_minor": 0
      },
      "text/plain": [
       "HBox(children=(FloatProgress(value=0.0, max=5000.0), HTML(value='')))"
      ]
     },
     "metadata": {},
     "output_type": "display_data"
    },
    {
     "name": "stdout",
     "output_type": "stream",
     "text": [
      "\n",
      "-Create the tpr file npt_1GI2_vdwq_05.tpr\n",
      "gmx grompp -f npt_1GI2_vdwq_05.mdp -c ../01_equi_nvt/nvt_1GI2_vdwq_05.gro -r ../01_equi_nvt/nvt_1GI2_vdwq_05.gro -p ../../sys_top/1GI2_water_ion.top -po out_npt_1GI2_vdwq_05.mdp -o npt_1GI2_vdwq_05.tpr -maxwarn 1\n",
      "-Launch the simulation npt_1GI2_vdwq_05.tpr\n",
      "gmx mdrun -s npt_1GI2_vdwq_05.tpr -deffnm npt_1GI2_vdwq_05 -nt 0 -ntmpi 0 -nsteps -2 -nocopyright\n"
     ]
    },
    {
     "data": {
      "application/vnd.jupyter.widget-view+json": {
       "model_id": "b7252f88516642a7b6fe9424aefaae90",
       "version_major": 2,
       "version_minor": 0
      },
      "text/plain": [
       "HBox(children=(FloatProgress(value=0.0, max=5000.0), HTML(value='')))"
      ]
     },
     "metadata": {},
     "output_type": "display_data"
    },
    {
     "name": "stdout",
     "output_type": "stream",
     "text": [
      "\n",
      "-Create the tpr file prod_1GI2_vdwq_05.tpr\n",
      "gmx grompp -f prod_1GI2_vdwq_05.mdp -c ../02_equi_npt/npt_1GI2_vdwq_05.gro -r ../02_equi_npt/npt_1GI2_vdwq_05.gro -p ../../sys_top/1GI2_water_ion.top -po out_prod_1GI2_vdwq_05.mdp -o prod_1GI2_vdwq_05.tpr -maxwarn 1\n",
      "-Launch the simulation prod_1GI2_vdwq_05.tpr\n",
      "gmx mdrun -s prod_1GI2_vdwq_05.tpr -deffnm prod_1GI2_vdwq_05 -nt 0 -ntmpi 0 -nsteps -2 -nocopyright\n"
     ]
    },
    {
     "data": {
      "application/vnd.jupyter.widget-view+json": {
       "model_id": "4cc768bba922429197e158179bddfcd7",
       "version_major": 2,
       "version_minor": 0
      },
      "text/plain": [
       "HBox(children=(FloatProgress(value=0.0, max=50000.0), HTML(value='')))"
      ]
     },
     "metadata": {},
     "output_type": "display_data"
    },
    {
     "name": "stdout",
     "output_type": "stream",
     "text": [
      "\n",
      "-Create the tpr file em_1GI2_vdwq_06.tpr\n",
      "gmx grompp -f em_1GI2_vdwq_06.mdp -c ../../sys_equi/02_equi_CA_LOW/equi_CA_LOW_1GI2.gro -r ../../sys_equi/02_equi_CA_LOW/equi_CA_LOW_1GI2.gro -p ../../sys_top/1GI2_water_ion.top -po out_em_1GI2_vdwq_06.mdp -o em_1GI2_vdwq_06.tpr -maxwarn 1\n",
      "-Launch the simulation em_1GI2_vdwq_06.tpr\n",
      "gmx mdrun -s em_1GI2_vdwq_06.tpr -deffnm em_1GI2_vdwq_06 -nt 0 -ntmpi 0 -nsteps -2 -nocopyright\n"
     ]
    },
    {
     "data": {
      "application/vnd.jupyter.widget-view+json": {
       "model_id": "9b0a8f64c005450eaaeec62a898d52f2",
       "version_major": 2,
       "version_minor": 0
      },
      "text/plain": [
       "HBox(children=(FloatProgress(value=0.0, max=5000.0), HTML(value='')))"
      ]
     },
     "metadata": {},
     "output_type": "display_data"
    },
    {
     "name": "stdout",
     "output_type": "stream",
     "text": [
      "\n",
      "-Create the tpr file nvt_1GI2_vdwq_06.tpr\n",
      "gmx grompp -f nvt_1GI2_vdwq_06.mdp -c ../00_em/em_1GI2_vdwq_06.gro -r ../00_em/em_1GI2_vdwq_06.gro -p ../../sys_top/1GI2_water_ion.top -po out_nvt_1GI2_vdwq_06.mdp -o nvt_1GI2_vdwq_06.tpr -maxwarn 1\n",
      "-Launch the simulation nvt_1GI2_vdwq_06.tpr\n",
      "gmx mdrun -s nvt_1GI2_vdwq_06.tpr -deffnm nvt_1GI2_vdwq_06 -nt 0 -ntmpi 0 -nsteps -2 -nocopyright\n"
     ]
    },
    {
     "data": {
      "application/vnd.jupyter.widget-view+json": {
       "model_id": "ddb063fa63514839ad88fd14faff2617",
       "version_major": 2,
       "version_minor": 0
      },
      "text/plain": [
       "HBox(children=(FloatProgress(value=0.0, max=5000.0), HTML(value='')))"
      ]
     },
     "metadata": {},
     "output_type": "display_data"
    },
    {
     "name": "stdout",
     "output_type": "stream",
     "text": [
      "\n",
      "-Create the tpr file npt_1GI2_vdwq_06.tpr\n",
      "gmx grompp -f npt_1GI2_vdwq_06.mdp -c ../01_equi_nvt/nvt_1GI2_vdwq_06.gro -r ../01_equi_nvt/nvt_1GI2_vdwq_06.gro -p ../../sys_top/1GI2_water_ion.top -po out_npt_1GI2_vdwq_06.mdp -o npt_1GI2_vdwq_06.tpr -maxwarn 1\n",
      "-Launch the simulation npt_1GI2_vdwq_06.tpr\n",
      "gmx mdrun -s npt_1GI2_vdwq_06.tpr -deffnm npt_1GI2_vdwq_06 -nt 0 -ntmpi 0 -nsteps -2 -nocopyright\n"
     ]
    },
    {
     "data": {
      "application/vnd.jupyter.widget-view+json": {
       "model_id": "fb009625dcbf46e78ce12e37f6922546",
       "version_major": 2,
       "version_minor": 0
      },
      "text/plain": [
       "HBox(children=(FloatProgress(value=0.0, max=5000.0), HTML(value='')))"
      ]
     },
     "metadata": {},
     "output_type": "display_data"
    },
    {
     "name": "stdout",
     "output_type": "stream",
     "text": [
      "\n",
      "-Create the tpr file prod_1GI2_vdwq_06.tpr\n",
      "gmx grompp -f prod_1GI2_vdwq_06.mdp -c ../02_equi_npt/npt_1GI2_vdwq_06.gro -r ../02_equi_npt/npt_1GI2_vdwq_06.gro -p ../../sys_top/1GI2_water_ion.top -po out_prod_1GI2_vdwq_06.mdp -o prod_1GI2_vdwq_06.tpr -maxwarn 1\n",
      "-Launch the simulation prod_1GI2_vdwq_06.tpr\n",
      "gmx mdrun -s prod_1GI2_vdwq_06.tpr -deffnm prod_1GI2_vdwq_06 -nt 0 -ntmpi 0 -nsteps -2 -nocopyright\n"
     ]
    },
    {
     "data": {
      "application/vnd.jupyter.widget-view+json": {
       "model_id": "bca8ff4210ae4c88b8be8a91dd7a9447",
       "version_major": 2,
       "version_minor": 0
      },
      "text/plain": [
       "HBox(children=(FloatProgress(value=0.0, max=50000.0), HTML(value='')))"
      ]
     },
     "metadata": {},
     "output_type": "display_data"
    },
    {
     "name": "stdout",
     "output_type": "stream",
     "text": [
      "\n",
      "-Create the tpr file em_1GI2_vdwq_07.tpr\n",
      "gmx grompp -f em_1GI2_vdwq_07.mdp -c ../../sys_equi/02_equi_CA_LOW/equi_CA_LOW_1GI2.gro -r ../../sys_equi/02_equi_CA_LOW/equi_CA_LOW_1GI2.gro -p ../../sys_top/1GI2_water_ion.top -po out_em_1GI2_vdwq_07.mdp -o em_1GI2_vdwq_07.tpr -maxwarn 1\n",
      "-Launch the simulation em_1GI2_vdwq_07.tpr\n",
      "gmx mdrun -s em_1GI2_vdwq_07.tpr -deffnm em_1GI2_vdwq_07 -nt 0 -ntmpi 0 -nsteps -2 -nocopyright\n"
     ]
    },
    {
     "data": {
      "application/vnd.jupyter.widget-view+json": {
       "model_id": "220da32b1f924113aaa282cc031e3656",
       "version_major": 2,
       "version_minor": 0
      },
      "text/plain": [
       "HBox(children=(FloatProgress(value=0.0, max=5000.0), HTML(value='')))"
      ]
     },
     "metadata": {},
     "output_type": "display_data"
    },
    {
     "name": "stdout",
     "output_type": "stream",
     "text": [
      "\n",
      "-Create the tpr file nvt_1GI2_vdwq_07.tpr\n",
      "gmx grompp -f nvt_1GI2_vdwq_07.mdp -c ../00_em/em_1GI2_vdwq_07.gro -r ../00_em/em_1GI2_vdwq_07.gro -p ../../sys_top/1GI2_water_ion.top -po out_nvt_1GI2_vdwq_07.mdp -o nvt_1GI2_vdwq_07.tpr -maxwarn 1\n",
      "-Launch the simulation nvt_1GI2_vdwq_07.tpr\n",
      "gmx mdrun -s nvt_1GI2_vdwq_07.tpr -deffnm nvt_1GI2_vdwq_07 -nt 0 -ntmpi 0 -nsteps -2 -nocopyright\n"
     ]
    },
    {
     "data": {
      "application/vnd.jupyter.widget-view+json": {
       "model_id": "d1b108fdbb9845d39b151764f363f307",
       "version_major": 2,
       "version_minor": 0
      },
      "text/plain": [
       "HBox(children=(FloatProgress(value=0.0, max=5000.0), HTML(value='')))"
      ]
     },
     "metadata": {},
     "output_type": "display_data"
    },
    {
     "name": "stdout",
     "output_type": "stream",
     "text": [
      "\n",
      "-Create the tpr file npt_1GI2_vdwq_07.tpr\n",
      "gmx grompp -f npt_1GI2_vdwq_07.mdp -c ../01_equi_nvt/nvt_1GI2_vdwq_07.gro -r ../01_equi_nvt/nvt_1GI2_vdwq_07.gro -p ../../sys_top/1GI2_water_ion.top -po out_npt_1GI2_vdwq_07.mdp -o npt_1GI2_vdwq_07.tpr -maxwarn 1\n",
      "-Launch the simulation npt_1GI2_vdwq_07.tpr\n",
      "gmx mdrun -s npt_1GI2_vdwq_07.tpr -deffnm npt_1GI2_vdwq_07 -nt 0 -ntmpi 0 -nsteps -2 -nocopyright\n"
     ]
    },
    {
     "data": {
      "application/vnd.jupyter.widget-view+json": {
       "model_id": "c36c4536cc7b49d9943a903d8f64d7dd",
       "version_major": 2,
       "version_minor": 0
      },
      "text/plain": [
       "HBox(children=(FloatProgress(value=0.0, max=5000.0), HTML(value='')))"
      ]
     },
     "metadata": {},
     "output_type": "display_data"
    },
    {
     "name": "stdout",
     "output_type": "stream",
     "text": [
      "\n",
      "-Create the tpr file prod_1GI2_vdwq_07.tpr\n",
      "gmx grompp -f prod_1GI2_vdwq_07.mdp -c ../02_equi_npt/npt_1GI2_vdwq_07.gro -r ../02_equi_npt/npt_1GI2_vdwq_07.gro -p ../../sys_top/1GI2_water_ion.top -po out_prod_1GI2_vdwq_07.mdp -o prod_1GI2_vdwq_07.tpr -maxwarn 1\n",
      "-Launch the simulation prod_1GI2_vdwq_07.tpr\n",
      "gmx mdrun -s prod_1GI2_vdwq_07.tpr -deffnm prod_1GI2_vdwq_07 -nt 0 -ntmpi 0 -nsteps -2 -nocopyright\n"
     ]
    },
    {
     "data": {
      "application/vnd.jupyter.widget-view+json": {
       "model_id": "59d7408f4f00448881cebf4187665d90",
       "version_major": 2,
       "version_minor": 0
      },
      "text/plain": [
       "HBox(children=(FloatProgress(value=0.0, max=50000.0), HTML(value='')))"
      ]
     },
     "metadata": {},
     "output_type": "display_data"
    },
    {
     "name": "stdout",
     "output_type": "stream",
     "text": [
      "\n",
      "-Create the tpr file em_1GI2_vdwq_08.tpr\n",
      "gmx grompp -f em_1GI2_vdwq_08.mdp -c ../../sys_equi/02_equi_CA_LOW/equi_CA_LOW_1GI2.gro -r ../../sys_equi/02_equi_CA_LOW/equi_CA_LOW_1GI2.gro -p ../../sys_top/1GI2_water_ion.top -po out_em_1GI2_vdwq_08.mdp -o em_1GI2_vdwq_08.tpr -maxwarn 1\n",
      "-Launch the simulation em_1GI2_vdwq_08.tpr\n",
      "gmx mdrun -s em_1GI2_vdwq_08.tpr -deffnm em_1GI2_vdwq_08 -nt 0 -ntmpi 0 -nsteps -2 -nocopyright\n"
     ]
    },
    {
     "data": {
      "application/vnd.jupyter.widget-view+json": {
       "model_id": "f026e690d5eb4ba4a2e5db2d2367c240",
       "version_major": 2,
       "version_minor": 0
      },
      "text/plain": [
       "HBox(children=(FloatProgress(value=0.0, max=5000.0), HTML(value='')))"
      ]
     },
     "metadata": {},
     "output_type": "display_data"
    },
    {
     "name": "stdout",
     "output_type": "stream",
     "text": [
      "\n",
      "-Create the tpr file nvt_1GI2_vdwq_08.tpr\n",
      "gmx grompp -f nvt_1GI2_vdwq_08.mdp -c ../00_em/em_1GI2_vdwq_08.gro -r ../00_em/em_1GI2_vdwq_08.gro -p ../../sys_top/1GI2_water_ion.top -po out_nvt_1GI2_vdwq_08.mdp -o nvt_1GI2_vdwq_08.tpr -maxwarn 1\n",
      "-Launch the simulation nvt_1GI2_vdwq_08.tpr\n",
      "gmx mdrun -s nvt_1GI2_vdwq_08.tpr -deffnm nvt_1GI2_vdwq_08 -nt 0 -ntmpi 0 -nsteps -2 -nocopyright\n"
     ]
    },
    {
     "data": {
      "application/vnd.jupyter.widget-view+json": {
       "model_id": "59f14fed1364421cbfc5be1e4a862a4b",
       "version_major": 2,
       "version_minor": 0
      },
      "text/plain": [
       "HBox(children=(FloatProgress(value=0.0, max=5000.0), HTML(value='')))"
      ]
     },
     "metadata": {},
     "output_type": "display_data"
    },
    {
     "name": "stdout",
     "output_type": "stream",
     "text": [
      "\n",
      "-Create the tpr file npt_1GI2_vdwq_08.tpr\n",
      "gmx grompp -f npt_1GI2_vdwq_08.mdp -c ../01_equi_nvt/nvt_1GI2_vdwq_08.gro -r ../01_equi_nvt/nvt_1GI2_vdwq_08.gro -p ../../sys_top/1GI2_water_ion.top -po out_npt_1GI2_vdwq_08.mdp -o npt_1GI2_vdwq_08.tpr -maxwarn 1\n",
      "-Launch the simulation npt_1GI2_vdwq_08.tpr\n",
      "gmx mdrun -s npt_1GI2_vdwq_08.tpr -deffnm npt_1GI2_vdwq_08 -nt 0 -ntmpi 0 -nsteps -2 -nocopyright\n"
     ]
    },
    {
     "data": {
      "application/vnd.jupyter.widget-view+json": {
       "model_id": "cc326695d4424549983effd6199b5e40",
       "version_major": 2,
       "version_minor": 0
      },
      "text/plain": [
       "HBox(children=(FloatProgress(value=0.0, max=5000.0), HTML(value='')))"
      ]
     },
     "metadata": {},
     "output_type": "display_data"
    },
    {
     "name": "stdout",
     "output_type": "stream",
     "text": [
      "\n",
      "-Create the tpr file prod_1GI2_vdwq_08.tpr\n",
      "gmx grompp -f prod_1GI2_vdwq_08.mdp -c ../02_equi_npt/npt_1GI2_vdwq_08.gro -r ../02_equi_npt/npt_1GI2_vdwq_08.gro -p ../../sys_top/1GI2_water_ion.top -po out_prod_1GI2_vdwq_08.mdp -o prod_1GI2_vdwq_08.tpr -maxwarn 1\n",
      "-Launch the simulation prod_1GI2_vdwq_08.tpr\n",
      "gmx mdrun -s prod_1GI2_vdwq_08.tpr -deffnm prod_1GI2_vdwq_08 -nt 0 -ntmpi 0 -nsteps -2 -nocopyright\n"
     ]
    },
    {
     "data": {
      "application/vnd.jupyter.widget-view+json": {
       "model_id": "6d43bfb5c13f497fbf7b08903096b8c8",
       "version_major": 2,
       "version_minor": 0
      },
      "text/plain": [
       "HBox(children=(FloatProgress(value=0.0, max=50000.0), HTML(value='')))"
      ]
     },
     "metadata": {},
     "output_type": "display_data"
    },
    {
     "name": "stdout",
     "output_type": "stream",
     "text": [
      "\n",
      "-Create the tpr file em_1GI2_vdwq_09.tpr\n",
      "gmx grompp -f em_1GI2_vdwq_09.mdp -c ../../sys_equi/02_equi_CA_LOW/equi_CA_LOW_1GI2.gro -r ../../sys_equi/02_equi_CA_LOW/equi_CA_LOW_1GI2.gro -p ../../sys_top/1GI2_water_ion.top -po out_em_1GI2_vdwq_09.mdp -o em_1GI2_vdwq_09.tpr -maxwarn 1\n",
      "-Launch the simulation em_1GI2_vdwq_09.tpr\n",
      "gmx mdrun -s em_1GI2_vdwq_09.tpr -deffnm em_1GI2_vdwq_09 -nt 0 -ntmpi 0 -nsteps -2 -nocopyright\n"
     ]
    },
    {
     "data": {
      "application/vnd.jupyter.widget-view+json": {
       "model_id": "1e2edff02f974203a2dd4eb38aea6089",
       "version_major": 2,
       "version_minor": 0
      },
      "text/plain": [
       "HBox(children=(FloatProgress(value=0.0, max=5000.0), HTML(value='')))"
      ]
     },
     "metadata": {},
     "output_type": "display_data"
    },
    {
     "name": "stdout",
     "output_type": "stream",
     "text": [
      "\n",
      "-Create the tpr file nvt_1GI2_vdwq_09.tpr\n",
      "gmx grompp -f nvt_1GI2_vdwq_09.mdp -c ../00_em/em_1GI2_vdwq_09.gro -r ../00_em/em_1GI2_vdwq_09.gro -p ../../sys_top/1GI2_water_ion.top -po out_nvt_1GI2_vdwq_09.mdp -o nvt_1GI2_vdwq_09.tpr -maxwarn 1\n",
      "-Launch the simulation nvt_1GI2_vdwq_09.tpr\n",
      "gmx mdrun -s nvt_1GI2_vdwq_09.tpr -deffnm nvt_1GI2_vdwq_09 -nt 0 -ntmpi 0 -nsteps -2 -nocopyright\n"
     ]
    },
    {
     "data": {
      "application/vnd.jupyter.widget-view+json": {
       "model_id": "e477d7f4314d41faaedc6cd5c4e657cf",
       "version_major": 2,
       "version_minor": 0
      },
      "text/plain": [
       "HBox(children=(FloatProgress(value=0.0, max=5000.0), HTML(value='')))"
      ]
     },
     "metadata": {},
     "output_type": "display_data"
    },
    {
     "name": "stdout",
     "output_type": "stream",
     "text": [
      "\n",
      "-Create the tpr file npt_1GI2_vdwq_09.tpr\n",
      "gmx grompp -f npt_1GI2_vdwq_09.mdp -c ../01_equi_nvt/nvt_1GI2_vdwq_09.gro -r ../01_equi_nvt/nvt_1GI2_vdwq_09.gro -p ../../sys_top/1GI2_water_ion.top -po out_npt_1GI2_vdwq_09.mdp -o npt_1GI2_vdwq_09.tpr -maxwarn 1\n",
      "-Launch the simulation npt_1GI2_vdwq_09.tpr\n",
      "gmx mdrun -s npt_1GI2_vdwq_09.tpr -deffnm npt_1GI2_vdwq_09 -nt 0 -ntmpi 0 -nsteps -2 -nocopyright\n"
     ]
    },
    {
     "data": {
      "application/vnd.jupyter.widget-view+json": {
       "model_id": "4a4877fdd75c49bda693f77f3c64c811",
       "version_major": 2,
       "version_minor": 0
      },
      "text/plain": [
       "HBox(children=(FloatProgress(value=0.0, max=5000.0), HTML(value='')))"
      ]
     },
     "metadata": {},
     "output_type": "display_data"
    },
    {
     "name": "stdout",
     "output_type": "stream",
     "text": [
      "\n",
      "-Create the tpr file prod_1GI2_vdwq_09.tpr\n",
      "gmx grompp -f prod_1GI2_vdwq_09.mdp -c ../02_equi_npt/npt_1GI2_vdwq_09.gro -r ../02_equi_npt/npt_1GI2_vdwq_09.gro -p ../../sys_top/1GI2_water_ion.top -po out_prod_1GI2_vdwq_09.mdp -o prod_1GI2_vdwq_09.tpr -maxwarn 1\n",
      "-Launch the simulation prod_1GI2_vdwq_09.tpr\n",
      "gmx mdrun -s prod_1GI2_vdwq_09.tpr -deffnm prod_1GI2_vdwq_09 -nt 0 -ntmpi 0 -nsteps -2 -nocopyright\n"
     ]
    },
    {
     "data": {
      "application/vnd.jupyter.widget-view+json": {
       "model_id": "b78adb12414f4501a92a09e8dc4a2b18",
       "version_major": 2,
       "version_minor": 0
      },
      "text/plain": [
       "HBox(children=(FloatProgress(value=0.0, max=50000.0), HTML(value='')))"
      ]
     },
     "metadata": {},
     "output_type": "display_data"
    },
    {
     "name": "stdout",
     "output_type": "stream",
     "text": [
      "\n",
      "-Create the tpr file em_1GI2_vdwq_10.tpr\n",
      "gmx grompp -f em_1GI2_vdwq_10.mdp -c ../../sys_equi/02_equi_CA_LOW/equi_CA_LOW_1GI2.gro -r ../../sys_equi/02_equi_CA_LOW/equi_CA_LOW_1GI2.gro -p ../../sys_top/1GI2_water_ion.top -po out_em_1GI2_vdwq_10.mdp -o em_1GI2_vdwq_10.tpr -maxwarn 1\n",
      "-Launch the simulation em_1GI2_vdwq_10.tpr\n",
      "gmx mdrun -s em_1GI2_vdwq_10.tpr -deffnm em_1GI2_vdwq_10 -nt 0 -ntmpi 0 -nsteps -2 -nocopyright\n"
     ]
    },
    {
     "data": {
      "application/vnd.jupyter.widget-view+json": {
       "model_id": "01aff370db1f40829d11372a574e0d1f",
       "version_major": 2,
       "version_minor": 0
      },
      "text/plain": [
       "HBox(children=(FloatProgress(value=0.0, max=5000.0), HTML(value='')))"
      ]
     },
     "metadata": {},
     "output_type": "display_data"
    },
    {
     "name": "stdout",
     "output_type": "stream",
     "text": [
      "\n",
      "-Create the tpr file nvt_1GI2_vdwq_10.tpr\n",
      "gmx grompp -f nvt_1GI2_vdwq_10.mdp -c ../00_em/em_1GI2_vdwq_10.gro -r ../00_em/em_1GI2_vdwq_10.gro -p ../../sys_top/1GI2_water_ion.top -po out_nvt_1GI2_vdwq_10.mdp -o nvt_1GI2_vdwq_10.tpr -maxwarn 1\n",
      "-Launch the simulation nvt_1GI2_vdwq_10.tpr\n",
      "gmx mdrun -s nvt_1GI2_vdwq_10.tpr -deffnm nvt_1GI2_vdwq_10 -nt 0 -ntmpi 0 -nsteps -2 -nocopyright\n"
     ]
    },
    {
     "data": {
      "application/vnd.jupyter.widget-view+json": {
       "model_id": "5f9c856a90fb4c97b0809f0a03a5f661",
       "version_major": 2,
       "version_minor": 0
      },
      "text/plain": [
       "HBox(children=(FloatProgress(value=0.0, max=5000.0), HTML(value='')))"
      ]
     },
     "metadata": {},
     "output_type": "display_data"
    },
    {
     "name": "stdout",
     "output_type": "stream",
     "text": [
      "\n",
      "-Create the tpr file npt_1GI2_vdwq_10.tpr\n",
      "gmx grompp -f npt_1GI2_vdwq_10.mdp -c ../01_equi_nvt/nvt_1GI2_vdwq_10.gro -r ../01_equi_nvt/nvt_1GI2_vdwq_10.gro -p ../../sys_top/1GI2_water_ion.top -po out_npt_1GI2_vdwq_10.mdp -o npt_1GI2_vdwq_10.tpr -maxwarn 1\n",
      "-Launch the simulation npt_1GI2_vdwq_10.tpr\n",
      "gmx mdrun -s npt_1GI2_vdwq_10.tpr -deffnm npt_1GI2_vdwq_10 -nt 0 -ntmpi 0 -nsteps -2 -nocopyright\n"
     ]
    },
    {
     "data": {
      "application/vnd.jupyter.widget-view+json": {
       "model_id": "a4d181de780b4af38b0c4ace2599e3fb",
       "version_major": 2,
       "version_minor": 0
      },
      "text/plain": [
       "HBox(children=(FloatProgress(value=0.0, max=5000.0), HTML(value='')))"
      ]
     },
     "metadata": {},
     "output_type": "display_data"
    },
    {
     "name": "stdout",
     "output_type": "stream",
     "text": [
      "\n",
      "-Create the tpr file prod_1GI2_vdwq_10.tpr\n",
      "gmx grompp -f prod_1GI2_vdwq_10.mdp -c ../02_equi_npt/npt_1GI2_vdwq_10.gro -r ../02_equi_npt/npt_1GI2_vdwq_10.gro -p ../../sys_top/1GI2_water_ion.top -po out_prod_1GI2_vdwq_10.mdp -o prod_1GI2_vdwq_10.tpr -maxwarn 1\n",
      "-Launch the simulation prod_1GI2_vdwq_10.tpr\n",
      "gmx mdrun -s prod_1GI2_vdwq_10.tpr -deffnm prod_1GI2_vdwq_10 -nt 0 -ntmpi 0 -nsteps -2 -nocopyright\n"
     ]
    },
    {
     "data": {
      "application/vnd.jupyter.widget-view+json": {
       "model_id": "4446d9ab1c0349d79708b6c4c1529105",
       "version_major": 2,
       "version_minor": 0
      },
      "text/plain": [
       "HBox(children=(FloatProgress(value=0.0, max=50000.0), HTML(value='')))"
      ]
     },
     "metadata": {},
     "output_type": "display_data"
    },
    {
     "name": "stdout",
     "output_type": "stream",
     "text": [
      "\n",
      "-Create the tpr file em_1GI2_vdwq_11.tpr\n",
      "gmx grompp -f em_1GI2_vdwq_11.mdp -c ../../sys_equi/02_equi_CA_LOW/equi_CA_LOW_1GI2.gro -r ../../sys_equi/02_equi_CA_LOW/equi_CA_LOW_1GI2.gro -p ../../sys_top/1GI2_water_ion.top -po out_em_1GI2_vdwq_11.mdp -o em_1GI2_vdwq_11.tpr -maxwarn 1\n",
      "-Launch the simulation em_1GI2_vdwq_11.tpr\n",
      "gmx mdrun -s em_1GI2_vdwq_11.tpr -deffnm em_1GI2_vdwq_11 -nt 0 -ntmpi 0 -nsteps -2 -nocopyright\n"
     ]
    },
    {
     "data": {
      "application/vnd.jupyter.widget-view+json": {
       "model_id": "3340fea3848a4d85a018316f609a1ed6",
       "version_major": 2,
       "version_minor": 0
      },
      "text/plain": [
       "HBox(children=(FloatProgress(value=0.0, max=5000.0), HTML(value='')))"
      ]
     },
     "metadata": {},
     "output_type": "display_data"
    },
    {
     "name": "stdout",
     "output_type": "stream",
     "text": [
      "\n",
      "-Create the tpr file nvt_1GI2_vdwq_11.tpr\n",
      "gmx grompp -f nvt_1GI2_vdwq_11.mdp -c ../00_em/em_1GI2_vdwq_11.gro -r ../00_em/em_1GI2_vdwq_11.gro -p ../../sys_top/1GI2_water_ion.top -po out_nvt_1GI2_vdwq_11.mdp -o nvt_1GI2_vdwq_11.tpr -maxwarn 1\n",
      "-Launch the simulation nvt_1GI2_vdwq_11.tpr\n",
      "gmx mdrun -s nvt_1GI2_vdwq_11.tpr -deffnm nvt_1GI2_vdwq_11 -nt 0 -ntmpi 0 -nsteps -2 -nocopyright\n"
     ]
    },
    {
     "data": {
      "application/vnd.jupyter.widget-view+json": {
       "model_id": "99b4a3cfafd746c1bf057dfefd77fbd0",
       "version_major": 2,
       "version_minor": 0
      },
      "text/plain": [
       "HBox(children=(FloatProgress(value=0.0, max=5000.0), HTML(value='')))"
      ]
     },
     "metadata": {},
     "output_type": "display_data"
    },
    {
     "name": "stdout",
     "output_type": "stream",
     "text": [
      "\n",
      "-Create the tpr file npt_1GI2_vdwq_11.tpr\n",
      "gmx grompp -f npt_1GI2_vdwq_11.mdp -c ../01_equi_nvt/nvt_1GI2_vdwq_11.gro -r ../01_equi_nvt/nvt_1GI2_vdwq_11.gro -p ../../sys_top/1GI2_water_ion.top -po out_npt_1GI2_vdwq_11.mdp -o npt_1GI2_vdwq_11.tpr -maxwarn 1\n",
      "-Launch the simulation npt_1GI2_vdwq_11.tpr\n",
      "gmx mdrun -s npt_1GI2_vdwq_11.tpr -deffnm npt_1GI2_vdwq_11 -nt 0 -ntmpi 0 -nsteps -2 -nocopyright\n"
     ]
    },
    {
     "data": {
      "application/vnd.jupyter.widget-view+json": {
       "model_id": "7eb14cc45c654e39a9bf30f954d1a7be",
       "version_major": 2,
       "version_minor": 0
      },
      "text/plain": [
       "HBox(children=(FloatProgress(value=0.0, max=5000.0), HTML(value='')))"
      ]
     },
     "metadata": {},
     "output_type": "display_data"
    },
    {
     "name": "stdout",
     "output_type": "stream",
     "text": [
      "\n",
      "-Create the tpr file prod_1GI2_vdwq_11.tpr\n",
      "gmx grompp -f prod_1GI2_vdwq_11.mdp -c ../02_equi_npt/npt_1GI2_vdwq_11.gro -r ../02_equi_npt/npt_1GI2_vdwq_11.gro -p ../../sys_top/1GI2_water_ion.top -po out_prod_1GI2_vdwq_11.mdp -o prod_1GI2_vdwq_11.tpr -maxwarn 1\n",
      "-Launch the simulation prod_1GI2_vdwq_11.tpr\n",
      "gmx mdrun -s prod_1GI2_vdwq_11.tpr -deffnm prod_1GI2_vdwq_11 -nt 0 -ntmpi 0 -nsteps -2 -nocopyright\n"
     ]
    },
    {
     "data": {
      "application/vnd.jupyter.widget-view+json": {
       "model_id": "29149f7d4499458b84b41ee65348c4d5",
       "version_major": 2,
       "version_minor": 0
      },
      "text/plain": [
       "HBox(children=(FloatProgress(value=0.0, max=50000.0), HTML(value='')))"
      ]
     },
     "metadata": {},
     "output_type": "display_data"
    }
   ],
   "source": [
    "ener = start_sys.free_ener(out_folder=os.path.join(DATA_OUT, 'mol_prot_free_ener_rest'),\n",
    "                           mol_name=MOL_ID, lambda_elec_num=5, lambda_vdw_num=10,\n",
    "                           lambda_bond_num=5,\n",
    "                           em_steps=5000, nvt_time=10, npt_time=10, prod_time=100)\n",
    "\n",
    "#ener = start_sys.free_ener(out_folder=os.path.join(DATA_OUT, 'mol_prot_free_ener'),\n",
    "#                    mol_name='120', lambda_elec_num=5, lambda_vdw_num=5,\n",
    "#                    em_steps=5000, nvt_time=5, npt_time=5, prod_time=10)"
   ]
  },
  {
   "cell_type": "code",
   "execution_count": 59,
   "metadata": {},
   "outputs": [
    {
     "name": "stdout",
     "output_type": "stream",
     "text": [
      "DDG = -17.99 +/- 1.13\n"
     ]
    }
   ],
   "source": [
    "print('DDG = {:.2f} +/- {:.2f}'.format( (ener_solv['DG'] - ener['DG'])/4.184, \n",
    "                                       ((ener_solv['std']**2 + ener['std']**2)**(0.5))/4.184))"
   ]
  },
  {
   "cell_type": "markdown",
   "metadata": {},
   "source": [
    "- exp value: -7.42 $kcal.mol^{-1}$"
   ]
  },
  {
   "cell_type": "code",
   "execution_count": 31,
   "metadata": {},
   "outputs": [
    {
     "data": {
      "text/plain": [
       "-20.989999999999995"
      ]
     },
     "execution_count": 31,
     "metadata": {},
     "output_type": "execute_result"
    }
   ],
   "source": [
    "-69.69+48.70"
   ]
  },
  {
   "cell_type": "code",
   "execution_count": null,
   "metadata": {},
   "outputs": [],
   "source": [
    "test = test.replace('\\\\x','')\n",
    "test = test.replace('\\\\f{}','')\n",
    "test"
   ]
  },
  {
   "cell_type": "code",
   "execution_count": null,
   "metadata": {},
   "outputs": [],
   "source": [
    "test = ['a', 'b', 'c']\n",
    "\" \".join(test)"
   ]
  },
  {
   "cell_type": "code",
   "execution_count": null,
   "metadata": {},
   "outputs": [],
   "source": [
    "math.sqrt((table.iloc[:,2]**2).sum())"
   ]
  },
  {
   "cell_type": "code",
   "execution_count": null,
   "metadata": {},
   "outputs": [],
   "source": [
    "table"
   ]
  },
  {
   "cell_type": "code",
   "execution_count": null,
   "metadata": {},
   "outputs": [],
   "source": [
    "from scipy.constants import R, Boltzmann, N_A\n",
    "import math\n",
    "\n",
    "#math.sqrt((table.iloc[:, 2] *  Boltzmann*310*N_A*1e-3 # kT to KJ.mol-1"
   ]
  },
  {
   "cell_type": "code",
   "execution_count": null,
   "metadata": {},
   "outputs": [],
   "source": [
    "math.sqrt(((table.iloc[:, 2] *  Boltzmann*310*N_A*1e-3)**2).sum())*(len(table.iloc[:, 2])+1)/len(table.iloc[:, 2])"
   ]
  },
  {
   "cell_type": "code",
   "execution_count": null,
   "metadata": {},
   "outputs": [],
   "source": [
    "from scipy.constants import R, Boltzmann, N_A\n",
    "\n",
    "Boltzmann*310*N_A"
   ]
  },
  {
   "cell_type": "code",
   "execution_count": null,
   "metadata": {},
   "outputs": [],
   "source": [
    "table.iloc[:, 2] *  Boltzmann*310*N_A*1e-3"
   ]
  },
  {
   "cell_type": "code",
   "execution_count": null,
   "metadata": {},
   "outputs": [],
   "source": [
    "len(table.iloc[:, 2])"
   ]
  },
  {
   "cell_type": "code",
   "execution_count": 29,
   "metadata": {},
   "outputs": [
    {
     "data": {
      "text/plain": [
       "26.22"
      ]
     },
     "execution_count": 29,
     "metadata": {},
     "output_type": "execute_result"
    }
   ],
   "source": [
    "78.41-52.19"
   ]
  },
  {
   "cell_type": "code",
   "execution_count": null,
   "metadata": {},
   "outputs": [],
   "source": []
  }
 ],
 "metadata": {
  "kernelspec": {
   "display_name": "Python 3",
   "language": "python",
   "name": "python3"
  },
  "language_info": {
   "codemirror_mode": {
    "name": "ipython",
    "version": 3
   },
   "file_extension": ".py",
   "mimetype": "text/x-python",
   "name": "python",
   "nbconvert_exporter": "python",
   "pygments_lexer": "ipython3",
   "version": "3.7.3"
  }
 },
 "nbformat": 4,
 "nbformat_minor": 4
}
