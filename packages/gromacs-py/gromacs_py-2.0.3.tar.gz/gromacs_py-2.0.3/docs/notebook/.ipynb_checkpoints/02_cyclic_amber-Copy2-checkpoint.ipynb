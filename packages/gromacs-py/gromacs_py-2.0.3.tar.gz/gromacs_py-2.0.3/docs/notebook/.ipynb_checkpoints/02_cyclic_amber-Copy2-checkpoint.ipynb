{
 "cells": [
  {
   "cell_type": "code",
   "execution_count": 1,
   "metadata": {},
   "outputs": [],
   "source": [
    "import sys\n",
    "import os\n",
    "import urllib.request  \n",
    "import pandas as pd\n",
    "import matplotlib\n",
    "import matplotlib.pyplot as plt\n",
    "import numpy as np\n",
    "import seaborn as sns\n",
    "\n",
    "# Gromacs_py import\n",
    "from gromacs_py import gmx\n",
    "\n",
    "from os_command_py import os_command"
   ]
  },
  {
   "cell_type": "code",
   "execution_count": 3,
   "metadata": {},
   "outputs": [],
   "source": [
    "from gromacs_py.test.datafiles import PDB_1D30"
   ]
  },
  {
   "cell_type": "code",
   "execution_count": 3,
   "metadata": {},
   "outputs": [
    {
     "name": "stdout",
     "output_type": "stream",
     "text": [
      "/home/murail/Documents/Code/gromacs_py/docs/notebook\n"
     ]
    }
   ],
   "source": [
    "%cd /home/murail/Documents/Code/gromacs_py/docs/notebook/\n",
    "%matplotlib notebook"
   ]
  },
  {
   "cell_type": "code",
   "execution_count": 4,
   "metadata": {},
   "outputs": [],
   "source": [
    "tmp_path = 'test_free'"
   ]
  },
  {
   "cell_type": "code",
   "execution_count": 7,
   "metadata": {},
   "outputs": [],
   "source": [
    "from gromacs_py.free_ener import FreeEner\n",
    "\n",
    "dna_free = FreeEner('DAP', f'{tmp_path}/1D30_solv')"
   ]
  },
  {
   "cell_type": "code",
   "execution_count": 8,
   "metadata": {},
   "outputs": [
    {
     "name": "stdout",
     "output_type": "stream",
     "text": [
      "pdb2pqr_cli --ff AMBER --ffout AMBER --chain --ph-calc-method=propka --with-ph=7.00 tmp_pdb2pqr.pdb 00_DAP.pqr\n",
      "acpype -i DAP_h_unique.pdb -b DAP -c bcc -a gaff -o gmx -n 0\n",
      "gmx pdb2gmx -f 01_DAP_good_his.pdb -o DAP_pdb2gmx.pdb -p DAP_pdb2gmx.top -i DAP_posre.itp -water tip3p -ff amber99sb-ildn -ignh -vsite none\n",
      "gmx editconf -f test_free/1D30_solv/complex_top/DAP_pdb2gmx_mol.pdb -o test_free/1D30_solv/complex_top/DAP_pdb2gmx_mol_box.pdb -bt dodecahedron -d 1.1\n",
      "gmx grompp -f ../../../../../gromacs_py/gmx/template/mini.mdp -c DAP_water.pdb -r DAP_water.pdb -p DAP_water_ion.top -po out_mini.mdp -o genion_DAP_water_ion.tpr -maxwarn 3\n",
      "gmx genion -s genion_DAP_water_ion.tpr -p DAP_water_ion.top -o DAP_water_ion.gro -np 22 -pname NA -nn 0 -nname CL\n"
     ]
    }
   ],
   "source": [
    "dna_free.prepare_complex_pdb(\n",
    "        PDB_1D30, 'NC(=N)c1ccc(cc1)c2[nH]c3cc(ccc3c2)C(N)=N')"
   ]
  },
  {
   "cell_type": "code",
   "execution_count": 9,
   "metadata": {},
   "outputs": [
    {
     "name": "stdout",
     "output_type": "stream",
     "text": [
      "gmx grompp -f Init_em_DAP.mdp -c ../sys_top/DAP_water_ion.gro -r ../sys_top/DAP_water_ion.gro -p ../sys_top/DAP_water_ion.top -po out_Init_em_DAP.mdp -o Init_em_DAP.tpr -maxwarn 3\n",
      "gmx mdrun -s Init_em_DAP.tpr -deffnm Init_em_DAP -nt 0 -ntmpi 0 -nsteps -2 -nocopyright\n"
     ]
    },
    {
     "data": {
      "application/vnd.jupyter.widget-view+json": {
       "model_id": "a92ca406d43e49cca63b70a3f9bf5ae0",
       "version_major": 2,
       "version_minor": 0
      },
      "text/plain": [
       "HBox(children=(HTML(value=''), FloatProgress(value=0.0), HTML(value='')))"
      ]
     },
     "metadata": {},
     "output_type": "display_data"
    },
    {
     "name": "stdout",
     "output_type": "stream",
     "text": [
      "\n",
      "gmx grompp -f DAP.mdp -c Init_em_DAP.gro -r Init_em_DAP.gro -p ../sys_top/DAP_water_ion.top -po out_DAP.mdp -o DAP.tpr -maxwarn 3\n",
      "gmx mdrun -s DAP.tpr -deffnm DAP -nt 0 -ntmpi 0 -nsteps -2 -nocopyright\n"
     ]
    },
    {
     "data": {
      "application/vnd.jupyter.widget-view+json": {
       "model_id": "cf5d3873408540f0a15715a695d8095f",
       "version_major": 2,
       "version_minor": 0
      },
      "text/plain": [
       "HBox(children=(HTML(value=''), FloatProgress(value=0.0), HTML(value='')))"
      ]
     },
     "metadata": {},
     "output_type": "display_data"
    },
    {
     "name": "stdout",
     "output_type": "stream",
     "text": [
      "\n",
      "gmx trjconv -f test_free/1D30_solv/prot_em/DAP.trr -o test_free/1D30_solv/prot_em/DAP_compact.xtc -s test_free/1D30_solv/prot_em/DAP.tpr -ur compact -pbc mol -center yes\n",
      "gmx grompp -f equi_HA_short_DAP.mdp -c ../prot_em/DAP.gro -r ../prot_em/DAP.gro -p ../sys_top/DAP_water_ion.top -po out_equi_HA_short_DAP.mdp -o equi_HA_short_DAP.tpr -maxwarn 3\n",
      "gmx mdrun -s equi_HA_short_DAP.tpr -deffnm equi_HA_short_DAP -nt 0 -ntmpi 0 -nsteps -2 -nocopyright\n"
     ]
    },
    {
     "data": {
      "application/vnd.jupyter.widget-view+json": {
       "model_id": "78d662d032ec4a73b24ead5b17973ab6",
       "version_major": 2,
       "version_minor": 0
      },
      "text/plain": [
       "HBox(children=(HTML(value=''), FloatProgress(value=0.0, max=500.0), HTML(value='')))"
      ]
     },
     "metadata": {},
     "output_type": "display_data"
    },
    {
     "name": "stdout",
     "output_type": "stream",
     "text": [
      "\n",
      "gmx make_ndx -f test_free/1D30_solv/sys_short_equi/equi_HA_short_DAP.gro -o test_free/1D30_solv/sys_short_equi/equi_HA_short_DAP.ndx\n",
      "gmx make_ndx -f test_free/1D30_solv/sys_short_equi/equi_HA_short_DAP.gro -o test_free/1D30_solv/sys_short_equi/equi_HA_short_DAP.ndx\n",
      "{'tc-grps': 'DNA_DAP Water_and_ions'}\n",
      "gmx grompp -f equi_HA_DAP.mdp -c ../../sys_short_equi/equi_HA_short_DAP.gro -r ../../prot_em/DAP.gro -p ../../sys_top/DAP_water_ion.top -po out_equi_HA_DAP.mdp -o equi_HA_DAP.tpr -maxwarn 3 -n ../../sys_short_equi/equi_HA_short_DAP.ndx\n",
      "gmx mdrun -s equi_HA_DAP.tpr -deffnm equi_HA_DAP -nt 0 -ntmpi 0 -nsteps -2 -nocopyright\n"
     ]
    },
    {
     "data": {
      "application/vnd.jupyter.widget-view+json": {
       "model_id": "bdf81b07026849b788876e2e054dfb59",
       "version_major": 2,
       "version_minor": 0
      },
      "text/plain": [
       "HBox(children=(HTML(value=''), FloatProgress(value=0.0, max=1000.0), HTML(value='')))"
      ]
     },
     "metadata": {},
     "output_type": "display_data"
    },
    {
     "name": "stdout",
     "output_type": "stream",
     "text": [
      "\n",
      "gmx grompp -f equi_CA_DAP.mdp -c ../00_equi_HA/equi_HA_DAP.gro -r ../../prot_em/DAP.gro -p ../../sys_top/DAP_water_ion.top -po out_equi_CA_DAP.mdp -o equi_CA_DAP.tpr -maxwarn 3 -n ../../sys_short_equi/equi_HA_short_DAP.ndx\n",
      "gmx mdrun -s equi_CA_DAP.tpr -deffnm equi_CA_DAP -nt 0 -ntmpi 0 -nsteps -2 -nocopyright\n"
     ]
    },
    {
     "data": {
      "application/vnd.jupyter.widget-view+json": {
       "model_id": "f861d15963da41e98a454eb705fbaeb4",
       "version_major": 2,
       "version_minor": 0
      },
      "text/plain": [
       "HBox(children=(HTML(value=''), FloatProgress(value=0.0, max=1000.0), HTML(value='')))"
      ]
     },
     "metadata": {},
     "output_type": "display_data"
    },
    {
     "name": "stdout",
     "output_type": "stream",
     "text": [
      "\n",
      "gmx grompp -f equi_CA_LOW_DAP.mdp -c ../01_equi_CA/equi_CA_DAP.gro -r ../../prot_em/DAP.gro -p ../../sys_top/DAP_water_ion.top -po out_equi_CA_LOW_DAP.mdp -o equi_CA_LOW_DAP.tpr -maxwarn 3 -n ../../sys_short_equi/equi_HA_short_DAP.ndx\n",
      "gmx mdrun -s equi_CA_LOW_DAP.tpr -deffnm equi_CA_LOW_DAP -nt 0 -ntmpi 0 -nsteps -2 -nocopyright\n"
     ]
    },
    {
     "data": {
      "application/vnd.jupyter.widget-view+json": {
       "model_id": "b9ea748b484a4a489ef5ab299c93f409",
       "version_major": 2,
       "version_minor": 0
      },
      "text/plain": [
       "HBox(children=(HTML(value=''), FloatProgress(value=0.0, max=10000.0), HTML(value='')))"
      ]
     },
     "metadata": {},
     "output_type": "display_data"
    },
    {
     "name": "stdout",
     "output_type": "stream",
     "text": [
      "\n"
     ]
    }
   ],
   "source": [
    "dna_free.equilibrate_complex(em_steps=100, HA_time=0.001,\n",
    "                             CA_time=0.002, CA_LOW_time=0.02,\n",
    "                             dt=0.002, dt_HA=0.001, temp=300,\n",
    "                             receptor_grp='DNA',\n",
    "                             short_steps=500)"
   ]
  },
  {
   "cell_type": "code",
   "execution_count": 10,
   "metadata": {},
   "outputs": [
    {
     "name": "stdout",
     "output_type": "stream",
     "text": [
      "gmx trjconv -f test_free/1D30_solv/sys_equi/02_equi_CA_LOW/equi_CA_LOW_DAP.xtc -o test_free/1D30_solv/sys_equi/02_equi_CA_LOW/equi_CA_LOW_DAP_compact.xtc -s test_free/1D30_solv/sys_equi/02_equi_CA_LOW/equi_CA_LOW_DAP.tpr -ur compact -pbc mol -center yes -n test_free/1D30_solv/sys_short_equi/equi_HA_short_DAP.ndx\n",
      "gmx trjconv -f test_free/1D30_solv/sys_equi/02_equi_CA_LOW/equi_CA_LOW_DAP_compact.xtc -o test_free/1D30_solv/sys_equi/02_equi_CA_LOW/equi_CA_LOW_DAP_compact_compact.xtc -s test_free/1D30_solv/sys_equi/02_equi_CA_LOW/equi_CA_LOW_DAP.tpr -ur compact -pbc none -fit rot+trans -n test_free/1D30_solv/sys_short_equi/equi_HA_short_DAP.ndx\n",
      "gmx rmsf -s test_free/1D30_solv/sys_equi/02_equi_CA_LOW/equi_CA_LOW_DAP.tpr -f test_free/1D30_solv/sys_equi/02_equi_CA_LOW/equi_CA_LOW_DAP_compact_compact.xtc -n test_free/1D30_solv/sys_short_equi/equi_HA_short_DAP.ndx -o tmp_rmsf.xvg -fit no -res no\n",
      "Ligand atom indexes : [778, 777, 772]\n",
      "gmx rmsf -s test_free/1D30_solv/sys_equi/02_equi_CA_LOW/equi_CA_LOW_DAP.tpr -f test_free/1D30_solv/sys_equi/02_equi_CA_LOW/equi_CA_LOW_DAP_compact_compact.xtc -n test_free/1D30_solv/sys_short_equi/equi_HA_short_DAP.ndx -o tmp_rmsf.xvg -fit no -res no\n"
     ]
    }
   ],
   "source": [
    "dna_free.compute_add_intermol_from_traj(ref_coor=None, rec_group='DNA')"
   ]
  },
  {
   "cell_type": "code",
   "execution_count": 11,
   "metadata": {},
   "outputs": [
    {
     "name": "stdout",
     "output_type": "stream",
     "text": [
      "7.759042019939441\n"
     ]
    }
   ],
   "source": [
    "dg_rest_water = dna_free.get_water_restr()\n",
    "print(dg_rest_water)"
   ]
  },
  {
   "cell_type": "code",
   "execution_count": 12,
   "metadata": {},
   "outputs": [
    {
     "name": "stdout",
     "output_type": "stream",
     "text": [
      "gmx distance -n tmp.ndx -f test_free/1D30_solv/sys_equi/02_equi_CA_LOW/equi_CA_LOW_DAP_compact_compact.xtc -s test_free/1D30_solv/sys_equi/02_equi_CA_LOW/equi_CA_LOW_DAP.tpr -oall tmp_dist.xvg\n",
      "0.34 0.39\n",
      "gmx angle -n tmp.ndx -f test_free/1D30_solv/sys_equi/02_equi_CA_LOW/equi_CA_LOW_DAP_compact_compact.xtc -ov tmp_angle.xvg -od tmp_angdist.xvg -type angle -all\n",
      "gmx angle -n tmp.ndx -f test_free/1D30_solv/sys_equi/02_equi_CA_LOW/equi_CA_LOW_DAP_compact_compact.xtc -ov tmp_angle.xvg -od tmp_angdist.xvg -type dihedral -all\n"
     ]
    },
    {
     "data": {
      "image/png": "[encoded data removed]",
      "text/plain": [
       "<Figure size 576x720 with 3 Axes>"
      ]
     },
     "metadata": {
      "needs_background": "light"
     },
     "output_type": "display_data"
    }
   ],
   "source": [
    "dna_free.plot_intermol_restr()"
   ]
  },
  {
   "cell_type": "code",
   "execution_count": 14,
   "metadata": {},
   "outputs": [],
   "source": [
    "delta_restr = 0.5\n",
    "restr_list = np.arange(0, 1 + delta_restr, delta_restr)\n",
    "delta_coul = 0.5\n",
    "coul_list = np.arange(0, 1 + delta_coul, delta_coul)\n",
    "vdw_coul = 0.5\n",
    "vdw_list = np.arange(0, 1 + vdw_coul, vdw_coul)\n"
   ]
  },
  {
   "cell_type": "code",
   "execution_count": 15,
   "metadata": {},
   "outputs": [
    {
     "data": {
      "application/vnd.jupyter.widget-view+json": {
       "model_id": "7f8de96ec4b3439eba634f2ba7a109d7",
       "version_major": 2,
       "version_minor": 0
      },
      "text/plain": [
       "HBox(children=(HTML(value=''), FloatProgress(value=0.0, max=1575.0), HTML(value='')))"
      ]
     },
     "metadata": {},
     "output_type": "display_data"
    },
    {
     "name": "stderr",
     "output_type": "stream",
     "text": [
      "WARNING !!! ADDING unusual parameter : \"calc_lambda_neighbors\"in the mdp file em_DAP_vdwq_00.mdp\n"
     ]
    },
    {
     "name": "stdout",
     "output_type": "stream",
     "text": [
      "gmx grompp -f em_DAP_vdwq_00.mdp -c ../../sys_equi/02_equi_CA_LOW/equi_CA_LOW_DAP.gro -r ../../sys_equi/02_equi_CA_LOW/equi_CA_LOW_DAP.gro -p ../../sys_top/DAP_water_ion_rest.top -po out_em_DAP_vdwq_00.mdp -o em_DAP_vdwq_00.tpr -maxwarn 1 -n ../../sys_short_equi/equi_HA_short_DAP.ndx\n",
      "gmx mdrun -s em_DAP_vdwq_00.tpr -deffnm em_DAP_vdwq_00 -nt 0 -ntmpi 0 -nsteps -2 -nocopyright\n"
     ]
    },
    {
     "data": {
      "application/vnd.jupyter.widget-view+json": {
       "model_id": "9aa11de020c44749b831b060c8d5b604",
       "version_major": 2,
       "version_minor": 0
      },
      "text/plain": [
       "HBox(children=(HTML(value=''), FloatProgress(value=0.0, max=50.0), HTML(value='')))"
      ]
     },
     "metadata": {},
     "output_type": "display_data"
    },
    {
     "name": "stdout",
     "output_type": "stream",
     "text": [
      "\n",
      "The following command could not be executed correctly :\n",
      "gmx mdrun -s em_DAP_vdwq_00.tpr -deffnm em_DAP_vdwq_00 -nt 0 -ntmpi 0 -nsteps -2 -nocopyright\n",
      "\n",
      "                      :-) GROMACS - gmx mdrun, 2021.1 (-:\n",
      "\n",
      "Executable:   /home/murail/Documents/Software/local-gromacs-2021.1/bin/gmx\n",
      "Data prefix:  /home/murail/Documents/Software/local-gromacs-2021.1\n",
      "Working dir:  /home/murail/Documents/Code/gromacs_py/docs/notebook/test_free/1D30_solv/free_ener_run/00_em\n",
      "Command line:\n",
      "  gmx mdrun -s em_DAP_vdwq_00.tpr -deffnm em_DAP_vdwq_00 -nt 0 -ntmpi 0 -nsteps -2 -nocopyright\n",
      "\n",
      "\n",
      "WARNING: An error occurred while sanity checking device #0. An unhandled error from a previous CUDA operation was detected. CUDA error #2 (cudaErrorMemoryAllocation): out of memory.\n",
      "\n",
      "Reading file em_DAP_vdwq_00.tpr, VERSION 2021.1 (single precision)\n",
      "Using 1 MPI thread\n",
      "Using 12 OpenMP threads \n",
      "\n",
      "\n",
      "Steepest Descents:\n",
      "   Tolerance (Fmax)   =  1.00000e+01\n",
      "   Number of steps    =           50\n",
      "\n",
      "-------------------------------------------------------\n",
      "Program:     gmx mdrun, version 2021.1\n",
      "Source file: src/gromacs/gmxlib/nonbonded/nb_free_energy.cpp (line 854)\n",
      "\n",
      "Fatal error:\n",
      "There are 9 perturbed non-bonded pair interactions beyond the pair-list cutoff\n",
      "of 1.155 nm, which is not supported. This can happen because the system is\n",
      "unstable or because intra-molecular interactions at long distances are\n",
      "excluded. If the latter is the case, you can try to increase nstlist or rlist\n",
      "to avoid this.The error is likely triggered by the use of couple-intramol=no\n",
      "and the maximal distance in the decoupled molecule exceeding rlist.\n",
      "\n",
      "For more information and tips for troubleshooting, please check the GROMACS\n",
      "website at http://www.gromacs.org/Documentation/Errors\n",
      "-------------------------------------------------------\n",
      "\n"
     ]
    },
    {
     "ename": "RuntimeError",
     "evalue": "Following Command Fails : /home/murail/Documents/Software/local-gromacs-2021.1/bin/gmx mdrun -s em_DAP_vdwq_00.tpr -deffnm em_DAP_vdwq_00 -nt 0 -ntmpi 0 -nsteps -2 -nocopyright",
     "output_type": "error",
     "traceback": [
      "\u001b[0;31m---------------------------------------------------------------------------\u001b[0m",
      "\u001b[0;31mRuntimeError\u001b[0m                              Traceback (most recent call last)",
      "\u001b[0;32m<ipython-input-15-2a0905fd71a5>\u001b[0m in \u001b[0;36m<module>\u001b[0;34m\u001b[0m\n\u001b[1;32m      3\u001b[0m                  \u001b[0mlambda_vdw_list\u001b[0m\u001b[0;34m=\u001b[0m\u001b[0mvdw_list\u001b[0m\u001b[0;34m,\u001b[0m\u001b[0;34m\u001b[0m\u001b[0;34m\u001b[0m\u001b[0m\n\u001b[1;32m      4\u001b[0m                  \u001b[0mem_steps\u001b[0m\u001b[0;34m=\u001b[0m\u001b[0;36m50\u001b[0m\u001b[0;34m,\u001b[0m \u001b[0mnvt_time\u001b[0m\u001b[0;34m=\u001b[0m\u001b[0;36m0.05\u001b[0m\u001b[0;34m,\u001b[0m \u001b[0mnpt_time\u001b[0m\u001b[0;34m=\u001b[0m\u001b[0;36m0.05\u001b[0m\u001b[0;34m,\u001b[0m \u001b[0mprod_time\u001b[0m\u001b[0;34m=\u001b[0m\u001b[0;36m0.25\u001b[0m\u001b[0;34m,\u001b[0m\u001b[0;34m\u001b[0m\u001b[0;34m\u001b[0m\u001b[0m\n\u001b[0;32m----> 5\u001b[0;31m                  temp_groups='System')\n\u001b[0m",
      "\u001b[0;32m~/Documents/Code/gromacs_py/gromacs_py/free_ener.py\u001b[0m in \u001b[0;36mrun\u001b[0;34m(self, lambda_coul_list, lambda_vdw_list, lambda_restr_list, mbar, dir_name, em_steps, nvt_time, npt_time, prod_time, dt, temp, temp_groups, maxwarn, monitor_tool)\u001b[0m\n\u001b[1;32m    603\u001b[0m                 \u001b[0mprod_steps\u001b[0m\u001b[0;34m=\u001b[0m\u001b[0mprod_steps\u001b[0m\u001b[0;34m,\u001b[0m\u001b[0;34m\u001b[0m\u001b[0;34m\u001b[0m\u001b[0m\n\u001b[1;32m    604\u001b[0m                 \u001b[0mmaxwarn\u001b[0m\u001b[0;34m=\u001b[0m\u001b[0mmaxwarn\u001b[0m\u001b[0;34m,\u001b[0m\u001b[0;34m\u001b[0m\u001b[0;34m\u001b[0m\u001b[0m\n\u001b[0;32m--> 605\u001b[0;31m                 monitor_tool=monitor_tool)\n\u001b[0m\u001b[1;32m    606\u001b[0m             \u001b[0mself\u001b[0m\u001b[0;34m.\u001b[0m\u001b[0mlambda_sys_list\u001b[0m\u001b[0;34m.\u001b[0m\u001b[0mappend\u001b[0m\u001b[0;34m(\u001b[0m\u001b[0mlambda_sys\u001b[0m\u001b[0;34m)\u001b[0m\u001b[0;34m\u001b[0m\u001b[0;34m\u001b[0m\u001b[0m\n\u001b[1;32m    607\u001b[0m             \u001b[0mself\u001b[0m\u001b[0;34m.\u001b[0m\u001b[0mxvg_file_list\u001b[0m\u001b[0;34m.\u001b[0m\u001b[0mappend\u001b[0m\u001b[0;34m(\u001b[0m\u001b[0mlambda_sys\u001b[0m\u001b[0;34m.\u001b[0m\u001b[0mxvg\u001b[0m\u001b[0;34m)\u001b[0m\u001b[0;34m\u001b[0m\u001b[0;34m\u001b[0m\u001b[0m\n",
      "\u001b[0;32m~/Documents/Code/gromacs_py/gromacs_py/free_ener.py\u001b[0m in \u001b[0;36mcompute_lambda_point\u001b[0;34m(gmx_sys, lambda_iter, mol_name, out_folder, free_ener_option, pbar, mbar, em_steps, nvt_steps, npt_steps, prod_steps, maxwarn, monitor_tool)\u001b[0m\n\u001b[1;32m    694\u001b[0m                            \u001b[0mmdp_template\u001b[0m\u001b[0;34m=\u001b[0m\u001b[0mmini_template_mdp\u001b[0m\u001b[0;34m,\u001b[0m\u001b[0;34m\u001b[0m\u001b[0;34m\u001b[0m\u001b[0m\n\u001b[1;32m    695\u001b[0m                            \u001b[0mmdp_options\u001b[0m\u001b[0;34m=\u001b[0m\u001b[0mfree_ener_option_em\u001b[0m\u001b[0;34m,\u001b[0m \u001b[0mmaxwarn\u001b[0m\u001b[0;34m=\u001b[0m\u001b[0mmaxwarn\u001b[0m\u001b[0;34m,\u001b[0m\u001b[0;34m\u001b[0m\u001b[0;34m\u001b[0m\u001b[0m\n\u001b[0;32m--> 696\u001b[0;31m                            monitor_tool=monitor_tool)\n\u001b[0m\u001b[1;32m    697\u001b[0m         \u001b[0mpbar\u001b[0m\u001b[0;34m.\u001b[0m\u001b[0mupdate\u001b[0m\u001b[0;34m(\u001b[0m\u001b[0mem_steps\u001b[0m\u001b[0;34m)\u001b[0m\u001b[0;34m\u001b[0m\u001b[0;34m\u001b[0m\u001b[0m\n\u001b[1;32m    698\u001b[0m \u001b[0;34m\u001b[0m\u001b[0m\n",
      "\u001b[0;32m~/Documents/Code/gromacs_py/gromacs_py/gmx/gmxsys.py\u001b[0m in \u001b[0;36mrun_md_sim\u001b[0;34m(self, out_folder, name, mdp_template, mdp_options, pdb_restr, maxwarn, monitor_tool)\u001b[0m\n\u001b[1;32m   4090\u001b[0m         \u001b[0mself\u001b[0m\u001b[0;34m.\u001b[0m\u001b[0madd_mdp\u001b[0m\u001b[0;34m(\u001b[0m\u001b[0mmdp_template\u001b[0m\u001b[0;34m=\u001b[0m\u001b[0mmdp_template\u001b[0m\u001b[0;34m,\u001b[0m \u001b[0mmdp_options\u001b[0m\u001b[0;34m=\u001b[0m\u001b[0mmdp_options\u001b[0m\u001b[0;34m)\u001b[0m\u001b[0;34m\u001b[0m\u001b[0;34m\u001b[0m\u001b[0m\n\u001b[1;32m   4091\u001b[0m         \u001b[0mself\u001b[0m\u001b[0;34m.\u001b[0m\u001b[0madd_tpr\u001b[0m\u001b[0;34m(\u001b[0m\u001b[0mname\u001b[0m\u001b[0;34m=\u001b[0m\u001b[0mname\u001b[0m\u001b[0;34m,\u001b[0m \u001b[0mr\u001b[0m\u001b[0;34m=\u001b[0m\u001b[0mpdb_restr\u001b[0m\u001b[0;34m,\u001b[0m \u001b[0mmaxwarn\u001b[0m\u001b[0;34m=\u001b[0m\u001b[0mmaxwarn\u001b[0m\u001b[0;34m)\u001b[0m\u001b[0;34m\u001b[0m\u001b[0;34m\u001b[0m\u001b[0m\n\u001b[0;32m-> 4092\u001b[0;31m         \u001b[0mself\u001b[0m\u001b[0;34m.\u001b[0m\u001b[0mrun_simulation\u001b[0m\u001b[0;34m(\u001b[0m\u001b[0mmonitor_tool\u001b[0m\u001b[0;34m=\u001b[0m\u001b[0mmonitor_tool\u001b[0m\u001b[0;34m)\u001b[0m\u001b[0;34m\u001b[0m\u001b[0;34m\u001b[0m\u001b[0m\n\u001b[0m\u001b[1;32m   4093\u001b[0m \u001b[0;34m\u001b[0m\u001b[0m\n\u001b[1;32m   4094\u001b[0m         \u001b[0;31m# Get absolute path:\u001b[0m\u001b[0;34m\u001b[0m\u001b[0;34m\u001b[0m\u001b[0;34m\u001b[0m\u001b[0m\n",
      "\u001b[0;32m~/Documents/Code/gromacs_py/gromacs_py/gmx/gmxsys.py\u001b[0m in \u001b[0;36mrun_simulation\u001b[0;34m(self, check_file_out, cpi, nsteps, rerun, monitor_tool)\u001b[0m\n\u001b[1;32m   4005\u001b[0m \u001b[0;34m\u001b[0m\u001b[0m\n\u001b[1;32m   4006\u001b[0m             \u001b[0mmonitor_tool\u001b[0m\u001b[0;34m.\u001b[0m\u001b[0mupdate\u001b[0m\u001b[0;34m(\u001b[0m\u001b[0mmonitor_files\u001b[0m\u001b[0;34m)\u001b[0m\u001b[0;34m\u001b[0m\u001b[0;34m\u001b[0m\u001b[0m\n\u001b[0;32m-> 4007\u001b[0;31m             \u001b[0mcmd_run\u001b[0m\u001b[0;34m.\u001b[0m\u001b[0mrun_background\u001b[0m\u001b[0;34m(\u001b[0m\u001b[0mmonitor_tool\u001b[0m\u001b[0;34m)\u001b[0m\u001b[0;34m\u001b[0m\u001b[0;34m\u001b[0m\u001b[0m\n\u001b[0m\u001b[1;32m   4008\u001b[0m \u001b[0;34m\u001b[0m\u001b[0m\n\u001b[1;32m   4009\u001b[0m         \u001b[0;31m# If it's not a rerun, assign all output to the object variables\u001b[0m\u001b[0;34m\u001b[0m\u001b[0;34m\u001b[0m\u001b[0;34m\u001b[0m\u001b[0m\n",
      "\u001b[0;32m~/miniconda3/envs/gromacs_py/lib/python3.7/site-packages/os_command_py/os_command.py\u001b[0m in \u001b[0;36mrun_background\u001b[0;34m(self, func_input_dict, com_input, display, out_data)\u001b[0m\n\u001b[1;32m    522\u001b[0m         \u001b[0mprint\u001b[0m\u001b[0;34m(\u001b[0m\u001b[0mstderr_data\u001b[0m\u001b[0;34m.\u001b[0m\u001b[0mdecode\u001b[0m\u001b[0;34m(\u001b[0m\u001b[0;34m'utf-8'\u001b[0m\u001b[0;34m)\u001b[0m\u001b[0;34m)\u001b[0m\u001b[0;34m\u001b[0m\u001b[0;34m\u001b[0m\u001b[0m\n\u001b[1;32m    523\u001b[0m         raise RuntimeError('Following Command Fails : {}'.format(\n\u001b[0;32m--> 524\u001b[0;31m             \" \".join(self.cmd)))\n\u001b[0m\u001b[1;32m    525\u001b[0m \u001b[0;34m\u001b[0m\u001b[0m\n\u001b[1;32m    526\u001b[0m \u001b[0;34m\u001b[0m\u001b[0m\n",
      "\u001b[0;31mRuntimeError\u001b[0m: Following Command Fails : /home/murail/Documents/Software/local-gromacs-2021.1/bin/gmx mdrun -s em_DAP_vdwq_00.tpr -deffnm em_DAP_vdwq_00 -nt 0 -ntmpi 0 -nsteps -2 -nocopyright"
     ]
    }
   ],
   "source": [
    "dna_free.run(lambda_restr_list=restr_list,\n",
    "                 lambda_coul_list=coul_list,\n",
    "                 lambda_vdw_list=vdw_list,\n",
    "                 em_steps=50, nvt_time=0.05, npt_time=0.05, prod_time=0.25,\n",
    "                 temp_groups='System')"
   ]
  },
  {
   "cell_type": "code",
   "execution_count": 6,
   "metadata": {},
   "outputs": [
    {
     "data": {
      "application/vnd.jupyter.widget-view+json": {
       "model_id": "41f06dad09d04ec7a0015d30bae1ee3f",
       "version_major": 2,
       "version_minor": 0
      },
      "text/plain": []
     },
     "metadata": {},
     "output_type": "display_data"
    },
    {
     "data": {
      "application/vnd.jupyter.widget-view+json": {
       "model_id": "0e1736225ef94ac097389e2fb73e6251",
       "version_major": 2,
       "version_minor": 0
      },
      "text/plain": [
       "NGLWidget()"
      ]
     },
     "metadata": {},
     "output_type": "display_data"
    }
   ],
   "source": [
    "view = cyclic_pep.view_coor()\n",
    "view.add_representation(repr_type='licorice', selection='protein')\n",
    "view"
   ]
  },
  {
   "cell_type": "code",
   "execution_count": 7,
   "metadata": {},
   "outputs": [
    {
     "name": "stdout",
     "output_type": "stream",
     "text": [
      "gmx pdb2gmx -f ../../../../../gromacs_py/test_files/5vav.pdb -o no_cyclic_5vav_pdb2gmx.pdb -p no_cyclic_5vav_pdb2gmx.top -i no_cyclic_5vav_posre.itp -water tip3p -ff amber99sb-ildn -ignh -ter -vsite none\n"
     ]
    }
   ],
   "source": [
    "#Basic usage :\n",
    "cyclic_pep.cyclic_peptide_top(out_folder=os.path.join(TEST_OUT,'cyclic/top'), ff='amber99sb-ildn')"
   ]
  },
  {
   "cell_type": "code",
   "execution_count": 8,
   "metadata": {},
   "outputs": [
    {
     "data": {
      "application/vnd.jupyter.widget-view+json": {
       "model_id": "bbdb59650c5646d28ecb0d789e5cda59",
       "version_major": 2,
       "version_minor": 0
      },
      "text/plain": [
       "NGLWidget()"
      ]
     },
     "metadata": {},
     "output_type": "display_data"
    }
   ],
   "source": [
    "view = cyclic_pep.view_coor()\n",
    "view.add_representation(repr_type='licorice', selection='protein')\n",
    "view"
   ]
  },
  {
   "cell_type": "code",
   "execution_count": 9,
   "metadata": {},
   "outputs": [
    {
     "name": "stdout",
     "output_type": "stream",
     "text": [
      "0.0\n"
     ]
    }
   ],
   "source": [
    "cyclic_top = gmx.TopSys(cyclic_pep.top_file)\n",
    "print(cyclic_top.charge())"
   ]
  },
  {
   "cell_type": "code",
   "execution_count": 10,
   "metadata": {},
   "outputs": [
    {
     "name": "stdout",
     "output_type": "stream",
     "text": [
      "gmx editconf -f tmp/cyclic/top/no_cyclic_5vav_pdb2gmx.pdb -o tmp/cyclic/top/no_cyclic_5vav_pdb2gmx_box.pdb -bt dodecahedron -d 1.0\n",
      "gmx grompp -f 5vav.mdp -c ../top/no_cyclic_5vav_pdb2gmx_box.pdb -r ../top/no_cyclic_5vav_pdb2gmx_box.pdb -p ../top/no_cyclic_5vav_pdb2gmx.top -po out_5vav.mdp -o 5vav.tpr -maxwarn 1\n",
      "gmx mdrun -s 5vav.tpr -deffnm 5vav -nt 0 -ntmpi 0 -nsteps -2 -nocopyright\n"
     ]
    },
    {
     "data": {
      "application/vnd.jupyter.widget-view+json": {
       "model_id": "8a27e98b87434694b9fccb9cd8eb7638",
       "version_major": 2,
       "version_minor": 0
      },
      "text/plain": [
       "HBox(children=(HTML(value=''), FloatProgress(value=0.0), HTML(value='')))"
      ]
     },
     "metadata": {},
     "output_type": "display_data"
    },
    {
     "name": "stdout",
     "output_type": "stream",
     "text": [
      "\n"
     ]
    }
   ],
   "source": [
    "#cyclic_pep.em(out_folder=TEST_OUT+'/cyclic_charmm/em/', nsteps=100, create_box_flag=True)\n",
    "cyclic_pep.em(out_folder=TEST_OUT+'/cyclic/em/', nsteps=100, create_box_flag=True)"
   ]
  },
  {
   "cell_type": "code",
   "execution_count": 12,
   "metadata": {},
   "outputs": [
    {
     "data": {
      "application/vnd.jupyter.widget-view+json": {
       "model_id": "a87fc7280b0c4e418814f4ff47c5e37e",
       "version_major": 2,
       "version_minor": 0
      },
      "text/plain": [
       "NGLWidget()"
      ]
     },
     "metadata": {},
     "output_type": "display_data"
    }
   ],
   "source": [
    "view = cyclic_pep.view_traj()\n",
    "view.add_representation(repr_type='licorice', selection='protein')\n",
    "view"
   ]
  },
  {
   "cell_type": "code",
   "execution_count": 14,
   "metadata": {},
   "outputs": [
    {
     "data": {
      "text/plain": [
       "14"
      ]
     },
     "execution_count": 14,
     "metadata": {},
     "output_type": "execute_result"
    }
   ],
   "source": [
    "cyclic_top = gmx.TopSys(cyclic_pep.top_file)\n",
    "cyclic_top.prot_res_num()"
   ]
  },
  {
   "cell_type": "code",
   "execution_count": null,
   "metadata": {},
   "outputs": [],
   "source": []
  }
 ],
 "metadata": {
  "kernelspec": {
   "display_name": "Python 3",
   "language": "python",
   "name": "python3"
  },
  "language_info": {
   "codemirror_mode": {
    "name": "ipython",
    "version": 3
   },
   "file_extension": ".py",
   "mimetype": "text/x-python",
   "name": "python",
   "nbconvert_exporter": "python",
   "pygments_lexer": "ipython3",
   "version": "3.7.8"
  },
  "toc": {
   "base_numbering": 1,
   "nav_menu": {},
   "number_sections": true,
   "sideBar": true,
   "skip_h1_title": false,
   "title_cell": "Table of Contents",
   "title_sidebar": "Contents",
   "toc_cell": false,
   "toc_position": {},
   "toc_section_display": true,
   "toc_window_display": false
  }
 },
 "nbformat": 4,
 "nbformat_minor": 2
}
