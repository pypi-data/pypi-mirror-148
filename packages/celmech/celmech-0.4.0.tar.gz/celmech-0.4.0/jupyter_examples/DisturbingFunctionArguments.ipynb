{
 "cells": [
  {
   "cell_type": "markdown",
   "id": "fb641803",
   "metadata": {},
   "source": [
    "# Disturbing Function Arguments\n",
    "\n",
    "This notebook illustrates some functions for producing lists of disturbing function arguments."
   ]
  },
  {
   "cell_type": "code",
   "execution_count": 1,
   "id": "3e01bfcd",
   "metadata": {},
   "outputs": [],
   "source": [
    "import sympy \n",
    "from sympy import symbols"
   ]
  },
  {
   "cell_type": "markdown",
   "id": "174a49c3",
   "metadata": {},
   "source": [
    "## `df_arguments_dictionary`\n",
    "This function produces a comprehensive list of cosine arguments appearing in the disturbing function up to a user-specified maximum order in eccentricities and inclinations. The results are organized as a nested dictionary, as described in the function's docstring."
   ]
  },
  {
   "cell_type": "code",
   "execution_count": 2,
   "id": "30ae99ca",
   "metadata": {},
   "outputs": [],
   "source": [
    "from celmech.disturbing_function import df_arguments_dictionary"
   ]
  },
  {
   "cell_type": "code",
   "execution_count": 3,
   "id": "7aa9d126",
   "metadata": {},
   "outputs": [],
   "source": [
    "Nmax = 3 # get all disturbing function cosine arguemnts appearing up to this order\n",
    "dfargs = df_arguments_dictionary(Nmax)"
   ]
  },
  {
   "cell_type": "code",
   "execution_count": 4,
   "id": "4ac031ad",
   "metadata": {},
   "outputs": [],
   "source": [
    "# Get some sympy symbols to represent disturbing function arguments\n",
    "from sympy import symbols, Matrix\n",
    "k =symbols(\"k\")\n",
    "l1,l2 = symbols(\"lambda(1:3)\")\n",
    "pmg1,pmg2 = symbols(\"varpi(1:3)\")\n",
    "Omega1,Omega2 = symbols(\"Omega(1:3)\")\n",
    "pmgOmg = Matrix([pmg1,pmg2,Omega1,Omega2])"
   ]
  },
  {
   "cell_type": "code",
   "execution_count": 5,
   "id": "c241a7ff",
   "metadata": {
    "scrolled": false
   },
   "outputs": [
    {
     "name": "stdout",
     "output_type": "stream",
     "text": [
      "Order 0 Arguments\n",
      "------------------\n"
     ]
    },
    {
     "data": {
      "text/latex": [
       "$$- k \\lambda_{1} + k \\lambda_{2}$$"
      ],
      "text/plain": [
       "-k⋅λ₁ + k⋅λ₂"
      ]
     },
     "metadata": {},
     "output_type": "display_data"
    },
    {
     "name": "stdout",
     "output_type": "stream",
     "text": [
      "Order 1 Arguments\n",
      "------------------\n"
     ]
    },
    {
     "data": {
      "text/latex": [
       "$$k \\lambda_{2} + \\lambda_{1} \\left(- k + 1\\right) - \\varpi_{2}$$"
      ],
      "text/plain": [
       "k⋅λ₂ + λ₁⋅(-k + 1) - varpi₂"
      ]
     },
     "metadata": {},
     "output_type": "display_data"
    },
    {
     "data": {
      "text/latex": [
       "$$k \\lambda_{2} + \\lambda_{1} \\left(- k + 1\\right) - \\varpi_{1}$$"
      ],
      "text/plain": [
       "k⋅λ₂ + λ₁⋅(-k + 1) - varpi₁"
      ]
     },
     "metadata": {},
     "output_type": "display_data"
    },
    {
     "name": "stdout",
     "output_type": "stream",
     "text": [
      "Order 2 Arguments\n",
      "------------------\n"
     ]
    },
    {
     "data": {
      "text/latex": [
       "$$k \\lambda_{2} + \\lambda_{1} \\left(- k + 2\\right) - 2 \\varpi_{2}$$"
      ],
      "text/plain": [
       "k⋅λ₂ + λ₁⋅(-k + 2) - 2⋅varpi₂"
      ]
     },
     "metadata": {},
     "output_type": "display_data"
    },
    {
     "data": {
      "text/latex": [
       "$$k \\lambda_{2} + \\lambda_{1} \\left(- k + 2\\right) - \\varpi_{1} - \\varpi_{2}$$"
      ],
      "text/plain": [
       "k⋅λ₂ + λ₁⋅(-k + 2) - varpi₁ - varpi₂"
      ]
     },
     "metadata": {},
     "output_type": "display_data"
    },
    {
     "data": {
      "text/latex": [
       "$$k \\lambda_{2} + \\lambda_{1} \\left(- k + 2\\right) - 2 \\varpi_{1}$$"
      ],
      "text/plain": [
       "k⋅λ₂ + λ₁⋅(-k + 2) - 2⋅varpi₁"
      ]
     },
     "metadata": {},
     "output_type": "display_data"
    },
    {
     "data": {
      "text/latex": [
       "$$- 2 \\Omega_{2} + k \\lambda_{2} + \\lambda_{1} \\left(- k + 2\\right)$$"
      ],
      "text/plain": [
       "-2⋅Ω₂ + k⋅λ₂ + λ₁⋅(-k + 2)"
      ]
     },
     "metadata": {},
     "output_type": "display_data"
    },
    {
     "data": {
      "text/latex": [
       "$$- \\Omega_{1} - \\Omega_{2} + k \\lambda_{2} + \\lambda_{1} \\left(- k + 2\\right)$$"
      ],
      "text/plain": [
       "-Ω₁ - Ω₂ + k⋅λ₂ + λ₁⋅(-k + 2)"
      ]
     },
     "metadata": {},
     "output_type": "display_data"
    },
    {
     "data": {
      "text/latex": [
       "$$- 2 \\Omega_{1} + k \\lambda_{2} + \\lambda_{1} \\left(- k + 2\\right)$$"
      ],
      "text/plain": [
       "-2⋅Ω₁ + k⋅λ₂ + λ₁⋅(-k + 2)"
      ]
     },
     "metadata": {},
     "output_type": "display_data"
    },
    {
     "data": {
      "text/latex": [
       "$$- k \\lambda_{1} + k \\lambda_{2} - \\varpi_{1} + \\varpi_{2}$$"
      ],
      "text/plain": [
       "-k⋅λ₁ + k⋅λ₂ - varpi₁ + varpi₂"
      ]
     },
     "metadata": {},
     "output_type": "display_data"
    },
    {
     "data": {
      "text/latex": [
       "$$- \\Omega_{1} + \\Omega_{2} - k \\lambda_{1} + k \\lambda_{2}$$"
      ],
      "text/plain": [
       "-Ω₁ + Ω₂ - k⋅λ₁ + k⋅λ₂"
      ]
     },
     "metadata": {},
     "output_type": "display_data"
    },
    {
     "name": "stdout",
     "output_type": "stream",
     "text": [
      "Order 3 Arguments\n",
      "------------------\n"
     ]
    },
    {
     "data": {
      "text/latex": [
       "$$k \\lambda_{2} + \\lambda_{1} \\left(- k + 3\\right) - 3 \\varpi_{2}$$"
      ],
      "text/plain": [
       "k⋅λ₂ + λ₁⋅(-k + 3) - 3⋅varpi₂"
      ]
     },
     "metadata": {},
     "output_type": "display_data"
    },
    {
     "data": {
      "text/latex": [
       "$$k \\lambda_{2} + \\lambda_{1} \\left(- k + 3\\right) - \\varpi_{1} - 2 \\varpi_{2}$$"
      ],
      "text/plain": [
       "k⋅λ₂ + λ₁⋅(-k + 3) - varpi₁ - 2⋅varpi₂"
      ]
     },
     "metadata": {},
     "output_type": "display_data"
    },
    {
     "data": {
      "text/latex": [
       "$$k \\lambda_{2} + \\lambda_{1} \\left(- k + 3\\right) - 2 \\varpi_{1} - \\varpi_{2}$$"
      ],
      "text/plain": [
       "k⋅λ₂ + λ₁⋅(-k + 3) - 2⋅varpi₁ - varpi₂"
      ]
     },
     "metadata": {},
     "output_type": "display_data"
    },
    {
     "data": {
      "text/latex": [
       "$$k \\lambda_{2} + \\lambda_{1} \\left(- k + 3\\right) - 3 \\varpi_{1}$$"
      ],
      "text/plain": [
       "k⋅λ₂ + λ₁⋅(-k + 3) - 3⋅varpi₁"
      ]
     },
     "metadata": {},
     "output_type": "display_data"
    },
    {
     "data": {
      "text/latex": [
       "$$- 2 \\Omega_{2} + k \\lambda_{2} + \\lambda_{1} \\left(- k + 3\\right) - \\varpi_{2}$$"
      ],
      "text/plain": [
       "-2⋅Ω₂ + k⋅λ₂ + λ₁⋅(-k + 3) - varpi₂"
      ]
     },
     "metadata": {},
     "output_type": "display_data"
    },
    {
     "data": {
      "text/latex": [
       "$$- 2 \\Omega_{2} + k \\lambda_{2} + \\lambda_{1} \\left(- k + 3\\right) - \\varpi_{1}$$"
      ],
      "text/plain": [
       "-2⋅Ω₂ + k⋅λ₂ + λ₁⋅(-k + 3) - varpi₁"
      ]
     },
     "metadata": {},
     "output_type": "display_data"
    },
    {
     "data": {
      "text/latex": [
       "$$- \\Omega_{1} - \\Omega_{2} + k \\lambda_{2} + \\lambda_{1} \\left(- k + 3\\right) - \\varpi_{2}$$"
      ],
      "text/plain": [
       "-Ω₁ - Ω₂ + k⋅λ₂ + λ₁⋅(-k + 3) - varpi₂"
      ]
     },
     "metadata": {},
     "output_type": "display_data"
    },
    {
     "data": {
      "text/latex": [
       "$$- \\Omega_{1} - \\Omega_{2} + k \\lambda_{2} + \\lambda_{1} \\left(- k + 3\\right) - \\varpi_{1}$$"
      ],
      "text/plain": [
       "-Ω₁ - Ω₂ + k⋅λ₂ + λ₁⋅(-k + 3) - varpi₁"
      ]
     },
     "metadata": {},
     "output_type": "display_data"
    },
    {
     "data": {
      "text/latex": [
       "$$- 2 \\Omega_{1} + k \\lambda_{2} + \\lambda_{1} \\left(- k + 3\\right) - \\varpi_{2}$$"
      ],
      "text/plain": [
       "-2⋅Ω₁ + k⋅λ₂ + λ₁⋅(-k + 3) - varpi₂"
      ]
     },
     "metadata": {},
     "output_type": "display_data"
    },
    {
     "data": {
      "text/latex": [
       "$$- 2 \\Omega_{1} + k \\lambda_{2} + \\lambda_{1} \\left(- k + 3\\right) - \\varpi_{1}$$"
      ],
      "text/plain": [
       "-2⋅Ω₁ + k⋅λ₂ + λ₁⋅(-k + 3) - varpi₁"
      ]
     },
     "metadata": {},
     "output_type": "display_data"
    },
    {
     "data": {
      "text/latex": [
       "$$k \\lambda_{2} + \\lambda_{1} \\left(- k + 1\\right) + \\varpi_{1} - 2 \\varpi_{2}$$"
      ],
      "text/plain": [
       "k⋅λ₂ + λ₁⋅(-k + 1) + varpi₁ - 2⋅varpi₂"
      ]
     },
     "metadata": {},
     "output_type": "display_data"
    },
    {
     "data": {
      "text/latex": [
       "$$k \\lambda_{2} + \\lambda_{1} \\left(- k + 1\\right) - 2 \\varpi_{1} + \\varpi_{2}$$"
      ],
      "text/plain": [
       "k⋅λ₂ + λ₁⋅(-k + 1) - 2⋅varpi₁ + varpi₂"
      ]
     },
     "metadata": {},
     "output_type": "display_data"
    },
    {
     "data": {
      "text/latex": [
       "$$\\Omega_{1} - \\Omega_{2} + k \\lambda_{2} + \\lambda_{1} \\left(- k + 1\\right) - \\varpi_{1}$$"
      ],
      "text/plain": [
       "Ω₁ - Ω₂ + k⋅λ₂ + λ₁⋅(-k + 1) - varpi₁"
      ]
     },
     "metadata": {},
     "output_type": "display_data"
    },
    {
     "data": {
      "text/latex": [
       "$$\\Omega_{1} - \\Omega_{2} + k \\lambda_{2} + \\lambda_{1} \\left(- k + 1\\right) - \\varpi_{2}$$"
      ],
      "text/plain": [
       "Ω₁ - Ω₂ + k⋅λ₂ + λ₁⋅(-k + 1) - varpi₂"
      ]
     },
     "metadata": {},
     "output_type": "display_data"
    },
    {
     "data": {
      "text/latex": [
       "$$- \\Omega_{1} + \\Omega_{2} + k \\lambda_{2} + \\lambda_{1} \\left(- k + 1\\right) - \\varpi_{2}$$"
      ],
      "text/plain": [
       "-Ω₁ + Ω₂ + k⋅λ₂ + λ₁⋅(-k + 1) - varpi₂"
      ]
     },
     "metadata": {},
     "output_type": "display_data"
    },
    {
     "data": {
      "text/latex": [
       "$$- \\Omega_{1} + \\Omega_{2} + k \\lambda_{2} + \\lambda_{1} \\left(- k + 1\\right) - \\varpi_{1}$$"
      ],
      "text/plain": [
       "-Ω₁ + Ω₂ + k⋅λ₂ + λ₁⋅(-k + 1) - varpi₁"
      ]
     },
     "metadata": {},
     "output_type": "display_data"
    },
    {
     "data": {
      "text/latex": [
       "$$- 2 \\Omega_{2} + k \\lambda_{2} + \\lambda_{1} \\left(- k + 1\\right) + \\varpi_{1}$$"
      ],
      "text/plain": [
       "-2⋅Ω₂ + k⋅λ₂ + λ₁⋅(-k + 1) + varpi₁"
      ]
     },
     "metadata": {},
     "output_type": "display_data"
    },
    {
     "data": {
      "text/latex": [
       "$$- 2 \\Omega_{2} + k \\lambda_{2} + \\lambda_{1} \\left(- k + 1\\right) + \\varpi_{2}$$"
      ],
      "text/plain": [
       "-2⋅Ω₂ + k⋅λ₂ + λ₁⋅(-k + 1) + varpi₂"
      ]
     },
     "metadata": {},
     "output_type": "display_data"
    },
    {
     "data": {
      "text/latex": [
       "$$- \\Omega_{1} - \\Omega_{2} + k \\lambda_{2} + \\lambda_{1} \\left(- k + 1\\right) + \\varpi_{1}$$"
      ],
      "text/plain": [
       "-Ω₁ - Ω₂ + k⋅λ₂ + λ₁⋅(-k + 1) + varpi₁"
      ]
     },
     "metadata": {},
     "output_type": "display_data"
    },
    {
     "data": {
      "text/latex": [
       "$$- \\Omega_{1} - \\Omega_{2} + k \\lambda_{2} + \\lambda_{1} \\left(- k + 1\\right) + \\varpi_{2}$$"
      ],
      "text/plain": [
       "-Ω₁ - Ω₂ + k⋅λ₂ + λ₁⋅(-k + 1) + varpi₂"
      ]
     },
     "metadata": {},
     "output_type": "display_data"
    },
    {
     "data": {
      "text/latex": [
       "$$- 2 \\Omega_{1} + k \\lambda_{2} + \\lambda_{1} \\left(- k + 1\\right) + \\varpi_{1}$$"
      ],
      "text/plain": [
       "-2⋅Ω₁ + k⋅λ₂ + λ₁⋅(-k + 1) + varpi₁"
      ]
     },
     "metadata": {},
     "output_type": "display_data"
    },
    {
     "data": {
      "text/latex": [
       "$$- 2 \\Omega_{1} + k \\lambda_{2} + \\lambda_{1} \\left(- k + 1\\right) + \\varpi_{2}$$"
      ],
      "text/plain": [
       "-2⋅Ω₁ + k⋅λ₂ + λ₁⋅(-k + 1) + varpi₂"
      ]
     },
     "metadata": {},
     "output_type": "display_data"
    }
   ],
   "source": [
    "for order,entries in dfargs.items(): # Loop over order\n",
    "    print(\"Order {} Arguments\".format(order))\n",
    "    print(\"------------------\")\n",
    "    for dk,k3to6list in entries.items(): # loop over dk=|k_1-k_2|\n",
    "        for k3to6 in k3to6list: # loop over pomega/Omega combinations\n",
    "            pomegaOmega_combination = Matrix(k3to6).dot(pmgOmg)\n",
    "            display(k*l2 + (dk-k)*l1 + pomegaOmega_combination)"
   ]
  },
  {
   "cell_type": "markdown",
   "id": "7afd3e3b",
   "metadata": {},
   "source": [
    "## `list_resonance_terms`\n",
    "This function produces a list of $(\\pmb{k},\\pmb{\\nu})$ pairs for disturbing function terms\n",
    "$$\n",
    "        C_{\\pmb{k}}^{\\pmb{\\nu}}(\\alpha_{i,j})|Y_i|^{|k_5|+2\\nu_1}\n",
    "        |Y_j|^{|k_6|+2\\nu_2}\n",
    "        |X_i|^{|k_3|+2\\nu_3}\n",
    "        |X_j|^{|k_4|+2\\nu_4}\n",
    "        \\times \\cos[\n",
    "            k_1 \\lambda_j + k_2 \\lambda_i +\n",
    "            k_3 \\varpi_i + k_4 \\varpi_j +\n",
    "            k_5 \\Omega_i + k_6 \\Omega_j\n",
    "        ]\n",
    "$$\n",
    "having order in the range ($N_\\mathrm{min}$,$N_\\mathrm{max}$)\n",
    "\n",
    "In this example, we'll produce all $(\\pmb{k},\\pmb{\\nu})$ pairs associated with the 2:1 MMR that are 3rd order in inclinations and eccentricities."
   ]
  },
  {
   "cell_type": "code",
   "execution_count": 6,
   "id": "e5ff278e",
   "metadata": {},
   "outputs": [],
   "source": [
    "from celmech.disturbing_function import list_resonance_terms"
   ]
  },
  {
   "cell_type": "markdown",
   "id": "771f8c47",
   "metadata": {},
   "source": [
    "Produce the list of terms..."
   ]
  },
  {
   "cell_type": "code",
   "execution_count": 7,
   "id": "e43b1d91",
   "metadata": {},
   "outputs": [],
   "source": [
    "min_order = max_order = 3\n",
    "p_res = 2\n",
    "q_res = 1\n",
    "res_terms = list_resonance_terms(p_res,q_res,min_order,max_order)"
   ]
  },
  {
   "cell_type": "code",
   "execution_count": 13,
   "id": "2d7465a3",
   "metadata": {},
   "outputs": [
    {
     "data": {
      "text/latex": [
       "$$30$$"
      ],
      "text/plain": [
       "30"
      ]
     },
     "execution_count": 13,
     "metadata": {},
     "output_type": "execute_result"
    }
   ],
   "source": [
    "len(res_terms)"
   ]
  },
  {
   "cell_type": "markdown",
   "id": "904f536e",
   "metadata": {},
   "source": [
    "... and display a symbolic expression for each term in the list"
   ]
  },
  {
   "cell_type": "code",
   "execution_count": 8,
   "id": "c993560d",
   "metadata": {},
   "outputs": [],
   "source": [
    "from sympy import cos,Mul\n",
    "from celmech.disturbing_function import get_df_coefficient_symbol\n",
    "\n",
    "\n",
    "X = symbols(\"X(1:3)\")\n",
    "Y = symbols(\"Y(1:3)\")\n",
    "theta = Matrix([l1,l2,pmg1,pmg2,Omega1,Omega2])\n",
    "XY = list(X) + list(Y)"
   ]
  },
  {
   "cell_type": "code",
   "execution_count": 9,
   "id": "10873a71",
   "metadata": {
    "scrolled": false
   },
   "outputs": [
    {
     "data": {
      "text/latex": [
       "$$C_{(2,-1,0,-1,0,0)}^{(0,0,0,1),(0,0)}(\\alpha_{1,2}) \\cos{\\left (- 2 \\lambda_{1} + \\lambda_{2} + \\varpi_{2} \\right )} \\left|{X_{2}}\\right|^{3}$$"
      ],
      "text/plain": [
       "                                                                              \n",
       "C_{(2,-1,0,-1,0,0)}_{1,2})__{(0,0,0,1),(0,0)}(\\alpha⋅cos(-2⋅λ₁ + λ₂ + varpi₂)⋅\n",
       "\n",
       "    3\n",
       "│X₂│ "
      ]
     },
     "metadata": {},
     "output_type": "display_data"
    },
    {
     "data": {
      "text/latex": [
       "$$C_{(2,-1,0,-1,0,0)}^{(0,0,1,0),(0,0)}(\\alpha_{1,2}) \\cos{\\left (- 2 \\lambda_{1} + \\lambda_{2} + \\varpi_{2} \\right )} \\left|{X_{1}}\\right|^{2} \\left|{X_{2}}\\right|$$"
      ],
      "text/plain": [
       "                                                                              \n",
       "C_{(2,-1,0,-1,0,0)}_{1,2})__{(0,0,1,0),(0,0)}(\\alpha⋅cos(-2⋅λ₁ + λ₂ + varpi₂)⋅\n",
       "\n",
       "    2     \n",
       "│X₁│ ⋅│X₂│"
      ]
     },
     "metadata": {},
     "output_type": "display_data"
    },
    {
     "data": {
      "text/latex": [
       "$$C_{(2,-1,0,-1,0,0)}^{(0,1,0,0),(0,0)}(\\alpha_{1,2}) \\cos{\\left (- 2 \\lambda_{1} + \\lambda_{2} + \\varpi_{2} \\right )} \\left|{X_{2}}\\right| \\left|{Y_{2}}\\right|^{2}$$"
      ],
      "text/plain": [
       "                                                                              \n",
       "C_{(2,-1,0,-1,0,0)}_{1,2})__{(0,1,0,0),(0,0)}(\\alpha⋅cos(-2⋅λ₁ + λ₂ + varpi₂)⋅\n",
       "\n",
       "         2\n",
       "│X₂│⋅│Y₂│ "
      ]
     },
     "metadata": {},
     "output_type": "display_data"
    },
    {
     "data": {
      "text/latex": [
       "$$C_{(2,-1,0,-1,0,0)}^{(1,0,0,0),(0,0)}(\\alpha_{1,2}) \\cos{\\left (- 2 \\lambda_{1} + \\lambda_{2} + \\varpi_{2} \\right )} \\left|{X_{2}}\\right| \\left|{Y_{1}}\\right|^{2}$$"
      ],
      "text/plain": [
       "                                                                              \n",
       "C_{(2,-1,0,-1,0,0)}_{1,2})__{(1,0,0,0),(0,0)}(\\alpha⋅cos(-2⋅λ₁ + λ₂ + varpi₂)⋅\n",
       "\n",
       "         2\n",
       "│X₂│⋅│Y₁│ "
      ]
     },
     "metadata": {},
     "output_type": "display_data"
    },
    {
     "data": {
      "text/latex": [
       "$$C_{(2,-1,-1,0,0,0)}^{(0,0,0,1),(0,0)}(\\alpha_{1,2}) \\cos{\\left (- 2 \\lambda_{1} + \\lambda_{2} + \\varpi_{1} \\right )} \\left|{X_{1}}\\right| \\left|{X_{2}}\\right|^{2}$$"
      ],
      "text/plain": [
       "                                                                              \n",
       "C_{(2,-1,-1,0,0,0)}_{1,2})__{(0,0,0,1),(0,0)}(\\alpha⋅cos(-2⋅λ₁ + λ₂ + varpi₁)⋅\n",
       "\n",
       "         2\n",
       "│X₁│⋅│X₂│ "
      ]
     },
     "metadata": {},
     "output_type": "display_data"
    },
    {
     "data": {
      "text/latex": [
       "$$C_{(2,-1,-1,0,0,0)}^{(0,0,1,0),(0,0)}(\\alpha_{1,2}) \\cos{\\left (- 2 \\lambda_{1} + \\lambda_{2} + \\varpi_{1} \\right )} \\left|{X_{1}}\\right|^{3}$$"
      ],
      "text/plain": [
       "                                                                              \n",
       "C_{(2,-1,-1,0,0,0)}_{1,2})__{(0,0,1,0),(0,0)}(\\alpha⋅cos(-2⋅λ₁ + λ₂ + varpi₁)⋅\n",
       "\n",
       "    3\n",
       "│X₁│ "
      ]
     },
     "metadata": {},
     "output_type": "display_data"
    },
    {
     "data": {
      "text/latex": [
       "$$C_{(2,-1,-1,0,0,0)}^{(0,1,0,0),(0,0)}(\\alpha_{1,2}) \\cos{\\left (- 2 \\lambda_{1} + \\lambda_{2} + \\varpi_{1} \\right )} \\left|{X_{1}}\\right| \\left|{Y_{2}}\\right|^{2}$$"
      ],
      "text/plain": [
       "                                                                              \n",
       "C_{(2,-1,-1,0,0,0)}_{1,2})__{(0,1,0,0),(0,0)}(\\alpha⋅cos(-2⋅λ₁ + λ₂ + varpi₁)⋅\n",
       "\n",
       "         2\n",
       "│X₁│⋅│Y₂│ "
      ]
     },
     "metadata": {},
     "output_type": "display_data"
    },
    {
     "data": {
      "text/latex": [
       "$$C_{(2,-1,-1,0,0,0)}^{(1,0,0,0),(0,0)}(\\alpha_{1,2}) \\cos{\\left (- 2 \\lambda_{1} + \\lambda_{2} + \\varpi_{1} \\right )} \\left|{X_{1}}\\right| \\left|{Y_{1}}\\right|^{2}$$"
      ],
      "text/plain": [
       "                                                                              \n",
       "C_{(2,-1,-1,0,0,0)}_{1,2})__{(1,0,0,0),(0,0)}(\\alpha⋅cos(-2⋅λ₁ + λ₂ + varpi₁)⋅\n",
       "\n",
       "         2\n",
       "│X₁│⋅│Y₁│ "
      ]
     },
     "metadata": {},
     "output_type": "display_data"
    },
    {
     "data": {
      "text/latex": [
       "$$C_{(2,-1,1,-2,0,0)}^{(0,0,0,0),(0,0)}(\\alpha_{1,2}) \\cos{\\left (2 \\lambda_{1} - \\lambda_{2} + \\varpi_{1} - 2 \\varpi_{2} \\right )} \\left|{X_{1}}\\right| \\left|{X_{2}}\\right|^{2}$$"
      ],
      "text/plain": [
       "                                                                              \n",
       "C_{(2,-1,1,-2,0,0)}_{1,2})__{(0,0,0,0),(0,0)}(\\alpha⋅cos(2⋅λ₁ - λ₂ + varpi₁ - \n",
       "\n",
       "                   2\n",
       "2⋅varpi₂)⋅│X₁│⋅│X₂│ "
      ]
     },
     "metadata": {},
     "output_type": "display_data"
    },
    {
     "data": {
      "text/latex": [
       "$$C_{(2,-1,-2,1,0,0)}^{(0,0,0,0),(0,0)}(\\alpha_{1,2}) \\cos{\\left (2 \\lambda_{1} - \\lambda_{2} - 2 \\varpi_{1} + \\varpi_{2} \\right )} \\left|{X_{1}}\\right|^{2} \\left|{X_{2}}\\right|$$"
      ],
      "text/plain": [
       "                                                                              \n",
       "C_{(2,-1,-2,1,0,0)}_{1,2})__{(0,0,0,0),(0,0)}(\\alpha⋅cos(2⋅λ₁ - λ₂ - 2⋅varpi₁ \n",
       "\n",
       "              2     \n",
       "+ varpi₂)⋅│X₁│ ⋅│X₂│"
      ]
     },
     "metadata": {},
     "output_type": "display_data"
    },
    {
     "data": {
      "text/latex": [
       "$$C_{(2,-1,-1,0,1,-1)}^{(0,0,0,0),(0,0)}(\\alpha_{1,2}) \\cos{\\left (- \\Omega_{1} + \\Omega_{2} - 2 \\lambda_{1} + \\lambda_{2} + \\varpi_{1} \\right )} \\left|{X_{1}}\\right| \\left|{Y_{1}}\\right| \\left|{Y_{2}}\\right|$$"
      ],
      "text/plain": [
       "C_{(2,-1,-1,0,1,-1)}_{1,2})__{(0,0,0,0),(0,0)}(\\alpha⋅cos(-Ω₁ + Ω₂ - 2⋅λ₁ + λ₂\n",
       " + varpi₁)⋅│X₁│⋅│Y₁│⋅│Y₂│"
      ]
     },
     "metadata": {},
     "output_type": "display_data"
    },
    {
     "data": {
      "text/latex": [
       "$$C_{(2,-1,0,-1,1,-1)}^{(0,0,0,0),(0,0)}(\\alpha_{1,2}) \\cos{\\left (- \\Omega_{1} + \\Omega_{2} - 2 \\lambda_{1} + \\lambda_{2} + \\varpi_{2} \\right )} \\left|{X_{2}}\\right| \\left|{Y_{1}}\\right| \\left|{Y_{2}}\\right|$$"
      ],
      "text/plain": [
       "C_{(2,-1,0,-1,1,-1)}_{1,2})__{(0,0,0,0),(0,0)}(\\alpha⋅cos(-Ω₁ + Ω₂ - 2⋅λ₁ + λ₂\n",
       " + varpi₂)⋅│X₂│⋅│Y₁│⋅│Y₂│"
      ]
     },
     "metadata": {},
     "output_type": "display_data"
    },
    {
     "data": {
      "text/latex": [
       "$$C_{(2,-1,0,-1,-1,1)}^{(0,0,0,0),(0,0)}(\\alpha_{1,2}) \\cos{\\left (\\Omega_{1} - \\Omega_{2} - 2 \\lambda_{1} + \\lambda_{2} + \\varpi_{2} \\right )} \\left|{X_{2}}\\right| \\left|{Y_{1}}\\right| \\left|{Y_{2}}\\right|$$"
      ],
      "text/plain": [
       "C_{(2,-1,0,-1,-1,1)}_{1,2})__{(0,0,0,0),(0,0)}(\\alpha⋅cos(Ω₁ - Ω₂ - 2⋅λ₁ + λ₂ \n",
       "+ varpi₂)⋅│X₂│⋅│Y₁│⋅│Y₂│"
      ]
     },
     "metadata": {},
     "output_type": "display_data"
    },
    {
     "data": {
      "text/latex": [
       "$$C_{(2,-1,-1,0,-1,1)}^{(0,0,0,0),(0,0)}(\\alpha_{1,2}) \\cos{\\left (\\Omega_{1} - \\Omega_{2} - 2 \\lambda_{1} + \\lambda_{2} + \\varpi_{1} \\right )} \\left|{X_{1}}\\right| \\left|{Y_{1}}\\right| \\left|{Y_{2}}\\right|$$"
      ],
      "text/plain": [
       "C_{(2,-1,-1,0,-1,1)}_{1,2})__{(0,0,0,0),(0,0)}(\\alpha⋅cos(Ω₁ - Ω₂ - 2⋅λ₁ + λ₂ \n",
       "+ varpi₁)⋅│X₁│⋅│Y₁│⋅│Y₂│"
      ]
     },
     "metadata": {},
     "output_type": "display_data"
    },
    {
     "data": {
      "text/latex": [
       "$$C_{(2,-1,1,0,0,-2)}^{(0,0,0,0),(0,0)}(\\alpha_{1,2}) \\cos{\\left (2 \\Omega_{2} - 2 \\lambda_{1} + \\lambda_{2} - \\varpi_{1} \\right )} \\left|{X_{1}}\\right| \\left|{Y_{2}}\\right|^{2}$$"
      ],
      "text/plain": [
       "                                                                              \n",
       "C_{(2,-1,1,0,0,-2)}_{1,2})__{(0,0,0,0),(0,0)}(\\alpha⋅cos(2⋅Ω₂ - 2⋅λ₁ + λ₂ - va\n",
       "\n",
       "               2\n",
       "rpi₁)⋅│X₁│⋅│Y₂│ "
      ]
     },
     "metadata": {},
     "output_type": "display_data"
    },
    {
     "data": {
      "text/latex": [
       "$$C_{(2,-1,0,1,0,-2)}^{(0,0,0,0),(0,0)}(\\alpha_{1,2}) \\cos{\\left (2 \\Omega_{2} - 2 \\lambda_{1} + \\lambda_{2} - \\varpi_{2} \\right )} \\left|{X_{2}}\\right| \\left|{Y_{2}}\\right|^{2}$$"
      ],
      "text/plain": [
       "                                                                              \n",
       "C_{(2,-1,0,1,0,-2)}_{1,2})__{(0,0,0,0),(0,0)}(\\alpha⋅cos(2⋅Ω₂ - 2⋅λ₁ + λ₂ - va\n",
       "\n",
       "               2\n",
       "rpi₂)⋅│X₂│⋅│Y₂│ "
      ]
     },
     "metadata": {},
     "output_type": "display_data"
    },
    {
     "data": {
      "text/latex": [
       "$$C_{(2,-1,1,0,-1,-1)}^{(0,0,0,0),(0,0)}(\\alpha_{1,2}) \\cos{\\left (\\Omega_{1} + \\Omega_{2} - 2 \\lambda_{1} + \\lambda_{2} - \\varpi_{1} \\right )} \\left|{X_{1}}\\right| \\left|{Y_{1}}\\right| \\left|{Y_{2}}\\right|$$"
      ],
      "text/plain": [
       "C_{(2,-1,1,0,-1,-1)}_{1,2})__{(0,0,0,0),(0,0)}(\\alpha⋅cos(Ω₁ + Ω₂ - 2⋅λ₁ + λ₂ \n",
       "- varpi₁)⋅│X₁│⋅│Y₁│⋅│Y₂│"
      ]
     },
     "metadata": {},
     "output_type": "display_data"
    },
    {
     "data": {
      "text/latex": [
       "$$C_{(2,-1,0,1,-1,-1)}^{(0,0,0,0),(0,0)}(\\alpha_{1,2}) \\cos{\\left (\\Omega_{1} + \\Omega_{2} - 2 \\lambda_{1} + \\lambda_{2} - \\varpi_{2} \\right )} \\left|{X_{2}}\\right| \\left|{Y_{1}}\\right| \\left|{Y_{2}}\\right|$$"
      ],
      "text/plain": [
       "C_{(2,-1,0,1,-1,-1)}_{1,2})__{(0,0,0,0),(0,0)}(\\alpha⋅cos(Ω₁ + Ω₂ - 2⋅λ₁ + λ₂ \n",
       "- varpi₂)⋅│X₂│⋅│Y₁│⋅│Y₂│"
      ]
     },
     "metadata": {},
     "output_type": "display_data"
    },
    {
     "data": {
      "text/latex": [
       "$$C_{(2,-1,1,0,-2,0)}^{(0,0,0,0),(0,0)}(\\alpha_{1,2}) \\cos{\\left (2 \\Omega_{1} - 2 \\lambda_{1} + \\lambda_{2} - \\varpi_{1} \\right )} \\left|{X_{1}}\\right| \\left|{Y_{1}}\\right|^{2}$$"
      ],
      "text/plain": [
       "                                                                              \n",
       "C_{(2,-1,1,0,-2,0)}_{1,2})__{(0,0,0,0),(0,0)}(\\alpha⋅cos(2⋅Ω₁ - 2⋅λ₁ + λ₂ - va\n",
       "\n",
       "               2\n",
       "rpi₁)⋅│X₁│⋅│Y₁│ "
      ]
     },
     "metadata": {},
     "output_type": "display_data"
    },
    {
     "data": {
      "text/latex": [
       "$$C_{(2,-1,0,1,-2,0)}^{(0,0,0,0),(0,0)}(\\alpha_{1,2}) \\cos{\\left (2 \\Omega_{1} - 2 \\lambda_{1} + \\lambda_{2} - \\varpi_{2} \\right )} \\left|{X_{2}}\\right| \\left|{Y_{1}}\\right|^{2}$$"
      ],
      "text/plain": [
       "                                                                              \n",
       "C_{(2,-1,0,1,-2,0)}_{1,2})__{(0,0,0,0),(0,0)}(\\alpha⋅cos(2⋅Ω₁ - 2⋅λ₁ + λ₂ - va\n",
       "\n",
       "               2\n",
       "rpi₂)⋅│X₂│⋅│Y₁│ "
      ]
     },
     "metadata": {},
     "output_type": "display_data"
    },
    {
     "data": {
      "text/latex": [
       "$$C_{(6,-3,0,-3,0,0)}^{(0,0,0,0),(0,0)}(\\alpha_{1,2}) \\cos{\\left (- 6 \\lambda_{1} + 3 \\lambda_{2} + 3 \\varpi_{2} \\right )} \\left|{X_{2}}\\right|^{3}$$"
      ],
      "text/plain": [
       "                                                                              \n",
       "C_{(6,-3,0,-3,0,0)}_{1,2})__{(0,0,0,0),(0,0)}(\\alpha⋅cos(-6⋅λ₁ + 3⋅λ₂ + 3⋅varp\n",
       "\n",
       "        3\n",
       "i₂)⋅│X₂│ "
      ]
     },
     "metadata": {},
     "output_type": "display_data"
    },
    {
     "data": {
      "text/latex": [
       "$$C_{(6,-3,-1,-2,0,0)}^{(0,0,0,0),(0,0)}(\\alpha_{1,2}) \\cos{\\left (- 6 \\lambda_{1} + 3 \\lambda_{2} + \\varpi_{1} + 2 \\varpi_{2} \\right )} \\left|{X_{1}}\\right| \\left|{X_{2}}\\right|^{2}$$"
      ],
      "text/plain": [
       "                                                                              \n",
       "C_{(6,-3,-1,-2,0,0)}_{1,2})__{(0,0,0,0),(0,0)}(\\alpha⋅cos(-6⋅λ₁ + 3⋅λ₂ + varpi\n",
       "\n",
       "                       2\n",
       "₁ + 2⋅varpi₂)⋅│X₁│⋅│X₂│ "
      ]
     },
     "metadata": {},
     "output_type": "display_data"
    },
    {
     "data": {
      "text/latex": [
       "$$C_{(6,-3,-2,-1,0,0)}^{(0,0,0,0),(0,0)}(\\alpha_{1,2}) \\cos{\\left (- 6 \\lambda_{1} + 3 \\lambda_{2} + 2 \\varpi_{1} + \\varpi_{2} \\right )} \\left|{X_{1}}\\right|^{2} \\left|{X_{2}}\\right|$$"
      ],
      "text/plain": [
       "                                                                              \n",
       "C_{(6,-3,-2,-1,0,0)}_{1,2})__{(0,0,0,0),(0,0)}(\\alpha⋅cos(-6⋅λ₁ + 3⋅λ₂ + 2⋅var\n",
       "\n",
       "                  2     \n",
       "pi₁ + varpi₂)⋅│X₁│ ⋅│X₂│"
      ]
     },
     "metadata": {},
     "output_type": "display_data"
    },
    {
     "data": {
      "text/latex": [
       "$$C_{(6,-3,-3,0,0,0)}^{(0,0,0,0),(0,0)}(\\alpha_{1,2}) \\cos{\\left (- 6 \\lambda_{1} + 3 \\lambda_{2} + 3 \\varpi_{1} \\right )} \\left|{X_{1}}\\right|^{3}$$"
      ],
      "text/plain": [
       "                                                                              \n",
       "C_{(6,-3,-3,0,0,0)}_{1,2})__{(0,0,0,0),(0,0)}(\\alpha⋅cos(-6⋅λ₁ + 3⋅λ₂ + 3⋅varp\n",
       "\n",
       "        3\n",
       "i₁)⋅│X₁│ "
      ]
     },
     "metadata": {},
     "output_type": "display_data"
    },
    {
     "data": {
      "text/latex": [
       "$$C_{(6,-3,0,-1,0,-2)}^{(0,0,0,0),(0,0)}(\\alpha_{1,2}) \\cos{\\left (2 \\Omega_{2} - 6 \\lambda_{1} + 3 \\lambda_{2} + \\varpi_{2} \\right )} \\left|{X_{2}}\\right| \\left|{Y_{2}}\\right|^{2}$$"
      ],
      "text/plain": [
       "                                                                              \n",
       "C_{(6,-3,0,-1,0,-2)}_{1,2})__{(0,0,0,0),(0,0)}(\\alpha⋅cos(2⋅Ω₂ - 6⋅λ₁ + 3⋅λ₂ +\n",
       "\n",
       "                  2\n",
       " varpi₂)⋅│X₂│⋅│Y₂│ "
      ]
     },
     "metadata": {},
     "output_type": "display_data"
    },
    {
     "data": {
      "text/latex": [
       "$$C_{(6,-3,-1,0,0,-2)}^{(0,0,0,0),(0,0)}(\\alpha_{1,2}) \\cos{\\left (2 \\Omega_{2} - 6 \\lambda_{1} + 3 \\lambda_{2} + \\varpi_{1} \\right )} \\left|{X_{1}}\\right| \\left|{Y_{2}}\\right|^{2}$$"
      ],
      "text/plain": [
       "                                                                              \n",
       "C_{(6,-3,-1,0,0,-2)}_{1,2})__{(0,0,0,0),(0,0)}(\\alpha⋅cos(2⋅Ω₂ - 6⋅λ₁ + 3⋅λ₂ +\n",
       "\n",
       "                  2\n",
       " varpi₁)⋅│X₁│⋅│Y₂│ "
      ]
     },
     "metadata": {},
     "output_type": "display_data"
    },
    {
     "data": {
      "text/latex": [
       "$$C_{(6,-3,0,-1,-1,-1)}^{(0,0,0,0),(0,0)}(\\alpha_{1,2}) \\cos{\\left (\\Omega_{1} + \\Omega_{2} - 6 \\lambda_{1} + 3 \\lambda_{2} + \\varpi_{2} \\right )} \\left|{X_{2}}\\right| \\left|{Y_{1}}\\right| \\left|{Y_{2}}\\right|$$"
      ],
      "text/plain": [
       "C_{(6,-3,0,-1,-1,-1)}_{1,2})__{(0,0,0,0),(0,0)}(\\alpha⋅cos(Ω₁ + Ω₂ - 6⋅λ₁ + 3⋅\n",
       "λ₂ + varpi₂)⋅│X₂│⋅│Y₁│⋅│Y₂│"
      ]
     },
     "metadata": {},
     "output_type": "display_data"
    },
    {
     "data": {
      "text/latex": [
       "$$C_{(6,-3,-1,0,-1,-1)}^{(0,0,0,0),(0,0)}(\\alpha_{1,2}) \\cos{\\left (\\Omega_{1} + \\Omega_{2} - 6 \\lambda_{1} + 3 \\lambda_{2} + \\varpi_{1} \\right )} \\left|{X_{1}}\\right| \\left|{Y_{1}}\\right| \\left|{Y_{2}}\\right|$$"
      ],
      "text/plain": [
       "C_{(6,-3,-1,0,-1,-1)}_{1,2})__{(0,0,0,0),(0,0)}(\\alpha⋅cos(Ω₁ + Ω₂ - 6⋅λ₁ + 3⋅\n",
       "λ₂ + varpi₁)⋅│X₁│⋅│Y₁│⋅│Y₂│"
      ]
     },
     "metadata": {},
     "output_type": "display_data"
    },
    {
     "data": {
      "text/latex": [
       "$$C_{(6,-3,0,-1,-2,0)}^{(0,0,0,0),(0,0)}(\\alpha_{1,2}) \\cos{\\left (2 \\Omega_{1} - 6 \\lambda_{1} + 3 \\lambda_{2} + \\varpi_{2} \\right )} \\left|{X_{2}}\\right| \\left|{Y_{1}}\\right|^{2}$$"
      ],
      "text/plain": [
       "                                                                              \n",
       "C_{(6,-3,0,-1,-2,0)}_{1,2})__{(0,0,0,0),(0,0)}(\\alpha⋅cos(2⋅Ω₁ - 6⋅λ₁ + 3⋅λ₂ +\n",
       "\n",
       "                  2\n",
       " varpi₂)⋅│X₂│⋅│Y₁│ "
      ]
     },
     "metadata": {},
     "output_type": "display_data"
    },
    {
     "data": {
      "text/latex": [
       "$$C_{(6,-3,-1,0,-2,0)}^{(0,0,0,0),(0,0)}(\\alpha_{1,2}) \\cos{\\left (2 \\Omega_{1} - 6 \\lambda_{1} + 3 \\lambda_{2} + \\varpi_{1} \\right )} \\left|{X_{1}}\\right| \\left|{Y_{1}}\\right|^{2}$$"
      ],
      "text/plain": [
       "                                                                              \n",
       "C_{(6,-3,-1,0,-2,0)}_{1,2})__{(0,0,0,0),(0,0)}(\\alpha⋅cos(2⋅Ω₁ - 6⋅λ₁ + 3⋅λ₂ +\n",
       "\n",
       "                  2\n",
       " varpi₁)⋅│X₁│⋅│Y₁│ "
      ]
     },
     "metadata": {},
     "output_type": "display_data"
    }
   ],
   "source": [
    "for k,nu in res_terms:\n",
    "    cos_arg = theta.dot(k)\n",
    "    pows = [abs(k[2]) + 2 * nu[2],abs(k[3]) + 2 * nu[3],abs(k[4]) + 2 * nu[0],abs(k[5]) + 2 * nu[1]]\n",
    "    C = get_df_coefficient_symbol(*k,*nu,0,0,1,2)\n",
    "    XYterm = Mul(*[abs(sym)**p for sym,p in zip(XY,pows)])\n",
    "    display(C*XYterm*cos(cos_arg))"
   ]
  },
  {
   "cell_type": "markdown",
   "id": "5e08fc24",
   "metadata": {},
   "source": [
    "## `list_secular_terms`\n",
    "This function produces a list of $(\\pmb{k},\\pmb{\\nu})$ pairs for secular disturbing function terms independent of  planets' mean long longitudes:\n",
    "$$\n",
    "        C_{\\pmb{k}}^{\\pmb{\\nu}}(\\alpha_{i,j})|Y_i|^{|k_5|+2\\nu_1}\n",
    "        |Y_j|^{|k_6|+2\\nu_2}\n",
    "        |X_i|^{|k_3|+2\\nu_3}\n",
    "        |X_j|^{|k_4|+2\\nu_4}\n",
    "        \\times \\cos[\n",
    "            k_3 \\varpi_i + k_4 \\varpi_j +\n",
    "            k_5 \\Omega_i + k_6 \\Omega_j\n",
    "        ]\n",
    "$$\n",
    "The function resturns all $(\\pmb{k},\\pmb{\\nu})$ pairs with order between  ($N_\\mathrm{min}$,$N_\\mathrm{max}$).\n",
    "In this example, we'll produce all $(\\pmb{k},\\pmb{\\nu})$ pairs for secular terms up 4th order."
   ]
  },
  {
   "cell_type": "code",
   "execution_count": 10,
   "id": "88f0e31e",
   "metadata": {},
   "outputs": [],
   "source": [
    "from celmech.disturbing_function import list_secular_terms"
   ]
  },
  {
   "cell_type": "code",
   "execution_count": 11,
   "id": "7906a5b4",
   "metadata": {},
   "outputs": [],
   "source": [
    "min_order = 2\n",
    "max_order = 4\n",
    "sec_terms = list_secular_terms(min_order,max_order)"
   ]
  },
  {
   "cell_type": "code",
   "execution_count": 12,
   "id": "256ca318",
   "metadata": {
    "scrolled": false
   },
   "outputs": [
    {
     "data": {
      "text/latex": [
       "$$C_{(0,0,0,0,0,0)}^{(0,0,0,1),(0,0)}(\\alpha_{1,2}) \\left|{X_{2}}\\right|^{2}$$"
      ],
      "text/plain": [
       "                                                       2\n",
       "C_{(0,0,0,0,0,0)}_{1,2})__{(0,0,0,1),(0,0)}(\\alpha⋅│X₂│ "
      ]
     },
     "metadata": {},
     "output_type": "display_data"
    },
    {
     "data": {
      "text/latex": [
       "$$C_{(0,0,0,0,0,0)}^{(0,0,1,0),(0,0)}(\\alpha_{1,2}) \\left|{X_{1}}\\right|^{2}$$"
      ],
      "text/plain": [
       "                                                       2\n",
       "C_{(0,0,0,0,0,0)}_{1,2})__{(0,0,1,0),(0,0)}(\\alpha⋅│X₁│ "
      ]
     },
     "metadata": {},
     "output_type": "display_data"
    },
    {
     "data": {
      "text/latex": [
       "$$C_{(0,0,0,0,0,0)}^{(0,1,0,0),(0,0)}(\\alpha_{1,2}) \\left|{Y_{2}}\\right|^{2}$$"
      ],
      "text/plain": [
       "                                                       2\n",
       "C_{(0,0,0,0,0,0)}_{1,2})__{(0,1,0,0),(0,0)}(\\alpha⋅│Y₂│ "
      ]
     },
     "metadata": {},
     "output_type": "display_data"
    },
    {
     "data": {
      "text/latex": [
       "$$C_{(0,0,0,0,0,0)}^{(1,0,0,0),(0,0)}(\\alpha_{1,2}) \\left|{Y_{1}}\\right|^{2}$$"
      ],
      "text/plain": [
       "                                                       2\n",
       "C_{(0,0,0,0,0,0)}_{1,2})__{(1,0,0,0),(0,0)}(\\alpha⋅│Y₁│ "
      ]
     },
     "metadata": {},
     "output_type": "display_data"
    },
    {
     "data": {
      "text/latex": [
       "$$C_{(0,0,0,0,0,0)}^{(0,0,0,2),(0,0)}(\\alpha_{1,2}) \\left|{X_{2}}\\right|^{4}$$"
      ],
      "text/plain": [
       "                                                       4\n",
       "C_{(0,0,0,0,0,0)}_{1,2})__{(0,0,0,2),(0,0)}(\\alpha⋅│X₂│ "
      ]
     },
     "metadata": {},
     "output_type": "display_data"
    },
    {
     "data": {
      "text/latex": [
       "$$C_{(0,0,0,0,0,0)}^{(0,0,1,1),(0,0)}(\\alpha_{1,2}) \\left|{X_{1}}\\right|^{2} \\left|{X_{2}}\\right|^{2}$$"
      ],
      "text/plain": [
       "                                                       2     2\n",
       "C_{(0,0,0,0,0,0)}_{1,2})__{(0,0,1,1),(0,0)}(\\alpha⋅│X₁│ ⋅│X₂│ "
      ]
     },
     "metadata": {},
     "output_type": "display_data"
    },
    {
     "data": {
      "text/latex": [
       "$$C_{(0,0,0,0,0,0)}^{(0,0,2,0),(0,0)}(\\alpha_{1,2}) \\left|{X_{1}}\\right|^{4}$$"
      ],
      "text/plain": [
       "                                                       4\n",
       "C_{(0,0,0,0,0,0)}_{1,2})__{(0,0,2,0),(0,0)}(\\alpha⋅│X₁│ "
      ]
     },
     "metadata": {},
     "output_type": "display_data"
    },
    {
     "data": {
      "text/latex": [
       "$$C_{(0,0,0,0,0,0)}^{(0,1,0,1),(0,0)}(\\alpha_{1,2}) \\left|{X_{2}}\\right|^{2} \\left|{Y_{2}}\\right|^{2}$$"
      ],
      "text/plain": [
       "                                                       2     2\n",
       "C_{(0,0,0,0,0,0)}_{1,2})__{(0,1,0,1),(0,0)}(\\alpha⋅│X₂│ ⋅│Y₂│ "
      ]
     },
     "metadata": {},
     "output_type": "display_data"
    },
    {
     "data": {
      "text/latex": [
       "$$C_{(0,0,0,0,0,0)}^{(0,1,1,0),(0,0)}(\\alpha_{1,2}) \\left|{X_{1}}\\right|^{2} \\left|{Y_{2}}\\right|^{2}$$"
      ],
      "text/plain": [
       "                                                       2     2\n",
       "C_{(0,0,0,0,0,0)}_{1,2})__{(0,1,1,0),(0,0)}(\\alpha⋅│X₁│ ⋅│Y₂│ "
      ]
     },
     "metadata": {},
     "output_type": "display_data"
    },
    {
     "data": {
      "text/latex": [
       "$$C_{(0,0,0,0,0,0)}^{(0,2,0,0),(0,0)}(\\alpha_{1,2}) \\left|{Y_{2}}\\right|^{4}$$"
      ],
      "text/plain": [
       "                                                       4\n",
       "C_{(0,0,0,0,0,0)}_{1,2})__{(0,2,0,0),(0,0)}(\\alpha⋅│Y₂│ "
      ]
     },
     "metadata": {},
     "output_type": "display_data"
    },
    {
     "data": {
      "text/latex": [
       "$$C_{(0,0,0,0,0,0)}^{(1,0,0,1),(0,0)}(\\alpha_{1,2}) \\left|{X_{2}}\\right|^{2} \\left|{Y_{1}}\\right|^{2}$$"
      ],
      "text/plain": [
       "                                                       2     2\n",
       "C_{(0,0,0,0,0,0)}_{1,2})__{(1,0,0,1),(0,0)}(\\alpha⋅│X₂│ ⋅│Y₁│ "
      ]
     },
     "metadata": {},
     "output_type": "display_data"
    },
    {
     "data": {
      "text/latex": [
       "$$C_{(0,0,0,0,0,0)}^{(1,0,1,0),(0,0)}(\\alpha_{1,2}) \\left|{X_{1}}\\right|^{2} \\left|{Y_{1}}\\right|^{2}$$"
      ],
      "text/plain": [
       "                                                       2     2\n",
       "C_{(0,0,0,0,0,0)}_{1,2})__{(1,0,1,0),(0,0)}(\\alpha⋅│X₁│ ⋅│Y₁│ "
      ]
     },
     "metadata": {},
     "output_type": "display_data"
    },
    {
     "data": {
      "text/latex": [
       "$$C_{(0,0,0,0,0,0)}^{(1,1,0,0),(0,0)}(\\alpha_{1,2}) \\left|{Y_{1}}\\right|^{2} \\left|{Y_{2}}\\right|^{2}$$"
      ],
      "text/plain": [
       "                                                       2     2\n",
       "C_{(0,0,0,0,0,0)}_{1,2})__{(1,1,0,0),(0,0)}(\\alpha⋅│Y₁│ ⋅│Y₂│ "
      ]
     },
     "metadata": {},
     "output_type": "display_data"
    },
    {
     "data": {
      "text/latex": [
       "$$C_{(0,0,0,0,0,0)}^{(2,0,0,0),(0,0)}(\\alpha_{1,2}) \\left|{Y_{1}}\\right|^{4}$$"
      ],
      "text/plain": [
       "                                                       4\n",
       "C_{(0,0,0,0,0,0)}_{1,2})__{(2,0,0,0),(0,0)}(\\alpha⋅│Y₁│ "
      ]
     },
     "metadata": {},
     "output_type": "display_data"
    },
    {
     "data": {
      "text/latex": [
       "$$C_{(0,0,-1,1,0,0)}^{(0,0,0,0),(0,0)}(\\alpha_{1,2}) \\cos{\\left (\\varpi_{1} - \\varpi_{2} \\right )} \\left|{X_{1}}\\right| \\left|{X_{2}}\\right|$$"
      ],
      "text/plain": [
       "C_{(0,0,-1,1,0,0)}_{1,2})__{(0,0,0,0),(0,0)}(\\alpha⋅cos(varpi₁ - varpi₂)⋅│X₁│⋅\n",
       "│X₂│"
      ]
     },
     "metadata": {},
     "output_type": "display_data"
    },
    {
     "data": {
      "text/latex": [
       "$$C_{(0,0,0,0,-1,1)}^{(0,0,0,0),(0,0)}(\\alpha_{1,2}) \\cos{\\left (\\Omega_{1} - \\Omega_{2} \\right )} \\left|{Y_{1}}\\right| \\left|{Y_{2}}\\right|$$"
      ],
      "text/plain": [
       "C_{(0,0,0,0,-1,1)}_{1,2})__{(0,0,0,0),(0,0)}(\\alpha⋅cos(Ω₁ - Ω₂)⋅│Y₁│⋅│Y₂│"
      ]
     },
     "metadata": {},
     "output_type": "display_data"
    },
    {
     "data": {
      "text/latex": [
       "$$C_{(0,0,-1,1,0,0)}^{(0,0,0,1),(0,0)}(\\alpha_{1,2}) \\cos{\\left (\\varpi_{1} - \\varpi_{2} \\right )} \\left|{X_{1}}\\right| \\left|{X_{2}}\\right|^{3}$$"
      ],
      "text/plain": [
       "                                                                              \n",
       "C_{(0,0,-1,1,0,0)}_{1,2})__{(0,0,0,1),(0,0)}(\\alpha⋅cos(varpi₁ - varpi₂)⋅│X₁│⋅\n",
       "\n",
       "    3\n",
       "│X₂│ "
      ]
     },
     "metadata": {},
     "output_type": "display_data"
    },
    {
     "data": {
      "text/latex": [
       "$$C_{(0,0,0,0,-1,1)}^{(0,0,0,1),(0,0)}(\\alpha_{1,2}) \\cos{\\left (\\Omega_{1} - \\Omega_{2} \\right )} \\left|{X_{2}}\\right|^{2} \\left|{Y_{1}}\\right| \\left|{Y_{2}}\\right|$$"
      ],
      "text/plain": [
       "                                                                     2        \n",
       "C_{(0,0,0,0,-1,1)}_{1,2})__{(0,0,0,1),(0,0)}(\\alpha⋅cos(Ω₁ - Ω₂)⋅│X₂│ ⋅│Y₁│⋅│Y\n",
       "\n",
       "  \n",
       "₂│"
      ]
     },
     "metadata": {},
     "output_type": "display_data"
    },
    {
     "data": {
      "text/latex": [
       "$$C_{(0,0,-1,1,0,0)}^{(0,0,1,0),(0,0)}(\\alpha_{1,2}) \\cos{\\left (\\varpi_{1} - \\varpi_{2} \\right )} \\left|{X_{1}}\\right|^{3} \\left|{X_{2}}\\right|$$"
      ],
      "text/plain": [
       "                                                                             3\n",
       "C_{(0,0,-1,1,0,0)}_{1,2})__{(0,0,1,0),(0,0)}(\\alpha⋅cos(varpi₁ - varpi₂)⋅│X₁│ \n",
       "\n",
       "     \n",
       "⋅│X₂│"
      ]
     },
     "metadata": {},
     "output_type": "display_data"
    },
    {
     "data": {
      "text/latex": [
       "$$C_{(0,0,0,0,-1,1)}^{(0,0,1,0),(0,0)}(\\alpha_{1,2}) \\cos{\\left (\\Omega_{1} - \\Omega_{2} \\right )} \\left|{X_{1}}\\right|^{2} \\left|{Y_{1}}\\right| \\left|{Y_{2}}\\right|$$"
      ],
      "text/plain": [
       "                                                                     2        \n",
       "C_{(0,0,0,0,-1,1)}_{1,2})__{(0,0,1,0),(0,0)}(\\alpha⋅cos(Ω₁ - Ω₂)⋅│X₁│ ⋅│Y₁│⋅│Y\n",
       "\n",
       "  \n",
       "₂│"
      ]
     },
     "metadata": {},
     "output_type": "display_data"
    },
    {
     "data": {
      "text/latex": [
       "$$C_{(0,0,-1,1,0,0)}^{(0,1,0,0),(0,0)}(\\alpha_{1,2}) \\cos{\\left (\\varpi_{1} - \\varpi_{2} \\right )} \\left|{X_{1}}\\right| \\left|{X_{2}}\\right| \\left|{Y_{2}}\\right|^{2}$$"
      ],
      "text/plain": [
       "                                                                              \n",
       "C_{(0,0,-1,1,0,0)}_{1,2})__{(0,1,0,0),(0,0)}(\\alpha⋅cos(varpi₁ - varpi₂)⋅│X₁│⋅\n",
       "\n",
       "         2\n",
       "│X₂│⋅│Y₂│ "
      ]
     },
     "metadata": {},
     "output_type": "display_data"
    },
    {
     "data": {
      "text/latex": [
       "$$C_{(0,0,0,0,-1,1)}^{(0,1,0,0),(0,0)}(\\alpha_{1,2}) \\cos{\\left (\\Omega_{1} - \\Omega_{2} \\right )} \\left|{Y_{1}}\\right| \\left|{Y_{2}}\\right|^{3}$$"
      ],
      "text/plain": [
       "                                                                          3\n",
       "C_{(0,0,0,0,-1,1)}_{1,2})__{(0,1,0,0),(0,0)}(\\alpha⋅cos(Ω₁ - Ω₂)⋅│Y₁│⋅│Y₂│ "
      ]
     },
     "metadata": {},
     "output_type": "display_data"
    },
    {
     "data": {
      "text/latex": [
       "$$C_{(0,0,-1,1,0,0)}^{(1,0,0,0),(0,0)}(\\alpha_{1,2}) \\cos{\\left (\\varpi_{1} - \\varpi_{2} \\right )} \\left|{X_{1}}\\right| \\left|{X_{2}}\\right| \\left|{Y_{1}}\\right|^{2}$$"
      ],
      "text/plain": [
       "                                                                              \n",
       "C_{(0,0,-1,1,0,0)}_{1,2})__{(1,0,0,0),(0,0)}(\\alpha⋅cos(varpi₁ - varpi₂)⋅│X₁│⋅\n",
       "\n",
       "         2\n",
       "│X₂│⋅│Y₁│ "
      ]
     },
     "metadata": {},
     "output_type": "display_data"
    },
    {
     "data": {
      "text/latex": [
       "$$C_{(0,0,0,0,-1,1)}^{(1,0,0,0),(0,0)}(\\alpha_{1,2}) \\cos{\\left (\\Omega_{1} - \\Omega_{2} \\right )} \\left|{Y_{1}}\\right|^{3} \\left|{Y_{2}}\\right|$$"
      ],
      "text/plain": [
       "                                                                     3     \n",
       "C_{(0,0,0,0,-1,1)}_{1,2})__{(1,0,0,0),(0,0)}(\\alpha⋅cos(Ω₁ - Ω₂)⋅│Y₁│ ⋅│Y₂│"
      ]
     },
     "metadata": {},
     "output_type": "display_data"
    },
    {
     "data": {
      "text/latex": [
       "$$C_{(0,0,-2,2,0,0)}^{(0,0,0,0),(0,0)}(\\alpha_{1,2}) \\cos{\\left (2 \\varpi_{1} - 2 \\varpi_{2} \\right )} \\left|{X_{1}}\\right|^{2} \\left|{X_{2}}\\right|^{2}$$"
      ],
      "text/plain": [
       "                                                                              \n",
       "C_{(0,0,-2,2,0,0)}_{1,2})__{(0,0,0,0),(0,0)}(\\alpha⋅cos(2⋅varpi₁ - 2⋅varpi₂)⋅│\n",
       "\n",
       "   2     2\n",
       "X₁│ ⋅│X₂│ "
      ]
     },
     "metadata": {},
     "output_type": "display_data"
    },
    {
     "data": {
      "text/latex": [
       "$$C_{(0,0,1,-1,-1,1)}^{(0,0,0,0),(0,0)}(\\alpha_{1,2}) \\cos{\\left (\\Omega_{1} - \\Omega_{2} - \\varpi_{1} + \\varpi_{2} \\right )} \\left|{X_{1}}\\right| \\left|{X_{2}}\\right| \\left|{Y_{1}}\\right| \\left|{Y_{2}}\\right|$$"
      ],
      "text/plain": [
       "C_{(0,0,1,-1,-1,1)}_{1,2})__{(0,0,0,0),(0,0)}(\\alpha⋅cos(Ω₁ - Ω₂ - varpi₁ + va\n",
       "rpi₂)⋅│X₁│⋅│X₂│⋅│Y₁│⋅│Y₂│"
      ]
     },
     "metadata": {},
     "output_type": "display_data"
    },
    {
     "data": {
      "text/latex": [
       "$$C_{(0,0,-1,1,-1,1)}^{(0,0,0,0),(0,0)}(\\alpha_{1,2}) \\cos{\\left (\\Omega_{1} - \\Omega_{2} + \\varpi_{1} - \\varpi_{2} \\right )} \\left|{X_{1}}\\right| \\left|{X_{2}}\\right| \\left|{Y_{1}}\\right| \\left|{Y_{2}}\\right|$$"
      ],
      "text/plain": [
       "C_{(0,0,-1,1,-1,1)}_{1,2})__{(0,0,0,0),(0,0)}(\\alpha⋅cos(Ω₁ - Ω₂ + varpi₁ - va\n",
       "rpi₂)⋅│X₁│⋅│X₂│⋅│Y₁│⋅│Y₂│"
      ]
     },
     "metadata": {},
     "output_type": "display_data"
    },
    {
     "data": {
      "text/latex": [
       "$$C_{(0,0,0,0,-2,2)}^{(0,0,0,0),(0,0)}(\\alpha_{1,2}) \\cos{\\left (2 \\Omega_{1} - 2 \\Omega_{2} \\right )} \\left|{Y_{1}}\\right|^{2} \\left|{Y_{2}}\\right|^{2}$$"
      ],
      "text/plain": [
       "                                                                         2    \n",
       "C_{(0,0,0,0,-2,2)}_{1,2})__{(0,0,0,0),(0,0)}(\\alpha⋅cos(2⋅Ω₁ - 2⋅Ω₂)⋅│Y₁│ ⋅│Y₂\n",
       "\n",
       " 2\n",
       "│ "
      ]
     },
     "metadata": {},
     "output_type": "display_data"
    },
    {
     "data": {
      "text/latex": [
       "$$C_{(0,0,2,0,0,-2)}^{(0,0,0,0),(0,0)}(\\alpha_{1,2}) \\cos{\\left (2 \\Omega_{2} - 2 \\varpi_{1} \\right )} \\left|{X_{1}}\\right|^{2} \\left|{Y_{2}}\\right|^{2}$$"
      ],
      "text/plain": [
       "                                                                             2\n",
       "C_{(0,0,2,0,0,-2)}_{1,2})__{(0,0,0,0),(0,0)}(\\alpha⋅cos(2⋅Ω₂ - 2⋅varpi₁)⋅│X₁│ \n",
       "\n",
       "     2\n",
       "⋅│Y₂│ "
      ]
     },
     "metadata": {},
     "output_type": "display_data"
    },
    {
     "data": {
      "text/latex": [
       "$$C_{(0,0,1,1,0,-2)}^{(0,0,0,0),(0,0)}(\\alpha_{1,2}) \\cos{\\left (- 2 \\Omega_{2} + \\varpi_{1} + \\varpi_{2} \\right )} \\left|{X_{1}}\\right| \\left|{X_{2}}\\right| \\left|{Y_{2}}\\right|^{2}$$"
      ],
      "text/plain": [
       "                                                                              \n",
       "C_{(0,0,1,1,0,-2)}_{1,2})__{(0,0,0,0),(0,0)}(\\alpha⋅cos(-2⋅Ω₂ + varpi₁ + varpi\n",
       "\n",
       "                 2\n",
       "₂)⋅│X₁│⋅│X₂│⋅│Y₂│ "
      ]
     },
     "metadata": {},
     "output_type": "display_data"
    },
    {
     "data": {
      "text/latex": [
       "$$C_{(0,0,0,2,0,-2)}^{(0,0,0,0),(0,0)}(\\alpha_{1,2}) \\cos{\\left (2 \\Omega_{2} - 2 \\varpi_{2} \\right )} \\left|{X_{2}}\\right|^{2} \\left|{Y_{2}}\\right|^{2}$$"
      ],
      "text/plain": [
       "                                                                             2\n",
       "C_{(0,0,0,2,0,-2)}_{1,2})__{(0,0,0,0),(0,0)}(\\alpha⋅cos(2⋅Ω₂ - 2⋅varpi₂)⋅│X₂│ \n",
       "\n",
       "     2\n",
       "⋅│Y₂│ "
      ]
     },
     "metadata": {},
     "output_type": "display_data"
    },
    {
     "data": {
      "text/latex": [
       "$$C_{(0,0,2,0,-1,-1)}^{(0,0,0,0),(0,0)}(\\alpha_{1,2}) \\cos{\\left (\\Omega_{1} + \\Omega_{2} - 2 \\varpi_{1} \\right )} \\left|{X_{1}}\\right|^{2} \\left|{Y_{1}}\\right| \\left|{Y_{2}}\\right|$$"
      ],
      "text/plain": [
       "                                                                              \n",
       "C_{(0,0,2,0,-1,-1)}_{1,2})__{(0,0,0,0),(0,0)}(\\alpha⋅cos(Ω₁ + Ω₂ - 2⋅varpi₁)⋅│\n",
       "\n",
       "   2          \n",
       "X₁│ ⋅│Y₁│⋅│Y₂│"
      ]
     },
     "metadata": {},
     "output_type": "display_data"
    },
    {
     "data": {
      "text/latex": [
       "$$C_{(0,0,1,1,-1,-1)}^{(0,0,0,0),(0,0)}(\\alpha_{1,2}) \\cos{\\left (\\Omega_{1} + \\Omega_{2} - \\varpi_{1} - \\varpi_{2} \\right )} \\left|{X_{1}}\\right| \\left|{X_{2}}\\right| \\left|{Y_{1}}\\right| \\left|{Y_{2}}\\right|$$"
      ],
      "text/plain": [
       "C_{(0,0,1,1,-1,-1)}_{1,2})__{(0,0,0,0),(0,0)}(\\alpha⋅cos(Ω₁ + Ω₂ - varpi₁ - va\n",
       "rpi₂)⋅│X₁│⋅│X₂│⋅│Y₁│⋅│Y₂│"
      ]
     },
     "metadata": {},
     "output_type": "display_data"
    },
    {
     "data": {
      "text/latex": [
       "$$C_{(0,0,0,2,-1,-1)}^{(0,0,0,0),(0,0)}(\\alpha_{1,2}) \\cos{\\left (\\Omega_{1} + \\Omega_{2} - 2 \\varpi_{2} \\right )} \\left|{X_{2}}\\right|^{2} \\left|{Y_{1}}\\right| \\left|{Y_{2}}\\right|$$"
      ],
      "text/plain": [
       "                                                                              \n",
       "C_{(0,0,0,2,-1,-1)}_{1,2})__{(0,0,0,0),(0,0)}(\\alpha⋅cos(Ω₁ + Ω₂ - 2⋅varpi₂)⋅│\n",
       "\n",
       "   2          \n",
       "X₂│ ⋅│Y₁│⋅│Y₂│"
      ]
     },
     "metadata": {},
     "output_type": "display_data"
    },
    {
     "data": {
      "text/latex": [
       "$$C_{(0,0,2,0,-2,0)}^{(0,0,0,0),(0,0)}(\\alpha_{1,2}) \\cos{\\left (2 \\Omega_{1} - 2 \\varpi_{1} \\right )} \\left|{X_{1}}\\right|^{2} \\left|{Y_{1}}\\right|^{2}$$"
      ],
      "text/plain": [
       "                                                                             2\n",
       "C_{(0,0,2,0,-2,0)}_{1,2})__{(0,0,0,0),(0,0)}(\\alpha⋅cos(2⋅Ω₁ - 2⋅varpi₁)⋅│X₁│ \n",
       "\n",
       "     2\n",
       "⋅│Y₁│ "
      ]
     },
     "metadata": {},
     "output_type": "display_data"
    },
    {
     "data": {
      "text/latex": [
       "$$C_{(0,0,1,1,-2,0)}^{(0,0,0,0),(0,0)}(\\alpha_{1,2}) \\cos{\\left (- 2 \\Omega_{1} + \\varpi_{1} + \\varpi_{2} \\right )} \\left|{X_{1}}\\right| \\left|{X_{2}}\\right| \\left|{Y_{1}}\\right|^{2}$$"
      ],
      "text/plain": [
       "                                                                              \n",
       "C_{(0,0,1,1,-2,0)}_{1,2})__{(0,0,0,0),(0,0)}(\\alpha⋅cos(-2⋅Ω₁ + varpi₁ + varpi\n",
       "\n",
       "                 2\n",
       "₂)⋅│X₁│⋅│X₂│⋅│Y₁│ "
      ]
     },
     "metadata": {},
     "output_type": "display_data"
    },
    {
     "data": {
      "text/latex": [
       "$$C_{(0,0,0,2,-2,0)}^{(0,0,0,0),(0,0)}(\\alpha_{1,2}) \\cos{\\left (2 \\Omega_{1} - 2 \\varpi_{2} \\right )} \\left|{X_{2}}\\right|^{2} \\left|{Y_{1}}\\right|^{2}$$"
      ],
      "text/plain": [
       "                                                                             2\n",
       "C_{(0,0,0,2,-2,0)}_{1,2})__{(0,0,0,0),(0,0)}(\\alpha⋅cos(2⋅Ω₁ - 2⋅varpi₂)⋅│X₂│ \n",
       "\n",
       "     2\n",
       "⋅│Y₁│ "
      ]
     },
     "metadata": {},
     "output_type": "display_data"
    }
   ],
   "source": [
    "for k,nu in sec_terms:\n",
    "    cos_arg = theta.dot(k)\n",
    "    pows = [abs(k[2]) + 2 * nu[2],abs(k[3]) + 2 * nu[3],abs(k[4]) + 2 * nu[0],abs(k[5]) + 2 * nu[1]]\n",
    "    C = get_df_coefficient_symbol(*k,*nu,0,0,1,2)\n",
    "    XYterm = Mul(*[abs(sym)**p for sym,p in zip(XY,pows)])\n",
    "    display(C*XYterm*cos(cos_arg))"
   ]
  },
  {
   "cell_type": "code",
   "execution_count": null,
   "id": "bd4ad1db",
   "metadata": {},
   "outputs": [],
   "source": []
  }
 ],
 "metadata": {
  "kernelspec": {
   "display_name": "Python 3",
   "language": "python",
   "name": "python3"
  },
  "language_info": {
   "codemirror_mode": {
    "name": "ipython",
    "version": 3
   },
   "file_extension": ".py",
   "mimetype": "text/x-python",
   "name": "python",
   "nbconvert_exporter": "python",
   "pygments_lexer": "ipython3",
   "version": "3.6.13"
  }
 },
 "nbformat": 4,
 "nbformat_minor": 5
}
