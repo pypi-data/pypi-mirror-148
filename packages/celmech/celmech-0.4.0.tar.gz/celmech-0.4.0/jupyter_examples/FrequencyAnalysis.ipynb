{
 "cells": [
  {
   "cell_type": "code",
   "execution_count": 1,
   "id": "989878db",
   "metadata": {},
   "outputs": [],
   "source": [
    "import rebound as rb\n",
    "import numpy as np\n",
    "from celmech.nbody_simulation_utilities import set_time_step"
   ]
  },
  {
   "cell_type": "markdown",
   "id": "2cb91ebe",
   "metadata": {},
   "source": [
    "Set up a simulation of the outer solar system"
   ]
  },
  {
   "cell_type": "code",
   "execution_count": 2,
   "id": "3fc3b23d",
   "metadata": {},
   "outputs": [
    {
     "name": "stdout",
     "output_type": "stream",
     "text": [
      "Searching NASA Horizons for 'Sun'... \n",
      "Found: Sun (10) \n",
      "Searching NASA Horizons for 'Jupiter'... \n",
      "Found: Jupiter Barycenter (5) (chosen from query 'Jupiter')\n",
      "Searching NASA Horizons for 'Saturn'... \n",
      "Found: Saturn Barycenter (6) (chosen from query 'Saturn')\n",
      "Searching NASA Horizons for 'Uranus'... \n",
      "Found: Uranus Barycenter (7) (chosen from query 'Uranus')\n",
      "Searching NASA Horizons for 'Neptune'... \n",
      "Found: Neptune Barycenter (8) (chosen from query 'Neptune')\n"
     ]
    }
   ],
   "source": [
    "sim = rb.Simulation()\n",
    "sim.units = (\"Msun\",\"AU\",\"yr\")\n",
    "bodies = [\"Sun\",\"Jupiter\",\"Saturn\",\"Uranus\",\"Neptune\"]\n",
    "for body in bodies:\n",
    "    sim.add(body)\n",
    "sim.move_to_com()\n",
    "sim.integrator = 'whfast'\n",
    "sim.ri_whfast.safe_mode=0\n",
    "set_time_step(sim,1/20)"
   ]
  },
  {
   "cell_type": "markdown",
   "id": "03dbf279",
   "metadata": {},
   "source": [
    "Run integration, saving snapshots to a simulation archive file."
   ]
  },
  {
   "cell_type": "code",
   "execution_count": 3,
   "id": "b31d02a6",
   "metadata": {},
   "outputs": [],
   "source": [
    "\n",
    "Tfin = 1e7\n",
    "Nout = 512\n",
    "save_file = \"outer_solar_system_10Myr.sa\"\n",
    "sim.automateSimulationArchive(save_file,interval=Tfin/Nout,deletefile=True)\n",
    "\n",
    "sim.integrate(Tfin)"
   ]
  },
  {
   "cell_type": "markdown",
   "id": "07a76225",
   "metadata": {},
   "source": [
    "Read in integration results"
   ]
  },
  {
   "cell_type": "code",
   "execution_count": 4,
   "id": "a101f4e9",
   "metadata": {},
   "outputs": [
    {
     "name": "stderr",
     "output_type": "stream",
     "text": [
      "/Users/shadden/anaconda/envs/celmech/lib/python3.9/site-packages/rebound/simulationarchive.py:148: RuntimeWarning: The simulation might not be synchronized. You can manually synchronize it by calling sim.integrator_synchronize().\n",
      "  warnings.warn(\"The simulation might not be synchronized. You can manually synchronize it by calling sim.integrator_synchronize().\", RuntimeWarning)\n"
     ]
    }
   ],
   "source": [
    "from celmech.nbody_simulation_utilities import get_simarchive_integration_results\n",
    "\n",
    "results = get_simarchive_integration_results(save_file)"
   ]
  },
  {
   "cell_type": "markdown",
   "id": "eaea42ec",
   "metadata": {},
   "source": [
    "Apply the FMFT algorithm to the planets' complex eccentricities, defined as\n",
    "$$\n",
    "z_i = e_i\\exp(i\\varpi_i)\n",
    "$$\n",
    "\n",
    "Given an input time series of $z(t)$ values at equally-spaced time intervals, the FMFT algorithm decomposes the time series into $N_\\mathrm{freq}$ Fourier harmonics by determining frequencies $\\nu_{j}$ and complex amplitudes, $a_j$, such that\n",
    "$$\n",
    "z_i(t) \\approx \\sum_{j=1}^{N_\\mathrm{freq}}a_j\\exp[i\\nu_j t]\n",
    "$$"
   ]
  },
  {
   "cell_type": "code",
   "execution_count": 5,
   "id": "ce4ae9d8",
   "metadata": {},
   "outputs": [
    {
     "name": "stdout",
     "output_type": "stream",
     "text": [
      "Frequency [\"/yr] | Amplitude\n",
      "============================\n",
      "Jupiter\n",
      "-------\n",
      "+4.25\t\t|\t0.0441\n",
      "+28.23\t\t|\t0.0157\n",
      "\n",
      "\n",
      "Saturn\n",
      "------\n",
      "+28.23\t\t|\t0.0482\n",
      "+4.25\t\t|\t0.0337\n",
      "\n",
      "\n",
      "Uranus\n",
      "------\n",
      "+4.25\t\t|\t0.0380\n",
      "+3.09\t\t|\t0.0291\n",
      "\n",
      "\n",
      "Neptune\n",
      "-------\n",
      "+0.67\t\t|\t0.0091\n",
      "+3.09\t\t|\t0.0037\n",
      "\n",
      "\n"
     ]
    }
   ],
   "source": [
    "from celmech.miscellaneous import frequency_modified_fourier_transform\n",
    "\n",
    "# Calculate complex eccentricities\n",
    "results['z'] = results['e'] * np.exp(1j * results['pomega'])\n",
    "\n",
    "# Number of Fourier harmonics to calculate for each planet\n",
    "Nfreq=2\n",
    "\n",
    "time = results['time']\n",
    "arc_sec_per_yr = 60*60*180 / np.pi\n",
    "\n",
    "\n",
    "title=\"Frequency [\\\"/yr] | Amplitude\"\n",
    "print(title)\n",
    "print(\"=\"*len(title))\n",
    "for i,planet in enumerate(bodies[1:]):\n",
    "    print(planet)\n",
    "    print(\"-\"*len(planet))\n",
    "\n",
    "\n",
    "    # Calculate results\n",
    "    z = results['z'][i]\n",
    "    freq_results = frequency_modified_fourier_transform(time,z,Nfreq)\n",
    "    \n",
    "    \n",
    "    # results are stored as a dictionary with entries\n",
    "    # in the form: {nu_j:a_j}\n",
    "    \n",
    "    for freq,amp in freq_results.items():\n",
    "        freq_scaled = freq * arc_sec_per_yr\n",
    "        abs_amp = np.abs(amp)\n",
    "        print(\"{:+.2f}\\t\\t|\\t{:.4f}\".format(freq_scaled, abs_amp))\n",
    "    print(\"\\n\")"
   ]
  }
 ],
 "metadata": {
  "kernelspec": {
   "display_name": "Python 3 (ipykernel)",
   "language": "python",
   "name": "python3"
  },
  "language_info": {
   "codemirror_mode": {
    "name": "ipython",
    "version": 3
   },
   "file_extension": ".py",
   "mimetype": "text/x-python",
   "name": "python",
   "nbconvert_exporter": "python",
   "pygments_lexer": "ipython3",
   "version": "3.9.7"
  }
 },
 "nbformat": 4,
 "nbformat_minor": 5
}
