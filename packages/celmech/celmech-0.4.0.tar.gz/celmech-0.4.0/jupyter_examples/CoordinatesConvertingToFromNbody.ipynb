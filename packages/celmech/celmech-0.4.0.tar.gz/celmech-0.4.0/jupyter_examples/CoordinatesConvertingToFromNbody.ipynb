{
 "cells": [
  {
   "cell_type": "code",
   "execution_count": 1,
   "metadata": {},
   "outputs": [
    {
     "name": "stdout",
     "output_type": "stream",
     "text": [
      "WARNING: python module and libreboundx have different version numbers: '%s' vs '%s'.\n",
      "\n"
     ]
    }
   ],
   "source": [
    "import celmech\n",
    "import rebound\n",
    "%matplotlib inline"
   ]
  },
  {
   "cell_type": "markdown",
   "metadata": {},
   "source": [
    "Let's begin by setting up a simple REBOUND N-body simulation:"
   ]
  },
  {
   "cell_type": "code",
   "execution_count": 2,
   "metadata": {},
   "outputs": [
    {
     "data": {
      "text/plain": [
       "(<Figure size 360x360 with 1 Axes>,\n",
       " <matplotlib.axes._subplots.AxesSubplot at 0x7fd232c373d0>)"
      ]
     },
     "execution_count": 2,
     "metadata": {},
     "output_type": "execute_result"
    },
    {
     "name": "stderr",
     "output_type": "stream",
     "text": [
      "findfont: Font family ['serif'] not found. Falling back to DejaVu Sans.\n"
     ]
    },
    {
     "data": {
      "image/png": "[encoded data removed]",
      "text/plain": [
       "<Figure size 360x360 with 1 Axes>"
      ]
     },
     "metadata": {
      "needs_background": "light"
     },
     "output_type": "display_data"
    }
   ],
   "source": [
    "sim = rebound.Simulation()\n",
    "sim.add(m=1.)\n",
    "sim.add(m=1e-3, a=1, e=0.4, f = 0.3)\n",
    "sim.add(m=1e-3, a=1.5, e=0.2, f = 1)\n",
    "sim.move_to_com()\n",
    "rebound.OrbitPlot(sim)"
   ]
  },
  {
   "cell_type": "markdown",
   "metadata": {},
   "source": [
    "By default, REBOUND calculates orbital elements using Jacobi coordinates (and total interior mass for the primary), and uses these for initializing particles:"
   ]
  },
  {
   "cell_type": "code",
   "execution_count": 3,
   "metadata": {},
   "outputs": [
    {
     "name": "stdout",
     "output_type": "stream",
     "text": [
      "<rebound.Orbit instance, a=0.9999999999999996 e=0.39999999999999986 inc=0.0 Omega=0.0 omega=0.0 f=0.2999999999999998>\n",
      "<rebound.Orbit instance, a=1.4999999999999998 e=0.19999999999999996 inc=0.0 Omega=0.0 omega=0.0 f=1.0>\n"
     ]
    }
   ],
   "source": [
    "for o in sim.calculate_orbits():\n",
    "    print(o)"
   ]
  },
  {
   "cell_type": "markdown",
   "metadata": {},
   "source": [
    "These will differ from orbital elements calculated using canonical heliocentric coordinates by of order the planet-star mass ratio, which is an important discrepancy for precision calculations. `celmech` provides convenience functions for calculating canonical heliocentric orbital elements instead:"
   ]
  },
  {
   "cell_type": "code",
   "execution_count": 4,
   "metadata": {},
   "outputs": [
    {
     "name": "stdout",
     "output_type": "stream",
     "text": [
      "<rebound.Orbit instance, a=0.9977303754744342 e=0.39872038905346907 inc=0.0 Omega=0.0 omega=6.281183779126955 f=0.3020015280526307>\n",
      "<rebound.Orbit instance, a=1.5032085303182583 e=0.20079106774500946 inc=0.0 Omega=0.0 omega=0.00669554257966265 f=0.9930035912831512>\n"
     ]
    }
   ],
   "source": [
    "from celmech.nbody_simulation_utilities import reb_calculate_orbits\n",
    "\n",
    "for o in reb_calculate_orbits(sim):\n",
    "    print(o)"
   ]
  },
  {
   "cell_type": "markdown",
   "metadata": {},
   "source": [
    "There is also a convenience function for initializing a REBOUND Simulation using canonical heliocentric elements. It takes the physical mass of the body, together with a dictionary of orbital elements, where the keys can be any parameters REBOUND will accept for adding particles. To make the same simulation as above:"
   ]
  },
  {
   "cell_type": "code",
   "execution_count": 5,
   "metadata": {},
   "outputs": [],
   "source": [
    "from celmech.nbody_simulation_utilities import reb_add_from_elements\n",
    "\n",
    "sim = rebound.Simulation()\n",
    "sim.add(m=1)\n",
    "reb_add_from_elements(m=1e-3, elements={'a':1, 'e':0.4, 'f':0.3}, sim=sim)\n",
    "reb_add_from_elements(m=1e-3, elements={'a':1.5, 'e':0.2, 'f':1}, sim=sim)\n",
    "sim.move_to_com()"
   ]
  },
  {
   "cell_type": "markdown",
   "metadata": {},
   "source": [
    "If we retrieve the orbital elements in canonical heliocentric elements, we get the same elements back (to within machine precision). Of course, if we now used REBOUND's functions (in Jacobi coordinates), e.g., `sim.particles[2].a`, we would get a value that differs by $O(10^{-3})$."
   ]
  },
  {
   "cell_type": "code",
   "execution_count": 6,
   "metadata": {},
   "outputs": [
    {
     "name": "stdout",
     "output_type": "stream",
     "text": [
      "<rebound.Orbit instance, a=1.0000000000000004 e=0.40000000000000036 inc=0.0 Omega=0.0 omega=0.0 f=0.2999999999999998>\n",
      "<rebound.Orbit instance, a=1.4999999999999998 e=0.19999999999999993 inc=0.0 Omega=0.0 omega=0.0 f=1.0>\n"
     ]
    }
   ],
   "source": [
    "for o in reb_calculate_orbits(sim):\n",
    "    print(o)"
   ]
  },
  {
   "cell_type": "markdown",
   "metadata": {},
   "source": [
    "Canonical heliocentric are the default coordinates in celmech. For both functions, we can also instead use the above functions using democratic heliocentric coordinates, e.g."
   ]
  },
  {
   "cell_type": "code",
   "execution_count": 7,
   "metadata": {},
   "outputs": [
    {
     "name": "stdout",
     "output_type": "stream",
     "text": [
      "<rebound.Orbit instance, a=0.9977167171632148 e=0.3986461268106377 inc=0.0 Omega=0.0 omega=6.282444738066171 f=0.3007405691134153>\n",
      "<rebound.Orbit instance, a=1.4980418314113109 e=0.199262210454451 inc=0.0 Omega=0.0 omega=6.278966580276557 f=1.0042187269030292>\n"
     ]
    }
   ],
   "source": [
    "for o in reb_calculate_orbits(sim, coordinates = 'democratic heliocentric'):\n",
    "    print(o)"
   ]
  },
  {
   "cell_type": "markdown",
   "metadata": {},
   "source": [
    "We can also convert a REBOUND simulation into a Poincare object to include only particular terms in the disturbing function (see https://github.com/shadden/celmech/blob/master/jupyter_examples/Basic_Poincare_Integration.ipynb for more details)"
   ]
  },
  {
   "cell_type": "code",
   "execution_count": 8,
   "metadata": {},
   "outputs": [],
   "source": [
    "from celmech import Poincare\n",
    "\n",
    "pvars = Poincare.from_Simulation(sim)"
   ]
  }
 ],
 "metadata": {
  "kernelspec": {
   "display_name": "Python 3",
   "language": "python",
   "name": "python3"
  },
  "language_info": {
   "codemirror_mode": {
    "name": "ipython",
    "version": 3
   },
   "file_extension": ".py",
   "mimetype": "text/x-python",
   "name": "python",
   "nbconvert_exporter": "python",
   "pygments_lexer": "ipython3",
   "version": "3.7.7"
  }
 },
 "nbformat": 4,
 "nbformat_minor": 4
}
