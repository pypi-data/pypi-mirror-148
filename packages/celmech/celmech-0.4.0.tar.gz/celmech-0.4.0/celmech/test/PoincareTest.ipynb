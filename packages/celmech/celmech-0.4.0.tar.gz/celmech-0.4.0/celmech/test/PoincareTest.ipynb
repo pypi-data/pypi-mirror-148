{
 "cells": [
  {
   "cell_type": "code",
   "execution_count": 1,
   "metadata": {
    "collapsed": true
   },
   "outputs": [],
   "source": [
    "from random import random, seed\n",
    "from celmech import Poincare, PoincareHamiltonian\n",
    "import rebound\n",
    "import numpy as np\n",
    "import matplotlib.pyplot as plt\n",
    "%matplotlib inline\n",
    "# sympy for pretty printing, symbolic manipulation\n",
    "from sympy import init_printing\n",
    "init_printing()"
   ]
  },
  {
   "cell_type": "code",
   "execution_count": 2,
   "metadata": {
    "collapsed": true
   },
   "outputs": [],
   "source": [
    "def packed_sim(Nseed):\n",
    "    seed(Nseed)\n",
    "    sim = rebound.Simulation()\n",
    "    sim.add(m=1)\n",
    " \n",
    "    sim.G = 4*np.pi*np.pi\n",
    "    a1 = 1\n",
    "    m1 = 10**(6*random()-10) # uniform in log space between 10**[-10, -4]\n",
    "    m2 = 10**(6*random()-10)\n",
    "    m3 = 10**(6*random()-10) \n",
    "    RH = a1*((m1+m2)/3.)**(1./3.)\n",
    "    beta = 4 + 6*random() # uniform on [4, 10] mutual hill radii separation.\n",
    "    sim.add(m=m1,a=a1)\n",
    "    sim.add(m=m2,a=a1+beta*RH, l=0)\n",
    "    sim.add(m=m3,a=a1+2*beta*RH, l=0)\n",
    "\n",
    "    sim.move_to_com()\n",
    "\n",
    "    sim.dt = sim.particles[1].P / 30.\n",
    "    sim.integrator='whfast'\n",
    "    if sim.particles[1].a/sim.particles[2].a > 0.98:\n",
    "        return packed_sim(Nseed+1000)\n",
    "    return sim "
   ]
  },
  {
   "cell_type": "code",
   "execution_count": 3,
   "metadata": {
    "collapsed": true
   },
   "outputs": [],
   "source": [
    "def mad(arr):\n",
    "    \"\"\" Median Absolute Deviation: a \"Robust\" version of standard deviation.\n",
    "        Indices variabililty of the sample.\n",
    "        https://en.wikipedia.org/wiki/Median_absolute_deviation \n",
    "    \"\"\"\n",
    "    med = np.median(arr)\n",
    "    return np.median(np.abs(arr - med))\n",
    "\n",
    "def averaging_error(Nseed, plot=True, average=True):\n",
    "    sim = packed_sim(Nseed)\n",
    "    ps = sim.particles\n",
    "\n",
    "    o = sim.calculate_orbits(jacobi_masses=True)\n",
    "    a10 = o[0].a\n",
    "    a20 = o[1].a\n",
    "    a30 = o[2].a\n",
    "    tsyn = 2*np.pi/(o[0].n-o[1].n)\n",
    "    #print(tsyn)\n",
    "    tmax = 30*tsyn\n",
    "    Nout = 100\n",
    "    times = np.linspace(0, tmax, Nout)\n",
    "\n",
    "    pvars = Poincare.from_Simulation(sim, average=average)\n",
    "    Hsim = PoincareHamiltonian(pvars)\n",
    "\n",
    "    #print(ps[1].m, ps[2].m)\n",
    "    \n",
    "    Nsma = np.zeros((3,Nout))\n",
    "    Hsma = np.zeros((3,Nout))\n",
    "\n",
    "    for i,t in enumerate(times):\n",
    "        # Store N-body data\n",
    "        o = sim.calculate_orbits(jacobi_masses=True)\n",
    "        Nsma[0,i]=o[0].a\n",
    "        Nsma[1,i]=o[1].a\n",
    "        Nsma[2,i]=o[2].a\n",
    "        \n",
    "        ps = Hsim.particles\n",
    "        Hsma[0,i]=ps[1].a\n",
    "        Hsma[1,i]=ps[2].a\n",
    "        Hsma[2,i]=ps[3].a\n",
    "\n",
    "        sim.integrate(t)\n",
    "        Hsim.integrate(t)\n",
    "        \n",
    "    Nmad1 = mad((Nsma[0]-a10)/a10)\n",
    "    Nmad2 = mad((Nsma[1]-a20)/a20)\n",
    "    Nmad3 = mad((Nsma[2]-a30)/a30)\n",
    "    \n",
    "    #print(Nmad1, Nmad2)\n",
    "    Nmed1 = np.median((Nsma[0]-a10)/a10)\n",
    "    Pmed1 = np.median((Hsma[0]-a10)/a10)\n",
    "    err1 = abs(Pmed1-Nmed1)/Nmad1\n",
    "    \n",
    "    Nmed2 = np.median((Nsma[1]-a20)/a20)\n",
    "    Pmed2 = np.median((Hsma[1]-a20)/a20)\n",
    "    err2 = abs(Pmed2-Nmed2)/Nmad2\n",
    "    \n",
    "    Nmed3 = np.median((Nsma[2]-a30)/a30)\n",
    "    Pmed3 = np.median((Hsma[2]-a30)/a30)\n",
    "    err3 = abs(Pmed3-Nmed3)/Nmad3\n",
    "    \n",
    "    if plot is True:\n",
    "        fig,ax=plt.subplots()\n",
    "\n",
    "        ax.plot(times,(Hsma[0]-a10)/a10,'r--')\n",
    "        ax.plot(times,(Hsma[1]-a20)/a20,'k--')\n",
    "        ax.plot(times,(Hsma[2]-a30)/a30,'g--')\n",
    "\n",
    "        ax.plot(times,(Nsma[0]-a10)/a10,'r')\n",
    "        ax.plot(times,(Nsma[1]-a20)/a20,'k')\n",
    "        ax.plot(times,(Nsma[2]-a30)/a30,'g')\n",
    "\n",
    "        ax.plot(times,[Nmed1]*len(times),'r', alpha=0.5)\n",
    "        ax.plot(times,[Nmed2]*len(times),'k', alpha=0.5)\n",
    "        ax.plot(times,[Nmed3]*len(times),'g', alpha=0.5)\n",
    "    return max(err1, err2, err3)"
   ]
  },
  {
   "cell_type": "markdown",
   "metadata": {},
   "source": [
    "We plot the deviations of the semimajor axes from the initial osculating value in the N-body simulation. Solid line is the median of the N-body, dashed is the correction from averaging the synodic terms. We compare the difference between solid and dashed to the MAD of the N-body values (i.e. the median of the absolute deviations from the median, in order to capture the low amplitude variations and exclude the big kicks at conjunctions)."
   ]
  },
  {
   "cell_type": "code",
   "execution_count": 4,
   "metadata": {},
   "outputs": [
    {
     "data": {
      "image/png": "[encoded data removed]",
      "text/latex": [
       "$$1.22701086771$$"
      ],
      "text/plain": [
       "1.22701086771"
      ]
     },
     "execution_count": 4,
     "metadata": {},
     "output_type": "execute_result"
    },
    {
     "data": {
      "image/png": "[encoded data removed]",
      "text/plain": [
       "<matplotlib.figure.Figure at 0x1163eacc0>"
      ]
     },
     "metadata": {},
     "output_type": "display_data"
    }
   ],
   "source": [
    "averaging_error(8)"
   ]
  },
  {
   "cell_type": "markdown",
   "metadata": {},
   "source": [
    "The median error as defined above over 100 random realizations starting at conjunction (with maximum correction), after averaging (we take the median since some N-body simulations go unstable and skew results a lot):"
   ]
  },
  {
   "cell_type": "code",
   "execution_count": 5,
   "metadata": {},
   "outputs": [
    {
     "name": "stdout",
     "output_type": "stream",
     "text": [
      "1.96392133245\n",
      "CPU times: user 4.67 s, sys: 32 ms, total: 4.7 s\n",
      "Wall time: 4.71 s\n"
     ]
    }
   ],
   "source": [
    "%%time\n",
    "errs = np.array([averaging_error(Nseed, plot=False) for Nseed in range(100)])\n",
    "print(np.median(errs))"
   ]
  },
  {
   "cell_type": "markdown",
   "metadata": {},
   "source": [
    "If we don't do the averaging, we do much worse"
   ]
  },
  {
   "cell_type": "code",
   "execution_count": 6,
   "metadata": {},
   "outputs": [
    {
     "name": "stdout",
     "output_type": "stream",
     "text": [
      "22.2794944237\n",
      "CPU times: user 4.59 s, sys: 39.5 ms, total: 4.63 s\n",
      "Wall time: 4.65 s\n"
     ]
    }
   ],
   "source": [
    "%%time\n",
    "errs = np.array([averaging_error(Nseed, plot=False, average=False) for Nseed in range(100)])\n",
    "print(np.median(errs))"
   ]
  },
  {
   "cell_type": "code",
   "execution_count": 7,
   "metadata": {
    "collapsed": true
   },
   "outputs": [],
   "source": [
    "def pratios(Nseed):\n",
    "    sim = get_sim(Nseed)\n",
    "    ps = sim.particles\n",
    "\n",
    "    pratio = ps[1].P/ps[2].P\n",
    "    print('pratio = ', pratio)\n",
    "    res = resonant_period_ratios(pratio-0.1, pratio+0.1, 5)\n",
    "    ps = sim.particles\n",
    "    for r in res:\n",
    "        j = r[1]\n",
    "        k = r[1]-r[0]\n",
    "        print(j, ':', j-k, j*ps[2].n-(j-k)*ps[1].n)\n",
    "    print('***')               "
   ]
  }
 ],
 "metadata": {
  "kernelspec": {
   "display_name": "Python 3",
   "language": "python",
   "name": "python3"
  },
  "language_info": {
   "codemirror_mode": {
    "name": "ipython",
    "version": 3
   },
   "file_extension": ".py",
   "mimetype": "text/x-python",
   "name": "python",
   "nbconvert_exporter": "python",
   "pygments_lexer": "ipython3",
   "version": "3.6.8"
  }
 },
 "nbformat": 4,
 "nbformat_minor": 1
}
