{
 "cells": [
  {
   "cell_type": "code",
   "execution_count": 1,
   "id": "075164af",
   "metadata": {},
   "outputs": [],
   "source": [
    "# default_exp genodata"
   ]
  },
  {
   "cell_type": "code",
   "execution_count": 1,
   "id": "95f9b562",
   "metadata": {},
   "outputs": [],
   "source": [
    "#hide\n",
    "%load_ext autoreload\n",
    "%autoreload 2"
   ]
  },
  {
   "cell_type": "markdown",
   "id": "0935b77f",
   "metadata": {
    "tags": []
   },
   "source": [
    "# Genodata module\n",
    "> read and extract genodata"
   ]
  },
  {
   "cell_type": "code",
   "execution_count": 111,
   "id": "3c88fd3c",
   "metadata": {},
   "outputs": [],
   "source": [
    "#export\n",
    "import numpy as np\n",
    "import pandas as pd\n",
    "import dask.array as da\n",
    "from bgen_reader import open_bgen  \n",
    "from pandas_plink import read_plink\n",
    "from pandas_plink.bed_reader import lib, ffi\n",
    "try:\n",
    "    from pybgen.parallel import ParallelPyBGEN as PyBGEN\n",
    "except:\n",
    "    print('Can not import ParallelPyBGEN. import PyBGEN instead')\n",
    "    from pybgen import PyBGEN"
   ]
  },
  {
   "cell_type": "code",
   "execution_count": 35,
   "id": "e8fe9d80-2d90-4666-950e-230a0809e192",
   "metadata": {},
   "outputs": [],
   "source": [
    "#export\n",
    "from math import floor\n",
    "from pathlib import Path\n",
    "from typing import Optional, Union\n",
    "from tqdm import tqdm\n",
    "from numpy import ascontiguousarray, empty, float32, float64, nan_to_num, uint8, uint64, arange, full\n",
    "from xarray import DataArray\n",
    "from pandas import DataFrame, array"
   ]
  },
  {
   "cell_type": "code",
   "execution_count": 112,
   "id": "8868d0a8",
   "metadata": {},
   "outputs": [],
   "source": [
    "# export\n",
    "def read_bgen(file, sample_file=None,pybgen=True):\n",
    "    '''the function to read genotype data'''\n",
    "    if pybgen:\n",
    "        bg = PyBGEN(file,probs_only=True)\n",
    "        bim = []\n",
    "        for i,t in enumerate(bg.iter_variant_info()):\n",
    "            bim.append([int(t.chrom),t.name,0.0,t.pos,t.a1,t.a2,i])\n",
    "        bim = pd.DataFrame(bim,columns=['chrom','snp','cm','pos','a0','a1','i'])\n",
    "        bim.snp = 'chr'+bim[['chrom','pos','a0','a1']].astype(str).agg(':'.join, axis=1)\n",
    "    else:\n",
    "        bg = open_bgen(file,verbose=False)\n",
    "        snp,aa0,aa1 = [],[],[]\n",
    "        for c,p,alleles in zip(bg.chromosomes,bg.positions,bg.allele_ids):\n",
    "            a0,a1 = alleles.split(',')\n",
    "            aa0.append(a0)\n",
    "            aa1.append(a1)\n",
    "            snp.append(':'.join(['chr'+str(int(c)),str(p),a0,a1]))  # '05' first change to int, then change to str\n",
    "        bim = pd.DataFrame({'chrom':bg.chromosomes.astype(int),'snp':snp,'pos':bg.positions,'a0':aa0,'a1':aa1})\n",
    "    if sample_file is None:\n",
    "        fam = None\n",
    "    else:\n",
    "        fam = pd.read_csv(sample_file, header=0, delim_whitespace=True, quotechar='\"',skiprows=1)\n",
    "        fam.columns = ['fid','iid','missing','sex'] #Fix me\n",
    "        fam = fam\n",
    "    return bim,fam,bg"
   ]
  },
  {
   "cell_type": "code",
   "execution_count": null,
   "id": "15813c09-9034-4391-bf42-87d0cb30b889",
   "metadata": {},
   "outputs": [],
   "source": [
    "#export\n",
    "def read_bim(fn):\n",
    "    header = [\"chrom\", \"snp\", \"cm\",\"pos\",\"a0\", \"a1\"]\n",
    "    df = pd.read_csv(fn,delim_whitespace=True,header=None,names=header,compression=None,engine=\"c\",iterator=False)\n",
    "    df[\"i\"] = range(df.shape[0])\n",
    "    return df"
   ]
  },
  {
   "cell_type": "code",
   "execution_count": 113,
   "id": "7c493c06",
   "metadata": {},
   "outputs": [],
   "source": [
    "# export\n",
    "def bgen2dask(bgen,index,step=500):\n",
    "    '''The function to covert bgen to dask array'''\n",
    "    genos = []\n",
    "    n = len(index)\n",
    "    for i in range(0,n,step):\n",
    "        onecode_geno = bgen.read(index[i:min(n,i+step)])  #samples x variants\n",
    "        geno = onecode_geno.argmax(axis=2).astype(np.int8)\n",
    "        genos.append(da.from_array(geno))\n",
    "    return(da.concatenate(genos,axis=1).T)"
   ]
  },
  {
   "cell_type": "code",
   "execution_count": 126,
   "id": "c0442bcf-cfc9-4e37-bc8e-dd4732bc8076",
   "metadata": {},
   "outputs": [],
   "source": [
    "# export\n",
    "def pybgen_region(bgen,region,step=100):\n",
    "    genos,geno=[],[]\n",
    "    i = 1\n",
    "    for _,v in bgen.iter_variants_in_region('0'+str(region[0]) if region[0]<10 else str(region[0]),region[1],region[2]):\n",
    "        if i % step == 0:\n",
    "            genos.append(da.from_array(geno))\n",
    "            geno = []    \n",
    "        geno.append(v.argmax(axis=1).astype(np.int8))\n",
    "        i += 1\n",
    "    genos.append(da.from_array(geno))\n",
    "    return(da.concatenate(genos,axis=0))"
   ]
  },
  {
   "cell_type": "code",
   "execution_count": 115,
   "id": "a23102be",
   "metadata": {},
   "outputs": [],
   "source": [
    "# export\n",
    "def extract_bed(geno,idx,row=True,step=500,region=None):  #row = True by variants, row = False by samples\n",
    "    if isinstance(geno,da.core.Array):\n",
    "        if row:\n",
    "            geno = geno[idx,:]\n",
    "        else:\n",
    "            geno = geno[:,idx]\n",
    "    elif isinstance(geno,PyBGEN):\n",
    "        geno = pybgen_region(geno,region,step)\n",
    "    else:\n",
    "        if row:\n",
    "            #must be numric index\n",
    "            if type(list(idx)[0]) is bool:\n",
    "                pd_idx = pd.Series(idx)\n",
    "                idx = list(pd_idx[pd_idx].index)\n",
    "            geno = bgen2dask(geno,idx,step)\n",
    "        else:\n",
    "            geno = geno.read() # read all variants\n",
    "            geno = geno[:,idx]\n",
    "    return geno"
   ]
  },
  {
   "cell_type": "code",
   "execution_count": 1,
   "id": "6d19e32e",
   "metadata": {},
   "outputs": [],
   "source": [
    "# export\n",
    "class Genodata:\n",
    "    def __init__(self,geno_path,sample_path=None):\n",
    "        self.bim,self.fam,self.bed = self.read_geno(geno_path,sample_path)\n",
    "        \n",
    "    def __repr__(self): \n",
    "        return \"bim:% s \\n fam:% s \\n bed:%s\" % (self.bim, self.fam, self.bed)\n",
    "        \n",
    "    def read_geno(self,geno_file,sample_file):\n",
    "        if geno_file.endswith('.bed'):\n",
    "            bim,fam,bed =  read_plink(geno_file[:-4], verbose=False)\n",
    "            bim.snp = 'chr'+bim[['chrom','pos','a0','a1']].astype(str).agg(':'.join, axis=1)\n",
    "        elif geno_file.endswith('.bgen'):\n",
    "            if sample_file is None:\n",
    "                sample_file = geno_file.replace('.bgen', '.sample')\n",
    "            bim,fam,bed = read_bgen(geno_file,sample_file)\n",
    "        else:\n",
    "            raise ValueError('Plesae provide the genotype files with PLINK binary format or BGEN format')\n",
    "        bim.chrom = bim.chrom.astype(int)\n",
    "        bim.pos = bim.pos.astype(int)\n",
    "        return bim,fam,bed\n",
    "    \n",
    "        \n",
    "    def geno_in_stat(self,stat,notin=False):\n",
    "        '''The function to find an overlap region between geno data with sumstat'''\n",
    "        variants = stat.SNP\n",
    "        self.extractbyvariants(variants,notin)\n",
    "        \n",
    "        \n",
    "    def geno_in_unr(self,unr):\n",
    "        '''The function to find an overlap samples between geno data with unr'''\n",
    "        samples = unr.IID\n",
    "        self.extractbysamples(samples)\n",
    "        \n",
    "    def extractbyregion(self,region):\n",
    "        bim = self.bim\n",
    "        idx = (bim.chrom == region[0]) & (bim.pos >= region[1]) & (bim.pos <= region[2])\n",
    "        print('this region',region,'has',sum(idx),'SNPs in Genodata')\n",
    "        if sum(idx) == 0:\n",
    "            raise ValueError('The extraction is empty')\n",
    "        #update bim,bed\n",
    "        self.extractbyidx(idx,row=True,region=region)\n",
    "      \n",
    "    def extractbyvariants(self,variants,notin=False):  #variants is list or pd.Series\n",
    "        idx = self.bim.snp.isin(variants)\n",
    "        if notin:\n",
    "            idx = idx == False\n",
    "        if sum(idx) == 0:\n",
    "            raise ValueError('The extraction is empty')\n",
    "        #update bim,bed\n",
    "        self.extractbyidx(idx,row=True)\n",
    "        \n",
    "    def extractbysamples(self,samples,notin=False): #samples is list or pd.Series\n",
    "        samples = pd.Series(samples,dtype=str)\n",
    "        idx = self.fam.iid.astype(str).isin(samples)\n",
    "        if notin:\n",
    "            idx = idx == False\n",
    "        if sum(idx) == 0:\n",
    "            raise ValueError('The extraction is empty')\n",
    "        #update fam,bed\n",
    "        self.extractbyidx(idx,row=False)\n",
    "        \n",
    "    def extractbyidx(self,idx,row=True,region=None):\n",
    "        '''get subset of genodata by index\n",
    "        if index is numbers, the order of genodata will be sorted by the order of index.\n",
    "        if row = True, extract by variants. Otherwise, extract by samples.'''\n",
    "        idx = list(idx)\n",
    "        self.idx = idx\n",
    "        if row:\n",
    "            #update bim\n",
    "            if type(idx[0]) is bool:\n",
    "                self.bim = self.bim[idx]\n",
    "            else:\n",
    "                self.bim = self.bim.iloc[idx]\n",
    "        else:\n",
    "            #update fam\n",
    "            if type(idx[0]) is bool:\n",
    "                self.fam = self.fam[idx]\n",
    "            else:\n",
    "                self.fam = self.fam.iloc[idx]\n",
    "        self.bed = extract_bed(self.bed,idx,row,region=region)\n",
    "        \n",
    "    def export_plink(self, bed: Union[str, Path], bim: Optional[Union[str, Path]] = None, fam: Optional[Union[str, Path]] = None,row: str = \"variant\",verbose: bool = True):\n",
    "        bed = Path(bed)\n",
    "        if bim is None:\n",
    "            bim = bed.with_suffix(\".bim\")\n",
    "        if fam is None:\n",
    "            fam = bed.with_suffix(\".fam\")\n",
    "        bim = Path(bim)\n",
    "        fam = Path(fam)\n",
    "\n",
    "        write_bed(bed, self.bed, row, verbose)\n",
    "\n",
    "        _echo(\"Writing FAM... \", end=\"\", disable=not verbose)\n",
    "        write_fam(fam, self.fam)\n",
    "        _echo(\"done.\", disable=not verbose)\n",
    "\n",
    "        _echo(\"Writing BIM... \", end=\"\", disable=not verbose)\n",
    "        write_bim(bim, self.bim)\n",
    "        _echo(\"done.\", disable=not verbose)\n",
    "\n"
   ]
  },
  {
   "cell_type": "code",
   "execution_count": 85,
   "id": "67371d5c-d73e-41a5-aea4-02dae657735e",
   "metadata": {},
   "outputs": [],
   "source": [
    "#export\n",
    "def write_plink(\n",
    "    G,\n",
    "    bed: Union[str, Path],\n",
    "    bim: Optional[Union[str, Path]] = None,\n",
    "    fam: Optional[Union[str, Path]] = None,\n",
    "    row: str = \"variant\",\n",
    "    verbose: bool = True,\n",
    "):\n",
    "    \"\"\"\n",
    "    Write PLINK 1 binary files into a data array.\n",
    "\n",
    "    A PLINK 1 binary file set consists of three files:\n",
    "\n",
    "    - BED: containing the genotype.\n",
    "    - BIM: containing variant information.\n",
    "    - FAM: containing sample information.\n",
    "\n",
    "    The user must provide the genotype (dosage) via a :class:`xarray.DataArray` matrix\n",
    "    with data type :const:`numpy.float32` or :const:`numpy.float64`. That matrix must\n",
    "    have two named dimensions: **sample** and **variant**. The only allowed values for\n",
    "    the genotype are: :const:`0`, :const:`1`, :const:`2`, and :data:`math.nan`.\n",
    "\n",
    "    Parameters\n",
    "    ----------\n",
    "    G\n",
    "        Genotype with bim, bed, and fam.\n",
    "    bed\n",
    "        Path to a BED file.\n",
    "    bim\n",
    "        Path to a BIM file.It defaults to :const:`None`, in which case it will try to be\n",
    "        inferred.\n",
    "    fam\n",
    "        Path to a FAM file. It defaults to :const:`None`, in which case it will try to\n",
    "        be inferred.\n",
    "    major\n",
    "        It can be either :const:`\"sample\"` or :const:`\"variant\"` (recommended and\n",
    "        default). Specify the matrix layout on the BED file.\n",
    "    verbose\n",
    "        :const:`True` for progress information; :const:`False` otherwise.\n",
    "    \"\"\"\n",
    "    if G.bed.ndim != 2:\n",
    "        raise ValueError(\"G has to be bidimensional\")\n",
    "\n",
    "    bed = Path(bed)\n",
    "    if bim is None:\n",
    "        bim = bed.with_suffix(\".bim\")\n",
    "    if fam is None:\n",
    "        fam = bed.with_suffix(\".fam\")\n",
    "    bim = Path(bim)\n",
    "    fam = Path(fam)\n",
    "\n",
    "    write_bed(bed, G.bed, row, verbose)\n",
    "\n",
    "    _echo(\"Writing FAM... \", end=\"\", disable=not verbose)\n",
    "    write_fam(fam, G.fam)\n",
    "    _echo(\"done.\", disable=not verbose)\n",
    "\n",
    "    _echo(\"Writing BIM... \", end=\"\", disable=not verbose)\n",
    "    write_bim(bim, G.bim)\n",
    "    _echo(\"done.\", disable=not verbose)\n",
    "\n",
    "\n",
    "def _echo(msg: str, end: str = \"\\n\", disable: bool = False):\n",
    "    if not disable:\n",
    "        print(msg, end=end, flush=True)\n",
    "\n",
    "\n",
    "def write_fam(filepath: Path, df):\n",
    "    cols = [\"fid\", \"iid\", \"father\",\"mother\",\"gender\",\"trait\"]\n",
    "    df = df[cols]\n",
    "    df.to_csv(\n",
    "        filepath,\n",
    "        index=False,\n",
    "        sep=\"\\t\",\n",
    "        header=False,\n",
    "        encoding=\"ascii\",\n",
    "        line_terminator=\"\\n\",\n",
    "    )\n",
    "\n",
    "\n",
    "def write_bim(filepath: Path, df):\n",
    "    cols = [\"chrom\",\"snp\",\"cm\",\"pos\",\"a0\",\"a1\"]\n",
    "    df = df[cols]\n",
    "    df.to_csv(\n",
    "        filepath,\n",
    "        index=False,\n",
    "        sep=\"\\t\",\n",
    "        header=False,\n",
    "        encoding=\"ascii\",\n",
    "        line_terminator=\"\\n\",\n",
    "    )"
   ]
  },
  {
   "cell_type": "code",
   "execution_count": 81,
   "id": "3102ae23-b293-4c0c-b849-33f568b40d96",
   "metadata": {},
   "outputs": [],
   "source": [
    "#export\n",
    "def write_bed(filepath: Path, G, row='variant', verbose=True):\n",
    "    \"\"\"\n",
    "    Write BED file.\n",
    "    It assumes that ``X`` is a variant-by-sample matrix.\n",
    "    \"\"\"\n",
    "    if not isinstance(G,da.core.Array):\n",
    "        G = da.asanyarray(G)\n",
    "\n",
    "    if row != \"variant\":\n",
    "        G = G.T\n",
    "\n",
    "    row_code = 1 if row == \"variant\" else 0\n",
    "    e = lib.write_bed_header(str(filepath).encode(), row_code)\n",
    "    if e != 0:\n",
    "        raise RuntimeError(f\"Failure while writing BED file {filepath}.\")\n",
    "\n",
    "    nrows = G.shape[0]\n",
    "    ncols = G.shape[1]\n",
    "\n",
    "    row_chunk = max(1, floor((1024 * 1024 * 256) / ncols))\n",
    "    row_chunk = min(row_chunk, nrows)\n",
    "\n",
    "    G = G.rechunk((row_chunk, ncols))\n",
    "\n",
    "    row_start = 0\n",
    "    for chunk in tqdm(G.chunks[0], \"Writing BED\", disable=not verbose):\n",
    "        data = G[row_start : row_start + chunk, :].compute()\n",
    "        if data.dtype not in [float32, float64]:\n",
    "            msg = \"Unsupported data type. \"\n",
    "            msg += \"Please, provide a dosage matrix in either \"\n",
    "            msg += \"float32 or float64 format.\"\n",
    "            raise ValueError(msg)\n",
    "\n",
    "        _write_bed_chunk(filepath, data)\n",
    "        row_start += chunk\n",
    "\n",
    "\n",
    "def _write_bed_chunk(filepath: Path, X):\n",
    "\n",
    "    base_type = uint8\n",
    "    base_size = base_type().nbytes\n",
    "    base_repr = \"uint8_t\"\n",
    "\n",
    "    nan_to_num(X, False, 3.0)\n",
    "    G = ascontiguousarray(X, base_type)\n",
    "    assert G.flags.aligned\n",
    "\n",
    "    strides = empty(2, uint64)\n",
    "    strides[:] = G.strides\n",
    "    strides //= base_size\n",
    "\n",
    "    e = lib.write_bed_chunk(\n",
    "        str(filepath).encode(),\n",
    "        G.shape[1],\n",
    "        G.shape[0],\n",
    "        ffi.cast(f\"{base_repr} *\", G.ctypes.data),\n",
    "        ffi.cast(\"uint64_t *\", strides.ctypes.data),\n",
    "    )\n",
    "    if e != 0:\n",
    "        raise RuntimeError(f\"Failure while writing BED file {filepath}.\")"
   ]
  },
  {
   "cell_type": "code",
   "execution_count": 86,
   "id": "9f2b938a-8149-4b89-bb52-14635f56e948",
   "metadata": {},
   "outputs": [
    {
     "name": "stderr",
     "output_type": "stream",
     "text": [
      "\n",
      "Writing BED:   0%|          | 0/1 [00:00<?, ?it/s]\u001b[A\n",
      "Writing BED: 100%|██████████| 1/1 [00:04<00:00,  4.77s/it]\u001b[A"
     ]
    },
    {
     "name": "stdout",
     "output_type": "stream",
     "text": [
      "Writing FAM... "
     ]
    },
    {
     "name": "stderr",
     "output_type": "stream",
     "text": [
      "\n"
     ]
    },
    {
     "name": "stdout",
     "output_type": "stream",
     "text": [
      "done.\n",
      "Writing BIM... done.\n"
     ]
    }
   ],
   "source": [
    "write_plink(geno,'test.bed')"
   ]
  },
  {
   "cell_type": "code",
   "execution_count": 70,
   "id": "74a2ea8a-d80b-41e0-96b1-6d5c60ebdd3c",
   "metadata": {},
   "outputs": [],
   "source": [
    "from pandas_plink import read_plink1_bin"
   ]
  },
  {
   "cell_type": "code",
   "execution_count": 87,
   "id": "ba195114-8a03-49a3-9859-c9b61a468862",
   "metadata": {},
   "outputs": [],
   "source": [
    "geno1 = Genodata('test.bed')"
   ]
  },
  {
   "cell_type": "code",
   "execution_count": 88,
   "id": "8421aa7f-1e2f-41d8-9659-0414a032e58a",
   "metadata": {},
   "outputs": [
    {
     "data": {
      "text/plain": [
       "bim:      chrom                  snp   cm        pos a0 a1     i\n",
       "0         1    chr1:55039741:G:C  0.0   55039741  G  C     0\n",
       "1         1    chr1:55039742:G:A  0.0   55039742  G  A     1\n",
       "2         1    chr1:55039749:G:C  0.0   55039749  G  C     2\n",
       "3         1    chr1:55039750:T:C  0.0   55039750  T  C     3\n",
       "4         1    chr1:55039753:T:C  0.0   55039753  T  C     4\n",
       "...     ...                  ...  ...        ... .. ..   ...\n",
       "1408     11  chr11:116832956:T:C  0.0  116832956  T  C  1408\n",
       "1409     11  chr11:116832976:C:G  0.0  116832976  C  G  1409\n",
       "1410     11  chr11:116832977:T:G  0.0  116832977  T  G  1410\n",
       "1411     11  chr11:116832978:T:G  0.0  116832978  T  G  1411\n",
       "1412     11  chr11:116832980:T:C  0.0  116832980  T  C  1412\n",
       "\n",
       "[1413 rows x 7 columns] \n",
       " fam:            fid      iid father mother gender trait       i\n",
       "0       1000019  1000019      0      0      2    -9       0\n",
       "1       1000078  1000078      0      0      2    -9       1\n",
       "2       1000081  1000081      0      0      1    -9       2\n",
       "3       1000198  1000198      0      0      2    -9       3\n",
       "4       1000210  1000210      0      0      1    -9       4\n",
       "...         ...      ...    ...    ...    ...   ...     ...\n",
       "168201  6025295  6025295      0      0      1    -9  168201\n",
       "168202  6025319  6025319      0      0      2    -9  168202\n",
       "168203  6025346  6025346      0      0      2    -9  168203\n",
       "168204  6025363  6025363      0      0      1    -9  168204\n",
       "168205  6025411  6025411      0      0      2    -9  168205\n",
       "\n",
       "[168206 rows x 7 columns] \n",
       " bed:dask.array<transpose, shape=(1413, 168206), dtype=float32, chunksize=(1024, 1024), chunktype=numpy.ndarray>"
      ]
     },
     "execution_count": 88,
     "metadata": {},
     "output_type": "execute_result"
    }
   ],
   "source": [
    "geno1"
   ]
  },
  {
   "cell_type": "markdown",
   "id": "3eb53754",
   "metadata": {},
   "source": [
    "# Test"
   ]
  },
  {
   "cell_type": "code",
   "execution_count": 6,
   "id": "f8039391",
   "metadata": {},
   "outputs": [],
   "source": [
    "geno_path ='/home/dmc2245/UKBiobank/data/exome_files/project_VCF/072721_run/plink/ukb23156_c1.merged.filtered.bed'"
   ]
  },
  {
   "cell_type": "code",
   "execution_count": 117,
   "id": "20e4f3ac",
   "metadata": {
    "kernel": "SoS"
   },
   "outputs": [],
   "source": [
    "region = [5,272741,1213528-900000]\n",
    "geno_path = 'MWE_region_extraction/ukb23156_c5.merged.filtered.5_272741_1213528.bed'\n",
    "sumstats_path = 'MWE_region_extraction/090321_UKBB_Hearing_aid_f3393_expandedwhite_6436cases_96601ctrl_PC1_2_f3393.regenie.snp_stats'\n",
    "pheno_path = None\n",
    "unr_path = 'MWE_region_extraction/UKB_genotypedatadownloaded083019.090221_sample_variant_qc_final_callrate90.filtered.extracted.white_europeans.filtered.092821_ldprun_unrelated.filtered.prune.txt'\n",
    "imp_geno_path = 'MWE_region_extraction/ukb_imp_chr5_v3_05_272856_1213643.bgen'\n",
    "imp_sumstats_path = 'MWE_region_extraction/100521_UKBB_Hearing_aid_f3393_expandedwhite_15601cases_237318ctrl_500k_PC1_PC2_f3393.regenie.snp_stats'\n",
    "imp_ref = 'hg19'\n",
    "\n",
    "output_sumstats = 'test.snp_stats'\n",
    "output_LD = 'test_corr.csv'\n",
    "\n",
    "#main(region,geno_path,sumstats_path,pheno_path,unr_path,imp_geno_path,imp_sumstats_path,imp_ref,output_sumstats,output_LD)"
   ]
  },
  {
   "cell_type": "code",
   "execution_count": 16,
   "id": "5fe17af9",
   "metadata": {},
   "outputs": [],
   "source": [
    "from pandas_plink import Chunk"
   ]
  },
  {
   "cell_type": "code",
   "execution_count": 17,
   "id": "18cb5e91",
   "metadata": {},
   "outputs": [
    {
     "data": {
      "text/plain": [
       "Chunk(nsamples=512, nvariants=512)"
      ]
     },
     "execution_count": 17,
     "metadata": {},
     "output_type": "execute_result"
    }
   ],
   "source": [
    "Chunk(512,512)"
   ]
  },
  {
   "cell_type": "code",
   "execution_count": 12,
   "id": "e64bd4d3",
   "metadata": {
    "kernel": "SoS"
   },
   "outputs": [],
   "source": [
    "exome_geno.extractbyvariants(exome_geno.bim.snp[:50])"
   ]
  },
  {
   "cell_type": "code",
   "execution_count": 13,
   "id": "6b54501a",
   "metadata": {
    "kernel": "SoS"
   },
   "outputs": [],
   "source": [
    "exome_geno.extractbysamples(exome_geno.fam.iid[:60])"
   ]
  },
  {
   "cell_type": "code",
   "execution_count": 6,
   "id": "5e33bf2a",
   "metadata": {},
   "outputs": [],
   "source": [
    "from cugg.sumstat import *"
   ]
  },
  {
   "cell_type": "code",
   "execution_count": 8,
   "id": "e042a94b",
   "metadata": {},
   "outputs": [],
   "source": [
    "region = [5, 272741, 1213528]"
   ]
  },
  {
   "cell_type": "code",
   "execution_count": 7,
   "id": "0d2843e3",
   "metadata": {},
   "outputs": [],
   "source": [
    "imput_sumstats = Sumstat('/home/dmc2245/UKBiobank/results/REGENIE_results/results_imputed_data/2021_10_07_f3393_500K/100521_UKBB_Hearing_aid_f3393_expandedwhite_15601cases_237318ctrl_500k_PC1_PC2_f3393.regenie.snp_stats.gz')"
   ]
  },
  {
   "cell_type": "code",
   "execution_count": 10,
   "id": "b9451779",
   "metadata": {},
   "outputs": [],
   "source": [
    "imput_sumstats.extractbyregion(region)"
   ]
  },
  {
   "cell_type": "code",
   "execution_count": 11,
   "id": "52925314",
   "metadata": {},
   "outputs": [
    {
     "data": {
      "text/plain": [
       "sumstat:         CHR      POS REF ALT                SNP      BETA        SE         P\n",
       "6767726    5   272851   A   G    chr5:272851:A:G  0.357496  0.888197  0.687318\n",
       "6767727    5   272906   A   C    chr5:272906:A:C -0.003007  0.019764  0.879070\n",
       "6767728    5   273143   A   G    chr5:273143:A:G -0.013693  0.016716  0.412684\n",
       "6767729    5   273160   G   C    chr5:273160:G:C  0.235713  0.348772  0.499145\n",
       "6767730    5   273534   C   T    chr5:273534:C:T  0.050095  0.139496  0.719509\n",
       "...      ...      ...  ..  ..                ...       ...       ...       ...\n",
       "6776191    5  1213094   C   T   chr5:1213094:C:T -0.015881  0.023298  0.495462\n",
       "6776192    5  1213134   G   A   chr5:1213134:G:A -1.142280  1.344380  0.395509\n",
       "6776193    5  1213223   C   T   chr5:1213223:C:T -0.003009  0.013631  0.825270\n",
       "6776194    5  1213404   T  TC  chr5:1213404:T:TC -0.039146  0.117837  0.739735\n",
       "6776195    5  1213510   C   T   chr5:1213510:C:T  0.009318  0.012922  0.470845\n",
       "\n",
       "[8470 rows x 8 columns]"
      ]
     },
     "execution_count": 11,
     "metadata": {},
     "output_type": "execute_result"
    }
   ],
   "source": [
    "imput_sumstats"
   ]
  },
  {
   "cell_type": "code",
   "execution_count": null,
   "id": "126732a4-721f-4dae-9d00-8e190c09af76",
   "metadata": {},
   "outputs": [],
   "source": [
    "\n",
    "bgen = PyBGEN(geno_file)\n",
    "sample_file = geno_file.replace('.bgen', '.sample')\n",
    "if not os.path.isfile(sample_file):\n",
    "    if not os.path.isfile(${bgen_sample_path:r}):\n",
    "        raise ValueError(f\"Cannot find the matching sample file ``{sample_file}`` for ``{geno_file}``.\\nYou can specify path to sample file for all BGEN files using ``--bgen-sample-path``.\")\n",
    "    else:\n",
    "        sample_file = ${bgen_sample_path:r}\n",
    "bgen_fam = pd.read_csv(sample_file, header=0, delim_whitespace=True, quotechar='\"',skiprows=1)\n",
    "bgen_fam.columns = ['fid','iid','missing','sex']\n",
    "geno = [bgen,bgen_fam]"
   ]
  },
  {
   "cell_type": "code",
   "execution_count": 127,
   "id": "e1f56973",
   "metadata": {},
   "outputs": [],
   "source": [
    "#imp_geno_path = '/mnt/mfs/statgen/archive/UKBiobank_Yale_transfer/ukb39554_imputeddataset/ukb_imp_chr5_v3.bgen'\n",
    "bgen_sample_path = '/home/dmc2245/UKBiobank_Yale_transfer/ukb39554_imputeddataset/ukb32285_imputedindiv.sample'\n",
    "imput_geno = Genodata(imp_geno_path,bgen_sample_path)"
   ]
  },
  {
   "cell_type": "code",
   "execution_count": 128,
   "id": "bf0c5c63-50da-4bc5-b9ea-b558b0ca85e2",
   "metadata": {},
   "outputs": [],
   "source": [
    "imput_geno.extractbyregion(region)"
   ]
  },
  {
   "cell_type": "code",
   "execution_count": 130,
   "id": "6024ef7e-d9d0-425e-865b-40329c2c6619",
   "metadata": {},
   "outputs": [],
   "source": [
    "imput_geno.extractbyvariants(list(imput_geno.bim.snp[10:20]))"
   ]
  },
  {
   "cell_type": "code",
   "execution_count": 134,
   "id": "6cff1f78-0356-4402-b819-b88d9b46e3a6",
   "metadata": {},
   "outputs": [],
   "source": [
    "imput_geno.extractbysamples(list(imput_geno.fam.iid[50:100]))"
   ]
  },
  {
   "cell_type": "code",
   "execution_count": 135,
   "id": "3bd80351-7f72-4831-bc9a-3eb4eeb6888f",
   "metadata": {},
   "outputs": [
    {
     "data": {
      "text/plain": [
       "bim:    chrom              snp   cm     pos a0 a1   i\n",
       "10      5  chr5:273143:A:G  0.0  273143  A  G  10\n",
       "11      5  chr5:273160:G:C  0.0  273160  G  C  11\n",
       "12      5  chr5:273209:A:G  0.0  273209  A  G  12\n",
       "13      5  chr5:273212:T:C  0.0  273212  T  C  13\n",
       "14      5  chr5:273237:T:G  0.0  273237  T  G  14\n",
       "15      5  chr5:273261:C:T  0.0  273261  C  T  15\n",
       "16      5  chr5:273267:G:A  0.0  273267  G  A  16\n",
       "17      5  chr5:273310:A:G  0.0  273310  A  G  17\n",
       "18      5  chr5:273319:A:G  0.0  273319  A  G  18\n",
       "19      5  chr5:273326:T:C  0.0  273326  T  C  19 \n",
       " fam:        fid      iid  missing  sex\n",
       "50  1426232  1426232        0    1\n",
       "51  3769979  3769979        0    1\n",
       "52  1751431  1751431        0    2\n",
       "53  4658109  4658109        0    2\n",
       "54  3538677  3538677        0    2\n",
       "55  3542585  3542585        0    2\n",
       "56  3249692  3249692        0    2\n",
       "57  2299845  2299845        0    1\n",
       "58  4136172  4136172        0    2\n",
       "59  5406314  5406314        0    1\n",
       "60  5987848  5987848        0    2\n",
       "61  3872614  3872614        0    1\n",
       "62  4818195  4818195        0    2\n",
       "63  1935571  1935571        0    2\n",
       "64  3585286  3585286        0    1\n",
       "65  2989866  2989866        0    2\n",
       "66  1474609  1474609        0    1\n",
       "67  1275311  1275311        0    2\n",
       "68  5471349  5471349        0    2\n",
       "69  3699731  3699731        0    2\n",
       "70  2314069  2314069        0    2\n",
       "71  4343716  4343716        0    2\n",
       "72  1245364  1245364        0    2\n",
       "73  4039100  4039100        0    1\n",
       "74  4652328  4652328        0    1\n",
       "75  2184919  2184919        0    1\n",
       "76  3340731  3340731        0    1\n",
       "77  5722885  5722885        0    1\n",
       "78  2149616  2149616        0    1\n",
       "79  3090686  3090686        0    1\n",
       "80  5925070  5925070        0    2\n",
       "81  2282972  2282972        0    1\n",
       "82  4720630  4720630        0    2\n",
       "83  1902948  1902948        0    2\n",
       "84  2017232  2017232        0    1\n",
       "85  3184972  3184972        0    2\n",
       "86  1135664  1135664        0    1\n",
       "87  5988158  5988158        0    2\n",
       "88  5088374  5088374        0    1\n",
       "89  3148263  3148263        0    2\n",
       "90  3548968  3548968        0    2\n",
       "91  5184236  5184236        0    2\n",
       "92  2963226  2963226        0    2\n",
       "93  2321078  2321078        0    2\n",
       "94  2867519  2867519        0    1\n",
       "95  4419678  4419678        0    2\n",
       "96  5830444  5830444        0    2\n",
       "97  2861021  2861021        0    2\n",
       "98  2375434  2375434        0    1\n",
       "99  1896578  1896578        0    1 \n",
       " bed:dask.array<getitem, shape=(10, 50), dtype=int8, chunksize=(10, 50), chunktype=numpy.ndarray>"
      ]
     },
     "execution_count": 135,
     "metadata": {},
     "output_type": "execute_result"
    }
   ],
   "source": [
    "imput_geno"
   ]
  },
  {
   "cell_type": "code",
   "execution_count": 103,
   "id": "54d8bebf-965c-444a-b962-ac431374281e",
   "metadata": {},
   "outputs": [
    {
     "data": {
      "text/plain": [
       "[5, 272741, 313528]"
      ]
     },
     "execution_count": 103,
     "metadata": {},
     "output_type": "execute_result"
    }
   ],
   "source": [
    "region"
   ]
  },
  {
   "cell_type": "code",
   "execution_count": 10,
   "id": "99d3edc7-14fc-4160-9fa2-9509f91c3f31",
   "metadata": {},
   "outputs": [],
   "source": [
    "from pybgen import PyBGEN"
   ]
  },
  {
   "cell_type": "code",
   "execution_count": 120,
   "id": "f5675f6c-65c9-4795-9dcd-efcd2ebcbce3",
   "metadata": {},
   "outputs": [],
   "source": [
    "bgen = PyBGEN(imp_geno_path,probs_only=True)"
   ]
  },
  {
   "cell_type": "code",
   "execution_count": 121,
   "id": "7de3c93f-6dd9-4dd8-a493-8f44b8202b48",
   "metadata": {},
   "outputs": [
    {
     "data": {
      "text/html": [
       "<table>\n",
       "    <tr>\n",
       "        <td>\n",
       "            <table>\n",
       "                <thead>\n",
       "                    <tr>\n",
       "                        <td> </td>\n",
       "                        <th> Array </th>\n",
       "                        <th> Chunk </th>\n",
       "                    </tr>\n",
       "                </thead>\n",
       "                <tbody>\n",
       "                    \n",
       "                    <tr>\n",
       "                        <th> Bytes </th>\n",
       "                        <td> 789.75 MiB </td>\n",
       "                        <td> 46.48 MiB </td>\n",
       "                    </tr>\n",
       "                    \n",
       "                    <tr>\n",
       "                        <th> Shape </th>\n",
       "                        <td> (1699, 487409) </td>\n",
       "                        <td> (100, 487409) </td>\n",
       "                    </tr>\n",
       "                    <tr>\n",
       "                        <th> Count </th>\n",
       "                        <td> 34 Tasks </td>\n",
       "                        <td> 17 Chunks </td>\n",
       "                    </tr>\n",
       "                    <tr>\n",
       "                    <th> Type </th>\n",
       "                    <td> int8 </td>\n",
       "                    <td> numpy.ndarray </td>\n",
       "                    </tr>\n",
       "                </tbody>\n",
       "            </table>\n",
       "        </td>\n",
       "        <td>\n",
       "        <svg width=\"170\" height=\"75\" style=\"stroke:rgb(0,0,0);stroke-width:1\" >\n",
       "\n",
       "  <!-- Horizontal lines -->\n",
       "  <line x1=\"0\" y1=\"0\" x2=\"120\" y2=\"0\" style=\"stroke-width:2\" />\n",
       "  <line x1=\"0\" y1=\"1\" x2=\"120\" y2=\"1\" />\n",
       "  <line x1=\"0\" y1=\"2\" x2=\"120\" y2=\"2\" />\n",
       "  <line x1=\"0\" y1=\"4\" x2=\"120\" y2=\"4\" />\n",
       "  <line x1=\"0\" y1=\"5\" x2=\"120\" y2=\"5\" />\n",
       "  <line x1=\"0\" y1=\"7\" x2=\"120\" y2=\"7\" />\n",
       "  <line x1=\"0\" y1=\"8\" x2=\"120\" y2=\"8\" />\n",
       "  <line x1=\"0\" y1=\"10\" x2=\"120\" y2=\"10\" />\n",
       "  <line x1=\"0\" y1=\"11\" x2=\"120\" y2=\"11\" />\n",
       "  <line x1=\"0\" y1=\"13\" x2=\"120\" y2=\"13\" />\n",
       "  <line x1=\"0\" y1=\"14\" x2=\"120\" y2=\"14\" />\n",
       "  <line x1=\"0\" y1=\"16\" x2=\"120\" y2=\"16\" />\n",
       "  <line x1=\"0\" y1=\"17\" x2=\"120\" y2=\"17\" />\n",
       "  <line x1=\"0\" y1=\"19\" x2=\"120\" y2=\"19\" />\n",
       "  <line x1=\"0\" y1=\"20\" x2=\"120\" y2=\"20\" />\n",
       "  <line x1=\"0\" y1=\"22\" x2=\"120\" y2=\"22\" />\n",
       "  <line x1=\"0\" y1=\"23\" x2=\"120\" y2=\"23\" />\n",
       "  <line x1=\"0\" y1=\"25\" x2=\"120\" y2=\"25\" style=\"stroke-width:2\" />\n",
       "\n",
       "  <!-- Vertical lines -->\n",
       "  <line x1=\"0\" y1=\"0\" x2=\"0\" y2=\"25\" style=\"stroke-width:2\" />\n",
       "  <line x1=\"120\" y1=\"0\" x2=\"120\" y2=\"25\" style=\"stroke-width:2\" />\n",
       "\n",
       "  <!-- Colored Rectangle -->\n",
       "  <polygon points=\"0.0,0.0 120.0,0.0 120.0,25.412616514582485 0.0,25.412616514582485\" style=\"fill:#ECB172A0;stroke-width:0\"/>\n",
       "\n",
       "  <!-- Text -->\n",
       "  <text x=\"60.000000\" y=\"45.412617\" font-size=\"1.0rem\" font-weight=\"100\" text-anchor=\"middle\" >487409</text>\n",
       "  <text x=\"140.000000\" y=\"12.706308\" font-size=\"1.0rem\" font-weight=\"100\" text-anchor=\"middle\" transform=\"rotate(-90,140.000000,12.706308)\">1699</text>\n",
       "</svg>\n",
       "        </td>\n",
       "    </tr>\n",
       "</table>"
      ],
      "text/plain": [
       "dask.array<concatenate, shape=(1699, 487409), dtype=int8, chunksize=(100, 487409), chunktype=numpy.ndarray>"
      ]
     },
     "execution_count": 121,
     "metadata": {},
     "output_type": "execute_result"
    }
   ],
   "source": [
    "pybgen_region(bgen,region)"
   ]
  },
  {
   "cell_type": "code",
   "execution_count": 64,
   "id": "8560c19d-ad23-4f9e-a6c3-abf59aa21fdc",
   "metadata": {},
   "outputs": [],
   "source": [
    "for t,g in bgen.iter_variants_in_region('0'+str(region[0]) if region[0]<10 else str(region[0]),region[1],region[2]):\n",
    "    print(t)"
   ]
  },
  {
   "cell_type": "code",
   "execution_count": 5,
   "id": "d9af35b7-5532-4646-ba08-921c33cfc2dc",
   "metadata": {},
   "outputs": [],
   "source": [
    "import pandas as pd"
   ]
  },
  {
   "cell_type": "code",
   "execution_count": 46,
   "id": "3d1f370a-c1bd-49f1-8406-771b7012de32",
   "metadata": {},
   "outputs": [],
   "source": [
    "tmp = bgen.iter_variants()"
   ]
  },
  {
   "cell_type": "code",
   "execution_count": 60,
   "id": "470f1d62-4d5a-4ac7-af70-17ce1e94c6f8",
   "metadata": {},
   "outputs": [
    {
     "name": "stdout",
     "output_type": "stream",
     "text": [
      "0 (<Variant rs537688122 chr05:272856_A/G>, array([[1., 0., 0.],\n",
      "       [1., 0., 0.],\n",
      "       [1., 0., 0.],\n",
      "       ...,\n",
      "       [1., 0., 0.],\n",
      "       [1., 0., 0.],\n",
      "       [1., 0., 0.]]))\n"
     ]
    }
   ],
   "source": [
    "genos = []\n",
    "for i,v in zip(range(bgen.nb_variants),bgen):\n",
    "    geno = []\n",
    "    if i % 100000 ==0:\n",
    "        geno.append(v.argmax(axis=1).astype(np.int8))\n",
    "        print(i,j)"
   ]
  },
  {
   "cell_type": "code",
   "execution_count": null,
   "id": "28b3c731-d205-4df6-8984-298dea2e5907",
   "metadata": {},
   "outputs": [],
   "source": [
    "    genos = []\n",
    "    n = len(index)\n",
    "    for i in range(0,n,step):\n",
    "        onecode_geno = bgen.read(index[i:min(n,i+step)])  #samples x variants\n",
    "        geno = onecode_geno.argmax(axis=2).astype(np.int8)\n",
    "        genos.append(da.from_array(geno))"
   ]
  },
  {
   "cell_type": "code",
   "execution_count": 59,
   "id": "b7037963-e0ee-4b57-8ae3-0096226fc609",
   "metadata": {},
   "outputs": [
    {
     "data": {
      "text/plain": [
       "1002"
      ]
     },
     "execution_count": 59,
     "metadata": {},
     "output_type": "execute_result"
    }
   ],
   "source": [
    "1002 %10000"
   ]
  },
  {
   "cell_type": "code",
   "execution_count": 48,
   "id": "8409ed5b-eb13-4567-a4af-1ce425376849",
   "metadata": {},
   "outputs": [
    {
     "data": {
      "text/plain": [
       "PyBGEN(487,409 samples; 6,070,641 variants)"
      ]
     },
     "execution_count": 48,
     "metadata": {},
     "output_type": "execute_result"
    }
   ],
   "source": [
    "tmp"
   ]
  },
  {
   "cell_type": "code",
   "execution_count": 33,
   "id": "64c9d3be-0324-4854-8295-bd104e08c4fb",
   "metadata": {},
   "outputs": [],
   "source": [
    "a = tmp.next()"
   ]
  },
  {
   "cell_type": "code",
   "execution_count": 25,
   "id": "a293c139-7ba1-4350-b299-66215d3e0b3f",
   "metadata": {},
   "outputs": [],
   "source": [
    "import numpy as np"
   ]
  },
  {
   "cell_type": "code",
   "execution_count": 37,
   "id": "5f4b8789-8eb2-4c76-a9ca-182606dd01cf",
   "metadata": {},
   "outputs": [
    {
     "data": {
      "text/plain": [
       "array([[1.        , 0.        , 0.        ],\n",
       "       [0.83921569, 0.16078431, 0.        ],\n",
       "       [0.96078431, 0.03921569, 0.        ],\n",
       "       ...,\n",
       "       [1.        , 0.        , 0.        ],\n",
       "       [0.00392157, 0.95686275, 0.03921569],\n",
       "       [0.85490196, 0.14509804, 0.        ]])"
      ]
     },
     "execution_count": 37,
     "metadata": {},
     "output_type": "execute_result"
    }
   ],
   "source": [
    "a[1]"
   ]
  },
  {
   "cell_type": "code",
   "execution_count": 34,
   "id": "3531b7bf-785a-4419-88ce-5d7e51d569ff",
   "metadata": {},
   "outputs": [],
   "source": [
    "aa = a[1].argmax(axis=1).astype(np.int8)"
   ]
  },
  {
   "cell_type": "code",
   "execution_count": 35,
   "id": "0d13afd9-ff21-4558-a375-8d5f8040c1fb",
   "metadata": {},
   "outputs": [
    {
     "data": {
      "text/plain": [
       "0    455061\n",
       "1     31952\n",
       "2       396\n",
       "dtype: int64"
      ]
     },
     "execution_count": 35,
     "metadata": {},
     "output_type": "execute_result"
    }
   ],
   "source": [
    "pd.Series(aa).value_counts()"
   ]
  },
  {
   "cell_type": "code",
   "execution_count": 6,
   "id": "77e24e16-273b-4d55-9d83-d34a36144528",
   "metadata": {},
   "outputs": [],
   "source": [
    "tmp = []\n",
    "for i,t in enumerate(bgen.iter_variant_info()):\n",
    "    tmp.append([int(t.chrom),t.name,0.0,t.pos,t.a1,t.a2,i])\n",
    "tmp = pd.DataFrame(tmp,columns=['chrom','snp','cm','pos','a0','a1','i'])\n",
    "tmp.snp = 'chr'+tmp[['chrom','pos','a0','a1']].astype(str).agg(':'.join, axis=1)"
   ]
  },
  {
   "cell_type": "code",
   "execution_count": 7,
   "id": "6fa5d4f4-668d-463c-9f2d-4b7c261b75b2",
   "metadata": {},
   "outputs": [
    {
     "data": {
      "text/html": [
       "<div>\n",
       "<style scoped>\n",
       "    .dataframe tbody tr th:only-of-type {\n",
       "        vertical-align: middle;\n",
       "    }\n",
       "\n",
       "    .dataframe tbody tr th {\n",
       "        vertical-align: top;\n",
       "    }\n",
       "\n",
       "    .dataframe thead th {\n",
       "        text-align: right;\n",
       "    }\n",
       "</style>\n",
       "<table border=\"1\" class=\"dataframe\">\n",
       "  <thead>\n",
       "    <tr style=\"text-align: right;\">\n",
       "      <th></th>\n",
       "      <th>chrom</th>\n",
       "      <th>snp</th>\n",
       "      <th>cm</th>\n",
       "      <th>pos</th>\n",
       "      <th>a0</th>\n",
       "      <th>a1</th>\n",
       "      <th>i</th>\n",
       "    </tr>\n",
       "  </thead>\n",
       "  <tbody>\n",
       "    <tr>\n",
       "      <th>0</th>\n",
       "      <td>5</td>\n",
       "      <td>rs546183826</td>\n",
       "      <td>0.0</td>\n",
       "      <td>10043</td>\n",
       "      <td>T</td>\n",
       "      <td>A</td>\n",
       "      <td>0</td>\n",
       "    </tr>\n",
       "    <tr>\n",
       "      <th>1</th>\n",
       "      <td>5</td>\n",
       "      <td>rs564373080</td>\n",
       "      <td>0.0</td>\n",
       "      <td>10055</td>\n",
       "      <td>T</td>\n",
       "      <td>A</td>\n",
       "      <td>1</td>\n",
       "    </tr>\n",
       "    <tr>\n",
       "      <th>2</th>\n",
       "      <td>5</td>\n",
       "      <td>rs528775171</td>\n",
       "      <td>0.0</td>\n",
       "      <td>10056</td>\n",
       "      <td>A</td>\n",
       "      <td>C</td>\n",
       "      <td>2</td>\n",
       "    </tr>\n",
       "    <tr>\n",
       "      <th>3</th>\n",
       "      <td>5</td>\n",
       "      <td>rs547354230</td>\n",
       "      <td>0.0</td>\n",
       "      <td>10058</td>\n",
       "      <td>C</td>\n",
       "      <td>A</td>\n",
       "      <td>3</td>\n",
       "    </tr>\n",
       "    <tr>\n",
       "      <th>4</th>\n",
       "      <td>5</td>\n",
       "      <td>rs562245928</td>\n",
       "      <td>0.0</td>\n",
       "      <td>10059</td>\n",
       "      <td>C</td>\n",
       "      <td>A</td>\n",
       "      <td>4</td>\n",
       "    </tr>\n",
       "    <tr>\n",
       "      <th>...</th>\n",
       "      <td>...</td>\n",
       "      <td>...</td>\n",
       "      <td>...</td>\n",
       "      <td>...</td>\n",
       "      <td>...</td>\n",
       "      <td>...</td>\n",
       "      <td>...</td>\n",
       "    </tr>\n",
       "    <tr>\n",
       "      <th>6070636</th>\n",
       "      <td>5</td>\n",
       "      <td>rs552848768</td>\n",
       "      <td>0.0</td>\n",
       "      <td>180902794</td>\n",
       "      <td>G</td>\n",
       "      <td>A</td>\n",
       "      <td>6070636</td>\n",
       "    </tr>\n",
       "    <tr>\n",
       "      <th>6070637</th>\n",
       "      <td>5</td>\n",
       "      <td>rs572660833</td>\n",
       "      <td>0.0</td>\n",
       "      <td>180902887</td>\n",
       "      <td>T</td>\n",
       "      <td>A</td>\n",
       "      <td>6070637</td>\n",
       "    </tr>\n",
       "    <tr>\n",
       "      <th>6070638</th>\n",
       "      <td>5</td>\n",
       "      <td>rs544891279</td>\n",
       "      <td>0.0</td>\n",
       "      <td>180903491</td>\n",
       "      <td>G</td>\n",
       "      <td>T</td>\n",
       "      <td>6070638</td>\n",
       "    </tr>\n",
       "    <tr>\n",
       "      <th>6070639</th>\n",
       "      <td>5</td>\n",
       "      <td>rs558980847</td>\n",
       "      <td>0.0</td>\n",
       "      <td>180904360</td>\n",
       "      <td>A</td>\n",
       "      <td>T</td>\n",
       "      <td>6070639</td>\n",
       "    </tr>\n",
       "    <tr>\n",
       "      <th>6070640</th>\n",
       "      <td>5</td>\n",
       "      <td>rs575676143</td>\n",
       "      <td>0.0</td>\n",
       "      <td>180904689</td>\n",
       "      <td>T</td>\n",
       "      <td>C</td>\n",
       "      <td>6070640</td>\n",
       "    </tr>\n",
       "  </tbody>\n",
       "</table>\n",
       "<p>6070641 rows × 7 columns</p>\n",
       "</div>"
      ],
      "text/plain": [
       "         chrom          snp   cm        pos a0 a1        i\n",
       "0            5  rs546183826  0.0      10043  T  A        0\n",
       "1            5  rs564373080  0.0      10055  T  A        1\n",
       "2            5  rs528775171  0.0      10056  A  C        2\n",
       "3            5  rs547354230  0.0      10058  C  A        3\n",
       "4            5  rs562245928  0.0      10059  C  A        4\n",
       "...        ...          ...  ...        ... .. ..      ...\n",
       "6070636      5  rs552848768  0.0  180902794  G  A  6070636\n",
       "6070637      5  rs572660833  0.0  180902887  T  A  6070637\n",
       "6070638      5  rs544891279  0.0  180903491  G  T  6070638\n",
       "6070639      5  rs558980847  0.0  180904360  A  T  6070639\n",
       "6070640      5  rs575676143  0.0  180904689  T  C  6070640\n",
       "\n",
       "[6070641 rows x 7 columns]"
      ]
     },
     "execution_count": 7,
     "metadata": {},
     "output_type": "execute_result"
    }
   ],
   "source": [
    "tmp"
   ]
  },
  {
   "cell_type": "code",
   "execution_count": 14,
   "id": "5b294e48-9461-49f4-ad6d-c701ad4f1bd3",
   "metadata": {},
   "outputs": [
    {
     "data": {
      "text/plain": [
       "<Variant rs546183826 chr05:10043_T/A>"
      ]
     },
     "execution_count": 14,
     "metadata": {},
     "output_type": "execute_result"
    }
   ],
   "source": [
    "list(bgen.iter_variant_info())[0]"
   ]
  },
  {
   "cell_type": "code",
   "execution_count": 28,
   "id": "11124075",
   "metadata": {},
   "outputs": [],
   "source": [
    "idx = imput_geno.idx"
   ]
  },
  {
   "cell_type": "code",
   "execution_count": null,
   "id": "fa1e181a",
   "metadata": {},
   "outputs": [],
   "source": []
  },
  {
   "cell_type": "code",
   "execution_count": 29,
   "id": "b7e5289d",
   "metadata": {},
   "outputs": [],
   "source": [
    "if type(list(idx)[0]) is bool:\n",
    "    pd_idx = pd.Series(idx)\n",
    "    idx = list(pd_idx[pd_idx].index)"
   ]
  },
  {
   "cell_type": "code",
   "execution_count": 31,
   "id": "4995a25f",
   "metadata": {},
   "outputs": [
    {
     "data": {
      "text/plain": [
       "8470"
      ]
     },
     "execution_count": 31,
     "metadata": {},
     "output_type": "execute_result"
    }
   ],
   "source": [
    "len(idx)"
   ]
  },
  {
   "cell_type": "code",
   "execution_count": 33,
   "id": "7417e92c",
   "metadata": {},
   "outputs": [
    {
     "data": {
      "text/plain": [
       "[10535, 10541, 10542, 10556, 10567, 10569, 10570, 10573, 10574]"
      ]
     },
     "execution_count": 33,
     "metadata": {},
     "output_type": "execute_result"
    }
   ],
   "source": [
    "idx[1:10]"
   ]
  },
  {
   "cell_type": "code",
   "execution_count": 46,
   "id": "4eca7ccf",
   "metadata": {},
   "outputs": [
    {
     "name": "stdout",
     "output_type": "stream",
     "text": [
      "reading -- time=0:00:00.00, thread 1 of 1, part 1 of 1\n"
     ]
    },
    {
     "data": {
      "text/plain": [
       "array([[[1., 0., 0.]],\n",
       "\n",
       "       [[1., 0., 0.]],\n",
       "\n",
       "       [[1., 0., 0.]],\n",
       "\n",
       "       ...,\n",
       "\n",
       "       [[1., 0., 0.]],\n",
       "\n",
       "       [[1., 0., 0.]],\n",
       "\n",
       "       [[1., 0., 0.]]])"
      ]
     },
     "execution_count": 46,
     "metadata": {},
     "output_type": "execute_result"
    }
   ],
   "source": [
    "imp_geno_path = 'MWE_region_extraction/ukb_imp_chr5_v3_05_272856_1213643.bgen'\n",
    "bgen = open_bgen(imp_geno_path)\n",
    "bgen.read(1)"
   ]
  },
  {
   "cell_type": "code",
   "execution_count": 2,
   "id": "0c1567d3",
   "metadata": {},
   "outputs": [
    {
     "ename": "KeyError",
     "evalue": "'max_combinations'",
     "output_type": "error",
     "traceback": [
      "\u001b[0;31m---------------------------------------------------------------------------\u001b[0m",
      "\u001b[0;31mKeyError\u001b[0m                                  Traceback (most recent call last)",
      "\u001b[0;32m/tmp/1975928.1.all.q/ipykernel_31014/3592512439.py\u001b[0m in \u001b[0;36m<module>\u001b[0;34m\u001b[0m\n\u001b[1;32m      1\u001b[0m \u001b[0mimp_geno_path\u001b[0m \u001b[0;34m=\u001b[0m \u001b[0;34m'/mnt/mfs/statgen/archive/UKBiobank_Yale_transfer/ukb39554_imputeddataset/ukb_imp_chr5_v3.bgen'\u001b[0m\u001b[0;34m\u001b[0m\u001b[0;34m\u001b[0m\u001b[0m\n\u001b[1;32m      2\u001b[0m \u001b[0mbgen\u001b[0m \u001b[0;34m=\u001b[0m \u001b[0mopen_bgen\u001b[0m\u001b[0;34m(\u001b[0m\u001b[0mimp_geno_path\u001b[0m\u001b[0;34m)\u001b[0m\u001b[0;34m\u001b[0m\u001b[0;34m\u001b[0m\u001b[0m\n\u001b[0;32m----> 3\u001b[0;31m \u001b[0mbgen\u001b[0m\u001b[0;34m.\u001b[0m\u001b[0mread\u001b[0m\u001b[0;34m(\u001b[0m\u001b[0;36m1\u001b[0m\u001b[0;34m)\u001b[0m\u001b[0;34m\u001b[0m\u001b[0;34m\u001b[0m\u001b[0m\n\u001b[0m",
      "\u001b[0;32m~/miniconda3/lib/python3.8/site-packages/bgen_reader/_bgen2.py\u001b[0m in \u001b[0;36mread\u001b[0;34m(self, index, dtype, order, max_combinations, return_probabilities, return_missings, return_ploidies, num_threads)\u001b[0m\n\u001b[1;32m    529\u001b[0m \u001b[0;34m\u001b[0m\u001b[0m\n\u001b[1;32m    530\u001b[0m         max_combinations = (\n\u001b[0;32m--> 531\u001b[0;31m             \u001b[0mmax_combinations\u001b[0m \u001b[0;32mif\u001b[0m \u001b[0mmax_combinations\u001b[0m \u001b[0;32mis\u001b[0m \u001b[0;32mnot\u001b[0m \u001b[0;32mNone\u001b[0m \u001b[0;32melse\u001b[0m \u001b[0mself\u001b[0m\u001b[0;34m.\u001b[0m\u001b[0mmax_combinations\u001b[0m\u001b[0;34m\u001b[0m\u001b[0;34m\u001b[0m\u001b[0m\n\u001b[0m\u001b[1;32m    532\u001b[0m         )  # Can't use 'or' because it treats 0 as False\n\u001b[1;32m    533\u001b[0m \u001b[0;34m\u001b[0m\u001b[0m\n",
      "\u001b[0;32m~/miniconda3/lib/python3.8/site-packages/bgen_reader/_bgen2.py\u001b[0m in \u001b[0;36mmax_combinations\u001b[0;34m(self)\u001b[0m\n\u001b[1;32m    711\u001b[0m \u001b[0;34m\u001b[0m\u001b[0m\n\u001b[1;32m    712\u001b[0m         \"\"\"\n\u001b[0;32m--> 713\u001b[0;31m         \u001b[0;32mreturn\u001b[0m \u001b[0mself\u001b[0m\u001b[0;34m.\u001b[0m\u001b[0m_metadata2_memmaps\u001b[0m\u001b[0;34m[\u001b[0m\u001b[0;34m\"max_combinations\"\u001b[0m\u001b[0;34m]\u001b[0m\u001b[0;34m[\u001b[0m\u001b[0;36m0\u001b[0m\u001b[0;34m]\u001b[0m\u001b[0;34m\u001b[0m\u001b[0;34m\u001b[0m\u001b[0m\n\u001b[0m\u001b[1;32m    714\u001b[0m \u001b[0;34m\u001b[0m\u001b[0m\n\u001b[1;32m    715\u001b[0m     \u001b[0;34m@\u001b[0m\u001b[0mproperty\u001b[0m\u001b[0;34m\u001b[0m\u001b[0;34m\u001b[0m\u001b[0m\n",
      "\u001b[0;32m~/miniconda3/lib/python3.8/site-packages/bgen_reader/_multimemmap.py\u001b[0m in \u001b[0;36m__getitem__\u001b[0;34m(self, name)\u001b[0m\n\u001b[1;32m    200\u001b[0m \u001b[0;34m\u001b[0m\u001b[0m\n\u001b[1;32m    201\u001b[0m     \u001b[0;32mdef\u001b[0m \u001b[0m__getitem__\u001b[0m\u001b[0;34m(\u001b[0m\u001b[0mself\u001b[0m\u001b[0;34m,\u001b[0m \u001b[0mname\u001b[0m\u001b[0;34m:\u001b[0m \u001b[0mstr\u001b[0m\u001b[0;34m)\u001b[0m \u001b[0;34m->\u001b[0m \u001b[0mnp\u001b[0m\u001b[0;34m.\u001b[0m\u001b[0mmemmap\u001b[0m\u001b[0;34m:\u001b[0m\u001b[0;34m\u001b[0m\u001b[0;34m\u001b[0m\u001b[0m\n\u001b[0;32m--> 202\u001b[0;31m         \u001b[0;32mreturn\u001b[0m \u001b[0mself\u001b[0m\u001b[0;34m.\u001b[0m\u001b[0m_name_to_memmap\u001b[0m\u001b[0;34m[\u001b[0m\u001b[0mname\u001b[0m\u001b[0;34m]\u001b[0m\u001b[0;34m\u001b[0m\u001b[0;34m\u001b[0m\u001b[0m\n\u001b[0m\u001b[1;32m    203\u001b[0m \u001b[0;34m\u001b[0m\u001b[0m\n\u001b[1;32m    204\u001b[0m     def append_empty(\n",
      "\u001b[0;31mKeyError\u001b[0m: 'max_combinations'"
     ]
    }
   ],
   "source": [
    "imp_geno_path = '/mnt/mfs/statgen/archive/UKBiobank_Yale_transfer/ukb39554_imputeddataset/ukb_imp_chr5_v3.bgen'\n",
    "bgen = open_bgen(imp_geno_path)\n",
    "bgen.read(1)"
   ]
  },
  {
   "cell_type": "code",
   "execution_count": 38,
   "id": "894cc1f0",
   "metadata": {},
   "outputs": [
    {
     "data": {
      "text/plain": [
       "<bgen_reader._bgen2.open_bgen at 0x2b1a4e207e80>"
      ]
     },
     "execution_count": 38,
     "metadata": {},
     "output_type": "execute_result"
    }
   ],
   "source": [
    "imput_geno.bed"
   ]
  },
  {
   "cell_type": "code",
   "execution_count": 41,
   "id": "0251da8d",
   "metadata": {},
   "outputs": [
    {
     "data": {
      "text/plain": [
       "<bgen_reader._bgen2.open_bgen at 0x2b1dfde98b20>"
      ]
     },
     "execution_count": 41,
     "metadata": {},
     "output_type": "execute_result"
    }
   ],
   "source": [
    "bgen"
   ]
  },
  {
   "cell_type": "code",
   "execution_count": 25,
   "id": "e22b4501",
   "metadata": {},
   "outputs": [
    {
     "name": "stdout",
     "output_type": "stream",
     "text": [
      "[False, False, False, False, False, False, False, False, False, False]\n",
      "8470 [10529, 10535, 10541, 10542, 10556, 10567, 10569, 10570, 10573, 10574]\n"
     ]
    },
    {
     "ename": "KeyError",
     "evalue": "'max_combinations'",
     "output_type": "error",
     "traceback": [
      "\u001b[0;31m---------------------------------------------------------------------------\u001b[0m",
      "\u001b[0;31mKeyError\u001b[0m                                  Traceback (most recent call last)",
      "\u001b[0;32m/tmp/1967998.1.high_mem.q/ipykernel_3740/3359055265.py\u001b[0m in \u001b[0;36m<module>\u001b[0;34m\u001b[0m\n\u001b[0;32m----> 1\u001b[0;31m \u001b[0mimput_geno\u001b[0m\u001b[0;34m.\u001b[0m\u001b[0mgeno_in_stat\u001b[0m\u001b[0;34m(\u001b[0m\u001b[0mimput_sumstats\u001b[0m\u001b[0;34m.\u001b[0m\u001b[0mss\u001b[0m\u001b[0;34m)\u001b[0m\u001b[0;34m\u001b[0m\u001b[0;34m\u001b[0m\u001b[0m\n\u001b[0m",
      "\u001b[0;32m/tmp/1967998.1.high_mem.q/ipykernel_3740/2365980871.py\u001b[0m in \u001b[0;36mgeno_in_stat\u001b[0;34m(self, stat, notin)\u001b[0m\n\u001b[1;32m     21\u001b[0m         \u001b[0;34m'''The function to find an overlap region between geno data with sumstat'''\u001b[0m\u001b[0;34m\u001b[0m\u001b[0;34m\u001b[0m\u001b[0m\n\u001b[1;32m     22\u001b[0m         \u001b[0mvariants\u001b[0m \u001b[0;34m=\u001b[0m \u001b[0mstat\u001b[0m\u001b[0;34m.\u001b[0m\u001b[0mSNP\u001b[0m\u001b[0;34m\u001b[0m\u001b[0;34m\u001b[0m\u001b[0m\n\u001b[0;32m---> 23\u001b[0;31m         \u001b[0mself\u001b[0m\u001b[0;34m.\u001b[0m\u001b[0mextractbyvariants\u001b[0m\u001b[0;34m(\u001b[0m\u001b[0mvariants\u001b[0m\u001b[0;34m,\u001b[0m\u001b[0mnotin\u001b[0m\u001b[0;34m)\u001b[0m\u001b[0;34m\u001b[0m\u001b[0;34m\u001b[0m\u001b[0m\n\u001b[0m\u001b[1;32m     24\u001b[0m \u001b[0;34m\u001b[0m\u001b[0m\n\u001b[1;32m     25\u001b[0m \u001b[0;34m\u001b[0m\u001b[0m\n",
      "\u001b[0;32m/tmp/1967998.1.high_mem.q/ipykernel_3740/2365980871.py\u001b[0m in \u001b[0;36mextractbyvariants\u001b[0;34m(self, variants, notin)\u001b[0m\n\u001b[1;32m     44\u001b[0m             \u001b[0;32mraise\u001b[0m \u001b[0mValueError\u001b[0m\u001b[0;34m(\u001b[0m\u001b[0;34m'The extraction is empty'\u001b[0m\u001b[0;34m)\u001b[0m\u001b[0;34m\u001b[0m\u001b[0;34m\u001b[0m\u001b[0m\n\u001b[1;32m     45\u001b[0m         \u001b[0;31m#update bim,bed\u001b[0m\u001b[0;34m\u001b[0m\u001b[0;34m\u001b[0m\u001b[0;34m\u001b[0m\u001b[0m\n\u001b[0;32m---> 46\u001b[0;31m         \u001b[0mself\u001b[0m\u001b[0;34m.\u001b[0m\u001b[0mextractbyidx\u001b[0m\u001b[0;34m(\u001b[0m\u001b[0midx\u001b[0m\u001b[0;34m,\u001b[0m\u001b[0mrow\u001b[0m\u001b[0;34m=\u001b[0m\u001b[0;32mTrue\u001b[0m\u001b[0;34m)\u001b[0m\u001b[0;34m\u001b[0m\u001b[0;34m\u001b[0m\u001b[0m\n\u001b[0m\u001b[1;32m     47\u001b[0m \u001b[0;34m\u001b[0m\u001b[0m\n\u001b[1;32m     48\u001b[0m     \u001b[0;32mdef\u001b[0m \u001b[0mextractbysamples\u001b[0m\u001b[0;34m(\u001b[0m\u001b[0mself\u001b[0m\u001b[0;34m,\u001b[0m\u001b[0msamples\u001b[0m\u001b[0;34m,\u001b[0m\u001b[0mnotin\u001b[0m\u001b[0;34m=\u001b[0m\u001b[0;32mFalse\u001b[0m\u001b[0;34m)\u001b[0m\u001b[0;34m:\u001b[0m \u001b[0;31m#samples is list or pd.Series\u001b[0m\u001b[0;34m\u001b[0m\u001b[0;34m\u001b[0m\u001b[0m\n",
      "\u001b[0;32m/tmp/1967998.1.high_mem.q/ipykernel_3740/2365980871.py\u001b[0m in \u001b[0;36mextractbyidx\u001b[0;34m(self, idx, row)\u001b[0m\n\u001b[1;32m     74\u001b[0m             \u001b[0;32melse\u001b[0m\u001b[0;34m:\u001b[0m\u001b[0;34m\u001b[0m\u001b[0;34m\u001b[0m\u001b[0m\n\u001b[1;32m     75\u001b[0m                 \u001b[0mself\u001b[0m\u001b[0;34m.\u001b[0m\u001b[0mfam\u001b[0m \u001b[0;34m=\u001b[0m \u001b[0mself\u001b[0m\u001b[0;34m.\u001b[0m\u001b[0mfam\u001b[0m\u001b[0;34m.\u001b[0m\u001b[0miloc\u001b[0m\u001b[0;34m[\u001b[0m\u001b[0midx\u001b[0m\u001b[0;34m]\u001b[0m\u001b[0;34m\u001b[0m\u001b[0;34m\u001b[0m\u001b[0m\n\u001b[0;32m---> 76\u001b[0;31m         \u001b[0mself\u001b[0m\u001b[0;34m.\u001b[0m\u001b[0mbed\u001b[0m \u001b[0;34m=\u001b[0m \u001b[0mextract_bed\u001b[0m\u001b[0;34m(\u001b[0m\u001b[0mself\u001b[0m\u001b[0;34m.\u001b[0m\u001b[0mbed\u001b[0m\u001b[0;34m,\u001b[0m\u001b[0midx\u001b[0m\u001b[0;34m,\u001b[0m\u001b[0mrow\u001b[0m\u001b[0;34m)\u001b[0m\u001b[0;34m\u001b[0m\u001b[0;34m\u001b[0m\u001b[0m\n\u001b[0m\u001b[1;32m     77\u001b[0m \u001b[0;34m\u001b[0m\u001b[0m\n",
      "\u001b[0;32m/tmp/1967998.1.high_mem.q/ipykernel_3740/2305036667.py\u001b[0m in \u001b[0;36mextract_bed\u001b[0;34m(geno, idx, row, step)\u001b[0m\n\u001b[1;32m     13\u001b[0m                 \u001b[0mpd_idx\u001b[0m \u001b[0;34m=\u001b[0m \u001b[0mpd\u001b[0m\u001b[0;34m.\u001b[0m\u001b[0mSeries\u001b[0m\u001b[0;34m(\u001b[0m\u001b[0midx\u001b[0m\u001b[0;34m)\u001b[0m\u001b[0;34m\u001b[0m\u001b[0;34m\u001b[0m\u001b[0m\n\u001b[1;32m     14\u001b[0m                 \u001b[0midx\u001b[0m \u001b[0;34m=\u001b[0m \u001b[0mlist\u001b[0m\u001b[0;34m(\u001b[0m\u001b[0mpd_idx\u001b[0m\u001b[0;34m[\u001b[0m\u001b[0mpd_idx\u001b[0m\u001b[0;34m]\u001b[0m\u001b[0;34m.\u001b[0m\u001b[0mindex\u001b[0m\u001b[0;34m)\u001b[0m\u001b[0;34m\u001b[0m\u001b[0;34m\u001b[0m\u001b[0m\n\u001b[0;32m---> 15\u001b[0;31m             \u001b[0mgeno\u001b[0m \u001b[0;34m=\u001b[0m \u001b[0mbgen2dask\u001b[0m\u001b[0;34m(\u001b[0m\u001b[0mgeno\u001b[0m\u001b[0;34m,\u001b[0m\u001b[0midx\u001b[0m\u001b[0;34m,\u001b[0m\u001b[0mstep\u001b[0m\u001b[0;34m)\u001b[0m\u001b[0;34m\u001b[0m\u001b[0;34m\u001b[0m\u001b[0m\n\u001b[0m\u001b[1;32m     16\u001b[0m         \u001b[0;32melse\u001b[0m\u001b[0;34m:\u001b[0m\u001b[0;34m\u001b[0m\u001b[0;34m\u001b[0m\u001b[0m\n\u001b[1;32m     17\u001b[0m             \u001b[0mgeno\u001b[0m \u001b[0;34m=\u001b[0m \u001b[0mgeno\u001b[0m\u001b[0;34m.\u001b[0m\u001b[0mread\u001b[0m\u001b[0;34m(\u001b[0m\u001b[0;34m)\u001b[0m \u001b[0;31m# read all variants\u001b[0m\u001b[0;34m\u001b[0m\u001b[0;34m\u001b[0m\u001b[0m\n",
      "\u001b[0;32m/tmp/1967998.1.high_mem.q/ipykernel_3740/738061970.py\u001b[0m in \u001b[0;36mbgen2dask\u001b[0;34m(bgen, index, step)\u001b[0m\n\u001b[1;32m      6\u001b[0m     \u001b[0mprint\u001b[0m\u001b[0;34m(\u001b[0m\u001b[0mn\u001b[0m\u001b[0;34m,\u001b[0m\u001b[0mindex\u001b[0m\u001b[0;34m[\u001b[0m\u001b[0;34m:\u001b[0m\u001b[0;36m10\u001b[0m\u001b[0;34m]\u001b[0m\u001b[0;34m)\u001b[0m\u001b[0;34m\u001b[0m\u001b[0;34m\u001b[0m\u001b[0m\n\u001b[1;32m      7\u001b[0m     \u001b[0;32mfor\u001b[0m \u001b[0mi\u001b[0m \u001b[0;32min\u001b[0m \u001b[0mrange\u001b[0m\u001b[0;34m(\u001b[0m\u001b[0;36m0\u001b[0m\u001b[0;34m,\u001b[0m\u001b[0mn\u001b[0m\u001b[0;34m,\u001b[0m\u001b[0mstep\u001b[0m\u001b[0;34m)\u001b[0m\u001b[0;34m:\u001b[0m\u001b[0;34m\u001b[0m\u001b[0;34m\u001b[0m\u001b[0m\n\u001b[0;32m----> 8\u001b[0;31m         \u001b[0monecode_geno\u001b[0m \u001b[0;34m=\u001b[0m \u001b[0mbgen\u001b[0m\u001b[0;34m.\u001b[0m\u001b[0mread\u001b[0m\u001b[0;34m(\u001b[0m\u001b[0mindex\u001b[0m\u001b[0;34m[\u001b[0m\u001b[0mi\u001b[0m\u001b[0;34m:\u001b[0m\u001b[0mmin\u001b[0m\u001b[0;34m(\u001b[0m\u001b[0mn\u001b[0m\u001b[0;34m,\u001b[0m\u001b[0mi\u001b[0m\u001b[0;34m+\u001b[0m\u001b[0mstep\u001b[0m\u001b[0;34m)\u001b[0m\u001b[0;34m]\u001b[0m\u001b[0;34m)\u001b[0m  \u001b[0;31m#samples x variants\u001b[0m\u001b[0;34m\u001b[0m\u001b[0;34m\u001b[0m\u001b[0m\n\u001b[0m\u001b[1;32m      9\u001b[0m         \u001b[0mgeno\u001b[0m \u001b[0;34m=\u001b[0m \u001b[0monecode_geno\u001b[0m\u001b[0;34m.\u001b[0m\u001b[0margmax\u001b[0m\u001b[0;34m(\u001b[0m\u001b[0maxis\u001b[0m\u001b[0;34m=\u001b[0m\u001b[0;36m2\u001b[0m\u001b[0;34m)\u001b[0m\u001b[0;34m.\u001b[0m\u001b[0mastype\u001b[0m\u001b[0;34m(\u001b[0m\u001b[0mnp\u001b[0m\u001b[0;34m.\u001b[0m\u001b[0mint8\u001b[0m\u001b[0;34m)\u001b[0m\u001b[0;34m\u001b[0m\u001b[0;34m\u001b[0m\u001b[0m\n\u001b[1;32m     10\u001b[0m         \u001b[0mgenos\u001b[0m\u001b[0;34m.\u001b[0m\u001b[0mappend\u001b[0m\u001b[0;34m(\u001b[0m\u001b[0mda\u001b[0m\u001b[0;34m.\u001b[0m\u001b[0mfrom_array\u001b[0m\u001b[0;34m(\u001b[0m\u001b[0mgeno\u001b[0m\u001b[0;34m)\u001b[0m\u001b[0;34m)\u001b[0m\u001b[0;34m\u001b[0m\u001b[0;34m\u001b[0m\u001b[0m\n",
      "\u001b[0;32m~/miniconda3/lib/python3.8/site-packages/bgen_reader/_bgen2.py\u001b[0m in \u001b[0;36mread\u001b[0;34m(self, index, dtype, order, max_combinations, return_probabilities, return_missings, return_ploidies, num_threads)\u001b[0m\n\u001b[1;32m    529\u001b[0m \u001b[0;34m\u001b[0m\u001b[0m\n\u001b[1;32m    530\u001b[0m         max_combinations = (\n\u001b[0;32m--> 531\u001b[0;31m             \u001b[0mmax_combinations\u001b[0m \u001b[0;32mif\u001b[0m \u001b[0mmax_combinations\u001b[0m \u001b[0;32mis\u001b[0m \u001b[0;32mnot\u001b[0m \u001b[0;32mNone\u001b[0m \u001b[0;32melse\u001b[0m \u001b[0mself\u001b[0m\u001b[0;34m.\u001b[0m\u001b[0mmax_combinations\u001b[0m\u001b[0;34m\u001b[0m\u001b[0;34m\u001b[0m\u001b[0m\n\u001b[0m\u001b[1;32m    532\u001b[0m         )  # Can't use 'or' because it treats 0 as False\n\u001b[1;32m    533\u001b[0m \u001b[0;34m\u001b[0m\u001b[0m\n",
      "\u001b[0;32m~/miniconda3/lib/python3.8/site-packages/bgen_reader/_bgen2.py\u001b[0m in \u001b[0;36mmax_combinations\u001b[0;34m(self)\u001b[0m\n\u001b[1;32m    711\u001b[0m \u001b[0;34m\u001b[0m\u001b[0m\n\u001b[1;32m    712\u001b[0m         \"\"\"\n\u001b[0;32m--> 713\u001b[0;31m         \u001b[0;32mreturn\u001b[0m \u001b[0mself\u001b[0m\u001b[0;34m.\u001b[0m\u001b[0m_metadata2_memmaps\u001b[0m\u001b[0;34m[\u001b[0m\u001b[0;34m\"max_combinations\"\u001b[0m\u001b[0;34m]\u001b[0m\u001b[0;34m[\u001b[0m\u001b[0;36m0\u001b[0m\u001b[0;34m]\u001b[0m\u001b[0;34m\u001b[0m\u001b[0;34m\u001b[0m\u001b[0m\n\u001b[0m\u001b[1;32m    714\u001b[0m \u001b[0;34m\u001b[0m\u001b[0m\n\u001b[1;32m    715\u001b[0m     \u001b[0;34m@\u001b[0m\u001b[0mproperty\u001b[0m\u001b[0;34m\u001b[0m\u001b[0;34m\u001b[0m\u001b[0m\n",
      "\u001b[0;32m~/miniconda3/lib/python3.8/site-packages/bgen_reader/_multimemmap.py\u001b[0m in \u001b[0;36m__getitem__\u001b[0;34m(self, name)\u001b[0m\n\u001b[1;32m    200\u001b[0m \u001b[0;34m\u001b[0m\u001b[0m\n\u001b[1;32m    201\u001b[0m     \u001b[0;32mdef\u001b[0m \u001b[0m__getitem__\u001b[0m\u001b[0;34m(\u001b[0m\u001b[0mself\u001b[0m\u001b[0;34m,\u001b[0m \u001b[0mname\u001b[0m\u001b[0;34m:\u001b[0m \u001b[0mstr\u001b[0m\u001b[0;34m)\u001b[0m \u001b[0;34m->\u001b[0m \u001b[0mnp\u001b[0m\u001b[0;34m.\u001b[0m\u001b[0mmemmap\u001b[0m\u001b[0;34m:\u001b[0m\u001b[0;34m\u001b[0m\u001b[0;34m\u001b[0m\u001b[0m\n\u001b[0;32m--> 202\u001b[0;31m         \u001b[0;32mreturn\u001b[0m \u001b[0mself\u001b[0m\u001b[0;34m.\u001b[0m\u001b[0m_name_to_memmap\u001b[0m\u001b[0;34m[\u001b[0m\u001b[0mname\u001b[0m\u001b[0;34m]\u001b[0m\u001b[0;34m\u001b[0m\u001b[0;34m\u001b[0m\u001b[0m\n\u001b[0m\u001b[1;32m    203\u001b[0m \u001b[0;34m\u001b[0m\u001b[0m\n\u001b[1;32m    204\u001b[0m     def append_empty(\n",
      "\u001b[0;31mKeyError\u001b[0m: 'max_combinations'"
     ]
    }
   ],
   "source": [
    "imput_geno.geno_in_stat(imput_sumstats.ss)"
   ]
  },
  {
   "cell_type": "code",
   "execution_count": 4,
   "id": "9fc51117",
   "metadata": {},
   "outputs": [
    {
     "data": {
      "text/plain": [
       "(         chrom                 snp        pos a0 a1\n",
       " 0            5      chr5:10043:T:A      10043  T  A\n",
       " 1            5      chr5:10055:T:A      10055  T  A\n",
       " 2            5      chr5:10056:A:C      10056  A  C\n",
       " 3            5      chr5:10058:C:A      10058  C  A\n",
       " 4            5      chr5:10059:C:A      10059  C  A\n",
       " ...        ...                 ...        ... .. ..\n",
       " 6070636      5  chr5:180902794:G:A  180902794  G  A\n",
       " 6070637      5  chr5:180902887:T:A  180902887  T  A\n",
       " 6070638      5  chr5:180903491:G:T  180903491  G  T\n",
       " 6070639      5  chr5:180904360:A:T  180904360  A  T\n",
       " 6070640      5  chr5:180904689:T:C  180904689  T  C\n",
       " \n",
       " [6070641 rows x 5 columns],\n",
       " None,\n",
       " <bgen_reader._bgen2.open_bgen at 0x2b1a4e295c70>)"
      ]
     },
     "execution_count": 4,
     "metadata": {},
     "output_type": "execute_result"
    }
   ],
   "source": [
    "read_bgen('/mnt/mfs/statgen/archive/UKBiobank_Yale_transfer/ukb39554_imputeddataset/ukb_imp_chr5_v3.bgen')"
   ]
  },
  {
   "cell_type": "code",
   "execution_count": null,
   "id": "186e48e2",
   "metadata": {},
   "outputs": [],
   "source": []
  }
 ],
 "metadata": {
  "kernelspec": {
   "display_name": "Python 3 (ipykernel)",
   "language": "python",
   "name": "python3"
  },
  "language_info": {
   "codemirror_mode": {
    "name": "ipython",
    "version": 3
   },
   "file_extension": ".py",
   "mimetype": "text/x-python",
   "name": "python",
   "nbconvert_exporter": "python",
   "pygments_lexer": "ipython3",
   "version": "3.8.5"
  }
 },
 "nbformat": 4,
 "nbformat_minor": 5
}
