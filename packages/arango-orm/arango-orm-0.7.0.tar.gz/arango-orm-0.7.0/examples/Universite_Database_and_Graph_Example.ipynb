{
 "cells": [
  {
   "cell_type": "code",
   "execution_count": 32,
   "metadata": {
    "collapsed": true
   },
   "outputs": [],
   "source": [
    "import sys\n",
    "from pprint import pprint as pp\n",
    "\n",
    "from arango import ArangoClient\n",
    "from arango_orm.collections import Collection, Relation\n",
    "from arango_orm.database import Database\n",
    "from arango_orm.graph import Graph, GraphConnection\n",
    "from marshmallow import Schema\n",
    "from marshmallow.fields import String, Integer, Boolean\n",
    "\n",
    "\n",
    "class Student(Collection):\n",
    "    __collection__ = 'students'\n",
    "\n",
    "    class _Schema(Schema):\n",
    "        _key = String(required=True)  # registration number\n",
    "        name = String(required=True, allow_none=False)\n",
    "        age = Integer()\n",
    "\n",
    "    def __str__(self):\n",
    "        return \"<Student({},{})>\".format(self._key, self.name)\n",
    "\n",
    "\n",
    "class Teacher(Collection):\n",
    "    __collection__ = 'teachers'\n",
    "\n",
    "    class _Schema(Schema):\n",
    "        _key = String(required=True)  # employee id\n",
    "        name = String(required=True)\n",
    "\n",
    "    def __str__(self):\n",
    "        return \"<Teacher({})>\".format(self.name)\n",
    "\n",
    "\n",
    "class Subject(Collection):\n",
    "    __collection__ = 'subjects'\n",
    "\n",
    "    class _Schema(Schema):\n",
    "        _key = String(required=True)  # subject code\n",
    "        name = String(required=True)\n",
    "        credit_hours = Integer()\n",
    "        has_labs = Boolean(missing=True)\n",
    "\n",
    "    def __str__(self):\n",
    "        return \"<Subject({})>\".format(self.name)\n",
    "\n",
    "\n",
    "class Area(Collection):\n",
    "    __collection__ = 'areas'\n",
    "\n",
    "    class _Schema(Schema):\n",
    "        _key = String(required=True)  # area name\n",
    "\n",
    "\n",
    "class SpecializesIn(Relation):\n",
    "    __collection__ = 'specializes_in'\n",
    "\n",
    "    class _Schema(Schema):\n",
    "        expertise_level = String(required=True, options=[\"expert\", \"medium\", \"basic\"])\n",
    "#         _key = String(required=True)\n",
    "\n",
    "    def __str__(self):\n",
    "        return \"<SpecializesIn(_key={}, expertise_level={}, _from={}, _to={})>\".format(\n",
    "            self._key, self.expertise_level, self._from, self._to)\n",
    "\n",
    "\n",
    "class UniversityGraph(Graph):\n",
    "    __graph__ = 'university_graph'\n",
    "\n",
    "    graph_connections = [\n",
    "        # Using general Relation class for relationship\n",
    "        GraphConnection(Student, Relation(\"studies\"), Subject),\n",
    "        GraphConnection(Teacher, Relation(\"teaches\"), Subject),\n",
    "        GraphConnection(Teacher, Relation(\"teacher\"), Student),\n",
    "\n",
    "        # Using specific classes for vertex and edges\n",
    "        GraphConnection(Teacher, SpecializesIn, Subject),\n",
    "        GraphConnection([Teacher, Student], Relation(\"resides_in\"), Area)\n",
    "\n",
    "    ]"
   ]
  },
  {
   "cell_type": "code",
   "execution_count": 33,
   "metadata": {
    "collapsed": true
   },
   "outputs": [],
   "source": [
    "db_name = 'db_test'\n",
    "username = 'root'\n",
    "password = ''\n",
    "\n",
    "#initalize Arango Client\n",
    "client = ArangoClient(username=username, password=password, verify=True)"
   ]
  },
  {
   "cell_type": "code",
   "execution_count": 49,
   "metadata": {
    "collapsed": false
   },
   "outputs": [],
   "source": [
    "# delete Test Database\n",
    "try:\n",
    "    client.delete_database(name=db_name)\n",
    "except: pass"
   ]
  },
  {
   "cell_type": "code",
   "execution_count": 50,
   "metadata": {
    "collapsed": true
   },
   "outputs": [],
   "source": [
    "# Creat database or using exist\n",
    "try:\n",
    "    test_db = client.create_database(name=db_name)\n",
    "except:\n",
    "    test_db = client.db(db_name)\n",
    "\n",
    "# db object\n",
    "db = Database(test_db)"
   ]
  },
  {
   "cell_type": "code",
   "execution_count": 51,
   "metadata": {
    "collapsed": true
   },
   "outputs": [],
   "source": [
    "# Create a graph connection object\n",
    "uni_graph = UniversityGraph(connection=db)"
   ]
  },
  {
   "cell_type": "code",
   "execution_count": 52,
   "metadata": {
    "collapsed": true
   },
   "outputs": [],
   "source": [
    "# Create graph and collection\n",
    "db.create_graph(uni_graph)"
   ]
  },
  {
   "cell_type": "code",
   "execution_count": 53,
   "metadata": {
    "collapsed": false
   },
   "outputs": [],
   "source": [
    "# Add Test data in base\n",
    "\n",
    "students_data = [\n",
    "    Student(_key='S1001', name='John Wayne', age=30),\n",
    "    Student(_key='S1002', name='Lilly Parker', age=22),\n",
    "    Student(_key='S1003', name='Cassandra Nix', age=25),\n",
    "    Student(_key='S1004', name='Peter Parker', age=20)\n",
    "]\n",
    "\n",
    "teachers_data = [\n",
    "    Teacher(_key='T001', name='Bruce Wayne'),\n",
    "    Teacher(_key='T002', name='Barry Allen'),\n",
    "    Teacher(_key='T003', name='Amanda Waller')\n",
    "]\n",
    "\n",
    "subjects_data = [\n",
    "    Subject(_key='ITP101', name='Introduction to Programming', credit_hours=4, has_labs=True),\n",
    "    Subject(_key='CS102', name='Computer History', credit_hours=3, has_labs=False),\n",
    "    Subject(_key='CSOOP02', name='Object Oriented Programming', credit_hours=3, has_labs=True),\n",
    "]\n",
    "\n",
    "specializations_data = [\n",
    "    SpecializesIn(_from=\"teachers/T001\", _to=\"subjects\", expertise_level=\"medium\")\n",
    "]\n",
    "\n",
    "areas_data = [\n",
    "    Area(_key=\"Gotham\"),\n",
    "    Area(_key=\"Metropolis\"),\n",
    "    Area(_key=\"StarCity\")\n",
    "]\n",
    "\n",
    "for L in [students_data,teachers_data,subjects_data,areas_data]:\n",
    "    for v in L:\n",
    "        db.add(v)"
   ]
  },
  {
   "cell_type": "code",
   "execution_count": 54,
   "metadata": {
    "collapsed": true
   },
   "outputs": [],
   "source": [
    "# Get the document object added in the previous step\n",
    "\n",
    "gotham = db.query(Area).by_key(\"Gotham\")\n",
    "metropolis = db.query(Area).by_key(\"Metropolis\")\n",
    "star_city = db.query(Area).by_key(\"StarCity\")\n",
    "\n",
    "john_wayne = db.query(Student).by_key(\"S1001\")\n",
    "lilly_parker = db.query(Student).by_key(\"S1002\")\n",
    "cassandra_nix = db.query(Student).by_key(\"S1003\")\n",
    "peter_parker = db.query(Student).by_key(\"S1004\")\n",
    "\n",
    "intro_to_prog = db.query(Subject).by_key(\"ITP101\")\n",
    "comp_history = db.query(Subject).by_key(\"CS102\")\n",
    "oop = db.query(Subject).by_key(\"CSOOP02\")\n",
    "\n",
    "barry_allen = db.query(Teacher).by_key(\"T002\")\n",
    "bruce_wayne = db.query(Teacher).by_key(\"T001\")\n",
    "amanda_waller = db.query(Teacher).by_key(\"T003\")"
   ]
  },
  {
   "cell_type": "code",
   "execution_count": 62,
   "metadata": {
    "collapsed": false
   },
   "outputs": [],
   "source": [
    "# Create EDGE. of the structure in dictionary. or the same step by step in the commented out lines below\n",
    "REL = {\n",
    "    Relation:{\n",
    "        \"studies\":{\n",
    "            peter_parker:[\n",
    "                oop,\n",
    "                intro_to_prog,\n",
    "            ],\n",
    "            john_wayne:[\n",
    "                oop,\n",
    "                comp_history,\n",
    "            ],\n",
    "            lilly_parker:[\n",
    "                intro_to_prog,\n",
    "                comp_history,\n",
    "            ],\n",
    "            cassandra_nix:[\n",
    "                oop,\n",
    "                intro_to_prog,\n",
    "            ],\n",
    "        },\n",
    "        \"teacher\":{\n",
    "            bruce_wayne:[\n",
    "                peter_parker,\n",
    "                john_wayne,\n",
    "                lilly_parker,\n",
    "            ],\n",
    "        },\n",
    "        \"teaches\":{\n",
    "            bruce_wayne:[oop],\n",
    "            barry_allen:[intro_to_prog],\n",
    "            amanda_waller:[comp_history],\n",
    "        },\n",
    "        \"resides_in\":{\n",
    "            bruce_wayne:[gotham],\n",
    "            barry_allen:[star_city],\n",
    "            amanda_waller:[metropolis],\n",
    "            john_wayne:[gotham],\n",
    "            lilly_parker:[metropolis],\n",
    "            cassandra_nix:[star_city],\n",
    "            peter_parker:[metropolis],\n",
    "        }\n",
    "    },\n",
    "    SpecializesIn:{\n",
    "        \"expert\":{\n",
    "            barry_allen:[\n",
    "                oop,\n",
    "                intro_to_prog,\n",
    "            ],\n",
    "            bruce_wayne:[\n",
    "                comp_history,            \n",
    "            ],\n",
    "        },\n",
    "        \"medium\":{\n",
    "            bruce_wayne:[\n",
    "                oop,\n",
    "            ]\n",
    "        },\n",
    "        \"basic\":{\n",
    "            amanda_waller:[\n",
    "                intro_to_prog,\n",
    "            ],\n",
    "        },\n",
    "    },\n",
    "}\n",
    "\n",
    "def traverse_dict(D):\n",
    "    for RelationType in D:\n",
    "        for RelationName in D[RelationType]:\n",
    "            if RelationType == SpecializesIn:\n",
    "                val = {'expertise_level':RelationName}\n",
    "            else:\n",
    "                val = {'collection_name':RelationName}\n",
    "            for _from in D[RelationType][RelationName]:\n",
    "                for _to in D[RelationType][RelationName][_from]:\n",
    "                    db.add(uni_graph.relation(_from,RelationType(**val),_to))\n",
    "\n",
    "\n",
    "traverse_dict(REL)\n",
    "                    \n",
    "# db.add(uni_graph.relation(peter_parker, Relation(\"studies\"), oop))\n",
    "# db.add(uni_graph.relation(peter_parker, Relation(\"studies\"), intro_to_prog))\n",
    "# db.add(uni_graph.relation(john_wayne, Relation(\"studies\"), oop))\n",
    "# db.add(uni_graph.relation(john_wayne, Relation(\"studies\"), comp_history))\n",
    "# db.add(uni_graph.relation(lilly_parker, Relation(\"studies\"), intro_to_prog))\n",
    "# db.add(uni_graph.relation(lilly_parker, Relation(\"studies\"), comp_history))\n",
    "# db.add(uni_graph.relation(cassandra_nix, Relation(\"studies\"), oop))\n",
    "# db.add(uni_graph.relation(cassandra_nix, Relation(\"studies\"), intro_to_prog))\n",
    "\n",
    "# db.add(uni_graph.relation(barry_allen, SpecializesIn(expertise_level=\"expert\"), oop))\n",
    "# db.add(uni_graph.relation(barry_allen, SpecializesIn(expertise_level=\"expert\"), intro_to_prog))\n",
    "# db.add(uni_graph.relation(bruce_wayne, SpecializesIn(expertise_level=\"medium\"), oop))\n",
    "# db.add(uni_graph.relation(bruce_wayne, SpecializesIn(expertise_level=\"expert\"), comp_history))\n",
    "# db.add(uni_graph.relation(amanda_waller, SpecializesIn(expertise_level=\"basic\"), intro_to_prog))\n",
    "# db.add(uni_graph.relation(amanda_waller, SpecializesIn(expertise_level=\"medium\"), comp_history))\n",
    "\n",
    "# db.add(uni_graph.relation(bruce_wayne, Relation(\"teacher\"), peter_parker))\n",
    "# db.add(uni_graph.relation(bruce_wayne, Relation(\"teacher\"), john_wayne))\n",
    "# db.add(uni_graph.relation(bruce_wayne, Relation(\"teacher\"), lilly_parker))\n",
    "\n",
    "# db.add(uni_graph.relation(bruce_wayne, Relation(\"teaches\"), oop))\n",
    "# db.add(uni_graph.relation(barry_allen, Relation(\"teaches\"), intro_to_prog))\n",
    "# db.add(uni_graph.relation(amanda_waller, Relation(\"teaches\"), comp_history))\n",
    "\n",
    "# db.add(uni_graph.relation(bruce_wayne, Relation(\"resides_in\"), gotham))\n",
    "# db.add(uni_graph.relation(barry_allen, Relation(\"resides_in\"), star_city))\n",
    "# db.add(uni_graph.relation(amanda_waller, Relation(\"resides_in\"), metropolis))\n",
    "# db.add(uni_graph.relation(john_wayne, Relation(\"resides_in\"), gotham))\n",
    "# db.add(uni_graph.relation(lilly_parker, Relation(\"resides_in\"), metropolis))\n",
    "# db.add(uni_graph.relation(cassandra_nix, Relation(\"resides_in\"), star_city))\n",
    "# db.add(uni_graph.relation(peter_parker, Relation(\"resides_in\"), metropolis))"
   ]
  },
  {
   "cell_type": "code",
   "execution_count": 64,
   "metadata": {
    "collapsed": false
   },
   "outputs": [
    {
     "name": "stdout",
     "output_type": "stream",
     "text": [
      "{'resides_in': [<Relation(_key=5690800, _from=teachers/T001, _to=areas/Gotham)>,\n",
      "                <Relation(_key=5690912, _from=teachers/T001, _to=areas/Gotham)>],\n",
      " 'specializes_in': [<SpecializesIn(_key=5690854, expertise_level=medium, _from=teachers/T001, _to=subjects/CSOOP02)>,\n",
      "                    <SpecializesIn(_key=5690973, expertise_level=expert, _from=teachers/T001, _to=subjects/CS102)>,\n",
      "                    <SpecializesIn(_key=5690966, expertise_level=medium, _from=teachers/T001, _to=subjects/CSOOP02)>,\n",
      "                    <SpecializesIn(_key=5690861, expertise_level=expert, _from=teachers/T001, _to=subjects/CS102)>],\n",
      " 'teacher': [<Relation(_key=5690819, _from=teachers/T001, _to=students/S1004)>,\n",
      "             <Relation(_key=5690938, _from=teachers/T001, _to=students/S1002)>,\n",
      "             <Relation(_key=5690935, _from=teachers/T001, _to=students/S1001)>,\n",
      "             <Relation(_key=5690931, _from=teachers/T001, _to=students/S1004)>,\n",
      "             <Relation(_key=5690826, _from=teachers/T001, _to=students/S1002)>,\n",
      "             <Relation(_key=5690823, _from=teachers/T001, _to=students/S1001)>],\n",
      " 'teaches': [<Relation(_key=5690809, _from=teachers/T001, _to=subjects/CSOOP02)>,\n",
      "             <Relation(_key=5690921, _from=teachers/T001, _to=subjects/CSOOP02)>]}\n"
     ]
    }
   ],
   "source": [
    "bruce = db.query(Teacher).by_key(\"T001\")\n",
    "uni_graph.expand(bruce, depth=1, direction='any')\n",
    "\n",
    "# bruce relations\n",
    "pp(bruce._relations)"
   ]
  },
  {
   "cell_type": "code",
   "execution_count": 65,
   "metadata": {
    "collapsed": false
   },
   "outputs": [
    {
     "name": "stdout",
     "output_type": "stream",
     "text": [
      "<Student(S1004,Peter Parker)>\n",
      "<Student(S1002,Lilly Parker)>\n",
      "<Student(S1001,John Wayne)>\n",
      "<Student(S1004,Peter Parker)>\n",
      "<Student(S1002,Lilly Parker)>\n",
      "<Student(S1001,John Wayne)>\n"
     ]
    }
   ],
   "source": [
    "# All Students of Bruce\n",
    "students_of_bruce = [r._next for r in bruce._relations['teacher']]\n",
    "for s in students_of_bruce:\n",
    "    pp(s)"
   ]
  },
  {
   "cell_type": "code",
   "execution_count": 21,
   "metadata": {
    "collapsed": false
   },
   "outputs": [],
   "source": [
    "# delete graph and colections\n",
    "db.drop_graph(uni_graph)"
   ]
  },
  {
   "cell_type": "code",
   "execution_count": null,
   "metadata": {
    "collapsed": true
   },
   "outputs": [],
   "source": [
    "# delete Test Database\n",
    "try:\n",
    "    client.delete_database(name=db_name)\n",
    "except: pass"
   ]
  }
 ],
 "metadata": {
  "kernelspec": {
   "display_name": "Python 3",
   "language": "python",
   "name": "python3"
  },
  "language_info": {
   "codemirror_mode": {
    "name": "ipython",
    "version": 3
   },
   "file_extension": ".py",
   "mimetype": "text/x-python",
   "name": "python",
   "nbconvert_exporter": "python",
   "pygments_lexer": "ipython3",
   "version": "3.5.2"
  }
 },
 "nbformat": 4,
 "nbformat_minor": 1
}
